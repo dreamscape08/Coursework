{
 "metadata": {
  "language_info": {
   "codemirror_mode": {
    "name": "ipython",
    "version": 3
   },
   "file_extension": ".py",
   "mimetype": "text/x-python",
   "name": "python",
   "nbconvert_exporter": "python",
   "pygments_lexer": "ipython3",
   "version": "3.8.5-final"
  },
  "orig_nbformat": 2,
  "kernelspec": {
   "name": "python3",
   "display_name": "Python 3.8.5 64-bit",
   "metadata": {
    "interpreter": {
     "hash": "082e9a3bcad0a290d0001e938aa60b99250c6c2ef33a923c00b70f9826caf4b7"
    }
   }
  }
 },
 "nbformat": 4,
 "nbformat_minor": 2,
 "cells": [
  {
   "cell_type": "code",
   "execution_count": 1,
   "metadata": {},
   "outputs": [],
   "source": [
    "#Import libraries\n",
    "import csv\n",
    "from pathlib import Path"
   ]
  },
  {
   "cell_type": "code",
   "execution_count": 2,
   "metadata": {},
   "outputs": [],
   "source": [
    "#Set file paths for menu_data.csv and sales_data.csv\n",
    "menu_path= Path('../02Python_Analysis/PyRamen/menu_data.csv')\n",
    "sales_path= Path('../02Python_Analysis/PyRamen/sales_data.csv')"
   ]
  },
  {
   "cell_type": "code",
   "execution_count": 3,
   "metadata": {},
   "outputs": [],
   "source": [
    "menu = []\n",
    "#item=[]\n",
    "#price=[]\n",
    "#cost=[]\n",
    "#Read in the menu data into the menu list\n",
    "with open(menu_path,'r') as menu_data:\n",
    "    csvreader = csv.reader(menu_data, delimiter=',')\n",
    "    csv_header = next(csvreader)\n",
    "    for data in csv.reader(menu_data):\n",
    "        menu.append(data)\n",
    "        #item.append(data[0])\n",
    "        #price.append(data[3])\n",
    "        #cost.append(data[4])"
   ]
  },
  {
   "cell_type": "code",
   "execution_count": 4,
   "metadata": {
    "tags": []
   },
   "outputs": [],
   "source": [
    "sales = []\n",
    "report = {}\n",
    "\n",
    "#Read in the sales data into the sales list\n",
    "with open(sales_path,'r') as sales_data:\n",
    "    csvreader = csv.reader(sales_data, delimiter=',')\n",
    "    csv_header = next(csvreader)\n",
    "    for row in csv.reader(sales_data):\n",
    "        sales.append(row)\n",
    "        #sales_item = row[4]\n",
    "        #quantity = int(row[3])           "
   ]
  },
  {
   "cell_type": "code",
   "execution_count": 5,
   "metadata": {},
   "outputs": [],
   "source": [
    "# Initialize a row counter variable\n",
    "row_count =0\n",
    "count= 0\n",
    "revenue = 0\n",
    "cogs = 0 \n",
    "net_profit = 0"
   ]
  },
  {
   "cell_type": "code",
   "execution_count": 7,
   "metadata": {
    "tags": []
   },
   "outputs": [
    {
     "output_type": "stream",
     "name": "stdout",
     "text": [
      "{'spicy miso ramen': {'count': 18476, 'revenue': 0, 'cogs': 0, 'net_profit': 0}, 'tori paitan ramen': {'count': 18312, 'revenue': 0, 'cogs': 0, 'net_profit': 0}, 'truffle butter ramen': {'count': 17964, 'revenue': 0, 'cogs': 0, 'net_profit': 0}, 'tonkotsu ramen': {'count': 18576, 'revenue': 0, 'cogs': 0, 'net_profit': 0}, 'vegetarian spicy miso': {'count': 18432, 'revenue': 0, 'cogs': 0, 'net_profit': 0}, 'shio ramen': {'count': 18360, 'revenue': 0, 'cogs': 0, 'net_profit': 0}, 'miso crab ramen': {'count': 17780, 'revenue': 0, 'cogs': 0, 'net_profit': 0}, 'nagomi shoyu': {'count': 18264, 'revenue': 0, 'cogs': 0, 'net_profit': 0}, 'soft-shell miso crab ramen': {'count': 18260, 'revenue': 0, 'cogs': 0, 'net_profit': 0}, 'burnt garlic tonkotsu ramen': {'count': 18140, 'revenue': 0, 'cogs': 0, 'net_profit': 0}, 'vegetarian curry + king trumpet mushroom ramen': {'count': 17648, 'revenue': 0, 'cogs': 0, 'net_profit': 0}}\n"
     ]
    },
    {
     "output_type": "error",
     "ename": "IndexError",
     "evalue": "list index out of range",
     "traceback": [
      "\u001b[0;31m---------------------------------------------------------------------------\u001b[0m",
      "\u001b[0;31mIndexError\u001b[0m                                Traceback (most recent call last)",
      "\u001b[0;32m<ipython-input-7-85bd1530d6fc>\u001b[0m in \u001b[0;36m<module>\u001b[0;34m\u001b[0m\n\u001b[1;32m     15\u001b[0m     \u001b[0mitem\u001b[0m\u001b[0;34m=\u001b[0m\u001b[0mline\u001b[0m\u001b[0;34m[\u001b[0m\u001b[0;36m0\u001b[0m\u001b[0;34m]\u001b[0m\u001b[0;34m\u001b[0m\u001b[0;34m\u001b[0m\u001b[0m\n\u001b[1;32m     16\u001b[0m     \u001b[0mprice\u001b[0m\u001b[0;34m=\u001b[0m\u001b[0mline\u001b[0m\u001b[0;34m[\u001b[0m\u001b[0;36m4\u001b[0m\u001b[0;34m]\u001b[0m\u001b[0;34m\u001b[0m\u001b[0;34m\u001b[0m\u001b[0m\n\u001b[0;32m---> 17\u001b[0;31m     \u001b[0mcost\u001b[0m\u001b[0;34m=\u001b[0m\u001b[0mline\u001b[0m\u001b[0;34m[\u001b[0m\u001b[0;36m5\u001b[0m\u001b[0;34m]\u001b[0m\u001b[0;34m\u001b[0m\u001b[0;34m\u001b[0m\u001b[0m\n\u001b[0m\u001b[1;32m     18\u001b[0m     \u001b[0;32mif\u001b[0m \u001b[0mitem\u001b[0m \u001b[0;32min\u001b[0m \u001b[0mreport\u001b[0m\u001b[0;34m.\u001b[0m\u001b[0mkeys\u001b[0m\u001b[0;34m(\u001b[0m\u001b[0;34m)\u001b[0m\u001b[0;34m:\u001b[0m\u001b[0;34m\u001b[0m\u001b[0;34m\u001b[0m\u001b[0m\n\u001b[1;32m     19\u001b[0m         \u001b[0mreport\u001b[0m\u001b[0;34m\u001b[0m\u001b[0;34m\u001b[0m\u001b[0m\n",
      "\u001b[0;31mIndexError\u001b[0m: list index out of range"
     ]
    }
   ],
   "source": [
    "for sale in sales:\n",
    "    menu_item=sale[4]\n",
    "    count=int(sale[3])\n",
    "    if menu_item not in report.keys():\n",
    "        report[menu_item] = {\n",
    "        \"count\":count,\n",
    "        \"revenue\":revenue,\n",
    "        \"cogs\":cogs,\n",
    "        \"net_profit\":net_profit,}\n",
    "        row_count+=1\n",
    "    else: \n",
    "        report[menu_item]['count'] += count\n",
    "print(report)\n",
    "for line in menu:\n",
    "    item=line[0]\n",
    "    price=line[4]\n",
    "    cost=line[5]\n",
    "    if item in report.keys():\n",
    "        report[menu_item][]\n",
    " \n",
    "        \n",
    "\n",
    "# @TODO: Print out matching menu data\n",
    "\n",
    "            # @TODO: Cumulatively add up the metrics for each item key\n",
    "\n",
    "        # @TODO: Else, the sales item does not equal any fo the item in the menu data, therefore no match\n",
    "\n",
    "    # @TODO: Increment the row counter by 1\n",
    "\n",
    "# @TODO: Print total number of records in sales data\n",
    "\n",
    "# @TODO: Write out report to a text file (won't appear on the command line output)"
   ]
  },
  {
   "cell_type": "code",
   "execution_count": null,
   "metadata": {},
   "outputs": [],
   "source": []
  },
  {
   "cell_type": "code",
   "execution_count": null,
   "metadata": {},
   "outputs": [],
   "source": []
  }
 ]
}