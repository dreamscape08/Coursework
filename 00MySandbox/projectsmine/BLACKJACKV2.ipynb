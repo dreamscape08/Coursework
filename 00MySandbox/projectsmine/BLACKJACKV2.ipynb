{
 "cells": [
  {
   "cell_type": "markdown",
   "metadata": {},
   "source": [
    "# House of Requests"
   ]
  },
  {
   "cell_type": "markdown",
   "metadata": {},
   "source": [
    "Use the `Deck of Cards` API to play a game of BlackJack with a partner. Parameterize the `Deck of Cards` API `request urls` in order to create the deck of cards, as well as draw cards for the game."
   ]
  },
  {
   "cell_type": "code",
   "execution_count": 1,
   "metadata": {},
   "outputs": [],
   "source": [
    "\n",
    "import requests\n",
    "import json\n",
    "from pprint import pprint\n",
    "import cv2\n",
    "from PIL import Image\n",
    "import matplotlib.pyplot as plt\n",
    "\n",
    "#response = requests.get(url, stream=True)\n",
    "#img = Image.open(response.raw)\n",
    "#plt.imshow(img)\n",
    "#plt.show()\n",
    "#img = cv2.imread('D:/my-image.png') \n",
    "#show image\n",
    "#cv2.imshow('Example - Show image in window',img) \n",
    "#cv2.waitKey(0) # waits until a key is pressed\n",
    "#cv2.destroyAllWindows() # destroys the window showing image"
   ]
  },
  {
   "source": [
    "old_game_id = ''\n",
    "player_1 = []\n",
    "dealer = []\n",
    "dealerturn = True "
   ],
   "cell_type": "code",
   "metadata": {},
   "execution_count": 2,
   "outputs": []
  },
  {
   "cell_type": "code",
   "execution_count": 6,
   "metadata": {},
   "outputs": [],
   "source": [
    "new_deck_url = \"https://deckofcardsapi.com/api/deck/new/shuffle/?deck_count=1\"\n",
    "new_deck = requests.get(new_deck_url).json()\n",
    "deck_id = new_deck['deck_id']\n",
    "values = {'QUEEN' : '10',\n",
    "          'KING' : '10',\n",
    "          'JACK' : '10',\n",
    "          'ACE' : ('1 or 11')}"
   ]
  },
  {
   "cell_type": "code",
   "execution_count": 44,
   "metadata": {},
   "outputs": [],
   "source": [
    "def draw_2():\n",
    "    if dealerturn == True:\n",
    "        deck_id = new_deck['deck_id']\n",
    "        draw_2_url = f'https://deckofcardsapi.com/api/deck/{deck_id}/draw/?count=2'\n",
    "        draw_2 = requests.get(draw_2_url).json()\n",
    "        card_1=draw_2['cards'][0]['value']\n",
    "        card_2=draw_2['cards'][1]['value']\n",
    "        for x in values:\n",
    "            if card_1 = x \n",
    "             \n",
    "               \n",
    "\n",
    "        print(f'{card_2}')\n",
    "\n",
    "    return  print(f'{card_2}') \n",
    "    print((json.dumps(draw_2, indent=4)))\n",
    "\n"
   ]
  },
  {
   "cell_type": "code",
   "execution_count": 7,
   "metadata": {},
   "outputs": [
    {
     "output_type": "execute_result",
     "data": {
      "text/plain": [
       "'10'"
      ]
     },
     "metadata": {},
     "execution_count": 7
    }
   ],
   "source": [
    "values[\"QUEEN\"]"
   ]
  },
  {
   "cell_type": "code",
   "execution_count": 10,
   "metadata": {},
   "outputs": [
    {
     "output_type": "stream",
     "name": "stdout",
     "text": [
      "{'cards': [{'code': '5D',\n            'image': 'https://deckofcardsapi.com/static/img/5D.png',\n            'images': {'png': 'https://deckofcardsapi.com/static/img/5D.png',\n                       'svg': 'https://deckofcardsapi.com/static/img/5D.svg'},\n            'suit': 'DIAMONDS',\n            'value': '5'},\n           {'code': '0D',\n            'image': 'https://deckofcardsapi.com/static/img/0D.png',\n            'images': {'png': 'https://deckofcardsapi.com/static/img/0D.png',\n                       'svg': 'https://deckofcardsapi.com/static/img/0D.svg'},\n            'suit': 'DIAMONDS',\n            'value': '10'}],\n 'deck_id': '0zy463smlmf6',\n 'remaining': 48,\n 'success': True}\n"
     ]
    }
   ],
   "source": [
    "draw_2_url = f'https://deckofcardsapi.com/api/deck/{deck_id}/draw/?count=2'\n",
    "draw_2 = requests.get(draw_2_url).json()\n",
    "\n",
    "pprint(draw_2)"
   ]
  },
  {
   "cell_type": "code",
   "execution_count": null,
   "metadata": {},
   "outputs": [],
   "source": [
    "draw_1_url = f\"https://deckofcardsapi.com/api/deck/{deck_id}/draw/?count=1\"\n",
    "draw_1 = requests.get(draw_1_url).json()"
   ]
  },
  {
   "cell_type": "code",
   "execution_count": null,
   "metadata": {},
   "outputs": [],
   "source": [
    "shuffle_deck_url = f\"https://deckofcardsapi.com/api/deck/{deck_id}/shuffle/\"\n",
    "shuffle = requests.get(shuffle_deck_url).json()"
   ]
  },
  {
   "cell_type": "code",
   "execution_count": null,
   "metadata": {},
   "outputs": [],
   "source": []
  },
  {
   "cell_type": "code",
   "execution_count": null,
   "metadata": {},
   "outputs": [],
   "source": []
  },
  {
   "cell_type": "code",
   "execution_count": null,
   "metadata": {},
   "outputs": [],
   "source": []
  },
  {
   "cell_type": "code",
   "execution_count": null,
   "metadata": {},
   "outputs": [],
   "source": []
  },
  {
   "cell_type": "code",
   "execution_count": null,
   "metadata": {},
   "outputs": [],
   "source": []
  },
  {
   "cell_type": "code",
   "execution_count": 11,
   "metadata": {},
   "outputs": [],
   "source": [
    "\n",
    "def shuffle():\n",
    "    shuffle_self=input('Do you want to shuffle')\n",
    "    if shuffle_self == 'yes' or 'y' or 'YES' or 'Y':\n",
    "      print(requests.get(shuffle_deck_url).json())\n",
    "    \n",
    "def game():\n",
    "    new_game_choice=input('Do you want to start a new game or continue?')\n",
    "    if new_game_choice=='New'or'New Game'or 'NG'or 'new game'or'newgame'or'NewGame':\n",
    "        new_deck_url = \"https://deckofcardsapi.com/api/deck/new/shuffle/?deck_count=6\"\n",
    "        new_deck=requests.get(new_deck_url).json()\n",
    "        deck_id=new_deck['deck_id']\n",
    "        while new_game_choice=True:    \n",
    "            if game = 'win' or 'bust':\n",
    "                 new_deck_url = \"https://deckofcardsapi.com/api/deck/new/shuffle/?deck_count=6\"\n",
    "                 new_deck=requests.get(new_deck_url).json()\n",
    "                 deck_id=new_deck['deck_id']\n",
    "                 old_game_id.append(deck_id)\n",
    "    elif new_game_choice=='continue'or'C'or'c'or'cont'or'Continue'or'Cont'or'CONT':\n",
    "        deck_id=old_game_id\n",
    "def turn():\n",
    "    choice=input('whose_turn')\n",
    "    if choice=='mine':\n",
    "        draw_2_url = f'https://deckofcardsapi.com/api/deck/{deck_id}/draw/?count=2'\n",
    "        draw_2=requests.get(draw_2_url).json()\n",
    "        print(json.dumps(draw_2,indent=4))\n",
    "        print(json.dumps(shuffle,indent=4))\n",
    "    if choice=='dealers'or'player1'or'player2'or'player3':\n",
    "        dealers_draw=draw_2\n",
    "        print(json.dumps(shuffle,indent=4))"
   ]
  },
  {
   "cell_type": "code",
   "execution_count": 15,
   "metadata": {},
   "outputs": [],
   "source": [
    "new_game()"
   ]
  },
  {
   "cell_type": "code",
   "execution_count": 66,
   "metadata": {},
   "outputs": [
    {
     "output_type": "error",
     "ename": "AttributeError",
     "evalue": "'dict' object has no attribute 'draw_2'",
     "traceback": [
      "\u001b[0;31m---------------------------------------------------------------------------\u001b[0m",
      "\u001b[0;31mAttributeError\u001b[0m                            Traceback (most recent call last)",
      "\u001b[0;32m<ipython-input-66-ea68c1e9df9d>\u001b[0m in \u001b[0;36m<module>\u001b[0;34m\u001b[0m\n\u001b[0;32m----> 1\u001b[0;31m \u001b[0mfirst_turn\u001b[0m\u001b[0;34m=\u001b[0m\u001b[0mnew_deck\u001b[0m\u001b[0;34m.\u001b[0m\u001b[0mdraw_2\u001b[0m\u001b[0;34m\u001b[0m\u001b[0;34m\u001b[0m\u001b[0m\n\u001b[0m\u001b[1;32m      2\u001b[0m \u001b[0;34m\u001b[0m\u001b[0m\n",
      "\u001b[0;31mAttributeError\u001b[0m: 'dict' object has no attribute 'draw_2'"
     ]
    }
   ],
   "source": [
    "\n"
   ]
  },
  {
   "cell_type": "markdown",
   "metadata": {},
   "source": [
    "### Parse and extract `value` and `suit` elements from JSON output, for each card"
   ]
  },
  {
   "cell_type": "code",
   "execution_count": 51,
   "metadata": {},
   "outputs": [
    {
     "output_type": "error",
     "ename": "NameError",
     "evalue": "name 'player_1_card_1' is not defined",
     "traceback": [
      "\u001b[0;31m---------------------------------------------------------------------------\u001b[0m",
      "\u001b[0;31mNameError\u001b[0m                                 Traceback (most recent call last)",
      "\u001b[0;32m<ipython-input-51-b92518a8caf8>\u001b[0m in \u001b[0;36m<module>\u001b[0;34m\u001b[0m\n\u001b[1;32m      3\u001b[0m \u001b[0;34m\u001b[0m\u001b[0m\n\u001b[1;32m      4\u001b[0m \u001b[0;31m# Print player cards\u001b[0m\u001b[0;34m\u001b[0m\u001b[0;34m\u001b[0m\u001b[0;34m\u001b[0m\u001b[0m\n\u001b[0;32m----> 5\u001b[0;31m \u001b[0mprint\u001b[0m\u001b[0;34m(\u001b[0m\u001b[0mplayer_1_card_1\u001b[0m\u001b[0;34m)\u001b[0m\u001b[0;34m\u001b[0m\u001b[0;34m\u001b[0m\u001b[0m\n\u001b[0m\u001b[1;32m      6\u001b[0m \u001b[0mprint\u001b[0m\u001b[0;34m(\u001b[0m\u001b[0mplayer_1_card_2\u001b[0m\u001b[0;34m)\u001b[0m\u001b[0;34m\u001b[0m\u001b[0;34m\u001b[0m\u001b[0m\n",
      "\u001b[0;31mNameError\u001b[0m: name 'player_1_card_1' is not defined"
     ]
    }
   ],
   "source": [
    "# Select returned card's value and suit (i.e. 3 of clubs)\n",
    "\n",
    "\n",
    "# Print player cards\n",
    "print(player_1_card_1)\n",
    "print(player_1_card_2)"
   ]
  },
  {
   "cell_type": "markdown",
   "metadata": {},
   "source": [
    "### Decide whether to draw another card or skip to next player turn"
   ]
  },
  {
   "cell_type": "code",
   "execution_count": null,
   "metadata": {},
   "outputs": [],
   "source": [
    "# Draw a third card\n",
    "\n",
    "\n",
    "# Select returned card's value and suit (i.e. 3 of clubs)\n",
    "\n",
    "\n",
    "# Print player card\n",
    "print(player_1_card_3)"
   ]
  },
  {
   "cell_type": "markdown",
   "metadata": {},
   "source": [
    "### Manually calculate player 1 points and enter below"
   ]
  },
  {
   "cell_type": "markdown",
   "metadata": {},
   "source": [
    "Player 1 points = "
   ]
  },
  {
   "cell_type": "raw",
   "metadata": {},
   "source": []
  },
  {
   "cell_type": "markdown",
   "metadata": {},
   "source": [
    "## Player 2 / Dealer Turn"
   ]
  },
  {
   "cell_type": "code",
   "execution_count": null,
   "metadata": {},
   "outputs": [],
   "source": [
    "# Draw two cards for player 1\n",
    "\n",
    "\n",
    "# Select card value and suit \n",
    "\n",
    "\n",
    "# Print player cards\n",
    "print(player_2_card_1)\n",
    "print(player_2_card_2)\n",
    "\n",
    "# Draw third card for player 2\n",
    "\n",
    "\n",
    "# Print player card\n",
    "print(player_2_card_3)"
   ]
  },
  {
   "cell_type": "markdown",
   "metadata": {},
   "source": [
    "### Manually calculate player 2 points and enter below"
   ]
  },
  {
   "cell_type": "markdown",
   "metadata": {},
   "source": [
    "Player 2 points ="
   ]
  },
  {
   "cell_type": "raw",
   "metadata": {},
   "source": []
  }
 ],
 "metadata": {
  "kernelspec": {
   "display_name": "Python 3",
   "language": "python",
   "name": "python3"
  },
  "language_info": {
   "codemirror_mode": {
    "name": "ipython",
    "version": 3
   },
   "file_extension": ".py",
   "mimetype": "text/x-python",
   "name": "python",
   "nbconvert_exporter": "python",
   "pygments_lexer": "ipython3",
   "version": "3.8.5-final"
  }
 },
 "nbformat": 4,
 "nbformat_minor": 4
}