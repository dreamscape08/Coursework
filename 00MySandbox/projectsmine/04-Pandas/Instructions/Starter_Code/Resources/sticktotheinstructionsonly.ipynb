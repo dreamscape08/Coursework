{
 "cells": [
  {
   "source": [
    "# Initial imports\n",
    "import yfinance as yf\n",
    "import pandas as pd\n",
    "import numpy as np\n",
    "import datetime as dt\n",
    "from pathlib import Path\n",
    "import seaborn as sns\n",
    "%matplotlib inline\n",
    "#import matplotlib as plt\n",
    "whalepath=Path('whale_returns.csv')\n",
    "sp500path=Path('sp500_history.csv')\n",
    "algopath=Path('algo_returns.csv')\n",
    "\n",
    "\n",
    "\n",
    "\n",
    "#def grab(symbol,command,period,start,end):\n",
    "########################\n",
    "myportfoliostonks=['TSLA','FCEL','LUV','SLB','BP']\n",
    "for company in myportfoliostonks:\n",
    "    exec('{} = pd.DataFrame()'.format(company))\n",
    "    ticker=company\n",
    "    tickerData=yf.Ticker(ticker)\n",
    "    tickerDf = tickerData.history(period='1d',start='2020-12-20',end='2021-1-7').drop(columns=['Open','High','Low','Volume','Dividends','Stock Splits'])\n",
    "    #tickerDf.drop(columns=['Open','High','Low','Volume','Dividends','Stock Splits'])\n",
    "    print(tickerDf.shape)\n",
    "\n",
    "#tickerData.calendar\n",
    "#tickerData.recommendations\n",
    "tickerData.info\n",
    "######################"
   ],
   "cell_type": "code",
   "metadata": {},
   "execution_count": 2,
   "outputs": [
    {
     "output_type": "stream",
     "name": "stdout",
     "text": [
      "(11, 1)\n",
      "(11, 1)\n",
      "(11, 1)\n",
      "(11, 1)\n",
      "(11, 1)\n"
     ]
    },
    {
     "output_type": "execute_result",
     "data": {
      "text/plain": [
       "{'zip': 'SW1Y 4PD',\n",
       " 'sector': 'Energy',\n",
       " 'fullTimeEmployees': 67600,\n",
       " 'longBusinessSummary': 'BP PLC engages in the energy business worldwide. It operates through three segments: Upstream, Downstream, and Rosneft. The Upstream segment is involved in the oil and natural gas exploration, and field development and production; midstream transportation, storage, and processing; and marketing and trading of liquefied natural gas (LNG), biogas, power, and natural gas liquids (NGLs). This segment also engages in the ownership and management of crude oil and natural gas pipelines; processing facilities and export terminals; and LNG processing facilities and transportation, as well as NGLs processing business. The Downstream segment refines, manufactures, markets, transports, supplies, and trades in crude oil, petroleum, and petrochemical products and related services to wholesale and retail customers. It offers gasoline, diesel, and aviation fuels; lubricants, and related products and services to the automotive, industrial, marine, and energy markets under the Castrol, BP, and Aral brands; and petrochemical products, such as purified terephthalic acid, paraxylene, acetic acid, olefins and derivatives, and specialty petrochemical products. The Rosneft segment engages in the exploration and production of hydrocarbons, as well as jet fuel, bunkering, bitumen, and lubricants activities. This segment also owns and operates 13 refineries in Russia; and approximately 3,000 retail service stations in Russia and internationally. The company also produces ethanol, bio-isobutanol, bio-power, and solar energy; transports hydrocarbon products through time-chartered and spot-chartered vessels; and holds interests in wind sites. BP PLC was founded in 1889 and is headquartered in London, the United Kingdom.',\n",
       " 'city': 'London',\n",
       " 'phone': '44 20 7496 4000',\n",
       " 'country': 'United Kingdom',\n",
       " 'companyOfficers': [],\n",
       " 'website': 'http://www.bp.com',\n",
       " 'maxAge': 1,\n",
       " 'address1': \"1 St James's Square\",\n",
       " 'fax': '44 20 7496 4630',\n",
       " 'industry': 'Oil & Gas Integrated',\n",
       " 'previousClose': 24.4,\n",
       " 'regularMarketOpen': 23.76,\n",
       " 'twoHundredDayAverage': 20.43635,\n",
       " 'trailingAnnualDividendYield': 0.012909836,\n",
       " 'payoutRatio': None,\n",
       " 'volume24Hr': None,\n",
       " 'regularMarketDayHigh': 24.5,\n",
       " 'navPrice': None,\n",
       " 'averageDailyVolume10Day': 20360700,\n",
       " 'totalAssets': None,\n",
       " 'regularMarketPreviousClose': 24.4,\n",
       " 'fiftyDayAverage': 21.557188,\n",
       " 'trailingAnnualDividendRate': 0.315,\n",
       " 'open': 23.76,\n",
       " 'toCurrency': None,\n",
       " 'averageVolume10days': 20360700,\n",
       " 'expireDate': None,\n",
       " 'yield': None,\n",
       " 'algorithm': None,\n",
       " 'dividendRate': 1.26,\n",
       " 'exDividendDate': 1604534400,\n",
       " 'beta': 0.695097,\n",
       " 'circulatingSupply': None,\n",
       " 'startDate': None,\n",
       " 'regularMarketDayLow': 23.68,\n",
       " 'priceHint': 2,\n",
       " 'currency': 'USD',\n",
       " 'regularMarketVolume': 12398567,\n",
       " 'lastMarket': None,\n",
       " 'maxSupply': None,\n",
       " 'openInterest': None,\n",
       " 'marketCap': 82380750848,\n",
       " 'volumeAllCurrencies': None,\n",
       " 'strikePrice': None,\n",
       " 'averageVolume': 17279061,\n",
       " 'priceToSalesTrailing12Months': 0.40028158,\n",
       " 'dayLow': 23.68,\n",
       " 'ask': 24.35,\n",
       " 'ytdReturn': None,\n",
       " 'askSize': 21500,\n",
       " 'volume': 12398567,\n",
       " 'fiftyTwoWeekHigh': 39.07,\n",
       " 'forwardPE': 16.362415,\n",
       " 'fromCurrency': None,\n",
       " 'fiveYearAvgDividendYield': 7.17,\n",
       " 'fiftyTwoWeekLow': 14.74,\n",
       " 'bid': 24.34,\n",
       " 'tradeable': False,\n",
       " 'dividendYield': 0.051599998,\n",
       " 'bidSize': 900,\n",
       " 'dayHigh': 24.5,\n",
       " 'exchange': 'NYQ',\n",
       " 'shortName': 'BP p.l.c.',\n",
       " 'longName': 'BP p.l.c.',\n",
       " 'exchangeTimezoneName': 'America/New_York',\n",
       " 'exchangeTimezoneShortName': 'EST',\n",
       " 'isEsgPopulated': False,\n",
       " 'gmtOffSetMilliseconds': '-18000000',\n",
       " 'quoteType': 'EQUITY',\n",
       " 'symbol': 'BP',\n",
       " 'messageBoardId': 'finmb_394466',\n",
       " 'market': 'us_market',\n",
       " 'annualHoldingsTurnover': None,\n",
       " 'enterpriseToRevenue': 0.717,\n",
       " 'beta3Year': None,\n",
       " 'profitMargins': -0.105170004,\n",
       " 'enterpriseToEbitda': 8.527,\n",
       " '52WeekChange': -0.37113404,\n",
       " 'morningStarRiskRating': None,\n",
       " 'forwardEps': 1.49,\n",
       " 'revenueQuarterlyGrowth': None,\n",
       " 'sharesOutstanding': 3390769920,\n",
       " 'fundInceptionDate': None,\n",
       " 'annualReportExpenseRatio': None,\n",
       " 'bookValue': 20.136,\n",
       " 'sharesShort': 7633793,\n",
       " 'sharesPercentSharesOut': 0.0023,\n",
       " 'fundFamily': None,\n",
       " 'lastFiscalYearEnd': 1577750400,\n",
       " 'heldPercentInstitutions': 0.08239,\n",
       " 'netIncomeToCommon': -21645000704,\n",
       " 'trailingEps': -6.42,\n",
       " 'lastDividendValue': 0.315,\n",
       " 'SandP52WeekChange': 0.16317785,\n",
       " 'priceToBook': 1.2107668,\n",
       " 'heldPercentInsiders': 2.0000001e-05,\n",
       " 'nextFiscalYearEnd': 1640908800,\n",
       " 'mostRecentQuarter': 1601424000,\n",
       " 'shortRatio': 0.48,\n",
       " 'sharesShortPreviousMonthDate': 1605225600,\n",
       " 'floatShares': 3321331644,\n",
       " 'enterpriseValue': 147598868480,\n",
       " 'threeYearAverageReturn': None,\n",
       " 'lastSplitDate': 938995200,\n",
       " 'lastSplitFactor': '2:1',\n",
       " 'legalType': None,\n",
       " 'lastDividendDate': 1604534400,\n",
       " 'morningStarOverallRating': None,\n",
       " 'earningsQuarterlyGrowth': None,\n",
       " 'dateShortInterest': 1607990400,\n",
       " 'pegRatio': 6.12,\n",
       " 'lastCapGain': None,\n",
       " 'shortPercentOfFloat': None,\n",
       " 'sharesShortPriorMonth': 8079876,\n",
       " 'impliedSharesOutstanding': None,\n",
       " 'category': None,\n",
       " 'fiveYearAverageReturn': None,\n",
       " 'regularMarketPrice': 23.76,\n",
       " 'logo_url': 'https://logo.clearbit.com/bp.com'}"
      ]
     },
     "metadata": {},
     "execution_count": 2
    }
   ]
  },
  {
   "cell_type": "code",
   "execution_count": null,
   "metadata": {},
   "outputs": [],
   "source": [
    "myportfoliostonks=['TSLA','FCEL','LUV','SLB','BP']\n",
    "for company in myportfoliostonks:\n",
    "    ticker=company\n",
    "    tickerData=yf.Ticker(ticker)\n",
    "    tickerDf=tickerData.history(period='1d',start='2020-12-20',end='2021-1-7')\n",
    "    tickerDf.drop(columns=['Open','High','Low','Volume','Dividends','Stock Splits'])\n",
    "    print(tickerDF.head())\n"
   ]
  },
  {
   "cell_type": "code",
   "execution_count": null,
   "metadata": {},
   "outputs": [],
   "source": [
    "# Reading whale returns\n",
    "whale_df = pd.read_csv(whalepath\n",
    "                        , index_col= 'Date'\n",
    "                        , infer_datetime_format= True\n",
    "                        , parse_dates= True\n",
    "                    ).sort_index()\n"
   ]
  },
  {
   "cell_type": "code",
   "execution_count": null,
   "metadata": {},
   "outputs": [],
   "source": [
    "# Count nulls\n",
    "whale_df.isnull().sum()\n",
    "# Drop nulls\n",
    "whale_cleandf=whale_df.dropna()\n",
    "# Check Data\n",
    "whale_df.info()"
   ]
  },
  {
   "cell_type": "code",
   "execution_count": null,
   "metadata": {},
   "outputs": [],
   "source": [
    "# Reading algorithmic returns\n",
    "algo_df= pd.read_csv(algopath\n",
    "                    , index_col='Date'\n",
    "                    , infer_datetime_format=True\n",
    "                    , parse_dates=True\n",
    "                 ).sort_index()\n",
    "                "
   ]
  },
  {
   "cell_type": "code",
   "execution_count": null,
   "metadata": {},
   "outputs": [],
   "source": [
    "# Count nulls\n",
    "algo_df.isnull().sum()\n",
    "# Drop nulls\n",
    "algo_cleandf= algo_df.dropna()\n",
    "# Check Data/\n",
    "algo_cleandf.info()"
   ]
  },
  {
   "cell_type": "code",
   "execution_count": null,
   "metadata": {},
   "outputs": [],
   "source": [
    "# Reading S&P 500 Closing Prices\n",
    "sp500df= pd.read_csv(sp500path\n",
    "                    , index_col= 'Date'\n",
    "                    , infer_datetime_format= True\n",
    "                    , parse_dates= True\n",
    "                    ).sort_index()"
   ]
  },
  {
   "cell_type": "code",
   "execution_count": null,
   "metadata": {},
   "outputs": [],
   "source": [
    "# Count Nulls\n",
    "sp500df.isnull().sum().sum()\n",
    "# Fix Data Types\n",
    "sp500df[\"Close\"] = sp500df[\"Close\"].str.replace(\"$\", \"\").astype(\"float\")"
   ]
  },
  {
   "cell_type": "code",
   "execution_count": null,
   "metadata": {},
   "outputs": [],
   "source": [
    "# Calculate Daily Returns\n",
    "sp500dfrtns=sp500df.pct_change()"
   ]
  },
  {
   "cell_type": "code",
   "execution_count": null,
   "metadata": {},
   "outputs": [],
   "source": [
    "# Drop nulls & Rename `Close` Column to be specific to this portfolio.\n",
    "sp500cleaned=sp500dfrtns.dropna().rename(columns={\"Close\": \"S&P500 Returns\"})\n",
    "sp500cleaned.info()"
   ]
  },
  {
   "cell_type": "code",
   "execution_count": null,
   "metadata": {},
   "outputs": [],
   "source": [
    "# Join Whale Returns, Algorithmic Returns, and the S&P 500 Returns into a single DataFrame with columns for each portfolio's returns.\n",
    "combinedrtns = pd.concat([sp500cleaned,algo_cleandf,whale_cleandf], axis='columns', join='inner')\n",
    "combinedrtns.info()"
   ]
  },
  {
   "cell_type": "code",
   "execution_count": null,
   "metadata": {},
   "outputs": [],
   "source": [
    "# Plot daily returns of all portfolios\n",
    "combinedrtns.plot(\n",
    "            kind='line'\n",
    "            , figsize=(20,20)\n",
    "            , grid=True\n",
    "            , subplots=True\n",
    "            , fontsize=20\n",
    "            , ylim=[-.06,.06]\n",
    "            , rot=360\n",
    "            , lw=2\n",
    "        )\n",
    "    "
   ]
  },
  {
   "cell_type": "code",
   "execution_count": null,
   "metadata": {},
   "outputs": [],
   "source": [
    "# Calculate cumulative returns of all portfolios\n",
    "cum_rets = (1 + combinedrtns).cumprod()\n",
    "# Plot cumulative returns\n",
    "cum_rets.plot(\n",
    "        kind='line'\n",
    "        , figsize=(25,10)\n",
    "        , grid=True\n",
    "        , title=\"Portfolio Returns\"\n",
    "        , ylabel=\"Total Rtns\"\n",
    "        , xlabel='Date\\'s'\n",
    "        , rot=360\n",
    "        , fontsize=15\n",
    "        , color=['red','g','y','b','orange','pink','black']\n",
    "    )"
   ]
  },
  {
   "source": [
    "# Box plot to visually show risk\n",
    "cum_rets.plot(\n",
    "    kind='box'\n",
    "    , figsize=(25,10)\n",
    "    , grid=True \n",
    "    , title=\"Portfolio Returns\"\n",
    "    #, ylim=[-.2,.2]\n",
    "    , ylabel=\"Total Rtns\"\n",
    "    , rot=360\n",
    "    #\"\"\" fix this immmediatly \"\"\", whis = [0,0]\n",
    "    #, fontsize=15\n",
    ") "
   ],
   "cell_type": "code",
   "metadata": {},
   "execution_count": null,
   "outputs": []
  },
  {
   "cell_type": "code",
   "execution_count": null,
   "metadata": {},
   "outputs": [],
   "source": [
    "# Calculate the daily standard deviations of all portfolios\n",
    "daily_std=combinedrtns.std().sort_values()\n",
    "daily_std"
   ]
  },
  {
   "source": [
    "# my horrible attempt at making a more readable table to assess the most risky portfolios.\n",
    "daily_stdchart= pd.concat([daily_std],axis='columns',join='outer')\n",
    "bins = [0, 0.008553, 0.008555, 1]\n",
    "group_names = [\"Lower\", \"Benchmark\", \"Higher\"]\n",
    "daily_stdchart[\"Risk Level vs S&P500\"] = pd.cut(daily_stdchart[0], bins, labels=group_names)\n",
    "daily_stdchart.columns = ['STD','Risk Level']\n",
    "daily_stdchart\n"
   ],
   "cell_type": "code",
   "metadata": {},
   "execution_count": null,
   "outputs": []
  },
  {
   "cell_type": "code",
   "execution_count": null,
   "metadata": {},
   "outputs": [],
   "source": [
    "# Calculate  the daily standard deviation of S&P 500\n",
    "daily_std['S&P500 Returns'].round(6)\n",
    "# Determine which portfolios are riskier than the S&P 500\n",
    "print(f'The following Portfolios are riskier than the SP500: \\n\\n '\n",
    "      f'{daily_stdchart.iloc[5::]}')"
   ]
  },
  {
   "cell_type": "code",
   "execution_count": null,
   "metadata": {},
   "outputs": [],
   "source": [
    "# Calculate the annualized standard deviation (252 trading days)\n",
    "annual_std=daily_std*np.sqrt(252)\n",
    "annual_std.sort_values(inplace=True)\n",
    "annual_std.dtypes\n",
    "annual_std"
   ]
  },
  {
   "cell_type": "code",
   "execution_count": null,
   "metadata": {},
   "outputs": [],
   "source": [
    "# Calculate the rolling standard deviation for all portfolios using a 21-day window\n",
    "rolltwentyone=combinedrtns.rolling(window=21).std()\n",
    "# Plot the rolling standard deviation\n",
    "rolltwentyone.plot(\n",
    "              kind='line'\n",
    "            , figsize=(40,20)\n",
    "            , grid=True\n",
    "            #, subplots=True\n",
    "            , fontsize=12\n",
    "            , ylim=[0,.035]\n",
    "            , rot=360\n",
    "            , lw=2\n",
    "            , color=['r','b','b','g','g','g','g']\n",
    "        )"
   ]
  },
  {
   "cell_type": "code",
   "execution_count": null,
   "metadata": {},
   "outputs": [],
   "source": [
    "# Calculate the correlation\n",
    "correlation=combinedrtns.corr()\n",
    "# Display the correlation matrix\n",
    "print(correlation.sum(axis=0).sort_values())\n",
    "sns.set_theme(style='white')\n",
    "sns.heatmap(correlation, vmin=0, vmax=1,annot=True,)\n"
   ]
  },
  {
   "source": [
    "### Calculate and Plot Beta for a chosen portfolio and the S&P 500\n",
    "combinedrtns.keys()\n"
   ],
   "cell_type": "code",
   "metadata": {},
   "execution_count": null,
   "outputs": []
  },
  {
   "cell_type": "code",
   "execution_count": null,
   "metadata": {},
   "outputs": [],
   "source": [
    "#.  how the hell do i make this condensed into a for or if statement...can i create a custom bdate range datetimeIndex and assign it to a index column in a empty data series, then concat the inner data onto the needed dates?\n",
    "\n",
    "\n",
    "\n",
    "#1. Calculate and plot the rolling standard deviation for all portfolios using a 21-day window.\n",
    "#2. Calculate and plot the correlation between each stock to determine which portfolios may mimick the S&P 500.\n",
    "#3. Choose one portfolio, then calculate and plot the 60-day rolling beta between it and the S&P 500.\n",
    "# Calculate covariance of a single portfolio--i didnt know which one i wanted to do \n",
    "algo_1_cov=combinedrtns['Algo 1'].cov(combinedrtns['S&P500 Returns'])\n",
    "algo_2_cov=combinedrtns['Algo 2'].cov(combinedrtns['S&P500 Returns'])\n",
    "soros_cov=combinedrtns['SOROS FUND MANAGEMENT LLC'].cov(combinedrtns['S&P500 Returns'])\n",
    "paul_cov=combinedrtns['PAULSON & CO.INC. '].cov(combinedrtns['S&P500 Returns'])\n",
    "tiger_cov=combinedrtns['TIGER GLOBAL MANAGEMENT LLC'].cov(combinedrtns['S&P500 Returns'])\n",
    "buffet_cov=combinedrtns['BERKSHIRE HATHAWAY INC'].cov(combinedrtns['S&P500 Returns'])\n",
    "# Calculate variance of S&P 500\n",
    "variance=combinedrtns['S&P500 Returns'].var()\n",
    "# Computing beta\n",
    "algo_1_beta=algo_1_cov/variance\n",
    "algo_2_beta=algo_2_cov/variance\n",
    "soros_beta=soros_cov/variance\n",
    "paul_beta=paul_cov/variance\n",
    "tiger_beta=tiger_cov/variance\n",
    "buffet_beta=buffet_cov/variance\n",
    "# Calculate rolling covariance\n",
    "roll_algo_1_cov = combinedrtns['Algo 1'].rolling(window=21).cov(combinedrtns['S&P500 Returns'])\n",
    "roll_algo_2_cov = combinedrtns['Algo 2'].rolling(window=21).cov(combinedrtns['S&P500 Returns'])\n",
    "roll_soros_cov = combinedrtns['SOROS FUND MANAGEMENT LLC'].rolling(window=21).cov(combinedrtns['S&P500 Returns'])\n",
    "roll_paul_cov = combinedrtns['PAULSON & CO.INC. '].rolling(window=21).cov(combinedrtns['S&P500 Returns'])\n",
    "roll_tiger_cov = combinedrtns['TIGER GLOBAL MANAGEMENT LLC'].rolling(window=21).cov(combinedrtns['S&P500 Returns'])\n",
    "roll_buffet_cov = combinedrtns['BERKSHIRE HATHAWAY INC'].rolling(window=21).cov(combinedrtns['S&P500 Returns'])\n",
    "# Calculate rolling variance of sp500\n",
    "roll_variance = combinedrtns['S&P500 Returns'].rolling(window=60).var()\n",
    "# calulating rolling betas\n",
    "roll_algo_1_beta = roll_algo_1_cov / roll_variance\n",
    "roll_algo_2_beta = roll_algo_2_cov / roll_variance\n",
    "roll_soros_beta = roll_soros_cov / roll_variance\n",
    "roll_paul_beta = roll_paul_cov / roll_variance\n",
    "roll_tiger_beta = roll_tiger_cov / roll_variance\n",
    "roll_buffet_beta = roll_buffet_cov / roll_variance\n",
    "df=pd.concat([roll_algo_1_beta,roll_algo_2_beta,roll_soros_beta,roll_paul_beta,roll_tiger_beta,roll_buffet_beta], axis='columns', join='inner')\n",
    "#ploting these \n",
    "ax = roll_algo_1_beta.plot(figsize=(20, 10)\n",
    "                            , title='Rolling 60-Day Beta of Portfolios'\n",
    "                            , grid = True\n",
    "                            , rot=360);\n",
    "roll_algo_2_beta.plot(ax=ax\n",
    "                     , rot=360\n",
    "                     , grid = True)\n",
    "roll_soros_beta.plot(ax=ax\n",
    "                     , rot=360\n",
    "                     , grid = True)\n",
    "roll_paul_beta.plot(ax=ax\n",
    "                     , rot=360\n",
    "                     , grid = True)\n",
    "roll_tiger_beta.plot(ax=ax\n",
    "                     , rot=360\n",
    "                     , grid = True)\n",
    "roll_buffet_beta.plot(ax=ax\n",
    "                     , rot=360\n",
    "                     , grid = True)\n",
    "ax.legend(['Algo 1', 'Algo 2', 'SOROS FUND MANAGEMENT LLC',\n",
    "              'PAULSON & CO.INC. ', 'TIGER GLOBAL MANAGEMENT LLC',\n",
    "              'BERKSHIRE HATHAWAY INC'])\n",
    "df.plot(kind='line').legend(['Algo 1', 'Algo 2', 'SOROS FUND MANAGEMENT LLC',\n",
    "       'PAULSON & CO.INC. ', 'TIGER GLOBAL MANAGEMENT LLC',\n",
    "       'BERKSHIRE HATHAWAY INC'])"
   ]
  },
  {
   "source": [
    "## Rolling Statistics Challenge: Exponentially Weighted Average \n",
    "\n",
    "An alternative way to calculate a rolling window is to take the exponentially weighted moving average. This is like a moving window average, but it assigns greater importance to more recent observations. Try calculating the [`ewm`](https://pandas.pydata.org/pandas-docs/stable/reference/api/pandas.DataFrame.ewm.html) with a 21-day half-life."
   ],
   "cell_type": "markdown",
   "metadata": {}
  },
  {
   "cell_type": "code",
   "execution_count": null,
   "metadata": {},
   "outputs": [],
   "source": [
    "# Use `ewm` to calculate the rolling window\n",
    "#times=['2015-03-03':'2019-04-23':'1D']\n",
    "df.index\n",
    "dfewa=df.ewm(halflife='21 days',times=(df.index)).mean()\n",
    "dfewa.columns=['Algo 1', 'Algo 2', 'SOROS FUND MANAGEMENT LLC',\n",
    "       'PAULSON & CO.INC. ', 'TIGER GLOBAL MANAGEMENT LLC',\n",
    "       'BERKSHIRE HATHAWAY INC']\n",
    "dfewa.plot(subplots=True,figsize=(30,40),grid=True)\n"
   ]
  },
  {
   "cell_type": "markdown",
   "metadata": {},
   "source": [
    "---"
   ]
  },
  {
   "cell_type": "markdown",
   "metadata": {},
   "source": [
    "# Sharpe Ratios\n",
    "In reality, investment managers and thier institutional investors look at the ratio of return-to-risk, and not just returns alone. After all, if you could invest in one of two portfolios, and each offered the same 10% return, yet one offered lower risk, you'd take that one, right?\n",
    "\n",
    "### Using the daily returns, calculate and visualize the Sharpe ratios using a bar plot"
   ]
  },
  {
   "cell_type": "code",
   "execution_count": null,
   "metadata": {},
   "outputs": [],
   "source": [
    "# Annualized Sharpe Ratios\n",
    "sharpie_ratio=((combinedrtns.mean())*252)/(combinedrtns.std()*np.sqrt(252))\n",
    "sharpie_ratio.sort_values(inplace=True)\n",
    "sharpie_ratio"
   ]
  },
  {
   "cell_type": "code",
   "execution_count": null,
   "metadata": {},
   "outputs": [],
   "source": [
    "# Visualize the sharpe ratios as a bar plot\n",
    "sharpie_ratio.plot(\n",
    "                kind='bar'\n",
    "                , rot=360\n",
    "                , figsize=(30,10)\n",
    ")"
   ]
  },
  {
   "cell_type": "markdown",
   "metadata": {},
   "source": [
    "### Determine whether the algorithmic strategies outperform both the market (S&P 500) and the whales portfolios.\n",
    "\n",
    "Write your answer here!"
   ]
  },
  {
   "cell_type": "markdown",
   "metadata": {},
   "source": [
    "---"
   ]
  },
  {
   "cell_type": "markdown",
   "metadata": {},
   "source": [
    "# Create Custom Portfolio\n",
    "\n",
    "In this section, you will build your own portfolio of stocks, calculate the returns, and compare the results to the Whale Portfolios and the S&P 500. \n",
    "\n",
    "1. Choose 3-5 custom stocks with at last 1 year's worth of historic prices and create a DataFrame of the closing prices and dates for each stock.\n",
    "2. Calculate the weighted returns for the portfolio assuming an equal number of shares for each stock\n",
    "3. Join your portfolio returns to the DataFrame that contains all of the portfolio returns\n",
    "4. Re-run the performance and risk analysis with your portfolio to see how it compares to the others\n",
    "5. Include correlation analysis to determine which stocks (if any) are correlated"
   ]
  },
  {
   "cell_type": "markdown",
   "metadata": {},
   "source": [
    "## Choose 3-5 custom stocks with at last 1 year's worth of historic prices and create a DataFrame of the closing prices and dates for each stock.\n",
    "\n",
    "For this demo solution, we fetch data from three companies listes in the S&P 500 index.\n",
    "\n",
    "* `GOOG` - [Google, LLC](https://en.wikipedia.org/wiki/Google)\n",
    "\n",
    "* `AAPL` - [Apple Inc.](https://en.wikipedia.org/wiki/Apple_Inc.)\n",
    "\n",
    "* `COST` - [Costco Wholesale Corporation](https://en.wikipedia.org/wiki/Costco)"
   ]
  },
  {
   "cell_type": "code",
   "execution_count": null,
   "metadata": {},
   "outputs": [],
   "source": [
    "# Reading data from 1st stock\n"
   ]
  },
  {
   "cell_type": "code",
   "execution_count": null,
   "metadata": {},
   "outputs": [],
   "source": [
    "# Reading data from 2nd stock\n"
   ]
  },
  {
   "cell_type": "code",
   "execution_count": null,
   "metadata": {},
   "outputs": [],
   "source": [
    "# Reading data from 3rd stock\n"
   ]
  },
  {
   "cell_type": "code",
   "execution_count": null,
   "metadata": {},
   "outputs": [],
   "source": [
    "# Combine all stocks in a single DataFrame\n"
   ]
  },
  {
   "cell_type": "code",
   "execution_count": null,
   "metadata": {},
   "outputs": [],
   "source": [
    "# Reset Date index\n"
   ]
  },
  {
   "cell_type": "code",
   "execution_count": null,
   "metadata": {},
   "outputs": [],
   "source": [
    "# Reorganize portfolio data by having a column per symbol\n"
   ]
  },
  {
   "cell_type": "code",
   "execution_count": null,
   "metadata": {},
   "outputs": [],
   "source": [
    "# Calculate daily returns\n",
    "\n",
    "# Drop NAs\n",
    "\n",
    "# Display sample data\n"
   ]
  },
  {
   "cell_type": "markdown",
   "metadata": {},
   "source": [
    "## Calculate the weighted returns for the portfolio assuming an equal number of shares for each stock"
   ]
  },
  {
   "cell_type": "code",
   "execution_count": null,
   "metadata": {},
   "outputs": [],
   "source": [
    "# Set weights\n",
    "weights = [1/3, 1/3, 1/3]\n",
    "\n",
    "# Calculate portfolio return\n",
    "\n",
    "# Display sample data\n"
   ]
  },
  {
   "cell_type": "markdown",
   "metadata": {},
   "source": [
    "## Join your portfolio returns to the DataFrame that contains all of the portfolio returns"
   ]
  },
  {
   "cell_type": "code",
   "execution_count": null,
   "metadata": {},
   "outputs": [],
   "source": [
    "# Join your returns DataFrame to the original returns DataFrame\n"
   ]
  },
  {
   "cell_type": "code",
   "execution_count": null,
   "metadata": {},
   "outputs": [],
   "source": [
    "# Only compare dates where return data exists for all the stocks (drop NaNs)\n"
   ]
  },
  {
   "cell_type": "markdown",
   "metadata": {},
   "source": [
    "## Re-run the risk analysis with your portfolio to see how it compares to the others"
   ]
  },
  {
   "cell_type": "markdown",
   "metadata": {},
   "source": [
    "### Calculate the Annualized Standard Deviation"
   ]
  },
  {
   "cell_type": "code",
   "execution_count": null,
   "metadata": {},
   "outputs": [],
   "source": [
    "# Calculate the annualized `std`\n"
   ]
  },
  {
   "cell_type": "markdown",
   "metadata": {},
   "source": [
    "### Calculate and plot rolling `std` with 21-day window"
   ]
  },
  {
   "cell_type": "code",
   "execution_count": null,
   "metadata": {},
   "outputs": [],
   "source": [
    "# Calculate rolling standard deviation\n",
    "\n",
    "# Plot rolling standard deviation\n"
   ]
  },
  {
   "cell_type": "markdown",
   "metadata": {},
   "source": [
    "### Calculate and plot the correlation"
   ]
  },
  {
   "cell_type": "code",
   "execution_count": null,
   "metadata": {},
   "outputs": [],
   "source": [
    "# Calculate and plot the correlation\n"
   ]
  },
  {
   "cell_type": "markdown",
   "metadata": {},
   "source": [
    "### Calculate and Plot Rolling 60-day Beta for Your Portfolio compared to the S&P 500"
   ]
  },
  {
   "cell_type": "code",
   "execution_count": null,
   "metadata": {},
   "outputs": [],
   "source": [
    "# Calculate and plot Beta\n"
   ]
  },
  {
   "cell_type": "markdown",
   "metadata": {},
   "source": [
    "### Using the daily returns, calculate and visualize the Sharpe ratios using a bar plot"
   ]
  },
  {
   "cell_type": "code",
   "execution_count": null,
   "metadata": {},
   "outputs": [],
   "source": [
    "# Calculate Annualzied Sharpe Ratios\n"
   ]
  },
  {
   "cell_type": "code",
   "execution_count": null,
   "metadata": {},
   "outputs": [],
   "source": [
    "# Visualize the sharpe ratios as a bar plot\n"
   ]
  },
  {
   "cell_type": "markdown",
   "metadata": {},
   "source": [
    "### How does your portfolio do?\n",
    "\n",
    "Write your answer here!"
   ]
  },
  {
   "cell_type": "code",
   "execution_count": null,
   "metadata": {},
   "outputs": [],
   "source": []
  }
 ],
 "metadata": {
  "file_extension": ".py",
  "kernelspec": {
   "display_name": "Python 3",
   "language": "python",
   "name": "python3"
  },
  "language_info": {
   "codemirror_mode": {
    "name": "ipython",
    "version": 3
   },
   "file_extension": ".py",
   "mimetype": "text/x-python",
   "name": "python",
   "nbconvert_exporter": "python",
   "pygments_lexer": "ipython3",
   "version": "3.8.5-final"
  },
  "mimetype": "text/x-python",
  "name": "python",
  "npconvert_exporter": "python",
  "pygments_lexer": "ipython3",
  "version": 3
 },
 "nbformat": 4,
 "nbformat_minor": 4
}