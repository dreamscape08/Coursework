{
 "cells": [
  {
   "cell_type": "markdown",
   "metadata": {},
   "source": [
    "# San Francisco Rental Prices Dashboard\n",
    "\n",
    "In this notebook, you will compile the visualizations from the previous analysis into functions that can be used for a Panel dashboard."
   ]
  },
  {
   "cell_type": "code",
   "execution_count": 2,
   "metadata": {},
   "outputs": [],
   "source": [
    "# imports\n",
    "import panel as pn\n",
    "pn.extension('plotly')\n",
    "import plotly.express as px\n",
    "import pandas as pd\n",
    "import hvplot.pandas\n",
    "import matplotlib.pyplot as plt\n",
    "import os\n",
    "from pathlib import Path\n",
    "from dotenv import load_dotenv"
   ]
  },
  {
   "cell_type": "code",
   "execution_count": 3,
   "metadata": {},
   "outputs": [],
   "source": [
    "# Read the Mapbox API key\n",
    "load_dotenv()\n",
    "map_box_api = os.getenv(\"mapbox\")\n",
    "px.set_mapbox_access_token(map_box_api)"
   ]
  },
  {
   "cell_type": "markdown",
   "metadata": {},
   "source": [
    "# Import Data"
   ]
  },
  {
   "cell_type": "code",
   "execution_count": 4,
   "metadata": {},
   "outputs": [],
   "source": [
    "# Import the necessary CSVs to Pandas DataFrames\n",
    "file_path = Path(\"Data/sfo_neighborhoods_census_data.csv\")\n",
    "sfo_data = pd.read_csv(file_path, index_col=\"year\")\n",
    "filepath=Path('Data/neighborhoods_coordinates.csv')\n",
    "data=pd.read_csv(filepath,index_col='Neighborhood')\n"
   ]
  },
  {
   "cell_type": "markdown",
   "metadata": {},
   "source": [
    "- - -"
   ]
  },
  {
   "cell_type": "markdown",
   "metadata": {},
   "source": [
    "## Panel Visualizations\n",
    "\n",
    "In this section, you will copy the code for each plot type from your analysis notebook and place it into separate functions that Panel can use to create panes for the dashboard. \n",
    "\n",
    "These functions will convert the plot object to a Panel pane.\n",
    "\n",
    "Be sure to include any DataFrame transformation/manipulation code required along with the plotting code.\n",
    "\n",
    "Return a Panel pane object from each function that can be used to build the dashboard.\n",
    "\n",
    "Note: Remove any `.show()` lines from the code. We want to return the plots instead of showing them. The Panel dashboard will then display the plots."
   ]
  },
  {
   "cell_type": "code",
   "execution_count": 5,
   "metadata": {},
   "outputs": [],
   "source": [
    "units_per_year=sfo_data.groupby(sfo_data.index).mean()\n",
    "peryearsold=units_per_year['housing_units']\n",
    "avghousingdf=units_per_year.drop(columns='housing_units')\n",
    "year_neighborhood=sfo_data.groupby(['year','neighborhood']).mean()\n",
    "yearly_neighborhood=year_neighborhood.drop(columns='housing_units')\n",
    "top10owned=yearly_neighborhood.groupby('neighborhood').mean().sort_values('sale_price_sqr_foot',ascending=False).head(10).drop(columns='gross_rent')\n",
    "top10yearly = sfo_data[sfo_data[\"neighborhood\"].isin(top10owned.index)].drop(columns='housing_units')\n",
    "top10yearlyfull = sfo_data[sfo_data[\"neighborhood\"].isin(top10owned.index)]\n",
    "top=top10yearlyfull.groupby('neighborhood').mean().reset_index()\n",
    "sunburstdata=top10yearly.reset_index()\n",
    "plotdata=sfo_data.groupby(['neighborhood']).mean()\n",
    "plotdata=pd.concat([plotdata,data],axis='columns',join='outer')\n",
    "plotdata.reset_index(inplace=True)\n",
    "plotdata=plotdata.dropna()\n"
   ]
  },
  {
   "cell_type": "code",
   "execution_count": 24,
   "metadata": {},
   "outputs": [],
   "source": [
    "# Define Panel Visualization Functions\n",
    "def housing_units_per_year():\n",
    "    \"\"\"Housing Units Per Year.\"\"\"\n",
    "    plot1=peryearsold.hvplot.bar(ylim=(370000,385000)\n",
    "                    , title='Housing Units in San Fransisco from 10\\'-16\\''\n",
    "                    #, ylabel= \"Units Sold\"\n",
    "                    #, xlabel='Year'\n",
    "                    , rot=0\n",
    "                    , grid=False\n",
    "                    , figsize=(5,5)\n",
    "                    )\n",
    "    return plot1\n",
    "\n",
    "\n",
    "def average_gross_rent():\n",
    "    \"\"\"Average Gross Rent in San Francisco Per Year.\"\"\"\n",
    "    rentplot=avghousingdf['gross_rent'].hvplot.line(\n",
    "                      title='Monthly Gross Rent Average'\n",
    "                    #, ylabel='Price per Month'\n",
    "                    #, xlabel='Year'\n",
    "                    , rot=0\n",
    "                    , grid=True\n",
    "                    , lw=2\n",
    "                    , figsize=(5,5)\n",
    "                    , color='r'\n",
    "                    , xlim=(2010,2016)\n",
    "            )\n",
    "    return rentplot \n",
    "\n",
    "\n",
    "def average_sales_price():\n",
    "    \"\"\"Average Sales Price Per Year.\"\"\"\n",
    "    saleplot=avghousingdf['sale_price_sqr_foot'].hvplot.line(\n",
    "                     title='Yearly Price per Sqft Average'\n",
    "                    #, ylabel='Price per SqFt'\n",
    "                    #, xlabel='Year'\n",
    "                    , rot=0\n",
    "                    , lw=2\n",
    "                    , grid=True\n",
    "                    , figsize=(5,5)\n",
    "                    , xlim=(2010,2016)\n",
    "                    )\n",
    "    return saleplot\n",
    "\n",
    "\n",
    "def average_price_by_neighborhood():\n",
    "    \"\"\"Average Prices by Neighborhood.\"\"\"\n",
    "    prorent=yearly_neighborhood.hvplot.line(\n",
    "                      y=['gross_rent','sale_price_sqr_foot']\n",
    "                    , x='year'\n",
    "                    , subplots=False\n",
    "                    # by='year'\n",
    "                    , groupby=['neighborhood']\n",
    "                    , ylim=(0,5000)\n",
    "                    , xlim=('2010','2017')\n",
    "                    , dynamic=False\n",
    "                    #, height=500\n",
    "                    , hover_cols='one'\n",
    "                )\n",
    "    prosale=yearly_neighborhood.hvplot.line(\n",
    "                     y='sale_price_sqr_foot'\n",
    "                    , x='year'\n",
    "                    , subplots=False\n",
    "                    # by='year'\n",
    "                    , groupby=['neighborhood']\n",
    "                    , ylim=(0,2500)\n",
    "                    , dynamic=False\n",
    "                    #, height=500\n",
    "                    , hover_cols='one'\n",
    "                )\n",
    "    return (prorent)\n",
    "\n",
    "\n",
    "def top_most_expensive_neighborhoods():\n",
    "    \"\"\"Top 10 Most Expensive Neighborhoods.\"\"\"\n",
    "    top10owned=yearly_neighborhood.groupby('neighborhood').mean().sort_values('sale_price_sqr_foot',ascending=False).head(10).drop(columns='gross_rent')\n",
    "    top10plot=top10owned.hvplot(\n",
    "                      kind='bar'\n",
    "                    , color='blue'\n",
    "                    , rot=90\n",
    "                    , title='Top 10 Expensive Neighborhoods in SFO'\n",
    "                    , ylabel='Avg. Sale Price Per Sqft'\n",
    "                    , x='neighborhood'\n",
    "                    , ylim=(600,900)\n",
    "                )\n",
    "    return top10plot\n",
    "\n",
    "\n",
    "def most_expensive_neighborhoods_rent_sales():\n",
    "    \"\"\"Comparison of Rent and Sales Prices of Most Expensive Neighborhoods.\"\"\"   \n",
    "    top10yearplot=top10yearly.hvplot(\n",
    "                      kind='bar'\n",
    "                    , color='blue'\n",
    "                    , rot=90\n",
    "                    , title='Top 10 Expensive Neighborhoods in SFO'\n",
    "                    , ylabel='Avg Price SQFT/ Monthly Rent'\n",
    "                    , x='year'\n",
    "                    , y=(['sale_price_sqr_foot','gross_rent'])\n",
    "                    , groupby='neighborhood'\n",
    "                    , dynamic=False\n",
    "                )\n",
    "    return top10yearplot\n",
    " \n",
    "\n",
    "        \n",
    "def parallel_coordinates():\n",
    "    \"\"\"Parallel Coordinates Plot.\"\"\"\n",
    "\n",
    "    plelcordplot=px.parallel_coordinates(top,color=top.index, width = 1000, height = 500)\n",
    "    return plelcordplot\n",
    "\n",
    "\n",
    "def parallel_categories():\n",
    "    \"\"\"Parallel Categories Plot.\"\"\"\n",
    "    \n",
    "    plelcategplot=px.parallel_categories(top,color='sale_price_sqr_foot',)\n",
    "    return plelcategplot\n",
    "\n",
    "\n",
    "def neighborhood_map():\n",
    "    \"\"\"Neighborhood Map.\"\"\"\n",
    "    map_box = px.scatter_mapbox(\n",
    "                        plotdata,\n",
    "                        lat=\"Lat\",\n",
    "                        lon=\"Lon\",\n",
    "                        size=\"gross_rent\",\n",
    "                        color=\"index\",\n",
    "                        zoom=10\n",
    "                    )\n",
    "    map_box.update_layout(\n",
    "                        mapbox_style=\"streets\"\n",
    "                        )\n",
    "    return map_box\n",
    "    \n",
    "\n",
    "\n",
    "def sunburst():\n",
    "    \"\"\"Sunburst Plot.\"\"\"\n",
    "    \n",
    "    sunbursplot=px.sunburst(sunburstdata,path=['year','neighborhood'],values='sale_price_sqr_foot',color='gross_rent',color_continuous_scale='RdBu')\n",
    "    return sunbursplot\n"
   ]
  },
  {
   "cell_type": "markdown",
   "metadata": {},
   "source": [
    "## Panel Dashboard\n",
    "\n",
    "In this section, you will combine all of the plots into a single dashboard view using Panel. Be creative with your dashboard design!"
   ]
  },
  {
   "cell_type": "code",
   "execution_count": 25,
   "metadata": {},
   "outputs": [
    {
     "output_type": "stream",
     "name": "stderr",
     "text": [
      "WARNING:param.main: lw option not found for line plot; similar options include: []\n",
      "WARNING:param.main: lw option not found for line plot; similar options include: []\n"
     ]
    }
   ],
   "source": [
    "# Create a Title for the Dashboard\n",
    "# YOUR CODE HERE!\n",
    "\n",
    "\n",
    "# Create a tab layout for the dashboard\n",
    "welcome_column=pn.Column(\n",
    "    \"## MAp of San Fansisco Housing Market\",\n",
    "    neighborhood_map()\n",
    "    )\n",
    "yearlymarketcolumn=pn.Column(\n",
    "    \"## Side x Side Analysis of Yearly Averages\",\n",
    "    housing_units_per_year(),\n",
    "    average_gross_rent(),\n",
    "    average_sales_price(),\n",
    ")\n",
    "neighbhoodcolumn=pn.Column(\n",
    "    \"## Top Ten Expensive Homes in SF Area\",\n",
    "    average_price_by_neighborhood(),\n",
    "    top_most_expensive_neighborhoods(),\n",
    "    most_expensive_neighborhoods_rent_sales()\n",
    ")\n",
    "parallelplotcolumn=pn.Column(\n",
    "    \"## Parelle Categories and Plots\",\n",
    "    parallel_coordinates(),\n",
    "    parallel_categories()\n",
    ")\n",
    "sunburstcolumn=pn.Column(\n",
    "    \"## Sunburst Data\",\n",
    "    sunburst()\n",
    ")\n",
    "# Create the dashboard\n",
    "sfo_housing_dashboard=pn.Tabs(\n",
    "     ('Welcome',welcome_column)\n",
    "    ,('Yearly Market Analysis',yearlymarketcolumn)\n",
    "    ,('Neighborhood Analytics',neighbhoodcolumn)\n",
    "    ,('Parellel Plot Analysis',parallelplotcolumn)\n",
    "    ,('Sunburst Plot Analysis',sunburstcolumn)\n",
    ")"
   ]
  },
  {
   "cell_type": "markdown",
   "metadata": {},
   "source": [
    "## Serve the Panel Dashboard"
   ]
  },
  {
   "cell_type": "code",
   "execution_count": 27,
   "metadata": {},
   "outputs": [
    {
     "output_type": "stream",
     "name": "stdout",
     "text": [
      "Launching server at http://localhost:62773\n"
     ]
    },
    {
     "output_type": "execute_result",
     "data": {
      "text/plain": [
       "<bokeh.server.server.Server at 0x7fa25e6a3f90>"
      ]
     },
     "metadata": {},
     "execution_count": 27
    }
   ],
   "source": [
    "# Serve the# dashboard\n",
    "sfo_housing_dashboard.show()"
   ]
  },
  {
   "cell_type": "markdown",
   "metadata": {},
   "source": [
    "# Debugging\n",
    "\n",
    "Note: Some of the Plotly express plots may not render in the notebook through the panel functions.\n",
    "\n",
    "However, you can test each plot by uncommenting the following code"
   ]
  },
  {
   "cell_type": "code",
   "execution_count": 9,
   "metadata": {},
   "outputs": [
    {
     "output_type": "execute_result",
     "data": {
      "text/plain": [
       "<AxesSubplot:title={'center':\"Housing Units in San Fransisco from 10'-16'\"}, xlabel='year'>"
      ]
     },
     "metadata": {},
     "execution_count": 9
    },
    {
     "output_type": "display_data",
     "data": {
      "text/plain": "<Figure size 360x360 with 1 Axes>",
      "image/svg+xml": "<?xml version=\"1.0\" encoding=\"utf-8\" standalone=\"no\"?>\n<!DOCTYPE svg PUBLIC \"-//W3C//DTD SVG 1.1//EN\"\n  \"http://www.w3.org/Graphics/SVG/1.1/DTD/svg11.dtd\">\n<!-- Created with matplotlib (https://matplotlib.org/) -->\n<svg height=\"331.674375pt\" version=\"1.1\" viewBox=\"0 0 338.575 331.674375\" width=\"338.575pt\" xmlns=\"http://www.w3.org/2000/svg\" xmlns:xlink=\"http://www.w3.org/1999/xlink\">\n <metadata>\n  <rdf:RDF xmlns:cc=\"http://creativecommons.org/ns#\" xmlns:dc=\"http://purl.org/dc/elements/1.1/\" xmlns:rdf=\"http://www.w3.org/1999/02/22-rdf-syntax-ns#\">\n   <cc:Work>\n    <dc:type rdf:resource=\"http://purl.org/dc/dcmitype/StillImage\"/>\n    <dc:date>2021-02-03T16:47:00.078758</dc:date>\n    <dc:format>image/svg+xml</dc:format>\n    <dc:creator>\n     <cc:Agent>\n      <dc:title>Matplotlib v3.3.4, https://matplotlib.org/</dc:title>\n     </cc:Agent>\n    </dc:creator>\n   </cc:Work>\n  </rdf:RDF>\n </metadata>\n <defs>\n  <style type=\"text/css\">*{stroke-linecap:butt;stroke-linejoin:round;}</style>\n </defs>\n <g id=\"figure_1\">\n  <g id=\"patch_1\">\n   <path d=\"M -0 331.674375 \nL 338.575 331.674375 \nL 338.575 0 \nL -0 0 \nz\n\" style=\"fill:none;\"/>\n  </g>\n  <g id=\"axes_1\">\n   <g id=\"patch_2\">\n    <path d=\"M 52.375 294.118125 \nL 331.375 294.118125 \nL 331.375 22.318125 \nL 52.375 22.318125 \nz\n\" style=\"fill:#ffffff;\"/>\n   </g>\n   <g id=\"patch_3\">\n    <path clip-path=\"url(#p4c2eebdbf0)\" d=\"M 62.339286 6998.518125 \nL 82.267857 6998.518125 \nL 82.267857 247.730925 \nL 62.339286 247.730925 \nz\n\" style=\"fill:#1f77b4;\"/>\n   </g>\n   <g id=\"patch_4\">\n    <path clip-path=\"url(#p4c2eebdbf0)\" d=\"M 102.196429 6998.518125 \nL 122.125 6998.518125 \nL 122.125 212.451285 \nL 102.196429 212.451285 \nz\n\" style=\"fill:#1f77b4;\"/>\n   </g>\n   <g id=\"patch_5\">\n    <path clip-path=\"url(#p4c2eebdbf0)\" d=\"M 142.053571 6998.518125 \nL 161.982143 6998.518125 \nL 161.982143 177.171645 \nL 142.053571 177.171645 \nz\n\" style=\"fill:#1f77b4;\"/>\n   </g>\n   <g id=\"patch_6\">\n    <path clip-path=\"url(#p4c2eebdbf0)\" d=\"M 181.910714 6998.518125 \nL 201.839286 6998.518125 \nL 201.839286 141.892005 \nL 181.910714 141.892005 \nz\n\" style=\"fill:#1f77b4;\"/>\n   </g>\n   <g id=\"patch_7\">\n    <path clip-path=\"url(#p4c2eebdbf0)\" d=\"M 221.767857 6998.518125 \nL 241.696429 6998.518125 \nL 241.696429 106.612365 \nL 221.767857 106.612365 \nz\n\" style=\"fill:#1f77b4;\"/>\n   </g>\n   <g id=\"patch_8\">\n    <path clip-path=\"url(#p4c2eebdbf0)\" d=\"M 261.625 6998.518125 \nL 281.553571 6998.518125 \nL 281.553571 71.332725 \nL 261.625 71.332725 \nz\n\" style=\"fill:#1f77b4;\"/>\n   </g>\n   <g id=\"patch_9\">\n    <path clip-path=\"url(#p4c2eebdbf0)\" d=\"M 301.482143 6998.518125 \nL 321.410714 6998.518125 \nL 321.410714 36.053085 \nL 301.482143 36.053085 \nz\n\" style=\"fill:#1f77b4;\"/>\n   </g>\n   <g id=\"matplotlib.axis_1\">\n    <g id=\"xtick_1\">\n     <g id=\"line2d_1\">\n      <defs>\n       <path d=\"M 0 0 \nL 0 3.5 \n\" id=\"ma18125472e\" style=\"stroke:#000000;stroke-width:0.8;\"/>\n      </defs>\n      <g>\n       <use style=\"stroke:#000000;stroke-width:0.8;\" x=\"72.303571\" xlink:href=\"#ma18125472e\" y=\"294.118125\"/>\n      </g>\n     </g>\n     <g id=\"text_1\">\n      <!-- 2010 -->\n      <g transform=\"translate(59.578571 308.716563)scale(0.1 -0.1)\">\n       <defs>\n        <path d=\"M 19.1875 8.296875 \nL 53.609375 8.296875 \nL 53.609375 0 \nL 7.328125 0 \nL 7.328125 8.296875 \nQ 12.9375 14.109375 22.625 23.890625 \nQ 32.328125 33.6875 34.8125 36.53125 \nQ 39.546875 41.84375 41.421875 45.53125 \nQ 43.3125 49.21875 43.3125 52.78125 \nQ 43.3125 58.59375 39.234375 62.25 \nQ 35.15625 65.921875 28.609375 65.921875 \nQ 23.96875 65.921875 18.8125 64.3125 \nQ 13.671875 62.703125 7.8125 59.421875 \nL 7.8125 69.390625 \nQ 13.765625 71.78125 18.9375 73 \nQ 24.125 74.21875 28.421875 74.21875 \nQ 39.75 74.21875 46.484375 68.546875 \nQ 53.21875 62.890625 53.21875 53.421875 \nQ 53.21875 48.921875 51.53125 44.890625 \nQ 49.859375 40.875 45.40625 35.40625 \nQ 44.1875 33.984375 37.640625 27.21875 \nQ 31.109375 20.453125 19.1875 8.296875 \nz\n\" id=\"DejaVuSans-50\"/>\n        <path d=\"M 31.78125 66.40625 \nQ 24.171875 66.40625 20.328125 58.90625 \nQ 16.5 51.421875 16.5 36.375 \nQ 16.5 21.390625 20.328125 13.890625 \nQ 24.171875 6.390625 31.78125 6.390625 \nQ 39.453125 6.390625 43.28125 13.890625 \nQ 47.125 21.390625 47.125 36.375 \nQ 47.125 51.421875 43.28125 58.90625 \nQ 39.453125 66.40625 31.78125 66.40625 \nz\nM 31.78125 74.21875 \nQ 44.046875 74.21875 50.515625 64.515625 \nQ 56.984375 54.828125 56.984375 36.375 \nQ 56.984375 17.96875 50.515625 8.265625 \nQ 44.046875 -1.421875 31.78125 -1.421875 \nQ 19.53125 -1.421875 13.0625 8.265625 \nQ 6.59375 17.96875 6.59375 36.375 \nQ 6.59375 54.828125 13.0625 64.515625 \nQ 19.53125 74.21875 31.78125 74.21875 \nz\n\" id=\"DejaVuSans-48\"/>\n        <path d=\"M 12.40625 8.296875 \nL 28.515625 8.296875 \nL 28.515625 63.921875 \nL 10.984375 60.40625 \nL 10.984375 69.390625 \nL 28.421875 72.90625 \nL 38.28125 72.90625 \nL 38.28125 8.296875 \nL 54.390625 8.296875 \nL 54.390625 0 \nL 12.40625 0 \nz\n\" id=\"DejaVuSans-49\"/>\n       </defs>\n       <use xlink:href=\"#DejaVuSans-50\"/>\n       <use x=\"63.623047\" xlink:href=\"#DejaVuSans-48\"/>\n       <use x=\"127.246094\" xlink:href=\"#DejaVuSans-49\"/>\n       <use x=\"190.869141\" xlink:href=\"#DejaVuSans-48\"/>\n      </g>\n     </g>\n    </g>\n    <g id=\"xtick_2\">\n     <g id=\"line2d_2\">\n      <g>\n       <use style=\"stroke:#000000;stroke-width:0.8;\" x=\"112.160714\" xlink:href=\"#ma18125472e\" y=\"294.118125\"/>\n      </g>\n     </g>\n     <g id=\"text_2\">\n      <!-- 2011 -->\n      <g transform=\"translate(99.435714 308.716563)scale(0.1 -0.1)\">\n       <use xlink:href=\"#DejaVuSans-50\"/>\n       <use x=\"63.623047\" xlink:href=\"#DejaVuSans-48\"/>\n       <use x=\"127.246094\" xlink:href=\"#DejaVuSans-49\"/>\n       <use x=\"190.869141\" xlink:href=\"#DejaVuSans-49\"/>\n      </g>\n     </g>\n    </g>\n    <g id=\"xtick_3\">\n     <g id=\"line2d_3\">\n      <g>\n       <use style=\"stroke:#000000;stroke-width:0.8;\" x=\"152.017857\" xlink:href=\"#ma18125472e\" y=\"294.118125\"/>\n      </g>\n     </g>\n     <g id=\"text_3\">\n      <!-- 2012 -->\n      <g transform=\"translate(139.292857 308.716563)scale(0.1 -0.1)\">\n       <use xlink:href=\"#DejaVuSans-50\"/>\n       <use x=\"63.623047\" xlink:href=\"#DejaVuSans-48\"/>\n       <use x=\"127.246094\" xlink:href=\"#DejaVuSans-49\"/>\n       <use x=\"190.869141\" xlink:href=\"#DejaVuSans-50\"/>\n      </g>\n     </g>\n    </g>\n    <g id=\"xtick_4\">\n     <g id=\"line2d_4\">\n      <g>\n       <use style=\"stroke:#000000;stroke-width:0.8;\" x=\"191.875\" xlink:href=\"#ma18125472e\" y=\"294.118125\"/>\n      </g>\n     </g>\n     <g id=\"text_4\">\n      <!-- 2013 -->\n      <g transform=\"translate(179.15 308.716563)scale(0.1 -0.1)\">\n       <defs>\n        <path d=\"M 40.578125 39.3125 \nQ 47.65625 37.796875 51.625 33 \nQ 55.609375 28.21875 55.609375 21.1875 \nQ 55.609375 10.40625 48.1875 4.484375 \nQ 40.765625 -1.421875 27.09375 -1.421875 \nQ 22.515625 -1.421875 17.65625 -0.515625 \nQ 12.796875 0.390625 7.625 2.203125 \nL 7.625 11.71875 \nQ 11.71875 9.328125 16.59375 8.109375 \nQ 21.484375 6.890625 26.8125 6.890625 \nQ 36.078125 6.890625 40.9375 10.546875 \nQ 45.796875 14.203125 45.796875 21.1875 \nQ 45.796875 27.640625 41.28125 31.265625 \nQ 36.765625 34.90625 28.71875 34.90625 \nL 20.21875 34.90625 \nL 20.21875 43.015625 \nL 29.109375 43.015625 \nQ 36.375 43.015625 40.234375 45.921875 \nQ 44.09375 48.828125 44.09375 54.296875 \nQ 44.09375 59.90625 40.109375 62.90625 \nQ 36.140625 65.921875 28.71875 65.921875 \nQ 24.65625 65.921875 20.015625 65.03125 \nQ 15.375 64.15625 9.8125 62.3125 \nL 9.8125 71.09375 \nQ 15.4375 72.65625 20.34375 73.4375 \nQ 25.25 74.21875 29.59375 74.21875 \nQ 40.828125 74.21875 47.359375 69.109375 \nQ 53.90625 64.015625 53.90625 55.328125 \nQ 53.90625 49.265625 50.4375 45.09375 \nQ 46.96875 40.921875 40.578125 39.3125 \nz\n\" id=\"DejaVuSans-51\"/>\n       </defs>\n       <use xlink:href=\"#DejaVuSans-50\"/>\n       <use x=\"63.623047\" xlink:href=\"#DejaVuSans-48\"/>\n       <use x=\"127.246094\" xlink:href=\"#DejaVuSans-49\"/>\n       <use x=\"190.869141\" xlink:href=\"#DejaVuSans-51\"/>\n      </g>\n     </g>\n    </g>\n    <g id=\"xtick_5\">\n     <g id=\"line2d_5\">\n      <g>\n       <use style=\"stroke:#000000;stroke-width:0.8;\" x=\"231.732143\" xlink:href=\"#ma18125472e\" y=\"294.118125\"/>\n      </g>\n     </g>\n     <g id=\"text_5\">\n      <!-- 2014 -->\n      <g transform=\"translate(219.007143 308.716563)scale(0.1 -0.1)\">\n       <defs>\n        <path d=\"M 37.796875 64.3125 \nL 12.890625 25.390625 \nL 37.796875 25.390625 \nz\nM 35.203125 72.90625 \nL 47.609375 72.90625 \nL 47.609375 25.390625 \nL 58.015625 25.390625 \nL 58.015625 17.1875 \nL 47.609375 17.1875 \nL 47.609375 0 \nL 37.796875 0 \nL 37.796875 17.1875 \nL 4.890625 17.1875 \nL 4.890625 26.703125 \nz\n\" id=\"DejaVuSans-52\"/>\n       </defs>\n       <use xlink:href=\"#DejaVuSans-50\"/>\n       <use x=\"63.623047\" xlink:href=\"#DejaVuSans-48\"/>\n       <use x=\"127.246094\" xlink:href=\"#DejaVuSans-49\"/>\n       <use x=\"190.869141\" xlink:href=\"#DejaVuSans-52\"/>\n      </g>\n     </g>\n    </g>\n    <g id=\"xtick_6\">\n     <g id=\"line2d_6\">\n      <g>\n       <use style=\"stroke:#000000;stroke-width:0.8;\" x=\"271.589286\" xlink:href=\"#ma18125472e\" y=\"294.118125\"/>\n      </g>\n     </g>\n     <g id=\"text_6\">\n      <!-- 2015 -->\n      <g transform=\"translate(258.864286 308.716563)scale(0.1 -0.1)\">\n       <defs>\n        <path d=\"M 10.796875 72.90625 \nL 49.515625 72.90625 \nL 49.515625 64.59375 \nL 19.828125 64.59375 \nL 19.828125 46.734375 \nQ 21.96875 47.46875 24.109375 47.828125 \nQ 26.265625 48.1875 28.421875 48.1875 \nQ 40.625 48.1875 47.75 41.5 \nQ 54.890625 34.8125 54.890625 23.390625 \nQ 54.890625 11.625 47.5625 5.09375 \nQ 40.234375 -1.421875 26.90625 -1.421875 \nQ 22.3125 -1.421875 17.546875 -0.640625 \nQ 12.796875 0.140625 7.71875 1.703125 \nL 7.71875 11.625 \nQ 12.109375 9.234375 16.796875 8.0625 \nQ 21.484375 6.890625 26.703125 6.890625 \nQ 35.15625 6.890625 40.078125 11.328125 \nQ 45.015625 15.765625 45.015625 23.390625 \nQ 45.015625 31 40.078125 35.4375 \nQ 35.15625 39.890625 26.703125 39.890625 \nQ 22.75 39.890625 18.8125 39.015625 \nQ 14.890625 38.140625 10.796875 36.28125 \nz\n\" id=\"DejaVuSans-53\"/>\n       </defs>\n       <use xlink:href=\"#DejaVuSans-50\"/>\n       <use x=\"63.623047\" xlink:href=\"#DejaVuSans-48\"/>\n       <use x=\"127.246094\" xlink:href=\"#DejaVuSans-49\"/>\n       <use x=\"190.869141\" xlink:href=\"#DejaVuSans-53\"/>\n      </g>\n     </g>\n    </g>\n    <g id=\"xtick_7\">\n     <g id=\"line2d_7\">\n      <g>\n       <use style=\"stroke:#000000;stroke-width:0.8;\" x=\"311.446429\" xlink:href=\"#ma18125472e\" y=\"294.118125\"/>\n      </g>\n     </g>\n     <g id=\"text_7\">\n      <!-- 2016 -->\n      <g transform=\"translate(298.721429 308.716563)scale(0.1 -0.1)\">\n       <defs>\n        <path d=\"M 33.015625 40.375 \nQ 26.375 40.375 22.484375 35.828125 \nQ 18.609375 31.296875 18.609375 23.390625 \nQ 18.609375 15.53125 22.484375 10.953125 \nQ 26.375 6.390625 33.015625 6.390625 \nQ 39.65625 6.390625 43.53125 10.953125 \nQ 47.40625 15.53125 47.40625 23.390625 \nQ 47.40625 31.296875 43.53125 35.828125 \nQ 39.65625 40.375 33.015625 40.375 \nz\nM 52.59375 71.296875 \nL 52.59375 62.3125 \nQ 48.875 64.0625 45.09375 64.984375 \nQ 41.3125 65.921875 37.59375 65.921875 \nQ 27.828125 65.921875 22.671875 59.328125 \nQ 17.53125 52.734375 16.796875 39.40625 \nQ 19.671875 43.65625 24.015625 45.921875 \nQ 28.375 48.1875 33.59375 48.1875 \nQ 44.578125 48.1875 50.953125 41.515625 \nQ 57.328125 34.859375 57.328125 23.390625 \nQ 57.328125 12.15625 50.6875 5.359375 \nQ 44.046875 -1.421875 33.015625 -1.421875 \nQ 20.359375 -1.421875 13.671875 8.265625 \nQ 6.984375 17.96875 6.984375 36.375 \nQ 6.984375 53.65625 15.1875 63.9375 \nQ 23.390625 74.21875 37.203125 74.21875 \nQ 40.921875 74.21875 44.703125 73.484375 \nQ 48.484375 72.75 52.59375 71.296875 \nz\n\" id=\"DejaVuSans-54\"/>\n       </defs>\n       <use xlink:href=\"#DejaVuSans-50\"/>\n       <use x=\"63.623047\" xlink:href=\"#DejaVuSans-48\"/>\n       <use x=\"127.246094\" xlink:href=\"#DejaVuSans-49\"/>\n       <use x=\"190.869141\" xlink:href=\"#DejaVuSans-54\"/>\n      </g>\n     </g>\n    </g>\n    <g id=\"text_8\">\n     <!-- year -->\n     <g transform=\"translate(180.719531 322.394687)scale(0.1 -0.1)\">\n      <defs>\n       <path d=\"M 32.171875 -5.078125 \nQ 28.375 -14.84375 24.75 -17.8125 \nQ 21.140625 -20.796875 15.09375 -20.796875 \nL 7.90625 -20.796875 \nL 7.90625 -13.28125 \nL 13.1875 -13.28125 \nQ 16.890625 -13.28125 18.9375 -11.515625 \nQ 21 -9.765625 23.484375 -3.21875 \nL 25.09375 0.875 \nL 2.984375 54.6875 \nL 12.5 54.6875 \nL 29.59375 11.921875 \nL 46.6875 54.6875 \nL 56.203125 54.6875 \nz\n\" id=\"DejaVuSans-121\"/>\n       <path d=\"M 56.203125 29.59375 \nL 56.203125 25.203125 \nL 14.890625 25.203125 \nQ 15.484375 15.921875 20.484375 11.0625 \nQ 25.484375 6.203125 34.421875 6.203125 \nQ 39.59375 6.203125 44.453125 7.46875 \nQ 49.3125 8.734375 54.109375 11.28125 \nL 54.109375 2.78125 \nQ 49.265625 0.734375 44.1875 -0.34375 \nQ 39.109375 -1.421875 33.890625 -1.421875 \nQ 20.796875 -1.421875 13.15625 6.1875 \nQ 5.515625 13.8125 5.515625 26.8125 \nQ 5.515625 40.234375 12.765625 48.109375 \nQ 20.015625 56 32.328125 56 \nQ 43.359375 56 49.78125 48.890625 \nQ 56.203125 41.796875 56.203125 29.59375 \nz\nM 47.21875 32.234375 \nQ 47.125 39.59375 43.09375 43.984375 \nQ 39.0625 48.390625 32.421875 48.390625 \nQ 24.90625 48.390625 20.390625 44.140625 \nQ 15.875 39.890625 15.1875 32.171875 \nz\n\" id=\"DejaVuSans-101\"/>\n       <path d=\"M 34.28125 27.484375 \nQ 23.390625 27.484375 19.1875 25 \nQ 14.984375 22.515625 14.984375 16.5 \nQ 14.984375 11.71875 18.140625 8.90625 \nQ 21.296875 6.109375 26.703125 6.109375 \nQ 34.1875 6.109375 38.703125 11.40625 \nQ 43.21875 16.703125 43.21875 25.484375 \nL 43.21875 27.484375 \nz\nM 52.203125 31.203125 \nL 52.203125 0 \nL 43.21875 0 \nL 43.21875 8.296875 \nQ 40.140625 3.328125 35.546875 0.953125 \nQ 30.953125 -1.421875 24.3125 -1.421875 \nQ 15.921875 -1.421875 10.953125 3.296875 \nQ 6 8.015625 6 15.921875 \nQ 6 25.140625 12.171875 29.828125 \nQ 18.359375 34.515625 30.609375 34.515625 \nL 43.21875 34.515625 \nL 43.21875 35.40625 \nQ 43.21875 41.609375 39.140625 45 \nQ 35.0625 48.390625 27.6875 48.390625 \nQ 23 48.390625 18.546875 47.265625 \nQ 14.109375 46.140625 10.015625 43.890625 \nL 10.015625 52.203125 \nQ 14.9375 54.109375 19.578125 55.046875 \nQ 24.21875 56 28.609375 56 \nQ 40.484375 56 46.34375 49.84375 \nQ 52.203125 43.703125 52.203125 31.203125 \nz\n\" id=\"DejaVuSans-97\"/>\n       <path d=\"M 41.109375 46.296875 \nQ 39.59375 47.171875 37.8125 47.578125 \nQ 36.03125 48 33.890625 48 \nQ 26.265625 48 22.1875 43.046875 \nQ 18.109375 38.09375 18.109375 28.8125 \nL 18.109375 0 \nL 9.078125 0 \nL 9.078125 54.6875 \nL 18.109375 54.6875 \nL 18.109375 46.1875 \nQ 20.953125 51.171875 25.484375 53.578125 \nQ 30.03125 56 36.53125 56 \nQ 37.453125 56 38.578125 55.875 \nQ 39.703125 55.765625 41.0625 55.515625 \nz\n\" id=\"DejaVuSans-114\"/>\n      </defs>\n      <use xlink:href=\"#DejaVuSans-121\"/>\n      <use x=\"59.179688\" xlink:href=\"#DejaVuSans-101\"/>\n      <use x=\"120.703125\" xlink:href=\"#DejaVuSans-97\"/>\n      <use x=\"181.982422\" xlink:href=\"#DejaVuSans-114\"/>\n     </g>\n    </g>\n   </g>\n   <g id=\"matplotlib.axis_2\">\n    <g id=\"ytick_1\">\n     <g id=\"line2d_8\">\n      <defs>\n       <path d=\"M 0 0 \nL -3.5 0 \n\" id=\"me938294feb\" style=\"stroke:#000000;stroke-width:0.8;\"/>\n      </defs>\n      <g>\n       <use style=\"stroke:#000000;stroke-width:0.8;\" x=\"52.375\" xlink:href=\"#me938294feb\" y=\"294.118125\"/>\n      </g>\n     </g>\n     <g id=\"text_9\">\n      <!-- 370000 -->\n      <g transform=\"translate(7.2 297.917344)scale(0.1 -0.1)\">\n       <defs>\n        <path d=\"M 8.203125 72.90625 \nL 55.078125 72.90625 \nL 55.078125 68.703125 \nL 28.609375 0 \nL 18.3125 0 \nL 43.21875 64.59375 \nL 8.203125 64.59375 \nz\n\" id=\"DejaVuSans-55\"/>\n       </defs>\n       <use xlink:href=\"#DejaVuSans-51\"/>\n       <use x=\"63.623047\" xlink:href=\"#DejaVuSans-55\"/>\n       <use x=\"127.246094\" xlink:href=\"#DejaVuSans-48\"/>\n       <use x=\"190.869141\" xlink:href=\"#DejaVuSans-48\"/>\n       <use x=\"254.492188\" xlink:href=\"#DejaVuSans-48\"/>\n       <use x=\"318.115234\" xlink:href=\"#DejaVuSans-48\"/>\n      </g>\n     </g>\n    </g>\n    <g id=\"ytick_2\">\n     <g id=\"line2d_9\">\n      <g>\n       <use style=\"stroke:#000000;stroke-width:0.8;\" x=\"52.375\" xlink:href=\"#me938294feb\" y=\"257.878125\"/>\n      </g>\n     </g>\n     <g id=\"text_10\">\n      <!-- 372000 -->\n      <g transform=\"translate(7.2 261.677344)scale(0.1 -0.1)\">\n       <use xlink:href=\"#DejaVuSans-51\"/>\n       <use x=\"63.623047\" xlink:href=\"#DejaVuSans-55\"/>\n       <use x=\"127.246094\" xlink:href=\"#DejaVuSans-50\"/>\n       <use x=\"190.869141\" xlink:href=\"#DejaVuSans-48\"/>\n       <use x=\"254.492188\" xlink:href=\"#DejaVuSans-48\"/>\n       <use x=\"318.115234\" xlink:href=\"#DejaVuSans-48\"/>\n      </g>\n     </g>\n    </g>\n    <g id=\"ytick_3\">\n     <g id=\"line2d_10\">\n      <g>\n       <use style=\"stroke:#000000;stroke-width:0.8;\" x=\"52.375\" xlink:href=\"#me938294feb\" y=\"221.638125\"/>\n      </g>\n     </g>\n     <g id=\"text_11\">\n      <!-- 374000 -->\n      <g transform=\"translate(7.2 225.437344)scale(0.1 -0.1)\">\n       <use xlink:href=\"#DejaVuSans-51\"/>\n       <use x=\"63.623047\" xlink:href=\"#DejaVuSans-55\"/>\n       <use x=\"127.246094\" xlink:href=\"#DejaVuSans-52\"/>\n       <use x=\"190.869141\" xlink:href=\"#DejaVuSans-48\"/>\n       <use x=\"254.492188\" xlink:href=\"#DejaVuSans-48\"/>\n       <use x=\"318.115234\" xlink:href=\"#DejaVuSans-48\"/>\n      </g>\n     </g>\n    </g>\n    <g id=\"ytick_4\">\n     <g id=\"line2d_11\">\n      <g>\n       <use style=\"stroke:#000000;stroke-width:0.8;\" x=\"52.375\" xlink:href=\"#me938294feb\" y=\"185.398125\"/>\n      </g>\n     </g>\n     <g id=\"text_12\">\n      <!-- 376000 -->\n      <g transform=\"translate(7.2 189.197344)scale(0.1 -0.1)\">\n       <use xlink:href=\"#DejaVuSans-51\"/>\n       <use x=\"63.623047\" xlink:href=\"#DejaVuSans-55\"/>\n       <use x=\"127.246094\" xlink:href=\"#DejaVuSans-54\"/>\n       <use x=\"190.869141\" xlink:href=\"#DejaVuSans-48\"/>\n       <use x=\"254.492188\" xlink:href=\"#DejaVuSans-48\"/>\n       <use x=\"318.115234\" xlink:href=\"#DejaVuSans-48\"/>\n      </g>\n     </g>\n    </g>\n    <g id=\"ytick_5\">\n     <g id=\"line2d_12\">\n      <g>\n       <use style=\"stroke:#000000;stroke-width:0.8;\" x=\"52.375\" xlink:href=\"#me938294feb\" y=\"149.158125\"/>\n      </g>\n     </g>\n     <g id=\"text_13\">\n      <!-- 378000 -->\n      <g transform=\"translate(7.2 152.957344)scale(0.1 -0.1)\">\n       <defs>\n        <path d=\"M 31.78125 34.625 \nQ 24.75 34.625 20.71875 30.859375 \nQ 16.703125 27.09375 16.703125 20.515625 \nQ 16.703125 13.921875 20.71875 10.15625 \nQ 24.75 6.390625 31.78125 6.390625 \nQ 38.8125 6.390625 42.859375 10.171875 \nQ 46.921875 13.96875 46.921875 20.515625 \nQ 46.921875 27.09375 42.890625 30.859375 \nQ 38.875 34.625 31.78125 34.625 \nz\nM 21.921875 38.8125 \nQ 15.578125 40.375 12.03125 44.71875 \nQ 8.5 49.078125 8.5 55.328125 \nQ 8.5 64.0625 14.71875 69.140625 \nQ 20.953125 74.21875 31.78125 74.21875 \nQ 42.671875 74.21875 48.875 69.140625 \nQ 55.078125 64.0625 55.078125 55.328125 \nQ 55.078125 49.078125 51.53125 44.71875 \nQ 48 40.375 41.703125 38.8125 \nQ 48.828125 37.15625 52.796875 32.3125 \nQ 56.78125 27.484375 56.78125 20.515625 \nQ 56.78125 9.90625 50.3125 4.234375 \nQ 43.84375 -1.421875 31.78125 -1.421875 \nQ 19.734375 -1.421875 13.25 4.234375 \nQ 6.78125 9.90625 6.78125 20.515625 \nQ 6.78125 27.484375 10.78125 32.3125 \nQ 14.796875 37.15625 21.921875 38.8125 \nz\nM 18.3125 54.390625 \nQ 18.3125 48.734375 21.84375 45.5625 \nQ 25.390625 42.390625 31.78125 42.390625 \nQ 38.140625 42.390625 41.71875 45.5625 \nQ 45.3125 48.734375 45.3125 54.390625 \nQ 45.3125 60.0625 41.71875 63.234375 \nQ 38.140625 66.40625 31.78125 66.40625 \nQ 25.390625 66.40625 21.84375 63.234375 \nQ 18.3125 60.0625 18.3125 54.390625 \nz\n\" id=\"DejaVuSans-56\"/>\n       </defs>\n       <use xlink:href=\"#DejaVuSans-51\"/>\n       <use x=\"63.623047\" xlink:href=\"#DejaVuSans-55\"/>\n       <use x=\"127.246094\" xlink:href=\"#DejaVuSans-56\"/>\n       <use x=\"190.869141\" xlink:href=\"#DejaVuSans-48\"/>\n       <use x=\"254.492188\" xlink:href=\"#DejaVuSans-48\"/>\n       <use x=\"318.115234\" xlink:href=\"#DejaVuSans-48\"/>\n      </g>\n     </g>\n    </g>\n    <g id=\"ytick_6\">\n     <g id=\"line2d_13\">\n      <g>\n       <use style=\"stroke:#000000;stroke-width:0.8;\" x=\"52.375\" xlink:href=\"#me938294feb\" y=\"112.918125\"/>\n      </g>\n     </g>\n     <g id=\"text_14\">\n      <!-- 380000 -->\n      <g transform=\"translate(7.2 116.717344)scale(0.1 -0.1)\">\n       <use xlink:href=\"#DejaVuSans-51\"/>\n       <use x=\"63.623047\" xlink:href=\"#DejaVuSans-56\"/>\n       <use x=\"127.246094\" xlink:href=\"#DejaVuSans-48\"/>\n       <use x=\"190.869141\" xlink:href=\"#DejaVuSans-48\"/>\n       <use x=\"254.492188\" xlink:href=\"#DejaVuSans-48\"/>\n       <use x=\"318.115234\" xlink:href=\"#DejaVuSans-48\"/>\n      </g>\n     </g>\n    </g>\n    <g id=\"ytick_7\">\n     <g id=\"line2d_14\">\n      <g>\n       <use style=\"stroke:#000000;stroke-width:0.8;\" x=\"52.375\" xlink:href=\"#me938294feb\" y=\"76.678125\"/>\n      </g>\n     </g>\n     <g id=\"text_15\">\n      <!-- 382000 -->\n      <g transform=\"translate(7.2 80.477344)scale(0.1 -0.1)\">\n       <use xlink:href=\"#DejaVuSans-51\"/>\n       <use x=\"63.623047\" xlink:href=\"#DejaVuSans-56\"/>\n       <use x=\"127.246094\" xlink:href=\"#DejaVuSans-50\"/>\n       <use x=\"190.869141\" xlink:href=\"#DejaVuSans-48\"/>\n       <use x=\"254.492188\" xlink:href=\"#DejaVuSans-48\"/>\n       <use x=\"318.115234\" xlink:href=\"#DejaVuSans-48\"/>\n      </g>\n     </g>\n    </g>\n    <g id=\"ytick_8\">\n     <g id=\"line2d_15\">\n      <g>\n       <use style=\"stroke:#000000;stroke-width:0.8;\" x=\"52.375\" xlink:href=\"#me938294feb\" y=\"40.438125\"/>\n      </g>\n     </g>\n     <g id=\"text_16\">\n      <!-- 384000 -->\n      <g transform=\"translate(7.2 44.237344)scale(0.1 -0.1)\">\n       <use xlink:href=\"#DejaVuSans-51\"/>\n       <use x=\"63.623047\" xlink:href=\"#DejaVuSans-56\"/>\n       <use x=\"127.246094\" xlink:href=\"#DejaVuSans-52\"/>\n       <use x=\"190.869141\" xlink:href=\"#DejaVuSans-48\"/>\n       <use x=\"254.492188\" xlink:href=\"#DejaVuSans-48\"/>\n       <use x=\"318.115234\" xlink:href=\"#DejaVuSans-48\"/>\n      </g>\n     </g>\n    </g>\n   </g>\n   <g id=\"patch_10\">\n    <path d=\"M 52.375 294.118125 \nL 52.375 22.318125 \n\" style=\"fill:none;stroke:#000000;stroke-linecap:square;stroke-linejoin:miter;stroke-width:0.8;\"/>\n   </g>\n   <g id=\"patch_11\">\n    <path d=\"M 331.375 294.118125 \nL 331.375 22.318125 \n\" style=\"fill:none;stroke:#000000;stroke-linecap:square;stroke-linejoin:miter;stroke-width:0.8;\"/>\n   </g>\n   <g id=\"patch_12\">\n    <path d=\"M 52.375 294.118125 \nL 331.375 294.118125 \n\" style=\"fill:none;stroke:#000000;stroke-linecap:square;stroke-linejoin:miter;stroke-width:0.8;\"/>\n   </g>\n   <g id=\"patch_13\">\n    <path d=\"M 52.375 22.318125 \nL 331.375 22.318125 \n\" style=\"fill:none;stroke:#000000;stroke-linecap:square;stroke-linejoin:miter;stroke-width:0.8;\"/>\n   </g>\n   <g id=\"text_17\">\n    <!-- Housing Units in San Fransisco from 10'-16' -->\n    <g transform=\"translate(61.405 16.318125)scale(0.12 -0.12)\">\n     <defs>\n      <path d=\"M 9.8125 72.90625 \nL 19.671875 72.90625 \nL 19.671875 43.015625 \nL 55.515625 43.015625 \nL 55.515625 72.90625 \nL 65.375 72.90625 \nL 65.375 0 \nL 55.515625 0 \nL 55.515625 34.71875 \nL 19.671875 34.71875 \nL 19.671875 0 \nL 9.8125 0 \nz\n\" id=\"DejaVuSans-72\"/>\n      <path d=\"M 30.609375 48.390625 \nQ 23.390625 48.390625 19.1875 42.75 \nQ 14.984375 37.109375 14.984375 27.296875 \nQ 14.984375 17.484375 19.15625 11.84375 \nQ 23.34375 6.203125 30.609375 6.203125 \nQ 37.796875 6.203125 41.984375 11.859375 \nQ 46.1875 17.53125 46.1875 27.296875 \nQ 46.1875 37.015625 41.984375 42.703125 \nQ 37.796875 48.390625 30.609375 48.390625 \nz\nM 30.609375 56 \nQ 42.328125 56 49.015625 48.375 \nQ 55.71875 40.765625 55.71875 27.296875 \nQ 55.71875 13.875 49.015625 6.21875 \nQ 42.328125 -1.421875 30.609375 -1.421875 \nQ 18.84375 -1.421875 12.171875 6.21875 \nQ 5.515625 13.875 5.515625 27.296875 \nQ 5.515625 40.765625 12.171875 48.375 \nQ 18.84375 56 30.609375 56 \nz\n\" id=\"DejaVuSans-111\"/>\n      <path d=\"M 8.5 21.578125 \nL 8.5 54.6875 \nL 17.484375 54.6875 \nL 17.484375 21.921875 \nQ 17.484375 14.15625 20.5 10.265625 \nQ 23.53125 6.390625 29.59375 6.390625 \nQ 36.859375 6.390625 41.078125 11.03125 \nQ 45.3125 15.671875 45.3125 23.6875 \nL 45.3125 54.6875 \nL 54.296875 54.6875 \nL 54.296875 0 \nL 45.3125 0 \nL 45.3125 8.40625 \nQ 42.046875 3.421875 37.71875 1 \nQ 33.40625 -1.421875 27.6875 -1.421875 \nQ 18.265625 -1.421875 13.375 4.4375 \nQ 8.5 10.296875 8.5 21.578125 \nz\nM 31.109375 56 \nz\n\" id=\"DejaVuSans-117\"/>\n      <path d=\"M 44.28125 53.078125 \nL 44.28125 44.578125 \nQ 40.484375 46.53125 36.375 47.5 \nQ 32.28125 48.484375 27.875 48.484375 \nQ 21.1875 48.484375 17.84375 46.4375 \nQ 14.5 44.390625 14.5 40.28125 \nQ 14.5 37.15625 16.890625 35.375 \nQ 19.28125 33.59375 26.515625 31.984375 \nL 29.59375 31.296875 \nQ 39.15625 29.25 43.1875 25.515625 \nQ 47.21875 21.78125 47.21875 15.09375 \nQ 47.21875 7.46875 41.1875 3.015625 \nQ 35.15625 -1.421875 24.609375 -1.421875 \nQ 20.21875 -1.421875 15.453125 -0.5625 \nQ 10.6875 0.296875 5.421875 2 \nL 5.421875 11.28125 \nQ 10.40625 8.6875 15.234375 7.390625 \nQ 20.0625 6.109375 24.8125 6.109375 \nQ 31.15625 6.109375 34.5625 8.28125 \nQ 37.984375 10.453125 37.984375 14.40625 \nQ 37.984375 18.0625 35.515625 20.015625 \nQ 33.0625 21.96875 24.703125 23.78125 \nL 21.578125 24.515625 \nQ 13.234375 26.265625 9.515625 29.90625 \nQ 5.8125 33.546875 5.8125 39.890625 \nQ 5.8125 47.609375 11.28125 51.796875 \nQ 16.75 56 26.8125 56 \nQ 31.78125 56 36.171875 55.265625 \nQ 40.578125 54.546875 44.28125 53.078125 \nz\n\" id=\"DejaVuSans-115\"/>\n      <path d=\"M 9.421875 54.6875 \nL 18.40625 54.6875 \nL 18.40625 0 \nL 9.421875 0 \nz\nM 9.421875 75.984375 \nL 18.40625 75.984375 \nL 18.40625 64.59375 \nL 9.421875 64.59375 \nz\n\" id=\"DejaVuSans-105\"/>\n      <path d=\"M 54.890625 33.015625 \nL 54.890625 0 \nL 45.90625 0 \nL 45.90625 32.71875 \nQ 45.90625 40.484375 42.875 44.328125 \nQ 39.84375 48.1875 33.796875 48.1875 \nQ 26.515625 48.1875 22.3125 43.546875 \nQ 18.109375 38.921875 18.109375 30.90625 \nL 18.109375 0 \nL 9.078125 0 \nL 9.078125 54.6875 \nL 18.109375 54.6875 \nL 18.109375 46.1875 \nQ 21.34375 51.125 25.703125 53.5625 \nQ 30.078125 56 35.796875 56 \nQ 45.21875 56 50.046875 50.171875 \nQ 54.890625 44.34375 54.890625 33.015625 \nz\n\" id=\"DejaVuSans-110\"/>\n      <path d=\"M 45.40625 27.984375 \nQ 45.40625 37.75 41.375 43.109375 \nQ 37.359375 48.484375 30.078125 48.484375 \nQ 22.859375 48.484375 18.828125 43.109375 \nQ 14.796875 37.75 14.796875 27.984375 \nQ 14.796875 18.265625 18.828125 12.890625 \nQ 22.859375 7.515625 30.078125 7.515625 \nQ 37.359375 7.515625 41.375 12.890625 \nQ 45.40625 18.265625 45.40625 27.984375 \nz\nM 54.390625 6.78125 \nQ 54.390625 -7.171875 48.1875 -13.984375 \nQ 42 -20.796875 29.203125 -20.796875 \nQ 24.46875 -20.796875 20.265625 -20.09375 \nQ 16.0625 -19.390625 12.109375 -17.921875 \nL 12.109375 -9.1875 \nQ 16.0625 -11.328125 19.921875 -12.34375 \nQ 23.78125 -13.375 27.78125 -13.375 \nQ 36.625 -13.375 41.015625 -8.765625 \nQ 45.40625 -4.15625 45.40625 5.171875 \nL 45.40625 9.625 \nQ 42.625 4.78125 38.28125 2.390625 \nQ 33.9375 0 27.875 0 \nQ 17.828125 0 11.671875 7.65625 \nQ 5.515625 15.328125 5.515625 27.984375 \nQ 5.515625 40.671875 11.671875 48.328125 \nQ 17.828125 56 27.875 56 \nQ 33.9375 56 38.28125 53.609375 \nQ 42.625 51.21875 45.40625 46.390625 \nL 45.40625 54.6875 \nL 54.390625 54.6875 \nz\n\" id=\"DejaVuSans-103\"/>\n      <path id=\"DejaVuSans-32\"/>\n      <path d=\"M 8.6875 72.90625 \nL 18.609375 72.90625 \nL 18.609375 28.609375 \nQ 18.609375 16.890625 22.84375 11.734375 \nQ 27.09375 6.59375 36.625 6.59375 \nQ 46.09375 6.59375 50.34375 11.734375 \nQ 54.59375 16.890625 54.59375 28.609375 \nL 54.59375 72.90625 \nL 64.5 72.90625 \nL 64.5 27.390625 \nQ 64.5 13.140625 57.4375 5.859375 \nQ 50.390625 -1.421875 36.625 -1.421875 \nQ 22.796875 -1.421875 15.734375 5.859375 \nQ 8.6875 13.140625 8.6875 27.390625 \nz\n\" id=\"DejaVuSans-85\"/>\n      <path d=\"M 18.3125 70.21875 \nL 18.3125 54.6875 \nL 36.8125 54.6875 \nL 36.8125 47.703125 \nL 18.3125 47.703125 \nL 18.3125 18.015625 \nQ 18.3125 11.328125 20.140625 9.421875 \nQ 21.96875 7.515625 27.59375 7.515625 \nL 36.8125 7.515625 \nL 36.8125 0 \nL 27.59375 0 \nQ 17.1875 0 13.234375 3.875 \nQ 9.28125 7.765625 9.28125 18.015625 \nL 9.28125 47.703125 \nL 2.6875 47.703125 \nL 2.6875 54.6875 \nL 9.28125 54.6875 \nL 9.28125 70.21875 \nz\n\" id=\"DejaVuSans-116\"/>\n      <path d=\"M 53.515625 70.515625 \nL 53.515625 60.890625 \nQ 47.90625 63.578125 42.921875 64.890625 \nQ 37.9375 66.21875 33.296875 66.21875 \nQ 25.25 66.21875 20.875 63.09375 \nQ 16.5 59.96875 16.5 54.203125 \nQ 16.5 49.359375 19.40625 46.890625 \nQ 22.3125 44.4375 30.421875 42.921875 \nL 36.375 41.703125 \nQ 47.40625 39.59375 52.65625 34.296875 \nQ 57.90625 29 57.90625 20.125 \nQ 57.90625 9.515625 50.796875 4.046875 \nQ 43.703125 -1.421875 29.984375 -1.421875 \nQ 24.8125 -1.421875 18.96875 -0.25 \nQ 13.140625 0.921875 6.890625 3.21875 \nL 6.890625 13.375 \nQ 12.890625 10.015625 18.65625 8.296875 \nQ 24.421875 6.59375 29.984375 6.59375 \nQ 38.421875 6.59375 43.015625 9.90625 \nQ 47.609375 13.234375 47.609375 19.390625 \nQ 47.609375 24.75 44.3125 27.78125 \nQ 41.015625 30.8125 33.5 32.328125 \nL 27.484375 33.5 \nQ 16.453125 35.6875 11.515625 40.375 \nQ 6.59375 45.0625 6.59375 53.421875 \nQ 6.59375 63.09375 13.40625 68.65625 \nQ 20.21875 74.21875 32.171875 74.21875 \nQ 37.3125 74.21875 42.625 73.28125 \nQ 47.953125 72.359375 53.515625 70.515625 \nz\n\" id=\"DejaVuSans-83\"/>\n      <path d=\"M 9.8125 72.90625 \nL 51.703125 72.90625 \nL 51.703125 64.59375 \nL 19.671875 64.59375 \nL 19.671875 43.109375 \nL 48.578125 43.109375 \nL 48.578125 34.8125 \nL 19.671875 34.8125 \nL 19.671875 0 \nL 9.8125 0 \nz\n\" id=\"DejaVuSans-70\"/>\n      <path d=\"M 48.78125 52.59375 \nL 48.78125 44.1875 \nQ 44.96875 46.296875 41.140625 47.34375 \nQ 37.3125 48.390625 33.40625 48.390625 \nQ 24.65625 48.390625 19.8125 42.84375 \nQ 14.984375 37.3125 14.984375 27.296875 \nQ 14.984375 17.28125 19.8125 11.734375 \nQ 24.65625 6.203125 33.40625 6.203125 \nQ 37.3125 6.203125 41.140625 7.25 \nQ 44.96875 8.296875 48.78125 10.40625 \nL 48.78125 2.09375 \nQ 45.015625 0.34375 40.984375 -0.53125 \nQ 36.96875 -1.421875 32.421875 -1.421875 \nQ 20.0625 -1.421875 12.78125 6.34375 \nQ 5.515625 14.109375 5.515625 27.296875 \nQ 5.515625 40.671875 12.859375 48.328125 \nQ 20.21875 56 33.015625 56 \nQ 37.15625 56 41.109375 55.140625 \nQ 45.0625 54.296875 48.78125 52.59375 \nz\n\" id=\"DejaVuSans-99\"/>\n      <path d=\"M 37.109375 75.984375 \nL 37.109375 68.5 \nL 28.515625 68.5 \nQ 23.6875 68.5 21.796875 66.546875 \nQ 19.921875 64.59375 19.921875 59.515625 \nL 19.921875 54.6875 \nL 34.71875 54.6875 \nL 34.71875 47.703125 \nL 19.921875 47.703125 \nL 19.921875 0 \nL 10.890625 0 \nL 10.890625 47.703125 \nL 2.296875 47.703125 \nL 2.296875 54.6875 \nL 10.890625 54.6875 \nL 10.890625 58.5 \nQ 10.890625 67.625 15.140625 71.796875 \nQ 19.390625 75.984375 28.609375 75.984375 \nz\n\" id=\"DejaVuSans-102\"/>\n      <path d=\"M 52 44.1875 \nQ 55.375 50.25 60.0625 53.125 \nQ 64.75 56 71.09375 56 \nQ 79.640625 56 84.28125 50.015625 \nQ 88.921875 44.046875 88.921875 33.015625 \nL 88.921875 0 \nL 79.890625 0 \nL 79.890625 32.71875 \nQ 79.890625 40.578125 77.09375 44.375 \nQ 74.3125 48.1875 68.609375 48.1875 \nQ 61.625 48.1875 57.5625 43.546875 \nQ 53.515625 38.921875 53.515625 30.90625 \nL 53.515625 0 \nL 44.484375 0 \nL 44.484375 32.71875 \nQ 44.484375 40.625 41.703125 44.40625 \nQ 38.921875 48.1875 33.109375 48.1875 \nQ 26.21875 48.1875 22.15625 43.53125 \nQ 18.109375 38.875 18.109375 30.90625 \nL 18.109375 0 \nL 9.078125 0 \nL 9.078125 54.6875 \nL 18.109375 54.6875 \nL 18.109375 46.1875 \nQ 21.1875 51.21875 25.484375 53.609375 \nQ 29.78125 56 35.6875 56 \nQ 41.65625 56 45.828125 52.96875 \nQ 50 49.953125 52 44.1875 \nz\n\" id=\"DejaVuSans-109\"/>\n      <path d=\"M 17.921875 72.90625 \nL 17.921875 45.796875 \nL 9.625 45.796875 \nL 9.625 72.90625 \nz\n\" id=\"DejaVuSans-39\"/>\n      <path d=\"M 4.890625 31.390625 \nL 31.203125 31.390625 \nL 31.203125 23.390625 \nL 4.890625 23.390625 \nz\n\" id=\"DejaVuSans-45\"/>\n     </defs>\n     <use xlink:href=\"#DejaVuSans-72\"/>\n     <use x=\"75.195312\" xlink:href=\"#DejaVuSans-111\"/>\n     <use x=\"136.376953\" xlink:href=\"#DejaVuSans-117\"/>\n     <use x=\"199.755859\" xlink:href=\"#DejaVuSans-115\"/>\n     <use x=\"251.855469\" xlink:href=\"#DejaVuSans-105\"/>\n     <use x=\"279.638672\" xlink:href=\"#DejaVuSans-110\"/>\n     <use x=\"343.017578\" xlink:href=\"#DejaVuSans-103\"/>\n     <use x=\"406.494141\" xlink:href=\"#DejaVuSans-32\"/>\n     <use x=\"438.28125\" xlink:href=\"#DejaVuSans-85\"/>\n     <use x=\"511.474609\" xlink:href=\"#DejaVuSans-110\"/>\n     <use x=\"574.853516\" xlink:href=\"#DejaVuSans-105\"/>\n     <use x=\"602.636719\" xlink:href=\"#DejaVuSans-116\"/>\n     <use x=\"641.845703\" xlink:href=\"#DejaVuSans-115\"/>\n     <use x=\"693.945312\" xlink:href=\"#DejaVuSans-32\"/>\n     <use x=\"725.732422\" xlink:href=\"#DejaVuSans-105\"/>\n     <use x=\"753.515625\" xlink:href=\"#DejaVuSans-110\"/>\n     <use x=\"816.894531\" xlink:href=\"#DejaVuSans-32\"/>\n     <use x=\"848.681641\" xlink:href=\"#DejaVuSans-83\"/>\n     <use x=\"912.158203\" xlink:href=\"#DejaVuSans-97\"/>\n     <use x=\"973.4375\" xlink:href=\"#DejaVuSans-110\"/>\n     <use x=\"1036.816406\" xlink:href=\"#DejaVuSans-32\"/>\n     <use x=\"1068.603516\" xlink:href=\"#DejaVuSans-70\"/>\n     <use x=\"1118.873047\" xlink:href=\"#DejaVuSans-114\"/>\n     <use x=\"1159.986328\" xlink:href=\"#DejaVuSans-97\"/>\n     <use x=\"1221.265625\" xlink:href=\"#DejaVuSans-110\"/>\n     <use x=\"1284.644531\" xlink:href=\"#DejaVuSans-115\"/>\n     <use x=\"1336.744141\" xlink:href=\"#DejaVuSans-105\"/>\n     <use x=\"1364.527344\" xlink:href=\"#DejaVuSans-115\"/>\n     <use x=\"1416.626953\" xlink:href=\"#DejaVuSans-99\"/>\n     <use x=\"1471.607422\" xlink:href=\"#DejaVuSans-111\"/>\n     <use x=\"1532.789062\" xlink:href=\"#DejaVuSans-32\"/>\n     <use x=\"1564.576172\" xlink:href=\"#DejaVuSans-102\"/>\n     <use x=\"1599.78125\" xlink:href=\"#DejaVuSans-114\"/>\n     <use x=\"1638.644531\" xlink:href=\"#DejaVuSans-111\"/>\n     <use x=\"1699.826172\" xlink:href=\"#DejaVuSans-109\"/>\n     <use x=\"1797.238281\" xlink:href=\"#DejaVuSans-32\"/>\n     <use x=\"1829.025391\" xlink:href=\"#DejaVuSans-49\"/>\n     <use x=\"1892.648438\" xlink:href=\"#DejaVuSans-48\"/>\n     <use x=\"1956.271484\" xlink:href=\"#DejaVuSans-39\"/>\n     <use x=\"1983.761719\" xlink:href=\"#DejaVuSans-45\"/>\n     <use x=\"2019.845703\" xlink:href=\"#DejaVuSans-49\"/>\n     <use x=\"2083.46875\" xlink:href=\"#DejaVuSans-54\"/>\n     <use x=\"2147.091797\" xlink:href=\"#DejaVuSans-39\"/>\n    </g>\n   </g>\n  </g>\n </g>\n <defs>\n  <clipPath id=\"p4c2eebdbf0\">\n   <rect height=\"271.8\" width=\"279\" x=\"52.375\" y=\"22.318125\"/>\n  </clipPath>\n </defs>\n</svg>\n",
      "image/png": "[encoded data removed]"
     },
     "metadata": {
      "needs_background": "light"
     }
    }
   ],
   "source": [
    "housing_units_per_year()"
   ]
  },
  {
   "cell_type": "code",
   "execution_count": 10,
   "metadata": {},
   "outputs": [
    {
     "output_type": "execute_result",
     "data": {
      "text/plain": [
       "<AxesSubplot:title={'center':'Monthly Gross Rent Average'}, xlabel='year'>"
      ]
     },
     "metadata": {},
     "execution_count": 10
    },
    {
     "output_type": "display_data",
     "data": {
      "text/plain": "<Figure size 360x360 with 1 Axes>",
      "image/svg+xml": "<?xml version=\"1.0\" encoding=\"utf-8\" standalone=\"no\"?>\n<!DOCTYPE svg PUBLIC \"-//W3C//DTD SVG 1.1//EN\"\n  \"http://www.w3.org/Graphics/SVG/1.1/DTD/svg11.dtd\">\n<!-- Created with matplotlib (https://matplotlib.org/) -->\n<svg height=\"331.674375pt\" version=\"1.1\" viewBox=\"0 0 338.575 331.674375\" width=\"338.575pt\" xmlns=\"http://www.w3.org/2000/svg\" xmlns:xlink=\"http://www.w3.org/1999/xlink\">\n <metadata>\n  <rdf:RDF xmlns:cc=\"http://creativecommons.org/ns#\" xmlns:dc=\"http://purl.org/dc/elements/1.1/\" xmlns:rdf=\"http://www.w3.org/1999/02/22-rdf-syntax-ns#\">\n   <cc:Work>\n    <dc:type rdf:resource=\"http://purl.org/dc/dcmitype/StillImage\"/>\n    <dc:date>2021-02-03T16:47:02.304992</dc:date>\n    <dc:format>image/svg+xml</dc:format>\n    <dc:creator>\n     <cc:Agent>\n      <dc:title>Matplotlib v3.3.4, https://matplotlib.org/</dc:title>\n     </cc:Agent>\n    </dc:creator>\n   </cc:Work>\n  </rdf:RDF>\n </metadata>\n <defs>\n  <style type=\"text/css\">*{stroke-linecap:butt;stroke-linejoin:round;}</style>\n </defs>\n <g id=\"figure_1\">\n  <g id=\"patch_1\">\n   <path d=\"M 0 331.674375 \nL 338.575 331.674375 \nL 338.575 0 \nL 0 0 \nz\n\" style=\"fill:none;\"/>\n  </g>\n  <g id=\"axes_1\">\n   <g id=\"patch_2\">\n    <path d=\"M 39.65 294.118125 \nL 318.65 294.118125 \nL 318.65 22.318125 \nL 39.65 22.318125 \nz\n\" style=\"fill:#ffffff;\"/>\n   </g>\n   <g id=\"matplotlib.axis_1\">\n    <g id=\"xtick_1\">\n     <g id=\"line2d_1\">\n      <path clip-path=\"url(#pdb3561dae3)\" d=\"M 39.65 294.118125 \nL 39.65 22.318125 \n\" style=\"fill:none;stroke:#b0b0b0;stroke-linecap:square;stroke-width:0.8;\"/>\n     </g>\n     <g id=\"line2d_2\">\n      <defs>\n       <path d=\"M 0 0 \nL 0 3.5 \n\" id=\"md4c6ffc93d\" style=\"stroke:#000000;stroke-width:0.8;\"/>\n      </defs>\n      <g>\n       <use style=\"stroke:#000000;stroke-width:0.8;\" x=\"39.65\" xlink:href=\"#md4c6ffc93d\" y=\"294.118125\"/>\n      </g>\n     </g>\n     <g id=\"text_1\">\n      <!-- 2010 -->\n      <g transform=\"translate(26.925 308.716563)scale(0.1 -0.1)\">\n       <defs>\n        <path d=\"M 19.1875 8.296875 \nL 53.609375 8.296875 \nL 53.609375 0 \nL 7.328125 0 \nL 7.328125 8.296875 \nQ 12.9375 14.109375 22.625 23.890625 \nQ 32.328125 33.6875 34.8125 36.53125 \nQ 39.546875 41.84375 41.421875 45.53125 \nQ 43.3125 49.21875 43.3125 52.78125 \nQ 43.3125 58.59375 39.234375 62.25 \nQ 35.15625 65.921875 28.609375 65.921875 \nQ 23.96875 65.921875 18.8125 64.3125 \nQ 13.671875 62.703125 7.8125 59.421875 \nL 7.8125 69.390625 \nQ 13.765625 71.78125 18.9375 73 \nQ 24.125 74.21875 28.421875 74.21875 \nQ 39.75 74.21875 46.484375 68.546875 \nQ 53.21875 62.890625 53.21875 53.421875 \nQ 53.21875 48.921875 51.53125 44.890625 \nQ 49.859375 40.875 45.40625 35.40625 \nQ 44.1875 33.984375 37.640625 27.21875 \nQ 31.109375 20.453125 19.1875 8.296875 \nz\n\" id=\"DejaVuSans-50\"/>\n        <path d=\"M 31.78125 66.40625 \nQ 24.171875 66.40625 20.328125 58.90625 \nQ 16.5 51.421875 16.5 36.375 \nQ 16.5 21.390625 20.328125 13.890625 \nQ 24.171875 6.390625 31.78125 6.390625 \nQ 39.453125 6.390625 43.28125 13.890625 \nQ 47.125 21.390625 47.125 36.375 \nQ 47.125 51.421875 43.28125 58.90625 \nQ 39.453125 66.40625 31.78125 66.40625 \nz\nM 31.78125 74.21875 \nQ 44.046875 74.21875 50.515625 64.515625 \nQ 56.984375 54.828125 56.984375 36.375 \nQ 56.984375 17.96875 50.515625 8.265625 \nQ 44.046875 -1.421875 31.78125 -1.421875 \nQ 19.53125 -1.421875 13.0625 8.265625 \nQ 6.59375 17.96875 6.59375 36.375 \nQ 6.59375 54.828125 13.0625 64.515625 \nQ 19.53125 74.21875 31.78125 74.21875 \nz\n\" id=\"DejaVuSans-48\"/>\n        <path d=\"M 12.40625 8.296875 \nL 28.515625 8.296875 \nL 28.515625 63.921875 \nL 10.984375 60.40625 \nL 10.984375 69.390625 \nL 28.421875 72.90625 \nL 38.28125 72.90625 \nL 38.28125 8.296875 \nL 54.390625 8.296875 \nL 54.390625 0 \nL 12.40625 0 \nz\n\" id=\"DejaVuSans-49\"/>\n       </defs>\n       <use xlink:href=\"#DejaVuSans-50\"/>\n       <use x=\"63.623047\" xlink:href=\"#DejaVuSans-48\"/>\n       <use x=\"127.246094\" xlink:href=\"#DejaVuSans-49\"/>\n       <use x=\"190.869141\" xlink:href=\"#DejaVuSans-48\"/>\n      </g>\n     </g>\n    </g>\n    <g id=\"xtick_2\">\n     <g id=\"line2d_3\">\n      <path clip-path=\"url(#pdb3561dae3)\" d=\"M 86.15 294.118125 \nL 86.15 22.318125 \n\" style=\"fill:none;stroke:#b0b0b0;stroke-linecap:square;stroke-width:0.8;\"/>\n     </g>\n     <g id=\"line2d_4\">\n      <g>\n       <use style=\"stroke:#000000;stroke-width:0.8;\" x=\"86.15\" xlink:href=\"#md4c6ffc93d\" y=\"294.118125\"/>\n      </g>\n     </g>\n     <g id=\"text_2\">\n      <!-- 2011 -->\n      <g transform=\"translate(73.425 308.716563)scale(0.1 -0.1)\">\n       <use xlink:href=\"#DejaVuSans-50\"/>\n       <use x=\"63.623047\" xlink:href=\"#DejaVuSans-48\"/>\n       <use x=\"127.246094\" xlink:href=\"#DejaVuSans-49\"/>\n       <use x=\"190.869141\" xlink:href=\"#DejaVuSans-49\"/>\n      </g>\n     </g>\n    </g>\n    <g id=\"xtick_3\">\n     <g id=\"line2d_5\">\n      <path clip-path=\"url(#pdb3561dae3)\" d=\"M 132.65 294.118125 \nL 132.65 22.318125 \n\" style=\"fill:none;stroke:#b0b0b0;stroke-linecap:square;stroke-width:0.8;\"/>\n     </g>\n     <g id=\"line2d_6\">\n      <g>\n       <use style=\"stroke:#000000;stroke-width:0.8;\" x=\"132.65\" xlink:href=\"#md4c6ffc93d\" y=\"294.118125\"/>\n      </g>\n     </g>\n     <g id=\"text_3\">\n      <!-- 2012 -->\n      <g transform=\"translate(119.925 308.716563)scale(0.1 -0.1)\">\n       <use xlink:href=\"#DejaVuSans-50\"/>\n       <use x=\"63.623047\" xlink:href=\"#DejaVuSans-48\"/>\n       <use x=\"127.246094\" xlink:href=\"#DejaVuSans-49\"/>\n       <use x=\"190.869141\" xlink:href=\"#DejaVuSans-50\"/>\n      </g>\n     </g>\n    </g>\n    <g id=\"xtick_4\">\n     <g id=\"line2d_7\">\n      <path clip-path=\"url(#pdb3561dae3)\" d=\"M 179.15 294.118125 \nL 179.15 22.318125 \n\" style=\"fill:none;stroke:#b0b0b0;stroke-linecap:square;stroke-width:0.8;\"/>\n     </g>\n     <g id=\"line2d_8\">\n      <g>\n       <use style=\"stroke:#000000;stroke-width:0.8;\" x=\"179.15\" xlink:href=\"#md4c6ffc93d\" y=\"294.118125\"/>\n      </g>\n     </g>\n     <g id=\"text_4\">\n      <!-- 2013 -->\n      <g transform=\"translate(166.425 308.716563)scale(0.1 -0.1)\">\n       <defs>\n        <path d=\"M 40.578125 39.3125 \nQ 47.65625 37.796875 51.625 33 \nQ 55.609375 28.21875 55.609375 21.1875 \nQ 55.609375 10.40625 48.1875 4.484375 \nQ 40.765625 -1.421875 27.09375 -1.421875 \nQ 22.515625 -1.421875 17.65625 -0.515625 \nQ 12.796875 0.390625 7.625 2.203125 \nL 7.625 11.71875 \nQ 11.71875 9.328125 16.59375 8.109375 \nQ 21.484375 6.890625 26.8125 6.890625 \nQ 36.078125 6.890625 40.9375 10.546875 \nQ 45.796875 14.203125 45.796875 21.1875 \nQ 45.796875 27.640625 41.28125 31.265625 \nQ 36.765625 34.90625 28.71875 34.90625 \nL 20.21875 34.90625 \nL 20.21875 43.015625 \nL 29.109375 43.015625 \nQ 36.375 43.015625 40.234375 45.921875 \nQ 44.09375 48.828125 44.09375 54.296875 \nQ 44.09375 59.90625 40.109375 62.90625 \nQ 36.140625 65.921875 28.71875 65.921875 \nQ 24.65625 65.921875 20.015625 65.03125 \nQ 15.375 64.15625 9.8125 62.3125 \nL 9.8125 71.09375 \nQ 15.4375 72.65625 20.34375 73.4375 \nQ 25.25 74.21875 29.59375 74.21875 \nQ 40.828125 74.21875 47.359375 69.109375 \nQ 53.90625 64.015625 53.90625 55.328125 \nQ 53.90625 49.265625 50.4375 45.09375 \nQ 46.96875 40.921875 40.578125 39.3125 \nz\n\" id=\"DejaVuSans-51\"/>\n       </defs>\n       <use xlink:href=\"#DejaVuSans-50\"/>\n       <use x=\"63.623047\" xlink:href=\"#DejaVuSans-48\"/>\n       <use x=\"127.246094\" xlink:href=\"#DejaVuSans-49\"/>\n       <use x=\"190.869141\" xlink:href=\"#DejaVuSans-51\"/>\n      </g>\n     </g>\n    </g>\n    <g id=\"xtick_5\">\n     <g id=\"line2d_9\">\n      <path clip-path=\"url(#pdb3561dae3)\" d=\"M 225.65 294.118125 \nL 225.65 22.318125 \n\" style=\"fill:none;stroke:#b0b0b0;stroke-linecap:square;stroke-width:0.8;\"/>\n     </g>\n     <g id=\"line2d_10\">\n      <g>\n       <use style=\"stroke:#000000;stroke-width:0.8;\" x=\"225.65\" xlink:href=\"#md4c6ffc93d\" y=\"294.118125\"/>\n      </g>\n     </g>\n     <g id=\"text_5\">\n      <!-- 2014 -->\n      <g transform=\"translate(212.925 308.716563)scale(0.1 -0.1)\">\n       <defs>\n        <path d=\"M 37.796875 64.3125 \nL 12.890625 25.390625 \nL 37.796875 25.390625 \nz\nM 35.203125 72.90625 \nL 47.609375 72.90625 \nL 47.609375 25.390625 \nL 58.015625 25.390625 \nL 58.015625 17.1875 \nL 47.609375 17.1875 \nL 47.609375 0 \nL 37.796875 0 \nL 37.796875 17.1875 \nL 4.890625 17.1875 \nL 4.890625 26.703125 \nz\n\" id=\"DejaVuSans-52\"/>\n       </defs>\n       <use xlink:href=\"#DejaVuSans-50\"/>\n       <use x=\"63.623047\" xlink:href=\"#DejaVuSans-48\"/>\n       <use x=\"127.246094\" xlink:href=\"#DejaVuSans-49\"/>\n       <use x=\"190.869141\" xlink:href=\"#DejaVuSans-52\"/>\n      </g>\n     </g>\n    </g>\n    <g id=\"xtick_6\">\n     <g id=\"line2d_11\">\n      <path clip-path=\"url(#pdb3561dae3)\" d=\"M 272.15 294.118125 \nL 272.15 22.318125 \n\" style=\"fill:none;stroke:#b0b0b0;stroke-linecap:square;stroke-width:0.8;\"/>\n     </g>\n     <g id=\"line2d_12\">\n      <g>\n       <use style=\"stroke:#000000;stroke-width:0.8;\" x=\"272.15\" xlink:href=\"#md4c6ffc93d\" y=\"294.118125\"/>\n      </g>\n     </g>\n     <g id=\"text_6\">\n      <!-- 2015 -->\n      <g transform=\"translate(259.425 308.716563)scale(0.1 -0.1)\">\n       <defs>\n        <path d=\"M 10.796875 72.90625 \nL 49.515625 72.90625 \nL 49.515625 64.59375 \nL 19.828125 64.59375 \nL 19.828125 46.734375 \nQ 21.96875 47.46875 24.109375 47.828125 \nQ 26.265625 48.1875 28.421875 48.1875 \nQ 40.625 48.1875 47.75 41.5 \nQ 54.890625 34.8125 54.890625 23.390625 \nQ 54.890625 11.625 47.5625 5.09375 \nQ 40.234375 -1.421875 26.90625 -1.421875 \nQ 22.3125 -1.421875 17.546875 -0.640625 \nQ 12.796875 0.140625 7.71875 1.703125 \nL 7.71875 11.625 \nQ 12.109375 9.234375 16.796875 8.0625 \nQ 21.484375 6.890625 26.703125 6.890625 \nQ 35.15625 6.890625 40.078125 11.328125 \nQ 45.015625 15.765625 45.015625 23.390625 \nQ 45.015625 31 40.078125 35.4375 \nQ 35.15625 39.890625 26.703125 39.890625 \nQ 22.75 39.890625 18.8125 39.015625 \nQ 14.890625 38.140625 10.796875 36.28125 \nz\n\" id=\"DejaVuSans-53\"/>\n       </defs>\n       <use xlink:href=\"#DejaVuSans-50\"/>\n       <use x=\"63.623047\" xlink:href=\"#DejaVuSans-48\"/>\n       <use x=\"127.246094\" xlink:href=\"#DejaVuSans-49\"/>\n       <use x=\"190.869141\" xlink:href=\"#DejaVuSans-53\"/>\n      </g>\n     </g>\n    </g>\n    <g id=\"xtick_7\">\n     <g id=\"line2d_13\">\n      <path clip-path=\"url(#pdb3561dae3)\" d=\"M 318.65 294.118125 \nL 318.65 22.318125 \n\" style=\"fill:none;stroke:#b0b0b0;stroke-linecap:square;stroke-width:0.8;\"/>\n     </g>\n     <g id=\"line2d_14\">\n      <g>\n       <use style=\"stroke:#000000;stroke-width:0.8;\" x=\"318.65\" xlink:href=\"#md4c6ffc93d\" y=\"294.118125\"/>\n      </g>\n     </g>\n     <g id=\"text_7\">\n      <!-- 2016 -->\n      <g transform=\"translate(305.925 308.716563)scale(0.1 -0.1)\">\n       <defs>\n        <path d=\"M 33.015625 40.375 \nQ 26.375 40.375 22.484375 35.828125 \nQ 18.609375 31.296875 18.609375 23.390625 \nQ 18.609375 15.53125 22.484375 10.953125 \nQ 26.375 6.390625 33.015625 6.390625 \nQ 39.65625 6.390625 43.53125 10.953125 \nQ 47.40625 15.53125 47.40625 23.390625 \nQ 47.40625 31.296875 43.53125 35.828125 \nQ 39.65625 40.375 33.015625 40.375 \nz\nM 52.59375 71.296875 \nL 52.59375 62.3125 \nQ 48.875 64.0625 45.09375 64.984375 \nQ 41.3125 65.921875 37.59375 65.921875 \nQ 27.828125 65.921875 22.671875 59.328125 \nQ 17.53125 52.734375 16.796875 39.40625 \nQ 19.671875 43.65625 24.015625 45.921875 \nQ 28.375 48.1875 33.59375 48.1875 \nQ 44.578125 48.1875 50.953125 41.515625 \nQ 57.328125 34.859375 57.328125 23.390625 \nQ 57.328125 12.15625 50.6875 5.359375 \nQ 44.046875 -1.421875 33.015625 -1.421875 \nQ 20.359375 -1.421875 13.671875 8.265625 \nQ 6.984375 17.96875 6.984375 36.375 \nQ 6.984375 53.65625 15.1875 63.9375 \nQ 23.390625 74.21875 37.203125 74.21875 \nQ 40.921875 74.21875 44.703125 73.484375 \nQ 48.484375 72.75 52.59375 71.296875 \nz\n\" id=\"DejaVuSans-54\"/>\n       </defs>\n       <use xlink:href=\"#DejaVuSans-50\"/>\n       <use x=\"63.623047\" xlink:href=\"#DejaVuSans-48\"/>\n       <use x=\"127.246094\" xlink:href=\"#DejaVuSans-49\"/>\n       <use x=\"190.869141\" xlink:href=\"#DejaVuSans-54\"/>\n      </g>\n     </g>\n    </g>\n    <g id=\"text_8\">\n     <!-- year -->\n     <g transform=\"translate(167.994531 322.394687)scale(0.1 -0.1)\">\n      <defs>\n       <path d=\"M 32.171875 -5.078125 \nQ 28.375 -14.84375 24.75 -17.8125 \nQ 21.140625 -20.796875 15.09375 -20.796875 \nL 7.90625 -20.796875 \nL 7.90625 -13.28125 \nL 13.1875 -13.28125 \nQ 16.890625 -13.28125 18.9375 -11.515625 \nQ 21 -9.765625 23.484375 -3.21875 \nL 25.09375 0.875 \nL 2.984375 54.6875 \nL 12.5 54.6875 \nL 29.59375 11.921875 \nL 46.6875 54.6875 \nL 56.203125 54.6875 \nz\n\" id=\"DejaVuSans-121\"/>\n       <path d=\"M 56.203125 29.59375 \nL 56.203125 25.203125 \nL 14.890625 25.203125 \nQ 15.484375 15.921875 20.484375 11.0625 \nQ 25.484375 6.203125 34.421875 6.203125 \nQ 39.59375 6.203125 44.453125 7.46875 \nQ 49.3125 8.734375 54.109375 11.28125 \nL 54.109375 2.78125 \nQ 49.265625 0.734375 44.1875 -0.34375 \nQ 39.109375 -1.421875 33.890625 -1.421875 \nQ 20.796875 -1.421875 13.15625 6.1875 \nQ 5.515625 13.8125 5.515625 26.8125 \nQ 5.515625 40.234375 12.765625 48.109375 \nQ 20.015625 56 32.328125 56 \nQ 43.359375 56 49.78125 48.890625 \nQ 56.203125 41.796875 56.203125 29.59375 \nz\nM 47.21875 32.234375 \nQ 47.125 39.59375 43.09375 43.984375 \nQ 39.0625 48.390625 32.421875 48.390625 \nQ 24.90625 48.390625 20.390625 44.140625 \nQ 15.875 39.890625 15.1875 32.171875 \nz\n\" id=\"DejaVuSans-101\"/>\n       <path d=\"M 34.28125 27.484375 \nQ 23.390625 27.484375 19.1875 25 \nQ 14.984375 22.515625 14.984375 16.5 \nQ 14.984375 11.71875 18.140625 8.90625 \nQ 21.296875 6.109375 26.703125 6.109375 \nQ 34.1875 6.109375 38.703125 11.40625 \nQ 43.21875 16.703125 43.21875 25.484375 \nL 43.21875 27.484375 \nz\nM 52.203125 31.203125 \nL 52.203125 0 \nL 43.21875 0 \nL 43.21875 8.296875 \nQ 40.140625 3.328125 35.546875 0.953125 \nQ 30.953125 -1.421875 24.3125 -1.421875 \nQ 15.921875 -1.421875 10.953125 3.296875 \nQ 6 8.015625 6 15.921875 \nQ 6 25.140625 12.171875 29.828125 \nQ 18.359375 34.515625 30.609375 34.515625 \nL 43.21875 34.515625 \nL 43.21875 35.40625 \nQ 43.21875 41.609375 39.140625 45 \nQ 35.0625 48.390625 27.6875 48.390625 \nQ 23 48.390625 18.546875 47.265625 \nQ 14.109375 46.140625 10.015625 43.890625 \nL 10.015625 52.203125 \nQ 14.9375 54.109375 19.578125 55.046875 \nQ 24.21875 56 28.609375 56 \nQ 40.484375 56 46.34375 49.84375 \nQ 52.203125 43.703125 52.203125 31.203125 \nz\n\" id=\"DejaVuSans-97\"/>\n       <path d=\"M 41.109375 46.296875 \nQ 39.59375 47.171875 37.8125 47.578125 \nQ 36.03125 48 33.890625 48 \nQ 26.265625 48 22.1875 43.046875 \nQ 18.109375 38.09375 18.109375 28.8125 \nL 18.109375 0 \nL 9.078125 0 \nL 9.078125 54.6875 \nL 18.109375 54.6875 \nL 18.109375 46.1875 \nQ 20.953125 51.171875 25.484375 53.578125 \nQ 30.03125 56 36.53125 56 \nQ 37.453125 56 38.578125 55.875 \nQ 39.703125 55.765625 41.0625 55.515625 \nz\n\" id=\"DejaVuSans-114\"/>\n      </defs>\n      <use xlink:href=\"#DejaVuSans-121\"/>\n      <use x=\"59.179688\" xlink:href=\"#DejaVuSans-101\"/>\n      <use x=\"120.703125\" xlink:href=\"#DejaVuSans-97\"/>\n      <use x=\"181.982422\" xlink:href=\"#DejaVuSans-114\"/>\n     </g>\n    </g>\n   </g>\n   <g id=\"matplotlib.axis_2\">\n    <g id=\"ytick_1\">\n     <g id=\"line2d_15\">\n      <path clip-path=\"url(#pdb3561dae3)\" d=\"M 39.65 261.29683 \nL 318.65 261.29683 \n\" style=\"fill:none;stroke:#b0b0b0;stroke-linecap:square;stroke-width:0.8;\"/>\n     </g>\n     <g id=\"line2d_16\">\n      <defs>\n       <path d=\"M 0 0 \nL -3.5 0 \n\" id=\"m2089ce43fc\" style=\"stroke:#000000;stroke-width:0.8;\"/>\n      </defs>\n      <g>\n       <use style=\"stroke:#000000;stroke-width:0.8;\" x=\"39.65\" xlink:href=\"#m2089ce43fc\" y=\"261.29683\"/>\n      </g>\n     </g>\n     <g id=\"text_9\">\n      <!-- 1500 -->\n      <g transform=\"translate(7.2 265.096049)scale(0.1 -0.1)\">\n       <use xlink:href=\"#DejaVuSans-49\"/>\n       <use x=\"63.623047\" xlink:href=\"#DejaVuSans-53\"/>\n       <use x=\"127.246094\" xlink:href=\"#DejaVuSans-48\"/>\n       <use x=\"190.869141\" xlink:href=\"#DejaVuSans-48\"/>\n      </g>\n     </g>\n    </g>\n    <g id=\"ytick_2\">\n     <g id=\"line2d_17\">\n      <path clip-path=\"url(#pdb3561dae3)\" d=\"M 39.65 222.088498 \nL 318.65 222.088498 \n\" style=\"fill:none;stroke:#b0b0b0;stroke-linecap:square;stroke-width:0.8;\"/>\n     </g>\n     <g id=\"line2d_18\">\n      <g>\n       <use style=\"stroke:#000000;stroke-width:0.8;\" x=\"39.65\" xlink:href=\"#m2089ce43fc\" y=\"222.088498\"/>\n      </g>\n     </g>\n     <g id=\"text_10\">\n      <!-- 2000 -->\n      <g transform=\"translate(7.2 225.887717)scale(0.1 -0.1)\">\n       <use xlink:href=\"#DejaVuSans-50\"/>\n       <use x=\"63.623047\" xlink:href=\"#DejaVuSans-48\"/>\n       <use x=\"127.246094\" xlink:href=\"#DejaVuSans-48\"/>\n       <use x=\"190.869141\" xlink:href=\"#DejaVuSans-48\"/>\n      </g>\n     </g>\n    </g>\n    <g id=\"ytick_3\">\n     <g id=\"line2d_19\">\n      <path clip-path=\"url(#pdb3561dae3)\" d=\"M 39.65 182.880166 \nL 318.65 182.880166 \n\" style=\"fill:none;stroke:#b0b0b0;stroke-linecap:square;stroke-width:0.8;\"/>\n     </g>\n     <g id=\"line2d_20\">\n      <g>\n       <use style=\"stroke:#000000;stroke-width:0.8;\" x=\"39.65\" xlink:href=\"#m2089ce43fc\" y=\"182.880166\"/>\n      </g>\n     </g>\n     <g id=\"text_11\">\n      <!-- 2500 -->\n      <g transform=\"translate(7.2 186.679385)scale(0.1 -0.1)\">\n       <use xlink:href=\"#DejaVuSans-50\"/>\n       <use x=\"63.623047\" xlink:href=\"#DejaVuSans-53\"/>\n       <use x=\"127.246094\" xlink:href=\"#DejaVuSans-48\"/>\n       <use x=\"190.869141\" xlink:href=\"#DejaVuSans-48\"/>\n      </g>\n     </g>\n    </g>\n    <g id=\"ytick_4\">\n     <g id=\"line2d_21\">\n      <path clip-path=\"url(#pdb3561dae3)\" d=\"M 39.65 143.671834 \nL 318.65 143.671834 \n\" style=\"fill:none;stroke:#b0b0b0;stroke-linecap:square;stroke-width:0.8;\"/>\n     </g>\n     <g id=\"line2d_22\">\n      <g>\n       <use style=\"stroke:#000000;stroke-width:0.8;\" x=\"39.65\" xlink:href=\"#m2089ce43fc\" y=\"143.671834\"/>\n      </g>\n     </g>\n     <g id=\"text_12\">\n      <!-- 3000 -->\n      <g transform=\"translate(7.2 147.471053)scale(0.1 -0.1)\">\n       <use xlink:href=\"#DejaVuSans-51\"/>\n       <use x=\"63.623047\" xlink:href=\"#DejaVuSans-48\"/>\n       <use x=\"127.246094\" xlink:href=\"#DejaVuSans-48\"/>\n       <use x=\"190.869141\" xlink:href=\"#DejaVuSans-48\"/>\n      </g>\n     </g>\n    </g>\n    <g id=\"ytick_5\">\n     <g id=\"line2d_23\">\n      <path clip-path=\"url(#pdb3561dae3)\" d=\"M 39.65 104.463502 \nL 318.65 104.463502 \n\" style=\"fill:none;stroke:#b0b0b0;stroke-linecap:square;stroke-width:0.8;\"/>\n     </g>\n     <g id=\"line2d_24\">\n      <g>\n       <use style=\"stroke:#000000;stroke-width:0.8;\" x=\"39.65\" xlink:href=\"#m2089ce43fc\" y=\"104.463502\"/>\n      </g>\n     </g>\n     <g id=\"text_13\">\n      <!-- 3500 -->\n      <g transform=\"translate(7.2 108.26272)scale(0.1 -0.1)\">\n       <use xlink:href=\"#DejaVuSans-51\"/>\n       <use x=\"63.623047\" xlink:href=\"#DejaVuSans-53\"/>\n       <use x=\"127.246094\" xlink:href=\"#DejaVuSans-48\"/>\n       <use x=\"190.869141\" xlink:href=\"#DejaVuSans-48\"/>\n      </g>\n     </g>\n    </g>\n    <g id=\"ytick_6\">\n     <g id=\"line2d_25\">\n      <path clip-path=\"url(#pdb3561dae3)\" d=\"M 39.65 65.25517 \nL 318.65 65.25517 \n\" style=\"fill:none;stroke:#b0b0b0;stroke-linecap:square;stroke-width:0.8;\"/>\n     </g>\n     <g id=\"line2d_26\">\n      <g>\n       <use style=\"stroke:#000000;stroke-width:0.8;\" x=\"39.65\" xlink:href=\"#m2089ce43fc\" y=\"65.25517\"/>\n      </g>\n     </g>\n     <g id=\"text_14\">\n      <!-- 4000 -->\n      <g transform=\"translate(7.2 69.054388)scale(0.1 -0.1)\">\n       <use xlink:href=\"#DejaVuSans-52\"/>\n       <use x=\"63.623047\" xlink:href=\"#DejaVuSans-48\"/>\n       <use x=\"127.246094\" xlink:href=\"#DejaVuSans-48\"/>\n       <use x=\"190.869141\" xlink:href=\"#DejaVuSans-48\"/>\n      </g>\n     </g>\n    </g>\n    <g id=\"ytick_7\">\n     <g id=\"line2d_27\">\n      <path clip-path=\"url(#pdb3561dae3)\" d=\"M 39.65 26.046837 \nL 318.65 26.046837 \n\" style=\"fill:none;stroke:#b0b0b0;stroke-linecap:square;stroke-width:0.8;\"/>\n     </g>\n     <g id=\"line2d_28\">\n      <g>\n       <use style=\"stroke:#000000;stroke-width:0.8;\" x=\"39.65\" xlink:href=\"#m2089ce43fc\" y=\"26.046837\"/>\n      </g>\n     </g>\n     <g id=\"text_15\">\n      <!-- 4500 -->\n      <g transform=\"translate(7.2 29.846056)scale(0.1 -0.1)\">\n       <use xlink:href=\"#DejaVuSans-52\"/>\n       <use x=\"63.623047\" xlink:href=\"#DejaVuSans-53\"/>\n       <use x=\"127.246094\" xlink:href=\"#DejaVuSans-48\"/>\n       <use x=\"190.869141\" xlink:href=\"#DejaVuSans-48\"/>\n      </g>\n     </g>\n    </g>\n   </g>\n   <g id=\"line2d_29\">\n    <path clip-path=\"url(#pdb3561dae3)\" d=\"M 39.65 281.76358 \nL 86.15 258.94433 \nL 132.65 196.681499 \nL 179.15 145.945917 \nL 225.65 102.267835 \nL 272.15 85.721919 \nL 318.65 34.67267 \n\" style=\"fill:none;stroke:#ff0000;stroke-linecap:square;stroke-width:2;\"/>\n   </g>\n   <g id=\"patch_3\">\n    <path d=\"M 39.65 294.118125 \nL 39.65 22.318125 \n\" style=\"fill:none;stroke:#000000;stroke-linecap:square;stroke-linejoin:miter;stroke-width:0.8;\"/>\n   </g>\n   <g id=\"patch_4\">\n    <path d=\"M 318.65 294.118125 \nL 318.65 22.318125 \n\" style=\"fill:none;stroke:#000000;stroke-linecap:square;stroke-linejoin:miter;stroke-width:0.8;\"/>\n   </g>\n   <g id=\"patch_5\">\n    <path d=\"M 39.65 294.118125 \nL 318.65 294.118125 \n\" style=\"fill:none;stroke:#000000;stroke-linecap:square;stroke-linejoin:miter;stroke-width:0.8;\"/>\n   </g>\n   <g id=\"patch_6\">\n    <path d=\"M 39.65 22.318125 \nL 318.65 22.318125 \n\" style=\"fill:none;stroke:#000000;stroke-linecap:square;stroke-linejoin:miter;stroke-width:0.8;\"/>\n   </g>\n   <g id=\"text_16\">\n    <!-- Monthly Gross Rent Average -->\n    <g transform=\"translate(94.117813 16.318125)scale(0.12 -0.12)\">\n     <defs>\n      <path d=\"M 9.8125 72.90625 \nL 24.515625 72.90625 \nL 43.109375 23.296875 \nL 61.8125 72.90625 \nL 76.515625 72.90625 \nL 76.515625 0 \nL 66.890625 0 \nL 66.890625 64.015625 \nL 48.09375 14.015625 \nL 38.1875 14.015625 \nL 19.390625 64.015625 \nL 19.390625 0 \nL 9.8125 0 \nz\n\" id=\"DejaVuSans-77\"/>\n      <path d=\"M 30.609375 48.390625 \nQ 23.390625 48.390625 19.1875 42.75 \nQ 14.984375 37.109375 14.984375 27.296875 \nQ 14.984375 17.484375 19.15625 11.84375 \nQ 23.34375 6.203125 30.609375 6.203125 \nQ 37.796875 6.203125 41.984375 11.859375 \nQ 46.1875 17.53125 46.1875 27.296875 \nQ 46.1875 37.015625 41.984375 42.703125 \nQ 37.796875 48.390625 30.609375 48.390625 \nz\nM 30.609375 56 \nQ 42.328125 56 49.015625 48.375 \nQ 55.71875 40.765625 55.71875 27.296875 \nQ 55.71875 13.875 49.015625 6.21875 \nQ 42.328125 -1.421875 30.609375 -1.421875 \nQ 18.84375 -1.421875 12.171875 6.21875 \nQ 5.515625 13.875 5.515625 27.296875 \nQ 5.515625 40.765625 12.171875 48.375 \nQ 18.84375 56 30.609375 56 \nz\n\" id=\"DejaVuSans-111\"/>\n      <path d=\"M 54.890625 33.015625 \nL 54.890625 0 \nL 45.90625 0 \nL 45.90625 32.71875 \nQ 45.90625 40.484375 42.875 44.328125 \nQ 39.84375 48.1875 33.796875 48.1875 \nQ 26.515625 48.1875 22.3125 43.546875 \nQ 18.109375 38.921875 18.109375 30.90625 \nL 18.109375 0 \nL 9.078125 0 \nL 9.078125 54.6875 \nL 18.109375 54.6875 \nL 18.109375 46.1875 \nQ 21.34375 51.125 25.703125 53.5625 \nQ 30.078125 56 35.796875 56 \nQ 45.21875 56 50.046875 50.171875 \nQ 54.890625 44.34375 54.890625 33.015625 \nz\n\" id=\"DejaVuSans-110\"/>\n      <path d=\"M 18.3125 70.21875 \nL 18.3125 54.6875 \nL 36.8125 54.6875 \nL 36.8125 47.703125 \nL 18.3125 47.703125 \nL 18.3125 18.015625 \nQ 18.3125 11.328125 20.140625 9.421875 \nQ 21.96875 7.515625 27.59375 7.515625 \nL 36.8125 7.515625 \nL 36.8125 0 \nL 27.59375 0 \nQ 17.1875 0 13.234375 3.875 \nQ 9.28125 7.765625 9.28125 18.015625 \nL 9.28125 47.703125 \nL 2.6875 47.703125 \nL 2.6875 54.6875 \nL 9.28125 54.6875 \nL 9.28125 70.21875 \nz\n\" id=\"DejaVuSans-116\"/>\n      <path d=\"M 54.890625 33.015625 \nL 54.890625 0 \nL 45.90625 0 \nL 45.90625 32.71875 \nQ 45.90625 40.484375 42.875 44.328125 \nQ 39.84375 48.1875 33.796875 48.1875 \nQ 26.515625 48.1875 22.3125 43.546875 \nQ 18.109375 38.921875 18.109375 30.90625 \nL 18.109375 0 \nL 9.078125 0 \nL 9.078125 75.984375 \nL 18.109375 75.984375 \nL 18.109375 46.1875 \nQ 21.34375 51.125 25.703125 53.5625 \nQ 30.078125 56 35.796875 56 \nQ 45.21875 56 50.046875 50.171875 \nQ 54.890625 44.34375 54.890625 33.015625 \nz\n\" id=\"DejaVuSans-104\"/>\n      <path d=\"M 9.421875 75.984375 \nL 18.40625 75.984375 \nL 18.40625 0 \nL 9.421875 0 \nz\n\" id=\"DejaVuSans-108\"/>\n      <path id=\"DejaVuSans-32\"/>\n      <path d=\"M 59.515625 10.40625 \nL 59.515625 29.984375 \nL 43.40625 29.984375 \nL 43.40625 38.09375 \nL 69.28125 38.09375 \nL 69.28125 6.78125 \nQ 63.578125 2.734375 56.6875 0.65625 \nQ 49.8125 -1.421875 42 -1.421875 \nQ 24.90625 -1.421875 15.25 8.5625 \nQ 5.609375 18.5625 5.609375 36.375 \nQ 5.609375 54.25 15.25 64.234375 \nQ 24.90625 74.21875 42 74.21875 \nQ 49.125 74.21875 55.546875 72.453125 \nQ 61.96875 70.703125 67.390625 67.28125 \nL 67.390625 56.78125 \nQ 61.921875 61.421875 55.765625 63.765625 \nQ 49.609375 66.109375 42.828125 66.109375 \nQ 29.4375 66.109375 22.71875 58.640625 \nQ 16.015625 51.171875 16.015625 36.375 \nQ 16.015625 21.625 22.71875 14.15625 \nQ 29.4375 6.6875 42.828125 6.6875 \nQ 48.046875 6.6875 52.140625 7.59375 \nQ 56.25 8.5 59.515625 10.40625 \nz\n\" id=\"DejaVuSans-71\"/>\n      <path d=\"M 44.28125 53.078125 \nL 44.28125 44.578125 \nQ 40.484375 46.53125 36.375 47.5 \nQ 32.28125 48.484375 27.875 48.484375 \nQ 21.1875 48.484375 17.84375 46.4375 \nQ 14.5 44.390625 14.5 40.28125 \nQ 14.5 37.15625 16.890625 35.375 \nQ 19.28125 33.59375 26.515625 31.984375 \nL 29.59375 31.296875 \nQ 39.15625 29.25 43.1875 25.515625 \nQ 47.21875 21.78125 47.21875 15.09375 \nQ 47.21875 7.46875 41.1875 3.015625 \nQ 35.15625 -1.421875 24.609375 -1.421875 \nQ 20.21875 -1.421875 15.453125 -0.5625 \nQ 10.6875 0.296875 5.421875 2 \nL 5.421875 11.28125 \nQ 10.40625 8.6875 15.234375 7.390625 \nQ 20.0625 6.109375 24.8125 6.109375 \nQ 31.15625 6.109375 34.5625 8.28125 \nQ 37.984375 10.453125 37.984375 14.40625 \nQ 37.984375 18.0625 35.515625 20.015625 \nQ 33.0625 21.96875 24.703125 23.78125 \nL 21.578125 24.515625 \nQ 13.234375 26.265625 9.515625 29.90625 \nQ 5.8125 33.546875 5.8125 39.890625 \nQ 5.8125 47.609375 11.28125 51.796875 \nQ 16.75 56 26.8125 56 \nQ 31.78125 56 36.171875 55.265625 \nQ 40.578125 54.546875 44.28125 53.078125 \nz\n\" id=\"DejaVuSans-115\"/>\n      <path d=\"M 44.390625 34.1875 \nQ 47.5625 33.109375 50.5625 29.59375 \nQ 53.5625 26.078125 56.59375 19.921875 \nL 66.609375 0 \nL 56 0 \nL 46.6875 18.703125 \nQ 43.0625 26.03125 39.671875 28.421875 \nQ 36.28125 30.8125 30.421875 30.8125 \nL 19.671875 30.8125 \nL 19.671875 0 \nL 9.8125 0 \nL 9.8125 72.90625 \nL 32.078125 72.90625 \nQ 44.578125 72.90625 50.734375 67.671875 \nQ 56.890625 62.453125 56.890625 51.90625 \nQ 56.890625 45.015625 53.6875 40.46875 \nQ 50.484375 35.9375 44.390625 34.1875 \nz\nM 19.671875 64.796875 \nL 19.671875 38.921875 \nL 32.078125 38.921875 \nQ 39.203125 38.921875 42.84375 42.21875 \nQ 46.484375 45.515625 46.484375 51.90625 \nQ 46.484375 58.296875 42.84375 61.546875 \nQ 39.203125 64.796875 32.078125 64.796875 \nz\n\" id=\"DejaVuSans-82\"/>\n      <path d=\"M 34.1875 63.1875 \nL 20.796875 26.90625 \nL 47.609375 26.90625 \nz\nM 28.609375 72.90625 \nL 39.796875 72.90625 \nL 67.578125 0 \nL 57.328125 0 \nL 50.6875 18.703125 \nL 17.828125 18.703125 \nL 11.1875 0 \nL 0.78125 0 \nz\n\" id=\"DejaVuSans-65\"/>\n      <path d=\"M 2.984375 54.6875 \nL 12.5 54.6875 \nL 29.59375 8.796875 \nL 46.6875 54.6875 \nL 56.203125 54.6875 \nL 35.6875 0 \nL 23.484375 0 \nz\n\" id=\"DejaVuSans-118\"/>\n      <path d=\"M 45.40625 27.984375 \nQ 45.40625 37.75 41.375 43.109375 \nQ 37.359375 48.484375 30.078125 48.484375 \nQ 22.859375 48.484375 18.828125 43.109375 \nQ 14.796875 37.75 14.796875 27.984375 \nQ 14.796875 18.265625 18.828125 12.890625 \nQ 22.859375 7.515625 30.078125 7.515625 \nQ 37.359375 7.515625 41.375 12.890625 \nQ 45.40625 18.265625 45.40625 27.984375 \nz\nM 54.390625 6.78125 \nQ 54.390625 -7.171875 48.1875 -13.984375 \nQ 42 -20.796875 29.203125 -20.796875 \nQ 24.46875 -20.796875 20.265625 -20.09375 \nQ 16.0625 -19.390625 12.109375 -17.921875 \nL 12.109375 -9.1875 \nQ 16.0625 -11.328125 19.921875 -12.34375 \nQ 23.78125 -13.375 27.78125 -13.375 \nQ 36.625 -13.375 41.015625 -8.765625 \nQ 45.40625 -4.15625 45.40625 5.171875 \nL 45.40625 9.625 \nQ 42.625 4.78125 38.28125 2.390625 \nQ 33.9375 0 27.875 0 \nQ 17.828125 0 11.671875 7.65625 \nQ 5.515625 15.328125 5.515625 27.984375 \nQ 5.515625 40.671875 11.671875 48.328125 \nQ 17.828125 56 27.875 56 \nQ 33.9375 56 38.28125 53.609375 \nQ 42.625 51.21875 45.40625 46.390625 \nL 45.40625 54.6875 \nL 54.390625 54.6875 \nz\n\" id=\"DejaVuSans-103\"/>\n     </defs>\n     <use xlink:href=\"#DejaVuSans-77\"/>\n     <use x=\"86.279297\" xlink:href=\"#DejaVuSans-111\"/>\n     <use x=\"147.460938\" xlink:href=\"#DejaVuSans-110\"/>\n     <use x=\"210.839844\" xlink:href=\"#DejaVuSans-116\"/>\n     <use x=\"250.048828\" xlink:href=\"#DejaVuSans-104\"/>\n     <use x=\"313.427734\" xlink:href=\"#DejaVuSans-108\"/>\n     <use x=\"341.210938\" xlink:href=\"#DejaVuSans-121\"/>\n     <use x=\"400.390625\" xlink:href=\"#DejaVuSans-32\"/>\n     <use x=\"432.177734\" xlink:href=\"#DejaVuSans-71\"/>\n     <use x=\"509.667969\" xlink:href=\"#DejaVuSans-114\"/>\n     <use x=\"548.53125\" xlink:href=\"#DejaVuSans-111\"/>\n     <use x=\"609.712891\" xlink:href=\"#DejaVuSans-115\"/>\n     <use x=\"661.8125\" xlink:href=\"#DejaVuSans-115\"/>\n     <use x=\"713.912109\" xlink:href=\"#DejaVuSans-32\"/>\n     <use x=\"745.699219\" xlink:href=\"#DejaVuSans-82\"/>\n     <use x=\"810.681641\" xlink:href=\"#DejaVuSans-101\"/>\n     <use x=\"872.205078\" xlink:href=\"#DejaVuSans-110\"/>\n     <use x=\"935.583984\" xlink:href=\"#DejaVuSans-116\"/>\n     <use x=\"974.792969\" xlink:href=\"#DejaVuSans-32\"/>\n     <use x=\"1006.580078\" xlink:href=\"#DejaVuSans-65\"/>\n     <use x=\"1069.113281\" xlink:href=\"#DejaVuSans-118\"/>\n     <use x=\"1128.292969\" xlink:href=\"#DejaVuSans-101\"/>\n     <use x=\"1189.816406\" xlink:href=\"#DejaVuSans-114\"/>\n     <use x=\"1230.929688\" xlink:href=\"#DejaVuSans-97\"/>\n     <use x=\"1292.208984\" xlink:href=\"#DejaVuSans-103\"/>\n     <use x=\"1355.685547\" xlink:href=\"#DejaVuSans-101\"/>\n    </g>\n   </g>\n  </g>\n </g>\n <defs>\n  <clipPath id=\"pdb3561dae3\">\n   <rect height=\"271.8\" width=\"279\" x=\"39.65\" y=\"22.318125\"/>\n  </clipPath>\n </defs>\n</svg>\n",
      "image/png": "[encoded data removed]"
     },
     "metadata": {
      "needs_background": "light"
     }
    }
   ],
   "source": [
    " average_gross_rent()"
   ]
  },
  {
   "cell_type": "code",
   "execution_count": 11,
   "metadata": {},
   "outputs": [
    {
     "output_type": "execute_result",
     "data": {
      "text/plain": [
       "<AxesSubplot:title={'center':'Yearly Price per Sqft Average'}, xlabel='year'>"
      ]
     },
     "metadata": {},
     "execution_count": 11
    },
    {
     "output_type": "display_data",
     "data": {
      "text/plain": "<Figure size 360x360 with 1 Axes>",
      "image/svg+xml": "<?xml version=\"1.0\" encoding=\"utf-8\" standalone=\"no\"?>\n<!DOCTYPE svg PUBLIC \"-//W3C//DTD SVG 1.1//EN\"\n  \"http://www.w3.org/Graphics/SVG/1.1/DTD/svg11.dtd\">\n<!-- Created with matplotlib (https://matplotlib.org/) -->\n<svg height=\"331.674375pt\" version=\"1.1\" viewBox=\"0 0 332.2125 331.674375\" width=\"332.2125pt\" xmlns=\"http://www.w3.org/2000/svg\" xmlns:xlink=\"http://www.w3.org/1999/xlink\">\n <metadata>\n  <rdf:RDF xmlns:cc=\"http://creativecommons.org/ns#\" xmlns:dc=\"http://purl.org/dc/elements/1.1/\" xmlns:rdf=\"http://www.w3.org/1999/02/22-rdf-syntax-ns#\">\n   <cc:Work>\n    <dc:type rdf:resource=\"http://purl.org/dc/dcmitype/StillImage\"/>\n    <dc:date>2021-02-03T16:47:02.867641</dc:date>\n    <dc:format>image/svg+xml</dc:format>\n    <dc:creator>\n     <cc:Agent>\n      <dc:title>Matplotlib v3.3.4, https://matplotlib.org/</dc:title>\n     </cc:Agent>\n    </dc:creator>\n   </cc:Work>\n  </rdf:RDF>\n </metadata>\n <defs>\n  <style type=\"text/css\">*{stroke-linecap:butt;stroke-linejoin:round;}</style>\n </defs>\n <g id=\"figure_1\">\n  <g id=\"patch_1\">\n   <path d=\"M -0 331.674375 \nL 332.2125 331.674375 \nL 332.2125 0 \nL -0 0 \nz\n\" style=\"fill:none;\"/>\n  </g>\n  <g id=\"axes_1\">\n   <g id=\"patch_2\">\n    <path d=\"M 33.2875 294.118125 \nL 312.2875 294.118125 \nL 312.2875 22.318125 \nL 33.2875 22.318125 \nz\n\" style=\"fill:#ffffff;\"/>\n   </g>\n   <g id=\"matplotlib.axis_1\">\n    <g id=\"xtick_1\">\n     <g id=\"line2d_1\">\n      <path clip-path=\"url(#pa7b547b88a)\" d=\"M 33.2875 294.118125 \nL 33.2875 22.318125 \n\" style=\"fill:none;stroke:#b0b0b0;stroke-linecap:square;stroke-width:0.8;\"/>\n     </g>\n     <g id=\"line2d_2\">\n      <defs>\n       <path d=\"M 0 0 \nL 0 3.5 \n\" id=\"m931b009074\" style=\"stroke:#000000;stroke-width:0.8;\"/>\n      </defs>\n      <g>\n       <use style=\"stroke:#000000;stroke-width:0.8;\" x=\"33.2875\" xlink:href=\"#m931b009074\" y=\"294.118125\"/>\n      </g>\n     </g>\n     <g id=\"text_1\">\n      <!-- 2010 -->\n      <g transform=\"translate(20.5625 308.716563)scale(0.1 -0.1)\">\n       <defs>\n        <path d=\"M 19.1875 8.296875 \nL 53.609375 8.296875 \nL 53.609375 0 \nL 7.328125 0 \nL 7.328125 8.296875 \nQ 12.9375 14.109375 22.625 23.890625 \nQ 32.328125 33.6875 34.8125 36.53125 \nQ 39.546875 41.84375 41.421875 45.53125 \nQ 43.3125 49.21875 43.3125 52.78125 \nQ 43.3125 58.59375 39.234375 62.25 \nQ 35.15625 65.921875 28.609375 65.921875 \nQ 23.96875 65.921875 18.8125 64.3125 \nQ 13.671875 62.703125 7.8125 59.421875 \nL 7.8125 69.390625 \nQ 13.765625 71.78125 18.9375 73 \nQ 24.125 74.21875 28.421875 74.21875 \nQ 39.75 74.21875 46.484375 68.546875 \nQ 53.21875 62.890625 53.21875 53.421875 \nQ 53.21875 48.921875 51.53125 44.890625 \nQ 49.859375 40.875 45.40625 35.40625 \nQ 44.1875 33.984375 37.640625 27.21875 \nQ 31.109375 20.453125 19.1875 8.296875 \nz\n\" id=\"DejaVuSans-50\"/>\n        <path d=\"M 31.78125 66.40625 \nQ 24.171875 66.40625 20.328125 58.90625 \nQ 16.5 51.421875 16.5 36.375 \nQ 16.5 21.390625 20.328125 13.890625 \nQ 24.171875 6.390625 31.78125 6.390625 \nQ 39.453125 6.390625 43.28125 13.890625 \nQ 47.125 21.390625 47.125 36.375 \nQ 47.125 51.421875 43.28125 58.90625 \nQ 39.453125 66.40625 31.78125 66.40625 \nz\nM 31.78125 74.21875 \nQ 44.046875 74.21875 50.515625 64.515625 \nQ 56.984375 54.828125 56.984375 36.375 \nQ 56.984375 17.96875 50.515625 8.265625 \nQ 44.046875 -1.421875 31.78125 -1.421875 \nQ 19.53125 -1.421875 13.0625 8.265625 \nQ 6.59375 17.96875 6.59375 36.375 \nQ 6.59375 54.828125 13.0625 64.515625 \nQ 19.53125 74.21875 31.78125 74.21875 \nz\n\" id=\"DejaVuSans-48\"/>\n        <path d=\"M 12.40625 8.296875 \nL 28.515625 8.296875 \nL 28.515625 63.921875 \nL 10.984375 60.40625 \nL 10.984375 69.390625 \nL 28.421875 72.90625 \nL 38.28125 72.90625 \nL 38.28125 8.296875 \nL 54.390625 8.296875 \nL 54.390625 0 \nL 12.40625 0 \nz\n\" id=\"DejaVuSans-49\"/>\n       </defs>\n       <use xlink:href=\"#DejaVuSans-50\"/>\n       <use x=\"63.623047\" xlink:href=\"#DejaVuSans-48\"/>\n       <use x=\"127.246094\" xlink:href=\"#DejaVuSans-49\"/>\n       <use x=\"190.869141\" xlink:href=\"#DejaVuSans-48\"/>\n      </g>\n     </g>\n    </g>\n    <g id=\"xtick_2\">\n     <g id=\"line2d_3\">\n      <path clip-path=\"url(#pa7b547b88a)\" d=\"M 79.7875 294.118125 \nL 79.7875 22.318125 \n\" style=\"fill:none;stroke:#b0b0b0;stroke-linecap:square;stroke-width:0.8;\"/>\n     </g>\n     <g id=\"line2d_4\">\n      <g>\n       <use style=\"stroke:#000000;stroke-width:0.8;\" x=\"79.7875\" xlink:href=\"#m931b009074\" y=\"294.118125\"/>\n      </g>\n     </g>\n     <g id=\"text_2\">\n      <!-- 2011 -->\n      <g transform=\"translate(67.0625 308.716563)scale(0.1 -0.1)\">\n       <use xlink:href=\"#DejaVuSans-50\"/>\n       <use x=\"63.623047\" xlink:href=\"#DejaVuSans-48\"/>\n       <use x=\"127.246094\" xlink:href=\"#DejaVuSans-49\"/>\n       <use x=\"190.869141\" xlink:href=\"#DejaVuSans-49\"/>\n      </g>\n     </g>\n    </g>\n    <g id=\"xtick_3\">\n     <g id=\"line2d_5\">\n      <path clip-path=\"url(#pa7b547b88a)\" d=\"M 126.2875 294.118125 \nL 126.2875 22.318125 \n\" style=\"fill:none;stroke:#b0b0b0;stroke-linecap:square;stroke-width:0.8;\"/>\n     </g>\n     <g id=\"line2d_6\">\n      <g>\n       <use style=\"stroke:#000000;stroke-width:0.8;\" x=\"126.2875\" xlink:href=\"#m931b009074\" y=\"294.118125\"/>\n      </g>\n     </g>\n     <g id=\"text_3\">\n      <!-- 2012 -->\n      <g transform=\"translate(113.5625 308.716563)scale(0.1 -0.1)\">\n       <use xlink:href=\"#DejaVuSans-50\"/>\n       <use x=\"63.623047\" xlink:href=\"#DejaVuSans-48\"/>\n       <use x=\"127.246094\" xlink:href=\"#DejaVuSans-49\"/>\n       <use x=\"190.869141\" xlink:href=\"#DejaVuSans-50\"/>\n      </g>\n     </g>\n    </g>\n    <g id=\"xtick_4\">\n     <g id=\"line2d_7\">\n      <path clip-path=\"url(#pa7b547b88a)\" d=\"M 172.7875 294.118125 \nL 172.7875 22.318125 \n\" style=\"fill:none;stroke:#b0b0b0;stroke-linecap:square;stroke-width:0.8;\"/>\n     </g>\n     <g id=\"line2d_8\">\n      <g>\n       <use style=\"stroke:#000000;stroke-width:0.8;\" x=\"172.7875\" xlink:href=\"#m931b009074\" y=\"294.118125\"/>\n      </g>\n     </g>\n     <g id=\"text_4\">\n      <!-- 2013 -->\n      <g transform=\"translate(160.0625 308.716563)scale(0.1 -0.1)\">\n       <defs>\n        <path d=\"M 40.578125 39.3125 \nQ 47.65625 37.796875 51.625 33 \nQ 55.609375 28.21875 55.609375 21.1875 \nQ 55.609375 10.40625 48.1875 4.484375 \nQ 40.765625 -1.421875 27.09375 -1.421875 \nQ 22.515625 -1.421875 17.65625 -0.515625 \nQ 12.796875 0.390625 7.625 2.203125 \nL 7.625 11.71875 \nQ 11.71875 9.328125 16.59375 8.109375 \nQ 21.484375 6.890625 26.8125 6.890625 \nQ 36.078125 6.890625 40.9375 10.546875 \nQ 45.796875 14.203125 45.796875 21.1875 \nQ 45.796875 27.640625 41.28125 31.265625 \nQ 36.765625 34.90625 28.71875 34.90625 \nL 20.21875 34.90625 \nL 20.21875 43.015625 \nL 29.109375 43.015625 \nQ 36.375 43.015625 40.234375 45.921875 \nQ 44.09375 48.828125 44.09375 54.296875 \nQ 44.09375 59.90625 40.109375 62.90625 \nQ 36.140625 65.921875 28.71875 65.921875 \nQ 24.65625 65.921875 20.015625 65.03125 \nQ 15.375 64.15625 9.8125 62.3125 \nL 9.8125 71.09375 \nQ 15.4375 72.65625 20.34375 73.4375 \nQ 25.25 74.21875 29.59375 74.21875 \nQ 40.828125 74.21875 47.359375 69.109375 \nQ 53.90625 64.015625 53.90625 55.328125 \nQ 53.90625 49.265625 50.4375 45.09375 \nQ 46.96875 40.921875 40.578125 39.3125 \nz\n\" id=\"DejaVuSans-51\"/>\n       </defs>\n       <use xlink:href=\"#DejaVuSans-50\"/>\n       <use x=\"63.623047\" xlink:href=\"#DejaVuSans-48\"/>\n       <use x=\"127.246094\" xlink:href=\"#DejaVuSans-49\"/>\n       <use x=\"190.869141\" xlink:href=\"#DejaVuSans-51\"/>\n      </g>\n     </g>\n    </g>\n    <g id=\"xtick_5\">\n     <g id=\"line2d_9\">\n      <path clip-path=\"url(#pa7b547b88a)\" d=\"M 219.2875 294.118125 \nL 219.2875 22.318125 \n\" style=\"fill:none;stroke:#b0b0b0;stroke-linecap:square;stroke-width:0.8;\"/>\n     </g>\n     <g id=\"line2d_10\">\n      <g>\n       <use style=\"stroke:#000000;stroke-width:0.8;\" x=\"219.2875\" xlink:href=\"#m931b009074\" y=\"294.118125\"/>\n      </g>\n     </g>\n     <g id=\"text_5\">\n      <!-- 2014 -->\n      <g transform=\"translate(206.5625 308.716563)scale(0.1 -0.1)\">\n       <defs>\n        <path d=\"M 37.796875 64.3125 \nL 12.890625 25.390625 \nL 37.796875 25.390625 \nz\nM 35.203125 72.90625 \nL 47.609375 72.90625 \nL 47.609375 25.390625 \nL 58.015625 25.390625 \nL 58.015625 17.1875 \nL 47.609375 17.1875 \nL 47.609375 0 \nL 37.796875 0 \nL 37.796875 17.1875 \nL 4.890625 17.1875 \nL 4.890625 26.703125 \nz\n\" id=\"DejaVuSans-52\"/>\n       </defs>\n       <use xlink:href=\"#DejaVuSans-50\"/>\n       <use x=\"63.623047\" xlink:href=\"#DejaVuSans-48\"/>\n       <use x=\"127.246094\" xlink:href=\"#DejaVuSans-49\"/>\n       <use x=\"190.869141\" xlink:href=\"#DejaVuSans-52\"/>\n      </g>\n     </g>\n    </g>\n    <g id=\"xtick_6\">\n     <g id=\"line2d_11\">\n      <path clip-path=\"url(#pa7b547b88a)\" d=\"M 265.7875 294.118125 \nL 265.7875 22.318125 \n\" style=\"fill:none;stroke:#b0b0b0;stroke-linecap:square;stroke-width:0.8;\"/>\n     </g>\n     <g id=\"line2d_12\">\n      <g>\n       <use style=\"stroke:#000000;stroke-width:0.8;\" x=\"265.7875\" xlink:href=\"#m931b009074\" y=\"294.118125\"/>\n      </g>\n     </g>\n     <g id=\"text_6\">\n      <!-- 2015 -->\n      <g transform=\"translate(253.0625 308.716563)scale(0.1 -0.1)\">\n       <defs>\n        <path d=\"M 10.796875 72.90625 \nL 49.515625 72.90625 \nL 49.515625 64.59375 \nL 19.828125 64.59375 \nL 19.828125 46.734375 \nQ 21.96875 47.46875 24.109375 47.828125 \nQ 26.265625 48.1875 28.421875 48.1875 \nQ 40.625 48.1875 47.75 41.5 \nQ 54.890625 34.8125 54.890625 23.390625 \nQ 54.890625 11.625 47.5625 5.09375 \nQ 40.234375 -1.421875 26.90625 -1.421875 \nQ 22.3125 -1.421875 17.546875 -0.640625 \nQ 12.796875 0.140625 7.71875 1.703125 \nL 7.71875 11.625 \nQ 12.109375 9.234375 16.796875 8.0625 \nQ 21.484375 6.890625 26.703125 6.890625 \nQ 35.15625 6.890625 40.078125 11.328125 \nQ 45.015625 15.765625 45.015625 23.390625 \nQ 45.015625 31 40.078125 35.4375 \nQ 35.15625 39.890625 26.703125 39.890625 \nQ 22.75 39.890625 18.8125 39.015625 \nQ 14.890625 38.140625 10.796875 36.28125 \nz\n\" id=\"DejaVuSans-53\"/>\n       </defs>\n       <use xlink:href=\"#DejaVuSans-50\"/>\n       <use x=\"63.623047\" xlink:href=\"#DejaVuSans-48\"/>\n       <use x=\"127.246094\" xlink:href=\"#DejaVuSans-49\"/>\n       <use x=\"190.869141\" xlink:href=\"#DejaVuSans-53\"/>\n      </g>\n     </g>\n    </g>\n    <g id=\"xtick_7\">\n     <g id=\"line2d_13\">\n      <path clip-path=\"url(#pa7b547b88a)\" d=\"M 312.2875 294.118125 \nL 312.2875 22.318125 \n\" style=\"fill:none;stroke:#b0b0b0;stroke-linecap:square;stroke-width:0.8;\"/>\n     </g>\n     <g id=\"line2d_14\">\n      <g>\n       <use style=\"stroke:#000000;stroke-width:0.8;\" x=\"312.2875\" xlink:href=\"#m931b009074\" y=\"294.118125\"/>\n      </g>\n     </g>\n     <g id=\"text_7\">\n      <!-- 2016 -->\n      <g transform=\"translate(299.5625 308.716563)scale(0.1 -0.1)\">\n       <defs>\n        <path d=\"M 33.015625 40.375 \nQ 26.375 40.375 22.484375 35.828125 \nQ 18.609375 31.296875 18.609375 23.390625 \nQ 18.609375 15.53125 22.484375 10.953125 \nQ 26.375 6.390625 33.015625 6.390625 \nQ 39.65625 6.390625 43.53125 10.953125 \nQ 47.40625 15.53125 47.40625 23.390625 \nQ 47.40625 31.296875 43.53125 35.828125 \nQ 39.65625 40.375 33.015625 40.375 \nz\nM 52.59375 71.296875 \nL 52.59375 62.3125 \nQ 48.875 64.0625 45.09375 64.984375 \nQ 41.3125 65.921875 37.59375 65.921875 \nQ 27.828125 65.921875 22.671875 59.328125 \nQ 17.53125 52.734375 16.796875 39.40625 \nQ 19.671875 43.65625 24.015625 45.921875 \nQ 28.375 48.1875 33.59375 48.1875 \nQ 44.578125 48.1875 50.953125 41.515625 \nQ 57.328125 34.859375 57.328125 23.390625 \nQ 57.328125 12.15625 50.6875 5.359375 \nQ 44.046875 -1.421875 33.015625 -1.421875 \nQ 20.359375 -1.421875 13.671875 8.265625 \nQ 6.984375 17.96875 6.984375 36.375 \nQ 6.984375 53.65625 15.1875 63.9375 \nQ 23.390625 74.21875 37.203125 74.21875 \nQ 40.921875 74.21875 44.703125 73.484375 \nQ 48.484375 72.75 52.59375 71.296875 \nz\n\" id=\"DejaVuSans-54\"/>\n       </defs>\n       <use xlink:href=\"#DejaVuSans-50\"/>\n       <use x=\"63.623047\" xlink:href=\"#DejaVuSans-48\"/>\n       <use x=\"127.246094\" xlink:href=\"#DejaVuSans-49\"/>\n       <use x=\"190.869141\" xlink:href=\"#DejaVuSans-54\"/>\n      </g>\n     </g>\n    </g>\n    <g id=\"text_8\">\n     <!-- year -->\n     <g transform=\"translate(161.632031 322.394687)scale(0.1 -0.1)\">\n      <defs>\n       <path d=\"M 32.171875 -5.078125 \nQ 28.375 -14.84375 24.75 -17.8125 \nQ 21.140625 -20.796875 15.09375 -20.796875 \nL 7.90625 -20.796875 \nL 7.90625 -13.28125 \nL 13.1875 -13.28125 \nQ 16.890625 -13.28125 18.9375 -11.515625 \nQ 21 -9.765625 23.484375 -3.21875 \nL 25.09375 0.875 \nL 2.984375 54.6875 \nL 12.5 54.6875 \nL 29.59375 11.921875 \nL 46.6875 54.6875 \nL 56.203125 54.6875 \nz\n\" id=\"DejaVuSans-121\"/>\n       <path d=\"M 56.203125 29.59375 \nL 56.203125 25.203125 \nL 14.890625 25.203125 \nQ 15.484375 15.921875 20.484375 11.0625 \nQ 25.484375 6.203125 34.421875 6.203125 \nQ 39.59375 6.203125 44.453125 7.46875 \nQ 49.3125 8.734375 54.109375 11.28125 \nL 54.109375 2.78125 \nQ 49.265625 0.734375 44.1875 -0.34375 \nQ 39.109375 -1.421875 33.890625 -1.421875 \nQ 20.796875 -1.421875 13.15625 6.1875 \nQ 5.515625 13.8125 5.515625 26.8125 \nQ 5.515625 40.234375 12.765625 48.109375 \nQ 20.015625 56 32.328125 56 \nQ 43.359375 56 49.78125 48.890625 \nQ 56.203125 41.796875 56.203125 29.59375 \nz\nM 47.21875 32.234375 \nQ 47.125 39.59375 43.09375 43.984375 \nQ 39.0625 48.390625 32.421875 48.390625 \nQ 24.90625 48.390625 20.390625 44.140625 \nQ 15.875 39.890625 15.1875 32.171875 \nz\n\" id=\"DejaVuSans-101\"/>\n       <path d=\"M 34.28125 27.484375 \nQ 23.390625 27.484375 19.1875 25 \nQ 14.984375 22.515625 14.984375 16.5 \nQ 14.984375 11.71875 18.140625 8.90625 \nQ 21.296875 6.109375 26.703125 6.109375 \nQ 34.1875 6.109375 38.703125 11.40625 \nQ 43.21875 16.703125 43.21875 25.484375 \nL 43.21875 27.484375 \nz\nM 52.203125 31.203125 \nL 52.203125 0 \nL 43.21875 0 \nL 43.21875 8.296875 \nQ 40.140625 3.328125 35.546875 0.953125 \nQ 30.953125 -1.421875 24.3125 -1.421875 \nQ 15.921875 -1.421875 10.953125 3.296875 \nQ 6 8.015625 6 15.921875 \nQ 6 25.140625 12.171875 29.828125 \nQ 18.359375 34.515625 30.609375 34.515625 \nL 43.21875 34.515625 \nL 43.21875 35.40625 \nQ 43.21875 41.609375 39.140625 45 \nQ 35.0625 48.390625 27.6875 48.390625 \nQ 23 48.390625 18.546875 47.265625 \nQ 14.109375 46.140625 10.015625 43.890625 \nL 10.015625 52.203125 \nQ 14.9375 54.109375 19.578125 55.046875 \nQ 24.21875 56 28.609375 56 \nQ 40.484375 56 46.34375 49.84375 \nQ 52.203125 43.703125 52.203125 31.203125 \nz\n\" id=\"DejaVuSans-97\"/>\n       <path d=\"M 41.109375 46.296875 \nQ 39.59375 47.171875 37.8125 47.578125 \nQ 36.03125 48 33.890625 48 \nQ 26.265625 48 22.1875 43.046875 \nQ 18.109375 38.09375 18.109375 28.8125 \nL 18.109375 0 \nL 9.078125 0 \nL 9.078125 54.6875 \nL 18.109375 54.6875 \nL 18.109375 46.1875 \nQ 20.953125 51.171875 25.484375 53.578125 \nQ 30.03125 56 36.53125 56 \nQ 37.453125 56 38.578125 55.875 \nQ 39.703125 55.765625 41.0625 55.515625 \nz\n\" id=\"DejaVuSans-114\"/>\n      </defs>\n      <use xlink:href=\"#DejaVuSans-121\"/>\n      <use x=\"59.179688\" xlink:href=\"#DejaVuSans-101\"/>\n      <use x=\"120.703125\" xlink:href=\"#DejaVuSans-97\"/>\n      <use x=\"181.982422\" xlink:href=\"#DejaVuSans-114\"/>\n     </g>\n    </g>\n   </g>\n   <g id=\"matplotlib.axis_2\">\n    <g id=\"ytick_1\">\n     <g id=\"line2d_15\">\n      <path clip-path=\"url(#pa7b547b88a)\" d=\"M 33.2875 276.139845 \nL 312.2875 276.139845 \n\" style=\"fill:none;stroke:#b0b0b0;stroke-linecap:square;stroke-width:0.8;\"/>\n     </g>\n     <g id=\"line2d_16\">\n      <defs>\n       <path d=\"M 0 0 \nL -3.5 0 \n\" id=\"m6d573f1af1\" style=\"stroke:#000000;stroke-width:0.8;\"/>\n      </defs>\n      <g>\n       <use style=\"stroke:#000000;stroke-width:0.8;\" x=\"33.2875\" xlink:href=\"#m6d573f1af1\" y=\"276.139845\"/>\n      </g>\n     </g>\n     <g id=\"text_9\">\n      <!-- 350 -->\n      <g transform=\"translate(7.2 279.939063)scale(0.1 -0.1)\">\n       <use xlink:href=\"#DejaVuSans-51\"/>\n       <use x=\"63.623047\" xlink:href=\"#DejaVuSans-53\"/>\n       <use x=\"127.246094\" xlink:href=\"#DejaVuSans-48\"/>\n      </g>\n     </g>\n    </g>\n    <g id=\"ytick_2\">\n     <g id=\"line2d_17\">\n      <path clip-path=\"url(#pa7b547b88a)\" d=\"M 33.2875 241.410729 \nL 312.2875 241.410729 \n\" style=\"fill:none;stroke:#b0b0b0;stroke-linecap:square;stroke-width:0.8;\"/>\n     </g>\n     <g id=\"line2d_18\">\n      <g>\n       <use style=\"stroke:#000000;stroke-width:0.8;\" x=\"33.2875\" xlink:href=\"#m6d573f1af1\" y=\"241.410729\"/>\n      </g>\n     </g>\n     <g id=\"text_10\">\n      <!-- 400 -->\n      <g transform=\"translate(7.2 245.209947)scale(0.1 -0.1)\">\n       <use xlink:href=\"#DejaVuSans-52\"/>\n       <use x=\"63.623047\" xlink:href=\"#DejaVuSans-48\"/>\n       <use x=\"127.246094\" xlink:href=\"#DejaVuSans-48\"/>\n      </g>\n     </g>\n    </g>\n    <g id=\"ytick_3\">\n     <g id=\"line2d_19\">\n      <path clip-path=\"url(#pa7b547b88a)\" d=\"M 33.2875 206.681613 \nL 312.2875 206.681613 \n\" style=\"fill:none;stroke:#b0b0b0;stroke-linecap:square;stroke-width:0.8;\"/>\n     </g>\n     <g id=\"line2d_20\">\n      <g>\n       <use style=\"stroke:#000000;stroke-width:0.8;\" x=\"33.2875\" xlink:href=\"#m6d573f1af1\" y=\"206.681613\"/>\n      </g>\n     </g>\n     <g id=\"text_11\">\n      <!-- 450 -->\n      <g transform=\"translate(7.2 210.480831)scale(0.1 -0.1)\">\n       <use xlink:href=\"#DejaVuSans-52\"/>\n       <use x=\"63.623047\" xlink:href=\"#DejaVuSans-53\"/>\n       <use x=\"127.246094\" xlink:href=\"#DejaVuSans-48\"/>\n      </g>\n     </g>\n    </g>\n    <g id=\"ytick_4\">\n     <g id=\"line2d_21\">\n      <path clip-path=\"url(#pa7b547b88a)\" d=\"M 33.2875 171.952497 \nL 312.2875 171.952497 \n\" style=\"fill:none;stroke:#b0b0b0;stroke-linecap:square;stroke-width:0.8;\"/>\n     </g>\n     <g id=\"line2d_22\">\n      <g>\n       <use style=\"stroke:#000000;stroke-width:0.8;\" x=\"33.2875\" xlink:href=\"#m6d573f1af1\" y=\"171.952497\"/>\n      </g>\n     </g>\n     <g id=\"text_12\">\n      <!-- 500 -->\n      <g transform=\"translate(7.2 175.751715)scale(0.1 -0.1)\">\n       <use xlink:href=\"#DejaVuSans-53\"/>\n       <use x=\"63.623047\" xlink:href=\"#DejaVuSans-48\"/>\n       <use x=\"127.246094\" xlink:href=\"#DejaVuSans-48\"/>\n      </g>\n     </g>\n    </g>\n    <g id=\"ytick_5\">\n     <g id=\"line2d_23\">\n      <path clip-path=\"url(#pa7b547b88a)\" d=\"M 33.2875 137.223381 \nL 312.2875 137.223381 \n\" style=\"fill:none;stroke:#b0b0b0;stroke-linecap:square;stroke-width:0.8;\"/>\n     </g>\n     <g id=\"line2d_24\">\n      <g>\n       <use style=\"stroke:#000000;stroke-width:0.8;\" x=\"33.2875\" xlink:href=\"#m6d573f1af1\" y=\"137.223381\"/>\n      </g>\n     </g>\n     <g id=\"text_13\">\n      <!-- 550 -->\n      <g transform=\"translate(7.2 141.022599)scale(0.1 -0.1)\">\n       <use xlink:href=\"#DejaVuSans-53\"/>\n       <use x=\"63.623047\" xlink:href=\"#DejaVuSans-53\"/>\n       <use x=\"127.246094\" xlink:href=\"#DejaVuSans-48\"/>\n      </g>\n     </g>\n    </g>\n    <g id=\"ytick_6\">\n     <g id=\"line2d_25\">\n      <path clip-path=\"url(#pa7b547b88a)\" d=\"M 33.2875 102.494265 \nL 312.2875 102.494265 \n\" style=\"fill:none;stroke:#b0b0b0;stroke-linecap:square;stroke-width:0.8;\"/>\n     </g>\n     <g id=\"line2d_26\">\n      <g>\n       <use style=\"stroke:#000000;stroke-width:0.8;\" x=\"33.2875\" xlink:href=\"#m6d573f1af1\" y=\"102.494265\"/>\n      </g>\n     </g>\n     <g id=\"text_14\">\n      <!-- 600 -->\n      <g transform=\"translate(7.2 106.293483)scale(0.1 -0.1)\">\n       <use xlink:href=\"#DejaVuSans-54\"/>\n       <use x=\"63.623047\" xlink:href=\"#DejaVuSans-48\"/>\n       <use x=\"127.246094\" xlink:href=\"#DejaVuSans-48\"/>\n      </g>\n     </g>\n    </g>\n    <g id=\"ytick_7\">\n     <g id=\"line2d_27\">\n      <path clip-path=\"url(#pa7b547b88a)\" d=\"M 33.2875 67.765148 \nL 312.2875 67.765148 \n\" style=\"fill:none;stroke:#b0b0b0;stroke-linecap:square;stroke-width:0.8;\"/>\n     </g>\n     <g id=\"line2d_28\">\n      <g>\n       <use style=\"stroke:#000000;stroke-width:0.8;\" x=\"33.2875\" xlink:href=\"#m6d573f1af1\" y=\"67.765148\"/>\n      </g>\n     </g>\n     <g id=\"text_15\">\n      <!-- 650 -->\n      <g transform=\"translate(7.2 71.564367)scale(0.1 -0.1)\">\n       <use xlink:href=\"#DejaVuSans-54\"/>\n       <use x=\"63.623047\" xlink:href=\"#DejaVuSans-53\"/>\n       <use x=\"127.246094\" xlink:href=\"#DejaVuSans-48\"/>\n      </g>\n     </g>\n    </g>\n    <g id=\"ytick_8\">\n     <g id=\"line2d_29\">\n      <path clip-path=\"url(#pa7b547b88a)\" d=\"M 33.2875 33.036032 \nL 312.2875 33.036032 \n\" style=\"fill:none;stroke:#b0b0b0;stroke-linecap:square;stroke-width:0.8;\"/>\n     </g>\n     <g id=\"line2d_30\">\n      <g>\n       <use style=\"stroke:#000000;stroke-width:0.8;\" x=\"33.2875\" xlink:href=\"#m6d573f1af1\" y=\"33.036032\"/>\n      </g>\n     </g>\n     <g id=\"text_16\">\n      <!-- 700 -->\n      <g transform=\"translate(7.2 36.835251)scale(0.1 -0.1)\">\n       <defs>\n        <path d=\"M 8.203125 72.90625 \nL 55.078125 72.90625 \nL 55.078125 68.703125 \nL 28.609375 0 \nL 18.3125 0 \nL 43.21875 64.59375 \nL 8.203125 64.59375 \nz\n\" id=\"DejaVuSans-55\"/>\n       </defs>\n       <use xlink:href=\"#DejaVuSans-55\"/>\n       <use x=\"63.623047\" xlink:href=\"#DejaVuSans-48\"/>\n       <use x=\"127.246094\" xlink:href=\"#DejaVuSans-48\"/>\n      </g>\n     </g>\n    </g>\n   </g>\n   <g id=\"line2d_31\">\n    <path clip-path=\"url(#pa7b547b88a)\" d=\"M 33.2875 262.703599 \nL 79.7875 281.76358 \nL 126.2875 241.834446 \nL 172.7875 183.343435 \nL 219.2875 132.863297 \nL 265.7875 79.892311 \nL 312.2875 34.67267 \n\" style=\"fill:none;stroke:#1f77b4;stroke-linecap:square;stroke-width:2;\"/>\n   </g>\n   <g id=\"patch_3\">\n    <path d=\"M 33.2875 294.118125 \nL 33.2875 22.318125 \n\" style=\"fill:none;stroke:#000000;stroke-linecap:square;stroke-linejoin:miter;stroke-width:0.8;\"/>\n   </g>\n   <g id=\"patch_4\">\n    <path d=\"M 312.2875 294.118125 \nL 312.2875 22.318125 \n\" style=\"fill:none;stroke:#000000;stroke-linecap:square;stroke-linejoin:miter;stroke-width:0.8;\"/>\n   </g>\n   <g id=\"patch_5\">\n    <path d=\"M 33.2875 294.118125 \nL 312.2875 294.118125 \n\" style=\"fill:none;stroke:#000000;stroke-linecap:square;stroke-linejoin:miter;stroke-width:0.8;\"/>\n   </g>\n   <g id=\"patch_6\">\n    <path d=\"M 33.2875 22.318125 \nL 312.2875 22.318125 \n\" style=\"fill:none;stroke:#000000;stroke-linecap:square;stroke-linejoin:miter;stroke-width:0.8;\"/>\n   </g>\n   <g id=\"text_17\">\n    <!-- Yearly Price per Sqft Average -->\n    <g transform=\"translate(86.015312 16.318125)scale(0.12 -0.12)\">\n     <defs>\n      <path d=\"M -0.203125 72.90625 \nL 10.40625 72.90625 \nL 30.609375 42.921875 \nL 50.6875 72.90625 \nL 61.28125 72.90625 \nL 35.5 34.71875 \nL 35.5 0 \nL 25.59375 0 \nL 25.59375 34.71875 \nz\n\" id=\"DejaVuSans-89\"/>\n      <path d=\"M 9.421875 75.984375 \nL 18.40625 75.984375 \nL 18.40625 0 \nL 9.421875 0 \nz\n\" id=\"DejaVuSans-108\"/>\n      <path id=\"DejaVuSans-32\"/>\n      <path d=\"M 19.671875 64.796875 \nL 19.671875 37.40625 \nL 32.078125 37.40625 \nQ 38.96875 37.40625 42.71875 40.96875 \nQ 46.484375 44.53125 46.484375 51.125 \nQ 46.484375 57.671875 42.71875 61.234375 \nQ 38.96875 64.796875 32.078125 64.796875 \nz\nM 9.8125 72.90625 \nL 32.078125 72.90625 \nQ 44.34375 72.90625 50.609375 67.359375 \nQ 56.890625 61.8125 56.890625 51.125 \nQ 56.890625 40.328125 50.609375 34.8125 \nQ 44.34375 29.296875 32.078125 29.296875 \nL 19.671875 29.296875 \nL 19.671875 0 \nL 9.8125 0 \nz\n\" id=\"DejaVuSans-80\"/>\n      <path d=\"M 9.421875 54.6875 \nL 18.40625 54.6875 \nL 18.40625 0 \nL 9.421875 0 \nz\nM 9.421875 75.984375 \nL 18.40625 75.984375 \nL 18.40625 64.59375 \nL 9.421875 64.59375 \nz\n\" id=\"DejaVuSans-105\"/>\n      <path d=\"M 48.78125 52.59375 \nL 48.78125 44.1875 \nQ 44.96875 46.296875 41.140625 47.34375 \nQ 37.3125 48.390625 33.40625 48.390625 \nQ 24.65625 48.390625 19.8125 42.84375 \nQ 14.984375 37.3125 14.984375 27.296875 \nQ 14.984375 17.28125 19.8125 11.734375 \nQ 24.65625 6.203125 33.40625 6.203125 \nQ 37.3125 6.203125 41.140625 7.25 \nQ 44.96875 8.296875 48.78125 10.40625 \nL 48.78125 2.09375 \nQ 45.015625 0.34375 40.984375 -0.53125 \nQ 36.96875 -1.421875 32.421875 -1.421875 \nQ 20.0625 -1.421875 12.78125 6.34375 \nQ 5.515625 14.109375 5.515625 27.296875 \nQ 5.515625 40.671875 12.859375 48.328125 \nQ 20.21875 56 33.015625 56 \nQ 37.15625 56 41.109375 55.140625 \nQ 45.0625 54.296875 48.78125 52.59375 \nz\n\" id=\"DejaVuSans-99\"/>\n      <path d=\"M 18.109375 8.203125 \nL 18.109375 -20.796875 \nL 9.078125 -20.796875 \nL 9.078125 54.6875 \nL 18.109375 54.6875 \nL 18.109375 46.390625 \nQ 20.953125 51.265625 25.265625 53.625 \nQ 29.59375 56 35.59375 56 \nQ 45.5625 56 51.78125 48.09375 \nQ 58.015625 40.1875 58.015625 27.296875 \nQ 58.015625 14.40625 51.78125 6.484375 \nQ 45.5625 -1.421875 35.59375 -1.421875 \nQ 29.59375 -1.421875 25.265625 0.953125 \nQ 20.953125 3.328125 18.109375 8.203125 \nz\nM 48.6875 27.296875 \nQ 48.6875 37.203125 44.609375 42.84375 \nQ 40.53125 48.484375 33.40625 48.484375 \nQ 26.265625 48.484375 22.1875 42.84375 \nQ 18.109375 37.203125 18.109375 27.296875 \nQ 18.109375 17.390625 22.1875 11.75 \nQ 26.265625 6.109375 33.40625 6.109375 \nQ 40.53125 6.109375 44.609375 11.75 \nQ 48.6875 17.390625 48.6875 27.296875 \nz\n\" id=\"DejaVuSans-112\"/>\n      <path d=\"M 53.515625 70.515625 \nL 53.515625 60.890625 \nQ 47.90625 63.578125 42.921875 64.890625 \nQ 37.9375 66.21875 33.296875 66.21875 \nQ 25.25 66.21875 20.875 63.09375 \nQ 16.5 59.96875 16.5 54.203125 \nQ 16.5 49.359375 19.40625 46.890625 \nQ 22.3125 44.4375 30.421875 42.921875 \nL 36.375 41.703125 \nQ 47.40625 39.59375 52.65625 34.296875 \nQ 57.90625 29 57.90625 20.125 \nQ 57.90625 9.515625 50.796875 4.046875 \nQ 43.703125 -1.421875 29.984375 -1.421875 \nQ 24.8125 -1.421875 18.96875 -0.25 \nQ 13.140625 0.921875 6.890625 3.21875 \nL 6.890625 13.375 \nQ 12.890625 10.015625 18.65625 8.296875 \nQ 24.421875 6.59375 29.984375 6.59375 \nQ 38.421875 6.59375 43.015625 9.90625 \nQ 47.609375 13.234375 47.609375 19.390625 \nQ 47.609375 24.75 44.3125 27.78125 \nQ 41.015625 30.8125 33.5 32.328125 \nL 27.484375 33.5 \nQ 16.453125 35.6875 11.515625 40.375 \nQ 6.59375 45.0625 6.59375 53.421875 \nQ 6.59375 63.09375 13.40625 68.65625 \nQ 20.21875 74.21875 32.171875 74.21875 \nQ 37.3125 74.21875 42.625 73.28125 \nQ 47.953125 72.359375 53.515625 70.515625 \nz\n\" id=\"DejaVuSans-83\"/>\n      <path d=\"M 14.796875 27.296875 \nQ 14.796875 17.390625 18.875 11.75 \nQ 22.953125 6.109375 30.078125 6.109375 \nQ 37.203125 6.109375 41.296875 11.75 \nQ 45.40625 17.390625 45.40625 27.296875 \nQ 45.40625 37.203125 41.296875 42.84375 \nQ 37.203125 48.484375 30.078125 48.484375 \nQ 22.953125 48.484375 18.875 42.84375 \nQ 14.796875 37.203125 14.796875 27.296875 \nz\nM 45.40625 8.203125 \nQ 42.578125 3.328125 38.25 0.953125 \nQ 33.9375 -1.421875 27.875 -1.421875 \nQ 17.96875 -1.421875 11.734375 6.484375 \nQ 5.515625 14.40625 5.515625 27.296875 \nQ 5.515625 40.1875 11.734375 48.09375 \nQ 17.96875 56 27.875 56 \nQ 33.9375 56 38.25 53.625 \nQ 42.578125 51.265625 45.40625 46.390625 \nL 45.40625 54.6875 \nL 54.390625 54.6875 \nL 54.390625 -20.796875 \nL 45.40625 -20.796875 \nz\n\" id=\"DejaVuSans-113\"/>\n      <path d=\"M 37.109375 75.984375 \nL 37.109375 68.5 \nL 28.515625 68.5 \nQ 23.6875 68.5 21.796875 66.546875 \nQ 19.921875 64.59375 19.921875 59.515625 \nL 19.921875 54.6875 \nL 34.71875 54.6875 \nL 34.71875 47.703125 \nL 19.921875 47.703125 \nL 19.921875 0 \nL 10.890625 0 \nL 10.890625 47.703125 \nL 2.296875 47.703125 \nL 2.296875 54.6875 \nL 10.890625 54.6875 \nL 10.890625 58.5 \nQ 10.890625 67.625 15.140625 71.796875 \nQ 19.390625 75.984375 28.609375 75.984375 \nz\n\" id=\"DejaVuSans-102\"/>\n      <path d=\"M 18.3125 70.21875 \nL 18.3125 54.6875 \nL 36.8125 54.6875 \nL 36.8125 47.703125 \nL 18.3125 47.703125 \nL 18.3125 18.015625 \nQ 18.3125 11.328125 20.140625 9.421875 \nQ 21.96875 7.515625 27.59375 7.515625 \nL 36.8125 7.515625 \nL 36.8125 0 \nL 27.59375 0 \nQ 17.1875 0 13.234375 3.875 \nQ 9.28125 7.765625 9.28125 18.015625 \nL 9.28125 47.703125 \nL 2.6875 47.703125 \nL 2.6875 54.6875 \nL 9.28125 54.6875 \nL 9.28125 70.21875 \nz\n\" id=\"DejaVuSans-116\"/>\n      <path d=\"M 34.1875 63.1875 \nL 20.796875 26.90625 \nL 47.609375 26.90625 \nz\nM 28.609375 72.90625 \nL 39.796875 72.90625 \nL 67.578125 0 \nL 57.328125 0 \nL 50.6875 18.703125 \nL 17.828125 18.703125 \nL 11.1875 0 \nL 0.78125 0 \nz\n\" id=\"DejaVuSans-65\"/>\n      <path d=\"M 2.984375 54.6875 \nL 12.5 54.6875 \nL 29.59375 8.796875 \nL 46.6875 54.6875 \nL 56.203125 54.6875 \nL 35.6875 0 \nL 23.484375 0 \nz\n\" id=\"DejaVuSans-118\"/>\n      <path d=\"M 45.40625 27.984375 \nQ 45.40625 37.75 41.375 43.109375 \nQ 37.359375 48.484375 30.078125 48.484375 \nQ 22.859375 48.484375 18.828125 43.109375 \nQ 14.796875 37.75 14.796875 27.984375 \nQ 14.796875 18.265625 18.828125 12.890625 \nQ 22.859375 7.515625 30.078125 7.515625 \nQ 37.359375 7.515625 41.375 12.890625 \nQ 45.40625 18.265625 45.40625 27.984375 \nz\nM 54.390625 6.78125 \nQ 54.390625 -7.171875 48.1875 -13.984375 \nQ 42 -20.796875 29.203125 -20.796875 \nQ 24.46875 -20.796875 20.265625 -20.09375 \nQ 16.0625 -19.390625 12.109375 -17.921875 \nL 12.109375 -9.1875 \nQ 16.0625 -11.328125 19.921875 -12.34375 \nQ 23.78125 -13.375 27.78125 -13.375 \nQ 36.625 -13.375 41.015625 -8.765625 \nQ 45.40625 -4.15625 45.40625 5.171875 \nL 45.40625 9.625 \nQ 42.625 4.78125 38.28125 2.390625 \nQ 33.9375 0 27.875 0 \nQ 17.828125 0 11.671875 7.65625 \nQ 5.515625 15.328125 5.515625 27.984375 \nQ 5.515625 40.671875 11.671875 48.328125 \nQ 17.828125 56 27.875 56 \nQ 33.9375 56 38.28125 53.609375 \nQ 42.625 51.21875 45.40625 46.390625 \nL 45.40625 54.6875 \nL 54.390625 54.6875 \nz\n\" id=\"DejaVuSans-103\"/>\n     </defs>\n     <use xlink:href=\"#DejaVuSans-89\"/>\n     <use x=\"47.833984\" xlink:href=\"#DejaVuSans-101\"/>\n     <use x=\"109.357422\" xlink:href=\"#DejaVuSans-97\"/>\n     <use x=\"170.636719\" xlink:href=\"#DejaVuSans-114\"/>\n     <use x=\"211.75\" xlink:href=\"#DejaVuSans-108\"/>\n     <use x=\"239.533203\" xlink:href=\"#DejaVuSans-121\"/>\n     <use x=\"298.712891\" xlink:href=\"#DejaVuSans-32\"/>\n     <use x=\"330.5\" xlink:href=\"#DejaVuSans-80\"/>\n     <use x=\"389.052734\" xlink:href=\"#DejaVuSans-114\"/>\n     <use x=\"430.166016\" xlink:href=\"#DejaVuSans-105\"/>\n     <use x=\"457.949219\" xlink:href=\"#DejaVuSans-99\"/>\n     <use x=\"512.929688\" xlink:href=\"#DejaVuSans-101\"/>\n     <use x=\"574.453125\" xlink:href=\"#DejaVuSans-32\"/>\n     <use x=\"606.240234\" xlink:href=\"#DejaVuSans-112\"/>\n     <use x=\"669.716797\" xlink:href=\"#DejaVuSans-101\"/>\n     <use x=\"731.240234\" xlink:href=\"#DejaVuSans-114\"/>\n     <use x=\"772.353516\" xlink:href=\"#DejaVuSans-32\"/>\n     <use x=\"804.140625\" xlink:href=\"#DejaVuSans-83\"/>\n     <use x=\"867.617188\" xlink:href=\"#DejaVuSans-113\"/>\n     <use x=\"931.09375\" xlink:href=\"#DejaVuSans-102\"/>\n     <use x=\"964.548828\" xlink:href=\"#DejaVuSans-116\"/>\n     <use x=\"1003.757812\" xlink:href=\"#DejaVuSans-32\"/>\n     <use x=\"1035.544922\" xlink:href=\"#DejaVuSans-65\"/>\n     <use x=\"1098.078125\" xlink:href=\"#DejaVuSans-118\"/>\n     <use x=\"1157.257812\" xlink:href=\"#DejaVuSans-101\"/>\n     <use x=\"1218.78125\" xlink:href=\"#DejaVuSans-114\"/>\n     <use x=\"1259.894531\" xlink:href=\"#DejaVuSans-97\"/>\n     <use x=\"1321.173828\" xlink:href=\"#DejaVuSans-103\"/>\n     <use x=\"1384.650391\" xlink:href=\"#DejaVuSans-101\"/>\n    </g>\n   </g>\n  </g>\n </g>\n <defs>\n  <clipPath id=\"pa7b547b88a\">\n   <rect height=\"271.8\" width=\"279\" x=\"33.2875\" y=\"22.318125\"/>\n  </clipPath>\n </defs>\n</svg>\n",
      "image/png": "[encoded data removed]"
     },
     "metadata": {
      "needs_background": "light"
     }
    }
   ],
   "source": [
    " average_sales_price()"
   ]
  },
  {
   "cell_type": "code",
   "execution_count": 12,
   "metadata": {},
   "outputs": [
    {
     "output_type": "display_data",
     "data": {},
     "metadata": {}
    },
    {
     "output_type": "execute_result",
     "data": {
      "text/html": "<div id='2575'>\n\n\n\n\n\n  <div class=\"bk-root\" id=\"db80a763-9e72-46c4-a8eb-9aec7854aba1\" data-root-id=\"2575\"></div>\n</div>\n<script type=\"application/javascript\">(function(root) {\n  function embed_document(root) {\n    var docs_json = {\"b7b3d24f-30c5-4c5b-abe0-e8cc713b0738\":{\"roots\":{\"references\":[{\"attributes\":{\"click_policy\":\"mute\",\"items\":[{\"id\":\"2631\"},{\"id\":\"2650\"}],\"location\":[0,0],\"title\":\"Variable\"},\"id\":\"2630\",\"type\":\"Legend\"},{\"attributes\":{\"children\":[{\"id\":\"2753\"}],\"css_classes\":[\"panel-widget-box\"],\"margin\":[5,5,5,5],\"name\":\"WidgetBox29928\"},\"id\":\"2752\",\"type\":\"Column\"},{\"attributes\":{\"line_alpha\":0.1,\"line_color\":\"#1f77b3\",\"line_width\":2,\"x\":{\"field\":\"year\"},\"y\":{\"field\":\"value\"}},\"id\":\"2618\",\"type\":\"Line\"},{\"attributes\":{\"source\":{\"id\":\"2632\"}},\"id\":\"2639\",\"type\":\"CDSView\"},{\"attributes\":{\"margin\":[5,5,5,5],\"name\":\"HSpacer29938\",\"sizing_mode\":\"stretch_width\"},\"id\":\"2576\",\"type\":\"Spacer\"},{\"attributes\":{\"data\":{\"Variable\":[\"gross_rent\",\"gross_rent\",\"gross_rent\",\"gross_rent\",\"gross_rent\",\"gross_rent\",\"gross_rent\"],\"value\":[1239,1530,2324,2971,3528,3739,4390],\"year\":[\"2010\",\"2011\",\"2012\",\"2013\",\"2014\",\"2015\",\"2016\"]},\"selected\":{\"id\":\"2615\"},\"selection_policy\":{\"id\":\"2628\"}},\"id\":\"2614\",\"type\":\"ColumnDataSource\"},{\"attributes\":{\"label\":{\"value\":\"sale_price_sqr_foot\"},\"renderers\":[{\"id\":\"2638\"}]},\"id\":\"2650\",\"type\":\"LegendItem\"},{\"attributes\":{\"code\":\"\\nvar state = null\\nfor (var root of cb_obj.document.roots()) {\\n  if (root.id == '2765') {\\n    state = root;\\n    break;\\n  }\\n}\\nif (!state) { return; }\\nstate.set_state(cb_obj, cb_obj.value)\\n\"},\"id\":\"2766\",\"type\":\"CustomJS\"},{\"attributes\":{\"margin\":[5,5,5,5],\"name\":\"HSpacer29939\",\"sizing_mode\":\"stretch_width\"},\"id\":\"2749\",\"type\":\"Spacer\"},{\"attributes\":{\"data_source\":{\"id\":\"2614\"},\"glyph\":{\"id\":\"2617\"},\"hover_glyph\":null,\"muted_glyph\":{\"id\":\"2619\"},\"nonselection_glyph\":{\"id\":\"2618\"},\"selection_glyph\":null,\"view\":{\"id\":\"2621\"}},\"id\":\"2620\",\"type\":\"GlyphRenderer\"},{\"attributes\":{\"line_color\":\"#ff7e0e\",\"line_width\":2,\"x\":{\"field\":\"year\"},\"y\":{\"field\":\"value\"}},\"id\":\"2635\",\"type\":\"Line\"},{\"attributes\":{},\"id\":\"2591\",\"type\":\"CategoricalTicker\"},{\"attributes\":{},\"id\":\"2598\",\"type\":\"PanTool\"},{\"attributes\":{\"factors\":[\"2010\",\"2011\",\"2012\",\"2013\",\"2014\",\"2015\",\"2016\"],\"tags\":[[[\"year\",\"year\",null]]]},\"id\":\"2577\",\"type\":\"FactorRange\"},{\"attributes\":{\"data\":{\"Variable\":[\"sale_price_sqr_foot\",\"sale_price_sqr_foot\",\"sale_price_sqr_foot\",\"sale_price_sqr_foot\",\"sale_price_sqr_foot\",\"sale_price_sqr_foot\",\"sale_price_sqr_foot\"],\"value\":{\"__ndarray__\":\"Dkc7WO0yckCafszcbwhxQIGRs5ot42ZAJzog0LQ8eEAWMinKGEd+QI0V5FDt0IJAVCHcmLVPdUA=\",\"dtype\":\"float64\",\"order\":\"little\",\"shape\":[7]},\"year\":[\"2010\",\"2011\",\"2012\",\"2013\",\"2014\",\"2015\",\"2016\"]},\"selected\":{\"id\":\"2633\"},\"selection_policy\":{\"id\":\"2648\"}},\"id\":\"2632\",\"type\":\"ColumnDataSource\"},{\"attributes\":{\"data_source\":{\"id\":\"2632\"},\"glyph\":{\"id\":\"2635\"},\"hover_glyph\":null,\"muted_glyph\":{\"id\":\"2637\"},\"nonselection_glyph\":{\"id\":\"2636\"},\"selection_glyph\":null,\"view\":{\"id\":\"2639\"}},\"id\":\"2638\",\"type\":\"GlyphRenderer\"},{\"attributes\":{},\"id\":\"2648\",\"type\":\"UnionRenderers\"},{\"attributes\":{\"children\":[{\"id\":\"2751\"},{\"id\":\"2752\"},{\"id\":\"2754\"}],\"margin\":[0,0,0,0],\"name\":\"Column29937\"},\"id\":\"2750\",\"type\":\"Column\"},{\"attributes\":{\"bottom_units\":\"screen\",\"fill_alpha\":0.5,\"fill_color\":\"lightgrey\",\"left_units\":\"screen\",\"level\":\"overlay\",\"line_alpha\":1.0,\"line_color\":\"black\",\"line_dash\":[4,4],\"line_width\":2,\"right_units\":\"screen\",\"top_units\":\"screen\"},\"id\":\"2602\",\"type\":\"BoxAnnotation\"},{\"attributes\":{},\"id\":\"2586\",\"type\":\"CategoricalScale\"},{\"attributes\":{},\"id\":\"2610\",\"type\":\"CategoricalTickFormatter\"},{\"attributes\":{},\"id\":\"2615\",\"type\":\"Selection\"},{\"attributes\":{\"line_alpha\":0.2,\"line_color\":\"#1f77b3\",\"line_width\":2,\"x\":{\"field\":\"year\"},\"y\":{\"field\":\"value\"}},\"id\":\"2619\",\"type\":\"Line\"},{\"attributes\":{},\"id\":\"2599\",\"type\":\"WheelZoomTool\"},{\"attributes\":{},\"id\":\"2588\",\"type\":\"LinearScale\"},{\"attributes\":{\"callback\":null,\"renderers\":[{\"id\":\"2620\"},{\"id\":\"2638\"}],\"tags\":[\"hv_created\"],\"tooltips\":[[\"Variable\",\"@{Variable}\"],[\"year\",\"@{year}\"],[\"value\",\"@{value}\"]]},\"id\":\"2579\",\"type\":\"HoverTool\"},{\"attributes\":{\"axis_label\":\"\",\"bounds\":\"auto\",\"formatter\":{\"id\":\"2613\"},\"major_label_orientation\":\"horizontal\",\"ticker\":{\"id\":\"2594\"}},\"id\":\"2593\",\"type\":\"LinearAxis\"},{\"attributes\":{\"axis_label\":\"year\",\"bounds\":\"auto\",\"formatter\":{\"id\":\"2610\"},\"major_label_orientation\":\"horizontal\",\"ticker\":{\"id\":\"2591\"}},\"id\":\"2590\",\"type\":\"CategoricalAxis\"},{\"attributes\":{\"end\":5000,\"reset_end\":5000,\"reset_start\":0,\"tags\":[[[\"value\",\"value\",null]]]},\"id\":\"2578\",\"type\":\"Range1d\"},{\"attributes\":{\"axis\":{\"id\":\"2590\"},\"grid_line_color\":null,\"ticker\":null},\"id\":\"2592\",\"type\":\"Grid\"},{\"attributes\":{\"margin\":[5,5,5,5],\"name\":\"VSpacer29936\",\"sizing_mode\":\"stretch_height\"},\"id\":\"2754\",\"type\":\"Spacer\"},{\"attributes\":{\"line_alpha\":0.2,\"line_color\":\"#ff7e0e\",\"line_width\":2,\"x\":{\"field\":\"year\"},\"y\":{\"field\":\"value\"}},\"id\":\"2637\",\"type\":\"Line\"},{\"attributes\":{\"below\":[{\"id\":\"2590\"}],\"center\":[{\"id\":\"2592\"},{\"id\":\"2596\"}],\"left\":[{\"id\":\"2593\"}],\"margin\":[5,5,5,5],\"min_border_bottom\":10,\"min_border_left\":10,\"min_border_right\":10,\"min_border_top\":10,\"plot_height\":300,\"plot_width\":700,\"renderers\":[{\"id\":\"2620\"},{\"id\":\"2638\"}],\"right\":[{\"id\":\"2630\"}],\"sizing_mode\":\"fixed\",\"title\":{\"id\":\"2582\"},\"toolbar\":{\"id\":\"2603\"},\"x_range\":{\"id\":\"2577\"},\"x_scale\":{\"id\":\"2586\"},\"y_range\":{\"id\":\"2578\"},\"y_scale\":{\"id\":\"2588\"}},\"id\":\"2581\",\"subtype\":\"Figure\",\"type\":\"Plot\"},{\"attributes\":{\"source\":{\"id\":\"2614\"}},\"id\":\"2621\",\"type\":\"CDSView\"},{\"attributes\":{\"line_color\":\"#1f77b3\",\"line_width\":2,\"x\":{\"field\":\"year\"},\"y\":{\"field\":\"value\"}},\"id\":\"2617\",\"type\":\"Line\"},{\"attributes\":{\"line_alpha\":0.1,\"line_color\":\"#ff7e0e\",\"line_width\":2,\"x\":{\"field\":\"year\"},\"y\":{\"field\":\"value\"}},\"id\":\"2636\",\"type\":\"Line\"},{\"attributes\":{\"label\":{\"value\":\"gross_rent\"},\"renderers\":[{\"id\":\"2620\"}]},\"id\":\"2631\",\"type\":\"LegendItem\"},{\"attributes\":{\"state\":{\"Alamo Square\":{\"content\":\"{\\\"events\\\": [{\\\"attr\\\": \\\"factors\\\", \\\"kind\\\": \\\"ModelChanged\\\", \\\"model\\\": {\\\"id\\\": \\\"2577\\\"}, \\\"new\\\": [\\\"2010\\\", \\\"2011\\\", \\\"2012\\\", \\\"2013\\\", \\\"2014\\\", \\\"2015\\\", \\\"2016\\\"]}, {\\\"cols\\\": null, \\\"column_source\\\": {\\\"id\\\": \\\"2614\\\"}, \\\"kind\\\": \\\"ColumnDataChanged\\\", \\\"new\\\": {\\\"Variable\\\": [\\\"gross_rent\\\", \\\"gross_rent\\\", \\\"gross_rent\\\", \\\"gross_rent\\\", \\\"gross_rent\\\", \\\"gross_rent\\\", \\\"gross_rent\\\"], \\\"value\\\": [1239, 1530, 2324, 2971, 3528, 3739, 4390], \\\"year\\\": [\\\"2010\\\", \\\"2011\\\", \\\"2012\\\", \\\"2013\\\", \\\"2014\\\", \\\"2015\\\", \\\"2016\\\"]}}, {\\\"cols\\\": null, \\\"column_source\\\": {\\\"id\\\": \\\"2632\\\"}, \\\"kind\\\": \\\"ColumnDataChanged\\\", \\\"new\\\": {\\\"Variable\\\": [\\\"sale_price_sqr_foot\\\", \\\"sale_price_sqr_foot\\\", \\\"sale_price_sqr_foot\\\", \\\"sale_price_sqr_foot\\\", \\\"sale_price_sqr_foot\\\", \\\"sale_price_sqr_foot\\\", \\\"sale_price_sqr_foot\\\"], \\\"value\\\": {\\\"__ndarray__\\\": \\\"Dkc7WO0yckCafszcbwhxQIGRs5ot42ZAJzog0LQ8eEAWMinKGEd+QI0V5FDt0IJAVCHcmLVPdUA=\\\", \\\"dtype\\\": \\\"float64\\\", \\\"order\\\": \\\"little\\\", \\\"shape\\\": [7]}, \\\"year\\\": [\\\"2010\\\", \\\"2011\\\", \\\"2012\\\", \\\"2013\\\", \\\"2014\\\", \\\"2015\\\", \\\"2016\\\"]}}, {\\\"attr\\\": \\\"text\\\", \\\"kind\\\": \\\"ModelChanged\\\", \\\"model\\\": {\\\"id\\\": \\\"2582\\\"}, \\\"new\\\": \\\"neighborhood: Alamo Square\\\"}, {\\\"attr\\\": \\\"right\\\", \\\"kind\\\": \\\"ModelChanged\\\", \\\"model\\\": {\\\"id\\\": \\\"2581\\\"}, \\\"new\\\": [{\\\"id\\\": \\\"2630\\\"}]}], \\\"references\\\": [{\\\"attributes\\\": {\\\"click_policy\\\": \\\"mute\\\", \\\"items\\\": [{\\\"id\\\": \\\"2631\\\"}, {\\\"id\\\": \\\"2650\\\"}], \\\"location\\\": [0, 0], \\\"title\\\": \\\"Variable\\\"}, \\\"id\\\": \\\"2630\\\", \\\"type\\\": \\\"Legend\\\"}, {\\\"attributes\\\": {\\\"line_alpha\\\": 0.1, \\\"line_color\\\": \\\"#1f77b3\\\", \\\"line_width\\\": 2, \\\"x\\\": {\\\"field\\\": \\\"year\\\"}, \\\"y\\\": {\\\"field\\\": \\\"value\\\"}}, \\\"id\\\": \\\"2618\\\", \\\"type\\\": \\\"Line\\\"}, {\\\"attributes\\\": {\\\"source\\\": {\\\"id\\\": \\\"2632\\\"}}, \\\"id\\\": \\\"2639\\\", \\\"type\\\": \\\"CDSView\\\"}, {\\\"attributes\\\": {\\\"label\\\": {\\\"value\\\": \\\"sale_price_sqr_foot\\\"}, \\\"renderers\\\": [{\\\"id\\\": \\\"2638\\\"}]}, \\\"id\\\": \\\"2650\\\", \\\"type\\\": \\\"LegendItem\\\"}, {\\\"attributes\\\": {\\\"data\\\": {\\\"Variable\\\": [\\\"gross_rent\\\", \\\"gross_rent\\\", \\\"gross_rent\\\", \\\"gross_rent\\\", \\\"gross_rent\\\", \\\"gross_rent\\\", \\\"gross_rent\\\"], \\\"value\\\": [1239, 1530, 2324, 2971, 3528, 3739, 4390], \\\"year\\\": [\\\"2010\\\", \\\"2011\\\", \\\"2012\\\", \\\"2013\\\", \\\"2014\\\", \\\"2015\\\", \\\"2016\\\"]}, \\\"selected\\\": {\\\"id\\\": \\\"2615\\\"}, \\\"selection_policy\\\": {\\\"id\\\": \\\"2628\\\"}}, \\\"id\\\": \\\"2614\\\", \\\"type\\\": \\\"ColumnDataSource\\\"}, {\\\"attributes\\\": {\\\"data_source\\\": {\\\"id\\\": \\\"2614\\\"}, \\\"glyph\\\": {\\\"id\\\": \\\"2617\\\"}, \\\"hover_glyph\\\": null, \\\"muted_glyph\\\": {\\\"id\\\": \\\"2619\\\"}, \\\"nonselection_glyph\\\": {\\\"id\\\": \\\"2618\\\"}, \\\"selection_glyph\\\": null, \\\"view\\\": {\\\"id\\\": \\\"2621\\\"}}, \\\"id\\\": \\\"2620\\\", \\\"type\\\": \\\"GlyphRenderer\\\"}, {\\\"attributes\\\": {\\\"line_color\\\": \\\"#ff7e0e\\\", \\\"line_width\\\": 2, \\\"x\\\": {\\\"field\\\": \\\"year\\\"}, \\\"y\\\": {\\\"field\\\": \\\"value\\\"}}, \\\"id\\\": \\\"2635\\\", \\\"type\\\": \\\"Line\\\"}, {\\\"attributes\\\": {\\\"line_alpha\\\": 0.2, \\\"line_color\\\": \\\"#ff7e0e\\\", \\\"line_width\\\": 2, \\\"x\\\": {\\\"field\\\": \\\"year\\\"}, \\\"y\\\": {\\\"field\\\": \\\"value\\\"}}, \\\"id\\\": \\\"2637\\\", \\\"type\\\": \\\"Line\\\"}, {\\\"attributes\\\": {\\\"data\\\": {\\\"Variable\\\": [\\\"sale_price_sqr_foot\\\", \\\"sale_price_sqr_foot\\\", \\\"sale_price_sqr_foot\\\", \\\"sale_price_sqr_foot\\\", \\\"sale_price_sqr_foot\\\", \\\"sale_price_sqr_foot\\\", \\\"sale_price_sqr_foot\\\"], \\\"value\\\": {\\\"__ndarray__\\\": \\\"Dkc7WO0yckCafszcbwhxQIGRs5ot42ZAJzog0LQ8eEAWMinKGEd+QI0V5FDt0IJAVCHcmLVPdUA=\\\", \\\"dtype\\\": \\\"float64\\\", \\\"order\\\": \\\"little\\\", \\\"shape\\\": [7]}, \\\"year\\\": [\\\"2010\\\", \\\"2011\\\", \\\"2012\\\", \\\"2013\\\", \\\"2014\\\", \\\"2015\\\", \\\"2016\\\"]}, \\\"selected\\\": {\\\"id\\\": \\\"2633\\\"}, \\\"selection_policy\\\": {\\\"id\\\": \\\"2648\\\"}}, \\\"id\\\": \\\"2632\\\", \\\"type\\\": \\\"ColumnDataSource\\\"}, {\\\"attributes\\\": {\\\"source\\\": {\\\"id\\\": \\\"2614\\\"}}, \\\"id\\\": \\\"2621\\\", \\\"type\\\": \\\"CDSView\\\"}, {\\\"attributes\\\": {\\\"line_color\\\": \\\"#1f77b3\\\", \\\"line_width\\\": 2, \\\"x\\\": {\\\"field\\\": \\\"year\\\"}, \\\"y\\\": {\\\"field\\\": \\\"value\\\"}}, \\\"id\\\": \\\"2617\\\", \\\"type\\\": \\\"Line\\\"}, {\\\"attributes\\\": {\\\"line_alpha\\\": 0.1, \\\"line_color\\\": \\\"#ff7e0e\\\", \\\"line_width\\\": 2, \\\"x\\\": {\\\"field\\\": \\\"year\\\"}, \\\"y\\\": {\\\"field\\\": \\\"value\\\"}}, \\\"id\\\": \\\"2636\\\", \\\"type\\\": \\\"Line\\\"}, {\\\"attributes\\\": {}, \\\"id\\\": \\\"2648\\\", \\\"type\\\": \\\"UnionRenderers\\\"}, {\\\"attributes\\\": {\\\"data_source\\\": {\\\"id\\\": \\\"2632\\\"}, \\\"glyph\\\": {\\\"id\\\": \\\"2635\\\"}, \\\"hover_glyph\\\": null, \\\"muted_glyph\\\": {\\\"id\\\": \\\"2637\\\"}, \\\"nonselection_glyph\\\": {\\\"id\\\": \\\"2636\\\"}, \\\"selection_glyph\\\": null, \\\"view\\\": {\\\"id\\\": \\\"2639\\\"}}, \\\"id\\\": \\\"2638\\\", \\\"type\\\": \\\"GlyphRenderer\\\"}, {\\\"attributes\\\": {\\\"label\\\": {\\\"value\\\": \\\"gross_rent\\\"}, \\\"renderers\\\": [{\\\"id\\\": \\\"2620\\\"}]}, \\\"id\\\": \\\"2631\\\", \\\"type\\\": \\\"LegendItem\\\"}, {\\\"attributes\\\": {}, \\\"id\\\": \\\"2628\\\", \\\"type\\\": \\\"UnionRenderers\\\"}, {\\\"attributes\\\": {}, \\\"id\\\": \\\"2615\\\", \\\"type\\\": \\\"Selection\\\"}, {\\\"attributes\\\": {\\\"line_alpha\\\": 0.2, \\\"line_color\\\": \\\"#1f77b3\\\", \\\"line_width\\\": 2, \\\"x\\\": {\\\"field\\\": \\\"year\\\"}, \\\"y\\\": {\\\"field\\\": \\\"value\\\"}}, \\\"id\\\": \\\"2619\\\", \\\"type\\\": \\\"Line\\\"}, {\\\"attributes\\\": {}, \\\"id\\\": \\\"2633\\\", \\\"type\\\": \\\"Selection\\\"}]}\",\"header\":\"{\\\"msgid\\\": \\\"5187\\\", \\\"msgtype\\\": \\\"PATCH-DOC\\\"}\",\"metadata\":\"{}\"},\"Anza Vista\":{\"content\":\"{\\\"events\\\": [{\\\"attr\\\": \\\"factors\\\", \\\"kind\\\": \\\"ModelChanged\\\", \\\"model\\\": {\\\"id\\\": \\\"2577\\\"}, \\\"new\\\": [\\\"2010\\\", \\\"2012\\\", \\\"2013\\\", \\\"2014\\\", \\\"2015\\\", \\\"2016\\\"]}, {\\\"cols\\\": null, \\\"column_source\\\": {\\\"id\\\": \\\"2614\\\"}, \\\"kind\\\": \\\"ColumnDataChanged\\\", \\\"new\\\": {\\\"Variable\\\": [\\\"gross_rent\\\", \\\"gross_rent\\\", \\\"gross_rent\\\", \\\"gross_rent\\\", \\\"gross_rent\\\", \\\"gross_rent\\\"], \\\"value\\\": [1239, 2324, 2971, 3528, 3739, 4390], \\\"year\\\": [\\\"2010\\\", \\\"2012\\\", \\\"2013\\\", \\\"2014\\\", \\\"2015\\\", \\\"2016\\\"]}}, {\\\"cols\\\": null, \\\"column_source\\\": {\\\"id\\\": \\\"2632\\\"}, \\\"kind\\\": \\\"ColumnDataChanged\\\", \\\"new\\\": {\\\"Variable\\\": [\\\"sale_price_sqr_foot\\\", \\\"sale_price_sqr_foot\\\", \\\"sale_price_sqr_foot\\\", \\\"sale_price_sqr_foot\\\", \\\"sale_price_sqr_foot\\\", \\\"sale_price_sqr_foot\\\"], \\\"value\\\": {\\\"__ndarray__\\\": \\\"G/PQ2+u+cEATzZrI2od1QB4UWK5yVXxAICUpAIhjg0D6+vr6+hp9QDOV91qyGVZA\\\", \\\"dtype\\\": \\\"float64\\\", \\\"order\\\": \\\"little\\\", \\\"shape\\\": [6]}, \\\"year\\\": [\\\"2010\\\", \\\"2012\\\", \\\"2013\\\", \\\"2014\\\", \\\"2015\\\", \\\"2016\\\"]}}, {\\\"attr\\\": \\\"text\\\", \\\"kind\\\": \\\"ModelChanged\\\", \\\"model\\\": {\\\"id\\\": \\\"2582\\\"}, \\\"new\\\": \\\"neighborhood: Anza Vista\\\"}, {\\\"attr\\\": \\\"right\\\", \\\"kind\\\": \\\"ModelChanged\\\", \\\"model\\\": {\\\"id\\\": \\\"2581\\\"}, \\\"new\\\": [{\\\"id\\\": \\\"2630\\\"}]}], \\\"references\\\": [{\\\"attributes\\\": {\\\"click_policy\\\": \\\"mute\\\", \\\"items\\\": [{\\\"id\\\": \\\"2631\\\"}, {\\\"id\\\": \\\"2650\\\"}], \\\"location\\\": [0, 0], \\\"title\\\": \\\"Variable\\\"}, \\\"id\\\": \\\"2630\\\", \\\"type\\\": \\\"Legend\\\"}, {\\\"attributes\\\": {\\\"line_alpha\\\": 0.1, \\\"line_color\\\": \\\"#1f77b3\\\", \\\"line_width\\\": 2, \\\"x\\\": {\\\"field\\\": \\\"year\\\"}, \\\"y\\\": {\\\"field\\\": \\\"value\\\"}}, \\\"id\\\": \\\"2618\\\", \\\"type\\\": \\\"Line\\\"}, {\\\"attributes\\\": {\\\"source\\\": {\\\"id\\\": \\\"2632\\\"}}, \\\"id\\\": \\\"2639\\\", \\\"type\\\": \\\"CDSView\\\"}, {\\\"attributes\\\": {\\\"label\\\": {\\\"value\\\": \\\"sale_price_sqr_foot\\\"}, \\\"renderers\\\": [{\\\"id\\\": \\\"2638\\\"}]}, \\\"id\\\": \\\"2650\\\", \\\"type\\\": \\\"LegendItem\\\"}, {\\\"attributes\\\": {\\\"data\\\": {\\\"Variable\\\": [\\\"gross_rent\\\", \\\"gross_rent\\\", \\\"gross_rent\\\", \\\"gross_rent\\\", \\\"gross_rent\\\", \\\"gross_rent\\\"], \\\"value\\\": [1239, 2324, 2971, 3528, 3739, 4390], \\\"year\\\": [\\\"2010\\\", \\\"2012\\\", \\\"2013\\\", \\\"2014\\\", \\\"2015\\\", \\\"2016\\\"]}, \\\"selected\\\": {\\\"id\\\": \\\"2615\\\"}, \\\"selection_policy\\\": {\\\"id\\\": \\\"2628\\\"}}, \\\"id\\\": \\\"2614\\\", \\\"type\\\": \\\"ColumnDataSource\\\"}, {\\\"attributes\\\": {\\\"data_source\\\": {\\\"id\\\": \\\"2614\\\"}, \\\"glyph\\\": {\\\"id\\\": \\\"2617\\\"}, \\\"hover_glyph\\\": null, \\\"muted_glyph\\\": {\\\"id\\\": \\\"2619\\\"}, \\\"nonselection_glyph\\\": {\\\"id\\\": \\\"2618\\\"}, \\\"selection_glyph\\\": null, \\\"view\\\": {\\\"id\\\": \\\"2621\\\"}}, \\\"id\\\": \\\"2620\\\", \\\"type\\\": \\\"GlyphRenderer\\\"}, {\\\"attributes\\\": {\\\"line_color\\\": \\\"#ff7e0e\\\", \\\"line_width\\\": 2, \\\"x\\\": {\\\"field\\\": \\\"year\\\"}, \\\"y\\\": {\\\"field\\\": \\\"value\\\"}}, \\\"id\\\": \\\"2635\\\", \\\"type\\\": \\\"Line\\\"}, {\\\"attributes\\\": {\\\"line_alpha\\\": 0.2, \\\"line_color\\\": \\\"#ff7e0e\\\", \\\"line_width\\\": 2, \\\"x\\\": {\\\"field\\\": \\\"year\\\"}, \\\"y\\\": {\\\"field\\\": \\\"value\\\"}}, \\\"id\\\": \\\"2637\\\", \\\"type\\\": \\\"Line\\\"}, {\\\"attributes\\\": {\\\"data\\\": {\\\"Variable\\\": [\\\"sale_price_sqr_foot\\\", \\\"sale_price_sqr_foot\\\", \\\"sale_price_sqr_foot\\\", \\\"sale_price_sqr_foot\\\", \\\"sale_price_sqr_foot\\\", \\\"sale_price_sqr_foot\\\"], \\\"value\\\": {\\\"__ndarray__\\\": \\\"G/PQ2+u+cEATzZrI2od1QB4UWK5yVXxAICUpAIhjg0D6+vr6+hp9QDOV91qyGVZA\\\", \\\"dtype\\\": \\\"float64\\\", \\\"order\\\": \\\"little\\\", \\\"shape\\\": [6]}, \\\"year\\\": [\\\"2010\\\", \\\"2012\\\", \\\"2013\\\", \\\"2014\\\", \\\"2015\\\", \\\"2016\\\"]}, \\\"selected\\\": {\\\"id\\\": \\\"2633\\\"}, \\\"selection_policy\\\": {\\\"id\\\": \\\"2648\\\"}}, \\\"id\\\": \\\"2632\\\", \\\"type\\\": \\\"ColumnDataSource\\\"}, {\\\"attributes\\\": {\\\"source\\\": {\\\"id\\\": \\\"2614\\\"}}, \\\"id\\\": \\\"2621\\\", \\\"type\\\": \\\"CDSView\\\"}, {\\\"attributes\\\": {\\\"line_color\\\": \\\"#1f77b3\\\", \\\"line_width\\\": 2, \\\"x\\\": {\\\"field\\\": \\\"year\\\"}, \\\"y\\\": {\\\"field\\\": \\\"value\\\"}}, \\\"id\\\": \\\"2617\\\", \\\"type\\\": \\\"Line\\\"}, {\\\"attributes\\\": {\\\"line_alpha\\\": 0.1, \\\"line_color\\\": \\\"#ff7e0e\\\", \\\"line_width\\\": 2, \\\"x\\\": {\\\"field\\\": \\\"year\\\"}, \\\"y\\\": {\\\"field\\\": \\\"value\\\"}}, \\\"id\\\": \\\"2636\\\", \\\"type\\\": \\\"Line\\\"}, {\\\"attributes\\\": {}, \\\"id\\\": \\\"2648\\\", \\\"type\\\": \\\"UnionRenderers\\\"}, {\\\"attributes\\\": {\\\"data_source\\\": {\\\"id\\\": \\\"2632\\\"}, \\\"glyph\\\": {\\\"id\\\": \\\"2635\\\"}, \\\"hover_glyph\\\": null, \\\"muted_glyph\\\": {\\\"id\\\": \\\"2637\\\"}, \\\"nonselection_glyph\\\": {\\\"id\\\": \\\"2636\\\"}, \\\"selection_glyph\\\": null, \\\"view\\\": {\\\"id\\\": \\\"2639\\\"}}, \\\"id\\\": \\\"2638\\\", \\\"type\\\": \\\"GlyphRenderer\\\"}, {\\\"attributes\\\": {\\\"label\\\": {\\\"value\\\": \\\"gross_rent\\\"}, \\\"renderers\\\": [{\\\"id\\\": \\\"2620\\\"}]}, \\\"id\\\": \\\"2631\\\", \\\"type\\\": \\\"LegendItem\\\"}, {\\\"attributes\\\": {}, \\\"id\\\": \\\"2628\\\", \\\"type\\\": \\\"UnionRenderers\\\"}, {\\\"attributes\\\": {}, \\\"id\\\": \\\"2615\\\", \\\"type\\\": \\\"Selection\\\"}, {\\\"attributes\\\": {\\\"line_alpha\\\": 0.2, \\\"line_color\\\": \\\"#1f77b3\\\", \\\"line_width\\\": 2, \\\"x\\\": {\\\"field\\\": \\\"year\\\"}, \\\"y\\\": {\\\"field\\\": \\\"value\\\"}}, \\\"id\\\": \\\"2619\\\", \\\"type\\\": \\\"Line\\\"}, {\\\"attributes\\\": {}, \\\"id\\\": \\\"2633\\\", \\\"type\\\": \\\"Selection\\\"}]}\",\"header\":\"{\\\"msgid\\\": \\\"5154\\\", \\\"msgtype\\\": \\\"PATCH-DOC\\\"}\",\"metadata\":\"{}\"},\"Bayview\":{\"content\":\"{\\\"events\\\": [{\\\"attr\\\": \\\"factors\\\", \\\"kind\\\": \\\"ModelChanged\\\", \\\"model\\\": {\\\"id\\\": \\\"2577\\\"}, \\\"new\\\": [\\\"2010\\\", \\\"2011\\\", \\\"2012\\\", \\\"2013\\\", \\\"2014\\\"]}, {\\\"cols\\\": null, \\\"column_source\\\": {\\\"id\\\": \\\"2614\\\"}, \\\"kind\\\": \\\"ColumnDataChanged\\\", \\\"new\\\": {\\\"Variable\\\": [\\\"gross_rent\\\", \\\"gross_rent\\\", \\\"gross_rent\\\", \\\"gross_rent\\\", \\\"gross_rent\\\"], \\\"value\\\": [1239, 1530, 2324, 2971, 3528], \\\"year\\\": [\\\"2010\\\", \\\"2011\\\", \\\"2012\\\", \\\"2013\\\", \\\"2014\\\"]}}, {\\\"cols\\\": null, \\\"column_source\\\": {\\\"id\\\": \\\"2632\\\"}, \\\"kind\\\": \\\"ColumnDataChanged\\\", \\\"new\\\": {\\\"Variable\\\": [\\\"sale_price_sqr_foot\\\", \\\"sale_price_sqr_foot\\\", \\\"sale_price_sqr_foot\\\", \\\"sale_price_sqr_foot\\\", \\\"sale_price_sqr_foot\\\"], \\\"value\\\": {\\\"__ndarray__\\\": \\\"PPRDRChDZUAQP5VJTJFlQFUKJLqJuWRAAC6QLcE4cEBWESlbrd5vQA==\\\", \\\"dtype\\\": \\\"float64\\\", \\\"order\\\": \\\"little\\\", \\\"shape\\\": [5]}, \\\"year\\\": [\\\"2010\\\", \\\"2011\\\", \\\"2012\\\", \\\"2013\\\", \\\"2014\\\"]}}, {\\\"attr\\\": \\\"text\\\", \\\"kind\\\": \\\"ModelChanged\\\", \\\"model\\\": {\\\"id\\\": \\\"2582\\\"}, \\\"new\\\": \\\"neighborhood: Bayview\\\"}, {\\\"attr\\\": \\\"right\\\", \\\"kind\\\": \\\"ModelChanged\\\", \\\"model\\\": {\\\"id\\\": \\\"2581\\\"}, \\\"new\\\": [{\\\"id\\\": \\\"2630\\\"}]}], \\\"references\\\": [{\\\"attributes\\\": {\\\"click_policy\\\": \\\"mute\\\", \\\"items\\\": [{\\\"id\\\": \\\"2631\\\"}, {\\\"id\\\": \\\"2650\\\"}], \\\"location\\\": [0, 0], \\\"title\\\": \\\"Variable\\\"}, \\\"id\\\": \\\"2630\\\", \\\"type\\\": \\\"Legend\\\"}, {\\\"attributes\\\": {\\\"line_alpha\\\": 0.1, \\\"line_color\\\": \\\"#1f77b3\\\", \\\"line_width\\\": 2, \\\"x\\\": {\\\"field\\\": \\\"year\\\"}, \\\"y\\\": {\\\"field\\\": \\\"value\\\"}}, \\\"id\\\": \\\"2618\\\", \\\"type\\\": \\\"Line\\\"}, {\\\"attributes\\\": {\\\"source\\\": {\\\"id\\\": \\\"2632\\\"}}, \\\"id\\\": \\\"2639\\\", \\\"type\\\": \\\"CDSView\\\"}, {\\\"attributes\\\": {\\\"label\\\": {\\\"value\\\": \\\"sale_price_sqr_foot\\\"}, \\\"renderers\\\": [{\\\"id\\\": \\\"2638\\\"}]}, \\\"id\\\": \\\"2650\\\", \\\"type\\\": \\\"LegendItem\\\"}, {\\\"attributes\\\": {\\\"data\\\": {\\\"Variable\\\": [\\\"gross_rent\\\", \\\"gross_rent\\\", \\\"gross_rent\\\", \\\"gross_rent\\\", \\\"gross_rent\\\"], \\\"value\\\": [1239, 1530, 2324, 2971, 3528], \\\"year\\\": [\\\"2010\\\", \\\"2011\\\", \\\"2012\\\", \\\"2013\\\", \\\"2014\\\"]}, \\\"selected\\\": {\\\"id\\\": \\\"2615\\\"}, \\\"selection_policy\\\": {\\\"id\\\": \\\"2628\\\"}}, \\\"id\\\": \\\"2614\\\", \\\"type\\\": \\\"ColumnDataSource\\\"}, {\\\"attributes\\\": {\\\"data_source\\\": {\\\"id\\\": \\\"2614\\\"}, \\\"glyph\\\": {\\\"id\\\": \\\"2617\\\"}, \\\"hover_glyph\\\": null, \\\"muted_glyph\\\": {\\\"id\\\": \\\"2619\\\"}, \\\"nonselection_glyph\\\": {\\\"id\\\": \\\"2618\\\"}, \\\"selection_glyph\\\": null, \\\"view\\\": {\\\"id\\\": \\\"2621\\\"}}, \\\"id\\\": \\\"2620\\\", \\\"type\\\": \\\"GlyphRenderer\\\"}, {\\\"attributes\\\": {\\\"line_color\\\": \\\"#ff7e0e\\\", \\\"line_width\\\": 2, \\\"x\\\": {\\\"field\\\": \\\"year\\\"}, \\\"y\\\": {\\\"field\\\": \\\"value\\\"}}, \\\"id\\\": \\\"2635\\\", \\\"type\\\": \\\"Line\\\"}, {\\\"attributes\\\": {\\\"line_alpha\\\": 0.2, \\\"line_color\\\": \\\"#ff7e0e\\\", \\\"line_width\\\": 2, \\\"x\\\": {\\\"field\\\": \\\"year\\\"}, \\\"y\\\": {\\\"field\\\": \\\"value\\\"}}, \\\"id\\\": \\\"2637\\\", \\\"type\\\": \\\"Line\\\"}, {\\\"attributes\\\": {\\\"data\\\": {\\\"Variable\\\": [\\\"sale_price_sqr_foot\\\", \\\"sale_price_sqr_foot\\\", \\\"sale_price_sqr_foot\\\", \\\"sale_price_sqr_foot\\\", \\\"sale_price_sqr_foot\\\"], \\\"value\\\": {\\\"__ndarray__\\\": \\\"PPRDRChDZUAQP5VJTJFlQFUKJLqJuWRAAC6QLcE4cEBWESlbrd5vQA==\\\", \\\"dtype\\\": \\\"float64\\\", \\\"order\\\": \\\"little\\\", \\\"shape\\\": [5]}, \\\"year\\\": [\\\"2010\\\", \\\"2011\\\", \\\"2012\\\", \\\"2013\\\", \\\"2014\\\"]}, \\\"selected\\\": {\\\"id\\\": \\\"2633\\\"}, \\\"selection_policy\\\": {\\\"id\\\": \\\"2648\\\"}}, \\\"id\\\": \\\"2632\\\", \\\"type\\\": \\\"ColumnDataSource\\\"}, {\\\"attributes\\\": {\\\"source\\\": {\\\"id\\\": \\\"2614\\\"}}, \\\"id\\\": \\\"2621\\\", \\\"type\\\": \\\"CDSView\\\"}, {\\\"attributes\\\": {\\\"line_color\\\": \\\"#1f77b3\\\", \\\"line_width\\\": 2, \\\"x\\\": {\\\"field\\\": \\\"year\\\"}, \\\"y\\\": {\\\"field\\\": \\\"value\\\"}}, \\\"id\\\": \\\"2617\\\", \\\"type\\\": \\\"Line\\\"}, {\\\"attributes\\\": {\\\"line_alpha\\\": 0.1, \\\"line_color\\\": \\\"#ff7e0e\\\", \\\"line_width\\\": 2, \\\"x\\\": {\\\"field\\\": \\\"year\\\"}, \\\"y\\\": {\\\"field\\\": \\\"value\\\"}}, \\\"id\\\": \\\"2636\\\", \\\"type\\\": \\\"Line\\\"}, {\\\"attributes\\\": {}, \\\"id\\\": \\\"2648\\\", \\\"type\\\": \\\"UnionRenderers\\\"}, {\\\"attributes\\\": {\\\"data_source\\\": {\\\"id\\\": \\\"2632\\\"}, \\\"glyph\\\": {\\\"id\\\": \\\"2635\\\"}, \\\"hover_glyph\\\": null, \\\"muted_glyph\\\": {\\\"id\\\": \\\"2637\\\"}, \\\"nonselection_glyph\\\": {\\\"id\\\": \\\"2636\\\"}, \\\"selection_glyph\\\": null, \\\"view\\\": {\\\"id\\\": \\\"2639\\\"}}, \\\"id\\\": \\\"2638\\\", \\\"type\\\": \\\"GlyphRenderer\\\"}, {\\\"attributes\\\": {\\\"label\\\": {\\\"value\\\": \\\"gross_rent\\\"}, \\\"renderers\\\": [{\\\"id\\\": \\\"2620\\\"}]}, \\\"id\\\": \\\"2631\\\", \\\"type\\\": \\\"LegendItem\\\"}, {\\\"attributes\\\": {}, \\\"id\\\": \\\"2628\\\", \\\"type\\\": \\\"UnionRenderers\\\"}, {\\\"attributes\\\": {}, \\\"id\\\": \\\"2615\\\", \\\"type\\\": \\\"Selection\\\"}, {\\\"attributes\\\": {\\\"line_alpha\\\": 0.2, \\\"line_color\\\": \\\"#1f77b3\\\", \\\"line_width\\\": 2, \\\"x\\\": {\\\"field\\\": \\\"year\\\"}, \\\"y\\\": {\\\"field\\\": \\\"value\\\"}}, \\\"id\\\": \\\"2619\\\", \\\"type\\\": \\\"Line\\\"}, {\\\"attributes\\\": {}, \\\"id\\\": \\\"2633\\\", \\\"type\\\": \\\"Selection\\\"}]}\",\"header\":\"{\\\"msgid\\\": \\\"5121\\\", \\\"msgtype\\\": \\\"PATCH-DOC\\\"}\",\"metadata\":\"{}\"},\"Bayview Heights\":{\"content\":\"{\\\"events\\\": [{\\\"attr\\\": \\\"factors\\\", \\\"kind\\\": \\\"ModelChanged\\\", \\\"model\\\": {\\\"id\\\": \\\"2577\\\"}, \\\"new\\\": [\\\"2015\\\"]}, {\\\"cols\\\": null, \\\"column_source\\\": {\\\"id\\\": \\\"2614\\\"}, \\\"kind\\\": \\\"ColumnDataChanged\\\", \\\"new\\\": {\\\"Variable\\\": [\\\"gross_rent\\\"], \\\"value\\\": [3739], \\\"year\\\": [\\\"2015\\\"]}}, {\\\"cols\\\": null, \\\"column_source\\\": {\\\"id\\\": \\\"2632\\\"}, \\\"kind\\\": \\\"ColumnDataChanged\\\", \\\"new\\\": {\\\"Variable\\\": [\\\"sale_price_sqr_foot\\\"], \\\"value\\\": {\\\"__ndarray__\\\": \\\"/m3ou1d2gkA=\\\", \\\"dtype\\\": \\\"float64\\\", \\\"order\\\": \\\"little\\\", \\\"shape\\\": [1]}, \\\"year\\\": [\\\"2015\\\"]}}, {\\\"attr\\\": \\\"text\\\", \\\"kind\\\": \\\"ModelChanged\\\", \\\"model\\\": {\\\"id\\\": \\\"2582\\\"}, \\\"new\\\": \\\"neighborhood: Bayview Heights\\\"}, {\\\"attr\\\": \\\"right\\\", \\\"kind\\\": \\\"ModelChanged\\\", \\\"model\\\": {\\\"id\\\": \\\"2581\\\"}, \\\"new\\\": [{\\\"id\\\": \\\"2630\\\"}]}], \\\"references\\\": [{\\\"attributes\\\": {\\\"click_policy\\\": \\\"mute\\\", \\\"items\\\": [{\\\"id\\\": \\\"2631\\\"}, {\\\"id\\\": \\\"2650\\\"}], \\\"location\\\": [0, 0], \\\"title\\\": \\\"Variable\\\"}, \\\"id\\\": \\\"2630\\\", \\\"type\\\": \\\"Legend\\\"}, {\\\"attributes\\\": {\\\"line_alpha\\\": 0.1, \\\"line_color\\\": \\\"#1f77b3\\\", \\\"line_width\\\": 2, \\\"x\\\": {\\\"field\\\": \\\"year\\\"}, \\\"y\\\": {\\\"field\\\": \\\"value\\\"}}, \\\"id\\\": \\\"2618\\\", \\\"type\\\": \\\"Line\\\"}, {\\\"attributes\\\": {\\\"source\\\": {\\\"id\\\": \\\"2632\\\"}}, \\\"id\\\": \\\"2639\\\", \\\"type\\\": \\\"CDSView\\\"}, {\\\"attributes\\\": {\\\"label\\\": {\\\"value\\\": \\\"sale_price_sqr_foot\\\"}, \\\"renderers\\\": [{\\\"id\\\": \\\"2638\\\"}]}, \\\"id\\\": \\\"2650\\\", \\\"type\\\": \\\"LegendItem\\\"}, {\\\"attributes\\\": {\\\"data\\\": {\\\"Variable\\\": [\\\"gross_rent\\\"], \\\"value\\\": [3739], \\\"year\\\": [\\\"2015\\\"]}, \\\"selected\\\": {\\\"id\\\": \\\"2615\\\"}, \\\"selection_policy\\\": {\\\"id\\\": \\\"2628\\\"}}, \\\"id\\\": \\\"2614\\\", \\\"type\\\": \\\"ColumnDataSource\\\"}, {\\\"attributes\\\": {\\\"data_source\\\": {\\\"id\\\": \\\"2614\\\"}, \\\"glyph\\\": {\\\"id\\\": \\\"2617\\\"}, \\\"hover_glyph\\\": null, \\\"muted_glyph\\\": {\\\"id\\\": \\\"2619\\\"}, \\\"nonselection_glyph\\\": {\\\"id\\\": \\\"2618\\\"}, \\\"selection_glyph\\\": null, \\\"view\\\": {\\\"id\\\": \\\"2621\\\"}}, \\\"id\\\": \\\"2620\\\", \\\"type\\\": \\\"GlyphRenderer\\\"}, {\\\"attributes\\\": {\\\"line_color\\\": \\\"#ff7e0e\\\", \\\"line_width\\\": 2, \\\"x\\\": {\\\"field\\\": \\\"year\\\"}, \\\"y\\\": {\\\"field\\\": \\\"value\\\"}}, \\\"id\\\": \\\"2635\\\", \\\"type\\\": \\\"Line\\\"}, {\\\"attributes\\\": {\\\"line_alpha\\\": 0.2, \\\"line_color\\\": \\\"#ff7e0e\\\", \\\"line_width\\\": 2, \\\"x\\\": {\\\"field\\\": \\\"year\\\"}, \\\"y\\\": {\\\"field\\\": \\\"value\\\"}}, \\\"id\\\": \\\"2637\\\", \\\"type\\\": \\\"Line\\\"}, {\\\"attributes\\\": {\\\"data\\\": {\\\"Variable\\\": [\\\"sale_price_sqr_foot\\\"], \\\"value\\\": {\\\"__ndarray__\\\": \\\"/m3ou1d2gkA=\\\", \\\"dtype\\\": \\\"float64\\\", \\\"order\\\": \\\"little\\\", \\\"shape\\\": [1]}, \\\"year\\\": [\\\"2015\\\"]}, \\\"selected\\\": {\\\"id\\\": \\\"2633\\\"}, \\\"selection_policy\\\": {\\\"id\\\": \\\"2648\\\"}}, \\\"id\\\": \\\"2632\\\", \\\"type\\\": \\\"ColumnDataSource\\\"}, {\\\"attributes\\\": {\\\"source\\\": {\\\"id\\\": \\\"2614\\\"}}, \\\"id\\\": \\\"2621\\\", \\\"type\\\": \\\"CDSView\\\"}, {\\\"attributes\\\": {\\\"line_color\\\": \\\"#1f77b3\\\", \\\"line_width\\\": 2, \\\"x\\\": {\\\"field\\\": \\\"year\\\"}, \\\"y\\\": {\\\"field\\\": \\\"value\\\"}}, \\\"id\\\": \\\"2617\\\", \\\"type\\\": \\\"Line\\\"}, {\\\"attributes\\\": {\\\"line_alpha\\\": 0.1, \\\"line_color\\\": \\\"#ff7e0e\\\", \\\"line_width\\\": 2, \\\"x\\\": {\\\"field\\\": \\\"year\\\"}, \\\"y\\\": {\\\"field\\\": \\\"value\\\"}}, \\\"id\\\": \\\"2636\\\", \\\"type\\\": \\\"Line\\\"}, {\\\"attributes\\\": {}, \\\"id\\\": \\\"2648\\\", \\\"type\\\": \\\"UnionRenderers\\\"}, {\\\"attributes\\\": {\\\"data_source\\\": {\\\"id\\\": \\\"2632\\\"}, \\\"glyph\\\": {\\\"id\\\": \\\"2635\\\"}, \\\"hover_glyph\\\": null, \\\"muted_glyph\\\": {\\\"id\\\": \\\"2637\\\"}, \\\"nonselection_glyph\\\": {\\\"id\\\": \\\"2636\\\"}, \\\"selection_glyph\\\": null, \\\"view\\\": {\\\"id\\\": \\\"2639\\\"}}, \\\"id\\\": \\\"2638\\\", \\\"type\\\": \\\"GlyphRenderer\\\"}, {\\\"attributes\\\": {\\\"label\\\": {\\\"value\\\": \\\"gross_rent\\\"}, \\\"renderers\\\": [{\\\"id\\\": \\\"2620\\\"}]}, \\\"id\\\": \\\"2631\\\", \\\"type\\\": \\\"LegendItem\\\"}, {\\\"attributes\\\": {}, \\\"id\\\": \\\"2628\\\", \\\"type\\\": \\\"UnionRenderers\\\"}, {\\\"attributes\\\": {}, \\\"id\\\": \\\"2615\\\", \\\"type\\\": \\\"Selection\\\"}, {\\\"attributes\\\": {\\\"line_alpha\\\": 0.2, \\\"line_color\\\": \\\"#1f77b3\\\", \\\"line_width\\\": 2, \\\"x\\\": {\\\"field\\\": \\\"year\\\"}, \\\"y\\\": {\\\"field\\\": \\\"value\\\"}}, \\\"id\\\": \\\"2619\\\", \\\"type\\\": \\\"Line\\\"}, {\\\"attributes\\\": {}, \\\"id\\\": \\\"2633\\\", \\\"type\\\": \\\"Selection\\\"}]}\",\"header\":\"{\\\"msgid\\\": \\\"5088\\\", \\\"msgtype\\\": \\\"PATCH-DOC\\\"}\",\"metadata\":\"{}\"},\"Bernal Heights \":{\"content\":\"{\\\"events\\\": [{\\\"attr\\\": \\\"factors\\\", \\\"kind\\\": \\\"ModelChanged\\\", \\\"model\\\": {\\\"id\\\": \\\"2577\\\"}, \\\"new\\\": [\\\"2011\\\", \\\"2012\\\", \\\"2013\\\", \\\"2014\\\", \\\"2015\\\", \\\"2016\\\"]}, {\\\"cols\\\": null, \\\"column_source\\\": {\\\"id\\\": \\\"2614\\\"}, \\\"kind\\\": \\\"ColumnDataChanged\\\", \\\"new\\\": {\\\"Variable\\\": [\\\"gross_rent\\\", \\\"gross_rent\\\", \\\"gross_rent\\\", \\\"gross_rent\\\", \\\"gross_rent\\\", \\\"gross_rent\\\"], \\\"value\\\": [1530, 2324, 2971, 3528, 3739, 4390], \\\"year\\\": [\\\"2011\\\", \\\"2012\\\", \\\"2013\\\", \\\"2014\\\", \\\"2015\\\", \\\"2016\\\"]}}, {\\\"cols\\\": null, \\\"column_source\\\": {\\\"id\\\": \\\"2632\\\"}, \\\"kind\\\": \\\"ColumnDataChanged\\\", \\\"new\\\": {\\\"Variable\\\": [\\\"sale_price_sqr_foot\\\", \\\"sale_price_sqr_foot\\\", \\\"sale_price_sqr_foot\\\", \\\"sale_price_sqr_foot\\\", \\\"sale_price_sqr_foot\\\", \\\"sale_price_sqr_foot\\\"], \\\"value\\\": {\\\"__ndarray__\\\": \\\"HjEmar9+fUAqyD7VQwR3QCfG9awtt4NAqiUgHGAEgUB/Ui+cEaB8QGwor6G81o5A\\\", \\\"dtype\\\": \\\"float64\\\", \\\"order\\\": \\\"little\\\", \\\"shape\\\": [6]}, \\\"year\\\": [\\\"2011\\\", \\\"2012\\\", \\\"2013\\\", \\\"2014\\\", \\\"2015\\\", \\\"2016\\\"]}}, {\\\"attr\\\": \\\"text\\\", \\\"kind\\\": \\\"ModelChanged\\\", \\\"model\\\": {\\\"id\\\": \\\"2582\\\"}, \\\"new\\\": \\\"neighborhood: Bernal Heights\\\"}, {\\\"attr\\\": \\\"right\\\", \\\"kind\\\": \\\"ModelChanged\\\", \\\"model\\\": {\\\"id\\\": \\\"2581\\\"}, \\\"new\\\": [{\\\"id\\\": \\\"2630\\\"}]}], \\\"references\\\": [{\\\"attributes\\\": {\\\"click_policy\\\": \\\"mute\\\", \\\"items\\\": [{\\\"id\\\": \\\"2631\\\"}, {\\\"id\\\": \\\"2650\\\"}], \\\"location\\\": [0, 0], \\\"title\\\": \\\"Variable\\\"}, \\\"id\\\": \\\"2630\\\", \\\"type\\\": \\\"Legend\\\"}, {\\\"attributes\\\": {\\\"line_alpha\\\": 0.1, \\\"line_color\\\": \\\"#1f77b3\\\", \\\"line_width\\\": 2, \\\"x\\\": {\\\"field\\\": \\\"year\\\"}, \\\"y\\\": {\\\"field\\\": \\\"value\\\"}}, \\\"id\\\": \\\"2618\\\", \\\"type\\\": \\\"Line\\\"}, {\\\"attributes\\\": {\\\"source\\\": {\\\"id\\\": \\\"2632\\\"}}, \\\"id\\\": \\\"2639\\\", \\\"type\\\": \\\"CDSView\\\"}, {\\\"attributes\\\": {\\\"label\\\": {\\\"value\\\": \\\"sale_price_sqr_foot\\\"}, \\\"renderers\\\": [{\\\"id\\\": \\\"2638\\\"}]}, \\\"id\\\": \\\"2650\\\", \\\"type\\\": \\\"LegendItem\\\"}, {\\\"attributes\\\": {\\\"data\\\": {\\\"Variable\\\": [\\\"gross_rent\\\", \\\"gross_rent\\\", \\\"gross_rent\\\", \\\"gross_rent\\\", \\\"gross_rent\\\", \\\"gross_rent\\\"], \\\"value\\\": [1530, 2324, 2971, 3528, 3739, 4390], \\\"year\\\": [\\\"2011\\\", \\\"2012\\\", \\\"2013\\\", \\\"2014\\\", \\\"2015\\\", \\\"2016\\\"]}, \\\"selected\\\": {\\\"id\\\": \\\"2615\\\"}, \\\"selection_policy\\\": {\\\"id\\\": \\\"2628\\\"}}, \\\"id\\\": \\\"2614\\\", \\\"type\\\": \\\"ColumnDataSource\\\"}, {\\\"attributes\\\": {\\\"data_source\\\": {\\\"id\\\": \\\"2614\\\"}, \\\"glyph\\\": {\\\"id\\\": \\\"2617\\\"}, \\\"hover_glyph\\\": null, \\\"muted_glyph\\\": {\\\"id\\\": \\\"2619\\\"}, \\\"nonselection_glyph\\\": {\\\"id\\\": \\\"2618\\\"}, \\\"selection_glyph\\\": null, \\\"view\\\": {\\\"id\\\": \\\"2621\\\"}}, \\\"id\\\": \\\"2620\\\", \\\"type\\\": \\\"GlyphRenderer\\\"}, {\\\"attributes\\\": {\\\"line_color\\\": \\\"#ff7e0e\\\", \\\"line_width\\\": 2, \\\"x\\\": {\\\"field\\\": \\\"year\\\"}, \\\"y\\\": {\\\"field\\\": \\\"value\\\"}}, \\\"id\\\": \\\"2635\\\", \\\"type\\\": \\\"Line\\\"}, {\\\"attributes\\\": {\\\"line_alpha\\\": 0.2, \\\"line_color\\\": \\\"#ff7e0e\\\", \\\"line_width\\\": 2, \\\"x\\\": {\\\"field\\\": \\\"year\\\"}, \\\"y\\\": {\\\"field\\\": \\\"value\\\"}}, \\\"id\\\": \\\"2637\\\", \\\"type\\\": \\\"Line\\\"}, {\\\"attributes\\\": {\\\"data\\\": {\\\"Variable\\\": [\\\"sale_price_sqr_foot\\\", \\\"sale_price_sqr_foot\\\", \\\"sale_price_sqr_foot\\\", \\\"sale_price_sqr_foot\\\", \\\"sale_price_sqr_foot\\\", \\\"sale_price_sqr_foot\\\"], \\\"value\\\": {\\\"__ndarray__\\\": \\\"HjEmar9+fUAqyD7VQwR3QCfG9awtt4NAqiUgHGAEgUB/Ui+cEaB8QGwor6G81o5A\\\", \\\"dtype\\\": \\\"float64\\\", \\\"order\\\": \\\"little\\\", \\\"shape\\\": [6]}, \\\"year\\\": [\\\"2011\\\", \\\"2012\\\", \\\"2013\\\", \\\"2014\\\", \\\"2015\\\", \\\"2016\\\"]}, \\\"selected\\\": {\\\"id\\\": \\\"2633\\\"}, \\\"selection_policy\\\": {\\\"id\\\": \\\"2648\\\"}}, \\\"id\\\": \\\"2632\\\", \\\"type\\\": \\\"ColumnDataSource\\\"}, {\\\"attributes\\\": {\\\"source\\\": {\\\"id\\\": \\\"2614\\\"}}, \\\"id\\\": \\\"2621\\\", \\\"type\\\": \\\"CDSView\\\"}, {\\\"attributes\\\": {\\\"line_color\\\": \\\"#1f77b3\\\", \\\"line_width\\\": 2, \\\"x\\\": {\\\"field\\\": \\\"year\\\"}, \\\"y\\\": {\\\"field\\\": \\\"value\\\"}}, \\\"id\\\": \\\"2617\\\", \\\"type\\\": \\\"Line\\\"}, {\\\"attributes\\\": {\\\"line_alpha\\\": 0.1, \\\"line_color\\\": \\\"#ff7e0e\\\", \\\"line_width\\\": 2, \\\"x\\\": {\\\"field\\\": \\\"year\\\"}, \\\"y\\\": {\\\"field\\\": \\\"value\\\"}}, \\\"id\\\": \\\"2636\\\", \\\"type\\\": \\\"Line\\\"}, {\\\"attributes\\\": {}, \\\"id\\\": \\\"2648\\\", \\\"type\\\": \\\"UnionRenderers\\\"}, {\\\"attributes\\\": {\\\"data_source\\\": {\\\"id\\\": \\\"2632\\\"}, \\\"glyph\\\": {\\\"id\\\": \\\"2635\\\"}, \\\"hover_glyph\\\": null, \\\"muted_glyph\\\": {\\\"id\\\": \\\"2637\\\"}, \\\"nonselection_glyph\\\": {\\\"id\\\": \\\"2636\\\"}, \\\"selection_glyph\\\": null, \\\"view\\\": {\\\"id\\\": \\\"2639\\\"}}, \\\"id\\\": \\\"2638\\\", \\\"type\\\": \\\"GlyphRenderer\\\"}, {\\\"attributes\\\": {\\\"label\\\": {\\\"value\\\": \\\"gross_rent\\\"}, \\\"renderers\\\": [{\\\"id\\\": \\\"2620\\\"}]}, \\\"id\\\": \\\"2631\\\", \\\"type\\\": \\\"LegendItem\\\"}, {\\\"attributes\\\": {}, \\\"id\\\": \\\"2628\\\", \\\"type\\\": \\\"UnionRenderers\\\"}, {\\\"attributes\\\": {}, \\\"id\\\": \\\"2615\\\", \\\"type\\\": \\\"Selection\\\"}, {\\\"attributes\\\": {\\\"line_alpha\\\": 0.2, \\\"line_color\\\": \\\"#1f77b3\\\", \\\"line_width\\\": 2, \\\"x\\\": {\\\"field\\\": \\\"year\\\"}, \\\"y\\\": {\\\"field\\\": \\\"value\\\"}}, \\\"id\\\": \\\"2619\\\", \\\"type\\\": \\\"Line\\\"}, {\\\"attributes\\\": {}, \\\"id\\\": \\\"2633\\\", \\\"type\\\": \\\"Selection\\\"}]}\",\"header\":\"{\\\"msgid\\\": \\\"5055\\\", \\\"msgtype\\\": \\\"PATCH-DOC\\\"}\",\"metadata\":\"{}\"},\"Buena Vista Park\":{\"content\":\"{\\\"events\\\": [{\\\"attr\\\": \\\"factors\\\", \\\"kind\\\": \\\"ModelChanged\\\", \\\"model\\\": {\\\"id\\\": \\\"2577\\\"}, \\\"new\\\": [\\\"2010\\\", \\\"2011\\\", \\\"2012\\\", \\\"2013\\\", \\\"2015\\\", \\\"2016\\\"]}, {\\\"cols\\\": null, \\\"column_source\\\": {\\\"id\\\": \\\"2614\\\"}, \\\"kind\\\": \\\"ColumnDataChanged\\\", \\\"new\\\": {\\\"Variable\\\": [\\\"gross_rent\\\", \\\"gross_rent\\\", \\\"gross_rent\\\", \\\"gross_rent\\\", \\\"gross_rent\\\", \\\"gross_rent\\\"], \\\"value\\\": [1239, 1530, 2324, 2971, 3739, 4390], \\\"year\\\": [\\\"2010\\\", \\\"2011\\\", \\\"2012\\\", \\\"2013\\\", \\\"2015\\\", \\\"2016\\\"]}}, {\\\"cols\\\": null, \\\"column_source\\\": {\\\"id\\\": \\\"2632\\\"}, \\\"kind\\\": \\\"ColumnDataChanged\\\", \\\"new\\\": {\\\"Variable\\\": [\\\"sale_price_sqr_foot\\\", \\\"sale_price_sqr_foot\\\", \\\"sale_price_sqr_foot\\\", \\\"sale_price_sqr_foot\\\", \\\"sale_price_sqr_foot\\\", \\\"sale_price_sqr_foot\\\"], \\\"value\\\": {\\\"__ndarray__\\\": \\\"8TcCl1G2dUB6BGYQt3hlQNMPoV2eKXVAK46qSn1zfEA6NDCikD2BQFP8ARQ2m4pA\\\", \\\"dtype\\\": \\\"float64\\\", \\\"order\\\": \\\"little\\\", \\\"shape\\\": [6]}, \\\"year\\\": [\\\"2010\\\", \\\"2011\\\", \\\"2012\\\", \\\"2013\\\", \\\"2015\\\", \\\"2016\\\"]}}, {\\\"attr\\\": \\\"text\\\", \\\"kind\\\": \\\"ModelChanged\\\", \\\"model\\\": {\\\"id\\\": \\\"2582\\\"}, \\\"new\\\": \\\"neighborhood: Buena Vista Park\\\"}, {\\\"attr\\\": \\\"right\\\", \\\"kind\\\": \\\"ModelChanged\\\", \\\"model\\\": {\\\"id\\\": \\\"2581\\\"}, \\\"new\\\": [{\\\"id\\\": \\\"2630\\\"}]}], \\\"references\\\": [{\\\"attributes\\\": {\\\"click_policy\\\": \\\"mute\\\", \\\"items\\\": [{\\\"id\\\": \\\"2631\\\"}, {\\\"id\\\": \\\"2650\\\"}], \\\"location\\\": [0, 0], \\\"title\\\": \\\"Variable\\\"}, \\\"id\\\": \\\"2630\\\", \\\"type\\\": \\\"Legend\\\"}, {\\\"attributes\\\": {\\\"line_alpha\\\": 0.1, \\\"line_color\\\": \\\"#1f77b3\\\", \\\"line_width\\\": 2, \\\"x\\\": {\\\"field\\\": \\\"year\\\"}, \\\"y\\\": {\\\"field\\\": \\\"value\\\"}}, \\\"id\\\": \\\"2618\\\", \\\"type\\\": \\\"Line\\\"}, {\\\"attributes\\\": {\\\"source\\\": {\\\"id\\\": \\\"2632\\\"}}, \\\"id\\\": \\\"2639\\\", \\\"type\\\": \\\"CDSView\\\"}, {\\\"attributes\\\": {\\\"label\\\": {\\\"value\\\": \\\"sale_price_sqr_foot\\\"}, \\\"renderers\\\": [{\\\"id\\\": \\\"2638\\\"}]}, \\\"id\\\": \\\"2650\\\", \\\"type\\\": \\\"LegendItem\\\"}, {\\\"attributes\\\": {\\\"data\\\": {\\\"Variable\\\": [\\\"gross_rent\\\", \\\"gross_rent\\\", \\\"gross_rent\\\", \\\"gross_rent\\\", \\\"gross_rent\\\", \\\"gross_rent\\\"], \\\"value\\\": [1239, 1530, 2324, 2971, 3739, 4390], \\\"year\\\": [\\\"2010\\\", \\\"2011\\\", \\\"2012\\\", \\\"2013\\\", \\\"2015\\\", \\\"2016\\\"]}, \\\"selected\\\": {\\\"id\\\": \\\"2615\\\"}, \\\"selection_policy\\\": {\\\"id\\\": \\\"2628\\\"}}, \\\"id\\\": \\\"2614\\\", \\\"type\\\": \\\"ColumnDataSource\\\"}, {\\\"attributes\\\": {\\\"data_source\\\": {\\\"id\\\": \\\"2614\\\"}, \\\"glyph\\\": {\\\"id\\\": \\\"2617\\\"}, \\\"hover_glyph\\\": null, \\\"muted_glyph\\\": {\\\"id\\\": \\\"2619\\\"}, \\\"nonselection_glyph\\\": {\\\"id\\\": \\\"2618\\\"}, \\\"selection_glyph\\\": null, \\\"view\\\": {\\\"id\\\": \\\"2621\\\"}}, \\\"id\\\": \\\"2620\\\", \\\"type\\\": \\\"GlyphRenderer\\\"}, {\\\"attributes\\\": {\\\"line_color\\\": \\\"#ff7e0e\\\", \\\"line_width\\\": 2, \\\"x\\\": {\\\"field\\\": \\\"year\\\"}, \\\"y\\\": {\\\"field\\\": \\\"value\\\"}}, \\\"id\\\": \\\"2635\\\", \\\"type\\\": \\\"Line\\\"}, {\\\"attributes\\\": {\\\"line_alpha\\\": 0.2, \\\"line_color\\\": \\\"#ff7e0e\\\", \\\"line_width\\\": 2, \\\"x\\\": {\\\"field\\\": \\\"year\\\"}, \\\"y\\\": {\\\"field\\\": \\\"value\\\"}}, \\\"id\\\": \\\"2637\\\", \\\"type\\\": \\\"Line\\\"}, {\\\"attributes\\\": {\\\"data\\\": {\\\"Variable\\\": [\\\"sale_price_sqr_foot\\\", \\\"sale_price_sqr_foot\\\", \\\"sale_price_sqr_foot\\\", \\\"sale_price_sqr_foot\\\", \\\"sale_price_sqr_foot\\\", \\\"sale_price_sqr_foot\\\"], \\\"value\\\": {\\\"__ndarray__\\\": \\\"8TcCl1G2dUB6BGYQt3hlQNMPoV2eKXVAK46qSn1zfEA6NDCikD2BQFP8ARQ2m4pA\\\", \\\"dtype\\\": \\\"float64\\\", \\\"order\\\": \\\"little\\\", \\\"shape\\\": [6]}, \\\"year\\\": [\\\"2010\\\", \\\"2011\\\", \\\"2012\\\", \\\"2013\\\", \\\"2015\\\", \\\"2016\\\"]}, \\\"selected\\\": {\\\"id\\\": \\\"2633\\\"}, \\\"selection_policy\\\": {\\\"id\\\": \\\"2648\\\"}}, \\\"id\\\": \\\"2632\\\", \\\"type\\\": \\\"ColumnDataSource\\\"}, {\\\"attributes\\\": {\\\"source\\\": {\\\"id\\\": \\\"2614\\\"}}, \\\"id\\\": \\\"2621\\\", \\\"type\\\": \\\"CDSView\\\"}, {\\\"attributes\\\": {\\\"line_color\\\": \\\"#1f77b3\\\", \\\"line_width\\\": 2, \\\"x\\\": {\\\"field\\\": \\\"year\\\"}, \\\"y\\\": {\\\"field\\\": \\\"value\\\"}}, \\\"id\\\": \\\"2617\\\", \\\"type\\\": \\\"Line\\\"}, {\\\"attributes\\\": {\\\"line_alpha\\\": 0.1, \\\"line_color\\\": \\\"#ff7e0e\\\", \\\"line_width\\\": 2, \\\"x\\\": {\\\"field\\\": \\\"year\\\"}, \\\"y\\\": {\\\"field\\\": \\\"value\\\"}}, \\\"id\\\": \\\"2636\\\", \\\"type\\\": \\\"Line\\\"}, {\\\"attributes\\\": {}, \\\"id\\\": \\\"2648\\\", \\\"type\\\": \\\"UnionRenderers\\\"}, {\\\"attributes\\\": {\\\"data_source\\\": {\\\"id\\\": \\\"2632\\\"}, \\\"glyph\\\": {\\\"id\\\": \\\"2635\\\"}, \\\"hover_glyph\\\": null, \\\"muted_glyph\\\": {\\\"id\\\": \\\"2637\\\"}, \\\"nonselection_glyph\\\": {\\\"id\\\": \\\"2636\\\"}, \\\"selection_glyph\\\": null, \\\"view\\\": {\\\"id\\\": \\\"2639\\\"}}, \\\"id\\\": \\\"2638\\\", \\\"type\\\": \\\"GlyphRenderer\\\"}, {\\\"attributes\\\": {\\\"label\\\": {\\\"value\\\": \\\"gross_rent\\\"}, \\\"renderers\\\": [{\\\"id\\\": \\\"2620\\\"}]}, \\\"id\\\": \\\"2631\\\", \\\"type\\\": \\\"LegendItem\\\"}, {\\\"attributes\\\": {}, \\\"id\\\": \\\"2628\\\", \\\"type\\\": \\\"UnionRenderers\\\"}, {\\\"attributes\\\": {}, \\\"id\\\": \\\"2615\\\", \\\"type\\\": \\\"Selection\\\"}, {\\\"attributes\\\": {\\\"line_alpha\\\": 0.2, \\\"line_color\\\": \\\"#1f77b3\\\", \\\"line_width\\\": 2, \\\"x\\\": {\\\"field\\\": \\\"year\\\"}, \\\"y\\\": {\\\"field\\\": \\\"value\\\"}}, \\\"id\\\": \\\"2619\\\", \\\"type\\\": \\\"Line\\\"}, {\\\"attributes\\\": {}, \\\"id\\\": \\\"2633\\\", \\\"type\\\": \\\"Selection\\\"}]}\",\"header\":\"{\\\"msgid\\\": \\\"5022\\\", \\\"msgtype\\\": \\\"PATCH-DOC\\\"}\",\"metadata\":\"{}\"},\"Central Richmond\":{\"content\":\"{\\\"events\\\": [{\\\"cols\\\": null, \\\"column_source\\\": {\\\"id\\\": \\\"2614\\\"}, \\\"kind\\\": \\\"ColumnDataChanged\\\", \\\"new\\\": {\\\"Variable\\\": [\\\"gross_rent\\\", \\\"gross_rent\\\", \\\"gross_rent\\\", \\\"gross_rent\\\", \\\"gross_rent\\\", \\\"gross_rent\\\", \\\"gross_rent\\\"], \\\"value\\\": [1239, 1530, 2324, 2971, 3528, 3739, 4390], \\\"year\\\": [\\\"2010\\\", \\\"2011\\\", \\\"2012\\\", \\\"2013\\\", \\\"2014\\\", \\\"2015\\\", \\\"2016\\\"]}}, {\\\"cols\\\": null, \\\"column_source\\\": {\\\"id\\\": \\\"2632\\\"}, \\\"kind\\\": \\\"ColumnDataChanged\\\", \\\"new\\\": {\\\"Variable\\\": [\\\"sale_price_sqr_foot\\\", \\\"sale_price_sqr_foot\\\", \\\"sale_price_sqr_foot\\\", \\\"sale_price_sqr_foot\\\", \\\"sale_price_sqr_foot\\\", \\\"sale_price_sqr_foot\\\", \\\"sale_price_sqr_foot\\\"], \\\"value\\\": {\\\"__ndarray__\\\": \\\"/qBYJHHwc0B9ZxvtnlpwQB+s/3N7cHFAjxvCQN5wdUCCLplePn96QG3yb/yekn1A84Oo8YOohEA=\\\", \\\"dtype\\\": \\\"float64\\\", \\\"order\\\": \\\"little\\\", \\\"shape\\\": [7]}, \\\"year\\\": [\\\"2010\\\", \\\"2011\\\", \\\"2012\\\", \\\"2013\\\", \\\"2014\\\", \\\"2015\\\", \\\"2016\\\"]}}, {\\\"attr\\\": \\\"text\\\", \\\"kind\\\": \\\"ModelChanged\\\", \\\"model\\\": {\\\"id\\\": \\\"2582\\\"}, \\\"new\\\": \\\"neighborhood: Central Richmond\\\"}, {\\\"attr\\\": \\\"right\\\", \\\"kind\\\": \\\"ModelChanged\\\", \\\"model\\\": {\\\"id\\\": \\\"2581\\\"}, \\\"new\\\": [{\\\"id\\\": \\\"2630\\\"}]}], \\\"references\\\": [{\\\"attributes\\\": {\\\"click_policy\\\": \\\"mute\\\", \\\"items\\\": [{\\\"id\\\": \\\"2631\\\"}, {\\\"id\\\": \\\"2650\\\"}], \\\"location\\\": [0, 0], \\\"title\\\": \\\"Variable\\\"}, \\\"id\\\": \\\"2630\\\", \\\"type\\\": \\\"Legend\\\"}, {\\\"attributes\\\": {\\\"line_alpha\\\": 0.1, \\\"line_color\\\": \\\"#1f77b3\\\", \\\"line_width\\\": 2, \\\"x\\\": {\\\"field\\\": \\\"year\\\"}, \\\"y\\\": {\\\"field\\\": \\\"value\\\"}}, \\\"id\\\": \\\"2618\\\", \\\"type\\\": \\\"Line\\\"}, {\\\"attributes\\\": {\\\"source\\\": {\\\"id\\\": \\\"2632\\\"}}, \\\"id\\\": \\\"2639\\\", \\\"type\\\": \\\"CDSView\\\"}, {\\\"attributes\\\": {\\\"label\\\": {\\\"value\\\": \\\"sale_price_sqr_foot\\\"}, \\\"renderers\\\": [{\\\"id\\\": \\\"2638\\\"}]}, \\\"id\\\": \\\"2650\\\", \\\"type\\\": \\\"LegendItem\\\"}, {\\\"attributes\\\": {\\\"data\\\": {\\\"Variable\\\": [\\\"gross_rent\\\", \\\"gross_rent\\\", \\\"gross_rent\\\", \\\"gross_rent\\\", \\\"gross_rent\\\", \\\"gross_rent\\\", \\\"gross_rent\\\"], \\\"value\\\": [1239, 1530, 2324, 2971, 3528, 3739, 4390], \\\"year\\\": [\\\"2010\\\", \\\"2011\\\", \\\"2012\\\", \\\"2013\\\", \\\"2014\\\", \\\"2015\\\", \\\"2016\\\"]}, \\\"selected\\\": {\\\"id\\\": \\\"2615\\\"}, \\\"selection_policy\\\": {\\\"id\\\": \\\"2628\\\"}}, \\\"id\\\": \\\"2614\\\", \\\"type\\\": \\\"ColumnDataSource\\\"}, {\\\"attributes\\\": {\\\"data_source\\\": {\\\"id\\\": \\\"2614\\\"}, \\\"glyph\\\": {\\\"id\\\": \\\"2617\\\"}, \\\"hover_glyph\\\": null, \\\"muted_glyph\\\": {\\\"id\\\": \\\"2619\\\"}, \\\"nonselection_glyph\\\": {\\\"id\\\": \\\"2618\\\"}, \\\"selection_glyph\\\": null, \\\"view\\\": {\\\"id\\\": \\\"2621\\\"}}, \\\"id\\\": \\\"2620\\\", \\\"type\\\": \\\"GlyphRenderer\\\"}, {\\\"attributes\\\": {\\\"line_color\\\": \\\"#ff7e0e\\\", \\\"line_width\\\": 2, \\\"x\\\": {\\\"field\\\": \\\"year\\\"}, \\\"y\\\": {\\\"field\\\": \\\"value\\\"}}, \\\"id\\\": \\\"2635\\\", \\\"type\\\": \\\"Line\\\"}, {\\\"attributes\\\": {\\\"line_alpha\\\": 0.2, \\\"line_color\\\": \\\"#ff7e0e\\\", \\\"line_width\\\": 2, \\\"x\\\": {\\\"field\\\": \\\"year\\\"}, \\\"y\\\": {\\\"field\\\": \\\"value\\\"}}, \\\"id\\\": \\\"2637\\\", \\\"type\\\": \\\"Line\\\"}, {\\\"attributes\\\": {\\\"data\\\": {\\\"Variable\\\": [\\\"sale_price_sqr_foot\\\", \\\"sale_price_sqr_foot\\\", \\\"sale_price_sqr_foot\\\", \\\"sale_price_sqr_foot\\\", \\\"sale_price_sqr_foot\\\", \\\"sale_price_sqr_foot\\\", \\\"sale_price_sqr_foot\\\"], \\\"value\\\": {\\\"__ndarray__\\\": \\\"/qBYJHHwc0B9ZxvtnlpwQB+s/3N7cHFAjxvCQN5wdUCCLplePn96QG3yb/yekn1A84Oo8YOohEA=\\\", \\\"dtype\\\": \\\"float64\\\", \\\"order\\\": \\\"little\\\", \\\"shape\\\": [7]}, \\\"year\\\": [\\\"2010\\\", \\\"2011\\\", \\\"2012\\\", \\\"2013\\\", \\\"2014\\\", \\\"2015\\\", \\\"2016\\\"]}, \\\"selected\\\": {\\\"id\\\": \\\"2633\\\"}, \\\"selection_policy\\\": {\\\"id\\\": \\\"2648\\\"}}, \\\"id\\\": \\\"2632\\\", \\\"type\\\": \\\"ColumnDataSource\\\"}, {\\\"attributes\\\": {\\\"source\\\": {\\\"id\\\": \\\"2614\\\"}}, \\\"id\\\": \\\"2621\\\", \\\"type\\\": \\\"CDSView\\\"}, {\\\"attributes\\\": {\\\"line_color\\\": \\\"#1f77b3\\\", \\\"line_width\\\": 2, \\\"x\\\": {\\\"field\\\": \\\"year\\\"}, \\\"y\\\": {\\\"field\\\": \\\"value\\\"}}, \\\"id\\\": \\\"2617\\\", \\\"type\\\": \\\"Line\\\"}, {\\\"attributes\\\": {\\\"line_alpha\\\": 0.1, \\\"line_color\\\": \\\"#ff7e0e\\\", \\\"line_width\\\": 2, \\\"x\\\": {\\\"field\\\": \\\"year\\\"}, \\\"y\\\": {\\\"field\\\": \\\"value\\\"}}, \\\"id\\\": \\\"2636\\\", \\\"type\\\": \\\"Line\\\"}, {\\\"attributes\\\": {}, \\\"id\\\": \\\"2648\\\", \\\"type\\\": \\\"UnionRenderers\\\"}, {\\\"attributes\\\": {\\\"data_source\\\": {\\\"id\\\": \\\"2632\\\"}, \\\"glyph\\\": {\\\"id\\\": \\\"2635\\\"}, \\\"hover_glyph\\\": null, \\\"muted_glyph\\\": {\\\"id\\\": \\\"2637\\\"}, \\\"nonselection_glyph\\\": {\\\"id\\\": \\\"2636\\\"}, \\\"selection_glyph\\\": null, \\\"view\\\": {\\\"id\\\": \\\"2639\\\"}}, \\\"id\\\": \\\"2638\\\", \\\"type\\\": \\\"GlyphRenderer\\\"}, {\\\"attributes\\\": {\\\"label\\\": {\\\"value\\\": \\\"gross_rent\\\"}, \\\"renderers\\\": [{\\\"id\\\": \\\"2620\\\"}]}, \\\"id\\\": \\\"2631\\\", \\\"type\\\": \\\"LegendItem\\\"}, {\\\"attributes\\\": {}, \\\"id\\\": \\\"2628\\\", \\\"type\\\": \\\"UnionRenderers\\\"}, {\\\"attributes\\\": {}, \\\"id\\\": \\\"2615\\\", \\\"type\\\": \\\"Selection\\\"}, {\\\"attributes\\\": {\\\"line_alpha\\\": 0.2, \\\"line_color\\\": \\\"#1f77b3\\\", \\\"line_width\\\": 2, \\\"x\\\": {\\\"field\\\": \\\"year\\\"}, \\\"y\\\": {\\\"field\\\": \\\"value\\\"}}, \\\"id\\\": \\\"2619\\\", \\\"type\\\": \\\"Line\\\"}, {\\\"attributes\\\": {}, \\\"id\\\": \\\"2633\\\", \\\"type\\\": \\\"Selection\\\"}]}\",\"header\":\"{\\\"msgid\\\": \\\"4989\\\", \\\"msgtype\\\": \\\"PATCH-DOC\\\"}\",\"metadata\":\"{}\"},\"Central Sunset\":{\"content\":\"{\\\"events\\\": [{\\\"attr\\\": \\\"factors\\\", \\\"kind\\\": \\\"ModelChanged\\\", \\\"model\\\": {\\\"id\\\": \\\"2577\\\"}, \\\"new\\\": [\\\"2010\\\", \\\"2011\\\", \\\"2012\\\", \\\"2013\\\", \\\"2014\\\", \\\"2015\\\", \\\"2016\\\"]}, {\\\"cols\\\": null, \\\"column_source\\\": {\\\"id\\\": \\\"2614\\\"}, \\\"kind\\\": \\\"ColumnDataChanged\\\", \\\"new\\\": {\\\"Variable\\\": [\\\"gross_rent\\\", \\\"gross_rent\\\", \\\"gross_rent\\\", \\\"gross_rent\\\", \\\"gross_rent\\\", \\\"gross_rent\\\", \\\"gross_rent\\\"], \\\"value\\\": [1239, 1530, 2324, 2971, 3528, 3739, 4390], \\\"year\\\": [\\\"2010\\\", \\\"2011\\\", \\\"2012\\\", \\\"2013\\\", \\\"2014\\\", \\\"2015\\\", \\\"2016\\\"]}}, {\\\"cols\\\": null, \\\"column_source\\\": {\\\"id\\\": \\\"2632\\\"}, \\\"kind\\\": \\\"ColumnDataChanged\\\", \\\"new\\\": {\\\"Variable\\\": [\\\"sale_price_sqr_foot\\\", \\\"sale_price_sqr_foot\\\", \\\"sale_price_sqr_foot\\\", \\\"sale_price_sqr_foot\\\", \\\"sale_price_sqr_foot\\\", \\\"sale_price_sqr_foot\\\", \\\"sale_price_sqr_foot\\\"], \\\"value\\\": {\\\"__ndarray__\\\": \\\"Bv22h8IiekAzufO80nZ4QOlValPO53RA2XLka8irdEAWLPo234N8QKwFse0RVnxA65hZjfcqgkA=\\\", \\\"dtype\\\": \\\"float64\\\", \\\"order\\\": \\\"little\\\", \\\"shape\\\": [7]}, \\\"year\\\": [\\\"2010\\\", \\\"2011\\\", \\\"2012\\\", \\\"2013\\\", \\\"2014\\\", \\\"2015\\\", \\\"2016\\\"]}}, {\\\"attr\\\": \\\"text\\\", \\\"kind\\\": \\\"ModelChanged\\\", \\\"model\\\": {\\\"id\\\": \\\"2582\\\"}, \\\"new\\\": \\\"neighborhood: Central Sunset\\\"}, {\\\"attr\\\": \\\"right\\\", \\\"kind\\\": \\\"ModelChanged\\\", \\\"model\\\": {\\\"id\\\": \\\"2581\\\"}, \\\"new\\\": [{\\\"id\\\": \\\"2630\\\"}]}], \\\"references\\\": [{\\\"attributes\\\": {\\\"click_policy\\\": \\\"mute\\\", \\\"items\\\": [{\\\"id\\\": \\\"2631\\\"}, {\\\"id\\\": \\\"2650\\\"}], \\\"location\\\": [0, 0], \\\"title\\\": \\\"Variable\\\"}, \\\"id\\\": \\\"2630\\\", \\\"type\\\": \\\"Legend\\\"}, {\\\"attributes\\\": {\\\"line_alpha\\\": 0.1, \\\"line_color\\\": \\\"#1f77b3\\\", \\\"line_width\\\": 2, \\\"x\\\": {\\\"field\\\": \\\"year\\\"}, \\\"y\\\": {\\\"field\\\": \\\"value\\\"}}, \\\"id\\\": \\\"2618\\\", \\\"type\\\": \\\"Line\\\"}, {\\\"attributes\\\": {\\\"source\\\": {\\\"id\\\": \\\"2632\\\"}}, \\\"id\\\": \\\"2639\\\", \\\"type\\\": \\\"CDSView\\\"}, {\\\"attributes\\\": {\\\"label\\\": {\\\"value\\\": \\\"sale_price_sqr_foot\\\"}, \\\"renderers\\\": [{\\\"id\\\": \\\"2638\\\"}]}, \\\"id\\\": \\\"2650\\\", \\\"type\\\": \\\"LegendItem\\\"}, {\\\"attributes\\\": {\\\"data\\\": {\\\"Variable\\\": [\\\"gross_rent\\\", \\\"gross_rent\\\", \\\"gross_rent\\\", \\\"gross_rent\\\", \\\"gross_rent\\\", \\\"gross_rent\\\", \\\"gross_rent\\\"], \\\"value\\\": [1239, 1530, 2324, 2971, 3528, 3739, 4390], \\\"year\\\": [\\\"2010\\\", \\\"2011\\\", \\\"2012\\\", \\\"2013\\\", \\\"2014\\\", \\\"2015\\\", \\\"2016\\\"]}, \\\"selected\\\": {\\\"id\\\": \\\"2615\\\"}, \\\"selection_policy\\\": {\\\"id\\\": \\\"2628\\\"}}, \\\"id\\\": \\\"2614\\\", \\\"type\\\": \\\"ColumnDataSource\\\"}, {\\\"attributes\\\": {\\\"data_source\\\": {\\\"id\\\": \\\"2614\\\"}, \\\"glyph\\\": {\\\"id\\\": \\\"2617\\\"}, \\\"hover_glyph\\\": null, \\\"muted_glyph\\\": {\\\"id\\\": \\\"2619\\\"}, \\\"nonselection_glyph\\\": {\\\"id\\\": \\\"2618\\\"}, \\\"selection_glyph\\\": null, \\\"view\\\": {\\\"id\\\": \\\"2621\\\"}}, \\\"id\\\": \\\"2620\\\", \\\"type\\\": \\\"GlyphRenderer\\\"}, {\\\"attributes\\\": {\\\"line_color\\\": \\\"#ff7e0e\\\", \\\"line_width\\\": 2, \\\"x\\\": {\\\"field\\\": \\\"year\\\"}, \\\"y\\\": {\\\"field\\\": \\\"value\\\"}}, \\\"id\\\": \\\"2635\\\", \\\"type\\\": \\\"Line\\\"}, {\\\"attributes\\\": {\\\"line_alpha\\\": 0.2, \\\"line_color\\\": \\\"#ff7e0e\\\", \\\"line_width\\\": 2, \\\"x\\\": {\\\"field\\\": \\\"year\\\"}, \\\"y\\\": {\\\"field\\\": \\\"value\\\"}}, \\\"id\\\": \\\"2637\\\", \\\"type\\\": \\\"Line\\\"}, {\\\"attributes\\\": {\\\"data\\\": {\\\"Variable\\\": [\\\"sale_price_sqr_foot\\\", \\\"sale_price_sqr_foot\\\", \\\"sale_price_sqr_foot\\\", \\\"sale_price_sqr_foot\\\", \\\"sale_price_sqr_foot\\\", \\\"sale_price_sqr_foot\\\", \\\"sale_price_sqr_foot\\\"], \\\"value\\\": {\\\"__ndarray__\\\": \\\"Bv22h8IiekAzufO80nZ4QOlValPO53RA2XLka8irdEAWLPo234N8QKwFse0RVnxA65hZjfcqgkA=\\\", \\\"dtype\\\": \\\"float64\\\", \\\"order\\\": \\\"little\\\", \\\"shape\\\": [7]}, \\\"year\\\": [\\\"2010\\\", \\\"2011\\\", \\\"2012\\\", \\\"2013\\\", \\\"2014\\\", \\\"2015\\\", \\\"2016\\\"]}, \\\"selected\\\": {\\\"id\\\": \\\"2633\\\"}, \\\"selection_policy\\\": {\\\"id\\\": \\\"2648\\\"}}, \\\"id\\\": \\\"2632\\\", \\\"type\\\": \\\"ColumnDataSource\\\"}, {\\\"attributes\\\": {\\\"source\\\": {\\\"id\\\": \\\"2614\\\"}}, \\\"id\\\": \\\"2621\\\", \\\"type\\\": \\\"CDSView\\\"}, {\\\"attributes\\\": {\\\"line_color\\\": \\\"#1f77b3\\\", \\\"line_width\\\": 2, \\\"x\\\": {\\\"field\\\": \\\"year\\\"}, \\\"y\\\": {\\\"field\\\": \\\"value\\\"}}, \\\"id\\\": \\\"2617\\\", \\\"type\\\": \\\"Line\\\"}, {\\\"attributes\\\": {\\\"line_alpha\\\": 0.1, \\\"line_color\\\": \\\"#ff7e0e\\\", \\\"line_width\\\": 2, \\\"x\\\": {\\\"field\\\": \\\"year\\\"}, \\\"y\\\": {\\\"field\\\": \\\"value\\\"}}, \\\"id\\\": \\\"2636\\\", \\\"type\\\": \\\"Line\\\"}, {\\\"attributes\\\": {}, \\\"id\\\": \\\"2648\\\", \\\"type\\\": \\\"UnionRenderers\\\"}, {\\\"attributes\\\": {\\\"data_source\\\": {\\\"id\\\": \\\"2632\\\"}, \\\"glyph\\\": {\\\"id\\\": \\\"2635\\\"}, \\\"hover_glyph\\\": null, \\\"muted_glyph\\\": {\\\"id\\\": \\\"2637\\\"}, \\\"nonselection_glyph\\\": {\\\"id\\\": \\\"2636\\\"}, \\\"selection_glyph\\\": null, \\\"view\\\": {\\\"id\\\": \\\"2639\\\"}}, \\\"id\\\": \\\"2638\\\", \\\"type\\\": \\\"GlyphRenderer\\\"}, {\\\"attributes\\\": {\\\"label\\\": {\\\"value\\\": \\\"gross_rent\\\"}, \\\"renderers\\\": [{\\\"id\\\": \\\"2620\\\"}]}, \\\"id\\\": \\\"2631\\\", \\\"type\\\": \\\"LegendItem\\\"}, {\\\"attributes\\\": {}, \\\"id\\\": \\\"2628\\\", \\\"type\\\": \\\"UnionRenderers\\\"}, {\\\"attributes\\\": {}, \\\"id\\\": \\\"2615\\\", \\\"type\\\": \\\"Selection\\\"}, {\\\"attributes\\\": {\\\"line_alpha\\\": 0.2, \\\"line_color\\\": \\\"#1f77b3\\\", \\\"line_width\\\": 2, \\\"x\\\": {\\\"field\\\": \\\"year\\\"}, \\\"y\\\": {\\\"field\\\": \\\"value\\\"}}, \\\"id\\\": \\\"2619\\\", \\\"type\\\": \\\"Line\\\"}, {\\\"attributes\\\": {}, \\\"id\\\": \\\"2633\\\", \\\"type\\\": \\\"Selection\\\"}]}\",\"header\":\"{\\\"msgid\\\": \\\"4956\\\", \\\"msgtype\\\": \\\"PATCH-DOC\\\"}\",\"metadata\":\"{}\"},\"Clarendon Heights\":{\"content\":\"{\\\"events\\\": [{\\\"attr\\\": \\\"factors\\\", \\\"kind\\\": \\\"ModelChanged\\\", \\\"model\\\": {\\\"id\\\": \\\"2577\\\"}, \\\"new\\\": [\\\"2011\\\", \\\"2013\\\"]}, {\\\"cols\\\": null, \\\"column_source\\\": {\\\"id\\\": \\\"2614\\\"}, \\\"kind\\\": \\\"ColumnDataChanged\\\", \\\"new\\\": {\\\"Variable\\\": [\\\"gross_rent\\\", \\\"gross_rent\\\"], \\\"value\\\": [1530, 2971], \\\"year\\\": [\\\"2011\\\", \\\"2013\\\"]}}, {\\\"cols\\\": null, \\\"column_source\\\": {\\\"id\\\": \\\"2632\\\"}, \\\"kind\\\": \\\"ColumnDataChanged\\\", \\\"new\\\": {\\\"Variable\\\": [\\\"sale_price_sqr_foot\\\", \\\"sale_price_sqr_foot\\\"], \\\"value\\\": {\\\"__ndarray__\\\": \\\"2UWezr5FgEAOtft9WFx8QA==\\\", \\\"dtype\\\": \\\"float64\\\", \\\"order\\\": \\\"little\\\", \\\"shape\\\": [2]}, \\\"year\\\": [\\\"2011\\\", \\\"2013\\\"]}}, {\\\"attr\\\": \\\"text\\\", \\\"kind\\\": \\\"ModelChanged\\\", \\\"model\\\": {\\\"id\\\": \\\"2582\\\"}, \\\"new\\\": \\\"neighborhood: Clarendon Heights\\\"}, {\\\"attr\\\": \\\"right\\\", \\\"kind\\\": \\\"ModelChanged\\\", \\\"model\\\": {\\\"id\\\": \\\"2581\\\"}, \\\"new\\\": [{\\\"id\\\": \\\"2630\\\"}]}], \\\"references\\\": [{\\\"attributes\\\": {\\\"click_policy\\\": \\\"mute\\\", \\\"items\\\": [{\\\"id\\\": \\\"2631\\\"}, {\\\"id\\\": \\\"2650\\\"}], \\\"location\\\": [0, 0], \\\"title\\\": \\\"Variable\\\"}, \\\"id\\\": \\\"2630\\\", \\\"type\\\": \\\"Legend\\\"}, {\\\"attributes\\\": {\\\"line_alpha\\\": 0.1, \\\"line_color\\\": \\\"#1f77b3\\\", \\\"line_width\\\": 2, \\\"x\\\": {\\\"field\\\": \\\"year\\\"}, \\\"y\\\": {\\\"field\\\": \\\"value\\\"}}, \\\"id\\\": \\\"2618\\\", \\\"type\\\": \\\"Line\\\"}, {\\\"attributes\\\": {\\\"source\\\": {\\\"id\\\": \\\"2632\\\"}}, \\\"id\\\": \\\"2639\\\", \\\"type\\\": \\\"CDSView\\\"}, {\\\"attributes\\\": {\\\"label\\\": {\\\"value\\\": \\\"sale_price_sqr_foot\\\"}, \\\"renderers\\\": [{\\\"id\\\": \\\"2638\\\"}]}, \\\"id\\\": \\\"2650\\\", \\\"type\\\": \\\"LegendItem\\\"}, {\\\"attributes\\\": {\\\"data\\\": {\\\"Variable\\\": [\\\"gross_rent\\\", \\\"gross_rent\\\"], \\\"value\\\": [1530, 2971], \\\"year\\\": [\\\"2011\\\", \\\"2013\\\"]}, \\\"selected\\\": {\\\"id\\\": \\\"2615\\\"}, \\\"selection_policy\\\": {\\\"id\\\": \\\"2628\\\"}}, \\\"id\\\": \\\"2614\\\", \\\"type\\\": \\\"ColumnDataSource\\\"}, {\\\"attributes\\\": {\\\"data_source\\\": {\\\"id\\\": \\\"2614\\\"}, \\\"glyph\\\": {\\\"id\\\": \\\"2617\\\"}, \\\"hover_glyph\\\": null, \\\"muted_glyph\\\": {\\\"id\\\": \\\"2619\\\"}, \\\"nonselection_glyph\\\": {\\\"id\\\": \\\"2618\\\"}, \\\"selection_glyph\\\": null, \\\"view\\\": {\\\"id\\\": \\\"2621\\\"}}, \\\"id\\\": \\\"2620\\\", \\\"type\\\": \\\"GlyphRenderer\\\"}, {\\\"attributes\\\": {\\\"line_color\\\": \\\"#ff7e0e\\\", \\\"line_width\\\": 2, \\\"x\\\": {\\\"field\\\": \\\"year\\\"}, \\\"y\\\": {\\\"field\\\": \\\"value\\\"}}, \\\"id\\\": \\\"2635\\\", \\\"type\\\": \\\"Line\\\"}, {\\\"attributes\\\": {\\\"line_alpha\\\": 0.2, \\\"line_color\\\": \\\"#ff7e0e\\\", \\\"line_width\\\": 2, \\\"x\\\": {\\\"field\\\": \\\"year\\\"}, \\\"y\\\": {\\\"field\\\": \\\"value\\\"}}, \\\"id\\\": \\\"2637\\\", \\\"type\\\": \\\"Line\\\"}, {\\\"attributes\\\": {\\\"data\\\": {\\\"Variable\\\": [\\\"sale_price_sqr_foot\\\", \\\"sale_price_sqr_foot\\\"], \\\"value\\\": {\\\"__ndarray__\\\": \\\"2UWezr5FgEAOtft9WFx8QA==\\\", \\\"dtype\\\": \\\"float64\\\", \\\"order\\\": \\\"little\\\", \\\"shape\\\": [2]}, \\\"year\\\": [\\\"2011\\\", \\\"2013\\\"]}, \\\"selected\\\": {\\\"id\\\": \\\"2633\\\"}, \\\"selection_policy\\\": {\\\"id\\\": \\\"2648\\\"}}, \\\"id\\\": \\\"2632\\\", \\\"type\\\": \\\"ColumnDataSource\\\"}, {\\\"attributes\\\": {\\\"source\\\": {\\\"id\\\": \\\"2614\\\"}}, \\\"id\\\": \\\"2621\\\", \\\"type\\\": \\\"CDSView\\\"}, {\\\"attributes\\\": {\\\"line_color\\\": \\\"#1f77b3\\\", \\\"line_width\\\": 2, \\\"x\\\": {\\\"field\\\": \\\"year\\\"}, \\\"y\\\": {\\\"field\\\": \\\"value\\\"}}, \\\"id\\\": \\\"2617\\\", \\\"type\\\": \\\"Line\\\"}, {\\\"attributes\\\": {\\\"line_alpha\\\": 0.1, \\\"line_color\\\": \\\"#ff7e0e\\\", \\\"line_width\\\": 2, \\\"x\\\": {\\\"field\\\": \\\"year\\\"}, \\\"y\\\": {\\\"field\\\": \\\"value\\\"}}, \\\"id\\\": \\\"2636\\\", \\\"type\\\": \\\"Line\\\"}, {\\\"attributes\\\": {}, \\\"id\\\": \\\"2648\\\", \\\"type\\\": \\\"UnionRenderers\\\"}, {\\\"attributes\\\": {\\\"data_source\\\": {\\\"id\\\": \\\"2632\\\"}, \\\"glyph\\\": {\\\"id\\\": \\\"2635\\\"}, \\\"hover_glyph\\\": null, \\\"muted_glyph\\\": {\\\"id\\\": \\\"2637\\\"}, \\\"nonselection_glyph\\\": {\\\"id\\\": \\\"2636\\\"}, \\\"selection_glyph\\\": null, \\\"view\\\": {\\\"id\\\": \\\"2639\\\"}}, \\\"id\\\": \\\"2638\\\", \\\"type\\\": \\\"GlyphRenderer\\\"}, {\\\"attributes\\\": {\\\"label\\\": {\\\"value\\\": \\\"gross_rent\\\"}, \\\"renderers\\\": [{\\\"id\\\": \\\"2620\\\"}]}, \\\"id\\\": \\\"2631\\\", \\\"type\\\": \\\"LegendItem\\\"}, {\\\"attributes\\\": {}, \\\"id\\\": \\\"2628\\\", \\\"type\\\": \\\"UnionRenderers\\\"}, {\\\"attributes\\\": {}, \\\"id\\\": \\\"2615\\\", \\\"type\\\": \\\"Selection\\\"}, {\\\"attributes\\\": {\\\"line_alpha\\\": 0.2, \\\"line_color\\\": \\\"#1f77b3\\\", \\\"line_width\\\": 2, \\\"x\\\": {\\\"field\\\": \\\"year\\\"}, \\\"y\\\": {\\\"field\\\": \\\"value\\\"}}, \\\"id\\\": \\\"2619\\\", \\\"type\\\": \\\"Line\\\"}, {\\\"attributes\\\": {}, \\\"id\\\": \\\"2633\\\", \\\"type\\\": \\\"Selection\\\"}]}\",\"header\":\"{\\\"msgid\\\": \\\"4923\\\", \\\"msgtype\\\": \\\"PATCH-DOC\\\"}\",\"metadata\":\"{}\"},\"Corona Heights\":{\"content\":\"{\\\"events\\\": [{\\\"attr\\\": \\\"factors\\\", \\\"kind\\\": \\\"ModelChanged\\\", \\\"model\\\": {\\\"id\\\": \\\"2577\\\"}, \\\"new\\\": [\\\"2010\\\", \\\"2011\\\", \\\"2012\\\", \\\"2014\\\", \\\"2015\\\"]}, {\\\"cols\\\": null, \\\"column_source\\\": {\\\"id\\\": \\\"2614\\\"}, \\\"kind\\\": \\\"ColumnDataChanged\\\", \\\"new\\\": {\\\"Variable\\\": [\\\"gross_rent\\\", \\\"gross_rent\\\", \\\"gross_rent\\\", \\\"gross_rent\\\", \\\"gross_rent\\\"], \\\"value\\\": [1239, 1530, 2324, 3528, 3739], \\\"year\\\": [\\\"2010\\\", \\\"2011\\\", \\\"2012\\\", \\\"2014\\\", \\\"2015\\\"]}}, {\\\"cols\\\": null, \\\"column_source\\\": {\\\"id\\\": \\\"2632\\\"}, \\\"kind\\\": \\\"ColumnDataChanged\\\", \\\"new\\\": {\\\"Variable\\\": [\\\"sale_price_sqr_foot\\\", \\\"sale_price_sqr_foot\\\", \\\"sale_price_sqr_foot\\\", \\\"sale_price_sqr_foot\\\", \\\"sale_price_sqr_foot\\\"], \\\"value\\\": {\\\"__ndarray__\\\": \\\"of802b8Vd0B1PqvPK9JrQGuzdI63THZAEx6pB3XBi0CNbawuKjORQA==\\\", \\\"dtype\\\": \\\"float64\\\", \\\"order\\\": \\\"little\\\", \\\"shape\\\": [5]}, \\\"year\\\": [\\\"2010\\\", \\\"2011\\\", \\\"2012\\\", \\\"2014\\\", \\\"2015\\\"]}}, {\\\"attr\\\": \\\"text\\\", \\\"kind\\\": \\\"ModelChanged\\\", \\\"model\\\": {\\\"id\\\": \\\"2582\\\"}, \\\"new\\\": \\\"neighborhood: Corona Heights\\\"}, {\\\"attr\\\": \\\"right\\\", \\\"kind\\\": \\\"ModelChanged\\\", \\\"model\\\": {\\\"id\\\": \\\"2581\\\"}, \\\"new\\\": [{\\\"id\\\": \\\"2630\\\"}]}], \\\"references\\\": [{\\\"attributes\\\": {\\\"click_policy\\\": \\\"mute\\\", \\\"items\\\": [{\\\"id\\\": \\\"2631\\\"}, {\\\"id\\\": \\\"2650\\\"}], \\\"location\\\": [0, 0], \\\"title\\\": \\\"Variable\\\"}, \\\"id\\\": \\\"2630\\\", \\\"type\\\": \\\"Legend\\\"}, {\\\"attributes\\\": {\\\"line_alpha\\\": 0.1, \\\"line_color\\\": \\\"#1f77b3\\\", \\\"line_width\\\": 2, \\\"x\\\": {\\\"field\\\": \\\"year\\\"}, \\\"y\\\": {\\\"field\\\": \\\"value\\\"}}, \\\"id\\\": \\\"2618\\\", \\\"type\\\": \\\"Line\\\"}, {\\\"attributes\\\": {\\\"source\\\": {\\\"id\\\": \\\"2632\\\"}}, \\\"id\\\": \\\"2639\\\", \\\"type\\\": \\\"CDSView\\\"}, {\\\"attributes\\\": {\\\"label\\\": {\\\"value\\\": \\\"sale_price_sqr_foot\\\"}, \\\"renderers\\\": [{\\\"id\\\": \\\"2638\\\"}]}, \\\"id\\\": \\\"2650\\\", \\\"type\\\": \\\"LegendItem\\\"}, {\\\"attributes\\\": {\\\"data\\\": {\\\"Variable\\\": [\\\"gross_rent\\\", \\\"gross_rent\\\", \\\"gross_rent\\\", \\\"gross_rent\\\", \\\"gross_rent\\\"], \\\"value\\\": [1239, 1530, 2324, 3528, 3739], \\\"year\\\": [\\\"2010\\\", \\\"2011\\\", \\\"2012\\\", \\\"2014\\\", \\\"2015\\\"]}, \\\"selected\\\": {\\\"id\\\": \\\"2615\\\"}, \\\"selection_policy\\\": {\\\"id\\\": \\\"2628\\\"}}, \\\"id\\\": \\\"2614\\\", \\\"type\\\": \\\"ColumnDataSource\\\"}, {\\\"attributes\\\": {\\\"data_source\\\": {\\\"id\\\": \\\"2614\\\"}, \\\"glyph\\\": {\\\"id\\\": \\\"2617\\\"}, \\\"hover_glyph\\\": null, \\\"muted_glyph\\\": {\\\"id\\\": \\\"2619\\\"}, \\\"nonselection_glyph\\\": {\\\"id\\\": \\\"2618\\\"}, \\\"selection_glyph\\\": null, \\\"view\\\": {\\\"id\\\": \\\"2621\\\"}}, \\\"id\\\": \\\"2620\\\", \\\"type\\\": \\\"GlyphRenderer\\\"}, {\\\"attributes\\\": {\\\"line_color\\\": \\\"#ff7e0e\\\", \\\"line_width\\\": 2, \\\"x\\\": {\\\"field\\\": \\\"year\\\"}, \\\"y\\\": {\\\"field\\\": \\\"value\\\"}}, \\\"id\\\": \\\"2635\\\", \\\"type\\\": \\\"Line\\\"}, {\\\"attributes\\\": {\\\"line_alpha\\\": 0.2, \\\"line_color\\\": \\\"#ff7e0e\\\", \\\"line_width\\\": 2, \\\"x\\\": {\\\"field\\\": \\\"year\\\"}, \\\"y\\\": {\\\"field\\\": \\\"value\\\"}}, \\\"id\\\": \\\"2637\\\", \\\"type\\\": \\\"Line\\\"}, {\\\"attributes\\\": {\\\"data\\\": {\\\"Variable\\\": [\\\"sale_price_sqr_foot\\\", \\\"sale_price_sqr_foot\\\", \\\"sale_price_sqr_foot\\\", \\\"sale_price_sqr_foot\\\", \\\"sale_price_sqr_foot\\\"], \\\"value\\\": {\\\"__ndarray__\\\": \\\"of802b8Vd0B1PqvPK9JrQGuzdI63THZAEx6pB3XBi0CNbawuKjORQA==\\\", \\\"dtype\\\": \\\"float64\\\", \\\"order\\\": \\\"little\\\", \\\"shape\\\": [5]}, \\\"year\\\": [\\\"2010\\\", \\\"2011\\\", \\\"2012\\\", \\\"2014\\\", \\\"2015\\\"]}, \\\"selected\\\": {\\\"id\\\": \\\"2633\\\"}, \\\"selection_policy\\\": {\\\"id\\\": \\\"2648\\\"}}, \\\"id\\\": \\\"2632\\\", \\\"type\\\": \\\"ColumnDataSource\\\"}, {\\\"attributes\\\": {\\\"source\\\": {\\\"id\\\": \\\"2614\\\"}}, \\\"id\\\": \\\"2621\\\", \\\"type\\\": \\\"CDSView\\\"}, {\\\"attributes\\\": {\\\"line_color\\\": \\\"#1f77b3\\\", \\\"line_width\\\": 2, \\\"x\\\": {\\\"field\\\": \\\"year\\\"}, \\\"y\\\": {\\\"field\\\": \\\"value\\\"}}, \\\"id\\\": \\\"2617\\\", \\\"type\\\": \\\"Line\\\"}, {\\\"attributes\\\": {\\\"line_alpha\\\": 0.1, \\\"line_color\\\": \\\"#ff7e0e\\\", \\\"line_width\\\": 2, \\\"x\\\": {\\\"field\\\": \\\"year\\\"}, \\\"y\\\": {\\\"field\\\": \\\"value\\\"}}, \\\"id\\\": \\\"2636\\\", \\\"type\\\": \\\"Line\\\"}, {\\\"attributes\\\": {}, \\\"id\\\": \\\"2648\\\", \\\"type\\\": \\\"UnionRenderers\\\"}, {\\\"attributes\\\": {\\\"data_source\\\": {\\\"id\\\": \\\"2632\\\"}, \\\"glyph\\\": {\\\"id\\\": \\\"2635\\\"}, \\\"hover_glyph\\\": null, \\\"muted_glyph\\\": {\\\"id\\\": \\\"2637\\\"}, \\\"nonselection_glyph\\\": {\\\"id\\\": \\\"2636\\\"}, \\\"selection_glyph\\\": null, \\\"view\\\": {\\\"id\\\": \\\"2639\\\"}}, \\\"id\\\": \\\"2638\\\", \\\"type\\\": \\\"GlyphRenderer\\\"}, {\\\"attributes\\\": {\\\"label\\\": {\\\"value\\\": \\\"gross_rent\\\"}, \\\"renderers\\\": [{\\\"id\\\": \\\"2620\\\"}]}, \\\"id\\\": \\\"2631\\\", \\\"type\\\": \\\"LegendItem\\\"}, {\\\"attributes\\\": {}, \\\"id\\\": \\\"2628\\\", \\\"type\\\": \\\"UnionRenderers\\\"}, {\\\"attributes\\\": {}, \\\"id\\\": \\\"2615\\\", \\\"type\\\": \\\"Selection\\\"}, {\\\"attributes\\\": {\\\"line_alpha\\\": 0.2, \\\"line_color\\\": \\\"#1f77b3\\\", \\\"line_width\\\": 2, \\\"x\\\": {\\\"field\\\": \\\"year\\\"}, \\\"y\\\": {\\\"field\\\": \\\"value\\\"}}, \\\"id\\\": \\\"2619\\\", \\\"type\\\": \\\"Line\\\"}, {\\\"attributes\\\": {}, \\\"id\\\": \\\"2633\\\", \\\"type\\\": \\\"Selection\\\"}]}\",\"header\":\"{\\\"msgid\\\": \\\"4890\\\", \\\"msgtype\\\": \\\"PATCH-DOC\\\"}\",\"metadata\":\"{}\"},\"Cow Hollow\":{\"content\":\"{\\\"events\\\": [{\\\"attr\\\": \\\"factors\\\", \\\"kind\\\": \\\"ModelChanged\\\", \\\"model\\\": {\\\"id\\\": \\\"2577\\\"}, \\\"new\\\": [\\\"2010\\\", \\\"2011\\\", \\\"2012\\\", \\\"2013\\\", \\\"2014\\\", \\\"2015\\\", \\\"2016\\\"]}, {\\\"cols\\\": null, \\\"column_source\\\": {\\\"id\\\": \\\"2614\\\"}, \\\"kind\\\": \\\"ColumnDataChanged\\\", \\\"new\\\": {\\\"Variable\\\": [\\\"gross_rent\\\", \\\"gross_rent\\\", \\\"gross_rent\\\", \\\"gross_rent\\\", \\\"gross_rent\\\", \\\"gross_rent\\\", \\\"gross_rent\\\"], \\\"value\\\": [1239, 1530, 2324, 2971, 3528, 3739, 4390], \\\"year\\\": [\\\"2010\\\", \\\"2011\\\", \\\"2012\\\", \\\"2013\\\", \\\"2014\\\", \\\"2015\\\", \\\"2016\\\"]}}, {\\\"cols\\\": null, \\\"column_source\\\": {\\\"id\\\": \\\"2632\\\"}, \\\"kind\\\": \\\"ColumnDataChanged\\\", \\\"new\\\": {\\\"Variable\\\": [\\\"sale_price_sqr_foot\\\", \\\"sale_price_sqr_foot\\\", \\\"sale_price_sqr_foot\\\", \\\"sale_price_sqr_foot\\\", \\\"sale_price_sqr_foot\\\", \\\"sale_price_sqr_foot\\\", \\\"sale_price_sqr_foot\\\"], \\\"value\\\": {\\\"__ndarray__\\\": \\\"LMKfLArLgUAbTXjLh2l4QAnYXuSLJoRAMODd8zgbhkCYJdtc7J6FQJ+1dd72tIJAlnINLUOMkEA=\\\", \\\"dtype\\\": \\\"float64\\\", \\\"order\\\": \\\"little\\\", \\\"shape\\\": [7]}, \\\"year\\\": [\\\"2010\\\", \\\"2011\\\", \\\"2012\\\", \\\"2013\\\", \\\"2014\\\", \\\"2015\\\", \\\"2016\\\"]}}, {\\\"attr\\\": \\\"text\\\", \\\"kind\\\": \\\"ModelChanged\\\", \\\"model\\\": {\\\"id\\\": \\\"2582\\\"}, \\\"new\\\": \\\"neighborhood: Cow Hollow\\\"}, {\\\"attr\\\": \\\"right\\\", \\\"kind\\\": \\\"ModelChanged\\\", \\\"model\\\": {\\\"id\\\": \\\"2581\\\"}, \\\"new\\\": [{\\\"id\\\": \\\"2630\\\"}]}], \\\"references\\\": [{\\\"attributes\\\": {\\\"click_policy\\\": \\\"mute\\\", \\\"items\\\": [{\\\"id\\\": \\\"2631\\\"}, {\\\"id\\\": \\\"2650\\\"}], \\\"location\\\": [0, 0], \\\"title\\\": \\\"Variable\\\"}, \\\"id\\\": \\\"2630\\\", \\\"type\\\": \\\"Legend\\\"}, {\\\"attributes\\\": {\\\"line_alpha\\\": 0.1, \\\"line_color\\\": \\\"#1f77b3\\\", \\\"line_width\\\": 2, \\\"x\\\": {\\\"field\\\": \\\"year\\\"}, \\\"y\\\": {\\\"field\\\": \\\"value\\\"}}, \\\"id\\\": \\\"2618\\\", \\\"type\\\": \\\"Line\\\"}, {\\\"attributes\\\": {\\\"source\\\": {\\\"id\\\": \\\"2632\\\"}}, \\\"id\\\": \\\"2639\\\", \\\"type\\\": \\\"CDSView\\\"}, {\\\"attributes\\\": {\\\"label\\\": {\\\"value\\\": \\\"sale_price_sqr_foot\\\"}, \\\"renderers\\\": [{\\\"id\\\": \\\"2638\\\"}]}, \\\"id\\\": \\\"2650\\\", \\\"type\\\": \\\"LegendItem\\\"}, {\\\"attributes\\\": {\\\"data\\\": {\\\"Variable\\\": [\\\"gross_rent\\\", \\\"gross_rent\\\", \\\"gross_rent\\\", \\\"gross_rent\\\", \\\"gross_rent\\\", \\\"gross_rent\\\", \\\"gross_rent\\\"], \\\"value\\\": [1239, 1530, 2324, 2971, 3528, 3739, 4390], \\\"year\\\": [\\\"2010\\\", \\\"2011\\\", \\\"2012\\\", \\\"2013\\\", \\\"2014\\\", \\\"2015\\\", \\\"2016\\\"]}, \\\"selected\\\": {\\\"id\\\": \\\"2615\\\"}, \\\"selection_policy\\\": {\\\"id\\\": \\\"2628\\\"}}, \\\"id\\\": \\\"2614\\\", \\\"type\\\": \\\"ColumnDataSource\\\"}, {\\\"attributes\\\": {\\\"data_source\\\": {\\\"id\\\": \\\"2614\\\"}, \\\"glyph\\\": {\\\"id\\\": \\\"2617\\\"}, \\\"hover_glyph\\\": null, \\\"muted_glyph\\\": {\\\"id\\\": \\\"2619\\\"}, \\\"nonselection_glyph\\\": {\\\"id\\\": \\\"2618\\\"}, \\\"selection_glyph\\\": null, \\\"view\\\": {\\\"id\\\": \\\"2621\\\"}}, \\\"id\\\": \\\"2620\\\", \\\"type\\\": \\\"GlyphRenderer\\\"}, {\\\"attributes\\\": {\\\"line_color\\\": \\\"#ff7e0e\\\", \\\"line_width\\\": 2, \\\"x\\\": {\\\"field\\\": \\\"year\\\"}, \\\"y\\\": {\\\"field\\\": \\\"value\\\"}}, \\\"id\\\": \\\"2635\\\", \\\"type\\\": \\\"Line\\\"}, {\\\"attributes\\\": {\\\"line_alpha\\\": 0.2, \\\"line_color\\\": \\\"#ff7e0e\\\", \\\"line_width\\\": 2, \\\"x\\\": {\\\"field\\\": \\\"year\\\"}, \\\"y\\\": {\\\"field\\\": \\\"value\\\"}}, \\\"id\\\": \\\"2637\\\", \\\"type\\\": \\\"Line\\\"}, {\\\"attributes\\\": {\\\"data\\\": {\\\"Variable\\\": [\\\"sale_price_sqr_foot\\\", \\\"sale_price_sqr_foot\\\", \\\"sale_price_sqr_foot\\\", \\\"sale_price_sqr_foot\\\", \\\"sale_price_sqr_foot\\\", \\\"sale_price_sqr_foot\\\", \\\"sale_price_sqr_foot\\\"], \\\"value\\\": {\\\"__ndarray__\\\": \\\"LMKfLArLgUAbTXjLh2l4QAnYXuSLJoRAMODd8zgbhkCYJdtc7J6FQJ+1dd72tIJAlnINLUOMkEA=\\\", \\\"dtype\\\": \\\"float64\\\", \\\"order\\\": \\\"little\\\", \\\"shape\\\": [7]}, \\\"year\\\": [\\\"2010\\\", \\\"2011\\\", \\\"2012\\\", \\\"2013\\\", \\\"2014\\\", \\\"2015\\\", \\\"2016\\\"]}, \\\"selected\\\": {\\\"id\\\": \\\"2633\\\"}, \\\"selection_policy\\\": {\\\"id\\\": \\\"2648\\\"}}, \\\"id\\\": \\\"2632\\\", \\\"type\\\": \\\"ColumnDataSource\\\"}, {\\\"attributes\\\": {\\\"source\\\": {\\\"id\\\": \\\"2614\\\"}}, \\\"id\\\": \\\"2621\\\", \\\"type\\\": \\\"CDSView\\\"}, {\\\"attributes\\\": {\\\"line_color\\\": \\\"#1f77b3\\\", \\\"line_width\\\": 2, \\\"x\\\": {\\\"field\\\": \\\"year\\\"}, \\\"y\\\": {\\\"field\\\": \\\"value\\\"}}, \\\"id\\\": \\\"2617\\\", \\\"type\\\": \\\"Line\\\"}, {\\\"attributes\\\": {\\\"line_alpha\\\": 0.1, \\\"line_color\\\": \\\"#ff7e0e\\\", \\\"line_width\\\": 2, \\\"x\\\": {\\\"field\\\": \\\"year\\\"}, \\\"y\\\": {\\\"field\\\": \\\"value\\\"}}, \\\"id\\\": \\\"2636\\\", \\\"type\\\": \\\"Line\\\"}, {\\\"attributes\\\": {}, \\\"id\\\": \\\"2648\\\", \\\"type\\\": \\\"UnionRenderers\\\"}, {\\\"attributes\\\": {\\\"data_source\\\": {\\\"id\\\": \\\"2632\\\"}, \\\"glyph\\\": {\\\"id\\\": \\\"2635\\\"}, \\\"hover_glyph\\\": null, \\\"muted_glyph\\\": {\\\"id\\\": \\\"2637\\\"}, \\\"nonselection_glyph\\\": {\\\"id\\\": \\\"2636\\\"}, \\\"selection_glyph\\\": null, \\\"view\\\": {\\\"id\\\": \\\"2639\\\"}}, \\\"id\\\": \\\"2638\\\", \\\"type\\\": \\\"GlyphRenderer\\\"}, {\\\"attributes\\\": {\\\"label\\\": {\\\"value\\\": \\\"gross_rent\\\"}, \\\"renderers\\\": [{\\\"id\\\": \\\"2620\\\"}]}, \\\"id\\\": \\\"2631\\\", \\\"type\\\": \\\"LegendItem\\\"}, {\\\"attributes\\\": {}, \\\"id\\\": \\\"2628\\\", \\\"type\\\": \\\"UnionRenderers\\\"}, {\\\"attributes\\\": {}, \\\"id\\\": \\\"2615\\\", \\\"type\\\": \\\"Selection\\\"}, {\\\"attributes\\\": {\\\"line_alpha\\\": 0.2, \\\"line_color\\\": \\\"#1f77b3\\\", \\\"line_width\\\": 2, \\\"x\\\": {\\\"field\\\": \\\"year\\\"}, \\\"y\\\": {\\\"field\\\": \\\"value\\\"}}, \\\"id\\\": \\\"2619\\\", \\\"type\\\": \\\"Line\\\"}, {\\\"attributes\\\": {}, \\\"id\\\": \\\"2633\\\", \\\"type\\\": \\\"Selection\\\"}]}\",\"header\":\"{\\\"msgid\\\": \\\"4857\\\", \\\"msgtype\\\": \\\"PATCH-DOC\\\"}\",\"metadata\":\"{}\"},\"Croker Amazon\":{\"content\":\"{\\\"events\\\": [{\\\"attr\\\": \\\"factors\\\", \\\"kind\\\": \\\"ModelChanged\\\", \\\"model\\\": {\\\"id\\\": \\\"2577\\\"}, \\\"new\\\": [\\\"2010\\\", \\\"2011\\\", \\\"2012\\\", \\\"2013\\\", \\\"2015\\\", \\\"2016\\\"]}, {\\\"cols\\\": null, \\\"column_source\\\": {\\\"id\\\": \\\"2614\\\"}, \\\"kind\\\": \\\"ColumnDataChanged\\\", \\\"new\\\": {\\\"Variable\\\": [\\\"gross_rent\\\", \\\"gross_rent\\\", \\\"gross_rent\\\", \\\"gross_rent\\\", \\\"gross_rent\\\", \\\"gross_rent\\\"], \\\"value\\\": [1239, 1530, 2324, 2971, 3739, 4390], \\\"year\\\": [\\\"2010\\\", \\\"2011\\\", \\\"2012\\\", \\\"2013\\\", \\\"2015\\\", \\\"2016\\\"]}}, {\\\"cols\\\": null, \\\"column_source\\\": {\\\"id\\\": \\\"2632\\\"}, \\\"kind\\\": \\\"ColumnDataChanged\\\", \\\"new\\\": {\\\"Variable\\\": [\\\"sale_price_sqr_foot\\\", \\\"sale_price_sqr_foot\\\", \\\"sale_price_sqr_foot\\\", \\\"sale_price_sqr_foot\\\", \\\"sale_price_sqr_foot\\\", \\\"sale_price_sqr_foot\\\"], \\\"value\\\": {\\\"__ndarray__\\\": \\\"4fEY0qm0ZED4BifkTjtiQGWBeAhy8XlAM4U057Tja0B+YXb65dlyQJU9LgKctYFA\\\", \\\"dtype\\\": \\\"float64\\\", \\\"order\\\": \\\"little\\\", \\\"shape\\\": [6]}, \\\"year\\\": [\\\"2010\\\", \\\"2011\\\", \\\"2012\\\", \\\"2013\\\", \\\"2015\\\", \\\"2016\\\"]}}, {\\\"attr\\\": \\\"text\\\", \\\"kind\\\": \\\"ModelChanged\\\", \\\"model\\\": {\\\"id\\\": \\\"2582\\\"}, \\\"new\\\": \\\"neighborhood: Croker Amazon\\\"}, {\\\"attr\\\": \\\"right\\\", \\\"kind\\\": \\\"ModelChanged\\\", \\\"model\\\": {\\\"id\\\": \\\"2581\\\"}, \\\"new\\\": [{\\\"id\\\": \\\"2630\\\"}]}], \\\"references\\\": [{\\\"attributes\\\": {\\\"click_policy\\\": \\\"mute\\\", \\\"items\\\": [{\\\"id\\\": \\\"2631\\\"}, {\\\"id\\\": \\\"2650\\\"}], \\\"location\\\": [0, 0], \\\"title\\\": \\\"Variable\\\"}, \\\"id\\\": \\\"2630\\\", \\\"type\\\": \\\"Legend\\\"}, {\\\"attributes\\\": {\\\"line_alpha\\\": 0.1, \\\"line_color\\\": \\\"#1f77b3\\\", \\\"line_width\\\": 2, \\\"x\\\": {\\\"field\\\": \\\"year\\\"}, \\\"y\\\": {\\\"field\\\": \\\"value\\\"}}, \\\"id\\\": \\\"2618\\\", \\\"type\\\": \\\"Line\\\"}, {\\\"attributes\\\": {\\\"source\\\": {\\\"id\\\": \\\"2632\\\"}}, \\\"id\\\": \\\"2639\\\", \\\"type\\\": \\\"CDSView\\\"}, {\\\"attributes\\\": {\\\"label\\\": {\\\"value\\\": \\\"sale_price_sqr_foot\\\"}, \\\"renderers\\\": [{\\\"id\\\": \\\"2638\\\"}]}, \\\"id\\\": \\\"2650\\\", \\\"type\\\": \\\"LegendItem\\\"}, {\\\"attributes\\\": {\\\"data\\\": {\\\"Variable\\\": [\\\"gross_rent\\\", \\\"gross_rent\\\", \\\"gross_rent\\\", \\\"gross_rent\\\", \\\"gross_rent\\\", \\\"gross_rent\\\"], \\\"value\\\": [1239, 1530, 2324, 2971, 3739, 4390], \\\"year\\\": [\\\"2010\\\", \\\"2011\\\", \\\"2012\\\", \\\"2013\\\", \\\"2015\\\", \\\"2016\\\"]}, \\\"selected\\\": {\\\"id\\\": \\\"2615\\\"}, \\\"selection_policy\\\": {\\\"id\\\": \\\"2628\\\"}}, \\\"id\\\": \\\"2614\\\", \\\"type\\\": \\\"ColumnDataSource\\\"}, {\\\"attributes\\\": {\\\"data_source\\\": {\\\"id\\\": \\\"2614\\\"}, \\\"glyph\\\": {\\\"id\\\": \\\"2617\\\"}, \\\"hover_glyph\\\": null, \\\"muted_glyph\\\": {\\\"id\\\": \\\"2619\\\"}, \\\"nonselection_glyph\\\": {\\\"id\\\": \\\"2618\\\"}, \\\"selection_glyph\\\": null, \\\"view\\\": {\\\"id\\\": \\\"2621\\\"}}, \\\"id\\\": \\\"2620\\\", \\\"type\\\": \\\"GlyphRenderer\\\"}, {\\\"attributes\\\": {\\\"line_color\\\": \\\"#ff7e0e\\\", \\\"line_width\\\": 2, \\\"x\\\": {\\\"field\\\": \\\"year\\\"}, \\\"y\\\": {\\\"field\\\": \\\"value\\\"}}, \\\"id\\\": \\\"2635\\\", \\\"type\\\": \\\"Line\\\"}, {\\\"attributes\\\": {\\\"line_alpha\\\": 0.2, \\\"line_color\\\": \\\"#ff7e0e\\\", \\\"line_width\\\": 2, \\\"x\\\": {\\\"field\\\": \\\"year\\\"}, \\\"y\\\": {\\\"field\\\": \\\"value\\\"}}, \\\"id\\\": \\\"2637\\\", \\\"type\\\": \\\"Line\\\"}, {\\\"attributes\\\": {\\\"data\\\": {\\\"Variable\\\": [\\\"sale_price_sqr_foot\\\", \\\"sale_price_sqr_foot\\\", \\\"sale_price_sqr_foot\\\", \\\"sale_price_sqr_foot\\\", \\\"sale_price_sqr_foot\\\", \\\"sale_price_sqr_foot\\\"], \\\"value\\\": {\\\"__ndarray__\\\": \\\"4fEY0qm0ZED4BifkTjtiQGWBeAhy8XlAM4U057Tja0B+YXb65dlyQJU9LgKctYFA\\\", \\\"dtype\\\": \\\"float64\\\", \\\"order\\\": \\\"little\\\", \\\"shape\\\": [6]}, \\\"year\\\": [\\\"2010\\\", \\\"2011\\\", \\\"2012\\\", \\\"2013\\\", \\\"2015\\\", \\\"2016\\\"]}, \\\"selected\\\": {\\\"id\\\": \\\"2633\\\"}, \\\"selection_policy\\\": {\\\"id\\\": \\\"2648\\\"}}, \\\"id\\\": \\\"2632\\\", \\\"type\\\": \\\"ColumnDataSource\\\"}, {\\\"attributes\\\": {\\\"source\\\": {\\\"id\\\": \\\"2614\\\"}}, \\\"id\\\": \\\"2621\\\", \\\"type\\\": \\\"CDSView\\\"}, {\\\"attributes\\\": {\\\"line_color\\\": \\\"#1f77b3\\\", \\\"line_width\\\": 2, \\\"x\\\": {\\\"field\\\": \\\"year\\\"}, \\\"y\\\": {\\\"field\\\": \\\"value\\\"}}, \\\"id\\\": \\\"2617\\\", \\\"type\\\": \\\"Line\\\"}, {\\\"attributes\\\": {\\\"line_alpha\\\": 0.1, \\\"line_color\\\": \\\"#ff7e0e\\\", \\\"line_width\\\": 2, \\\"x\\\": {\\\"field\\\": \\\"year\\\"}, \\\"y\\\": {\\\"field\\\": \\\"value\\\"}}, \\\"id\\\": \\\"2636\\\", \\\"type\\\": \\\"Line\\\"}, {\\\"attributes\\\": {}, \\\"id\\\": \\\"2648\\\", \\\"type\\\": \\\"UnionRenderers\\\"}, {\\\"attributes\\\": {\\\"data_source\\\": {\\\"id\\\": \\\"2632\\\"}, \\\"glyph\\\": {\\\"id\\\": \\\"2635\\\"}, \\\"hover_glyph\\\": null, \\\"muted_glyph\\\": {\\\"id\\\": \\\"2637\\\"}, \\\"nonselection_glyph\\\": {\\\"id\\\": \\\"2636\\\"}, \\\"selection_glyph\\\": null, \\\"view\\\": {\\\"id\\\": \\\"2639\\\"}}, \\\"id\\\": \\\"2638\\\", \\\"type\\\": \\\"GlyphRenderer\\\"}, {\\\"attributes\\\": {\\\"label\\\": {\\\"value\\\": \\\"gross_rent\\\"}, \\\"renderers\\\": [{\\\"id\\\": \\\"2620\\\"}]}, \\\"id\\\": \\\"2631\\\", \\\"type\\\": \\\"LegendItem\\\"}, {\\\"attributes\\\": {}, \\\"id\\\": \\\"2628\\\", \\\"type\\\": \\\"UnionRenderers\\\"}, {\\\"attributes\\\": {}, \\\"id\\\": \\\"2615\\\", \\\"type\\\": \\\"Selection\\\"}, {\\\"attributes\\\": {\\\"line_alpha\\\": 0.2, \\\"line_color\\\": \\\"#1f77b3\\\", \\\"line_width\\\": 2, \\\"x\\\": {\\\"field\\\": \\\"year\\\"}, \\\"y\\\": {\\\"field\\\": \\\"value\\\"}}, \\\"id\\\": \\\"2619\\\", \\\"type\\\": \\\"Line\\\"}, {\\\"attributes\\\": {}, \\\"id\\\": \\\"2633\\\", \\\"type\\\": \\\"Selection\\\"}]}\",\"header\":\"{\\\"msgid\\\": \\\"4824\\\", \\\"msgtype\\\": \\\"PATCH-DOC\\\"}\",\"metadata\":\"{}\"},\"Diamond Heights\":{\"content\":\"{\\\"events\\\": [{\\\"attr\\\": \\\"factors\\\", \\\"kind\\\": \\\"ModelChanged\\\", \\\"model\\\": {\\\"id\\\": \\\"2577\\\"}, \\\"new\\\": [\\\"2010\\\", \\\"2011\\\", \\\"2012\\\", \\\"2013\\\"]}, {\\\"cols\\\": null, \\\"column_source\\\": {\\\"id\\\": \\\"2614\\\"}, \\\"kind\\\": \\\"ColumnDataChanged\\\", \\\"new\\\": {\\\"Variable\\\": [\\\"gross_rent\\\", \\\"gross_rent\\\", \\\"gross_rent\\\", \\\"gross_rent\\\"], \\\"value\\\": [1239, 1530, 2324, 2971], \\\"year\\\": [\\\"2010\\\", \\\"2011\\\", \\\"2012\\\", \\\"2013\\\"]}}, {\\\"cols\\\": null, \\\"column_source\\\": {\\\"id\\\": \\\"2632\\\"}, \\\"kind\\\": \\\"ColumnDataChanged\\\", \\\"new\\\": {\\\"Variable\\\": [\\\"sale_price_sqr_foot\\\", \\\"sale_price_sqr_foot\\\", \\\"sale_price_sqr_foot\\\", \\\"sale_price_sqr_foot\\\"], \\\"value\\\": {\\\"__ndarray__\\\": \\\"CCbRpeSOfECTXH/couV3QEfnZUXt73ZAKTeB8IGtgEA=\\\", \\\"dtype\\\": \\\"float64\\\", \\\"order\\\": \\\"little\\\", \\\"shape\\\": [4]}, \\\"year\\\": [\\\"2010\\\", \\\"2011\\\", \\\"2012\\\", \\\"2013\\\"]}}, {\\\"attr\\\": \\\"text\\\", \\\"kind\\\": \\\"ModelChanged\\\", \\\"model\\\": {\\\"id\\\": \\\"2582\\\"}, \\\"new\\\": \\\"neighborhood: Diamond Heights\\\"}, {\\\"attr\\\": \\\"right\\\", \\\"kind\\\": \\\"ModelChanged\\\", \\\"model\\\": {\\\"id\\\": \\\"2581\\\"}, \\\"new\\\": [{\\\"id\\\": \\\"2630\\\"}]}], \\\"references\\\": [{\\\"attributes\\\": {\\\"click_policy\\\": \\\"mute\\\", \\\"items\\\": [{\\\"id\\\": \\\"2631\\\"}, {\\\"id\\\": \\\"2650\\\"}], \\\"location\\\": [0, 0], \\\"title\\\": \\\"Variable\\\"}, \\\"id\\\": \\\"2630\\\", \\\"type\\\": \\\"Legend\\\"}, {\\\"attributes\\\": {\\\"line_alpha\\\": 0.1, \\\"line_color\\\": \\\"#1f77b3\\\", \\\"line_width\\\": 2, \\\"x\\\": {\\\"field\\\": \\\"year\\\"}, \\\"y\\\": {\\\"field\\\": \\\"value\\\"}}, \\\"id\\\": \\\"2618\\\", \\\"type\\\": \\\"Line\\\"}, {\\\"attributes\\\": {\\\"source\\\": {\\\"id\\\": \\\"2632\\\"}}, \\\"id\\\": \\\"2639\\\", \\\"type\\\": \\\"CDSView\\\"}, {\\\"attributes\\\": {\\\"label\\\": {\\\"value\\\": \\\"sale_price_sqr_foot\\\"}, \\\"renderers\\\": [{\\\"id\\\": \\\"2638\\\"}]}, \\\"id\\\": \\\"2650\\\", \\\"type\\\": \\\"LegendItem\\\"}, {\\\"attributes\\\": {\\\"data\\\": {\\\"Variable\\\": [\\\"gross_rent\\\", \\\"gross_rent\\\", \\\"gross_rent\\\", \\\"gross_rent\\\"], \\\"value\\\": [1239, 1530, 2324, 2971], \\\"year\\\": [\\\"2010\\\", \\\"2011\\\", \\\"2012\\\", \\\"2013\\\"]}, \\\"selected\\\": {\\\"id\\\": \\\"2615\\\"}, \\\"selection_policy\\\": {\\\"id\\\": \\\"2628\\\"}}, \\\"id\\\": \\\"2614\\\", \\\"type\\\": \\\"ColumnDataSource\\\"}, {\\\"attributes\\\": {\\\"data_source\\\": {\\\"id\\\": \\\"2614\\\"}, \\\"glyph\\\": {\\\"id\\\": \\\"2617\\\"}, \\\"hover_glyph\\\": null, \\\"muted_glyph\\\": {\\\"id\\\": \\\"2619\\\"}, \\\"nonselection_glyph\\\": {\\\"id\\\": \\\"2618\\\"}, \\\"selection_glyph\\\": null, \\\"view\\\": {\\\"id\\\": \\\"2621\\\"}}, \\\"id\\\": \\\"2620\\\", \\\"type\\\": \\\"GlyphRenderer\\\"}, {\\\"attributes\\\": {\\\"line_color\\\": \\\"#ff7e0e\\\", \\\"line_width\\\": 2, \\\"x\\\": {\\\"field\\\": \\\"year\\\"}, \\\"y\\\": {\\\"field\\\": \\\"value\\\"}}, \\\"id\\\": \\\"2635\\\", \\\"type\\\": \\\"Line\\\"}, {\\\"attributes\\\": {\\\"line_alpha\\\": 0.2, \\\"line_color\\\": \\\"#ff7e0e\\\", \\\"line_width\\\": 2, \\\"x\\\": {\\\"field\\\": \\\"year\\\"}, \\\"y\\\": {\\\"field\\\": \\\"value\\\"}}, \\\"id\\\": \\\"2637\\\", \\\"type\\\": \\\"Line\\\"}, {\\\"attributes\\\": {\\\"data\\\": {\\\"Variable\\\": [\\\"sale_price_sqr_foot\\\", \\\"sale_price_sqr_foot\\\", \\\"sale_price_sqr_foot\\\", \\\"sale_price_sqr_foot\\\"], \\\"value\\\": {\\\"__ndarray__\\\": \\\"CCbRpeSOfECTXH/couV3QEfnZUXt73ZAKTeB8IGtgEA=\\\", \\\"dtype\\\": \\\"float64\\\", \\\"order\\\": \\\"little\\\", \\\"shape\\\": [4]}, \\\"year\\\": [\\\"2010\\\", \\\"2011\\\", \\\"2012\\\", \\\"2013\\\"]}, \\\"selected\\\": {\\\"id\\\": \\\"2633\\\"}, \\\"selection_policy\\\": {\\\"id\\\": \\\"2648\\\"}}, \\\"id\\\": \\\"2632\\\", \\\"type\\\": \\\"ColumnDataSource\\\"}, {\\\"attributes\\\": {\\\"source\\\": {\\\"id\\\": \\\"2614\\\"}}, \\\"id\\\": \\\"2621\\\", \\\"type\\\": \\\"CDSView\\\"}, {\\\"attributes\\\": {\\\"line_color\\\": \\\"#1f77b3\\\", \\\"line_width\\\": 2, \\\"x\\\": {\\\"field\\\": \\\"year\\\"}, \\\"y\\\": {\\\"field\\\": \\\"value\\\"}}, \\\"id\\\": \\\"2617\\\", \\\"type\\\": \\\"Line\\\"}, {\\\"attributes\\\": {\\\"line_alpha\\\": 0.1, \\\"line_color\\\": \\\"#ff7e0e\\\", \\\"line_width\\\": 2, \\\"x\\\": {\\\"field\\\": \\\"year\\\"}, \\\"y\\\": {\\\"field\\\": \\\"value\\\"}}, \\\"id\\\": \\\"2636\\\", \\\"type\\\": \\\"Line\\\"}, {\\\"attributes\\\": {}, \\\"id\\\": \\\"2648\\\", \\\"type\\\": \\\"UnionRenderers\\\"}, {\\\"attributes\\\": {\\\"data_source\\\": {\\\"id\\\": \\\"2632\\\"}, \\\"glyph\\\": {\\\"id\\\": \\\"2635\\\"}, \\\"hover_glyph\\\": null, \\\"muted_glyph\\\": {\\\"id\\\": \\\"2637\\\"}, \\\"nonselection_glyph\\\": {\\\"id\\\": \\\"2636\\\"}, \\\"selection_glyph\\\": null, \\\"view\\\": {\\\"id\\\": \\\"2639\\\"}}, \\\"id\\\": \\\"2638\\\", \\\"type\\\": \\\"GlyphRenderer\\\"}, {\\\"attributes\\\": {\\\"label\\\": {\\\"value\\\": \\\"gross_rent\\\"}, \\\"renderers\\\": [{\\\"id\\\": \\\"2620\\\"}]}, \\\"id\\\": \\\"2631\\\", \\\"type\\\": \\\"LegendItem\\\"}, {\\\"attributes\\\": {}, \\\"id\\\": \\\"2628\\\", \\\"type\\\": \\\"UnionRenderers\\\"}, {\\\"attributes\\\": {}, \\\"id\\\": \\\"2615\\\", \\\"type\\\": \\\"Selection\\\"}, {\\\"attributes\\\": {\\\"line_alpha\\\": 0.2, \\\"line_color\\\": \\\"#1f77b3\\\", \\\"line_width\\\": 2, \\\"x\\\": {\\\"field\\\": \\\"year\\\"}, \\\"y\\\": {\\\"field\\\": \\\"value\\\"}}, \\\"id\\\": \\\"2619\\\", \\\"type\\\": \\\"Line\\\"}, {\\\"attributes\\\": {}, \\\"id\\\": \\\"2633\\\", \\\"type\\\": \\\"Selection\\\"}]}\",\"header\":\"{\\\"msgid\\\": \\\"4791\\\", \\\"msgtype\\\": \\\"PATCH-DOC\\\"}\",\"metadata\":\"{}\"},\"Downtown \":{\"content\":\"{\\\"events\\\": [{\\\"attr\\\": \\\"factors\\\", \\\"kind\\\": \\\"ModelChanged\\\", \\\"model\\\": {\\\"id\\\": \\\"2577\\\"}, \\\"new\\\": [\\\"2010\\\", \\\"2011\\\", \\\"2012\\\", \\\"2013\\\", \\\"2014\\\", \\\"2015\\\", \\\"2016\\\"]}, {\\\"cols\\\": null, \\\"column_source\\\": {\\\"id\\\": \\\"2614\\\"}, \\\"kind\\\": \\\"ColumnDataChanged\\\", \\\"new\\\": {\\\"Variable\\\": [\\\"gross_rent\\\", \\\"gross_rent\\\", \\\"gross_rent\\\", \\\"gross_rent\\\", \\\"gross_rent\\\", \\\"gross_rent\\\", \\\"gross_rent\\\"], \\\"value\\\": [1239, 1530, 2324, 2971, 3528, 3739, 4390], \\\"year\\\": [\\\"2010\\\", \\\"2011\\\", \\\"2012\\\", \\\"2013\\\", \\\"2014\\\", \\\"2015\\\", \\\"2016\\\"]}}, {\\\"cols\\\": null, \\\"column_source\\\": {\\\"id\\\": \\\"2632\\\"}, \\\"kind\\\": \\\"ColumnDataChanged\\\", \\\"new\\\": {\\\"Variable\\\": [\\\"sale_price_sqr_foot\\\", \\\"sale_price_sqr_foot\\\", \\\"sale_price_sqr_foot\\\", \\\"sale_price_sqr_foot\\\", \\\"sale_price_sqr_foot\\\", \\\"sale_price_sqr_foot\\\", \\\"sale_price_sqr_foot\\\"], \\\"value\\\": {\\\"__ndarray__\\\": \\\"6c744745bkA52E4PA0ltQGAISaHA0XBArpUZa0aXdkCJO7vgn8t6QBz07a4wXn5AvXKD8jZ2hkA=\\\", \\\"dtype\\\": \\\"float64\\\", \\\"order\\\": \\\"little\\\", \\\"shape\\\": [7]}, \\\"year\\\": [\\\"2010\\\", \\\"2011\\\", \\\"2012\\\", \\\"2013\\\", \\\"2014\\\", \\\"2015\\\", \\\"2016\\\"]}}, {\\\"attr\\\": \\\"text\\\", \\\"kind\\\": \\\"ModelChanged\\\", \\\"model\\\": {\\\"id\\\": \\\"2582\\\"}, \\\"new\\\": \\\"neighborhood: Downtown\\\"}, {\\\"attr\\\": \\\"right\\\", \\\"kind\\\": \\\"ModelChanged\\\", \\\"model\\\": {\\\"id\\\": \\\"2581\\\"}, \\\"new\\\": [{\\\"id\\\": \\\"2630\\\"}]}], \\\"references\\\": [{\\\"attributes\\\": {\\\"click_policy\\\": \\\"mute\\\", \\\"items\\\": [{\\\"id\\\": \\\"2631\\\"}, {\\\"id\\\": \\\"2650\\\"}], \\\"location\\\": [0, 0], \\\"title\\\": \\\"Variable\\\"}, \\\"id\\\": \\\"2630\\\", \\\"type\\\": \\\"Legend\\\"}, {\\\"attributes\\\": {\\\"line_alpha\\\": 0.1, \\\"line_color\\\": \\\"#1f77b3\\\", \\\"line_width\\\": 2, \\\"x\\\": {\\\"field\\\": \\\"year\\\"}, \\\"y\\\": {\\\"field\\\": \\\"value\\\"}}, \\\"id\\\": \\\"2618\\\", \\\"type\\\": \\\"Line\\\"}, {\\\"attributes\\\": {\\\"source\\\": {\\\"id\\\": \\\"2632\\\"}}, \\\"id\\\": \\\"2639\\\", \\\"type\\\": \\\"CDSView\\\"}, {\\\"attributes\\\": {\\\"label\\\": {\\\"value\\\": \\\"sale_price_sqr_foot\\\"}, \\\"renderers\\\": [{\\\"id\\\": \\\"2638\\\"}]}, \\\"id\\\": \\\"2650\\\", \\\"type\\\": \\\"LegendItem\\\"}, {\\\"attributes\\\": {\\\"data\\\": {\\\"Variable\\\": [\\\"gross_rent\\\", \\\"gross_rent\\\", \\\"gross_rent\\\", \\\"gross_rent\\\", \\\"gross_rent\\\", \\\"gross_rent\\\", \\\"gross_rent\\\"], \\\"value\\\": [1239, 1530, 2324, 2971, 3528, 3739, 4390], \\\"year\\\": [\\\"2010\\\", \\\"2011\\\", \\\"2012\\\", \\\"2013\\\", \\\"2014\\\", \\\"2015\\\", \\\"2016\\\"]}, \\\"selected\\\": {\\\"id\\\": \\\"2615\\\"}, \\\"selection_policy\\\": {\\\"id\\\": \\\"2628\\\"}}, \\\"id\\\": \\\"2614\\\", \\\"type\\\": \\\"ColumnDataSource\\\"}, {\\\"attributes\\\": {\\\"data_source\\\": {\\\"id\\\": \\\"2614\\\"}, \\\"glyph\\\": {\\\"id\\\": \\\"2617\\\"}, \\\"hover_glyph\\\": null, \\\"muted_glyph\\\": {\\\"id\\\": \\\"2619\\\"}, \\\"nonselection_glyph\\\": {\\\"id\\\": \\\"2618\\\"}, \\\"selection_glyph\\\": null, \\\"view\\\": {\\\"id\\\": \\\"2621\\\"}}, \\\"id\\\": \\\"2620\\\", \\\"type\\\": \\\"GlyphRenderer\\\"}, {\\\"attributes\\\": {\\\"line_color\\\": \\\"#ff7e0e\\\", \\\"line_width\\\": 2, \\\"x\\\": {\\\"field\\\": \\\"year\\\"}, \\\"y\\\": {\\\"field\\\": \\\"value\\\"}}, \\\"id\\\": \\\"2635\\\", \\\"type\\\": \\\"Line\\\"}, {\\\"attributes\\\": {\\\"line_alpha\\\": 0.2, \\\"line_color\\\": \\\"#ff7e0e\\\", \\\"line_width\\\": 2, \\\"x\\\": {\\\"field\\\": \\\"year\\\"}, \\\"y\\\": {\\\"field\\\": \\\"value\\\"}}, \\\"id\\\": \\\"2637\\\", \\\"type\\\": \\\"Line\\\"}, {\\\"attributes\\\": {\\\"data\\\": {\\\"Variable\\\": [\\\"sale_price_sqr_foot\\\", \\\"sale_price_sqr_foot\\\", \\\"sale_price_sqr_foot\\\", \\\"sale_price_sqr_foot\\\", \\\"sale_price_sqr_foot\\\", \\\"sale_price_sqr_foot\\\", \\\"sale_price_sqr_foot\\\"], \\\"value\\\": {\\\"__ndarray__\\\": \\\"6c744745bkA52E4PA0ltQGAISaHA0XBArpUZa0aXdkCJO7vgn8t6QBz07a4wXn5AvXKD8jZ2hkA=\\\", \\\"dtype\\\": \\\"float64\\\", \\\"order\\\": \\\"little\\\", \\\"shape\\\": [7]}, \\\"year\\\": [\\\"2010\\\", \\\"2011\\\", \\\"2012\\\", \\\"2013\\\", \\\"2014\\\", \\\"2015\\\", \\\"2016\\\"]}, \\\"selected\\\": {\\\"id\\\": \\\"2633\\\"}, \\\"selection_policy\\\": {\\\"id\\\": \\\"2648\\\"}}, \\\"id\\\": \\\"2632\\\", \\\"type\\\": \\\"ColumnDataSource\\\"}, {\\\"attributes\\\": {\\\"source\\\": {\\\"id\\\": \\\"2614\\\"}}, \\\"id\\\": \\\"2621\\\", \\\"type\\\": \\\"CDSView\\\"}, {\\\"attributes\\\": {\\\"line_color\\\": \\\"#1f77b3\\\", \\\"line_width\\\": 2, \\\"x\\\": {\\\"field\\\": \\\"year\\\"}, \\\"y\\\": {\\\"field\\\": \\\"value\\\"}}, \\\"id\\\": \\\"2617\\\", \\\"type\\\": \\\"Line\\\"}, {\\\"attributes\\\": {\\\"line_alpha\\\": 0.1, \\\"line_color\\\": \\\"#ff7e0e\\\", \\\"line_width\\\": 2, \\\"x\\\": {\\\"field\\\": \\\"year\\\"}, \\\"y\\\": {\\\"field\\\": \\\"value\\\"}}, \\\"id\\\": \\\"2636\\\", \\\"type\\\": \\\"Line\\\"}, {\\\"attributes\\\": {}, \\\"id\\\": \\\"2648\\\", \\\"type\\\": \\\"UnionRenderers\\\"}, {\\\"attributes\\\": {\\\"data_source\\\": {\\\"id\\\": \\\"2632\\\"}, \\\"glyph\\\": {\\\"id\\\": \\\"2635\\\"}, \\\"hover_glyph\\\": null, \\\"muted_glyph\\\": {\\\"id\\\": \\\"2637\\\"}, \\\"nonselection_glyph\\\": {\\\"id\\\": \\\"2636\\\"}, \\\"selection_glyph\\\": null, \\\"view\\\": {\\\"id\\\": \\\"2639\\\"}}, \\\"id\\\": \\\"2638\\\", \\\"type\\\": \\\"GlyphRenderer\\\"}, {\\\"attributes\\\": {\\\"label\\\": {\\\"value\\\": \\\"gross_rent\\\"}, \\\"renderers\\\": [{\\\"id\\\": \\\"2620\\\"}]}, \\\"id\\\": \\\"2631\\\", \\\"type\\\": \\\"LegendItem\\\"}, {\\\"attributes\\\": {}, \\\"id\\\": \\\"2628\\\", \\\"type\\\": \\\"UnionRenderers\\\"}, {\\\"attributes\\\": {}, \\\"id\\\": \\\"2615\\\", \\\"type\\\": \\\"Selection\\\"}, {\\\"attributes\\\": {\\\"line_alpha\\\": 0.2, \\\"line_color\\\": \\\"#1f77b3\\\", \\\"line_width\\\": 2, \\\"x\\\": {\\\"field\\\": \\\"year\\\"}, \\\"y\\\": {\\\"field\\\": \\\"value\\\"}}, \\\"id\\\": \\\"2619\\\", \\\"type\\\": \\\"Line\\\"}, {\\\"attributes\\\": {}, \\\"id\\\": \\\"2633\\\", \\\"type\\\": \\\"Selection\\\"}]}\",\"header\":\"{\\\"msgid\\\": \\\"4758\\\", \\\"msgtype\\\": \\\"PATCH-DOC\\\"}\",\"metadata\":\"{}\"},\"Duboce Triangle\":{\"content\":\"{\\\"events\\\": [{\\\"attr\\\": \\\"factors\\\", \\\"kind\\\": \\\"ModelChanged\\\", \\\"model\\\": {\\\"id\\\": \\\"2577\\\"}, \\\"new\\\": [\\\"2011\\\", \\\"2012\\\", \\\"2014\\\", \\\"2015\\\"]}, {\\\"cols\\\": null, \\\"column_source\\\": {\\\"id\\\": \\\"2614\\\"}, \\\"kind\\\": \\\"ColumnDataChanged\\\", \\\"new\\\": {\\\"Variable\\\": [\\\"gross_rent\\\", \\\"gross_rent\\\", \\\"gross_rent\\\", \\\"gross_rent\\\"], \\\"value\\\": [1530, 2324, 3528, 3739], \\\"year\\\": [\\\"2011\\\", \\\"2012\\\", \\\"2014\\\", \\\"2015\\\"]}}, {\\\"cols\\\": null, \\\"column_source\\\": {\\\"id\\\": \\\"2632\\\"}, \\\"kind\\\": \\\"ColumnDataChanged\\\", \\\"new\\\": {\\\"Variable\\\": [\\\"sale_price_sqr_foot\\\", \\\"sale_price_sqr_foot\\\", \\\"sale_price_sqr_foot\\\", \\\"sale_price_sqr_foot\\\"], \\\"value\\\": {\\\"__ndarray__\\\": \\\"6FtOVXh8ckCp7K1zj0p8QIjRLwZ+soNAN/KXXSq9g0A=\\\", \\\"dtype\\\": \\\"float64\\\", \\\"order\\\": \\\"little\\\", \\\"shape\\\": [4]}, \\\"year\\\": [\\\"2011\\\", \\\"2012\\\", \\\"2014\\\", \\\"2015\\\"]}}, {\\\"attr\\\": \\\"text\\\", \\\"kind\\\": \\\"ModelChanged\\\", \\\"model\\\": {\\\"id\\\": \\\"2582\\\"}, \\\"new\\\": \\\"neighborhood: Duboce Triangle\\\"}, {\\\"attr\\\": \\\"right\\\", \\\"kind\\\": \\\"ModelChanged\\\", \\\"model\\\": {\\\"id\\\": \\\"2581\\\"}, \\\"new\\\": [{\\\"id\\\": \\\"2630\\\"}]}], \\\"references\\\": [{\\\"attributes\\\": {\\\"click_policy\\\": \\\"mute\\\", \\\"items\\\": [{\\\"id\\\": \\\"2631\\\"}, {\\\"id\\\": \\\"2650\\\"}], \\\"location\\\": [0, 0], \\\"title\\\": \\\"Variable\\\"}, \\\"id\\\": \\\"2630\\\", \\\"type\\\": \\\"Legend\\\"}, {\\\"attributes\\\": {\\\"line_alpha\\\": 0.1, \\\"line_color\\\": \\\"#1f77b3\\\", \\\"line_width\\\": 2, \\\"x\\\": {\\\"field\\\": \\\"year\\\"}, \\\"y\\\": {\\\"field\\\": \\\"value\\\"}}, \\\"id\\\": \\\"2618\\\", \\\"type\\\": \\\"Line\\\"}, {\\\"attributes\\\": {\\\"source\\\": {\\\"id\\\": \\\"2632\\\"}}, \\\"id\\\": \\\"2639\\\", \\\"type\\\": \\\"CDSView\\\"}, {\\\"attributes\\\": {\\\"label\\\": {\\\"value\\\": \\\"sale_price_sqr_foot\\\"}, \\\"renderers\\\": [{\\\"id\\\": \\\"2638\\\"}]}, \\\"id\\\": \\\"2650\\\", \\\"type\\\": \\\"LegendItem\\\"}, {\\\"attributes\\\": {\\\"data\\\": {\\\"Variable\\\": [\\\"gross_rent\\\", \\\"gross_rent\\\", \\\"gross_rent\\\", \\\"gross_rent\\\"], \\\"value\\\": [1530, 2324, 3528, 3739], \\\"year\\\": [\\\"2011\\\", \\\"2012\\\", \\\"2014\\\", \\\"2015\\\"]}, \\\"selected\\\": {\\\"id\\\": \\\"2615\\\"}, \\\"selection_policy\\\": {\\\"id\\\": \\\"2628\\\"}}, \\\"id\\\": \\\"2614\\\", \\\"type\\\": \\\"ColumnDataSource\\\"}, {\\\"attributes\\\": {\\\"data_source\\\": {\\\"id\\\": \\\"2614\\\"}, \\\"glyph\\\": {\\\"id\\\": \\\"2617\\\"}, \\\"hover_glyph\\\": null, \\\"muted_glyph\\\": {\\\"id\\\": \\\"2619\\\"}, \\\"nonselection_glyph\\\": {\\\"id\\\": \\\"2618\\\"}, \\\"selection_glyph\\\": null, \\\"view\\\": {\\\"id\\\": \\\"2621\\\"}}, \\\"id\\\": \\\"2620\\\", \\\"type\\\": \\\"GlyphRenderer\\\"}, {\\\"attributes\\\": {\\\"line_color\\\": \\\"#ff7e0e\\\", \\\"line_width\\\": 2, \\\"x\\\": {\\\"field\\\": \\\"year\\\"}, \\\"y\\\": {\\\"field\\\": \\\"value\\\"}}, \\\"id\\\": \\\"2635\\\", \\\"type\\\": \\\"Line\\\"}, {\\\"attributes\\\": {\\\"line_alpha\\\": 0.2, \\\"line_color\\\": \\\"#ff7e0e\\\", \\\"line_width\\\": 2, \\\"x\\\": {\\\"field\\\": \\\"year\\\"}, \\\"y\\\": {\\\"field\\\": \\\"value\\\"}}, \\\"id\\\": \\\"2637\\\", \\\"type\\\": \\\"Line\\\"}, {\\\"attributes\\\": {\\\"data\\\": {\\\"Variable\\\": [\\\"sale_price_sqr_foot\\\", \\\"sale_price_sqr_foot\\\", \\\"sale_price_sqr_foot\\\", \\\"sale_price_sqr_foot\\\"], \\\"value\\\": {\\\"__ndarray__\\\": \\\"6FtOVXh8ckCp7K1zj0p8QIjRLwZ+soNAN/KXXSq9g0A=\\\", \\\"dtype\\\": \\\"float64\\\", \\\"order\\\": \\\"little\\\", \\\"shape\\\": [4]}, \\\"year\\\": [\\\"2011\\\", \\\"2012\\\", \\\"2014\\\", \\\"2015\\\"]}, \\\"selected\\\": {\\\"id\\\": \\\"2633\\\"}, \\\"selection_policy\\\": {\\\"id\\\": \\\"2648\\\"}}, \\\"id\\\": \\\"2632\\\", \\\"type\\\": \\\"ColumnDataSource\\\"}, {\\\"attributes\\\": {\\\"source\\\": {\\\"id\\\": \\\"2614\\\"}}, \\\"id\\\": \\\"2621\\\", \\\"type\\\": \\\"CDSView\\\"}, {\\\"attributes\\\": {\\\"line_color\\\": \\\"#1f77b3\\\", \\\"line_width\\\": 2, \\\"x\\\": {\\\"field\\\": \\\"year\\\"}, \\\"y\\\": {\\\"field\\\": \\\"value\\\"}}, \\\"id\\\": \\\"2617\\\", \\\"type\\\": \\\"Line\\\"}, {\\\"attributes\\\": {\\\"line_alpha\\\": 0.1, \\\"line_color\\\": \\\"#ff7e0e\\\", \\\"line_width\\\": 2, \\\"x\\\": {\\\"field\\\": \\\"year\\\"}, \\\"y\\\": {\\\"field\\\": \\\"value\\\"}}, \\\"id\\\": \\\"2636\\\", \\\"type\\\": \\\"Line\\\"}, {\\\"attributes\\\": {}, \\\"id\\\": \\\"2648\\\", \\\"type\\\": \\\"UnionRenderers\\\"}, {\\\"attributes\\\": {\\\"data_source\\\": {\\\"id\\\": \\\"2632\\\"}, \\\"glyph\\\": {\\\"id\\\": \\\"2635\\\"}, \\\"hover_glyph\\\": null, \\\"muted_glyph\\\": {\\\"id\\\": \\\"2637\\\"}, \\\"nonselection_glyph\\\": {\\\"id\\\": \\\"2636\\\"}, \\\"selection_glyph\\\": null, \\\"view\\\": {\\\"id\\\": \\\"2639\\\"}}, \\\"id\\\": \\\"2638\\\", \\\"type\\\": \\\"GlyphRenderer\\\"}, {\\\"attributes\\\": {\\\"label\\\": {\\\"value\\\": \\\"gross_rent\\\"}, \\\"renderers\\\": [{\\\"id\\\": \\\"2620\\\"}]}, \\\"id\\\": \\\"2631\\\", \\\"type\\\": \\\"LegendItem\\\"}, {\\\"attributes\\\": {}, \\\"id\\\": \\\"2628\\\", \\\"type\\\": \\\"UnionRenderers\\\"}, {\\\"attributes\\\": {}, \\\"id\\\": \\\"2615\\\", \\\"type\\\": \\\"Selection\\\"}, {\\\"attributes\\\": {\\\"line_alpha\\\": 0.2, \\\"line_color\\\": \\\"#1f77b3\\\", \\\"line_width\\\": 2, \\\"x\\\": {\\\"field\\\": \\\"year\\\"}, \\\"y\\\": {\\\"field\\\": \\\"value\\\"}}, \\\"id\\\": \\\"2619\\\", \\\"type\\\": \\\"Line\\\"}, {\\\"attributes\\\": {}, \\\"id\\\": \\\"2633\\\", \\\"type\\\": \\\"Selection\\\"}]}\",\"header\":\"{\\\"msgid\\\": \\\"4725\\\", \\\"msgtype\\\": \\\"PATCH-DOC\\\"}\",\"metadata\":\"{}\"},\"Eureka Valley/Dolores Heights\":{\"content\":\"{\\\"events\\\": [{\\\"attr\\\": \\\"factors\\\", \\\"kind\\\": \\\"ModelChanged\\\", \\\"model\\\": {\\\"id\\\": \\\"2577\\\"}, \\\"new\\\": [\\\"2010\\\", \\\"2011\\\", \\\"2012\\\", \\\"2013\\\", \\\"2014\\\", \\\"2015\\\", \\\"2016\\\"]}, {\\\"cols\\\": null, \\\"column_source\\\": {\\\"id\\\": \\\"2614\\\"}, \\\"kind\\\": \\\"ColumnDataChanged\\\", \\\"new\\\": {\\\"Variable\\\": [\\\"gross_rent\\\", \\\"gross_rent\\\", \\\"gross_rent\\\", \\\"gross_rent\\\", \\\"gross_rent\\\", \\\"gross_rent\\\", \\\"gross_rent\\\"], \\\"value\\\": [1239, 1530, 2324, 2971, 3528, 3739, 4390], \\\"year\\\": [\\\"2010\\\", \\\"2011\\\", \\\"2012\\\", \\\"2013\\\", \\\"2014\\\", \\\"2015\\\", \\\"2016\\\"]}}, {\\\"cols\\\": null, \\\"column_source\\\": {\\\"id\\\": \\\"2632\\\"}, \\\"kind\\\": \\\"ColumnDataChanged\\\", \\\"new\\\": {\\\"Variable\\\": [\\\"sale_price_sqr_foot\\\", \\\"sale_price_sqr_foot\\\", \\\"sale_price_sqr_foot\\\", \\\"sale_price_sqr_foot\\\", \\\"sale_price_sqr_foot\\\", \\\"sale_price_sqr_foot\\\", \\\"sale_price_sqr_foot\\\"], \\\"value\\\": {\\\"__ndarray__\\\": \\\"TunNm+QxeUDoLWfYmtJ5QBwUV+GBZoBAWlX6So8Fg0CqdEN11seGQNdjWGVxsYhAgjgXGCoLkEA=\\\", \\\"dtype\\\": \\\"float64\\\", \\\"order\\\": \\\"little\\\", \\\"shape\\\": [7]}, \\\"year\\\": [\\\"2010\\\", \\\"2011\\\", \\\"2012\\\", \\\"2013\\\", \\\"2014\\\", \\\"2015\\\", \\\"2016\\\"]}}, {\\\"attr\\\": \\\"text\\\", \\\"kind\\\": \\\"ModelChanged\\\", \\\"model\\\": {\\\"id\\\": \\\"2582\\\"}, \\\"new\\\": \\\"neighborhood: Eureka Valley/Dolores Heights\\\"}, {\\\"attr\\\": \\\"right\\\", \\\"kind\\\": \\\"ModelChanged\\\", \\\"model\\\": {\\\"id\\\": \\\"2581\\\"}, \\\"new\\\": [{\\\"id\\\": \\\"2630\\\"}]}], \\\"references\\\": [{\\\"attributes\\\": {\\\"click_policy\\\": \\\"mute\\\", \\\"items\\\": [{\\\"id\\\": \\\"2631\\\"}, {\\\"id\\\": \\\"2650\\\"}], \\\"location\\\": [0, 0], \\\"title\\\": \\\"Variable\\\"}, \\\"id\\\": \\\"2630\\\", \\\"type\\\": \\\"Legend\\\"}, {\\\"attributes\\\": {\\\"line_alpha\\\": 0.1, \\\"line_color\\\": \\\"#1f77b3\\\", \\\"line_width\\\": 2, \\\"x\\\": {\\\"field\\\": \\\"year\\\"}, \\\"y\\\": {\\\"field\\\": \\\"value\\\"}}, \\\"id\\\": \\\"2618\\\", \\\"type\\\": \\\"Line\\\"}, {\\\"attributes\\\": {\\\"source\\\": {\\\"id\\\": \\\"2632\\\"}}, \\\"id\\\": \\\"2639\\\", \\\"type\\\": \\\"CDSView\\\"}, {\\\"attributes\\\": {\\\"label\\\": {\\\"value\\\": \\\"sale_price_sqr_foot\\\"}, \\\"renderers\\\": [{\\\"id\\\": \\\"2638\\\"}]}, \\\"id\\\": \\\"2650\\\", \\\"type\\\": \\\"LegendItem\\\"}, {\\\"attributes\\\": {\\\"data\\\": {\\\"Variable\\\": [\\\"gross_rent\\\", \\\"gross_rent\\\", \\\"gross_rent\\\", \\\"gross_rent\\\", \\\"gross_rent\\\", \\\"gross_rent\\\", \\\"gross_rent\\\"], \\\"value\\\": [1239, 1530, 2324, 2971, 3528, 3739, 4390], \\\"year\\\": [\\\"2010\\\", \\\"2011\\\", \\\"2012\\\", \\\"2013\\\", \\\"2014\\\", \\\"2015\\\", \\\"2016\\\"]}, \\\"selected\\\": {\\\"id\\\": \\\"2615\\\"}, \\\"selection_policy\\\": {\\\"id\\\": \\\"2628\\\"}}, \\\"id\\\": \\\"2614\\\", \\\"type\\\": \\\"ColumnDataSource\\\"}, {\\\"attributes\\\": {\\\"data_source\\\": {\\\"id\\\": \\\"2614\\\"}, \\\"glyph\\\": {\\\"id\\\": \\\"2617\\\"}, \\\"hover_glyph\\\": null, \\\"muted_glyph\\\": {\\\"id\\\": \\\"2619\\\"}, \\\"nonselection_glyph\\\": {\\\"id\\\": \\\"2618\\\"}, \\\"selection_glyph\\\": null, \\\"view\\\": {\\\"id\\\": \\\"2621\\\"}}, \\\"id\\\": \\\"2620\\\", \\\"type\\\": \\\"GlyphRenderer\\\"}, {\\\"attributes\\\": {\\\"line_color\\\": \\\"#ff7e0e\\\", \\\"line_width\\\": 2, \\\"x\\\": {\\\"field\\\": \\\"year\\\"}, \\\"y\\\": {\\\"field\\\": \\\"value\\\"}}, \\\"id\\\": \\\"2635\\\", \\\"type\\\": \\\"Line\\\"}, {\\\"attributes\\\": {\\\"line_alpha\\\": 0.2, \\\"line_color\\\": \\\"#ff7e0e\\\", \\\"line_width\\\": 2, \\\"x\\\": {\\\"field\\\": \\\"year\\\"}, \\\"y\\\": {\\\"field\\\": \\\"value\\\"}}, \\\"id\\\": \\\"2637\\\", \\\"type\\\": \\\"Line\\\"}, {\\\"attributes\\\": {\\\"data\\\": {\\\"Variable\\\": [\\\"sale_price_sqr_foot\\\", \\\"sale_price_sqr_foot\\\", \\\"sale_price_sqr_foot\\\", \\\"sale_price_sqr_foot\\\", \\\"sale_price_sqr_foot\\\", \\\"sale_price_sqr_foot\\\", \\\"sale_price_sqr_foot\\\"], \\\"value\\\": {\\\"__ndarray__\\\": \\\"TunNm+QxeUDoLWfYmtJ5QBwUV+GBZoBAWlX6So8Fg0CqdEN11seGQNdjWGVxsYhAgjgXGCoLkEA=\\\", \\\"dtype\\\": \\\"float64\\\", \\\"order\\\": \\\"little\\\", \\\"shape\\\": [7]}, \\\"year\\\": [\\\"2010\\\", \\\"2011\\\", \\\"2012\\\", \\\"2013\\\", \\\"2014\\\", \\\"2015\\\", \\\"2016\\\"]}, \\\"selected\\\": {\\\"id\\\": \\\"2633\\\"}, \\\"selection_policy\\\": {\\\"id\\\": \\\"2648\\\"}}, \\\"id\\\": \\\"2632\\\", \\\"type\\\": \\\"ColumnDataSource\\\"}, {\\\"attributes\\\": {\\\"source\\\": {\\\"id\\\": \\\"2614\\\"}}, \\\"id\\\": \\\"2621\\\", \\\"type\\\": \\\"CDSView\\\"}, {\\\"attributes\\\": {\\\"line_color\\\": \\\"#1f77b3\\\", \\\"line_width\\\": 2, \\\"x\\\": {\\\"field\\\": \\\"year\\\"}, \\\"y\\\": {\\\"field\\\": \\\"value\\\"}}, \\\"id\\\": \\\"2617\\\", \\\"type\\\": \\\"Line\\\"}, {\\\"attributes\\\": {\\\"line_alpha\\\": 0.1, \\\"line_color\\\": \\\"#ff7e0e\\\", \\\"line_width\\\": 2, \\\"x\\\": {\\\"field\\\": \\\"year\\\"}, \\\"y\\\": {\\\"field\\\": \\\"value\\\"}}, \\\"id\\\": \\\"2636\\\", \\\"type\\\": \\\"Line\\\"}, {\\\"attributes\\\": {}, \\\"id\\\": \\\"2648\\\", \\\"type\\\": \\\"UnionRenderers\\\"}, {\\\"attributes\\\": {\\\"data_source\\\": {\\\"id\\\": \\\"2632\\\"}, \\\"glyph\\\": {\\\"id\\\": \\\"2635\\\"}, \\\"hover_glyph\\\": null, \\\"muted_glyph\\\": {\\\"id\\\": \\\"2637\\\"}, \\\"nonselection_glyph\\\": {\\\"id\\\": \\\"2636\\\"}, \\\"selection_glyph\\\": null, \\\"view\\\": {\\\"id\\\": \\\"2639\\\"}}, \\\"id\\\": \\\"2638\\\", \\\"type\\\": \\\"GlyphRenderer\\\"}, {\\\"attributes\\\": {\\\"label\\\": {\\\"value\\\": \\\"gross_rent\\\"}, \\\"renderers\\\": [{\\\"id\\\": \\\"2620\\\"}]}, \\\"id\\\": \\\"2631\\\", \\\"type\\\": \\\"LegendItem\\\"}, {\\\"attributes\\\": {}, \\\"id\\\": \\\"2628\\\", \\\"type\\\": \\\"UnionRenderers\\\"}, {\\\"attributes\\\": {}, \\\"id\\\": \\\"2615\\\", \\\"type\\\": \\\"Selection\\\"}, {\\\"attributes\\\": {\\\"line_alpha\\\": 0.2, \\\"line_color\\\": \\\"#1f77b3\\\", \\\"line_width\\\": 2, \\\"x\\\": {\\\"field\\\": \\\"year\\\"}, \\\"y\\\": {\\\"field\\\": \\\"value\\\"}}, \\\"id\\\": \\\"2619\\\", \\\"type\\\": \\\"Line\\\"}, {\\\"attributes\\\": {}, \\\"id\\\": \\\"2633\\\", \\\"type\\\": \\\"Selection\\\"}]}\",\"header\":\"{\\\"msgid\\\": \\\"4692\\\", \\\"msgtype\\\": \\\"PATCH-DOC\\\"}\",\"metadata\":\"{}\"},\"Excelsior\":{\"content\":\"{\\\"events\\\": [{\\\"attr\\\": \\\"factors\\\", \\\"kind\\\": \\\"ModelChanged\\\", \\\"model\\\": {\\\"id\\\": \\\"2577\\\"}, \\\"new\\\": [\\\"2010\\\", \\\"2012\\\", \\\"2013\\\", \\\"2014\\\", \\\"2015\\\", \\\"2016\\\"]}, {\\\"cols\\\": null, \\\"column_source\\\": {\\\"id\\\": \\\"2614\\\"}, \\\"kind\\\": \\\"ColumnDataChanged\\\", \\\"new\\\": {\\\"Variable\\\": [\\\"gross_rent\\\", \\\"gross_rent\\\", \\\"gross_rent\\\", \\\"gross_rent\\\", \\\"gross_rent\\\", \\\"gross_rent\\\"], \\\"value\\\": [1239, 2324, 2971, 3528, 3739, 4390], \\\"year\\\": [\\\"2010\\\", \\\"2012\\\", \\\"2013\\\", \\\"2014\\\", \\\"2015\\\", \\\"2016\\\"]}}, {\\\"cols\\\": null, \\\"column_source\\\": {\\\"id\\\": \\\"2632\\\"}, \\\"kind\\\": \\\"ColumnDataChanged\\\", \\\"new\\\": {\\\"Variable\\\": [\\\"sale_price_sqr_foot\\\", \\\"sale_price_sqr_foot\\\", \\\"sale_price_sqr_foot\\\", \\\"sale_price_sqr_foot\\\", \\\"sale_price_sqr_foot\\\", \\\"sale_price_sqr_foot\\\"], \\\"value\\\": {\\\"__ndarray__\\\": \\\"rTyLdtrOdkBN5gLDezB3QMhKeKH+G3JAVqH/QeJkdkAIVY6WseV5QJMvOlzPsYBA\\\", \\\"dtype\\\": \\\"float64\\\", \\\"order\\\": \\\"little\\\", \\\"shape\\\": [6]}, \\\"year\\\": [\\\"2010\\\", \\\"2012\\\", \\\"2013\\\", \\\"2014\\\", \\\"2015\\\", \\\"2016\\\"]}}, {\\\"attr\\\": \\\"text\\\", \\\"kind\\\": \\\"ModelChanged\\\", \\\"model\\\": {\\\"id\\\": \\\"2582\\\"}, \\\"new\\\": \\\"neighborhood: Excelsior\\\"}, {\\\"attr\\\": \\\"right\\\", \\\"kind\\\": \\\"ModelChanged\\\", \\\"model\\\": {\\\"id\\\": \\\"2581\\\"}, \\\"new\\\": [{\\\"id\\\": \\\"2630\\\"}]}], \\\"references\\\": [{\\\"attributes\\\": {\\\"click_policy\\\": \\\"mute\\\", \\\"items\\\": [{\\\"id\\\": \\\"2631\\\"}, {\\\"id\\\": \\\"2650\\\"}], \\\"location\\\": [0, 0], \\\"title\\\": \\\"Variable\\\"}, \\\"id\\\": \\\"2630\\\", \\\"type\\\": \\\"Legend\\\"}, {\\\"attributes\\\": {\\\"line_alpha\\\": 0.1, \\\"line_color\\\": \\\"#1f77b3\\\", \\\"line_width\\\": 2, \\\"x\\\": {\\\"field\\\": \\\"year\\\"}, \\\"y\\\": {\\\"field\\\": \\\"value\\\"}}, \\\"id\\\": \\\"2618\\\", \\\"type\\\": \\\"Line\\\"}, {\\\"attributes\\\": {\\\"source\\\": {\\\"id\\\": \\\"2632\\\"}}, \\\"id\\\": \\\"2639\\\", \\\"type\\\": \\\"CDSView\\\"}, {\\\"attributes\\\": {\\\"label\\\": {\\\"value\\\": \\\"sale_price_sqr_foot\\\"}, \\\"renderers\\\": [{\\\"id\\\": \\\"2638\\\"}]}, \\\"id\\\": \\\"2650\\\", \\\"type\\\": \\\"LegendItem\\\"}, {\\\"attributes\\\": {\\\"data\\\": {\\\"Variable\\\": [\\\"gross_rent\\\", \\\"gross_rent\\\", \\\"gross_rent\\\", \\\"gross_rent\\\", \\\"gross_rent\\\", \\\"gross_rent\\\"], \\\"value\\\": [1239, 2324, 2971, 3528, 3739, 4390], \\\"year\\\": [\\\"2010\\\", \\\"2012\\\", \\\"2013\\\", \\\"2014\\\", \\\"2015\\\", \\\"2016\\\"]}, \\\"selected\\\": {\\\"id\\\": \\\"2615\\\"}, \\\"selection_policy\\\": {\\\"id\\\": \\\"2628\\\"}}, \\\"id\\\": \\\"2614\\\", \\\"type\\\": \\\"ColumnDataSource\\\"}, {\\\"attributes\\\": {\\\"data_source\\\": {\\\"id\\\": \\\"2614\\\"}, \\\"glyph\\\": {\\\"id\\\": \\\"2617\\\"}, \\\"hover_glyph\\\": null, \\\"muted_glyph\\\": {\\\"id\\\": \\\"2619\\\"}, \\\"nonselection_glyph\\\": {\\\"id\\\": \\\"2618\\\"}, \\\"selection_glyph\\\": null, \\\"view\\\": {\\\"id\\\": \\\"2621\\\"}}, \\\"id\\\": \\\"2620\\\", \\\"type\\\": \\\"GlyphRenderer\\\"}, {\\\"attributes\\\": {\\\"line_color\\\": \\\"#ff7e0e\\\", \\\"line_width\\\": 2, \\\"x\\\": {\\\"field\\\": \\\"year\\\"}, \\\"y\\\": {\\\"field\\\": \\\"value\\\"}}, \\\"id\\\": \\\"2635\\\", \\\"type\\\": \\\"Line\\\"}, {\\\"attributes\\\": {\\\"line_alpha\\\": 0.2, \\\"line_color\\\": \\\"#ff7e0e\\\", \\\"line_width\\\": 2, \\\"x\\\": {\\\"field\\\": \\\"year\\\"}, \\\"y\\\": {\\\"field\\\": \\\"value\\\"}}, \\\"id\\\": \\\"2637\\\", \\\"type\\\": \\\"Line\\\"}, {\\\"attributes\\\": {\\\"data\\\": {\\\"Variable\\\": [\\\"sale_price_sqr_foot\\\", \\\"sale_price_sqr_foot\\\", \\\"sale_price_sqr_foot\\\", \\\"sale_price_sqr_foot\\\", \\\"sale_price_sqr_foot\\\", \\\"sale_price_sqr_foot\\\"], \\\"value\\\": {\\\"__ndarray__\\\": \\\"rTyLdtrOdkBN5gLDezB3QMhKeKH+G3JAVqH/QeJkdkAIVY6WseV5QJMvOlzPsYBA\\\", \\\"dtype\\\": \\\"float64\\\", \\\"order\\\": \\\"little\\\", \\\"shape\\\": [6]}, \\\"year\\\": [\\\"2010\\\", \\\"2012\\\", \\\"2013\\\", \\\"2014\\\", \\\"2015\\\", \\\"2016\\\"]}, \\\"selected\\\": {\\\"id\\\": \\\"2633\\\"}, \\\"selection_policy\\\": {\\\"id\\\": \\\"2648\\\"}}, \\\"id\\\": \\\"2632\\\", \\\"type\\\": \\\"ColumnDataSource\\\"}, {\\\"attributes\\\": {\\\"source\\\": {\\\"id\\\": \\\"2614\\\"}}, \\\"id\\\": \\\"2621\\\", \\\"type\\\": \\\"CDSView\\\"}, {\\\"attributes\\\": {\\\"line_color\\\": \\\"#1f77b3\\\", \\\"line_width\\\": 2, \\\"x\\\": {\\\"field\\\": \\\"year\\\"}, \\\"y\\\": {\\\"field\\\": \\\"value\\\"}}, \\\"id\\\": \\\"2617\\\", \\\"type\\\": \\\"Line\\\"}, {\\\"attributes\\\": {\\\"line_alpha\\\": 0.1, \\\"line_color\\\": \\\"#ff7e0e\\\", \\\"line_width\\\": 2, \\\"x\\\": {\\\"field\\\": \\\"year\\\"}, \\\"y\\\": {\\\"field\\\": \\\"value\\\"}}, \\\"id\\\": \\\"2636\\\", \\\"type\\\": \\\"Line\\\"}, {\\\"attributes\\\": {}, \\\"id\\\": \\\"2648\\\", \\\"type\\\": \\\"UnionRenderers\\\"}, {\\\"attributes\\\": {\\\"data_source\\\": {\\\"id\\\": \\\"2632\\\"}, \\\"glyph\\\": {\\\"id\\\": \\\"2635\\\"}, \\\"hover_glyph\\\": null, \\\"muted_glyph\\\": {\\\"id\\\": \\\"2637\\\"}, \\\"nonselection_glyph\\\": {\\\"id\\\": \\\"2636\\\"}, \\\"selection_glyph\\\": null, \\\"view\\\": {\\\"id\\\": \\\"2639\\\"}}, \\\"id\\\": \\\"2638\\\", \\\"type\\\": \\\"GlyphRenderer\\\"}, {\\\"attributes\\\": {\\\"label\\\": {\\\"value\\\": \\\"gross_rent\\\"}, \\\"renderers\\\": [{\\\"id\\\": \\\"2620\\\"}]}, \\\"id\\\": \\\"2631\\\", \\\"type\\\": \\\"LegendItem\\\"}, {\\\"attributes\\\": {}, \\\"id\\\": \\\"2628\\\", \\\"type\\\": \\\"UnionRenderers\\\"}, {\\\"attributes\\\": {}, \\\"id\\\": \\\"2615\\\", \\\"type\\\": \\\"Selection\\\"}, {\\\"attributes\\\": {\\\"line_alpha\\\": 0.2, \\\"line_color\\\": \\\"#1f77b3\\\", \\\"line_width\\\": 2, \\\"x\\\": {\\\"field\\\": \\\"year\\\"}, \\\"y\\\": {\\\"field\\\": \\\"value\\\"}}, \\\"id\\\": \\\"2619\\\", \\\"type\\\": \\\"Line\\\"}, {\\\"attributes\\\": {}, \\\"id\\\": \\\"2633\\\", \\\"type\\\": \\\"Selection\\\"}]}\",\"header\":\"{\\\"msgid\\\": \\\"4659\\\", \\\"msgtype\\\": \\\"PATCH-DOC\\\"}\",\"metadata\":\"{}\"},\"Financial District North\":{\"content\":\"{\\\"events\\\": [{\\\"attr\\\": \\\"factors\\\", \\\"kind\\\": \\\"ModelChanged\\\", \\\"model\\\": {\\\"id\\\": \\\"2577\\\"}, \\\"new\\\": [\\\"2010\\\", \\\"2011\\\", \\\"2012\\\", \\\"2013\\\", \\\"2014\\\", \\\"2015\\\", \\\"2016\\\"]}, {\\\"cols\\\": null, \\\"column_source\\\": {\\\"id\\\": \\\"2614\\\"}, \\\"kind\\\": \\\"ColumnDataChanged\\\", \\\"new\\\": {\\\"Variable\\\": [\\\"gross_rent\\\", \\\"gross_rent\\\", \\\"gross_rent\\\", \\\"gross_rent\\\", \\\"gross_rent\\\", \\\"gross_rent\\\", \\\"gross_rent\\\"], \\\"value\\\": [1239, 1530, 2324, 2971, 3528, 3739, 4390], \\\"year\\\": [\\\"2010\\\", \\\"2011\\\", \\\"2012\\\", \\\"2013\\\", \\\"2014\\\", \\\"2015\\\", \\\"2016\\\"]}}, {\\\"cols\\\": null, \\\"column_source\\\": {\\\"id\\\": \\\"2632\\\"}, \\\"kind\\\": \\\"ColumnDataChanged\\\", \\\"new\\\": {\\\"Variable\\\": [\\\"sale_price_sqr_foot\\\", \\\"sale_price_sqr_foot\\\", \\\"sale_price_sqr_foot\\\", \\\"sale_price_sqr_foot\\\", \\\"sale_price_sqr_foot\\\", \\\"sale_price_sqr_foot\\\", \\\"sale_price_sqr_foot\\\"], \\\"value\\\": {\\\"__ndarray__\\\": \\\"7AP43P8beUDn1P+nAZVxQHHD8reh5XFAr72zvFMncUAogOryGZ95QNWXMVjesoVAAAAAAAAA+H8=\\\", \\\"dtype\\\": \\\"float64\\\", \\\"order\\\": \\\"little\\\", \\\"shape\\\": [7]}, \\\"year\\\": [\\\"2010\\\", \\\"2011\\\", \\\"2012\\\", \\\"2013\\\", \\\"2014\\\", \\\"2015\\\", \\\"2016\\\"]}}, {\\\"attr\\\": \\\"text\\\", \\\"kind\\\": \\\"ModelChanged\\\", \\\"model\\\": {\\\"id\\\": \\\"2582\\\"}, \\\"new\\\": \\\"neighborhood: Financial District North\\\"}, {\\\"attr\\\": \\\"right\\\", \\\"kind\\\": \\\"ModelChanged\\\", \\\"model\\\": {\\\"id\\\": \\\"2581\\\"}, \\\"new\\\": [{\\\"id\\\": \\\"2630\\\"}]}], \\\"references\\\": [{\\\"attributes\\\": {\\\"click_policy\\\": \\\"mute\\\", \\\"items\\\": [{\\\"id\\\": \\\"2631\\\"}, {\\\"id\\\": \\\"2650\\\"}], \\\"location\\\": [0, 0], \\\"title\\\": \\\"Variable\\\"}, \\\"id\\\": \\\"2630\\\", \\\"type\\\": \\\"Legend\\\"}, {\\\"attributes\\\": {\\\"line_alpha\\\": 0.1, \\\"line_color\\\": \\\"#1f77b3\\\", \\\"line_width\\\": 2, \\\"x\\\": {\\\"field\\\": \\\"year\\\"}, \\\"y\\\": {\\\"field\\\": \\\"value\\\"}}, \\\"id\\\": \\\"2618\\\", \\\"type\\\": \\\"Line\\\"}, {\\\"attributes\\\": {\\\"source\\\": {\\\"id\\\": \\\"2632\\\"}}, \\\"id\\\": \\\"2639\\\", \\\"type\\\": \\\"CDSView\\\"}, {\\\"attributes\\\": {\\\"label\\\": {\\\"value\\\": \\\"sale_price_sqr_foot\\\"}, \\\"renderers\\\": [{\\\"id\\\": \\\"2638\\\"}]}, \\\"id\\\": \\\"2650\\\", \\\"type\\\": \\\"LegendItem\\\"}, {\\\"attributes\\\": {\\\"data\\\": {\\\"Variable\\\": [\\\"gross_rent\\\", \\\"gross_rent\\\", \\\"gross_rent\\\", \\\"gross_rent\\\", \\\"gross_rent\\\", \\\"gross_rent\\\", \\\"gross_rent\\\"], \\\"value\\\": [1239, 1530, 2324, 2971, 3528, 3739, 4390], \\\"year\\\": [\\\"2010\\\", \\\"2011\\\", \\\"2012\\\", \\\"2013\\\", \\\"2014\\\", \\\"2015\\\", \\\"2016\\\"]}, \\\"selected\\\": {\\\"id\\\": \\\"2615\\\"}, \\\"selection_policy\\\": {\\\"id\\\": \\\"2628\\\"}}, \\\"id\\\": \\\"2614\\\", \\\"type\\\": \\\"ColumnDataSource\\\"}, {\\\"attributes\\\": {\\\"data_source\\\": {\\\"id\\\": \\\"2614\\\"}, \\\"glyph\\\": {\\\"id\\\": \\\"2617\\\"}, \\\"hover_glyph\\\": null, \\\"muted_glyph\\\": {\\\"id\\\": \\\"2619\\\"}, \\\"nonselection_glyph\\\": {\\\"id\\\": \\\"2618\\\"}, \\\"selection_glyph\\\": null, \\\"view\\\": {\\\"id\\\": \\\"2621\\\"}}, \\\"id\\\": \\\"2620\\\", \\\"type\\\": \\\"GlyphRenderer\\\"}, {\\\"attributes\\\": {\\\"line_color\\\": \\\"#ff7e0e\\\", \\\"line_width\\\": 2, \\\"x\\\": {\\\"field\\\": \\\"year\\\"}, \\\"y\\\": {\\\"field\\\": \\\"value\\\"}}, \\\"id\\\": \\\"2635\\\", \\\"type\\\": \\\"Line\\\"}, {\\\"attributes\\\": {\\\"line_alpha\\\": 0.2, \\\"line_color\\\": \\\"#ff7e0e\\\", \\\"line_width\\\": 2, \\\"x\\\": {\\\"field\\\": \\\"year\\\"}, \\\"y\\\": {\\\"field\\\": \\\"value\\\"}}, \\\"id\\\": \\\"2637\\\", \\\"type\\\": \\\"Line\\\"}, {\\\"attributes\\\": {\\\"data\\\": {\\\"Variable\\\": [\\\"sale_price_sqr_foot\\\", \\\"sale_price_sqr_foot\\\", \\\"sale_price_sqr_foot\\\", \\\"sale_price_sqr_foot\\\", \\\"sale_price_sqr_foot\\\", \\\"sale_price_sqr_foot\\\", \\\"sale_price_sqr_foot\\\"], \\\"value\\\": {\\\"__ndarray__\\\": \\\"7AP43P8beUDn1P+nAZVxQHHD8reh5XFAr72zvFMncUAogOryGZ95QNWXMVjesoVAAAAAAAAA+H8=\\\", \\\"dtype\\\": \\\"float64\\\", \\\"order\\\": \\\"little\\\", \\\"shape\\\": [7]}, \\\"year\\\": [\\\"2010\\\", \\\"2011\\\", \\\"2012\\\", \\\"2013\\\", \\\"2014\\\", \\\"2015\\\", \\\"2016\\\"]}, \\\"selected\\\": {\\\"id\\\": \\\"2633\\\"}, \\\"selection_policy\\\": {\\\"id\\\": \\\"2648\\\"}}, \\\"id\\\": \\\"2632\\\", \\\"type\\\": \\\"ColumnDataSource\\\"}, {\\\"attributes\\\": {\\\"source\\\": {\\\"id\\\": \\\"2614\\\"}}, \\\"id\\\": \\\"2621\\\", \\\"type\\\": \\\"CDSView\\\"}, {\\\"attributes\\\": {\\\"line_color\\\": \\\"#1f77b3\\\", \\\"line_width\\\": 2, \\\"x\\\": {\\\"field\\\": \\\"year\\\"}, \\\"y\\\": {\\\"field\\\": \\\"value\\\"}}, \\\"id\\\": \\\"2617\\\", \\\"type\\\": \\\"Line\\\"}, {\\\"attributes\\\": {\\\"line_alpha\\\": 0.1, \\\"line_color\\\": \\\"#ff7e0e\\\", \\\"line_width\\\": 2, \\\"x\\\": {\\\"field\\\": \\\"year\\\"}, \\\"y\\\": {\\\"field\\\": \\\"value\\\"}}, \\\"id\\\": \\\"2636\\\", \\\"type\\\": \\\"Line\\\"}, {\\\"attributes\\\": {}, \\\"id\\\": \\\"2648\\\", \\\"type\\\": \\\"UnionRenderers\\\"}, {\\\"attributes\\\": {\\\"data_source\\\": {\\\"id\\\": \\\"2632\\\"}, \\\"glyph\\\": {\\\"id\\\": \\\"2635\\\"}, \\\"hover_glyph\\\": null, \\\"muted_glyph\\\": {\\\"id\\\": \\\"2637\\\"}, \\\"nonselection_glyph\\\": {\\\"id\\\": \\\"2636\\\"}, \\\"selection_glyph\\\": null, \\\"view\\\": {\\\"id\\\": \\\"2639\\\"}}, \\\"id\\\": \\\"2638\\\", \\\"type\\\": \\\"GlyphRenderer\\\"}, {\\\"attributes\\\": {\\\"label\\\": {\\\"value\\\": \\\"gross_rent\\\"}, \\\"renderers\\\": [{\\\"id\\\": \\\"2620\\\"}]}, \\\"id\\\": \\\"2631\\\", \\\"type\\\": \\\"LegendItem\\\"}, {\\\"attributes\\\": {}, \\\"id\\\": \\\"2628\\\", \\\"type\\\": \\\"UnionRenderers\\\"}, {\\\"attributes\\\": {}, \\\"id\\\": \\\"2615\\\", \\\"type\\\": \\\"Selection\\\"}, {\\\"attributes\\\": {\\\"line_alpha\\\": 0.2, \\\"line_color\\\": \\\"#1f77b3\\\", \\\"line_width\\\": 2, \\\"x\\\": {\\\"field\\\": \\\"year\\\"}, \\\"y\\\": {\\\"field\\\": \\\"value\\\"}}, \\\"id\\\": \\\"2619\\\", \\\"type\\\": \\\"Line\\\"}, {\\\"attributes\\\": {}, \\\"id\\\": \\\"2633\\\", \\\"type\\\": \\\"Selection\\\"}]}\",\"header\":\"{\\\"msgid\\\": \\\"4626\\\", \\\"msgtype\\\": \\\"PATCH-DOC\\\"}\",\"metadata\":\"{}\"},\"Financial District South\":{\"content\":\"{\\\"events\\\": [{\\\"attr\\\": \\\"factors\\\", \\\"kind\\\": \\\"ModelChanged\\\", \\\"model\\\": {\\\"id\\\": \\\"2577\\\"}, \\\"new\\\": [\\\"2010\\\", \\\"2011\\\", \\\"2012\\\", \\\"2014\\\", \\\"2015\\\"]}, {\\\"cols\\\": null, \\\"column_source\\\": {\\\"id\\\": \\\"2614\\\"}, \\\"kind\\\": \\\"ColumnDataChanged\\\", \\\"new\\\": {\\\"Variable\\\": [\\\"gross_rent\\\", \\\"gross_rent\\\", \\\"gross_rent\\\", \\\"gross_rent\\\", \\\"gross_rent\\\"], \\\"value\\\": [1239, 1530, 2324, 3528, 3739], \\\"year\\\": [\\\"2010\\\", \\\"2011\\\", \\\"2012\\\", \\\"2014\\\", \\\"2015\\\"]}}, {\\\"cols\\\": null, \\\"column_source\\\": {\\\"id\\\": \\\"2632\\\"}, \\\"kind\\\": \\\"ColumnDataChanged\\\", \\\"new\\\": {\\\"Variable\\\": [\\\"sale_price_sqr_foot\\\", \\\"sale_price_sqr_foot\\\", \\\"sale_price_sqr_foot\\\", \\\"sale_price_sqr_foot\\\", \\\"sale_price_sqr_foot\\\"], \\\"value\\\": {\\\"__ndarray__\\\": \\\"0ENLWkdaZECjdAggpip2QCLvSpm+LoNAXi0AXVizhUDRgqbm7VZ8QA==\\\", \\\"dtype\\\": \\\"float64\\\", \\\"order\\\": \\\"little\\\", \\\"shape\\\": [5]}, \\\"year\\\": [\\\"2010\\\", \\\"2011\\\", \\\"2012\\\", \\\"2014\\\", \\\"2015\\\"]}}, {\\\"attr\\\": \\\"text\\\", \\\"kind\\\": \\\"ModelChanged\\\", \\\"model\\\": {\\\"id\\\": \\\"2582\\\"}, \\\"new\\\": \\\"neighborhood: Financial District South\\\"}, {\\\"attr\\\": \\\"right\\\", \\\"kind\\\": \\\"ModelChanged\\\", \\\"model\\\": {\\\"id\\\": \\\"2581\\\"}, \\\"new\\\": [{\\\"id\\\": \\\"2630\\\"}]}], \\\"references\\\": [{\\\"attributes\\\": {\\\"click_policy\\\": \\\"mute\\\", \\\"items\\\": [{\\\"id\\\": \\\"2631\\\"}, {\\\"id\\\": \\\"2650\\\"}], \\\"location\\\": [0, 0], \\\"title\\\": \\\"Variable\\\"}, \\\"id\\\": \\\"2630\\\", \\\"type\\\": \\\"Legend\\\"}, {\\\"attributes\\\": {\\\"line_alpha\\\": 0.1, \\\"line_color\\\": \\\"#1f77b3\\\", \\\"line_width\\\": 2, \\\"x\\\": {\\\"field\\\": \\\"year\\\"}, \\\"y\\\": {\\\"field\\\": \\\"value\\\"}}, \\\"id\\\": \\\"2618\\\", \\\"type\\\": \\\"Line\\\"}, {\\\"attributes\\\": {\\\"source\\\": {\\\"id\\\": \\\"2632\\\"}}, \\\"id\\\": \\\"2639\\\", \\\"type\\\": \\\"CDSView\\\"}, {\\\"attributes\\\": {\\\"label\\\": {\\\"value\\\": \\\"sale_price_sqr_foot\\\"}, \\\"renderers\\\": [{\\\"id\\\": \\\"2638\\\"}]}, \\\"id\\\": \\\"2650\\\", \\\"type\\\": \\\"LegendItem\\\"}, {\\\"attributes\\\": {\\\"data\\\": {\\\"Variable\\\": [\\\"gross_rent\\\", \\\"gross_rent\\\", \\\"gross_rent\\\", \\\"gross_rent\\\", \\\"gross_rent\\\"], \\\"value\\\": [1239, 1530, 2324, 3528, 3739], \\\"year\\\": [\\\"2010\\\", \\\"2011\\\", \\\"2012\\\", \\\"2014\\\", \\\"2015\\\"]}, \\\"selected\\\": {\\\"id\\\": \\\"2615\\\"}, \\\"selection_policy\\\": {\\\"id\\\": \\\"2628\\\"}}, \\\"id\\\": \\\"2614\\\", \\\"type\\\": \\\"ColumnDataSource\\\"}, {\\\"attributes\\\": {\\\"data_source\\\": {\\\"id\\\": \\\"2614\\\"}, \\\"glyph\\\": {\\\"id\\\": \\\"2617\\\"}, \\\"hover_glyph\\\": null, \\\"muted_glyph\\\": {\\\"id\\\": \\\"2619\\\"}, \\\"nonselection_glyph\\\": {\\\"id\\\": \\\"2618\\\"}, \\\"selection_glyph\\\": null, \\\"view\\\": {\\\"id\\\": \\\"2621\\\"}}, \\\"id\\\": \\\"2620\\\", \\\"type\\\": \\\"GlyphRenderer\\\"}, {\\\"attributes\\\": {\\\"line_color\\\": \\\"#ff7e0e\\\", \\\"line_width\\\": 2, \\\"x\\\": {\\\"field\\\": \\\"year\\\"}, \\\"y\\\": {\\\"field\\\": \\\"value\\\"}}, \\\"id\\\": \\\"2635\\\", \\\"type\\\": \\\"Line\\\"}, {\\\"attributes\\\": {\\\"line_alpha\\\": 0.2, \\\"line_color\\\": \\\"#ff7e0e\\\", \\\"line_width\\\": 2, \\\"x\\\": {\\\"field\\\": \\\"year\\\"}, \\\"y\\\": {\\\"field\\\": \\\"value\\\"}}, \\\"id\\\": \\\"2637\\\", \\\"type\\\": \\\"Line\\\"}, {\\\"attributes\\\": {\\\"data\\\": {\\\"Variable\\\": [\\\"sale_price_sqr_foot\\\", \\\"sale_price_sqr_foot\\\", \\\"sale_price_sqr_foot\\\", \\\"sale_price_sqr_foot\\\", \\\"sale_price_sqr_foot\\\"], \\\"value\\\": {\\\"__ndarray__\\\": \\\"0ENLWkdaZECjdAggpip2QCLvSpm+LoNAXi0AXVizhUDRgqbm7VZ8QA==\\\", \\\"dtype\\\": \\\"float64\\\", \\\"order\\\": \\\"little\\\", \\\"shape\\\": [5]}, \\\"year\\\": [\\\"2010\\\", \\\"2011\\\", \\\"2012\\\", \\\"2014\\\", \\\"2015\\\"]}, \\\"selected\\\": {\\\"id\\\": \\\"2633\\\"}, \\\"selection_policy\\\": {\\\"id\\\": \\\"2648\\\"}}, \\\"id\\\": \\\"2632\\\", \\\"type\\\": \\\"ColumnDataSource\\\"}, {\\\"attributes\\\": {\\\"source\\\": {\\\"id\\\": \\\"2614\\\"}}, \\\"id\\\": \\\"2621\\\", \\\"type\\\": \\\"CDSView\\\"}, {\\\"attributes\\\": {\\\"line_color\\\": \\\"#1f77b3\\\", \\\"line_width\\\": 2, \\\"x\\\": {\\\"field\\\": \\\"year\\\"}, \\\"y\\\": {\\\"field\\\": \\\"value\\\"}}, \\\"id\\\": \\\"2617\\\", \\\"type\\\": \\\"Line\\\"}, {\\\"attributes\\\": {\\\"line_alpha\\\": 0.1, \\\"line_color\\\": \\\"#ff7e0e\\\", \\\"line_width\\\": 2, \\\"x\\\": {\\\"field\\\": \\\"year\\\"}, \\\"y\\\": {\\\"field\\\": \\\"value\\\"}}, \\\"id\\\": \\\"2636\\\", \\\"type\\\": \\\"Line\\\"}, {\\\"attributes\\\": {}, \\\"id\\\": \\\"2648\\\", \\\"type\\\": \\\"UnionRenderers\\\"}, {\\\"attributes\\\": {\\\"data_source\\\": {\\\"id\\\": \\\"2632\\\"}, \\\"glyph\\\": {\\\"id\\\": \\\"2635\\\"}, \\\"hover_glyph\\\": null, \\\"muted_glyph\\\": {\\\"id\\\": \\\"2637\\\"}, \\\"nonselection_glyph\\\": {\\\"id\\\": \\\"2636\\\"}, \\\"selection_glyph\\\": null, \\\"view\\\": {\\\"id\\\": \\\"2639\\\"}}, \\\"id\\\": \\\"2638\\\", \\\"type\\\": \\\"GlyphRenderer\\\"}, {\\\"attributes\\\": {\\\"label\\\": {\\\"value\\\": \\\"gross_rent\\\"}, \\\"renderers\\\": [{\\\"id\\\": \\\"2620\\\"}]}, \\\"id\\\": \\\"2631\\\", \\\"type\\\": \\\"LegendItem\\\"}, {\\\"attributes\\\": {}, \\\"id\\\": \\\"2628\\\", \\\"type\\\": \\\"UnionRenderers\\\"}, {\\\"attributes\\\": {}, \\\"id\\\": \\\"2615\\\", \\\"type\\\": \\\"Selection\\\"}, {\\\"attributes\\\": {\\\"line_alpha\\\": 0.2, \\\"line_color\\\": \\\"#1f77b3\\\", \\\"line_width\\\": 2, \\\"x\\\": {\\\"field\\\": \\\"year\\\"}, \\\"y\\\": {\\\"field\\\": \\\"value\\\"}}, \\\"id\\\": \\\"2619\\\", \\\"type\\\": \\\"Line\\\"}, {\\\"attributes\\\": {}, \\\"id\\\": \\\"2633\\\", \\\"type\\\": \\\"Selection\\\"}]}\",\"header\":\"{\\\"msgid\\\": \\\"4593\\\", \\\"msgtype\\\": \\\"PATCH-DOC\\\"}\",\"metadata\":\"{}\"},\"Forest Knolls\":{\"content\":\"{\\\"events\\\": [{\\\"attr\\\": \\\"factors\\\", \\\"kind\\\": \\\"ModelChanged\\\", \\\"model\\\": {\\\"id\\\": \\\"2577\\\"}, \\\"new\\\": [\\\"2010\\\", \\\"2012\\\"]}, {\\\"cols\\\": null, \\\"column_source\\\": {\\\"id\\\": \\\"2614\\\"}, \\\"kind\\\": \\\"ColumnDataChanged\\\", \\\"new\\\": {\\\"Variable\\\": [\\\"gross_rent\\\", \\\"gross_rent\\\"], \\\"value\\\": [1239, 2324], \\\"year\\\": [\\\"2010\\\", \\\"2012\\\"]}}, {\\\"cols\\\": null, \\\"column_source\\\": {\\\"id\\\": \\\"2632\\\"}, \\\"kind\\\": \\\"ColumnDataChanged\\\", \\\"new\\\": {\\\"Variable\\\": [\\\"sale_price_sqr_foot\\\", \\\"sale_price_sqr_foot\\\"], \\\"value\\\": {\\\"__ndarray__\\\": \\\"tVpzFZQhakB0pGAXHip7QA==\\\", \\\"dtype\\\": \\\"float64\\\", \\\"order\\\": \\\"little\\\", \\\"shape\\\": [2]}, \\\"year\\\": [\\\"2010\\\", \\\"2012\\\"]}}, {\\\"attr\\\": \\\"text\\\", \\\"kind\\\": \\\"ModelChanged\\\", \\\"model\\\": {\\\"id\\\": \\\"2582\\\"}, \\\"new\\\": \\\"neighborhood: Forest Knolls\\\"}, {\\\"attr\\\": \\\"right\\\", \\\"kind\\\": \\\"ModelChanged\\\", \\\"model\\\": {\\\"id\\\": \\\"2581\\\"}, \\\"new\\\": [{\\\"id\\\": \\\"2630\\\"}]}], \\\"references\\\": [{\\\"attributes\\\": {\\\"click_policy\\\": \\\"mute\\\", \\\"items\\\": [{\\\"id\\\": \\\"2631\\\"}, {\\\"id\\\": \\\"2650\\\"}], \\\"location\\\": [0, 0], \\\"title\\\": \\\"Variable\\\"}, \\\"id\\\": \\\"2630\\\", \\\"type\\\": \\\"Legend\\\"}, {\\\"attributes\\\": {\\\"line_alpha\\\": 0.1, \\\"line_color\\\": \\\"#1f77b3\\\", \\\"line_width\\\": 2, \\\"x\\\": {\\\"field\\\": \\\"year\\\"}, \\\"y\\\": {\\\"field\\\": \\\"value\\\"}}, \\\"id\\\": \\\"2618\\\", \\\"type\\\": \\\"Line\\\"}, {\\\"attributes\\\": {\\\"source\\\": {\\\"id\\\": \\\"2632\\\"}}, \\\"id\\\": \\\"2639\\\", \\\"type\\\": \\\"CDSView\\\"}, {\\\"attributes\\\": {\\\"label\\\": {\\\"value\\\": \\\"sale_price_sqr_foot\\\"}, \\\"renderers\\\": [{\\\"id\\\": \\\"2638\\\"}]}, \\\"id\\\": \\\"2650\\\", \\\"type\\\": \\\"LegendItem\\\"}, {\\\"attributes\\\": {\\\"data\\\": {\\\"Variable\\\": [\\\"gross_rent\\\", \\\"gross_rent\\\"], \\\"value\\\": [1239, 2324], \\\"year\\\": [\\\"2010\\\", \\\"2012\\\"]}, \\\"selected\\\": {\\\"id\\\": \\\"2615\\\"}, \\\"selection_policy\\\": {\\\"id\\\": \\\"2628\\\"}}, \\\"id\\\": \\\"2614\\\", \\\"type\\\": \\\"ColumnDataSource\\\"}, {\\\"attributes\\\": {\\\"data_source\\\": {\\\"id\\\": \\\"2614\\\"}, \\\"glyph\\\": {\\\"id\\\": \\\"2617\\\"}, \\\"hover_glyph\\\": null, \\\"muted_glyph\\\": {\\\"id\\\": \\\"2619\\\"}, \\\"nonselection_glyph\\\": {\\\"id\\\": \\\"2618\\\"}, \\\"selection_glyph\\\": null, \\\"view\\\": {\\\"id\\\": \\\"2621\\\"}}, \\\"id\\\": \\\"2620\\\", \\\"type\\\": \\\"GlyphRenderer\\\"}, {\\\"attributes\\\": {\\\"line_color\\\": \\\"#ff7e0e\\\", \\\"line_width\\\": 2, \\\"x\\\": {\\\"field\\\": \\\"year\\\"}, \\\"y\\\": {\\\"field\\\": \\\"value\\\"}}, \\\"id\\\": \\\"2635\\\", \\\"type\\\": \\\"Line\\\"}, {\\\"attributes\\\": {\\\"line_alpha\\\": 0.2, \\\"line_color\\\": \\\"#ff7e0e\\\", \\\"line_width\\\": 2, \\\"x\\\": {\\\"field\\\": \\\"year\\\"}, \\\"y\\\": {\\\"field\\\": \\\"value\\\"}}, \\\"id\\\": \\\"2637\\\", \\\"type\\\": \\\"Line\\\"}, {\\\"attributes\\\": {\\\"data\\\": {\\\"Variable\\\": [\\\"sale_price_sqr_foot\\\", \\\"sale_price_sqr_foot\\\"], \\\"value\\\": {\\\"__ndarray__\\\": \\\"tVpzFZQhakB0pGAXHip7QA==\\\", \\\"dtype\\\": \\\"float64\\\", \\\"order\\\": \\\"little\\\", \\\"shape\\\": [2]}, \\\"year\\\": [\\\"2010\\\", \\\"2012\\\"]}, \\\"selected\\\": {\\\"id\\\": \\\"2633\\\"}, \\\"selection_policy\\\": {\\\"id\\\": \\\"2648\\\"}}, \\\"id\\\": \\\"2632\\\", \\\"type\\\": \\\"ColumnDataSource\\\"}, {\\\"attributes\\\": {\\\"source\\\": {\\\"id\\\": \\\"2614\\\"}}, \\\"id\\\": \\\"2621\\\", \\\"type\\\": \\\"CDSView\\\"}, {\\\"attributes\\\": {\\\"line_color\\\": \\\"#1f77b3\\\", \\\"line_width\\\": 2, \\\"x\\\": {\\\"field\\\": \\\"year\\\"}, \\\"y\\\": {\\\"field\\\": \\\"value\\\"}}, \\\"id\\\": \\\"2617\\\", \\\"type\\\": \\\"Line\\\"}, {\\\"attributes\\\": {\\\"line_alpha\\\": 0.1, \\\"line_color\\\": \\\"#ff7e0e\\\", \\\"line_width\\\": 2, \\\"x\\\": {\\\"field\\\": \\\"year\\\"}, \\\"y\\\": {\\\"field\\\": \\\"value\\\"}}, \\\"id\\\": \\\"2636\\\", \\\"type\\\": \\\"Line\\\"}, {\\\"attributes\\\": {}, \\\"id\\\": \\\"2648\\\", \\\"type\\\": \\\"UnionRenderers\\\"}, {\\\"attributes\\\": {\\\"data_source\\\": {\\\"id\\\": \\\"2632\\\"}, \\\"glyph\\\": {\\\"id\\\": \\\"2635\\\"}, \\\"hover_glyph\\\": null, \\\"muted_glyph\\\": {\\\"id\\\": \\\"2637\\\"}, \\\"nonselection_glyph\\\": {\\\"id\\\": \\\"2636\\\"}, \\\"selection_glyph\\\": null, \\\"view\\\": {\\\"id\\\": \\\"2639\\\"}}, \\\"id\\\": \\\"2638\\\", \\\"type\\\": \\\"GlyphRenderer\\\"}, {\\\"attributes\\\": {\\\"label\\\": {\\\"value\\\": \\\"gross_rent\\\"}, \\\"renderers\\\": [{\\\"id\\\": \\\"2620\\\"}]}, \\\"id\\\": \\\"2631\\\", \\\"type\\\": \\\"LegendItem\\\"}, {\\\"attributes\\\": {}, \\\"id\\\": \\\"2628\\\", \\\"type\\\": \\\"UnionRenderers\\\"}, {\\\"attributes\\\": {}, \\\"id\\\": \\\"2615\\\", \\\"type\\\": \\\"Selection\\\"}, {\\\"attributes\\\": {\\\"line_alpha\\\": 0.2, \\\"line_color\\\": \\\"#1f77b3\\\", \\\"line_width\\\": 2, \\\"x\\\": {\\\"field\\\": \\\"year\\\"}, \\\"y\\\": {\\\"field\\\": \\\"value\\\"}}, \\\"id\\\": \\\"2619\\\", \\\"type\\\": \\\"Line\\\"}, {\\\"attributes\\\": {}, \\\"id\\\": \\\"2633\\\", \\\"type\\\": \\\"Selection\\\"}]}\",\"header\":\"{\\\"msgid\\\": \\\"4560\\\", \\\"msgtype\\\": \\\"PATCH-DOC\\\"}\",\"metadata\":\"{}\"},\"Glen Park\":{\"content\":\"{\\\"events\\\": [{\\\"attr\\\": \\\"factors\\\", \\\"kind\\\": \\\"ModelChanged\\\", \\\"model\\\": {\\\"id\\\": \\\"2577\\\"}, \\\"new\\\": [\\\"2010\\\", \\\"2011\\\", \\\"2013\\\", \\\"2014\\\", \\\"2015\\\", \\\"2016\\\"]}, {\\\"cols\\\": null, \\\"column_source\\\": {\\\"id\\\": \\\"2614\\\"}, \\\"kind\\\": \\\"ColumnDataChanged\\\", \\\"new\\\": {\\\"Variable\\\": [\\\"gross_rent\\\", \\\"gross_rent\\\", \\\"gross_rent\\\", \\\"gross_rent\\\", \\\"gross_rent\\\", \\\"gross_rent\\\"], \\\"value\\\": [1239, 1530, 2971, 3528, 3739, 4390], \\\"year\\\": [\\\"2010\\\", \\\"2011\\\", \\\"2013\\\", \\\"2014\\\", \\\"2015\\\", \\\"2016\\\"]}}, {\\\"cols\\\": null, \\\"column_source\\\": {\\\"id\\\": \\\"2632\\\"}, \\\"kind\\\": \\\"ColumnDataChanged\\\", \\\"new\\\": {\\\"Variable\\\": [\\\"sale_price_sqr_foot\\\", \\\"sale_price_sqr_foot\\\", \\\"sale_price_sqr_foot\\\", \\\"sale_price_sqr_foot\\\", \\\"sale_price_sqr_foot\\\", \\\"sale_price_sqr_foot\\\"], \\\"value\\\": {\\\"__ndarray__\\\": \\\"aB91BrFchkAOKiRFn5Z8QED5MZOKq3xA/rlAhIBMgUBFlH1o2SCDQF9/cTKIjI1A\\\", \\\"dtype\\\": \\\"float64\\\", \\\"order\\\": \\\"little\\\", \\\"shape\\\": [6]}, \\\"year\\\": [\\\"2010\\\", \\\"2011\\\", \\\"2013\\\", \\\"2014\\\", \\\"2015\\\", \\\"2016\\\"]}}, {\\\"attr\\\": \\\"text\\\", \\\"kind\\\": \\\"ModelChanged\\\", \\\"model\\\": {\\\"id\\\": \\\"2582\\\"}, \\\"new\\\": \\\"neighborhood: Glen Park\\\"}, {\\\"attr\\\": \\\"right\\\", \\\"kind\\\": \\\"ModelChanged\\\", \\\"model\\\": {\\\"id\\\": \\\"2581\\\"}, \\\"new\\\": [{\\\"id\\\": \\\"2630\\\"}]}], \\\"references\\\": [{\\\"attributes\\\": {\\\"click_policy\\\": \\\"mute\\\", \\\"items\\\": [{\\\"id\\\": \\\"2631\\\"}, {\\\"id\\\": \\\"2650\\\"}], \\\"location\\\": [0, 0], \\\"title\\\": \\\"Variable\\\"}, \\\"id\\\": \\\"2630\\\", \\\"type\\\": \\\"Legend\\\"}, {\\\"attributes\\\": {\\\"line_alpha\\\": 0.1, \\\"line_color\\\": \\\"#1f77b3\\\", \\\"line_width\\\": 2, \\\"x\\\": {\\\"field\\\": \\\"year\\\"}, \\\"y\\\": {\\\"field\\\": \\\"value\\\"}}, \\\"id\\\": \\\"2618\\\", \\\"type\\\": \\\"Line\\\"}, {\\\"attributes\\\": {\\\"source\\\": {\\\"id\\\": \\\"2632\\\"}}, \\\"id\\\": \\\"2639\\\", \\\"type\\\": \\\"CDSView\\\"}, {\\\"attributes\\\": {\\\"label\\\": {\\\"value\\\": \\\"sale_price_sqr_foot\\\"}, \\\"renderers\\\": [{\\\"id\\\": \\\"2638\\\"}]}, \\\"id\\\": \\\"2650\\\", \\\"type\\\": \\\"LegendItem\\\"}, {\\\"attributes\\\": {\\\"data\\\": {\\\"Variable\\\": [\\\"gross_rent\\\", \\\"gross_rent\\\", \\\"gross_rent\\\", \\\"gross_rent\\\", \\\"gross_rent\\\", \\\"gross_rent\\\"], \\\"value\\\": [1239, 1530, 2971, 3528, 3739, 4390], \\\"year\\\": [\\\"2010\\\", \\\"2011\\\", \\\"2013\\\", \\\"2014\\\", \\\"2015\\\", \\\"2016\\\"]}, \\\"selected\\\": {\\\"id\\\": \\\"2615\\\"}, \\\"selection_policy\\\": {\\\"id\\\": \\\"2628\\\"}}, \\\"id\\\": \\\"2614\\\", \\\"type\\\": \\\"ColumnDataSource\\\"}, {\\\"attributes\\\": {\\\"data_source\\\": {\\\"id\\\": \\\"2614\\\"}, \\\"glyph\\\": {\\\"id\\\": \\\"2617\\\"}, \\\"hover_glyph\\\": null, \\\"muted_glyph\\\": {\\\"id\\\": \\\"2619\\\"}, \\\"nonselection_glyph\\\": {\\\"id\\\": \\\"2618\\\"}, \\\"selection_glyph\\\": null, \\\"view\\\": {\\\"id\\\": \\\"2621\\\"}}, \\\"id\\\": \\\"2620\\\", \\\"type\\\": \\\"GlyphRenderer\\\"}, {\\\"attributes\\\": {\\\"line_color\\\": \\\"#ff7e0e\\\", \\\"line_width\\\": 2, \\\"x\\\": {\\\"field\\\": \\\"year\\\"}, \\\"y\\\": {\\\"field\\\": \\\"value\\\"}}, \\\"id\\\": \\\"2635\\\", \\\"type\\\": \\\"Line\\\"}, {\\\"attributes\\\": {\\\"line_alpha\\\": 0.2, \\\"line_color\\\": \\\"#ff7e0e\\\", \\\"line_width\\\": 2, \\\"x\\\": {\\\"field\\\": \\\"year\\\"}, \\\"y\\\": {\\\"field\\\": \\\"value\\\"}}, \\\"id\\\": \\\"2637\\\", \\\"type\\\": \\\"Line\\\"}, {\\\"attributes\\\": {\\\"data\\\": {\\\"Variable\\\": [\\\"sale_price_sqr_foot\\\", \\\"sale_price_sqr_foot\\\", \\\"sale_price_sqr_foot\\\", \\\"sale_price_sqr_foot\\\", \\\"sale_price_sqr_foot\\\", \\\"sale_price_sqr_foot\\\"], \\\"value\\\": {\\\"__ndarray__\\\": \\\"aB91BrFchkAOKiRFn5Z8QED5MZOKq3xA/rlAhIBMgUBFlH1o2SCDQF9/cTKIjI1A\\\", \\\"dtype\\\": \\\"float64\\\", \\\"order\\\": \\\"little\\\", \\\"shape\\\": [6]}, \\\"year\\\": [\\\"2010\\\", \\\"2011\\\", \\\"2013\\\", \\\"2014\\\", \\\"2015\\\", \\\"2016\\\"]}, \\\"selected\\\": {\\\"id\\\": \\\"2633\\\"}, \\\"selection_policy\\\": {\\\"id\\\": \\\"2648\\\"}}, \\\"id\\\": \\\"2632\\\", \\\"type\\\": \\\"ColumnDataSource\\\"}, {\\\"attributes\\\": {\\\"source\\\": {\\\"id\\\": \\\"2614\\\"}}, \\\"id\\\": \\\"2621\\\", \\\"type\\\": \\\"CDSView\\\"}, {\\\"attributes\\\": {\\\"line_color\\\": \\\"#1f77b3\\\", \\\"line_width\\\": 2, \\\"x\\\": {\\\"field\\\": \\\"year\\\"}, \\\"y\\\": {\\\"field\\\": \\\"value\\\"}}, \\\"id\\\": \\\"2617\\\", \\\"type\\\": \\\"Line\\\"}, {\\\"attributes\\\": {\\\"line_alpha\\\": 0.1, \\\"line_color\\\": \\\"#ff7e0e\\\", \\\"line_width\\\": 2, \\\"x\\\": {\\\"field\\\": \\\"year\\\"}, \\\"y\\\": {\\\"field\\\": \\\"value\\\"}}, \\\"id\\\": \\\"2636\\\", \\\"type\\\": \\\"Line\\\"}, {\\\"attributes\\\": {}, \\\"id\\\": \\\"2648\\\", \\\"type\\\": \\\"UnionRenderers\\\"}, {\\\"attributes\\\": {\\\"data_source\\\": {\\\"id\\\": \\\"2632\\\"}, \\\"glyph\\\": {\\\"id\\\": \\\"2635\\\"}, \\\"hover_glyph\\\": null, \\\"muted_glyph\\\": {\\\"id\\\": \\\"2637\\\"}, \\\"nonselection_glyph\\\": {\\\"id\\\": \\\"2636\\\"}, \\\"selection_glyph\\\": null, \\\"view\\\": {\\\"id\\\": \\\"2639\\\"}}, \\\"id\\\": \\\"2638\\\", \\\"type\\\": \\\"GlyphRenderer\\\"}, {\\\"attributes\\\": {\\\"label\\\": {\\\"value\\\": \\\"gross_rent\\\"}, \\\"renderers\\\": [{\\\"id\\\": \\\"2620\\\"}]}, \\\"id\\\": \\\"2631\\\", \\\"type\\\": \\\"LegendItem\\\"}, {\\\"attributes\\\": {}, \\\"id\\\": \\\"2628\\\", \\\"type\\\": \\\"UnionRenderers\\\"}, {\\\"attributes\\\": {}, \\\"id\\\": \\\"2615\\\", \\\"type\\\": \\\"Selection\\\"}, {\\\"attributes\\\": {\\\"line_alpha\\\": 0.2, \\\"line_color\\\": \\\"#1f77b3\\\", \\\"line_width\\\": 2, \\\"x\\\": {\\\"field\\\": \\\"year\\\"}, \\\"y\\\": {\\\"field\\\": \\\"value\\\"}}, \\\"id\\\": \\\"2619\\\", \\\"type\\\": \\\"Line\\\"}, {\\\"attributes\\\": {}, \\\"id\\\": \\\"2633\\\", \\\"type\\\": \\\"Selection\\\"}]}\",\"header\":\"{\\\"msgid\\\": \\\"4527\\\", \\\"msgtype\\\": \\\"PATCH-DOC\\\"}\",\"metadata\":\"{}\"},\"Golden Gate Heights\":{\"content\":\"{\\\"events\\\": [{\\\"attr\\\": \\\"factors\\\", \\\"kind\\\": \\\"ModelChanged\\\", \\\"model\\\": {\\\"id\\\": \\\"2577\\\"}, \\\"new\\\": [\\\"2010\\\", \\\"2011\\\", \\\"2013\\\", \\\"2014\\\", \\\"2015\\\"]}, {\\\"cols\\\": null, \\\"column_source\\\": {\\\"id\\\": \\\"2614\\\"}, \\\"kind\\\": \\\"ColumnDataChanged\\\", \\\"new\\\": {\\\"Variable\\\": [\\\"gross_rent\\\", \\\"gross_rent\\\", \\\"gross_rent\\\", \\\"gross_rent\\\", \\\"gross_rent\\\"], \\\"value\\\": [1239, 1530, 2971, 3528, 3739], \\\"year\\\": [\\\"2010\\\", \\\"2011\\\", \\\"2013\\\", \\\"2014\\\", \\\"2015\\\"]}}, {\\\"cols\\\": null, \\\"column_source\\\": {\\\"id\\\": \\\"2632\\\"}, \\\"kind\\\": \\\"ColumnDataChanged\\\", \\\"new\\\": {\\\"Variable\\\": [\\\"sale_price_sqr_foot\\\", \\\"sale_price_sqr_foot\\\", \\\"sale_price_sqr_foot\\\", \\\"sale_price_sqr_foot\\\", \\\"sale_price_sqr_foot\\\"], \\\"value\\\": {\\\"__ndarray__\\\": \\\"XVj8sGg+gUAWhCYN4M51QNRj6RR54Y1AX0BnV7i6gUB+N3fjsyWIQA==\\\", \\\"dtype\\\": \\\"float64\\\", \\\"order\\\": \\\"little\\\", \\\"shape\\\": [5]}, \\\"year\\\": [\\\"2010\\\", \\\"2011\\\", \\\"2013\\\", \\\"2014\\\", \\\"2015\\\"]}}, {\\\"attr\\\": \\\"text\\\", \\\"kind\\\": \\\"ModelChanged\\\", \\\"model\\\": {\\\"id\\\": \\\"2582\\\"}, \\\"new\\\": \\\"neighborhood: Golden Gate Heights\\\"}, {\\\"attr\\\": \\\"right\\\", \\\"kind\\\": \\\"ModelChanged\\\", \\\"model\\\": {\\\"id\\\": \\\"2581\\\"}, \\\"new\\\": [{\\\"id\\\": \\\"2630\\\"}]}], \\\"references\\\": [{\\\"attributes\\\": {\\\"click_policy\\\": \\\"mute\\\", \\\"items\\\": [{\\\"id\\\": \\\"2631\\\"}, {\\\"id\\\": \\\"2650\\\"}], \\\"location\\\": [0, 0], \\\"title\\\": \\\"Variable\\\"}, \\\"id\\\": \\\"2630\\\", \\\"type\\\": \\\"Legend\\\"}, {\\\"attributes\\\": {\\\"line_alpha\\\": 0.1, \\\"line_color\\\": \\\"#1f77b3\\\", \\\"line_width\\\": 2, \\\"x\\\": {\\\"field\\\": \\\"year\\\"}, \\\"y\\\": {\\\"field\\\": \\\"value\\\"}}, \\\"id\\\": \\\"2618\\\", \\\"type\\\": \\\"Line\\\"}, {\\\"attributes\\\": {\\\"source\\\": {\\\"id\\\": \\\"2632\\\"}}, \\\"id\\\": \\\"2639\\\", \\\"type\\\": \\\"CDSView\\\"}, {\\\"attributes\\\": {\\\"label\\\": {\\\"value\\\": \\\"sale_price_sqr_foot\\\"}, \\\"renderers\\\": [{\\\"id\\\": \\\"2638\\\"}]}, \\\"id\\\": \\\"2650\\\", \\\"type\\\": \\\"LegendItem\\\"}, {\\\"attributes\\\": {\\\"data\\\": {\\\"Variable\\\": [\\\"gross_rent\\\", \\\"gross_rent\\\", \\\"gross_rent\\\", \\\"gross_rent\\\", \\\"gross_rent\\\"], \\\"value\\\": [1239, 1530, 2971, 3528, 3739], \\\"year\\\": [\\\"2010\\\", \\\"2011\\\", \\\"2013\\\", \\\"2014\\\", \\\"2015\\\"]}, \\\"selected\\\": {\\\"id\\\": \\\"2615\\\"}, \\\"selection_policy\\\": {\\\"id\\\": \\\"2628\\\"}}, \\\"id\\\": \\\"2614\\\", \\\"type\\\": \\\"ColumnDataSource\\\"}, {\\\"attributes\\\": {\\\"data_source\\\": {\\\"id\\\": \\\"2614\\\"}, \\\"glyph\\\": {\\\"id\\\": \\\"2617\\\"}, \\\"hover_glyph\\\": null, \\\"muted_glyph\\\": {\\\"id\\\": \\\"2619\\\"}, \\\"nonselection_glyph\\\": {\\\"id\\\": \\\"2618\\\"}, \\\"selection_glyph\\\": null, \\\"view\\\": {\\\"id\\\": \\\"2621\\\"}}, \\\"id\\\": \\\"2620\\\", \\\"type\\\": \\\"GlyphRenderer\\\"}, {\\\"attributes\\\": {\\\"line_color\\\": \\\"#ff7e0e\\\", \\\"line_width\\\": 2, \\\"x\\\": {\\\"field\\\": \\\"year\\\"}, \\\"y\\\": {\\\"field\\\": \\\"value\\\"}}, \\\"id\\\": \\\"2635\\\", \\\"type\\\": \\\"Line\\\"}, {\\\"attributes\\\": {\\\"line_alpha\\\": 0.2, \\\"line_color\\\": \\\"#ff7e0e\\\", \\\"line_width\\\": 2, \\\"x\\\": {\\\"field\\\": \\\"year\\\"}, \\\"y\\\": {\\\"field\\\": \\\"value\\\"}}, \\\"id\\\": \\\"2637\\\", \\\"type\\\": \\\"Line\\\"}, {\\\"attributes\\\": {\\\"data\\\": {\\\"Variable\\\": [\\\"sale_price_sqr_foot\\\", \\\"sale_price_sqr_foot\\\", \\\"sale_price_sqr_foot\\\", \\\"sale_price_sqr_foot\\\", \\\"sale_price_sqr_foot\\\"], \\\"value\\\": {\\\"__ndarray__\\\": \\\"XVj8sGg+gUAWhCYN4M51QNRj6RR54Y1AX0BnV7i6gUB+N3fjsyWIQA==\\\", \\\"dtype\\\": \\\"float64\\\", \\\"order\\\": \\\"little\\\", \\\"shape\\\": [5]}, \\\"year\\\": [\\\"2010\\\", \\\"2011\\\", \\\"2013\\\", \\\"2014\\\", \\\"2015\\\"]}, \\\"selected\\\": {\\\"id\\\": \\\"2633\\\"}, \\\"selection_policy\\\": {\\\"id\\\": \\\"2648\\\"}}, \\\"id\\\": \\\"2632\\\", \\\"type\\\": \\\"ColumnDataSource\\\"}, {\\\"attributes\\\": {\\\"source\\\": {\\\"id\\\": \\\"2614\\\"}}, \\\"id\\\": \\\"2621\\\", \\\"type\\\": \\\"CDSView\\\"}, {\\\"attributes\\\": {\\\"line_color\\\": \\\"#1f77b3\\\", \\\"line_width\\\": 2, \\\"x\\\": {\\\"field\\\": \\\"year\\\"}, \\\"y\\\": {\\\"field\\\": \\\"value\\\"}}, \\\"id\\\": \\\"2617\\\", \\\"type\\\": \\\"Line\\\"}, {\\\"attributes\\\": {\\\"line_alpha\\\": 0.1, \\\"line_color\\\": \\\"#ff7e0e\\\", \\\"line_width\\\": 2, \\\"x\\\": {\\\"field\\\": \\\"year\\\"}, \\\"y\\\": {\\\"field\\\": \\\"value\\\"}}, \\\"id\\\": \\\"2636\\\", \\\"type\\\": \\\"Line\\\"}, {\\\"attributes\\\": {}, \\\"id\\\": \\\"2648\\\", \\\"type\\\": \\\"UnionRenderers\\\"}, {\\\"attributes\\\": {\\\"data_source\\\": {\\\"id\\\": \\\"2632\\\"}, \\\"glyph\\\": {\\\"id\\\": \\\"2635\\\"}, \\\"hover_glyph\\\": null, \\\"muted_glyph\\\": {\\\"id\\\": \\\"2637\\\"}, \\\"nonselection_glyph\\\": {\\\"id\\\": \\\"2636\\\"}, \\\"selection_glyph\\\": null, \\\"view\\\": {\\\"id\\\": \\\"2639\\\"}}, \\\"id\\\": \\\"2638\\\", \\\"type\\\": \\\"GlyphRenderer\\\"}, {\\\"attributes\\\": {\\\"label\\\": {\\\"value\\\": \\\"gross_rent\\\"}, \\\"renderers\\\": [{\\\"id\\\": \\\"2620\\\"}]}, \\\"id\\\": \\\"2631\\\", \\\"type\\\": \\\"LegendItem\\\"}, {\\\"attributes\\\": {}, \\\"id\\\": \\\"2628\\\", \\\"type\\\": \\\"UnionRenderers\\\"}, {\\\"attributes\\\": {}, \\\"id\\\": \\\"2615\\\", \\\"type\\\": \\\"Selection\\\"}, {\\\"attributes\\\": {\\\"line_alpha\\\": 0.2, \\\"line_color\\\": \\\"#1f77b3\\\", \\\"line_width\\\": 2, \\\"x\\\": {\\\"field\\\": \\\"year\\\"}, \\\"y\\\": {\\\"field\\\": \\\"value\\\"}}, \\\"id\\\": \\\"2619\\\", \\\"type\\\": \\\"Line\\\"}, {\\\"attributes\\\": {}, \\\"id\\\": \\\"2633\\\", \\\"type\\\": \\\"Selection\\\"}]}\",\"header\":\"{\\\"msgid\\\": \\\"4494\\\", \\\"msgtype\\\": \\\"PATCH-DOC\\\"}\",\"metadata\":\"{}\"},\"Haight Ashbury\":{\"content\":\"{\\\"events\\\": [{\\\"cols\\\": null, \\\"column_source\\\": {\\\"id\\\": \\\"2614\\\"}, \\\"kind\\\": \\\"ColumnDataChanged\\\", \\\"new\\\": {\\\"Variable\\\": [\\\"gross_rent\\\", \\\"gross_rent\\\", \\\"gross_rent\\\", \\\"gross_rent\\\", \\\"gross_rent\\\", \\\"gross_rent\\\", \\\"gross_rent\\\"], \\\"value\\\": [1239, 1530, 2324, 2971, 3528, 3739, 4390], \\\"year\\\": [\\\"2010\\\", \\\"2011\\\", \\\"2012\\\", \\\"2013\\\", \\\"2014\\\", \\\"2015\\\", \\\"2016\\\"]}}, {\\\"cols\\\": null, \\\"column_source\\\": {\\\"id\\\": \\\"2632\\\"}, \\\"kind\\\": \\\"ColumnDataChanged\\\", \\\"new\\\": {\\\"Variable\\\": [\\\"sale_price_sqr_foot\\\", \\\"sale_price_sqr_foot\\\", \\\"sale_price_sqr_foot\\\", \\\"sale_price_sqr_foot\\\", \\\"sale_price_sqr_foot\\\", \\\"sale_price_sqr_foot\\\", \\\"sale_price_sqr_foot\\\"], \\\"value\\\": {\\\"__ndarray__\\\": \\\"QH/hMinPb0DRLjW8p4V4QDXT1jtJLXpAbHydIO7nfUB2raXm0Ah/QNj5jEQx8oFAzf5gJa6egEA=\\\", \\\"dtype\\\": \\\"float64\\\", \\\"order\\\": \\\"little\\\", \\\"shape\\\": [7]}, \\\"year\\\": [\\\"2010\\\", \\\"2011\\\", \\\"2012\\\", \\\"2013\\\", \\\"2014\\\", \\\"2015\\\", \\\"2016\\\"]}}, {\\\"attr\\\": \\\"text\\\", \\\"kind\\\": \\\"ModelChanged\\\", \\\"model\\\": {\\\"id\\\": \\\"2582\\\"}, \\\"new\\\": \\\"neighborhood: Haight Ashbury\\\"}, {\\\"attr\\\": \\\"right\\\", \\\"kind\\\": \\\"ModelChanged\\\", \\\"model\\\": {\\\"id\\\": \\\"2581\\\"}, \\\"new\\\": [{\\\"id\\\": \\\"2630\\\"}]}], \\\"references\\\": [{\\\"attributes\\\": {\\\"click_policy\\\": \\\"mute\\\", \\\"items\\\": [{\\\"id\\\": \\\"2631\\\"}, {\\\"id\\\": \\\"2650\\\"}], \\\"location\\\": [0, 0], \\\"title\\\": \\\"Variable\\\"}, \\\"id\\\": \\\"2630\\\", \\\"type\\\": \\\"Legend\\\"}, {\\\"attributes\\\": {\\\"line_alpha\\\": 0.1, \\\"line_color\\\": \\\"#1f77b3\\\", \\\"line_width\\\": 2, \\\"x\\\": {\\\"field\\\": \\\"year\\\"}, \\\"y\\\": {\\\"field\\\": \\\"value\\\"}}, \\\"id\\\": \\\"2618\\\", \\\"type\\\": \\\"Line\\\"}, {\\\"attributes\\\": {\\\"source\\\": {\\\"id\\\": \\\"2632\\\"}}, \\\"id\\\": \\\"2639\\\", \\\"type\\\": \\\"CDSView\\\"}, {\\\"attributes\\\": {\\\"label\\\": {\\\"value\\\": \\\"sale_price_sqr_foot\\\"}, \\\"renderers\\\": [{\\\"id\\\": \\\"2638\\\"}]}, \\\"id\\\": \\\"2650\\\", \\\"type\\\": \\\"LegendItem\\\"}, {\\\"attributes\\\": {\\\"data\\\": {\\\"Variable\\\": [\\\"gross_rent\\\", \\\"gross_rent\\\", \\\"gross_rent\\\", \\\"gross_rent\\\", \\\"gross_rent\\\", \\\"gross_rent\\\", \\\"gross_rent\\\"], \\\"value\\\": [1239, 1530, 2324, 2971, 3528, 3739, 4390], \\\"year\\\": [\\\"2010\\\", \\\"2011\\\", \\\"2012\\\", \\\"2013\\\", \\\"2014\\\", \\\"2015\\\", \\\"2016\\\"]}, \\\"selected\\\": {\\\"id\\\": \\\"2615\\\"}, \\\"selection_policy\\\": {\\\"id\\\": \\\"2628\\\"}}, \\\"id\\\": \\\"2614\\\", \\\"type\\\": \\\"ColumnDataSource\\\"}, {\\\"attributes\\\": {\\\"data_source\\\": {\\\"id\\\": \\\"2614\\\"}, \\\"glyph\\\": {\\\"id\\\": \\\"2617\\\"}, \\\"hover_glyph\\\": null, \\\"muted_glyph\\\": {\\\"id\\\": \\\"2619\\\"}, \\\"nonselection_glyph\\\": {\\\"id\\\": \\\"2618\\\"}, \\\"selection_glyph\\\": null, \\\"view\\\": {\\\"id\\\": \\\"2621\\\"}}, \\\"id\\\": \\\"2620\\\", \\\"type\\\": \\\"GlyphRenderer\\\"}, {\\\"attributes\\\": {\\\"line_color\\\": \\\"#ff7e0e\\\", \\\"line_width\\\": 2, \\\"x\\\": {\\\"field\\\": \\\"year\\\"}, \\\"y\\\": {\\\"field\\\": \\\"value\\\"}}, \\\"id\\\": \\\"2635\\\", \\\"type\\\": \\\"Line\\\"}, {\\\"attributes\\\": {\\\"line_alpha\\\": 0.2, \\\"line_color\\\": \\\"#ff7e0e\\\", \\\"line_width\\\": 2, \\\"x\\\": {\\\"field\\\": \\\"year\\\"}, \\\"y\\\": {\\\"field\\\": \\\"value\\\"}}, \\\"id\\\": \\\"2637\\\", \\\"type\\\": \\\"Line\\\"}, {\\\"attributes\\\": {\\\"data\\\": {\\\"Variable\\\": [\\\"sale_price_sqr_foot\\\", \\\"sale_price_sqr_foot\\\", \\\"sale_price_sqr_foot\\\", \\\"sale_price_sqr_foot\\\", \\\"sale_price_sqr_foot\\\", \\\"sale_price_sqr_foot\\\", \\\"sale_price_sqr_foot\\\"], \\\"value\\\": {\\\"__ndarray__\\\": \\\"QH/hMinPb0DRLjW8p4V4QDXT1jtJLXpAbHydIO7nfUB2raXm0Ah/QNj5jEQx8oFAzf5gJa6egEA=\\\", \\\"dtype\\\": \\\"float64\\\", \\\"order\\\": \\\"little\\\", \\\"shape\\\": [7]}, \\\"year\\\": [\\\"2010\\\", \\\"2011\\\", \\\"2012\\\", \\\"2013\\\", \\\"2014\\\", \\\"2015\\\", \\\"2016\\\"]}, \\\"selected\\\": {\\\"id\\\": \\\"2633\\\"}, \\\"selection_policy\\\": {\\\"id\\\": \\\"2648\\\"}}, \\\"id\\\": \\\"2632\\\", \\\"type\\\": \\\"ColumnDataSource\\\"}, {\\\"attributes\\\": {\\\"source\\\": {\\\"id\\\": \\\"2614\\\"}}, \\\"id\\\": \\\"2621\\\", \\\"type\\\": \\\"CDSView\\\"}, {\\\"attributes\\\": {\\\"line_color\\\": \\\"#1f77b3\\\", \\\"line_width\\\": 2, \\\"x\\\": {\\\"field\\\": \\\"year\\\"}, \\\"y\\\": {\\\"field\\\": \\\"value\\\"}}, \\\"id\\\": \\\"2617\\\", \\\"type\\\": \\\"Line\\\"}, {\\\"attributes\\\": {\\\"line_alpha\\\": 0.1, \\\"line_color\\\": \\\"#ff7e0e\\\", \\\"line_width\\\": 2, \\\"x\\\": {\\\"field\\\": \\\"year\\\"}, \\\"y\\\": {\\\"field\\\": \\\"value\\\"}}, \\\"id\\\": \\\"2636\\\", \\\"type\\\": \\\"Line\\\"}, {\\\"attributes\\\": {}, \\\"id\\\": \\\"2648\\\", \\\"type\\\": \\\"UnionRenderers\\\"}, {\\\"attributes\\\": {\\\"data_source\\\": {\\\"id\\\": \\\"2632\\\"}, \\\"glyph\\\": {\\\"id\\\": \\\"2635\\\"}, \\\"hover_glyph\\\": null, \\\"muted_glyph\\\": {\\\"id\\\": \\\"2637\\\"}, \\\"nonselection_glyph\\\": {\\\"id\\\": \\\"2636\\\"}, \\\"selection_glyph\\\": null, \\\"view\\\": {\\\"id\\\": \\\"2639\\\"}}, \\\"id\\\": \\\"2638\\\", \\\"type\\\": \\\"GlyphRenderer\\\"}, {\\\"attributes\\\": {\\\"label\\\": {\\\"value\\\": \\\"gross_rent\\\"}, \\\"renderers\\\": [{\\\"id\\\": \\\"2620\\\"}]}, \\\"id\\\": \\\"2631\\\", \\\"type\\\": \\\"LegendItem\\\"}, {\\\"attributes\\\": {}, \\\"id\\\": \\\"2628\\\", \\\"type\\\": \\\"UnionRenderers\\\"}, {\\\"attributes\\\": {}, \\\"id\\\": \\\"2615\\\", \\\"type\\\": \\\"Selection\\\"}, {\\\"attributes\\\": {\\\"line_alpha\\\": 0.2, \\\"line_color\\\": \\\"#1f77b3\\\", \\\"line_width\\\": 2, \\\"x\\\": {\\\"field\\\": \\\"year\\\"}, \\\"y\\\": {\\\"field\\\": \\\"value\\\"}}, \\\"id\\\": \\\"2619\\\", \\\"type\\\": \\\"Line\\\"}, {\\\"attributes\\\": {}, \\\"id\\\": \\\"2633\\\", \\\"type\\\": \\\"Selection\\\"}]}\",\"header\":\"{\\\"msgid\\\": \\\"4461\\\", \\\"msgtype\\\": \\\"PATCH-DOC\\\"}\",\"metadata\":\"{}\"},\"Hayes Valley\":{\"content\":\"{\\\"events\\\": [{\\\"attr\\\": \\\"factors\\\", \\\"kind\\\": \\\"ModelChanged\\\", \\\"model\\\": {\\\"id\\\": \\\"2577\\\"}, \\\"new\\\": [\\\"2010\\\", \\\"2011\\\", \\\"2012\\\", \\\"2013\\\", \\\"2014\\\", \\\"2015\\\", \\\"2016\\\"]}, {\\\"cols\\\": null, \\\"column_source\\\": {\\\"id\\\": \\\"2614\\\"}, \\\"kind\\\": \\\"ColumnDataChanged\\\", \\\"new\\\": {\\\"Variable\\\": [\\\"gross_rent\\\", \\\"gross_rent\\\", \\\"gross_rent\\\", \\\"gross_rent\\\", \\\"gross_rent\\\", \\\"gross_rent\\\", \\\"gross_rent\\\"], \\\"value\\\": [1239, 1530, 2324, 2971, 3528, 3739, 4390], \\\"year\\\": [\\\"2010\\\", \\\"2011\\\", \\\"2012\\\", \\\"2013\\\", \\\"2014\\\", \\\"2015\\\", \\\"2016\\\"]}}, {\\\"cols\\\": null, \\\"column_source\\\": {\\\"id\\\": \\\"2632\\\"}, \\\"kind\\\": \\\"ColumnDataChanged\\\", \\\"new\\\": {\\\"Variable\\\": [\\\"sale_price_sqr_foot\\\", \\\"sale_price_sqr_foot\\\", \\\"sale_price_sqr_foot\\\", \\\"sale_price_sqr_foot\\\", \\\"sale_price_sqr_foot\\\", \\\"sale_price_sqr_foot\\\", \\\"sale_price_sqr_foot\\\"], \\\"value\\\": {\\\"__ndarray__\\\": \\\"jyy7Ro8EcUDtvFOssItxQN/Eix0MJnNA6LhSnW25fkAXEdXax856QHX40/F0xIBA8aolPR3iZUA=\\\", \\\"dtype\\\": \\\"float64\\\", \\\"order\\\": \\\"little\\\", \\\"shape\\\": [7]}, \\\"year\\\": [\\\"2010\\\", \\\"2011\\\", \\\"2012\\\", \\\"2013\\\", \\\"2014\\\", \\\"2015\\\", \\\"2016\\\"]}}, {\\\"attr\\\": \\\"text\\\", \\\"kind\\\": \\\"ModelChanged\\\", \\\"model\\\": {\\\"id\\\": \\\"2582\\\"}, \\\"new\\\": \\\"neighborhood: Hayes Valley\\\"}, {\\\"attr\\\": \\\"right\\\", \\\"kind\\\": \\\"ModelChanged\\\", \\\"model\\\": {\\\"id\\\": \\\"2581\\\"}, \\\"new\\\": [{\\\"id\\\": \\\"2630\\\"}]}], \\\"references\\\": [{\\\"attributes\\\": {\\\"click_policy\\\": \\\"mute\\\", \\\"items\\\": [{\\\"id\\\": \\\"2631\\\"}, {\\\"id\\\": \\\"2650\\\"}], \\\"location\\\": [0, 0], \\\"title\\\": \\\"Variable\\\"}, \\\"id\\\": \\\"2630\\\", \\\"type\\\": \\\"Legend\\\"}, {\\\"attributes\\\": {\\\"line_alpha\\\": 0.1, \\\"line_color\\\": \\\"#1f77b3\\\", \\\"line_width\\\": 2, \\\"x\\\": {\\\"field\\\": \\\"year\\\"}, \\\"y\\\": {\\\"field\\\": \\\"value\\\"}}, \\\"id\\\": \\\"2618\\\", \\\"type\\\": \\\"Line\\\"}, {\\\"attributes\\\": {\\\"source\\\": {\\\"id\\\": \\\"2632\\\"}}, \\\"id\\\": \\\"2639\\\", \\\"type\\\": \\\"CDSView\\\"}, {\\\"attributes\\\": {\\\"label\\\": {\\\"value\\\": \\\"sale_price_sqr_foot\\\"}, \\\"renderers\\\": [{\\\"id\\\": \\\"2638\\\"}]}, \\\"id\\\": \\\"2650\\\", \\\"type\\\": \\\"LegendItem\\\"}, {\\\"attributes\\\": {\\\"data\\\": {\\\"Variable\\\": [\\\"gross_rent\\\", \\\"gross_rent\\\", \\\"gross_rent\\\", \\\"gross_rent\\\", \\\"gross_rent\\\", \\\"gross_rent\\\", \\\"gross_rent\\\"], \\\"value\\\": [1239, 1530, 2324, 2971, 3528, 3739, 4390], \\\"year\\\": [\\\"2010\\\", \\\"2011\\\", \\\"2012\\\", \\\"2013\\\", \\\"2014\\\", \\\"2015\\\", \\\"2016\\\"]}, \\\"selected\\\": {\\\"id\\\": \\\"2615\\\"}, \\\"selection_policy\\\": {\\\"id\\\": \\\"2628\\\"}}, \\\"id\\\": \\\"2614\\\", \\\"type\\\": \\\"ColumnDataSource\\\"}, {\\\"attributes\\\": {\\\"data_source\\\": {\\\"id\\\": \\\"2614\\\"}, \\\"glyph\\\": {\\\"id\\\": \\\"2617\\\"}, \\\"hover_glyph\\\": null, \\\"muted_glyph\\\": {\\\"id\\\": \\\"2619\\\"}, \\\"nonselection_glyph\\\": {\\\"id\\\": \\\"2618\\\"}, \\\"selection_glyph\\\": null, \\\"view\\\": {\\\"id\\\": \\\"2621\\\"}}, \\\"id\\\": \\\"2620\\\", \\\"type\\\": \\\"GlyphRenderer\\\"}, {\\\"attributes\\\": {\\\"line_color\\\": \\\"#ff7e0e\\\", \\\"line_width\\\": 2, \\\"x\\\": {\\\"field\\\": \\\"year\\\"}, \\\"y\\\": {\\\"field\\\": \\\"value\\\"}}, \\\"id\\\": \\\"2635\\\", \\\"type\\\": \\\"Line\\\"}, {\\\"attributes\\\": {\\\"line_alpha\\\": 0.2, \\\"line_color\\\": \\\"#ff7e0e\\\", \\\"line_width\\\": 2, \\\"x\\\": {\\\"field\\\": \\\"year\\\"}, \\\"y\\\": {\\\"field\\\": \\\"value\\\"}}, \\\"id\\\": \\\"2637\\\", \\\"type\\\": \\\"Line\\\"}, {\\\"attributes\\\": {\\\"data\\\": {\\\"Variable\\\": [\\\"sale_price_sqr_foot\\\", \\\"sale_price_sqr_foot\\\", \\\"sale_price_sqr_foot\\\", \\\"sale_price_sqr_foot\\\", \\\"sale_price_sqr_foot\\\", \\\"sale_price_sqr_foot\\\", \\\"sale_price_sqr_foot\\\"], \\\"value\\\": {\\\"__ndarray__\\\": \\\"jyy7Ro8EcUDtvFOssItxQN/Eix0MJnNA6LhSnW25fkAXEdXax856QHX40/F0xIBA8aolPR3iZUA=\\\", \\\"dtype\\\": \\\"float64\\\", \\\"order\\\": \\\"little\\\", \\\"shape\\\": [7]}, \\\"year\\\": [\\\"2010\\\", \\\"2011\\\", \\\"2012\\\", \\\"2013\\\", \\\"2014\\\", \\\"2015\\\", \\\"2016\\\"]}, \\\"selected\\\": {\\\"id\\\": \\\"2633\\\"}, \\\"selection_policy\\\": {\\\"id\\\": \\\"2648\\\"}}, \\\"id\\\": \\\"2632\\\", \\\"type\\\": \\\"ColumnDataSource\\\"}, {\\\"attributes\\\": {\\\"source\\\": {\\\"id\\\": \\\"2614\\\"}}, \\\"id\\\": \\\"2621\\\", \\\"type\\\": \\\"CDSView\\\"}, {\\\"attributes\\\": {\\\"line_color\\\": \\\"#1f77b3\\\", \\\"line_width\\\": 2, \\\"x\\\": {\\\"field\\\": \\\"year\\\"}, \\\"y\\\": {\\\"field\\\": \\\"value\\\"}}, \\\"id\\\": \\\"2617\\\", \\\"type\\\": \\\"Line\\\"}, {\\\"attributes\\\": {\\\"line_alpha\\\": 0.1, \\\"line_color\\\": \\\"#ff7e0e\\\", \\\"line_width\\\": 2, \\\"x\\\": {\\\"field\\\": \\\"year\\\"}, \\\"y\\\": {\\\"field\\\": \\\"value\\\"}}, \\\"id\\\": \\\"2636\\\", \\\"type\\\": \\\"Line\\\"}, {\\\"attributes\\\": {}, \\\"id\\\": \\\"2648\\\", \\\"type\\\": \\\"UnionRenderers\\\"}, {\\\"attributes\\\": {\\\"data_source\\\": {\\\"id\\\": \\\"2632\\\"}, \\\"glyph\\\": {\\\"id\\\": \\\"2635\\\"}, \\\"hover_glyph\\\": null, \\\"muted_glyph\\\": {\\\"id\\\": \\\"2637\\\"}, \\\"nonselection_glyph\\\": {\\\"id\\\": \\\"2636\\\"}, \\\"selection_glyph\\\": null, \\\"view\\\": {\\\"id\\\": \\\"2639\\\"}}, \\\"id\\\": \\\"2638\\\", \\\"type\\\": \\\"GlyphRenderer\\\"}, {\\\"attributes\\\": {\\\"label\\\": {\\\"value\\\": \\\"gross_rent\\\"}, \\\"renderers\\\": [{\\\"id\\\": \\\"2620\\\"}]}, \\\"id\\\": \\\"2631\\\", \\\"type\\\": \\\"LegendItem\\\"}, {\\\"attributes\\\": {}, \\\"id\\\": \\\"2628\\\", \\\"type\\\": \\\"UnionRenderers\\\"}, {\\\"attributes\\\": {}, \\\"id\\\": \\\"2615\\\", \\\"type\\\": \\\"Selection\\\"}, {\\\"attributes\\\": {\\\"line_alpha\\\": 0.2, \\\"line_color\\\": \\\"#1f77b3\\\", \\\"line_width\\\": 2, \\\"x\\\": {\\\"field\\\": \\\"year\\\"}, \\\"y\\\": {\\\"field\\\": \\\"value\\\"}}, \\\"id\\\": \\\"2619\\\", \\\"type\\\": \\\"Line\\\"}, {\\\"attributes\\\": {}, \\\"id\\\": \\\"2633\\\", \\\"type\\\": \\\"Selection\\\"}]}\",\"header\":\"{\\\"msgid\\\": \\\"4428\\\", \\\"msgtype\\\": \\\"PATCH-DOC\\\"}\",\"metadata\":\"{}\"},\"Hunters Point\":{\"content\":\"{\\\"events\\\": [{\\\"attr\\\": \\\"factors\\\", \\\"kind\\\": \\\"ModelChanged\\\", \\\"model\\\": {\\\"id\\\": \\\"2577\\\"}, \\\"new\\\": [\\\"2010\\\", \\\"2015\\\"]}, {\\\"cols\\\": null, \\\"column_source\\\": {\\\"id\\\": \\\"2614\\\"}, \\\"kind\\\": \\\"ColumnDataChanged\\\", \\\"new\\\": {\\\"Variable\\\": [\\\"gross_rent\\\", \\\"gross_rent\\\"], \\\"value\\\": [1239, 3739], \\\"year\\\": [\\\"2010\\\", \\\"2015\\\"]}}, {\\\"cols\\\": null, \\\"column_source\\\": {\\\"id\\\": \\\"2632\\\"}, \\\"kind\\\": \\\"ColumnDataChanged\\\", \\\"new\\\": {\\\"Variable\\\": [\\\"sale_price_sqr_foot\\\", \\\"sale_price_sqr_foot\\\"], \\\"value\\\": {\\\"__ndarray__\\\": \\\"BT/1V/9TZUAAAAAAAAD4fw==\\\", \\\"dtype\\\": \\\"float64\\\", \\\"order\\\": \\\"little\\\", \\\"shape\\\": [2]}, \\\"year\\\": [\\\"2010\\\", \\\"2015\\\"]}}, {\\\"attr\\\": \\\"text\\\", \\\"kind\\\": \\\"ModelChanged\\\", \\\"model\\\": {\\\"id\\\": \\\"2582\\\"}, \\\"new\\\": \\\"neighborhood: Hunters Point\\\"}, {\\\"attr\\\": \\\"right\\\", \\\"kind\\\": \\\"ModelChanged\\\", \\\"model\\\": {\\\"id\\\": \\\"2581\\\"}, \\\"new\\\": [{\\\"id\\\": \\\"2630\\\"}]}], \\\"references\\\": [{\\\"attributes\\\": {\\\"click_policy\\\": \\\"mute\\\", \\\"items\\\": [{\\\"id\\\": \\\"2631\\\"}, {\\\"id\\\": \\\"2650\\\"}], \\\"location\\\": [0, 0], \\\"title\\\": \\\"Variable\\\"}, \\\"id\\\": \\\"2630\\\", \\\"type\\\": \\\"Legend\\\"}, {\\\"attributes\\\": {\\\"line_alpha\\\": 0.1, \\\"line_color\\\": \\\"#1f77b3\\\", \\\"line_width\\\": 2, \\\"x\\\": {\\\"field\\\": \\\"year\\\"}, \\\"y\\\": {\\\"field\\\": \\\"value\\\"}}, \\\"id\\\": \\\"2618\\\", \\\"type\\\": \\\"Line\\\"}, {\\\"attributes\\\": {\\\"source\\\": {\\\"id\\\": \\\"2632\\\"}}, \\\"id\\\": \\\"2639\\\", \\\"type\\\": \\\"CDSView\\\"}, {\\\"attributes\\\": {\\\"label\\\": {\\\"value\\\": \\\"sale_price_sqr_foot\\\"}, \\\"renderers\\\": [{\\\"id\\\": \\\"2638\\\"}]}, \\\"id\\\": \\\"2650\\\", \\\"type\\\": \\\"LegendItem\\\"}, {\\\"attributes\\\": {\\\"data\\\": {\\\"Variable\\\": [\\\"gross_rent\\\", \\\"gross_rent\\\"], \\\"value\\\": [1239, 3739], \\\"year\\\": [\\\"2010\\\", \\\"2015\\\"]}, \\\"selected\\\": {\\\"id\\\": \\\"2615\\\"}, \\\"selection_policy\\\": {\\\"id\\\": \\\"2628\\\"}}, \\\"id\\\": \\\"2614\\\", \\\"type\\\": \\\"ColumnDataSource\\\"}, {\\\"attributes\\\": {\\\"data_source\\\": {\\\"id\\\": \\\"2614\\\"}, \\\"glyph\\\": {\\\"id\\\": \\\"2617\\\"}, \\\"hover_glyph\\\": null, \\\"muted_glyph\\\": {\\\"id\\\": \\\"2619\\\"}, \\\"nonselection_glyph\\\": {\\\"id\\\": \\\"2618\\\"}, \\\"selection_glyph\\\": null, \\\"view\\\": {\\\"id\\\": \\\"2621\\\"}}, \\\"id\\\": \\\"2620\\\", \\\"type\\\": \\\"GlyphRenderer\\\"}, {\\\"attributes\\\": {\\\"line_color\\\": \\\"#ff7e0e\\\", \\\"line_width\\\": 2, \\\"x\\\": {\\\"field\\\": \\\"year\\\"}, \\\"y\\\": {\\\"field\\\": \\\"value\\\"}}, \\\"id\\\": \\\"2635\\\", \\\"type\\\": \\\"Line\\\"}, {\\\"attributes\\\": {\\\"line_alpha\\\": 0.2, \\\"line_color\\\": \\\"#ff7e0e\\\", \\\"line_width\\\": 2, \\\"x\\\": {\\\"field\\\": \\\"year\\\"}, \\\"y\\\": {\\\"field\\\": \\\"value\\\"}}, \\\"id\\\": \\\"2637\\\", \\\"type\\\": \\\"Line\\\"}, {\\\"attributes\\\": {\\\"data\\\": {\\\"Variable\\\": [\\\"sale_price_sqr_foot\\\", \\\"sale_price_sqr_foot\\\"], \\\"value\\\": {\\\"__ndarray__\\\": \\\"BT/1V/9TZUAAAAAAAAD4fw==\\\", \\\"dtype\\\": \\\"float64\\\", \\\"order\\\": \\\"little\\\", \\\"shape\\\": [2]}, \\\"year\\\": [\\\"2010\\\", \\\"2015\\\"]}, \\\"selected\\\": {\\\"id\\\": \\\"2633\\\"}, \\\"selection_policy\\\": {\\\"id\\\": \\\"2648\\\"}}, \\\"id\\\": \\\"2632\\\", \\\"type\\\": \\\"ColumnDataSource\\\"}, {\\\"attributes\\\": {\\\"source\\\": {\\\"id\\\": \\\"2614\\\"}}, \\\"id\\\": \\\"2621\\\", \\\"type\\\": \\\"CDSView\\\"}, {\\\"attributes\\\": {\\\"line_color\\\": \\\"#1f77b3\\\", \\\"line_width\\\": 2, \\\"x\\\": {\\\"field\\\": \\\"year\\\"}, \\\"y\\\": {\\\"field\\\": \\\"value\\\"}}, \\\"id\\\": \\\"2617\\\", \\\"type\\\": \\\"Line\\\"}, {\\\"attributes\\\": {\\\"line_alpha\\\": 0.1, \\\"line_color\\\": \\\"#ff7e0e\\\", \\\"line_width\\\": 2, \\\"x\\\": {\\\"field\\\": \\\"year\\\"}, \\\"y\\\": {\\\"field\\\": \\\"value\\\"}}, \\\"id\\\": \\\"2636\\\", \\\"type\\\": \\\"Line\\\"}, {\\\"attributes\\\": {}, \\\"id\\\": \\\"2648\\\", \\\"type\\\": \\\"UnionRenderers\\\"}, {\\\"attributes\\\": {\\\"data_source\\\": {\\\"id\\\": \\\"2632\\\"}, \\\"glyph\\\": {\\\"id\\\": \\\"2635\\\"}, \\\"hover_glyph\\\": null, \\\"muted_glyph\\\": {\\\"id\\\": \\\"2637\\\"}, \\\"nonselection_glyph\\\": {\\\"id\\\": \\\"2636\\\"}, \\\"selection_glyph\\\": null, \\\"view\\\": {\\\"id\\\": \\\"2639\\\"}}, \\\"id\\\": \\\"2638\\\", \\\"type\\\": \\\"GlyphRenderer\\\"}, {\\\"attributes\\\": {\\\"label\\\": {\\\"value\\\": \\\"gross_rent\\\"}, \\\"renderers\\\": [{\\\"id\\\": \\\"2620\\\"}]}, \\\"id\\\": \\\"2631\\\", \\\"type\\\": \\\"LegendItem\\\"}, {\\\"attributes\\\": {}, \\\"id\\\": \\\"2628\\\", \\\"type\\\": \\\"UnionRenderers\\\"}, {\\\"attributes\\\": {}, \\\"id\\\": \\\"2615\\\", \\\"type\\\": \\\"Selection\\\"}, {\\\"attributes\\\": {\\\"line_alpha\\\": 0.2, \\\"line_color\\\": \\\"#1f77b3\\\", \\\"line_width\\\": 2, \\\"x\\\": {\\\"field\\\": \\\"year\\\"}, \\\"y\\\": {\\\"field\\\": \\\"value\\\"}}, \\\"id\\\": \\\"2619\\\", \\\"type\\\": \\\"Line\\\"}, {\\\"attributes\\\": {}, \\\"id\\\": \\\"2633\\\", \\\"type\\\": \\\"Selection\\\"}]}\",\"header\":\"{\\\"msgid\\\": \\\"4395\\\", \\\"msgtype\\\": \\\"PATCH-DOC\\\"}\",\"metadata\":\"{}\"},\"Ingleside \":{\"content\":\"{\\\"events\\\": [{\\\"attr\\\": \\\"factors\\\", \\\"kind\\\": \\\"ModelChanged\\\", \\\"model\\\": {\\\"id\\\": \\\"2577\\\"}, \\\"new\\\": [\\\"2010\\\", \\\"2011\\\", \\\"2014\\\", \\\"2015\\\"]}, {\\\"cols\\\": null, \\\"column_source\\\": {\\\"id\\\": \\\"2614\\\"}, \\\"kind\\\": \\\"ColumnDataChanged\\\", \\\"new\\\": {\\\"Variable\\\": [\\\"gross_rent\\\", \\\"gross_rent\\\", \\\"gross_rent\\\", \\\"gross_rent\\\"], \\\"value\\\": [1239, 1530, 3528, 3739], \\\"year\\\": [\\\"2010\\\", \\\"2011\\\", \\\"2014\\\", \\\"2015\\\"]}}, {\\\"cols\\\": null, \\\"column_source\\\": {\\\"id\\\": \\\"2632\\\"}, \\\"kind\\\": \\\"ColumnDataChanged\\\", \\\"new\\\": {\\\"Variable\\\": [\\\"sale_price_sqr_foot\\\", \\\"sale_price_sqr_foot\\\", \\\"sale_price_sqr_foot\\\", \\\"sale_price_sqr_foot\\\"], \\\"value\\\": {\\\"__ndarray__\\\": \\\"a4srL+gwcUBltPYZWEt2QJi0BnMyPYRAvGp2tkkFaEA=\\\", \\\"dtype\\\": \\\"float64\\\", \\\"order\\\": \\\"little\\\", \\\"shape\\\": [4]}, \\\"year\\\": [\\\"2010\\\", \\\"2011\\\", \\\"2014\\\", \\\"2015\\\"]}}, {\\\"attr\\\": \\\"text\\\", \\\"kind\\\": \\\"ModelChanged\\\", \\\"model\\\": {\\\"id\\\": \\\"2582\\\"}, \\\"new\\\": \\\"neighborhood: Ingleside\\\"}, {\\\"attr\\\": \\\"right\\\", \\\"kind\\\": \\\"ModelChanged\\\", \\\"model\\\": {\\\"id\\\": \\\"2581\\\"}, \\\"new\\\": [{\\\"id\\\": \\\"2630\\\"}]}], \\\"references\\\": [{\\\"attributes\\\": {\\\"click_policy\\\": \\\"mute\\\", \\\"items\\\": [{\\\"id\\\": \\\"2631\\\"}, {\\\"id\\\": \\\"2650\\\"}], \\\"location\\\": [0, 0], \\\"title\\\": \\\"Variable\\\"}, \\\"id\\\": \\\"2630\\\", \\\"type\\\": \\\"Legend\\\"}, {\\\"attributes\\\": {\\\"line_alpha\\\": 0.1, \\\"line_color\\\": \\\"#1f77b3\\\", \\\"line_width\\\": 2, \\\"x\\\": {\\\"field\\\": \\\"year\\\"}, \\\"y\\\": {\\\"field\\\": \\\"value\\\"}}, \\\"id\\\": \\\"2618\\\", \\\"type\\\": \\\"Line\\\"}, {\\\"attributes\\\": {\\\"source\\\": {\\\"id\\\": \\\"2632\\\"}}, \\\"id\\\": \\\"2639\\\", \\\"type\\\": \\\"CDSView\\\"}, {\\\"attributes\\\": {\\\"label\\\": {\\\"value\\\": \\\"sale_price_sqr_foot\\\"}, \\\"renderers\\\": [{\\\"id\\\": \\\"2638\\\"}]}, \\\"id\\\": \\\"2650\\\", \\\"type\\\": \\\"LegendItem\\\"}, {\\\"attributes\\\": {\\\"data\\\": {\\\"Variable\\\": [\\\"gross_rent\\\", \\\"gross_rent\\\", \\\"gross_rent\\\", \\\"gross_rent\\\"], \\\"value\\\": [1239, 1530, 3528, 3739], \\\"year\\\": [\\\"2010\\\", \\\"2011\\\", \\\"2014\\\", \\\"2015\\\"]}, \\\"selected\\\": {\\\"id\\\": \\\"2615\\\"}, \\\"selection_policy\\\": {\\\"id\\\": \\\"2628\\\"}}, \\\"id\\\": \\\"2614\\\", \\\"type\\\": \\\"ColumnDataSource\\\"}, {\\\"attributes\\\": {\\\"data_source\\\": {\\\"id\\\": \\\"2614\\\"}, \\\"glyph\\\": {\\\"id\\\": \\\"2617\\\"}, \\\"hover_glyph\\\": null, \\\"muted_glyph\\\": {\\\"id\\\": \\\"2619\\\"}, \\\"nonselection_glyph\\\": {\\\"id\\\": \\\"2618\\\"}, \\\"selection_glyph\\\": null, \\\"view\\\": {\\\"id\\\": \\\"2621\\\"}}, \\\"id\\\": \\\"2620\\\", \\\"type\\\": \\\"GlyphRenderer\\\"}, {\\\"attributes\\\": {\\\"line_color\\\": \\\"#ff7e0e\\\", \\\"line_width\\\": 2, \\\"x\\\": {\\\"field\\\": \\\"year\\\"}, \\\"y\\\": {\\\"field\\\": \\\"value\\\"}}, \\\"id\\\": \\\"2635\\\", \\\"type\\\": \\\"Line\\\"}, {\\\"attributes\\\": {\\\"line_alpha\\\": 0.2, \\\"line_color\\\": \\\"#ff7e0e\\\", \\\"line_width\\\": 2, \\\"x\\\": {\\\"field\\\": \\\"year\\\"}, \\\"y\\\": {\\\"field\\\": \\\"value\\\"}}, \\\"id\\\": \\\"2637\\\", \\\"type\\\": \\\"Line\\\"}, {\\\"attributes\\\": {\\\"data\\\": {\\\"Variable\\\": [\\\"sale_price_sqr_foot\\\", \\\"sale_price_sqr_foot\\\", \\\"sale_price_sqr_foot\\\", \\\"sale_price_sqr_foot\\\"], \\\"value\\\": {\\\"__ndarray__\\\": \\\"a4srL+gwcUBltPYZWEt2QJi0BnMyPYRAvGp2tkkFaEA=\\\", \\\"dtype\\\": \\\"float64\\\", \\\"order\\\": \\\"little\\\", \\\"shape\\\": [4]}, \\\"year\\\": [\\\"2010\\\", \\\"2011\\\", \\\"2014\\\", \\\"2015\\\"]}, \\\"selected\\\": {\\\"id\\\": \\\"2633\\\"}, \\\"selection_policy\\\": {\\\"id\\\": \\\"2648\\\"}}, \\\"id\\\": \\\"2632\\\", \\\"type\\\": \\\"ColumnDataSource\\\"}, {\\\"attributes\\\": {\\\"source\\\": {\\\"id\\\": \\\"2614\\\"}}, \\\"id\\\": \\\"2621\\\", \\\"type\\\": \\\"CDSView\\\"}, {\\\"attributes\\\": {\\\"line_color\\\": \\\"#1f77b3\\\", \\\"line_width\\\": 2, \\\"x\\\": {\\\"field\\\": \\\"year\\\"}, \\\"y\\\": {\\\"field\\\": \\\"value\\\"}}, \\\"id\\\": \\\"2617\\\", \\\"type\\\": \\\"Line\\\"}, {\\\"attributes\\\": {\\\"line_alpha\\\": 0.1, \\\"line_color\\\": \\\"#ff7e0e\\\", \\\"line_width\\\": 2, \\\"x\\\": {\\\"field\\\": \\\"year\\\"}, \\\"y\\\": {\\\"field\\\": \\\"value\\\"}}, \\\"id\\\": \\\"2636\\\", \\\"type\\\": \\\"Line\\\"}, {\\\"attributes\\\": {}, \\\"id\\\": \\\"2648\\\", \\\"type\\\": \\\"UnionRenderers\\\"}, {\\\"attributes\\\": {\\\"data_source\\\": {\\\"id\\\": \\\"2632\\\"}, \\\"glyph\\\": {\\\"id\\\": \\\"2635\\\"}, \\\"hover_glyph\\\": null, \\\"muted_glyph\\\": {\\\"id\\\": \\\"2637\\\"}, \\\"nonselection_glyph\\\": {\\\"id\\\": \\\"2636\\\"}, \\\"selection_glyph\\\": null, \\\"view\\\": {\\\"id\\\": \\\"2639\\\"}}, \\\"id\\\": \\\"2638\\\", \\\"type\\\": \\\"GlyphRenderer\\\"}, {\\\"attributes\\\": {\\\"label\\\": {\\\"value\\\": \\\"gross_rent\\\"}, \\\"renderers\\\": [{\\\"id\\\": \\\"2620\\\"}]}, \\\"id\\\": \\\"2631\\\", \\\"type\\\": \\\"LegendItem\\\"}, {\\\"attributes\\\": {}, \\\"id\\\": \\\"2628\\\", \\\"type\\\": \\\"UnionRenderers\\\"}, {\\\"attributes\\\": {}, \\\"id\\\": \\\"2615\\\", \\\"type\\\": \\\"Selection\\\"}, {\\\"attributes\\\": {\\\"line_alpha\\\": 0.2, \\\"line_color\\\": \\\"#1f77b3\\\", \\\"line_width\\\": 2, \\\"x\\\": {\\\"field\\\": \\\"year\\\"}, \\\"y\\\": {\\\"field\\\": \\\"value\\\"}}, \\\"id\\\": \\\"2619\\\", \\\"type\\\": \\\"Line\\\"}, {\\\"attributes\\\": {}, \\\"id\\\": \\\"2633\\\", \\\"type\\\": \\\"Selection\\\"}]}\",\"header\":\"{\\\"msgid\\\": \\\"4362\\\", \\\"msgtype\\\": \\\"PATCH-DOC\\\"}\",\"metadata\":\"{}\"},\"Ingleside Heights\":{\"content\":\"{\\\"events\\\": [{\\\"attr\\\": \\\"factors\\\", \\\"kind\\\": \\\"ModelChanged\\\", \\\"model\\\": {\\\"id\\\": \\\"2577\\\"}, \\\"new\\\": [\\\"2011\\\", \\\"2016\\\"]}, {\\\"cols\\\": null, \\\"column_source\\\": {\\\"id\\\": \\\"2614\\\"}, \\\"kind\\\": \\\"ColumnDataChanged\\\", \\\"new\\\": {\\\"Variable\\\": [\\\"gross_rent\\\", \\\"gross_rent\\\"], \\\"value\\\": [1530, 4390], \\\"year\\\": [\\\"2011\\\", \\\"2016\\\"]}}, {\\\"cols\\\": null, \\\"column_source\\\": {\\\"id\\\": \\\"2632\\\"}, \\\"kind\\\": \\\"ColumnDataChanged\\\", \\\"new\\\": {\\\"Variable\\\": [\\\"sale_price_sqr_foot\\\", \\\"sale_price_sqr_foot\\\"], \\\"value\\\": {\\\"__ndarray__\\\": \\\"m3bvB4LAaEBSzU7Oo9yBQA==\\\", \\\"dtype\\\": \\\"float64\\\", \\\"order\\\": \\\"little\\\", \\\"shape\\\": [2]}, \\\"year\\\": [\\\"2011\\\", \\\"2016\\\"]}}, {\\\"attr\\\": \\\"text\\\", \\\"kind\\\": \\\"ModelChanged\\\", \\\"model\\\": {\\\"id\\\": \\\"2582\\\"}, \\\"new\\\": \\\"neighborhood: Ingleside Heights\\\"}, {\\\"attr\\\": \\\"right\\\", \\\"kind\\\": \\\"ModelChanged\\\", \\\"model\\\": {\\\"id\\\": \\\"2581\\\"}, \\\"new\\\": [{\\\"id\\\": \\\"2630\\\"}]}], \\\"references\\\": [{\\\"attributes\\\": {\\\"click_policy\\\": \\\"mute\\\", \\\"items\\\": [{\\\"id\\\": \\\"2631\\\"}, {\\\"id\\\": \\\"2650\\\"}], \\\"location\\\": [0, 0], \\\"title\\\": \\\"Variable\\\"}, \\\"id\\\": \\\"2630\\\", \\\"type\\\": \\\"Legend\\\"}, {\\\"attributes\\\": {\\\"line_alpha\\\": 0.1, \\\"line_color\\\": \\\"#1f77b3\\\", \\\"line_width\\\": 2, \\\"x\\\": {\\\"field\\\": \\\"year\\\"}, \\\"y\\\": {\\\"field\\\": \\\"value\\\"}}, \\\"id\\\": \\\"2618\\\", \\\"type\\\": \\\"Line\\\"}, {\\\"attributes\\\": {\\\"source\\\": {\\\"id\\\": \\\"2632\\\"}}, \\\"id\\\": \\\"2639\\\", \\\"type\\\": \\\"CDSView\\\"}, {\\\"attributes\\\": {\\\"label\\\": {\\\"value\\\": \\\"sale_price_sqr_foot\\\"}, \\\"renderers\\\": [{\\\"id\\\": \\\"2638\\\"}]}, \\\"id\\\": \\\"2650\\\", \\\"type\\\": \\\"LegendItem\\\"}, {\\\"attributes\\\": {\\\"data\\\": {\\\"Variable\\\": [\\\"gross_rent\\\", \\\"gross_rent\\\"], \\\"value\\\": [1530, 4390], \\\"year\\\": [\\\"2011\\\", \\\"2016\\\"]}, \\\"selected\\\": {\\\"id\\\": \\\"2615\\\"}, \\\"selection_policy\\\": {\\\"id\\\": \\\"2628\\\"}}, \\\"id\\\": \\\"2614\\\", \\\"type\\\": \\\"ColumnDataSource\\\"}, {\\\"attributes\\\": {\\\"data_source\\\": {\\\"id\\\": \\\"2614\\\"}, \\\"glyph\\\": {\\\"id\\\": \\\"2617\\\"}, \\\"hover_glyph\\\": null, \\\"muted_glyph\\\": {\\\"id\\\": \\\"2619\\\"}, \\\"nonselection_glyph\\\": {\\\"id\\\": \\\"2618\\\"}, \\\"selection_glyph\\\": null, \\\"view\\\": {\\\"id\\\": \\\"2621\\\"}}, \\\"id\\\": \\\"2620\\\", \\\"type\\\": \\\"GlyphRenderer\\\"}, {\\\"attributes\\\": {\\\"line_color\\\": \\\"#ff7e0e\\\", \\\"line_width\\\": 2, \\\"x\\\": {\\\"field\\\": \\\"year\\\"}, \\\"y\\\": {\\\"field\\\": \\\"value\\\"}}, \\\"id\\\": \\\"2635\\\", \\\"type\\\": \\\"Line\\\"}, {\\\"attributes\\\": {\\\"line_alpha\\\": 0.2, \\\"line_color\\\": \\\"#ff7e0e\\\", \\\"line_width\\\": 2, \\\"x\\\": {\\\"field\\\": \\\"year\\\"}, \\\"y\\\": {\\\"field\\\": \\\"value\\\"}}, \\\"id\\\": \\\"2637\\\", \\\"type\\\": \\\"Line\\\"}, {\\\"attributes\\\": {\\\"data\\\": {\\\"Variable\\\": [\\\"sale_price_sqr_foot\\\", \\\"sale_price_sqr_foot\\\"], \\\"value\\\": {\\\"__ndarray__\\\": \\\"m3bvB4LAaEBSzU7Oo9yBQA==\\\", \\\"dtype\\\": \\\"float64\\\", \\\"order\\\": \\\"little\\\", \\\"shape\\\": [2]}, \\\"year\\\": [\\\"2011\\\", \\\"2016\\\"]}, \\\"selected\\\": {\\\"id\\\": \\\"2633\\\"}, \\\"selection_policy\\\": {\\\"id\\\": \\\"2648\\\"}}, \\\"id\\\": \\\"2632\\\", \\\"type\\\": \\\"ColumnDataSource\\\"}, {\\\"attributes\\\": {\\\"source\\\": {\\\"id\\\": \\\"2614\\\"}}, \\\"id\\\": \\\"2621\\\", \\\"type\\\": \\\"CDSView\\\"}, {\\\"attributes\\\": {\\\"line_color\\\": \\\"#1f77b3\\\", \\\"line_width\\\": 2, \\\"x\\\": {\\\"field\\\": \\\"year\\\"}, \\\"y\\\": {\\\"field\\\": \\\"value\\\"}}, \\\"id\\\": \\\"2617\\\", \\\"type\\\": \\\"Line\\\"}, {\\\"attributes\\\": {\\\"line_alpha\\\": 0.1, \\\"line_color\\\": \\\"#ff7e0e\\\", \\\"line_width\\\": 2, \\\"x\\\": {\\\"field\\\": \\\"year\\\"}, \\\"y\\\": {\\\"field\\\": \\\"value\\\"}}, \\\"id\\\": \\\"2636\\\", \\\"type\\\": \\\"Line\\\"}, {\\\"attributes\\\": {}, \\\"id\\\": \\\"2648\\\", \\\"type\\\": \\\"UnionRenderers\\\"}, {\\\"attributes\\\": {\\\"data_source\\\": {\\\"id\\\": \\\"2632\\\"}, \\\"glyph\\\": {\\\"id\\\": \\\"2635\\\"}, \\\"hover_glyph\\\": null, \\\"muted_glyph\\\": {\\\"id\\\": \\\"2637\\\"}, \\\"nonselection_glyph\\\": {\\\"id\\\": \\\"2636\\\"}, \\\"selection_glyph\\\": null, \\\"view\\\": {\\\"id\\\": \\\"2639\\\"}}, \\\"id\\\": \\\"2638\\\", \\\"type\\\": \\\"GlyphRenderer\\\"}, {\\\"attributes\\\": {\\\"label\\\": {\\\"value\\\": \\\"gross_rent\\\"}, \\\"renderers\\\": [{\\\"id\\\": \\\"2620\\\"}]}, \\\"id\\\": \\\"2631\\\", \\\"type\\\": \\\"LegendItem\\\"}, {\\\"attributes\\\": {}, \\\"id\\\": \\\"2628\\\", \\\"type\\\": \\\"UnionRenderers\\\"}, {\\\"attributes\\\": {}, \\\"id\\\": \\\"2615\\\", \\\"type\\\": \\\"Selection\\\"}, {\\\"attributes\\\": {\\\"line_alpha\\\": 0.2, \\\"line_color\\\": \\\"#1f77b3\\\", \\\"line_width\\\": 2, \\\"x\\\": {\\\"field\\\": \\\"year\\\"}, \\\"y\\\": {\\\"field\\\": \\\"value\\\"}}, \\\"id\\\": \\\"2619\\\", \\\"type\\\": \\\"Line\\\"}, {\\\"attributes\\\": {}, \\\"id\\\": \\\"2633\\\", \\\"type\\\": \\\"Selection\\\"}]}\",\"header\":\"{\\\"msgid\\\": \\\"4329\\\", \\\"msgtype\\\": \\\"PATCH-DOC\\\"}\",\"metadata\":\"{}\"},\"Inner Mission\":{\"content\":\"{\\\"events\\\": [{\\\"attr\\\": \\\"factors\\\", \\\"kind\\\": \\\"ModelChanged\\\", \\\"model\\\": {\\\"id\\\": \\\"2577\\\"}, \\\"new\\\": [\\\"2010\\\", \\\"2011\\\", \\\"2012\\\", \\\"2013\\\", \\\"2014\\\", \\\"2015\\\", \\\"2016\\\"]}, {\\\"cols\\\": null, \\\"column_source\\\": {\\\"id\\\": \\\"2614\\\"}, \\\"kind\\\": \\\"ColumnDataChanged\\\", \\\"new\\\": {\\\"Variable\\\": [\\\"gross_rent\\\", \\\"gross_rent\\\", \\\"gross_rent\\\", \\\"gross_rent\\\", \\\"gross_rent\\\", \\\"gross_rent\\\", \\\"gross_rent\\\"], \\\"value\\\": [1239, 1530, 2324, 2971, 3528, 3739, 4390], \\\"year\\\": [\\\"2010\\\", \\\"2011\\\", \\\"2012\\\", \\\"2013\\\", \\\"2014\\\", \\\"2015\\\", \\\"2016\\\"]}}, {\\\"cols\\\": null, \\\"column_source\\\": {\\\"id\\\": \\\"2632\\\"}, \\\"kind\\\": \\\"ColumnDataChanged\\\", \\\"new\\\": {\\\"Variable\\\": [\\\"sale_price_sqr_foot\\\", \\\"sale_price_sqr_foot\\\", \\\"sale_price_sqr_foot\\\", \\\"sale_price_sqr_foot\\\", \\\"sale_price_sqr_foot\\\", \\\"sale_price_sqr_foot\\\", \\\"sale_price_sqr_foot\\\"], \\\"value\\\": {\\\"__ndarray__\\\": \\\"SQH/XTPLbUAmcCOZzLJxQMpoihc3DXVAuDqzykmYd0BQk3hB0AJ9QEOIcpNpPntAxpU24Ck+hEA=\\\", \\\"dtype\\\": \\\"float64\\\", \\\"order\\\": \\\"little\\\", \\\"shape\\\": [7]}, \\\"year\\\": [\\\"2010\\\", \\\"2011\\\", \\\"2012\\\", \\\"2013\\\", \\\"2014\\\", \\\"2015\\\", \\\"2016\\\"]}}, {\\\"attr\\\": \\\"text\\\", \\\"kind\\\": \\\"ModelChanged\\\", \\\"model\\\": {\\\"id\\\": \\\"2582\\\"}, \\\"new\\\": \\\"neighborhood: Inner Mission\\\"}, {\\\"attr\\\": \\\"right\\\", \\\"kind\\\": \\\"ModelChanged\\\", \\\"model\\\": {\\\"id\\\": \\\"2581\\\"}, \\\"new\\\": [{\\\"id\\\": \\\"2630\\\"}]}], \\\"references\\\": [{\\\"attributes\\\": {\\\"click_policy\\\": \\\"mute\\\", \\\"items\\\": [{\\\"id\\\": \\\"2631\\\"}, {\\\"id\\\": \\\"2650\\\"}], \\\"location\\\": [0, 0], \\\"title\\\": \\\"Variable\\\"}, \\\"id\\\": \\\"2630\\\", \\\"type\\\": \\\"Legend\\\"}, {\\\"attributes\\\": {\\\"line_alpha\\\": 0.1, \\\"line_color\\\": \\\"#1f77b3\\\", \\\"line_width\\\": 2, \\\"x\\\": {\\\"field\\\": \\\"year\\\"}, \\\"y\\\": {\\\"field\\\": \\\"value\\\"}}, \\\"id\\\": \\\"2618\\\", \\\"type\\\": \\\"Line\\\"}, {\\\"attributes\\\": {\\\"source\\\": {\\\"id\\\": \\\"2632\\\"}}, \\\"id\\\": \\\"2639\\\", \\\"type\\\": \\\"CDSView\\\"}, {\\\"attributes\\\": {\\\"label\\\": {\\\"value\\\": \\\"sale_price_sqr_foot\\\"}, \\\"renderers\\\": [{\\\"id\\\": \\\"2638\\\"}]}, \\\"id\\\": \\\"2650\\\", \\\"type\\\": \\\"LegendItem\\\"}, {\\\"attributes\\\": {\\\"data\\\": {\\\"Variable\\\": [\\\"gross_rent\\\", \\\"gross_rent\\\", \\\"gross_rent\\\", \\\"gross_rent\\\", \\\"gross_rent\\\", \\\"gross_rent\\\", \\\"gross_rent\\\"], \\\"value\\\": [1239, 1530, 2324, 2971, 3528, 3739, 4390], \\\"year\\\": [\\\"2010\\\", \\\"2011\\\", \\\"2012\\\", \\\"2013\\\", \\\"2014\\\", \\\"2015\\\", \\\"2016\\\"]}, \\\"selected\\\": {\\\"id\\\": \\\"2615\\\"}, \\\"selection_policy\\\": {\\\"id\\\": \\\"2628\\\"}}, \\\"id\\\": \\\"2614\\\", \\\"type\\\": \\\"ColumnDataSource\\\"}, {\\\"attributes\\\": {\\\"data_source\\\": {\\\"id\\\": \\\"2614\\\"}, \\\"glyph\\\": {\\\"id\\\": \\\"2617\\\"}, \\\"hover_glyph\\\": null, \\\"muted_glyph\\\": {\\\"id\\\": \\\"2619\\\"}, \\\"nonselection_glyph\\\": {\\\"id\\\": \\\"2618\\\"}, \\\"selection_glyph\\\": null, \\\"view\\\": {\\\"id\\\": \\\"2621\\\"}}, \\\"id\\\": \\\"2620\\\", \\\"type\\\": \\\"GlyphRenderer\\\"}, {\\\"attributes\\\": {\\\"line_color\\\": \\\"#ff7e0e\\\", \\\"line_width\\\": 2, \\\"x\\\": {\\\"field\\\": \\\"year\\\"}, \\\"y\\\": {\\\"field\\\": \\\"value\\\"}}, \\\"id\\\": \\\"2635\\\", \\\"type\\\": \\\"Line\\\"}, {\\\"attributes\\\": {\\\"line_alpha\\\": 0.2, \\\"line_color\\\": \\\"#ff7e0e\\\", \\\"line_width\\\": 2, \\\"x\\\": {\\\"field\\\": \\\"year\\\"}, \\\"y\\\": {\\\"field\\\": \\\"value\\\"}}, \\\"id\\\": \\\"2637\\\", \\\"type\\\": \\\"Line\\\"}, {\\\"attributes\\\": {\\\"data\\\": {\\\"Variable\\\": [\\\"sale_price_sqr_foot\\\", \\\"sale_price_sqr_foot\\\", \\\"sale_price_sqr_foot\\\", \\\"sale_price_sqr_foot\\\", \\\"sale_price_sqr_foot\\\", \\\"sale_price_sqr_foot\\\", \\\"sale_price_sqr_foot\\\"], \\\"value\\\": {\\\"__ndarray__\\\": \\\"SQH/XTPLbUAmcCOZzLJxQMpoihc3DXVAuDqzykmYd0BQk3hB0AJ9QEOIcpNpPntAxpU24Ck+hEA=\\\", \\\"dtype\\\": \\\"float64\\\", \\\"order\\\": \\\"little\\\", \\\"shape\\\": [7]}, \\\"year\\\": [\\\"2010\\\", \\\"2011\\\", \\\"2012\\\", \\\"2013\\\", \\\"2014\\\", \\\"2015\\\", \\\"2016\\\"]}, \\\"selected\\\": {\\\"id\\\": \\\"2633\\\"}, \\\"selection_policy\\\": {\\\"id\\\": \\\"2648\\\"}}, \\\"id\\\": \\\"2632\\\", \\\"type\\\": \\\"ColumnDataSource\\\"}, {\\\"attributes\\\": {\\\"source\\\": {\\\"id\\\": \\\"2614\\\"}}, \\\"id\\\": \\\"2621\\\", \\\"type\\\": \\\"CDSView\\\"}, {\\\"attributes\\\": {\\\"line_color\\\": \\\"#1f77b3\\\", \\\"line_width\\\": 2, \\\"x\\\": {\\\"field\\\": \\\"year\\\"}, \\\"y\\\": {\\\"field\\\": \\\"value\\\"}}, \\\"id\\\": \\\"2617\\\", \\\"type\\\": \\\"Line\\\"}, {\\\"attributes\\\": {\\\"line_alpha\\\": 0.1, \\\"line_color\\\": \\\"#ff7e0e\\\", \\\"line_width\\\": 2, \\\"x\\\": {\\\"field\\\": \\\"year\\\"}, \\\"y\\\": {\\\"field\\\": \\\"value\\\"}}, \\\"id\\\": \\\"2636\\\", \\\"type\\\": \\\"Line\\\"}, {\\\"attributes\\\": {}, \\\"id\\\": \\\"2648\\\", \\\"type\\\": \\\"UnionRenderers\\\"}, {\\\"attributes\\\": {\\\"data_source\\\": {\\\"id\\\": \\\"2632\\\"}, \\\"glyph\\\": {\\\"id\\\": \\\"2635\\\"}, \\\"hover_glyph\\\": null, \\\"muted_glyph\\\": {\\\"id\\\": \\\"2637\\\"}, \\\"nonselection_glyph\\\": {\\\"id\\\": \\\"2636\\\"}, \\\"selection_glyph\\\": null, \\\"view\\\": {\\\"id\\\": \\\"2639\\\"}}, \\\"id\\\": \\\"2638\\\", \\\"type\\\": \\\"GlyphRenderer\\\"}, {\\\"attributes\\\": {\\\"label\\\": {\\\"value\\\": \\\"gross_rent\\\"}, \\\"renderers\\\": [{\\\"id\\\": \\\"2620\\\"}]}, \\\"id\\\": \\\"2631\\\", \\\"type\\\": \\\"LegendItem\\\"}, {\\\"attributes\\\": {}, \\\"id\\\": \\\"2628\\\", \\\"type\\\": \\\"UnionRenderers\\\"}, {\\\"attributes\\\": {}, \\\"id\\\": \\\"2615\\\", \\\"type\\\": \\\"Selection\\\"}, {\\\"attributes\\\": {\\\"line_alpha\\\": 0.2, \\\"line_color\\\": \\\"#1f77b3\\\", \\\"line_width\\\": 2, \\\"x\\\": {\\\"field\\\": \\\"year\\\"}, \\\"y\\\": {\\\"field\\\": \\\"value\\\"}}, \\\"id\\\": \\\"2619\\\", \\\"type\\\": \\\"Line\\\"}, {\\\"attributes\\\": {}, \\\"id\\\": \\\"2633\\\", \\\"type\\\": \\\"Selection\\\"}]}\",\"header\":\"{\\\"msgid\\\": \\\"4296\\\", \\\"msgtype\\\": \\\"PATCH-DOC\\\"}\",\"metadata\":\"{}\"},\"Inner Parkside\":{\"content\":\"{\\\"events\\\": [{\\\"attr\\\": \\\"factors\\\", \\\"kind\\\": \\\"ModelChanged\\\", \\\"model\\\": {\\\"id\\\": \\\"2577\\\"}, \\\"new\\\": [\\\"2010\\\", \\\"2014\\\", \\\"2015\\\", \\\"2016\\\"]}, {\\\"cols\\\": null, \\\"column_source\\\": {\\\"id\\\": \\\"2614\\\"}, \\\"kind\\\": \\\"ColumnDataChanged\\\", \\\"new\\\": {\\\"Variable\\\": [\\\"gross_rent\\\", \\\"gross_rent\\\", \\\"gross_rent\\\", \\\"gross_rent\\\"], \\\"value\\\": [1239, 3528, 3739, 4390], \\\"year\\\": [\\\"2010\\\", \\\"2014\\\", \\\"2015\\\", \\\"2016\\\"]}}, {\\\"cols\\\": null, \\\"column_source\\\": {\\\"id\\\": \\\"2632\\\"}, \\\"kind\\\": \\\"ColumnDataChanged\\\", \\\"new\\\": {\\\"Variable\\\": [\\\"sale_price_sqr_foot\\\", \\\"sale_price_sqr_foot\\\", \\\"sale_price_sqr_foot\\\", \\\"sale_price_sqr_foot\\\"], \\\"value\\\": {\\\"__ndarray__\\\": \\\"18ai0Hb2aEDC7XKumqmCQHHi/sU31IdAw4xJteYwgEA=\\\", \\\"dtype\\\": \\\"float64\\\", \\\"order\\\": \\\"little\\\", \\\"shape\\\": [4]}, \\\"year\\\": [\\\"2010\\\", \\\"2014\\\", \\\"2015\\\", \\\"2016\\\"]}}, {\\\"attr\\\": \\\"text\\\", \\\"kind\\\": \\\"ModelChanged\\\", \\\"model\\\": {\\\"id\\\": \\\"2582\\\"}, \\\"new\\\": \\\"neighborhood: Inner Parkside\\\"}, {\\\"attr\\\": \\\"right\\\", \\\"kind\\\": \\\"ModelChanged\\\", \\\"model\\\": {\\\"id\\\": \\\"2581\\\"}, \\\"new\\\": [{\\\"id\\\": \\\"2630\\\"}]}], \\\"references\\\": [{\\\"attributes\\\": {\\\"click_policy\\\": \\\"mute\\\", \\\"items\\\": [{\\\"id\\\": \\\"2631\\\"}, {\\\"id\\\": \\\"2650\\\"}], \\\"location\\\": [0, 0], \\\"title\\\": \\\"Variable\\\"}, \\\"id\\\": \\\"2630\\\", \\\"type\\\": \\\"Legend\\\"}, {\\\"attributes\\\": {\\\"line_alpha\\\": 0.1, \\\"line_color\\\": \\\"#1f77b3\\\", \\\"line_width\\\": 2, \\\"x\\\": {\\\"field\\\": \\\"year\\\"}, \\\"y\\\": {\\\"field\\\": \\\"value\\\"}}, \\\"id\\\": \\\"2618\\\", \\\"type\\\": \\\"Line\\\"}, {\\\"attributes\\\": {\\\"source\\\": {\\\"id\\\": \\\"2632\\\"}}, \\\"id\\\": \\\"2639\\\", \\\"type\\\": \\\"CDSView\\\"}, {\\\"attributes\\\": {\\\"label\\\": {\\\"value\\\": \\\"sale_price_sqr_foot\\\"}, \\\"renderers\\\": [{\\\"id\\\": \\\"2638\\\"}]}, \\\"id\\\": \\\"2650\\\", \\\"type\\\": \\\"LegendItem\\\"}, {\\\"attributes\\\": {\\\"data\\\": {\\\"Variable\\\": [\\\"gross_rent\\\", \\\"gross_rent\\\", \\\"gross_rent\\\", \\\"gross_rent\\\"], \\\"value\\\": [1239, 3528, 3739, 4390], \\\"year\\\": [\\\"2010\\\", \\\"2014\\\", \\\"2015\\\", \\\"2016\\\"]}, \\\"selected\\\": {\\\"id\\\": \\\"2615\\\"}, \\\"selection_policy\\\": {\\\"id\\\": \\\"2628\\\"}}, \\\"id\\\": \\\"2614\\\", \\\"type\\\": \\\"ColumnDataSource\\\"}, {\\\"attributes\\\": {\\\"data_source\\\": {\\\"id\\\": \\\"2614\\\"}, \\\"glyph\\\": {\\\"id\\\": \\\"2617\\\"}, \\\"hover_glyph\\\": null, \\\"muted_glyph\\\": {\\\"id\\\": \\\"2619\\\"}, \\\"nonselection_glyph\\\": {\\\"id\\\": \\\"2618\\\"}, \\\"selection_glyph\\\": null, \\\"view\\\": {\\\"id\\\": \\\"2621\\\"}}, \\\"id\\\": \\\"2620\\\", \\\"type\\\": \\\"GlyphRenderer\\\"}, {\\\"attributes\\\": {\\\"line_color\\\": \\\"#ff7e0e\\\", \\\"line_width\\\": 2, \\\"x\\\": {\\\"field\\\": \\\"year\\\"}, \\\"y\\\": {\\\"field\\\": \\\"value\\\"}}, \\\"id\\\": \\\"2635\\\", \\\"type\\\": \\\"Line\\\"}, {\\\"attributes\\\": {\\\"line_alpha\\\": 0.2, \\\"line_color\\\": \\\"#ff7e0e\\\", \\\"line_width\\\": 2, \\\"x\\\": {\\\"field\\\": \\\"year\\\"}, \\\"y\\\": {\\\"field\\\": \\\"value\\\"}}, \\\"id\\\": \\\"2637\\\", \\\"type\\\": \\\"Line\\\"}, {\\\"attributes\\\": {\\\"data\\\": {\\\"Variable\\\": [\\\"sale_price_sqr_foot\\\", \\\"sale_price_sqr_foot\\\", \\\"sale_price_sqr_foot\\\", \\\"sale_price_sqr_foot\\\"], \\\"value\\\": {\\\"__ndarray__\\\": \\\"18ai0Hb2aEDC7XKumqmCQHHi/sU31IdAw4xJteYwgEA=\\\", \\\"dtype\\\": \\\"float64\\\", \\\"order\\\": \\\"little\\\", \\\"shape\\\": [4]}, \\\"year\\\": [\\\"2010\\\", \\\"2014\\\", \\\"2015\\\", \\\"2016\\\"]}, \\\"selected\\\": {\\\"id\\\": \\\"2633\\\"}, \\\"selection_policy\\\": {\\\"id\\\": \\\"2648\\\"}}, \\\"id\\\": \\\"2632\\\", \\\"type\\\": \\\"ColumnDataSource\\\"}, {\\\"attributes\\\": {\\\"source\\\": {\\\"id\\\": \\\"2614\\\"}}, \\\"id\\\": \\\"2621\\\", \\\"type\\\": \\\"CDSView\\\"}, {\\\"attributes\\\": {\\\"line_color\\\": \\\"#1f77b3\\\", \\\"line_width\\\": 2, \\\"x\\\": {\\\"field\\\": \\\"year\\\"}, \\\"y\\\": {\\\"field\\\": \\\"value\\\"}}, \\\"id\\\": \\\"2617\\\", \\\"type\\\": \\\"Line\\\"}, {\\\"attributes\\\": {\\\"line_alpha\\\": 0.1, \\\"line_color\\\": \\\"#ff7e0e\\\", \\\"line_width\\\": 2, \\\"x\\\": {\\\"field\\\": \\\"year\\\"}, \\\"y\\\": {\\\"field\\\": \\\"value\\\"}}, \\\"id\\\": \\\"2636\\\", \\\"type\\\": \\\"Line\\\"}, {\\\"attributes\\\": {}, \\\"id\\\": \\\"2648\\\", \\\"type\\\": \\\"UnionRenderers\\\"}, {\\\"attributes\\\": {\\\"data_source\\\": {\\\"id\\\": \\\"2632\\\"}, \\\"glyph\\\": {\\\"id\\\": \\\"2635\\\"}, \\\"hover_glyph\\\": null, \\\"muted_glyph\\\": {\\\"id\\\": \\\"2637\\\"}, \\\"nonselection_glyph\\\": {\\\"id\\\": \\\"2636\\\"}, \\\"selection_glyph\\\": null, \\\"view\\\": {\\\"id\\\": \\\"2639\\\"}}, \\\"id\\\": \\\"2638\\\", \\\"type\\\": \\\"GlyphRenderer\\\"}, {\\\"attributes\\\": {\\\"label\\\": {\\\"value\\\": \\\"gross_rent\\\"}, \\\"renderers\\\": [{\\\"id\\\": \\\"2620\\\"}]}, \\\"id\\\": \\\"2631\\\", \\\"type\\\": \\\"LegendItem\\\"}, {\\\"attributes\\\": {}, \\\"id\\\": \\\"2628\\\", \\\"type\\\": \\\"UnionRenderers\\\"}, {\\\"attributes\\\": {}, \\\"id\\\": \\\"2615\\\", \\\"type\\\": \\\"Selection\\\"}, {\\\"attributes\\\": {\\\"line_alpha\\\": 0.2, \\\"line_color\\\": \\\"#1f77b3\\\", \\\"line_width\\\": 2, \\\"x\\\": {\\\"field\\\": \\\"year\\\"}, \\\"y\\\": {\\\"field\\\": \\\"value\\\"}}, \\\"id\\\": \\\"2619\\\", \\\"type\\\": \\\"Line\\\"}, {\\\"attributes\\\": {}, \\\"id\\\": \\\"2633\\\", \\\"type\\\": \\\"Selection\\\"}]}\",\"header\":\"{\\\"msgid\\\": \\\"4263\\\", \\\"msgtype\\\": \\\"PATCH-DOC\\\"}\",\"metadata\":\"{}\"},\"Inner Richmond\":{\"content\":\"{\\\"events\\\": [{\\\"cols\\\": null, \\\"column_source\\\": {\\\"id\\\": \\\"2614\\\"}, \\\"kind\\\": \\\"ColumnDataChanged\\\", \\\"new\\\": {\\\"Variable\\\": [\\\"gross_rent\\\", \\\"gross_rent\\\", \\\"gross_rent\\\", \\\"gross_rent\\\", \\\"gross_rent\\\", \\\"gross_rent\\\", \\\"gross_rent\\\"], \\\"value\\\": [1239, 1530, 2324, 2971, 3528, 3739, 4390], \\\"year\\\": [\\\"2010\\\", \\\"2011\\\", \\\"2012\\\", \\\"2013\\\", \\\"2014\\\", \\\"2015\\\", \\\"2016\\\"]}}, {\\\"cols\\\": null, \\\"column_source\\\": {\\\"id\\\": \\\"2632\\\"}, \\\"kind\\\": \\\"ColumnDataChanged\\\", \\\"new\\\": {\\\"Variable\\\": [\\\"sale_price_sqr_foot\\\", \\\"sale_price_sqr_foot\\\", \\\"sale_price_sqr_foot\\\", \\\"sale_price_sqr_foot\\\", \\\"sale_price_sqr_foot\\\", \\\"sale_price_sqr_foot\\\", \\\"sale_price_sqr_foot\\\"], \\\"value\\\": {\\\"__ndarray__\\\": \\\"rudfYSjdcUC/5PKqmIB2QOH8A0Z4V3dAg75VYHrvckDbABfACO96QP4B9lLZ2X5AcgrFZfo0eUA=\\\", \\\"dtype\\\": \\\"float64\\\", \\\"order\\\": \\\"little\\\", \\\"shape\\\": [7]}, \\\"year\\\": [\\\"2010\\\", \\\"2011\\\", \\\"2012\\\", \\\"2013\\\", \\\"2014\\\", \\\"2015\\\", \\\"2016\\\"]}}, {\\\"attr\\\": \\\"text\\\", \\\"kind\\\": \\\"ModelChanged\\\", \\\"model\\\": {\\\"id\\\": \\\"2582\\\"}, \\\"new\\\": \\\"neighborhood: Inner Richmond\\\"}, {\\\"attr\\\": \\\"right\\\", \\\"kind\\\": \\\"ModelChanged\\\", \\\"model\\\": {\\\"id\\\": \\\"2581\\\"}, \\\"new\\\": [{\\\"id\\\": \\\"2630\\\"}]}], \\\"references\\\": [{\\\"attributes\\\": {\\\"click_policy\\\": \\\"mute\\\", \\\"items\\\": [{\\\"id\\\": \\\"2631\\\"}, {\\\"id\\\": \\\"2650\\\"}], \\\"location\\\": [0, 0], \\\"title\\\": \\\"Variable\\\"}, \\\"id\\\": \\\"2630\\\", \\\"type\\\": \\\"Legend\\\"}, {\\\"attributes\\\": {\\\"line_alpha\\\": 0.1, \\\"line_color\\\": \\\"#1f77b3\\\", \\\"line_width\\\": 2, \\\"x\\\": {\\\"field\\\": \\\"year\\\"}, \\\"y\\\": {\\\"field\\\": \\\"value\\\"}}, \\\"id\\\": \\\"2618\\\", \\\"type\\\": \\\"Line\\\"}, {\\\"attributes\\\": {\\\"source\\\": {\\\"id\\\": \\\"2632\\\"}}, \\\"id\\\": \\\"2639\\\", \\\"type\\\": \\\"CDSView\\\"}, {\\\"attributes\\\": {\\\"label\\\": {\\\"value\\\": \\\"sale_price_sqr_foot\\\"}, \\\"renderers\\\": [{\\\"id\\\": \\\"2638\\\"}]}, \\\"id\\\": \\\"2650\\\", \\\"type\\\": \\\"LegendItem\\\"}, {\\\"attributes\\\": {\\\"data\\\": {\\\"Variable\\\": [\\\"gross_rent\\\", \\\"gross_rent\\\", \\\"gross_rent\\\", \\\"gross_rent\\\", \\\"gross_rent\\\", \\\"gross_rent\\\", \\\"gross_rent\\\"], \\\"value\\\": [1239, 1530, 2324, 2971, 3528, 3739, 4390], \\\"year\\\": [\\\"2010\\\", \\\"2011\\\", \\\"2012\\\", \\\"2013\\\", \\\"2014\\\", \\\"2015\\\", \\\"2016\\\"]}, \\\"selected\\\": {\\\"id\\\": \\\"2615\\\"}, \\\"selection_policy\\\": {\\\"id\\\": \\\"2628\\\"}}, \\\"id\\\": \\\"2614\\\", \\\"type\\\": \\\"ColumnDataSource\\\"}, {\\\"attributes\\\": {\\\"data_source\\\": {\\\"id\\\": \\\"2614\\\"}, \\\"glyph\\\": {\\\"id\\\": \\\"2617\\\"}, \\\"hover_glyph\\\": null, \\\"muted_glyph\\\": {\\\"id\\\": \\\"2619\\\"}, \\\"nonselection_glyph\\\": {\\\"id\\\": \\\"2618\\\"}, \\\"selection_glyph\\\": null, \\\"view\\\": {\\\"id\\\": \\\"2621\\\"}}, \\\"id\\\": \\\"2620\\\", \\\"type\\\": \\\"GlyphRenderer\\\"}, {\\\"attributes\\\": {\\\"line_color\\\": \\\"#ff7e0e\\\", \\\"line_width\\\": 2, \\\"x\\\": {\\\"field\\\": \\\"year\\\"}, \\\"y\\\": {\\\"field\\\": \\\"value\\\"}}, \\\"id\\\": \\\"2635\\\", \\\"type\\\": \\\"Line\\\"}, {\\\"attributes\\\": {\\\"line_alpha\\\": 0.2, \\\"line_color\\\": \\\"#ff7e0e\\\", \\\"line_width\\\": 2, \\\"x\\\": {\\\"field\\\": \\\"year\\\"}, \\\"y\\\": {\\\"field\\\": \\\"value\\\"}}, \\\"id\\\": \\\"2637\\\", \\\"type\\\": \\\"Line\\\"}, {\\\"attributes\\\": {\\\"data\\\": {\\\"Variable\\\": [\\\"sale_price_sqr_foot\\\", \\\"sale_price_sqr_foot\\\", \\\"sale_price_sqr_foot\\\", \\\"sale_price_sqr_foot\\\", \\\"sale_price_sqr_foot\\\", \\\"sale_price_sqr_foot\\\", \\\"sale_price_sqr_foot\\\"], \\\"value\\\": {\\\"__ndarray__\\\": \\\"rudfYSjdcUC/5PKqmIB2QOH8A0Z4V3dAg75VYHrvckDbABfACO96QP4B9lLZ2X5AcgrFZfo0eUA=\\\", \\\"dtype\\\": \\\"float64\\\", \\\"order\\\": \\\"little\\\", \\\"shape\\\": [7]}, \\\"year\\\": [\\\"2010\\\", \\\"2011\\\", \\\"2012\\\", \\\"2013\\\", \\\"2014\\\", \\\"2015\\\", \\\"2016\\\"]}, \\\"selected\\\": {\\\"id\\\": \\\"2633\\\"}, \\\"selection_policy\\\": {\\\"id\\\": \\\"2648\\\"}}, \\\"id\\\": \\\"2632\\\", \\\"type\\\": \\\"ColumnDataSource\\\"}, {\\\"attributes\\\": {\\\"source\\\": {\\\"id\\\": \\\"2614\\\"}}, \\\"id\\\": \\\"2621\\\", \\\"type\\\": \\\"CDSView\\\"}, {\\\"attributes\\\": {\\\"line_color\\\": \\\"#1f77b3\\\", \\\"line_width\\\": 2, \\\"x\\\": {\\\"field\\\": \\\"year\\\"}, \\\"y\\\": {\\\"field\\\": \\\"value\\\"}}, \\\"id\\\": \\\"2617\\\", \\\"type\\\": \\\"Line\\\"}, {\\\"attributes\\\": {\\\"line_alpha\\\": 0.1, \\\"line_color\\\": \\\"#ff7e0e\\\", \\\"line_width\\\": 2, \\\"x\\\": {\\\"field\\\": \\\"year\\\"}, \\\"y\\\": {\\\"field\\\": \\\"value\\\"}}, \\\"id\\\": \\\"2636\\\", \\\"type\\\": \\\"Line\\\"}, {\\\"attributes\\\": {}, \\\"id\\\": \\\"2648\\\", \\\"type\\\": \\\"UnionRenderers\\\"}, {\\\"attributes\\\": {\\\"data_source\\\": {\\\"id\\\": \\\"2632\\\"}, \\\"glyph\\\": {\\\"id\\\": \\\"2635\\\"}, \\\"hover_glyph\\\": null, \\\"muted_glyph\\\": {\\\"id\\\": \\\"2637\\\"}, \\\"nonselection_glyph\\\": {\\\"id\\\": \\\"2636\\\"}, \\\"selection_glyph\\\": null, \\\"view\\\": {\\\"id\\\": \\\"2639\\\"}}, \\\"id\\\": \\\"2638\\\", \\\"type\\\": \\\"GlyphRenderer\\\"}, {\\\"attributes\\\": {\\\"label\\\": {\\\"value\\\": \\\"gross_rent\\\"}, \\\"renderers\\\": [{\\\"id\\\": \\\"2620\\\"}]}, \\\"id\\\": \\\"2631\\\", \\\"type\\\": \\\"LegendItem\\\"}, {\\\"attributes\\\": {}, \\\"id\\\": \\\"2628\\\", \\\"type\\\": \\\"UnionRenderers\\\"}, {\\\"attributes\\\": {}, \\\"id\\\": \\\"2615\\\", \\\"type\\\": \\\"Selection\\\"}, {\\\"attributes\\\": {\\\"line_alpha\\\": 0.2, \\\"line_color\\\": \\\"#1f77b3\\\", \\\"line_width\\\": 2, \\\"x\\\": {\\\"field\\\": \\\"year\\\"}, \\\"y\\\": {\\\"field\\\": \\\"value\\\"}}, \\\"id\\\": \\\"2619\\\", \\\"type\\\": \\\"Line\\\"}, {\\\"attributes\\\": {}, \\\"id\\\": \\\"2633\\\", \\\"type\\\": \\\"Selection\\\"}]}\",\"header\":\"{\\\"msgid\\\": \\\"4230\\\", \\\"msgtype\\\": \\\"PATCH-DOC\\\"}\",\"metadata\":\"{}\"},\"Inner Sunset\":{\"content\":\"{\\\"events\\\": [{\\\"cols\\\": null, \\\"column_source\\\": {\\\"id\\\": \\\"2614\\\"}, \\\"kind\\\": \\\"ColumnDataChanged\\\", \\\"new\\\": {\\\"Variable\\\": [\\\"gross_rent\\\", \\\"gross_rent\\\", \\\"gross_rent\\\", \\\"gross_rent\\\", \\\"gross_rent\\\", \\\"gross_rent\\\", \\\"gross_rent\\\"], \\\"value\\\": [1239, 1530, 2324, 2971, 3528, 3739, 4390], \\\"year\\\": [\\\"2010\\\", \\\"2011\\\", \\\"2012\\\", \\\"2013\\\", \\\"2014\\\", \\\"2015\\\", \\\"2016\\\"]}}, {\\\"cols\\\": null, \\\"column_source\\\": {\\\"id\\\": \\\"2632\\\"}, \\\"kind\\\": \\\"ColumnDataChanged\\\", \\\"new\\\": {\\\"Variable\\\": [\\\"sale_price_sqr_foot\\\", \\\"sale_price_sqr_foot\\\", \\\"sale_price_sqr_foot\\\", \\\"sale_price_sqr_foot\\\", \\\"sale_price_sqr_foot\\\", \\\"sale_price_sqr_foot\\\", \\\"sale_price_sqr_foot\\\"], \\\"value\\\": {\\\"__ndarray__\\\": \\\"dFv1z1A8cUAZrCL9q+lyQMlvDkJDXXRAh0YXDbs4e0A5E+8OqG19QJJvw+or+YNAR50mAMjee0A=\\\", \\\"dtype\\\": \\\"float64\\\", \\\"order\\\": \\\"little\\\", \\\"shape\\\": [7]}, \\\"year\\\": [\\\"2010\\\", \\\"2011\\\", \\\"2012\\\", \\\"2013\\\", \\\"2014\\\", \\\"2015\\\", \\\"2016\\\"]}}, {\\\"attr\\\": \\\"text\\\", \\\"kind\\\": \\\"ModelChanged\\\", \\\"model\\\": {\\\"id\\\": \\\"2582\\\"}, \\\"new\\\": \\\"neighborhood: Inner Sunset\\\"}, {\\\"attr\\\": \\\"right\\\", \\\"kind\\\": \\\"ModelChanged\\\", \\\"model\\\": {\\\"id\\\": \\\"2581\\\"}, \\\"new\\\": [{\\\"id\\\": \\\"2630\\\"}]}], \\\"references\\\": [{\\\"attributes\\\": {\\\"click_policy\\\": \\\"mute\\\", \\\"items\\\": [{\\\"id\\\": \\\"2631\\\"}, {\\\"id\\\": \\\"2650\\\"}], \\\"location\\\": [0, 0], \\\"title\\\": \\\"Variable\\\"}, \\\"id\\\": \\\"2630\\\", \\\"type\\\": \\\"Legend\\\"}, {\\\"attributes\\\": {\\\"line_alpha\\\": 0.1, \\\"line_color\\\": \\\"#1f77b3\\\", \\\"line_width\\\": 2, \\\"x\\\": {\\\"field\\\": \\\"year\\\"}, \\\"y\\\": {\\\"field\\\": \\\"value\\\"}}, \\\"id\\\": \\\"2618\\\", \\\"type\\\": \\\"Line\\\"}, {\\\"attributes\\\": {\\\"source\\\": {\\\"id\\\": \\\"2632\\\"}}, \\\"id\\\": \\\"2639\\\", \\\"type\\\": \\\"CDSView\\\"}, {\\\"attributes\\\": {\\\"label\\\": {\\\"value\\\": \\\"sale_price_sqr_foot\\\"}, \\\"renderers\\\": [{\\\"id\\\": \\\"2638\\\"}]}, \\\"id\\\": \\\"2650\\\", \\\"type\\\": \\\"LegendItem\\\"}, {\\\"attributes\\\": {\\\"data\\\": {\\\"Variable\\\": [\\\"gross_rent\\\", \\\"gross_rent\\\", \\\"gross_rent\\\", \\\"gross_rent\\\", \\\"gross_rent\\\", \\\"gross_rent\\\", \\\"gross_rent\\\"], \\\"value\\\": [1239, 1530, 2324, 2971, 3528, 3739, 4390], \\\"year\\\": [\\\"2010\\\", \\\"2011\\\", \\\"2012\\\", \\\"2013\\\", \\\"2014\\\", \\\"2015\\\", \\\"2016\\\"]}, \\\"selected\\\": {\\\"id\\\": \\\"2615\\\"}, \\\"selection_policy\\\": {\\\"id\\\": \\\"2628\\\"}}, \\\"id\\\": \\\"2614\\\", \\\"type\\\": \\\"ColumnDataSource\\\"}, {\\\"attributes\\\": {\\\"data_source\\\": {\\\"id\\\": \\\"2614\\\"}, \\\"glyph\\\": {\\\"id\\\": \\\"2617\\\"}, \\\"hover_glyph\\\": null, \\\"muted_glyph\\\": {\\\"id\\\": \\\"2619\\\"}, \\\"nonselection_glyph\\\": {\\\"id\\\": \\\"2618\\\"}, \\\"selection_glyph\\\": null, \\\"view\\\": {\\\"id\\\": \\\"2621\\\"}}, \\\"id\\\": \\\"2620\\\", \\\"type\\\": \\\"GlyphRenderer\\\"}, {\\\"attributes\\\": {\\\"line_color\\\": \\\"#ff7e0e\\\", \\\"line_width\\\": 2, \\\"x\\\": {\\\"field\\\": \\\"year\\\"}, \\\"y\\\": {\\\"field\\\": \\\"value\\\"}}, \\\"id\\\": \\\"2635\\\", \\\"type\\\": \\\"Line\\\"}, {\\\"attributes\\\": {\\\"line_alpha\\\": 0.2, \\\"line_color\\\": \\\"#ff7e0e\\\", \\\"line_width\\\": 2, \\\"x\\\": {\\\"field\\\": \\\"year\\\"}, \\\"y\\\": {\\\"field\\\": \\\"value\\\"}}, \\\"id\\\": \\\"2637\\\", \\\"type\\\": \\\"Line\\\"}, {\\\"attributes\\\": {\\\"data\\\": {\\\"Variable\\\": [\\\"sale_price_sqr_foot\\\", \\\"sale_price_sqr_foot\\\", \\\"sale_price_sqr_foot\\\", \\\"sale_price_sqr_foot\\\", \\\"sale_price_sqr_foot\\\", \\\"sale_price_sqr_foot\\\", \\\"sale_price_sqr_foot\\\"], \\\"value\\\": {\\\"__ndarray__\\\": \\\"dFv1z1A8cUAZrCL9q+lyQMlvDkJDXXRAh0YXDbs4e0A5E+8OqG19QJJvw+or+YNAR50mAMjee0A=\\\", \\\"dtype\\\": \\\"float64\\\", \\\"order\\\": \\\"little\\\", \\\"shape\\\": [7]}, \\\"year\\\": [\\\"2010\\\", \\\"2011\\\", \\\"2012\\\", \\\"2013\\\", \\\"2014\\\", \\\"2015\\\", \\\"2016\\\"]}, \\\"selected\\\": {\\\"id\\\": \\\"2633\\\"}, \\\"selection_policy\\\": {\\\"id\\\": \\\"2648\\\"}}, \\\"id\\\": \\\"2632\\\", \\\"type\\\": \\\"ColumnDataSource\\\"}, {\\\"attributes\\\": {\\\"source\\\": {\\\"id\\\": \\\"2614\\\"}}, \\\"id\\\": \\\"2621\\\", \\\"type\\\": \\\"CDSView\\\"}, {\\\"attributes\\\": {\\\"line_color\\\": \\\"#1f77b3\\\", \\\"line_width\\\": 2, \\\"x\\\": {\\\"field\\\": \\\"year\\\"}, \\\"y\\\": {\\\"field\\\": \\\"value\\\"}}, \\\"id\\\": \\\"2617\\\", \\\"type\\\": \\\"Line\\\"}, {\\\"attributes\\\": {\\\"line_alpha\\\": 0.1, \\\"line_color\\\": \\\"#ff7e0e\\\", \\\"line_width\\\": 2, \\\"x\\\": {\\\"field\\\": \\\"year\\\"}, \\\"y\\\": {\\\"field\\\": \\\"value\\\"}}, \\\"id\\\": \\\"2636\\\", \\\"type\\\": \\\"Line\\\"}, {\\\"attributes\\\": {}, \\\"id\\\": \\\"2648\\\", \\\"type\\\": \\\"UnionRenderers\\\"}, {\\\"attributes\\\": {\\\"data_source\\\": {\\\"id\\\": \\\"2632\\\"}, \\\"glyph\\\": {\\\"id\\\": \\\"2635\\\"}, \\\"hover_glyph\\\": null, \\\"muted_glyph\\\": {\\\"id\\\": \\\"2637\\\"}, \\\"nonselection_glyph\\\": {\\\"id\\\": \\\"2636\\\"}, \\\"selection_glyph\\\": null, \\\"view\\\": {\\\"id\\\": \\\"2639\\\"}}, \\\"id\\\": \\\"2638\\\", \\\"type\\\": \\\"GlyphRenderer\\\"}, {\\\"attributes\\\": {\\\"label\\\": {\\\"value\\\": \\\"gross_rent\\\"}, \\\"renderers\\\": [{\\\"id\\\": \\\"2620\\\"}]}, \\\"id\\\": \\\"2631\\\", \\\"type\\\": \\\"LegendItem\\\"}, {\\\"attributes\\\": {}, \\\"id\\\": \\\"2628\\\", \\\"type\\\": \\\"UnionRenderers\\\"}, {\\\"attributes\\\": {}, \\\"id\\\": \\\"2615\\\", \\\"type\\\": \\\"Selection\\\"}, {\\\"attributes\\\": {\\\"line_alpha\\\": 0.2, \\\"line_color\\\": \\\"#1f77b3\\\", \\\"line_width\\\": 2, \\\"x\\\": {\\\"field\\\": \\\"year\\\"}, \\\"y\\\": {\\\"field\\\": \\\"value\\\"}}, \\\"id\\\": \\\"2619\\\", \\\"type\\\": \\\"Line\\\"}, {\\\"attributes\\\": {}, \\\"id\\\": \\\"2633\\\", \\\"type\\\": \\\"Selection\\\"}]}\",\"header\":\"{\\\"msgid\\\": \\\"4197\\\", \\\"msgtype\\\": \\\"PATCH-DOC\\\"}\",\"metadata\":\"{}\"},\"Jordan Park/Laurel Heights\":{\"content\":\"{\\\"events\\\": [{\\\"attr\\\": \\\"factors\\\", \\\"kind\\\": \\\"ModelChanged\\\", \\\"model\\\": {\\\"id\\\": \\\"2577\\\"}, \\\"new\\\": [\\\"2010\\\", \\\"2011\\\", \\\"2012\\\", \\\"2013\\\", \\\"2014\\\", \\\"2015\\\", \\\"2016\\\"]}, {\\\"cols\\\": null, \\\"column_source\\\": {\\\"id\\\": \\\"2614\\\"}, \\\"kind\\\": \\\"ColumnDataChanged\\\", \\\"new\\\": {\\\"Variable\\\": [\\\"gross_rent\\\", \\\"gross_rent\\\", \\\"gross_rent\\\", \\\"gross_rent\\\", \\\"gross_rent\\\", \\\"gross_rent\\\", \\\"gross_rent\\\"], \\\"value\\\": [1239, 1530, 2324, 2971, 3528, 3739, 4390], \\\"year\\\": [\\\"2010\\\", \\\"2011\\\", \\\"2012\\\", \\\"2013\\\", \\\"2014\\\", \\\"2015\\\", \\\"2016\\\"]}}, {\\\"cols\\\": null, \\\"column_source\\\": {\\\"id\\\": \\\"2632\\\"}, \\\"kind\\\": \\\"ColumnDataChanged\\\", \\\"new\\\": {\\\"Variable\\\": [\\\"sale_price_sqr_foot\\\", \\\"sale_price_sqr_foot\\\", \\\"sale_price_sqr_foot\\\", \\\"sale_price_sqr_foot\\\", \\\"sale_price_sqr_foot\\\", \\\"sale_price_sqr_foot\\\", \\\"sale_price_sqr_foot\\\"], \\\"value\\\": {\\\"__ndarray__\\\": \\\"uuY5ejQ+ekAnLEsgIhaDQE4svQVo8ndAEAzB95ZAgkAi628Elax6QPxXbMypA4JAUAesBogEhkA=\\\", \\\"dtype\\\": \\\"float64\\\", \\\"order\\\": \\\"little\\\", \\\"shape\\\": [7]}, \\\"year\\\": [\\\"2010\\\", \\\"2011\\\", \\\"2012\\\", \\\"2013\\\", \\\"2014\\\", \\\"2015\\\", \\\"2016\\\"]}}, {\\\"attr\\\": \\\"text\\\", \\\"kind\\\": \\\"ModelChanged\\\", \\\"model\\\": {\\\"id\\\": \\\"2582\\\"}, \\\"new\\\": \\\"neighborhood: Jordan Park/Laurel Heights\\\"}, {\\\"attr\\\": \\\"right\\\", \\\"kind\\\": \\\"ModelChanged\\\", \\\"model\\\": {\\\"id\\\": \\\"2581\\\"}, \\\"new\\\": [{\\\"id\\\": \\\"2630\\\"}]}], \\\"references\\\": [{\\\"attributes\\\": {\\\"click_policy\\\": \\\"mute\\\", \\\"items\\\": [{\\\"id\\\": \\\"2631\\\"}, {\\\"id\\\": \\\"2650\\\"}], \\\"location\\\": [0, 0], \\\"title\\\": \\\"Variable\\\"}, \\\"id\\\": \\\"2630\\\", \\\"type\\\": \\\"Legend\\\"}, {\\\"attributes\\\": {\\\"line_alpha\\\": 0.1, \\\"line_color\\\": \\\"#1f77b3\\\", \\\"line_width\\\": 2, \\\"x\\\": {\\\"field\\\": \\\"year\\\"}, \\\"y\\\": {\\\"field\\\": \\\"value\\\"}}, \\\"id\\\": \\\"2618\\\", \\\"type\\\": \\\"Line\\\"}, {\\\"attributes\\\": {\\\"source\\\": {\\\"id\\\": \\\"2632\\\"}}, \\\"id\\\": \\\"2639\\\", \\\"type\\\": \\\"CDSView\\\"}, {\\\"attributes\\\": {\\\"label\\\": {\\\"value\\\": \\\"sale_price_sqr_foot\\\"}, \\\"renderers\\\": [{\\\"id\\\": \\\"2638\\\"}]}, \\\"id\\\": \\\"2650\\\", \\\"type\\\": \\\"LegendItem\\\"}, {\\\"attributes\\\": {\\\"data\\\": {\\\"Variable\\\": [\\\"gross_rent\\\", \\\"gross_rent\\\", \\\"gross_rent\\\", \\\"gross_rent\\\", \\\"gross_rent\\\", \\\"gross_rent\\\", \\\"gross_rent\\\"], \\\"value\\\": [1239, 1530, 2324, 2971, 3528, 3739, 4390], \\\"year\\\": [\\\"2010\\\", \\\"2011\\\", \\\"2012\\\", \\\"2013\\\", \\\"2014\\\", \\\"2015\\\", \\\"2016\\\"]}, \\\"selected\\\": {\\\"id\\\": \\\"2615\\\"}, \\\"selection_policy\\\": {\\\"id\\\": \\\"2628\\\"}}, \\\"id\\\": \\\"2614\\\", \\\"type\\\": \\\"ColumnDataSource\\\"}, {\\\"attributes\\\": {\\\"data_source\\\": {\\\"id\\\": \\\"2614\\\"}, \\\"glyph\\\": {\\\"id\\\": \\\"2617\\\"}, \\\"hover_glyph\\\": null, \\\"muted_glyph\\\": {\\\"id\\\": \\\"2619\\\"}, \\\"nonselection_glyph\\\": {\\\"id\\\": \\\"2618\\\"}, \\\"selection_glyph\\\": null, \\\"view\\\": {\\\"id\\\": \\\"2621\\\"}}, \\\"id\\\": \\\"2620\\\", \\\"type\\\": \\\"GlyphRenderer\\\"}, {\\\"attributes\\\": {\\\"line_color\\\": \\\"#ff7e0e\\\", \\\"line_width\\\": 2, \\\"x\\\": {\\\"field\\\": \\\"year\\\"}, \\\"y\\\": {\\\"field\\\": \\\"value\\\"}}, \\\"id\\\": \\\"2635\\\", \\\"type\\\": \\\"Line\\\"}, {\\\"attributes\\\": {\\\"line_alpha\\\": 0.2, \\\"line_color\\\": \\\"#ff7e0e\\\", \\\"line_width\\\": 2, \\\"x\\\": {\\\"field\\\": \\\"year\\\"}, \\\"y\\\": {\\\"field\\\": \\\"value\\\"}}, \\\"id\\\": \\\"2637\\\", \\\"type\\\": \\\"Line\\\"}, {\\\"attributes\\\": {\\\"data\\\": {\\\"Variable\\\": [\\\"sale_price_sqr_foot\\\", \\\"sale_price_sqr_foot\\\", \\\"sale_price_sqr_foot\\\", \\\"sale_price_sqr_foot\\\", \\\"sale_price_sqr_foot\\\", \\\"sale_price_sqr_foot\\\", \\\"sale_price_sqr_foot\\\"], \\\"value\\\": {\\\"__ndarray__\\\": \\\"uuY5ejQ+ekAnLEsgIhaDQE4svQVo8ndAEAzB95ZAgkAi628Elax6QPxXbMypA4JAUAesBogEhkA=\\\", \\\"dtype\\\": \\\"float64\\\", \\\"order\\\": \\\"little\\\", \\\"shape\\\": [7]}, \\\"year\\\": [\\\"2010\\\", \\\"2011\\\", \\\"2012\\\", \\\"2013\\\", \\\"2014\\\", \\\"2015\\\", \\\"2016\\\"]}, \\\"selected\\\": {\\\"id\\\": \\\"2633\\\"}, \\\"selection_policy\\\": {\\\"id\\\": \\\"2648\\\"}}, \\\"id\\\": \\\"2632\\\", \\\"type\\\": \\\"ColumnDataSource\\\"}, {\\\"attributes\\\": {\\\"source\\\": {\\\"id\\\": \\\"2614\\\"}}, \\\"id\\\": \\\"2621\\\", \\\"type\\\": \\\"CDSView\\\"}, {\\\"attributes\\\": {\\\"line_color\\\": \\\"#1f77b3\\\", \\\"line_width\\\": 2, \\\"x\\\": {\\\"field\\\": \\\"year\\\"}, \\\"y\\\": {\\\"field\\\": \\\"value\\\"}}, \\\"id\\\": \\\"2617\\\", \\\"type\\\": \\\"Line\\\"}, {\\\"attributes\\\": {\\\"line_alpha\\\": 0.1, \\\"line_color\\\": \\\"#ff7e0e\\\", \\\"line_width\\\": 2, \\\"x\\\": {\\\"field\\\": \\\"year\\\"}, \\\"y\\\": {\\\"field\\\": \\\"value\\\"}}, \\\"id\\\": \\\"2636\\\", \\\"type\\\": \\\"Line\\\"}, {\\\"attributes\\\": {}, \\\"id\\\": \\\"2648\\\", \\\"type\\\": \\\"UnionRenderers\\\"}, {\\\"attributes\\\": {\\\"data_source\\\": {\\\"id\\\": \\\"2632\\\"}, \\\"glyph\\\": {\\\"id\\\": \\\"2635\\\"}, \\\"hover_glyph\\\": null, \\\"muted_glyph\\\": {\\\"id\\\": \\\"2637\\\"}, \\\"nonselection_glyph\\\": {\\\"id\\\": \\\"2636\\\"}, \\\"selection_glyph\\\": null, \\\"view\\\": {\\\"id\\\": \\\"2639\\\"}}, \\\"id\\\": \\\"2638\\\", \\\"type\\\": \\\"GlyphRenderer\\\"}, {\\\"attributes\\\": {\\\"label\\\": {\\\"value\\\": \\\"gross_rent\\\"}, \\\"renderers\\\": [{\\\"id\\\": \\\"2620\\\"}]}, \\\"id\\\": \\\"2631\\\", \\\"type\\\": \\\"LegendItem\\\"}, {\\\"attributes\\\": {}, \\\"id\\\": \\\"2628\\\", \\\"type\\\": \\\"UnionRenderers\\\"}, {\\\"attributes\\\": {}, \\\"id\\\": \\\"2615\\\", \\\"type\\\": \\\"Selection\\\"}, {\\\"attributes\\\": {\\\"line_alpha\\\": 0.2, \\\"line_color\\\": \\\"#1f77b3\\\", \\\"line_width\\\": 2, \\\"x\\\": {\\\"field\\\": \\\"year\\\"}, \\\"y\\\": {\\\"field\\\": \\\"value\\\"}}, \\\"id\\\": \\\"2619\\\", \\\"type\\\": \\\"Line\\\"}, {\\\"attributes\\\": {}, \\\"id\\\": \\\"2633\\\", \\\"type\\\": \\\"Selection\\\"}]}\",\"header\":\"{\\\"msgid\\\": \\\"4164\\\", \\\"msgtype\\\": \\\"PATCH-DOC\\\"}\",\"metadata\":\"{}\"},\"Lake --The Presidio\":{\"content\":\"{\\\"events\\\": [{\\\"cols\\\": null, \\\"column_source\\\": {\\\"id\\\": \\\"2614\\\"}, \\\"kind\\\": \\\"ColumnDataChanged\\\", \\\"new\\\": {\\\"Variable\\\": [\\\"gross_rent\\\", \\\"gross_rent\\\", \\\"gross_rent\\\", \\\"gross_rent\\\", \\\"gross_rent\\\", \\\"gross_rent\\\"], \\\"value\\\": [1239, 1530, 2324, 2971, 3528, 3739], \\\"year\\\": [\\\"2010\\\", \\\"2011\\\", \\\"2012\\\", \\\"2013\\\", \\\"2014\\\", \\\"2015\\\"]}}, {\\\"cols\\\": null, \\\"column_source\\\": {\\\"id\\\": \\\"2632\\\"}, \\\"kind\\\": \\\"ColumnDataChanged\\\", \\\"new\\\": {\\\"Variable\\\": [\\\"sale_price_sqr_foot\\\", \\\"sale_price_sqr_foot\\\", \\\"sale_price_sqr_foot\\\", \\\"sale_price_sqr_foot\\\", \\\"sale_price_sqr_foot\\\", \\\"sale_price_sqr_foot\\\"], \\\"value\\\": {\\\"__ndarray__\\\": \\\"2VI3JcAMdECVIgEIvqF0QHq77f9XyHdAb0N7jTXFgUAxyTRQZw97QKwhg5D1qnpA\\\", \\\"dtype\\\": \\\"float64\\\", \\\"order\\\": \\\"little\\\", \\\"shape\\\": [6]}, \\\"year\\\": [\\\"2010\\\", \\\"2011\\\", \\\"2012\\\", \\\"2013\\\", \\\"2014\\\", \\\"2015\\\"]}}, {\\\"attr\\\": \\\"text\\\", \\\"kind\\\": \\\"ModelChanged\\\", \\\"model\\\": {\\\"id\\\": \\\"2582\\\"}, \\\"new\\\": \\\"neighborhood: Lake --The Presidio\\\"}, {\\\"attr\\\": \\\"right\\\", \\\"kind\\\": \\\"ModelChanged\\\", \\\"model\\\": {\\\"id\\\": \\\"2581\\\"}, \\\"new\\\": [{\\\"id\\\": \\\"2630\\\"}]}], \\\"references\\\": [{\\\"attributes\\\": {\\\"click_policy\\\": \\\"mute\\\", \\\"items\\\": [{\\\"id\\\": \\\"2631\\\"}, {\\\"id\\\": \\\"2650\\\"}], \\\"location\\\": [0, 0], \\\"title\\\": \\\"Variable\\\"}, \\\"id\\\": \\\"2630\\\", \\\"type\\\": \\\"Legend\\\"}, {\\\"attributes\\\": {\\\"line_alpha\\\": 0.1, \\\"line_color\\\": \\\"#1f77b3\\\", \\\"line_width\\\": 2, \\\"x\\\": {\\\"field\\\": \\\"year\\\"}, \\\"y\\\": {\\\"field\\\": \\\"value\\\"}}, \\\"id\\\": \\\"2618\\\", \\\"type\\\": \\\"Line\\\"}, {\\\"attributes\\\": {\\\"source\\\": {\\\"id\\\": \\\"2632\\\"}}, \\\"id\\\": \\\"2639\\\", \\\"type\\\": \\\"CDSView\\\"}, {\\\"attributes\\\": {\\\"label\\\": {\\\"value\\\": \\\"sale_price_sqr_foot\\\"}, \\\"renderers\\\": [{\\\"id\\\": \\\"2638\\\"}]}, \\\"id\\\": \\\"2650\\\", \\\"type\\\": \\\"LegendItem\\\"}, {\\\"attributes\\\": {\\\"data\\\": {\\\"Variable\\\": [\\\"gross_rent\\\", \\\"gross_rent\\\", \\\"gross_rent\\\", \\\"gross_rent\\\", \\\"gross_rent\\\", \\\"gross_rent\\\"], \\\"value\\\": [1239, 1530, 2324, 2971, 3528, 3739], \\\"year\\\": [\\\"2010\\\", \\\"2011\\\", \\\"2012\\\", \\\"2013\\\", \\\"2014\\\", \\\"2015\\\"]}, \\\"selected\\\": {\\\"id\\\": \\\"2615\\\"}, \\\"selection_policy\\\": {\\\"id\\\": \\\"2628\\\"}}, \\\"id\\\": \\\"2614\\\", \\\"type\\\": \\\"ColumnDataSource\\\"}, {\\\"attributes\\\": {\\\"data_source\\\": {\\\"id\\\": \\\"2614\\\"}, \\\"glyph\\\": {\\\"id\\\": \\\"2617\\\"}, \\\"hover_glyph\\\": null, \\\"muted_glyph\\\": {\\\"id\\\": \\\"2619\\\"}, \\\"nonselection_glyph\\\": {\\\"id\\\": \\\"2618\\\"}, \\\"selection_glyph\\\": null, \\\"view\\\": {\\\"id\\\": \\\"2621\\\"}}, \\\"id\\\": \\\"2620\\\", \\\"type\\\": \\\"GlyphRenderer\\\"}, {\\\"attributes\\\": {\\\"line_color\\\": \\\"#ff7e0e\\\", \\\"line_width\\\": 2, \\\"x\\\": {\\\"field\\\": \\\"year\\\"}, \\\"y\\\": {\\\"field\\\": \\\"value\\\"}}, \\\"id\\\": \\\"2635\\\", \\\"type\\\": \\\"Line\\\"}, {\\\"attributes\\\": {\\\"line_alpha\\\": 0.2, \\\"line_color\\\": \\\"#ff7e0e\\\", \\\"line_width\\\": 2, \\\"x\\\": {\\\"field\\\": \\\"year\\\"}, \\\"y\\\": {\\\"field\\\": \\\"value\\\"}}, \\\"id\\\": \\\"2637\\\", \\\"type\\\": \\\"Line\\\"}, {\\\"attributes\\\": {\\\"data\\\": {\\\"Variable\\\": [\\\"sale_price_sqr_foot\\\", \\\"sale_price_sqr_foot\\\", \\\"sale_price_sqr_foot\\\", \\\"sale_price_sqr_foot\\\", \\\"sale_price_sqr_foot\\\", \\\"sale_price_sqr_foot\\\"], \\\"value\\\": {\\\"__ndarray__\\\": \\\"2VI3JcAMdECVIgEIvqF0QHq77f9XyHdAb0N7jTXFgUAxyTRQZw97QKwhg5D1qnpA\\\", \\\"dtype\\\": \\\"float64\\\", \\\"order\\\": \\\"little\\\", \\\"shape\\\": [6]}, \\\"year\\\": [\\\"2010\\\", \\\"2011\\\", \\\"2012\\\", \\\"2013\\\", \\\"2014\\\", \\\"2015\\\"]}, \\\"selected\\\": {\\\"id\\\": \\\"2633\\\"}, \\\"selection_policy\\\": {\\\"id\\\": \\\"2648\\\"}}, \\\"id\\\": \\\"2632\\\", \\\"type\\\": \\\"ColumnDataSource\\\"}, {\\\"attributes\\\": {\\\"source\\\": {\\\"id\\\": \\\"2614\\\"}}, \\\"id\\\": \\\"2621\\\", \\\"type\\\": \\\"CDSView\\\"}, {\\\"attributes\\\": {\\\"line_color\\\": \\\"#1f77b3\\\", \\\"line_width\\\": 2, \\\"x\\\": {\\\"field\\\": \\\"year\\\"}, \\\"y\\\": {\\\"field\\\": \\\"value\\\"}}, \\\"id\\\": \\\"2617\\\", \\\"type\\\": \\\"Line\\\"}, {\\\"attributes\\\": {\\\"line_alpha\\\": 0.1, \\\"line_color\\\": \\\"#ff7e0e\\\", \\\"line_width\\\": 2, \\\"x\\\": {\\\"field\\\": \\\"year\\\"}, \\\"y\\\": {\\\"field\\\": \\\"value\\\"}}, \\\"id\\\": \\\"2636\\\", \\\"type\\\": \\\"Line\\\"}, {\\\"attributes\\\": {}, \\\"id\\\": \\\"2648\\\", \\\"type\\\": \\\"UnionRenderers\\\"}, {\\\"attributes\\\": {\\\"data_source\\\": {\\\"id\\\": \\\"2632\\\"}, \\\"glyph\\\": {\\\"id\\\": \\\"2635\\\"}, \\\"hover_glyph\\\": null, \\\"muted_glyph\\\": {\\\"id\\\": \\\"2637\\\"}, \\\"nonselection_glyph\\\": {\\\"id\\\": \\\"2636\\\"}, \\\"selection_glyph\\\": null, \\\"view\\\": {\\\"id\\\": \\\"2639\\\"}}, \\\"id\\\": \\\"2638\\\", \\\"type\\\": \\\"GlyphRenderer\\\"}, {\\\"attributes\\\": {\\\"label\\\": {\\\"value\\\": \\\"gross_rent\\\"}, \\\"renderers\\\": [{\\\"id\\\": \\\"2620\\\"}]}, \\\"id\\\": \\\"2631\\\", \\\"type\\\": \\\"LegendItem\\\"}, {\\\"attributes\\\": {}, \\\"id\\\": \\\"2628\\\", \\\"type\\\": \\\"UnionRenderers\\\"}, {\\\"attributes\\\": {}, \\\"id\\\": \\\"2615\\\", \\\"type\\\": \\\"Selection\\\"}, {\\\"attributes\\\": {\\\"line_alpha\\\": 0.2, \\\"line_color\\\": \\\"#1f77b3\\\", \\\"line_width\\\": 2, \\\"x\\\": {\\\"field\\\": \\\"year\\\"}, \\\"y\\\": {\\\"field\\\": \\\"value\\\"}}, \\\"id\\\": \\\"2619\\\", \\\"type\\\": \\\"Line\\\"}, {\\\"attributes\\\": {}, \\\"id\\\": \\\"2633\\\", \\\"type\\\": \\\"Selection\\\"}]}\",\"header\":\"{\\\"msgid\\\": \\\"4131\\\", \\\"msgtype\\\": \\\"PATCH-DOC\\\"}\",\"metadata\":\"{}\"},\"Lone Mountain\":{\"content\":\"{\\\"events\\\": [{\\\"attr\\\": \\\"factors\\\", \\\"kind\\\": \\\"ModelChanged\\\", \\\"model\\\": {\\\"id\\\": \\\"2577\\\"}, \\\"new\\\": [\\\"2010\\\", \\\"2011\\\", \\\"2012\\\", \\\"2013\\\", \\\"2014\\\", \\\"2015\\\"]}, {\\\"cols\\\": null, \\\"column_source\\\": {\\\"id\\\": \\\"2614\\\"}, \\\"kind\\\": \\\"ColumnDataChanged\\\", \\\"new\\\": {\\\"Variable\\\": [\\\"gross_rent\\\", \\\"gross_rent\\\", \\\"gross_rent\\\", \\\"gross_rent\\\", \\\"gross_rent\\\", \\\"gross_rent\\\"], \\\"value\\\": [1239, 1530, 2324, 2971, 3528, 3739], \\\"year\\\": [\\\"2010\\\", \\\"2011\\\", \\\"2012\\\", \\\"2013\\\", \\\"2014\\\", \\\"2015\\\"]}}, {\\\"cols\\\": null, \\\"column_source\\\": {\\\"id\\\": \\\"2632\\\"}, \\\"kind\\\": \\\"ColumnDataChanged\\\", \\\"new\\\": {\\\"Variable\\\": [\\\"sale_price_sqr_foot\\\", \\\"sale_price_sqr_foot\\\", \\\"sale_price_sqr_foot\\\", \\\"sale_price_sqr_foot\\\", \\\"sale_price_sqr_foot\\\", \\\"sale_price_sqr_foot\\\"], \\\"value\\\": {\\\"__ndarray__\\\": \\\"wz1ajlfneEDRiC1TapVzQAfvLHLXD4FAeCzjalaBd0BPfmP7jNNzQM1gj19OsoxA\\\", \\\"dtype\\\": \\\"float64\\\", \\\"order\\\": \\\"little\\\", \\\"shape\\\": [6]}, \\\"year\\\": [\\\"2010\\\", \\\"2011\\\", \\\"2012\\\", \\\"2013\\\", \\\"2014\\\", \\\"2015\\\"]}}, {\\\"attr\\\": \\\"text\\\", \\\"kind\\\": \\\"ModelChanged\\\", \\\"model\\\": {\\\"id\\\": \\\"2582\\\"}, \\\"new\\\": \\\"neighborhood: Lone Mountain\\\"}, {\\\"attr\\\": \\\"right\\\", \\\"kind\\\": \\\"ModelChanged\\\", \\\"model\\\": {\\\"id\\\": \\\"2581\\\"}, \\\"new\\\": [{\\\"id\\\": \\\"2630\\\"}]}], \\\"references\\\": [{\\\"attributes\\\": {\\\"click_policy\\\": \\\"mute\\\", \\\"items\\\": [{\\\"id\\\": \\\"2631\\\"}, {\\\"id\\\": \\\"2650\\\"}], \\\"location\\\": [0, 0], \\\"title\\\": \\\"Variable\\\"}, \\\"id\\\": \\\"2630\\\", \\\"type\\\": \\\"Legend\\\"}, {\\\"attributes\\\": {\\\"line_alpha\\\": 0.1, \\\"line_color\\\": \\\"#1f77b3\\\", \\\"line_width\\\": 2, \\\"x\\\": {\\\"field\\\": \\\"year\\\"}, \\\"y\\\": {\\\"field\\\": \\\"value\\\"}}, \\\"id\\\": \\\"2618\\\", \\\"type\\\": \\\"Line\\\"}, {\\\"attributes\\\": {\\\"source\\\": {\\\"id\\\": \\\"2632\\\"}}, \\\"id\\\": \\\"2639\\\", \\\"type\\\": \\\"CDSView\\\"}, {\\\"attributes\\\": {\\\"label\\\": {\\\"value\\\": \\\"sale_price_sqr_foot\\\"}, \\\"renderers\\\": [{\\\"id\\\": \\\"2638\\\"}]}, \\\"id\\\": \\\"2650\\\", \\\"type\\\": \\\"LegendItem\\\"}, {\\\"attributes\\\": {\\\"data\\\": {\\\"Variable\\\": [\\\"gross_rent\\\", \\\"gross_rent\\\", \\\"gross_rent\\\", \\\"gross_rent\\\", \\\"gross_rent\\\", \\\"gross_rent\\\"], \\\"value\\\": [1239, 1530, 2324, 2971, 3528, 3739], \\\"year\\\": [\\\"2010\\\", \\\"2011\\\", \\\"2012\\\", \\\"2013\\\", \\\"2014\\\", \\\"2015\\\"]}, \\\"selected\\\": {\\\"id\\\": \\\"2615\\\"}, \\\"selection_policy\\\": {\\\"id\\\": \\\"2628\\\"}}, \\\"id\\\": \\\"2614\\\", \\\"type\\\": \\\"ColumnDataSource\\\"}, {\\\"attributes\\\": {\\\"data_source\\\": {\\\"id\\\": \\\"2614\\\"}, \\\"glyph\\\": {\\\"id\\\": \\\"2617\\\"}, \\\"hover_glyph\\\": null, \\\"muted_glyph\\\": {\\\"id\\\": \\\"2619\\\"}, \\\"nonselection_glyph\\\": {\\\"id\\\": \\\"2618\\\"}, \\\"selection_glyph\\\": null, \\\"view\\\": {\\\"id\\\": \\\"2621\\\"}}, \\\"id\\\": \\\"2620\\\", \\\"type\\\": \\\"GlyphRenderer\\\"}, {\\\"attributes\\\": {\\\"line_color\\\": \\\"#ff7e0e\\\", \\\"line_width\\\": 2, \\\"x\\\": {\\\"field\\\": \\\"year\\\"}, \\\"y\\\": {\\\"field\\\": \\\"value\\\"}}, \\\"id\\\": \\\"2635\\\", \\\"type\\\": \\\"Line\\\"}, {\\\"attributes\\\": {\\\"line_alpha\\\": 0.2, \\\"line_color\\\": \\\"#ff7e0e\\\", \\\"line_width\\\": 2, \\\"x\\\": {\\\"field\\\": \\\"year\\\"}, \\\"y\\\": {\\\"field\\\": \\\"value\\\"}}, \\\"id\\\": \\\"2637\\\", \\\"type\\\": \\\"Line\\\"}, {\\\"attributes\\\": {\\\"data\\\": {\\\"Variable\\\": [\\\"sale_price_sqr_foot\\\", \\\"sale_price_sqr_foot\\\", \\\"sale_price_sqr_foot\\\", \\\"sale_price_sqr_foot\\\", \\\"sale_price_sqr_foot\\\", \\\"sale_price_sqr_foot\\\"], \\\"value\\\": {\\\"__ndarray__\\\": \\\"wz1ajlfneEDRiC1TapVzQAfvLHLXD4FAeCzjalaBd0BPfmP7jNNzQM1gj19OsoxA\\\", \\\"dtype\\\": \\\"float64\\\", \\\"order\\\": \\\"little\\\", \\\"shape\\\": [6]}, \\\"year\\\": [\\\"2010\\\", \\\"2011\\\", \\\"2012\\\", \\\"2013\\\", \\\"2014\\\", \\\"2015\\\"]}, \\\"selected\\\": {\\\"id\\\": \\\"2633\\\"}, \\\"selection_policy\\\": {\\\"id\\\": \\\"2648\\\"}}, \\\"id\\\": \\\"2632\\\", \\\"type\\\": \\\"ColumnDataSource\\\"}, {\\\"attributes\\\": {\\\"source\\\": {\\\"id\\\": \\\"2614\\\"}}, \\\"id\\\": \\\"2621\\\", \\\"type\\\": \\\"CDSView\\\"}, {\\\"attributes\\\": {\\\"line_color\\\": \\\"#1f77b3\\\", \\\"line_width\\\": 2, \\\"x\\\": {\\\"field\\\": \\\"year\\\"}, \\\"y\\\": {\\\"field\\\": \\\"value\\\"}}, \\\"id\\\": \\\"2617\\\", \\\"type\\\": \\\"Line\\\"}, {\\\"attributes\\\": {\\\"line_alpha\\\": 0.1, \\\"line_color\\\": \\\"#ff7e0e\\\", \\\"line_width\\\": 2, \\\"x\\\": {\\\"field\\\": \\\"year\\\"}, \\\"y\\\": {\\\"field\\\": \\\"value\\\"}}, \\\"id\\\": \\\"2636\\\", \\\"type\\\": \\\"Line\\\"}, {\\\"attributes\\\": {}, \\\"id\\\": \\\"2648\\\", \\\"type\\\": \\\"UnionRenderers\\\"}, {\\\"attributes\\\": {\\\"data_source\\\": {\\\"id\\\": \\\"2632\\\"}, \\\"glyph\\\": {\\\"id\\\": \\\"2635\\\"}, \\\"hover_glyph\\\": null, \\\"muted_glyph\\\": {\\\"id\\\": \\\"2637\\\"}, \\\"nonselection_glyph\\\": {\\\"id\\\": \\\"2636\\\"}, \\\"selection_glyph\\\": null, \\\"view\\\": {\\\"id\\\": \\\"2639\\\"}}, \\\"id\\\": \\\"2638\\\", \\\"type\\\": \\\"GlyphRenderer\\\"}, {\\\"attributes\\\": {\\\"label\\\": {\\\"value\\\": \\\"gross_rent\\\"}, \\\"renderers\\\": [{\\\"id\\\": \\\"2620\\\"}]}, \\\"id\\\": \\\"2631\\\", \\\"type\\\": \\\"LegendItem\\\"}, {\\\"attributes\\\": {}, \\\"id\\\": \\\"2628\\\", \\\"type\\\": \\\"UnionRenderers\\\"}, {\\\"attributes\\\": {}, \\\"id\\\": \\\"2615\\\", \\\"type\\\": \\\"Selection\\\"}, {\\\"attributes\\\": {\\\"line_alpha\\\": 0.2, \\\"line_color\\\": \\\"#1f77b3\\\", \\\"line_width\\\": 2, \\\"x\\\": {\\\"field\\\": \\\"year\\\"}, \\\"y\\\": {\\\"field\\\": \\\"value\\\"}}, \\\"id\\\": \\\"2619\\\", \\\"type\\\": \\\"Line\\\"}, {\\\"attributes\\\": {}, \\\"id\\\": \\\"2633\\\", \\\"type\\\": \\\"Selection\\\"}]}\",\"header\":\"{\\\"msgid\\\": \\\"4098\\\", \\\"msgtype\\\": \\\"PATCH-DOC\\\"}\",\"metadata\":\"{}\"},\"Lower Pacific Heights\":{\"content\":\"{\\\"events\\\": [{\\\"cols\\\": null, \\\"column_source\\\": {\\\"id\\\": \\\"2614\\\"}, \\\"kind\\\": \\\"ColumnDataChanged\\\", \\\"new\\\": {\\\"Variable\\\": [\\\"gross_rent\\\", \\\"gross_rent\\\", \\\"gross_rent\\\", \\\"gross_rent\\\", \\\"gross_rent\\\", \\\"gross_rent\\\", \\\"gross_rent\\\"], \\\"value\\\": [1239, 1530, 2324, 2971, 3528, 3739, 4390], \\\"year\\\": [\\\"2010\\\", \\\"2011\\\", \\\"2012\\\", \\\"2013\\\", \\\"2014\\\", \\\"2015\\\", \\\"2016\\\"]}}, {\\\"cols\\\": null, \\\"column_source\\\": {\\\"id\\\": \\\"2632\\\"}, \\\"kind\\\": \\\"ColumnDataChanged\\\", \\\"new\\\": {\\\"Variable\\\": [\\\"sale_price_sqr_foot\\\", \\\"sale_price_sqr_foot\\\", \\\"sale_price_sqr_foot\\\", \\\"sale_price_sqr_foot\\\", \\\"sale_price_sqr_foot\\\", \\\"sale_price_sqr_foot\\\", \\\"sale_price_sqr_foot\\\"], \\\"value\\\": {\\\"__ndarray__\\\": \\\"76u8E+xgd0Bx+MIKtfhyQPfeWOC8wnhAyw2Bnl8ggUA7DXIXA2OGQApnfphPAIlAVYW5N3Ljg0A=\\\", \\\"dtype\\\": \\\"float64\\\", \\\"order\\\": \\\"little\\\", \\\"shape\\\": [7]}, \\\"year\\\": [\\\"2010\\\", \\\"2011\\\", \\\"2012\\\", \\\"2013\\\", \\\"2014\\\", \\\"2015\\\", \\\"2016\\\"]}}, {\\\"attr\\\": \\\"text\\\", \\\"kind\\\": \\\"ModelChanged\\\", \\\"model\\\": {\\\"id\\\": \\\"2582\\\"}, \\\"new\\\": \\\"neighborhood: Lower Pacific Heights\\\"}, {\\\"attr\\\": \\\"right\\\", \\\"kind\\\": \\\"ModelChanged\\\", \\\"model\\\": {\\\"id\\\": \\\"2581\\\"}, \\\"new\\\": [{\\\"id\\\": \\\"2630\\\"}]}], \\\"references\\\": [{\\\"attributes\\\": {\\\"click_policy\\\": \\\"mute\\\", \\\"items\\\": [{\\\"id\\\": \\\"2631\\\"}, {\\\"id\\\": \\\"2650\\\"}], \\\"location\\\": [0, 0], \\\"title\\\": \\\"Variable\\\"}, \\\"id\\\": \\\"2630\\\", \\\"type\\\": \\\"Legend\\\"}, {\\\"attributes\\\": {\\\"line_alpha\\\": 0.1, \\\"line_color\\\": \\\"#1f77b3\\\", \\\"line_width\\\": 2, \\\"x\\\": {\\\"field\\\": \\\"year\\\"}, \\\"y\\\": {\\\"field\\\": \\\"value\\\"}}, \\\"id\\\": \\\"2618\\\", \\\"type\\\": \\\"Line\\\"}, {\\\"attributes\\\": {\\\"source\\\": {\\\"id\\\": \\\"2632\\\"}}, \\\"id\\\": \\\"2639\\\", \\\"type\\\": \\\"CDSView\\\"}, {\\\"attributes\\\": {\\\"label\\\": {\\\"value\\\": \\\"sale_price_sqr_foot\\\"}, \\\"renderers\\\": [{\\\"id\\\": \\\"2638\\\"}]}, \\\"id\\\": \\\"2650\\\", \\\"type\\\": \\\"LegendItem\\\"}, {\\\"attributes\\\": {\\\"data\\\": {\\\"Variable\\\": [\\\"gross_rent\\\", \\\"gross_rent\\\", \\\"gross_rent\\\", \\\"gross_rent\\\", \\\"gross_rent\\\", \\\"gross_rent\\\", \\\"gross_rent\\\"], \\\"value\\\": [1239, 1530, 2324, 2971, 3528, 3739, 4390], \\\"year\\\": [\\\"2010\\\", \\\"2011\\\", \\\"2012\\\", \\\"2013\\\", \\\"2014\\\", \\\"2015\\\", \\\"2016\\\"]}, \\\"selected\\\": {\\\"id\\\": \\\"2615\\\"}, \\\"selection_policy\\\": {\\\"id\\\": \\\"2628\\\"}}, \\\"id\\\": \\\"2614\\\", \\\"type\\\": \\\"ColumnDataSource\\\"}, {\\\"attributes\\\": {\\\"data_source\\\": {\\\"id\\\": \\\"2614\\\"}, \\\"glyph\\\": {\\\"id\\\": \\\"2617\\\"}, \\\"hover_glyph\\\": null, \\\"muted_glyph\\\": {\\\"id\\\": \\\"2619\\\"}, \\\"nonselection_glyph\\\": {\\\"id\\\": \\\"2618\\\"}, \\\"selection_glyph\\\": null, \\\"view\\\": {\\\"id\\\": \\\"2621\\\"}}, \\\"id\\\": \\\"2620\\\", \\\"type\\\": \\\"GlyphRenderer\\\"}, {\\\"attributes\\\": {\\\"line_color\\\": \\\"#ff7e0e\\\", \\\"line_width\\\": 2, \\\"x\\\": {\\\"field\\\": \\\"year\\\"}, \\\"y\\\": {\\\"field\\\": \\\"value\\\"}}, \\\"id\\\": \\\"2635\\\", \\\"type\\\": \\\"Line\\\"}, {\\\"attributes\\\": {\\\"line_alpha\\\": 0.2, \\\"line_color\\\": \\\"#ff7e0e\\\", \\\"line_width\\\": 2, \\\"x\\\": {\\\"field\\\": \\\"year\\\"}, \\\"y\\\": {\\\"field\\\": \\\"value\\\"}}, \\\"id\\\": \\\"2637\\\", \\\"type\\\": \\\"Line\\\"}, {\\\"attributes\\\": {\\\"data\\\": {\\\"Variable\\\": [\\\"sale_price_sqr_foot\\\", \\\"sale_price_sqr_foot\\\", \\\"sale_price_sqr_foot\\\", \\\"sale_price_sqr_foot\\\", \\\"sale_price_sqr_foot\\\", \\\"sale_price_sqr_foot\\\", \\\"sale_price_sqr_foot\\\"], \\\"value\\\": {\\\"__ndarray__\\\": \\\"76u8E+xgd0Bx+MIKtfhyQPfeWOC8wnhAyw2Bnl8ggUA7DXIXA2OGQApnfphPAIlAVYW5N3Ljg0A=\\\", \\\"dtype\\\": \\\"float64\\\", \\\"order\\\": \\\"little\\\", \\\"shape\\\": [7]}, \\\"year\\\": [\\\"2010\\\", \\\"2011\\\", \\\"2012\\\", \\\"2013\\\", \\\"2014\\\", \\\"2015\\\", \\\"2016\\\"]}, \\\"selected\\\": {\\\"id\\\": \\\"2633\\\"}, \\\"selection_policy\\\": {\\\"id\\\": \\\"2648\\\"}}, \\\"id\\\": \\\"2632\\\", \\\"type\\\": \\\"ColumnDataSource\\\"}, {\\\"attributes\\\": {\\\"source\\\": {\\\"id\\\": \\\"2614\\\"}}, \\\"id\\\": \\\"2621\\\", \\\"type\\\": \\\"CDSView\\\"}, {\\\"attributes\\\": {\\\"line_color\\\": \\\"#1f77b3\\\", \\\"line_width\\\": 2, \\\"x\\\": {\\\"field\\\": \\\"year\\\"}, \\\"y\\\": {\\\"field\\\": \\\"value\\\"}}, \\\"id\\\": \\\"2617\\\", \\\"type\\\": \\\"Line\\\"}, {\\\"attributes\\\": {\\\"line_alpha\\\": 0.1, \\\"line_color\\\": \\\"#ff7e0e\\\", \\\"line_width\\\": 2, \\\"x\\\": {\\\"field\\\": \\\"year\\\"}, \\\"y\\\": {\\\"field\\\": \\\"value\\\"}}, \\\"id\\\": \\\"2636\\\", \\\"type\\\": \\\"Line\\\"}, {\\\"attributes\\\": {}, \\\"id\\\": \\\"2648\\\", \\\"type\\\": \\\"UnionRenderers\\\"}, {\\\"attributes\\\": {\\\"data_source\\\": {\\\"id\\\": \\\"2632\\\"}, \\\"glyph\\\": {\\\"id\\\": \\\"2635\\\"}, \\\"hover_glyph\\\": null, \\\"muted_glyph\\\": {\\\"id\\\": \\\"2637\\\"}, \\\"nonselection_glyph\\\": {\\\"id\\\": \\\"2636\\\"}, \\\"selection_glyph\\\": null, \\\"view\\\": {\\\"id\\\": \\\"2639\\\"}}, \\\"id\\\": \\\"2638\\\", \\\"type\\\": \\\"GlyphRenderer\\\"}, {\\\"attributes\\\": {\\\"label\\\": {\\\"value\\\": \\\"gross_rent\\\"}, \\\"renderers\\\": [{\\\"id\\\": \\\"2620\\\"}]}, \\\"id\\\": \\\"2631\\\", \\\"type\\\": \\\"LegendItem\\\"}, {\\\"attributes\\\": {}, \\\"id\\\": \\\"2628\\\", \\\"type\\\": \\\"UnionRenderers\\\"}, {\\\"attributes\\\": {}, \\\"id\\\": \\\"2615\\\", \\\"type\\\": \\\"Selection\\\"}, {\\\"attributes\\\": {\\\"line_alpha\\\": 0.2, \\\"line_color\\\": \\\"#1f77b3\\\", \\\"line_width\\\": 2, \\\"x\\\": {\\\"field\\\": \\\"year\\\"}, \\\"y\\\": {\\\"field\\\": \\\"value\\\"}}, \\\"id\\\": \\\"2619\\\", \\\"type\\\": \\\"Line\\\"}, {\\\"attributes\\\": {}, \\\"id\\\": \\\"2633\\\", \\\"type\\\": \\\"Selection\\\"}]}\",\"header\":\"{\\\"msgid\\\": \\\"4065\\\", \\\"msgtype\\\": \\\"PATCH-DOC\\\"}\",\"metadata\":\"{}\"},\"Marina\":{\"content\":\"{\\\"events\\\": [{\\\"attr\\\": \\\"factors\\\", \\\"kind\\\": \\\"ModelChanged\\\", \\\"model\\\": {\\\"id\\\": \\\"2577\\\"}, \\\"new\\\": [\\\"2010\\\", \\\"2011\\\", \\\"2012\\\", \\\"2013\\\", \\\"2014\\\", \\\"2015\\\", \\\"2016\\\"]}, {\\\"cols\\\": null, \\\"column_source\\\": {\\\"id\\\": \\\"2614\\\"}, \\\"kind\\\": \\\"ColumnDataChanged\\\", \\\"new\\\": {\\\"Variable\\\": [\\\"gross_rent\\\", \\\"gross_rent\\\", \\\"gross_rent\\\", \\\"gross_rent\\\", \\\"gross_rent\\\", \\\"gross_rent\\\", \\\"gross_rent\\\"], \\\"value\\\": [1239, 1530, 2324, 2971, 3528, 3739, 4390], \\\"year\\\": [\\\"2010\\\", \\\"2011\\\", \\\"2012\\\", \\\"2013\\\", \\\"2014\\\", \\\"2015\\\", \\\"2016\\\"]}}, {\\\"cols\\\": null, \\\"column_source\\\": {\\\"id\\\": \\\"2632\\\"}, \\\"kind\\\": \\\"ColumnDataChanged\\\", \\\"new\\\": {\\\"Variable\\\": [\\\"sale_price_sqr_foot\\\", \\\"sale_price_sqr_foot\\\", \\\"sale_price_sqr_foot\\\", \\\"sale_price_sqr_foot\\\", \\\"sale_price_sqr_foot\\\", \\\"sale_price_sqr_foot\\\", \\\"sale_price_sqr_foot\\\"], \\\"value\\\": {\\\"__ndarray__\\\": \\\"Ux8MEkk2eECye+dyGG14QJQFBghx03tArN/UlpV5hEDmyxE0tRaEQI2iC3VZs5FA5fACFx3/ekA=\\\", \\\"dtype\\\": \\\"float64\\\", \\\"order\\\": \\\"little\\\", \\\"shape\\\": [7]}, \\\"year\\\": [\\\"2010\\\", \\\"2011\\\", \\\"2012\\\", \\\"2013\\\", \\\"2014\\\", \\\"2015\\\", \\\"2016\\\"]}}, {\\\"attr\\\": \\\"text\\\", \\\"kind\\\": \\\"ModelChanged\\\", \\\"model\\\": {\\\"id\\\": \\\"2582\\\"}, \\\"new\\\": \\\"neighborhood: Marina\\\"}, {\\\"attr\\\": \\\"right\\\", \\\"kind\\\": \\\"ModelChanged\\\", \\\"model\\\": {\\\"id\\\": \\\"2581\\\"}, \\\"new\\\": [{\\\"id\\\": \\\"2630\\\"}]}], \\\"references\\\": [{\\\"attributes\\\": {\\\"click_policy\\\": \\\"mute\\\", \\\"items\\\": [{\\\"id\\\": \\\"2631\\\"}, {\\\"id\\\": \\\"2650\\\"}], \\\"location\\\": [0, 0], \\\"title\\\": \\\"Variable\\\"}, \\\"id\\\": \\\"2630\\\", \\\"type\\\": \\\"Legend\\\"}, {\\\"attributes\\\": {\\\"line_alpha\\\": 0.1, \\\"line_color\\\": \\\"#1f77b3\\\", \\\"line_width\\\": 2, \\\"x\\\": {\\\"field\\\": \\\"year\\\"}, \\\"y\\\": {\\\"field\\\": \\\"value\\\"}}, \\\"id\\\": \\\"2618\\\", \\\"type\\\": \\\"Line\\\"}, {\\\"attributes\\\": {\\\"source\\\": {\\\"id\\\": \\\"2632\\\"}}, \\\"id\\\": \\\"2639\\\", \\\"type\\\": \\\"CDSView\\\"}, {\\\"attributes\\\": {\\\"label\\\": {\\\"value\\\": \\\"sale_price_sqr_foot\\\"}, \\\"renderers\\\": [{\\\"id\\\": \\\"2638\\\"}]}, \\\"id\\\": \\\"2650\\\", \\\"type\\\": \\\"LegendItem\\\"}, {\\\"attributes\\\": {\\\"data\\\": {\\\"Variable\\\": [\\\"gross_rent\\\", \\\"gross_rent\\\", \\\"gross_rent\\\", \\\"gross_rent\\\", \\\"gross_rent\\\", \\\"gross_rent\\\", \\\"gross_rent\\\"], \\\"value\\\": [1239, 1530, 2324, 2971, 3528, 3739, 4390], \\\"year\\\": [\\\"2010\\\", \\\"2011\\\", \\\"2012\\\", \\\"2013\\\", \\\"2014\\\", \\\"2015\\\", \\\"2016\\\"]}, \\\"selected\\\": {\\\"id\\\": \\\"2615\\\"}, \\\"selection_policy\\\": {\\\"id\\\": \\\"2628\\\"}}, \\\"id\\\": \\\"2614\\\", \\\"type\\\": \\\"ColumnDataSource\\\"}, {\\\"attributes\\\": {\\\"data_source\\\": {\\\"id\\\": \\\"2614\\\"}, \\\"glyph\\\": {\\\"id\\\": \\\"2617\\\"}, \\\"hover_glyph\\\": null, \\\"muted_glyph\\\": {\\\"id\\\": \\\"2619\\\"}, \\\"nonselection_glyph\\\": {\\\"id\\\": \\\"2618\\\"}, \\\"selection_glyph\\\": null, \\\"view\\\": {\\\"id\\\": \\\"2621\\\"}}, \\\"id\\\": \\\"2620\\\", \\\"type\\\": \\\"GlyphRenderer\\\"}, {\\\"attributes\\\": {\\\"line_color\\\": \\\"#ff7e0e\\\", \\\"line_width\\\": 2, \\\"x\\\": {\\\"field\\\": \\\"year\\\"}, \\\"y\\\": {\\\"field\\\": \\\"value\\\"}}, \\\"id\\\": \\\"2635\\\", \\\"type\\\": \\\"Line\\\"}, {\\\"attributes\\\": {\\\"line_alpha\\\": 0.2, \\\"line_color\\\": \\\"#ff7e0e\\\", \\\"line_width\\\": 2, \\\"x\\\": {\\\"field\\\": \\\"year\\\"}, \\\"y\\\": {\\\"field\\\": \\\"value\\\"}}, \\\"id\\\": \\\"2637\\\", \\\"type\\\": \\\"Line\\\"}, {\\\"attributes\\\": {\\\"data\\\": {\\\"Variable\\\": [\\\"sale_price_sqr_foot\\\", \\\"sale_price_sqr_foot\\\", \\\"sale_price_sqr_foot\\\", \\\"sale_price_sqr_foot\\\", \\\"sale_price_sqr_foot\\\", \\\"sale_price_sqr_foot\\\", \\\"sale_price_sqr_foot\\\"], \\\"value\\\": {\\\"__ndarray__\\\": \\\"Ux8MEkk2eECye+dyGG14QJQFBghx03tArN/UlpV5hEDmyxE0tRaEQI2iC3VZs5FA5fACFx3/ekA=\\\", \\\"dtype\\\": \\\"float64\\\", \\\"order\\\": \\\"little\\\", \\\"shape\\\": [7]}, \\\"year\\\": [\\\"2010\\\", \\\"2011\\\", \\\"2012\\\", \\\"2013\\\", \\\"2014\\\", \\\"2015\\\", \\\"2016\\\"]}, \\\"selected\\\": {\\\"id\\\": \\\"2633\\\"}, \\\"selection_policy\\\": {\\\"id\\\": \\\"2648\\\"}}, \\\"id\\\": \\\"2632\\\", \\\"type\\\": \\\"ColumnDataSource\\\"}, {\\\"attributes\\\": {\\\"source\\\": {\\\"id\\\": \\\"2614\\\"}}, \\\"id\\\": \\\"2621\\\", \\\"type\\\": \\\"CDSView\\\"}, {\\\"attributes\\\": {\\\"line_color\\\": \\\"#1f77b3\\\", \\\"line_width\\\": 2, \\\"x\\\": {\\\"field\\\": \\\"year\\\"}, \\\"y\\\": {\\\"field\\\": \\\"value\\\"}}, \\\"id\\\": \\\"2617\\\", \\\"type\\\": \\\"Line\\\"}, {\\\"attributes\\\": {\\\"line_alpha\\\": 0.1, \\\"line_color\\\": \\\"#ff7e0e\\\", \\\"line_width\\\": 2, \\\"x\\\": {\\\"field\\\": \\\"year\\\"}, \\\"y\\\": {\\\"field\\\": \\\"value\\\"}}, \\\"id\\\": \\\"2636\\\", \\\"type\\\": \\\"Line\\\"}, {\\\"attributes\\\": {}, \\\"id\\\": \\\"2648\\\", \\\"type\\\": \\\"UnionRenderers\\\"}, {\\\"attributes\\\": {\\\"data_source\\\": {\\\"id\\\": \\\"2632\\\"}, \\\"glyph\\\": {\\\"id\\\": \\\"2635\\\"}, \\\"hover_glyph\\\": null, \\\"muted_glyph\\\": {\\\"id\\\": \\\"2637\\\"}, \\\"nonselection_glyph\\\": {\\\"id\\\": \\\"2636\\\"}, \\\"selection_glyph\\\": null, \\\"view\\\": {\\\"id\\\": \\\"2639\\\"}}, \\\"id\\\": \\\"2638\\\", \\\"type\\\": \\\"GlyphRenderer\\\"}, {\\\"attributes\\\": {\\\"label\\\": {\\\"value\\\": \\\"gross_rent\\\"}, \\\"renderers\\\": [{\\\"id\\\": \\\"2620\\\"}]}, \\\"id\\\": \\\"2631\\\", \\\"type\\\": \\\"LegendItem\\\"}, {\\\"attributes\\\": {}, \\\"id\\\": \\\"2628\\\", \\\"type\\\": \\\"UnionRenderers\\\"}, {\\\"attributes\\\": {}, \\\"id\\\": \\\"2615\\\", \\\"type\\\": \\\"Selection\\\"}, {\\\"attributes\\\": {\\\"line_alpha\\\": 0.2, \\\"line_color\\\": \\\"#1f77b3\\\", \\\"line_width\\\": 2, \\\"x\\\": {\\\"field\\\": \\\"year\\\"}, \\\"y\\\": {\\\"field\\\": \\\"value\\\"}}, \\\"id\\\": \\\"2619\\\", \\\"type\\\": \\\"Line\\\"}, {\\\"attributes\\\": {}, \\\"id\\\": \\\"2633\\\", \\\"type\\\": \\\"Selection\\\"}]}\",\"header\":\"{\\\"msgid\\\": \\\"4032\\\", \\\"msgtype\\\": \\\"PATCH-DOC\\\"}\",\"metadata\":\"{}\"},\"Merced Heights\":{\"content\":\"{\\\"events\\\": [{\\\"attr\\\": \\\"factors\\\", \\\"kind\\\": \\\"ModelChanged\\\", \\\"model\\\": {\\\"id\\\": \\\"2577\\\"}, \\\"new\\\": [\\\"2012\\\", \\\"2014\\\", \\\"2016\\\"]}, {\\\"cols\\\": null, \\\"column_source\\\": {\\\"id\\\": \\\"2614\\\"}, \\\"kind\\\": \\\"ColumnDataChanged\\\", \\\"new\\\": {\\\"Variable\\\": [\\\"gross_rent\\\", \\\"gross_rent\\\", \\\"gross_rent\\\"], \\\"value\\\": [2324, 3528, 4390], \\\"year\\\": [\\\"2012\\\", \\\"2014\\\", \\\"2016\\\"]}}, {\\\"cols\\\": null, \\\"column_source\\\": {\\\"id\\\": \\\"2632\\\"}, \\\"kind\\\": \\\"ColumnDataChanged\\\", \\\"new\\\": {\\\"Variable\\\": [\\\"sale_price_sqr_foot\\\", \\\"sale_price_sqr_foot\\\", \\\"sale_price_sqr_foot\\\"], \\\"value\\\": {\\\"__ndarray__\\\": \\\"MB3PiUJSekCKg+70z4WAQKyqqqqqIpZA\\\", \\\"dtype\\\": \\\"float64\\\", \\\"order\\\": \\\"little\\\", \\\"shape\\\": [3]}, \\\"year\\\": [\\\"2012\\\", \\\"2014\\\", \\\"2016\\\"]}}, {\\\"attr\\\": \\\"text\\\", \\\"kind\\\": \\\"ModelChanged\\\", \\\"model\\\": {\\\"id\\\": \\\"2582\\\"}, \\\"new\\\": \\\"neighborhood: Merced Heights\\\"}, {\\\"attr\\\": \\\"right\\\", \\\"kind\\\": \\\"ModelChanged\\\", \\\"model\\\": {\\\"id\\\": \\\"2581\\\"}, \\\"new\\\": [{\\\"id\\\": \\\"2630\\\"}]}], \\\"references\\\": [{\\\"attributes\\\": {\\\"click_policy\\\": \\\"mute\\\", \\\"items\\\": [{\\\"id\\\": \\\"2631\\\"}, {\\\"id\\\": \\\"2650\\\"}], \\\"location\\\": [0, 0], \\\"title\\\": \\\"Variable\\\"}, \\\"id\\\": \\\"2630\\\", \\\"type\\\": \\\"Legend\\\"}, {\\\"attributes\\\": {\\\"line_alpha\\\": 0.1, \\\"line_color\\\": \\\"#1f77b3\\\", \\\"line_width\\\": 2, \\\"x\\\": {\\\"field\\\": \\\"year\\\"}, \\\"y\\\": {\\\"field\\\": \\\"value\\\"}}, \\\"id\\\": \\\"2618\\\", \\\"type\\\": \\\"Line\\\"}, {\\\"attributes\\\": {\\\"source\\\": {\\\"id\\\": \\\"2632\\\"}}, \\\"id\\\": \\\"2639\\\", \\\"type\\\": \\\"CDSView\\\"}, {\\\"attributes\\\": {\\\"label\\\": {\\\"value\\\": \\\"sale_price_sqr_foot\\\"}, \\\"renderers\\\": [{\\\"id\\\": \\\"2638\\\"}]}, \\\"id\\\": \\\"2650\\\", \\\"type\\\": \\\"LegendItem\\\"}, {\\\"attributes\\\": {\\\"data\\\": {\\\"Variable\\\": [\\\"gross_rent\\\", \\\"gross_rent\\\", \\\"gross_rent\\\"], \\\"value\\\": [2324, 3528, 4390], \\\"year\\\": [\\\"2012\\\", \\\"2014\\\", \\\"2016\\\"]}, \\\"selected\\\": {\\\"id\\\": \\\"2615\\\"}, \\\"selection_policy\\\": {\\\"id\\\": \\\"2628\\\"}}, \\\"id\\\": \\\"2614\\\", \\\"type\\\": \\\"ColumnDataSource\\\"}, {\\\"attributes\\\": {\\\"data_source\\\": {\\\"id\\\": \\\"2614\\\"}, \\\"glyph\\\": {\\\"id\\\": \\\"2617\\\"}, \\\"hover_glyph\\\": null, \\\"muted_glyph\\\": {\\\"id\\\": \\\"2619\\\"}, \\\"nonselection_glyph\\\": {\\\"id\\\": \\\"2618\\\"}, \\\"selection_glyph\\\": null, \\\"view\\\": {\\\"id\\\": \\\"2621\\\"}}, \\\"id\\\": \\\"2620\\\", \\\"type\\\": \\\"GlyphRenderer\\\"}, {\\\"attributes\\\": {\\\"line_color\\\": \\\"#ff7e0e\\\", \\\"line_width\\\": 2, \\\"x\\\": {\\\"field\\\": \\\"year\\\"}, \\\"y\\\": {\\\"field\\\": \\\"value\\\"}}, \\\"id\\\": \\\"2635\\\", \\\"type\\\": \\\"Line\\\"}, {\\\"attributes\\\": {\\\"line_alpha\\\": 0.2, \\\"line_color\\\": \\\"#ff7e0e\\\", \\\"line_width\\\": 2, \\\"x\\\": {\\\"field\\\": \\\"year\\\"}, \\\"y\\\": {\\\"field\\\": \\\"value\\\"}}, \\\"id\\\": \\\"2637\\\", \\\"type\\\": \\\"Line\\\"}, {\\\"attributes\\\": {\\\"data\\\": {\\\"Variable\\\": [\\\"sale_price_sqr_foot\\\", \\\"sale_price_sqr_foot\\\", \\\"sale_price_sqr_foot\\\"], \\\"value\\\": {\\\"__ndarray__\\\": \\\"MB3PiUJSekCKg+70z4WAQKyqqqqqIpZA\\\", \\\"dtype\\\": \\\"float64\\\", \\\"order\\\": \\\"little\\\", \\\"shape\\\": [3]}, \\\"year\\\": [\\\"2012\\\", \\\"2014\\\", \\\"2016\\\"]}, \\\"selected\\\": {\\\"id\\\": \\\"2633\\\"}, \\\"selection_policy\\\": {\\\"id\\\": \\\"2648\\\"}}, \\\"id\\\": \\\"2632\\\", \\\"type\\\": \\\"ColumnDataSource\\\"}, {\\\"attributes\\\": {\\\"source\\\": {\\\"id\\\": \\\"2614\\\"}}, \\\"id\\\": \\\"2621\\\", \\\"type\\\": \\\"CDSView\\\"}, {\\\"attributes\\\": {\\\"line_color\\\": \\\"#1f77b3\\\", \\\"line_width\\\": 2, \\\"x\\\": {\\\"field\\\": \\\"year\\\"}, \\\"y\\\": {\\\"field\\\": \\\"value\\\"}}, \\\"id\\\": \\\"2617\\\", \\\"type\\\": \\\"Line\\\"}, {\\\"attributes\\\": {\\\"line_alpha\\\": 0.1, \\\"line_color\\\": \\\"#ff7e0e\\\", \\\"line_width\\\": 2, \\\"x\\\": {\\\"field\\\": \\\"year\\\"}, \\\"y\\\": {\\\"field\\\": \\\"value\\\"}}, \\\"id\\\": \\\"2636\\\", \\\"type\\\": \\\"Line\\\"}, {\\\"attributes\\\": {}, \\\"id\\\": \\\"2648\\\", \\\"type\\\": \\\"UnionRenderers\\\"}, {\\\"attributes\\\": {\\\"data_source\\\": {\\\"id\\\": \\\"2632\\\"}, \\\"glyph\\\": {\\\"id\\\": \\\"2635\\\"}, \\\"hover_glyph\\\": null, \\\"muted_glyph\\\": {\\\"id\\\": \\\"2637\\\"}, \\\"nonselection_glyph\\\": {\\\"id\\\": \\\"2636\\\"}, \\\"selection_glyph\\\": null, \\\"view\\\": {\\\"id\\\": \\\"2639\\\"}}, \\\"id\\\": \\\"2638\\\", \\\"type\\\": \\\"GlyphRenderer\\\"}, {\\\"attributes\\\": {\\\"label\\\": {\\\"value\\\": \\\"gross_rent\\\"}, \\\"renderers\\\": [{\\\"id\\\": \\\"2620\\\"}]}, \\\"id\\\": \\\"2631\\\", \\\"type\\\": \\\"LegendItem\\\"}, {\\\"attributes\\\": {}, \\\"id\\\": \\\"2628\\\", \\\"type\\\": \\\"UnionRenderers\\\"}, {\\\"attributes\\\": {}, \\\"id\\\": \\\"2615\\\", \\\"type\\\": \\\"Selection\\\"}, {\\\"attributes\\\": {\\\"line_alpha\\\": 0.2, \\\"line_color\\\": \\\"#1f77b3\\\", \\\"line_width\\\": 2, \\\"x\\\": {\\\"field\\\": \\\"year\\\"}, \\\"y\\\": {\\\"field\\\": \\\"value\\\"}}, \\\"id\\\": \\\"2619\\\", \\\"type\\\": \\\"Line\\\"}, {\\\"attributes\\\": {}, \\\"id\\\": \\\"2633\\\", \\\"type\\\": \\\"Selection\\\"}]}\",\"header\":\"{\\\"msgid\\\": \\\"3999\\\", \\\"msgtype\\\": \\\"PATCH-DOC\\\"}\",\"metadata\":\"{}\"},\"Midtown Terrace\":{\"content\":\"{\\\"events\\\": [{\\\"attr\\\": \\\"factors\\\", \\\"kind\\\": \\\"ModelChanged\\\", \\\"model\\\": {\\\"id\\\": \\\"2577\\\"}, \\\"new\\\": [\\\"2012\\\", \\\"2013\\\"]}, {\\\"cols\\\": null, \\\"column_source\\\": {\\\"id\\\": \\\"2614\\\"}, \\\"kind\\\": \\\"ColumnDataChanged\\\", \\\"new\\\": {\\\"Variable\\\": [\\\"gross_rent\\\", \\\"gross_rent\\\"], \\\"value\\\": [2324, 2971], \\\"year\\\": [\\\"2012\\\", \\\"2013\\\"]}}, {\\\"cols\\\": null, \\\"column_source\\\": {\\\"id\\\": \\\"2632\\\"}, \\\"kind\\\": \\\"ColumnDataChanged\\\", \\\"new\\\": {\\\"Variable\\\": [\\\"sale_price_sqr_foot\\\", \\\"sale_price_sqr_foot\\\"], \\\"value\\\": {\\\"__ndarray__\\\": \\\"u1cFrAbfeEDpu/UMp/iFQA==\\\", \\\"dtype\\\": \\\"float64\\\", \\\"order\\\": \\\"little\\\", \\\"shape\\\": [2]}, \\\"year\\\": [\\\"2012\\\", \\\"2013\\\"]}}, {\\\"attr\\\": \\\"text\\\", \\\"kind\\\": \\\"ModelChanged\\\", \\\"model\\\": {\\\"id\\\": \\\"2582\\\"}, \\\"new\\\": \\\"neighborhood: Midtown Terrace\\\"}, {\\\"attr\\\": \\\"right\\\", \\\"kind\\\": \\\"ModelChanged\\\", \\\"model\\\": {\\\"id\\\": \\\"2581\\\"}, \\\"new\\\": [{\\\"id\\\": \\\"2630\\\"}]}], \\\"references\\\": [{\\\"attributes\\\": {\\\"click_policy\\\": \\\"mute\\\", \\\"items\\\": [{\\\"id\\\": \\\"2631\\\"}, {\\\"id\\\": \\\"2650\\\"}], \\\"location\\\": [0, 0], \\\"title\\\": \\\"Variable\\\"}, \\\"id\\\": \\\"2630\\\", \\\"type\\\": \\\"Legend\\\"}, {\\\"attributes\\\": {\\\"line_alpha\\\": 0.1, \\\"line_color\\\": \\\"#1f77b3\\\", \\\"line_width\\\": 2, \\\"x\\\": {\\\"field\\\": \\\"year\\\"}, \\\"y\\\": {\\\"field\\\": \\\"value\\\"}}, \\\"id\\\": \\\"2618\\\", \\\"type\\\": \\\"Line\\\"}, {\\\"attributes\\\": {\\\"source\\\": {\\\"id\\\": \\\"2632\\\"}}, \\\"id\\\": \\\"2639\\\", \\\"type\\\": \\\"CDSView\\\"}, {\\\"attributes\\\": {\\\"label\\\": {\\\"value\\\": \\\"sale_price_sqr_foot\\\"}, \\\"renderers\\\": [{\\\"id\\\": \\\"2638\\\"}]}, \\\"id\\\": \\\"2650\\\", \\\"type\\\": \\\"LegendItem\\\"}, {\\\"attributes\\\": {\\\"data\\\": {\\\"Variable\\\": [\\\"gross_rent\\\", \\\"gross_rent\\\"], \\\"value\\\": [2324, 2971], \\\"year\\\": [\\\"2012\\\", \\\"2013\\\"]}, \\\"selected\\\": {\\\"id\\\": \\\"2615\\\"}, \\\"selection_policy\\\": {\\\"id\\\": \\\"2628\\\"}}, \\\"id\\\": \\\"2614\\\", \\\"type\\\": \\\"ColumnDataSource\\\"}, {\\\"attributes\\\": {\\\"data_source\\\": {\\\"id\\\": \\\"2614\\\"}, \\\"glyph\\\": {\\\"id\\\": \\\"2617\\\"}, \\\"hover_glyph\\\": null, \\\"muted_glyph\\\": {\\\"id\\\": \\\"2619\\\"}, \\\"nonselection_glyph\\\": {\\\"id\\\": \\\"2618\\\"}, \\\"selection_glyph\\\": null, \\\"view\\\": {\\\"id\\\": \\\"2621\\\"}}, \\\"id\\\": \\\"2620\\\", \\\"type\\\": \\\"GlyphRenderer\\\"}, {\\\"attributes\\\": {\\\"line_color\\\": \\\"#ff7e0e\\\", \\\"line_width\\\": 2, \\\"x\\\": {\\\"field\\\": \\\"year\\\"}, \\\"y\\\": {\\\"field\\\": \\\"value\\\"}}, \\\"id\\\": \\\"2635\\\", \\\"type\\\": \\\"Line\\\"}, {\\\"attributes\\\": {\\\"line_alpha\\\": 0.2, \\\"line_color\\\": \\\"#ff7e0e\\\", \\\"line_width\\\": 2, \\\"x\\\": {\\\"field\\\": \\\"year\\\"}, \\\"y\\\": {\\\"field\\\": \\\"value\\\"}}, \\\"id\\\": \\\"2637\\\", \\\"type\\\": \\\"Line\\\"}, {\\\"attributes\\\": {\\\"data\\\": {\\\"Variable\\\": [\\\"sale_price_sqr_foot\\\", \\\"sale_price_sqr_foot\\\"], \\\"value\\\": {\\\"__ndarray__\\\": \\\"u1cFrAbfeEDpu/UMp/iFQA==\\\", \\\"dtype\\\": \\\"float64\\\", \\\"order\\\": \\\"little\\\", \\\"shape\\\": [2]}, \\\"year\\\": [\\\"2012\\\", \\\"2013\\\"]}, \\\"selected\\\": {\\\"id\\\": \\\"2633\\\"}, \\\"selection_policy\\\": {\\\"id\\\": \\\"2648\\\"}}, \\\"id\\\": \\\"2632\\\", \\\"type\\\": \\\"ColumnDataSource\\\"}, {\\\"attributes\\\": {\\\"source\\\": {\\\"id\\\": \\\"2614\\\"}}, \\\"id\\\": \\\"2621\\\", \\\"type\\\": \\\"CDSView\\\"}, {\\\"attributes\\\": {\\\"line_color\\\": \\\"#1f77b3\\\", \\\"line_width\\\": 2, \\\"x\\\": {\\\"field\\\": \\\"year\\\"}, \\\"y\\\": {\\\"field\\\": \\\"value\\\"}}, \\\"id\\\": \\\"2617\\\", \\\"type\\\": \\\"Line\\\"}, {\\\"attributes\\\": {\\\"line_alpha\\\": 0.1, \\\"line_color\\\": \\\"#ff7e0e\\\", \\\"line_width\\\": 2, \\\"x\\\": {\\\"field\\\": \\\"year\\\"}, \\\"y\\\": {\\\"field\\\": \\\"value\\\"}}, \\\"id\\\": \\\"2636\\\", \\\"type\\\": \\\"Line\\\"}, {\\\"attributes\\\": {}, \\\"id\\\": \\\"2648\\\", \\\"type\\\": \\\"UnionRenderers\\\"}, {\\\"attributes\\\": {\\\"data_source\\\": {\\\"id\\\": \\\"2632\\\"}, \\\"glyph\\\": {\\\"id\\\": \\\"2635\\\"}, \\\"hover_glyph\\\": null, \\\"muted_glyph\\\": {\\\"id\\\": \\\"2637\\\"}, \\\"nonselection_glyph\\\": {\\\"id\\\": \\\"2636\\\"}, \\\"selection_glyph\\\": null, \\\"view\\\": {\\\"id\\\": \\\"2639\\\"}}, \\\"id\\\": \\\"2638\\\", \\\"type\\\": \\\"GlyphRenderer\\\"}, {\\\"attributes\\\": {\\\"label\\\": {\\\"value\\\": \\\"gross_rent\\\"}, \\\"renderers\\\": [{\\\"id\\\": \\\"2620\\\"}]}, \\\"id\\\": \\\"2631\\\", \\\"type\\\": \\\"LegendItem\\\"}, {\\\"attributes\\\": {}, \\\"id\\\": \\\"2628\\\", \\\"type\\\": \\\"UnionRenderers\\\"}, {\\\"attributes\\\": {}, \\\"id\\\": \\\"2615\\\", \\\"type\\\": \\\"Selection\\\"}, {\\\"attributes\\\": {\\\"line_alpha\\\": 0.2, \\\"line_color\\\": \\\"#1f77b3\\\", \\\"line_width\\\": 2, \\\"x\\\": {\\\"field\\\": \\\"year\\\"}, \\\"y\\\": {\\\"field\\\": \\\"value\\\"}}, \\\"id\\\": \\\"2619\\\", \\\"type\\\": \\\"Line\\\"}, {\\\"attributes\\\": {}, \\\"id\\\": \\\"2633\\\", \\\"type\\\": \\\"Selection\\\"}]}\",\"header\":\"{\\\"msgid\\\": \\\"3966\\\", \\\"msgtype\\\": \\\"PATCH-DOC\\\"}\",\"metadata\":\"{}\"},\"Miraloma Park\":{\"content\":\"{\\\"events\\\": [{\\\"attr\\\": \\\"factors\\\", \\\"kind\\\": \\\"ModelChanged\\\", \\\"model\\\": {\\\"id\\\": \\\"2577\\\"}, \\\"new\\\": [\\\"2010\\\", \\\"2011\\\", \\\"2012\\\", \\\"2014\\\"]}, {\\\"cols\\\": null, \\\"column_source\\\": {\\\"id\\\": \\\"2614\\\"}, \\\"kind\\\": \\\"ColumnDataChanged\\\", \\\"new\\\": {\\\"Variable\\\": [\\\"gross_rent\\\", \\\"gross_rent\\\", \\\"gross_rent\\\", \\\"gross_rent\\\"], \\\"value\\\": [1239, 1530, 2324, 3528], \\\"year\\\": [\\\"2010\\\", \\\"2011\\\", \\\"2012\\\", \\\"2014\\\"]}}, {\\\"cols\\\": null, \\\"column_source\\\": {\\\"id\\\": \\\"2632\\\"}, \\\"kind\\\": \\\"ColumnDataChanged\\\", \\\"new\\\": {\\\"Variable\\\": [\\\"sale_price_sqr_foot\\\", \\\"sale_price_sqr_foot\\\", \\\"sale_price_sqr_foot\\\", \\\"sale_price_sqr_foot\\\"], \\\"value\\\": {\\\"__ndarray__\\\": \\\"nv5hrd5EhUDxcEwp0ep5QKIzmfqJoYdAXElslxDPk0A=\\\", \\\"dtype\\\": \\\"float64\\\", \\\"order\\\": \\\"little\\\", \\\"shape\\\": [4]}, \\\"year\\\": [\\\"2010\\\", \\\"2011\\\", \\\"2012\\\", \\\"2014\\\"]}}, {\\\"attr\\\": \\\"text\\\", \\\"kind\\\": \\\"ModelChanged\\\", \\\"model\\\": {\\\"id\\\": \\\"2582\\\"}, \\\"new\\\": \\\"neighborhood: Miraloma Park\\\"}, {\\\"attr\\\": \\\"right\\\", \\\"kind\\\": \\\"ModelChanged\\\", \\\"model\\\": {\\\"id\\\": \\\"2581\\\"}, \\\"new\\\": [{\\\"id\\\": \\\"2630\\\"}]}], \\\"references\\\": [{\\\"attributes\\\": {\\\"click_policy\\\": \\\"mute\\\", \\\"items\\\": [{\\\"id\\\": \\\"2631\\\"}, {\\\"id\\\": \\\"2650\\\"}], \\\"location\\\": [0, 0], \\\"title\\\": \\\"Variable\\\"}, \\\"id\\\": \\\"2630\\\", \\\"type\\\": \\\"Legend\\\"}, {\\\"attributes\\\": {\\\"line_alpha\\\": 0.1, \\\"line_color\\\": \\\"#1f77b3\\\", \\\"line_width\\\": 2, \\\"x\\\": {\\\"field\\\": \\\"year\\\"}, \\\"y\\\": {\\\"field\\\": \\\"value\\\"}}, \\\"id\\\": \\\"2618\\\", \\\"type\\\": \\\"Line\\\"}, {\\\"attributes\\\": {\\\"source\\\": {\\\"id\\\": \\\"2632\\\"}}, \\\"id\\\": \\\"2639\\\", \\\"type\\\": \\\"CDSView\\\"}, {\\\"attributes\\\": {\\\"label\\\": {\\\"value\\\": \\\"sale_price_sqr_foot\\\"}, \\\"renderers\\\": [{\\\"id\\\": \\\"2638\\\"}]}, \\\"id\\\": \\\"2650\\\", \\\"type\\\": \\\"LegendItem\\\"}, {\\\"attributes\\\": {\\\"data\\\": {\\\"Variable\\\": [\\\"gross_rent\\\", \\\"gross_rent\\\", \\\"gross_rent\\\", \\\"gross_rent\\\"], \\\"value\\\": [1239, 1530, 2324, 3528], \\\"year\\\": [\\\"2010\\\", \\\"2011\\\", \\\"2012\\\", \\\"2014\\\"]}, \\\"selected\\\": {\\\"id\\\": \\\"2615\\\"}, \\\"selection_policy\\\": {\\\"id\\\": \\\"2628\\\"}}, \\\"id\\\": \\\"2614\\\", \\\"type\\\": \\\"ColumnDataSource\\\"}, {\\\"attributes\\\": {\\\"data_source\\\": {\\\"id\\\": \\\"2614\\\"}, \\\"glyph\\\": {\\\"id\\\": \\\"2617\\\"}, \\\"hover_glyph\\\": null, \\\"muted_glyph\\\": {\\\"id\\\": \\\"2619\\\"}, \\\"nonselection_glyph\\\": {\\\"id\\\": \\\"2618\\\"}, \\\"selection_glyph\\\": null, \\\"view\\\": {\\\"id\\\": \\\"2621\\\"}}, \\\"id\\\": \\\"2620\\\", \\\"type\\\": \\\"GlyphRenderer\\\"}, {\\\"attributes\\\": {\\\"line_color\\\": \\\"#ff7e0e\\\", \\\"line_width\\\": 2, \\\"x\\\": {\\\"field\\\": \\\"year\\\"}, \\\"y\\\": {\\\"field\\\": \\\"value\\\"}}, \\\"id\\\": \\\"2635\\\", \\\"type\\\": \\\"Line\\\"}, {\\\"attributes\\\": {\\\"line_alpha\\\": 0.2, \\\"line_color\\\": \\\"#ff7e0e\\\", \\\"line_width\\\": 2, \\\"x\\\": {\\\"field\\\": \\\"year\\\"}, \\\"y\\\": {\\\"field\\\": \\\"value\\\"}}, \\\"id\\\": \\\"2637\\\", \\\"type\\\": \\\"Line\\\"}, {\\\"attributes\\\": {\\\"data\\\": {\\\"Variable\\\": [\\\"sale_price_sqr_foot\\\", \\\"sale_price_sqr_foot\\\", \\\"sale_price_sqr_foot\\\", \\\"sale_price_sqr_foot\\\"], \\\"value\\\": {\\\"__ndarray__\\\": \\\"nv5hrd5EhUDxcEwp0ep5QKIzmfqJoYdAXElslxDPk0A=\\\", \\\"dtype\\\": \\\"float64\\\", \\\"order\\\": \\\"little\\\", \\\"shape\\\": [4]}, \\\"year\\\": [\\\"2010\\\", \\\"2011\\\", \\\"2012\\\", \\\"2014\\\"]}, \\\"selected\\\": {\\\"id\\\": \\\"2633\\\"}, \\\"selection_policy\\\": {\\\"id\\\": \\\"2648\\\"}}, \\\"id\\\": \\\"2632\\\", \\\"type\\\": \\\"ColumnDataSource\\\"}, {\\\"attributes\\\": {\\\"source\\\": {\\\"id\\\": \\\"2614\\\"}}, \\\"id\\\": \\\"2621\\\", \\\"type\\\": \\\"CDSView\\\"}, {\\\"attributes\\\": {\\\"line_color\\\": \\\"#1f77b3\\\", \\\"line_width\\\": 2, \\\"x\\\": {\\\"field\\\": \\\"year\\\"}, \\\"y\\\": {\\\"field\\\": \\\"value\\\"}}, \\\"id\\\": \\\"2617\\\", \\\"type\\\": \\\"Line\\\"}, {\\\"attributes\\\": {\\\"line_alpha\\\": 0.1, \\\"line_color\\\": \\\"#ff7e0e\\\", \\\"line_width\\\": 2, \\\"x\\\": {\\\"field\\\": \\\"year\\\"}, \\\"y\\\": {\\\"field\\\": \\\"value\\\"}}, \\\"id\\\": \\\"2636\\\", \\\"type\\\": \\\"Line\\\"}, {\\\"attributes\\\": {}, \\\"id\\\": \\\"2648\\\", \\\"type\\\": \\\"UnionRenderers\\\"}, {\\\"attributes\\\": {\\\"data_source\\\": {\\\"id\\\": \\\"2632\\\"}, \\\"glyph\\\": {\\\"id\\\": \\\"2635\\\"}, \\\"hover_glyph\\\": null, \\\"muted_glyph\\\": {\\\"id\\\": \\\"2637\\\"}, \\\"nonselection_glyph\\\": {\\\"id\\\": \\\"2636\\\"}, \\\"selection_glyph\\\": null, \\\"view\\\": {\\\"id\\\": \\\"2639\\\"}}, \\\"id\\\": \\\"2638\\\", \\\"type\\\": \\\"GlyphRenderer\\\"}, {\\\"attributes\\\": {\\\"label\\\": {\\\"value\\\": \\\"gross_rent\\\"}, \\\"renderers\\\": [{\\\"id\\\": \\\"2620\\\"}]}, \\\"id\\\": \\\"2631\\\", \\\"type\\\": \\\"LegendItem\\\"}, {\\\"attributes\\\": {}, \\\"id\\\": \\\"2628\\\", \\\"type\\\": \\\"UnionRenderers\\\"}, {\\\"attributes\\\": {}, \\\"id\\\": \\\"2615\\\", \\\"type\\\": \\\"Selection\\\"}, {\\\"attributes\\\": {\\\"line_alpha\\\": 0.2, \\\"line_color\\\": \\\"#1f77b3\\\", \\\"line_width\\\": 2, \\\"x\\\": {\\\"field\\\": \\\"year\\\"}, \\\"y\\\": {\\\"field\\\": \\\"value\\\"}}, \\\"id\\\": \\\"2619\\\", \\\"type\\\": \\\"Line\\\"}, {\\\"attributes\\\": {}, \\\"id\\\": \\\"2633\\\", \\\"type\\\": \\\"Selection\\\"}]}\",\"header\":\"{\\\"msgid\\\": \\\"3933\\\", \\\"msgtype\\\": \\\"PATCH-DOC\\\"}\",\"metadata\":\"{}\"},\"Mission Bay\":{\"content\":\"{\\\"events\\\": [{\\\"attr\\\": \\\"factors\\\", \\\"kind\\\": \\\"ModelChanged\\\", \\\"model\\\": {\\\"id\\\": \\\"2577\\\"}, \\\"new\\\": [\\\"2010\\\", \\\"2011\\\", \\\"2012\\\", \\\"2013\\\", \\\"2014\\\", \\\"2016\\\"]}, {\\\"cols\\\": null, \\\"column_source\\\": {\\\"id\\\": \\\"2614\\\"}, \\\"kind\\\": \\\"ColumnDataChanged\\\", \\\"new\\\": {\\\"Variable\\\": [\\\"gross_rent\\\", \\\"gross_rent\\\", \\\"gross_rent\\\", \\\"gross_rent\\\", \\\"gross_rent\\\", \\\"gross_rent\\\"], \\\"value\\\": [1239, 1530, 2324, 2971, 3528, 4390], \\\"year\\\": [\\\"2010\\\", \\\"2011\\\", \\\"2012\\\", \\\"2013\\\", \\\"2014\\\", \\\"2016\\\"]}}, {\\\"cols\\\": null, \\\"column_source\\\": {\\\"id\\\": \\\"2632\\\"}, \\\"kind\\\": \\\"ColumnDataChanged\\\", \\\"new\\\": {\\\"Variable\\\": [\\\"sale_price_sqr_foot\\\", \\\"sale_price_sqr_foot\\\", \\\"sale_price_sqr_foot\\\", \\\"sale_price_sqr_foot\\\", \\\"sale_price_sqr_foot\\\", \\\"sale_price_sqr_foot\\\"], \\\"value\\\": {\\\"__ndarray__\\\": \\\"YJ/P0+KcfkA4flQbPK9/QDDJZL4vjIVAAAAAAAAA+H/q7LkGjoNrQAVqo4yN5IxA\\\", \\\"dtype\\\": \\\"float64\\\", \\\"order\\\": \\\"little\\\", \\\"shape\\\": [6]}, \\\"year\\\": [\\\"2010\\\", \\\"2011\\\", \\\"2012\\\", \\\"2013\\\", \\\"2014\\\", \\\"2016\\\"]}}, {\\\"attr\\\": \\\"text\\\", \\\"kind\\\": \\\"ModelChanged\\\", \\\"model\\\": {\\\"id\\\": \\\"2582\\\"}, \\\"new\\\": \\\"neighborhood: Mission Bay\\\"}, {\\\"attr\\\": \\\"right\\\", \\\"kind\\\": \\\"ModelChanged\\\", \\\"model\\\": {\\\"id\\\": \\\"2581\\\"}, \\\"new\\\": [{\\\"id\\\": \\\"2630\\\"}]}], \\\"references\\\": [{\\\"attributes\\\": {\\\"click_policy\\\": \\\"mute\\\", \\\"items\\\": [{\\\"id\\\": \\\"2631\\\"}, {\\\"id\\\": \\\"2650\\\"}], \\\"location\\\": [0, 0], \\\"title\\\": \\\"Variable\\\"}, \\\"id\\\": \\\"2630\\\", \\\"type\\\": \\\"Legend\\\"}, {\\\"attributes\\\": {\\\"line_alpha\\\": 0.1, \\\"line_color\\\": \\\"#1f77b3\\\", \\\"line_width\\\": 2, \\\"x\\\": {\\\"field\\\": \\\"year\\\"}, \\\"y\\\": {\\\"field\\\": \\\"value\\\"}}, \\\"id\\\": \\\"2618\\\", \\\"type\\\": \\\"Line\\\"}, {\\\"attributes\\\": {\\\"source\\\": {\\\"id\\\": \\\"2632\\\"}}, \\\"id\\\": \\\"2639\\\", \\\"type\\\": \\\"CDSView\\\"}, {\\\"attributes\\\": {\\\"label\\\": {\\\"value\\\": \\\"sale_price_sqr_foot\\\"}, \\\"renderers\\\": [{\\\"id\\\": \\\"2638\\\"}]}, \\\"id\\\": \\\"2650\\\", \\\"type\\\": \\\"LegendItem\\\"}, {\\\"attributes\\\": {\\\"data\\\": {\\\"Variable\\\": [\\\"gross_rent\\\", \\\"gross_rent\\\", \\\"gross_rent\\\", \\\"gross_rent\\\", \\\"gross_rent\\\", \\\"gross_rent\\\"], \\\"value\\\": [1239, 1530, 2324, 2971, 3528, 4390], \\\"year\\\": [\\\"2010\\\", \\\"2011\\\", \\\"2012\\\", \\\"2013\\\", \\\"2014\\\", \\\"2016\\\"]}, \\\"selected\\\": {\\\"id\\\": \\\"2615\\\"}, \\\"selection_policy\\\": {\\\"id\\\": \\\"2628\\\"}}, \\\"id\\\": \\\"2614\\\", \\\"type\\\": \\\"ColumnDataSource\\\"}, {\\\"attributes\\\": {\\\"data_source\\\": {\\\"id\\\": \\\"2614\\\"}, \\\"glyph\\\": {\\\"id\\\": \\\"2617\\\"}, \\\"hover_glyph\\\": null, \\\"muted_glyph\\\": {\\\"id\\\": \\\"2619\\\"}, \\\"nonselection_glyph\\\": {\\\"id\\\": \\\"2618\\\"}, \\\"selection_glyph\\\": null, \\\"view\\\": {\\\"id\\\": \\\"2621\\\"}}, \\\"id\\\": \\\"2620\\\", \\\"type\\\": \\\"GlyphRenderer\\\"}, {\\\"attributes\\\": {\\\"line_color\\\": \\\"#ff7e0e\\\", \\\"line_width\\\": 2, \\\"x\\\": {\\\"field\\\": \\\"year\\\"}, \\\"y\\\": {\\\"field\\\": \\\"value\\\"}}, \\\"id\\\": \\\"2635\\\", \\\"type\\\": \\\"Line\\\"}, {\\\"attributes\\\": {\\\"line_alpha\\\": 0.2, \\\"line_color\\\": \\\"#ff7e0e\\\", \\\"line_width\\\": 2, \\\"x\\\": {\\\"field\\\": \\\"year\\\"}, \\\"y\\\": {\\\"field\\\": \\\"value\\\"}}, \\\"id\\\": \\\"2637\\\", \\\"type\\\": \\\"Line\\\"}, {\\\"attributes\\\": {\\\"data\\\": {\\\"Variable\\\": [\\\"sale_price_sqr_foot\\\", \\\"sale_price_sqr_foot\\\", \\\"sale_price_sqr_foot\\\", \\\"sale_price_sqr_foot\\\", \\\"sale_price_sqr_foot\\\", \\\"sale_price_sqr_foot\\\"], \\\"value\\\": {\\\"__ndarray__\\\": \\\"YJ/P0+KcfkA4flQbPK9/QDDJZL4vjIVAAAAAAAAA+H/q7LkGjoNrQAVqo4yN5IxA\\\", \\\"dtype\\\": \\\"float64\\\", \\\"order\\\": \\\"little\\\", \\\"shape\\\": [6]}, \\\"year\\\": [\\\"2010\\\", \\\"2011\\\", \\\"2012\\\", \\\"2013\\\", \\\"2014\\\", \\\"2016\\\"]}, \\\"selected\\\": {\\\"id\\\": \\\"2633\\\"}, \\\"selection_policy\\\": {\\\"id\\\": \\\"2648\\\"}}, \\\"id\\\": \\\"2632\\\", \\\"type\\\": \\\"ColumnDataSource\\\"}, {\\\"attributes\\\": {\\\"source\\\": {\\\"id\\\": \\\"2614\\\"}}, \\\"id\\\": \\\"2621\\\", \\\"type\\\": \\\"CDSView\\\"}, {\\\"attributes\\\": {\\\"line_color\\\": \\\"#1f77b3\\\", \\\"line_width\\\": 2, \\\"x\\\": {\\\"field\\\": \\\"year\\\"}, \\\"y\\\": {\\\"field\\\": \\\"value\\\"}}, \\\"id\\\": \\\"2617\\\", \\\"type\\\": \\\"Line\\\"}, {\\\"attributes\\\": {\\\"line_alpha\\\": 0.1, \\\"line_color\\\": \\\"#ff7e0e\\\", \\\"line_width\\\": 2, \\\"x\\\": {\\\"field\\\": \\\"year\\\"}, \\\"y\\\": {\\\"field\\\": \\\"value\\\"}}, \\\"id\\\": \\\"2636\\\", \\\"type\\\": \\\"Line\\\"}, {\\\"attributes\\\": {}, \\\"id\\\": \\\"2648\\\", \\\"type\\\": \\\"UnionRenderers\\\"}, {\\\"attributes\\\": {\\\"data_source\\\": {\\\"id\\\": \\\"2632\\\"}, \\\"glyph\\\": {\\\"id\\\": \\\"2635\\\"}, \\\"hover_glyph\\\": null, \\\"muted_glyph\\\": {\\\"id\\\": \\\"2637\\\"}, \\\"nonselection_glyph\\\": {\\\"id\\\": \\\"2636\\\"}, \\\"selection_glyph\\\": null, \\\"view\\\": {\\\"id\\\": \\\"2639\\\"}}, \\\"id\\\": \\\"2638\\\", \\\"type\\\": \\\"GlyphRenderer\\\"}, {\\\"attributes\\\": {\\\"label\\\": {\\\"value\\\": \\\"gross_rent\\\"}, \\\"renderers\\\": [{\\\"id\\\": \\\"2620\\\"}]}, \\\"id\\\": \\\"2631\\\", \\\"type\\\": \\\"LegendItem\\\"}, {\\\"attributes\\\": {}, \\\"id\\\": \\\"2628\\\", \\\"type\\\": \\\"UnionRenderers\\\"}, {\\\"attributes\\\": {}, \\\"id\\\": \\\"2615\\\", \\\"type\\\": \\\"Selection\\\"}, {\\\"attributes\\\": {\\\"line_alpha\\\": 0.2, \\\"line_color\\\": \\\"#1f77b3\\\", \\\"line_width\\\": 2, \\\"x\\\": {\\\"field\\\": \\\"year\\\"}, \\\"y\\\": {\\\"field\\\": \\\"value\\\"}}, \\\"id\\\": \\\"2619\\\", \\\"type\\\": \\\"Line\\\"}, {\\\"attributes\\\": {}, \\\"id\\\": \\\"2633\\\", \\\"type\\\": \\\"Selection\\\"}]}\",\"header\":\"{\\\"msgid\\\": \\\"3900\\\", \\\"msgtype\\\": \\\"PATCH-DOC\\\"}\",\"metadata\":\"{}\"},\"Mission Dolores\":{\"content\":\"{\\\"events\\\": [{\\\"attr\\\": \\\"factors\\\", \\\"kind\\\": \\\"ModelChanged\\\", \\\"model\\\": {\\\"id\\\": \\\"2577\\\"}, \\\"new\\\": [\\\"2010\\\", \\\"2011\\\", \\\"2012\\\", \\\"2013\\\", \\\"2014\\\", \\\"2015\\\"]}, {\\\"cols\\\": null, \\\"column_source\\\": {\\\"id\\\": \\\"2614\\\"}, \\\"kind\\\": \\\"ColumnDataChanged\\\", \\\"new\\\": {\\\"Variable\\\": [\\\"gross_rent\\\", \\\"gross_rent\\\", \\\"gross_rent\\\", \\\"gross_rent\\\", \\\"gross_rent\\\", \\\"gross_rent\\\"], \\\"value\\\": [1239, 1530, 2324, 2971, 3528, 3739], \\\"year\\\": [\\\"2010\\\", \\\"2011\\\", \\\"2012\\\", \\\"2013\\\", \\\"2014\\\", \\\"2015\\\"]}}, {\\\"cols\\\": null, \\\"column_source\\\": {\\\"id\\\": \\\"2632\\\"}, \\\"kind\\\": \\\"ColumnDataChanged\\\", \\\"new\\\": {\\\"Variable\\\": [\\\"sale_price_sqr_foot\\\", \\\"sale_price_sqr_foot\\\", \\\"sale_price_sqr_foot\\\", \\\"sale_price_sqr_foot\\\", \\\"sale_price_sqr_foot\\\", \\\"sale_price_sqr_foot\\\"], \\\"value\\\": {\\\"__ndarray__\\\": \\\"jx2o184fcEDnKsbKd1ZyQHi6P9hbD3RAu5WvBqmyekDqY725wRGEQPso77AL3oFA\\\", \\\"dtype\\\": \\\"float64\\\", \\\"order\\\": \\\"little\\\", \\\"shape\\\": [6]}, \\\"year\\\": [\\\"2010\\\", \\\"2011\\\", \\\"2012\\\", \\\"2013\\\", \\\"2014\\\", \\\"2015\\\"]}}, {\\\"attr\\\": \\\"text\\\", \\\"kind\\\": \\\"ModelChanged\\\", \\\"model\\\": {\\\"id\\\": \\\"2582\\\"}, \\\"new\\\": \\\"neighborhood: Mission Dolores\\\"}, {\\\"attr\\\": \\\"right\\\", \\\"kind\\\": \\\"ModelChanged\\\", \\\"model\\\": {\\\"id\\\": \\\"2581\\\"}, \\\"new\\\": [{\\\"id\\\": \\\"2630\\\"}]}], \\\"references\\\": [{\\\"attributes\\\": {\\\"click_policy\\\": \\\"mute\\\", \\\"items\\\": [{\\\"id\\\": \\\"2631\\\"}, {\\\"id\\\": \\\"2650\\\"}], \\\"location\\\": [0, 0], \\\"title\\\": \\\"Variable\\\"}, \\\"id\\\": \\\"2630\\\", \\\"type\\\": \\\"Legend\\\"}, {\\\"attributes\\\": {\\\"line_alpha\\\": 0.1, \\\"line_color\\\": \\\"#1f77b3\\\", \\\"line_width\\\": 2, \\\"x\\\": {\\\"field\\\": \\\"year\\\"}, \\\"y\\\": {\\\"field\\\": \\\"value\\\"}}, \\\"id\\\": \\\"2618\\\", \\\"type\\\": \\\"Line\\\"}, {\\\"attributes\\\": {\\\"source\\\": {\\\"id\\\": \\\"2632\\\"}}, \\\"id\\\": \\\"2639\\\", \\\"type\\\": \\\"CDSView\\\"}, {\\\"attributes\\\": {\\\"label\\\": {\\\"value\\\": \\\"sale_price_sqr_foot\\\"}, \\\"renderers\\\": [{\\\"id\\\": \\\"2638\\\"}]}, \\\"id\\\": \\\"2650\\\", \\\"type\\\": \\\"LegendItem\\\"}, {\\\"attributes\\\": {\\\"data\\\": {\\\"Variable\\\": [\\\"gross_rent\\\", \\\"gross_rent\\\", \\\"gross_rent\\\", \\\"gross_rent\\\", \\\"gross_rent\\\", \\\"gross_rent\\\"], \\\"value\\\": [1239, 1530, 2324, 2971, 3528, 3739], \\\"year\\\": [\\\"2010\\\", \\\"2011\\\", \\\"2012\\\", \\\"2013\\\", \\\"2014\\\", \\\"2015\\\"]}, \\\"selected\\\": {\\\"id\\\": \\\"2615\\\"}, \\\"selection_policy\\\": {\\\"id\\\": \\\"2628\\\"}}, \\\"id\\\": \\\"2614\\\", \\\"type\\\": \\\"ColumnDataSource\\\"}, {\\\"attributes\\\": {\\\"data_source\\\": {\\\"id\\\": \\\"2614\\\"}, \\\"glyph\\\": {\\\"id\\\": \\\"2617\\\"}, \\\"hover_glyph\\\": null, \\\"muted_glyph\\\": {\\\"id\\\": \\\"2619\\\"}, \\\"nonselection_glyph\\\": {\\\"id\\\": \\\"2618\\\"}, \\\"selection_glyph\\\": null, \\\"view\\\": {\\\"id\\\": \\\"2621\\\"}}, \\\"id\\\": \\\"2620\\\", \\\"type\\\": \\\"GlyphRenderer\\\"}, {\\\"attributes\\\": {\\\"line_color\\\": \\\"#ff7e0e\\\", \\\"line_width\\\": 2, \\\"x\\\": {\\\"field\\\": \\\"year\\\"}, \\\"y\\\": {\\\"field\\\": \\\"value\\\"}}, \\\"id\\\": \\\"2635\\\", \\\"type\\\": \\\"Line\\\"}, {\\\"attributes\\\": {\\\"line_alpha\\\": 0.2, \\\"line_color\\\": \\\"#ff7e0e\\\", \\\"line_width\\\": 2, \\\"x\\\": {\\\"field\\\": \\\"year\\\"}, \\\"y\\\": {\\\"field\\\": \\\"value\\\"}}, \\\"id\\\": \\\"2637\\\", \\\"type\\\": \\\"Line\\\"}, {\\\"attributes\\\": {\\\"data\\\": {\\\"Variable\\\": [\\\"sale_price_sqr_foot\\\", \\\"sale_price_sqr_foot\\\", \\\"sale_price_sqr_foot\\\", \\\"sale_price_sqr_foot\\\", \\\"sale_price_sqr_foot\\\", \\\"sale_price_sqr_foot\\\"], \\\"value\\\": {\\\"__ndarray__\\\": \\\"jx2o184fcEDnKsbKd1ZyQHi6P9hbD3RAu5WvBqmyekDqY725wRGEQPso77AL3oFA\\\", \\\"dtype\\\": \\\"float64\\\", \\\"order\\\": \\\"little\\\", \\\"shape\\\": [6]}, \\\"year\\\": [\\\"2010\\\", \\\"2011\\\", \\\"2012\\\", \\\"2013\\\", \\\"2014\\\", \\\"2015\\\"]}, \\\"selected\\\": {\\\"id\\\": \\\"2633\\\"}, \\\"selection_policy\\\": {\\\"id\\\": \\\"2648\\\"}}, \\\"id\\\": \\\"2632\\\", \\\"type\\\": \\\"ColumnDataSource\\\"}, {\\\"attributes\\\": {\\\"source\\\": {\\\"id\\\": \\\"2614\\\"}}, \\\"id\\\": \\\"2621\\\", \\\"type\\\": \\\"CDSView\\\"}, {\\\"attributes\\\": {\\\"line_color\\\": \\\"#1f77b3\\\", \\\"line_width\\\": 2, \\\"x\\\": {\\\"field\\\": \\\"year\\\"}, \\\"y\\\": {\\\"field\\\": \\\"value\\\"}}, \\\"id\\\": \\\"2617\\\", \\\"type\\\": \\\"Line\\\"}, {\\\"attributes\\\": {\\\"line_alpha\\\": 0.1, \\\"line_color\\\": \\\"#ff7e0e\\\", \\\"line_width\\\": 2, \\\"x\\\": {\\\"field\\\": \\\"year\\\"}, \\\"y\\\": {\\\"field\\\": \\\"value\\\"}}, \\\"id\\\": \\\"2636\\\", \\\"type\\\": \\\"Line\\\"}, {\\\"attributes\\\": {}, \\\"id\\\": \\\"2648\\\", \\\"type\\\": \\\"UnionRenderers\\\"}, {\\\"attributes\\\": {\\\"data_source\\\": {\\\"id\\\": \\\"2632\\\"}, \\\"glyph\\\": {\\\"id\\\": \\\"2635\\\"}, \\\"hover_glyph\\\": null, \\\"muted_glyph\\\": {\\\"id\\\": \\\"2637\\\"}, \\\"nonselection_glyph\\\": {\\\"id\\\": \\\"2636\\\"}, \\\"selection_glyph\\\": null, \\\"view\\\": {\\\"id\\\": \\\"2639\\\"}}, \\\"id\\\": \\\"2638\\\", \\\"type\\\": \\\"GlyphRenderer\\\"}, {\\\"attributes\\\": {\\\"label\\\": {\\\"value\\\": \\\"gross_rent\\\"}, \\\"renderers\\\": [{\\\"id\\\": \\\"2620\\\"}]}, \\\"id\\\": \\\"2631\\\", \\\"type\\\": \\\"LegendItem\\\"}, {\\\"attributes\\\": {}, \\\"id\\\": \\\"2628\\\", \\\"type\\\": \\\"UnionRenderers\\\"}, {\\\"attributes\\\": {}, \\\"id\\\": \\\"2615\\\", \\\"type\\\": \\\"Selection\\\"}, {\\\"attributes\\\": {\\\"line_alpha\\\": 0.2, \\\"line_color\\\": \\\"#1f77b3\\\", \\\"line_width\\\": 2, \\\"x\\\": {\\\"field\\\": \\\"year\\\"}, \\\"y\\\": {\\\"field\\\": \\\"value\\\"}}, \\\"id\\\": \\\"2619\\\", \\\"type\\\": \\\"Line\\\"}, {\\\"attributes\\\": {}, \\\"id\\\": \\\"2633\\\", \\\"type\\\": \\\"Selection\\\"}]}\",\"header\":\"{\\\"msgid\\\": \\\"3867\\\", \\\"msgtype\\\": \\\"PATCH-DOC\\\"}\",\"metadata\":\"{}\"},\"Mission Terrace\":{\"content\":\"{\\\"events\\\": [{\\\"attr\\\": \\\"factors\\\", \\\"kind\\\": \\\"ModelChanged\\\", \\\"model\\\": {\\\"id\\\": \\\"2577\\\"}, \\\"new\\\": [\\\"2010\\\", \\\"2013\\\", \\\"2014\\\", \\\"2015\\\", \\\"2016\\\"]}, {\\\"cols\\\": null, \\\"column_source\\\": {\\\"id\\\": \\\"2614\\\"}, \\\"kind\\\": \\\"ColumnDataChanged\\\", \\\"new\\\": {\\\"Variable\\\": [\\\"gross_rent\\\", \\\"gross_rent\\\", \\\"gross_rent\\\", \\\"gross_rent\\\", \\\"gross_rent\\\"], \\\"value\\\": [1239, 2971, 3528, 3739, 4390], \\\"year\\\": [\\\"2010\\\", \\\"2013\\\", \\\"2014\\\", \\\"2015\\\", \\\"2016\\\"]}}, {\\\"cols\\\": null, \\\"column_source\\\": {\\\"id\\\": \\\"2632\\\"}, \\\"kind\\\": \\\"ColumnDataChanged\\\", \\\"new\\\": {\\\"Variable\\\": [\\\"sale_price_sqr_foot\\\", \\\"sale_price_sqr_foot\\\", \\\"sale_price_sqr_foot\\\", \\\"sale_price_sqr_foot\\\", \\\"sale_price_sqr_foot\\\"], \\\"value\\\": {\\\"__ndarray__\\\": \\\"5Up2MwRucEDCIHpXN3uCQAn27jf/wnJA7NvKAco+gkD7adXXIniLQA==\\\", \\\"dtype\\\": \\\"float64\\\", \\\"order\\\": \\\"little\\\", \\\"shape\\\": [5]}, \\\"year\\\": [\\\"2010\\\", \\\"2013\\\", \\\"2014\\\", \\\"2015\\\", \\\"2016\\\"]}}, {\\\"attr\\\": \\\"text\\\", \\\"kind\\\": \\\"ModelChanged\\\", \\\"model\\\": {\\\"id\\\": \\\"2582\\\"}, \\\"new\\\": \\\"neighborhood: Mission Terrace\\\"}, {\\\"attr\\\": \\\"right\\\", \\\"kind\\\": \\\"ModelChanged\\\", \\\"model\\\": {\\\"id\\\": \\\"2581\\\"}, \\\"new\\\": [{\\\"id\\\": \\\"2630\\\"}]}], \\\"references\\\": [{\\\"attributes\\\": {\\\"click_policy\\\": \\\"mute\\\", \\\"items\\\": [{\\\"id\\\": \\\"2631\\\"}, {\\\"id\\\": \\\"2650\\\"}], \\\"location\\\": [0, 0], \\\"title\\\": \\\"Variable\\\"}, \\\"id\\\": \\\"2630\\\", \\\"type\\\": \\\"Legend\\\"}, {\\\"attributes\\\": {\\\"line_alpha\\\": 0.1, \\\"line_color\\\": \\\"#1f77b3\\\", \\\"line_width\\\": 2, \\\"x\\\": {\\\"field\\\": \\\"year\\\"}, \\\"y\\\": {\\\"field\\\": \\\"value\\\"}}, \\\"id\\\": \\\"2618\\\", \\\"type\\\": \\\"Line\\\"}, {\\\"attributes\\\": {\\\"source\\\": {\\\"id\\\": \\\"2632\\\"}}, \\\"id\\\": \\\"2639\\\", \\\"type\\\": \\\"CDSView\\\"}, {\\\"attributes\\\": {\\\"label\\\": {\\\"value\\\": \\\"sale_price_sqr_foot\\\"}, \\\"renderers\\\": [{\\\"id\\\": \\\"2638\\\"}]}, \\\"id\\\": \\\"2650\\\", \\\"type\\\": \\\"LegendItem\\\"}, {\\\"attributes\\\": {\\\"data\\\": {\\\"Variable\\\": [\\\"gross_rent\\\", \\\"gross_rent\\\", \\\"gross_rent\\\", \\\"gross_rent\\\", \\\"gross_rent\\\"], \\\"value\\\": [1239, 2971, 3528, 3739, 4390], \\\"year\\\": [\\\"2010\\\", \\\"2013\\\", \\\"2014\\\", \\\"2015\\\", \\\"2016\\\"]}, \\\"selected\\\": {\\\"id\\\": \\\"2615\\\"}, \\\"selection_policy\\\": {\\\"id\\\": \\\"2628\\\"}}, \\\"id\\\": \\\"2614\\\", \\\"type\\\": \\\"ColumnDataSource\\\"}, {\\\"attributes\\\": {\\\"data_source\\\": {\\\"id\\\": \\\"2614\\\"}, \\\"glyph\\\": {\\\"id\\\": \\\"2617\\\"}, \\\"hover_glyph\\\": null, \\\"muted_glyph\\\": {\\\"id\\\": \\\"2619\\\"}, \\\"nonselection_glyph\\\": {\\\"id\\\": \\\"2618\\\"}, \\\"selection_glyph\\\": null, \\\"view\\\": {\\\"id\\\": \\\"2621\\\"}}, \\\"id\\\": \\\"2620\\\", \\\"type\\\": \\\"GlyphRenderer\\\"}, {\\\"attributes\\\": {\\\"line_color\\\": \\\"#ff7e0e\\\", \\\"line_width\\\": 2, \\\"x\\\": {\\\"field\\\": \\\"year\\\"}, \\\"y\\\": {\\\"field\\\": \\\"value\\\"}}, \\\"id\\\": \\\"2635\\\", \\\"type\\\": \\\"Line\\\"}, {\\\"attributes\\\": {\\\"line_alpha\\\": 0.2, \\\"line_color\\\": \\\"#ff7e0e\\\", \\\"line_width\\\": 2, \\\"x\\\": {\\\"field\\\": \\\"year\\\"}, \\\"y\\\": {\\\"field\\\": \\\"value\\\"}}, \\\"id\\\": \\\"2637\\\", \\\"type\\\": \\\"Line\\\"}, {\\\"attributes\\\": {\\\"data\\\": {\\\"Variable\\\": [\\\"sale_price_sqr_foot\\\", \\\"sale_price_sqr_foot\\\", \\\"sale_price_sqr_foot\\\", \\\"sale_price_sqr_foot\\\", \\\"sale_price_sqr_foot\\\"], \\\"value\\\": {\\\"__ndarray__\\\": \\\"5Up2MwRucEDCIHpXN3uCQAn27jf/wnJA7NvKAco+gkD7adXXIniLQA==\\\", \\\"dtype\\\": \\\"float64\\\", \\\"order\\\": \\\"little\\\", \\\"shape\\\": [5]}, \\\"year\\\": [\\\"2010\\\", \\\"2013\\\", \\\"2014\\\", \\\"2015\\\", \\\"2016\\\"]}, \\\"selected\\\": {\\\"id\\\": \\\"2633\\\"}, \\\"selection_policy\\\": {\\\"id\\\": \\\"2648\\\"}}, \\\"id\\\": \\\"2632\\\", \\\"type\\\": \\\"ColumnDataSource\\\"}, {\\\"attributes\\\": {\\\"source\\\": {\\\"id\\\": \\\"2614\\\"}}, \\\"id\\\": \\\"2621\\\", \\\"type\\\": \\\"CDSView\\\"}, {\\\"attributes\\\": {\\\"line_color\\\": \\\"#1f77b3\\\", \\\"line_width\\\": 2, \\\"x\\\": {\\\"field\\\": \\\"year\\\"}, \\\"y\\\": {\\\"field\\\": \\\"value\\\"}}, \\\"id\\\": \\\"2617\\\", \\\"type\\\": \\\"Line\\\"}, {\\\"attributes\\\": {\\\"line_alpha\\\": 0.1, \\\"line_color\\\": \\\"#ff7e0e\\\", \\\"line_width\\\": 2, \\\"x\\\": {\\\"field\\\": \\\"year\\\"}, \\\"y\\\": {\\\"field\\\": \\\"value\\\"}}, \\\"id\\\": \\\"2636\\\", \\\"type\\\": \\\"Line\\\"}, {\\\"attributes\\\": {}, \\\"id\\\": \\\"2648\\\", \\\"type\\\": \\\"UnionRenderers\\\"}, {\\\"attributes\\\": {\\\"data_source\\\": {\\\"id\\\": \\\"2632\\\"}, \\\"glyph\\\": {\\\"id\\\": \\\"2635\\\"}, \\\"hover_glyph\\\": null, \\\"muted_glyph\\\": {\\\"id\\\": \\\"2637\\\"}, \\\"nonselection_glyph\\\": {\\\"id\\\": \\\"2636\\\"}, \\\"selection_glyph\\\": null, \\\"view\\\": {\\\"id\\\": \\\"2639\\\"}}, \\\"id\\\": \\\"2638\\\", \\\"type\\\": \\\"GlyphRenderer\\\"}, {\\\"attributes\\\": {\\\"label\\\": {\\\"value\\\": \\\"gross_rent\\\"}, \\\"renderers\\\": [{\\\"id\\\": \\\"2620\\\"}]}, \\\"id\\\": \\\"2631\\\", \\\"type\\\": \\\"LegendItem\\\"}, {\\\"attributes\\\": {}, \\\"id\\\": \\\"2628\\\", \\\"type\\\": \\\"UnionRenderers\\\"}, {\\\"attributes\\\": {}, \\\"id\\\": \\\"2615\\\", \\\"type\\\": \\\"Selection\\\"}, {\\\"attributes\\\": {\\\"line_alpha\\\": 0.2, \\\"line_color\\\": \\\"#1f77b3\\\", \\\"line_width\\\": 2, \\\"x\\\": {\\\"field\\\": \\\"year\\\"}, \\\"y\\\": {\\\"field\\\": \\\"value\\\"}}, \\\"id\\\": \\\"2619\\\", \\\"type\\\": \\\"Line\\\"}, {\\\"attributes\\\": {}, \\\"id\\\": \\\"2633\\\", \\\"type\\\": \\\"Selection\\\"}]}\",\"header\":\"{\\\"msgid\\\": \\\"3834\\\", \\\"msgtype\\\": \\\"PATCH-DOC\\\"}\",\"metadata\":\"{}\"},\"Nob Hill\":{\"content\":\"{\\\"events\\\": [{\\\"cols\\\": null, \\\"column_source\\\": {\\\"id\\\": \\\"2614\\\"}, \\\"kind\\\": \\\"ColumnDataChanged\\\", \\\"new\\\": {\\\"Variable\\\": [\\\"gross_rent\\\", \\\"gross_rent\\\", \\\"gross_rent\\\", \\\"gross_rent\\\", \\\"gross_rent\\\", \\\"gross_rent\\\", \\\"gross_rent\\\"], \\\"value\\\": [1239, 1530, 2324, 2971, 3528, 3739, 4390], \\\"year\\\": [\\\"2010\\\", \\\"2011\\\", \\\"2012\\\", \\\"2013\\\", \\\"2014\\\", \\\"2015\\\", \\\"2016\\\"]}}, {\\\"cols\\\": null, \\\"column_source\\\": {\\\"id\\\": \\\"2632\\\"}, \\\"kind\\\": \\\"ColumnDataChanged\\\", \\\"new\\\": {\\\"Variable\\\": [\\\"sale_price_sqr_foot\\\", \\\"sale_price_sqr_foot\\\", \\\"sale_price_sqr_foot\\\", \\\"sale_price_sqr_foot\\\", \\\"sale_price_sqr_foot\\\", \\\"sale_price_sqr_foot\\\", \\\"sale_price_sqr_foot\\\"], \\\"value\\\": {\\\"__ndarray__\\\": \\\"nsfa8dY6c0Dw6sQTSEp1QNOp9qKHPHNANu2GfmwgfUCD5gH4F+d9QN20QE/HjoBA5tc1BxFIiEA=\\\", \\\"dtype\\\": \\\"float64\\\", \\\"order\\\": \\\"little\\\", \\\"shape\\\": [7]}, \\\"year\\\": [\\\"2010\\\", \\\"2011\\\", \\\"2012\\\", \\\"2013\\\", \\\"2014\\\", \\\"2015\\\", \\\"2016\\\"]}}, {\\\"attr\\\": \\\"text\\\", \\\"kind\\\": \\\"ModelChanged\\\", \\\"model\\\": {\\\"id\\\": \\\"2582\\\"}, \\\"new\\\": \\\"neighborhood: Nob Hill\\\"}, {\\\"attr\\\": \\\"right\\\", \\\"kind\\\": \\\"ModelChanged\\\", \\\"model\\\": {\\\"id\\\": \\\"2581\\\"}, \\\"new\\\": [{\\\"id\\\": \\\"2630\\\"}]}], \\\"references\\\": [{\\\"attributes\\\": {\\\"click_policy\\\": \\\"mute\\\", \\\"items\\\": [{\\\"id\\\": \\\"2631\\\"}, {\\\"id\\\": \\\"2650\\\"}], \\\"location\\\": [0, 0], \\\"title\\\": \\\"Variable\\\"}, \\\"id\\\": \\\"2630\\\", \\\"type\\\": \\\"Legend\\\"}, {\\\"attributes\\\": {\\\"line_alpha\\\": 0.1, \\\"line_color\\\": \\\"#1f77b3\\\", \\\"line_width\\\": 2, \\\"x\\\": {\\\"field\\\": \\\"year\\\"}, \\\"y\\\": {\\\"field\\\": \\\"value\\\"}}, \\\"id\\\": \\\"2618\\\", \\\"type\\\": \\\"Line\\\"}, {\\\"attributes\\\": {\\\"source\\\": {\\\"id\\\": \\\"2632\\\"}}, \\\"id\\\": \\\"2639\\\", \\\"type\\\": \\\"CDSView\\\"}, {\\\"attributes\\\": {\\\"label\\\": {\\\"value\\\": \\\"sale_price_sqr_foot\\\"}, \\\"renderers\\\": [{\\\"id\\\": \\\"2638\\\"}]}, \\\"id\\\": \\\"2650\\\", \\\"type\\\": \\\"LegendItem\\\"}, {\\\"attributes\\\": {\\\"data\\\": {\\\"Variable\\\": [\\\"gross_rent\\\", \\\"gross_rent\\\", \\\"gross_rent\\\", \\\"gross_rent\\\", \\\"gross_rent\\\", \\\"gross_rent\\\", \\\"gross_rent\\\"], \\\"value\\\": [1239, 1530, 2324, 2971, 3528, 3739, 4390], \\\"year\\\": [\\\"2010\\\", \\\"2011\\\", \\\"2012\\\", \\\"2013\\\", \\\"2014\\\", \\\"2015\\\", \\\"2016\\\"]}, \\\"selected\\\": {\\\"id\\\": \\\"2615\\\"}, \\\"selection_policy\\\": {\\\"id\\\": \\\"2628\\\"}}, \\\"id\\\": \\\"2614\\\", \\\"type\\\": \\\"ColumnDataSource\\\"}, {\\\"attributes\\\": {\\\"data_source\\\": {\\\"id\\\": \\\"2614\\\"}, \\\"glyph\\\": {\\\"id\\\": \\\"2617\\\"}, \\\"hover_glyph\\\": null, \\\"muted_glyph\\\": {\\\"id\\\": \\\"2619\\\"}, \\\"nonselection_glyph\\\": {\\\"id\\\": \\\"2618\\\"}, \\\"selection_glyph\\\": null, \\\"view\\\": {\\\"id\\\": \\\"2621\\\"}}, \\\"id\\\": \\\"2620\\\", \\\"type\\\": \\\"GlyphRenderer\\\"}, {\\\"attributes\\\": {\\\"line_color\\\": \\\"#ff7e0e\\\", \\\"line_width\\\": 2, \\\"x\\\": {\\\"field\\\": \\\"year\\\"}, \\\"y\\\": {\\\"field\\\": \\\"value\\\"}}, \\\"id\\\": \\\"2635\\\", \\\"type\\\": \\\"Line\\\"}, {\\\"attributes\\\": {\\\"line_alpha\\\": 0.2, \\\"line_color\\\": \\\"#ff7e0e\\\", \\\"line_width\\\": 2, \\\"x\\\": {\\\"field\\\": \\\"year\\\"}, \\\"y\\\": {\\\"field\\\": \\\"value\\\"}}, \\\"id\\\": \\\"2637\\\", \\\"type\\\": \\\"Line\\\"}, {\\\"attributes\\\": {\\\"data\\\": {\\\"Variable\\\": [\\\"sale_price_sqr_foot\\\", \\\"sale_price_sqr_foot\\\", \\\"sale_price_sqr_foot\\\", \\\"sale_price_sqr_foot\\\", \\\"sale_price_sqr_foot\\\", \\\"sale_price_sqr_foot\\\", \\\"sale_price_sqr_foot\\\"], \\\"value\\\": {\\\"__ndarray__\\\": \\\"nsfa8dY6c0Dw6sQTSEp1QNOp9qKHPHNANu2GfmwgfUCD5gH4F+d9QN20QE/HjoBA5tc1BxFIiEA=\\\", \\\"dtype\\\": \\\"float64\\\", \\\"order\\\": \\\"little\\\", \\\"shape\\\": [7]}, \\\"year\\\": [\\\"2010\\\", \\\"2011\\\", \\\"2012\\\", \\\"2013\\\", \\\"2014\\\", \\\"2015\\\", \\\"2016\\\"]}, \\\"selected\\\": {\\\"id\\\": \\\"2633\\\"}, \\\"selection_policy\\\": {\\\"id\\\": \\\"2648\\\"}}, \\\"id\\\": \\\"2632\\\", \\\"type\\\": \\\"ColumnDataSource\\\"}, {\\\"attributes\\\": {\\\"source\\\": {\\\"id\\\": \\\"2614\\\"}}, \\\"id\\\": \\\"2621\\\", \\\"type\\\": \\\"CDSView\\\"}, {\\\"attributes\\\": {\\\"line_color\\\": \\\"#1f77b3\\\", \\\"line_width\\\": 2, \\\"x\\\": {\\\"field\\\": \\\"year\\\"}, \\\"y\\\": {\\\"field\\\": \\\"value\\\"}}, \\\"id\\\": \\\"2617\\\", \\\"type\\\": \\\"Line\\\"}, {\\\"attributes\\\": {\\\"line_alpha\\\": 0.1, \\\"line_color\\\": \\\"#ff7e0e\\\", \\\"line_width\\\": 2, \\\"x\\\": {\\\"field\\\": \\\"year\\\"}, \\\"y\\\": {\\\"field\\\": \\\"value\\\"}}, \\\"id\\\": \\\"2636\\\", \\\"type\\\": \\\"Line\\\"}, {\\\"attributes\\\": {}, \\\"id\\\": \\\"2648\\\", \\\"type\\\": \\\"UnionRenderers\\\"}, {\\\"attributes\\\": {\\\"data_source\\\": {\\\"id\\\": \\\"2632\\\"}, \\\"glyph\\\": {\\\"id\\\": \\\"2635\\\"}, \\\"hover_glyph\\\": null, \\\"muted_glyph\\\": {\\\"id\\\": \\\"2637\\\"}, \\\"nonselection_glyph\\\": {\\\"id\\\": \\\"2636\\\"}, \\\"selection_glyph\\\": null, \\\"view\\\": {\\\"id\\\": \\\"2639\\\"}}, \\\"id\\\": \\\"2638\\\", \\\"type\\\": \\\"GlyphRenderer\\\"}, {\\\"attributes\\\": {\\\"label\\\": {\\\"value\\\": \\\"gross_rent\\\"}, \\\"renderers\\\": [{\\\"id\\\": \\\"2620\\\"}]}, \\\"id\\\": \\\"2631\\\", \\\"type\\\": \\\"LegendItem\\\"}, {\\\"attributes\\\": {}, \\\"id\\\": \\\"2628\\\", \\\"type\\\": \\\"UnionRenderers\\\"}, {\\\"attributes\\\": {}, \\\"id\\\": \\\"2615\\\", \\\"type\\\": \\\"Selection\\\"}, {\\\"attributes\\\": {\\\"line_alpha\\\": 0.2, \\\"line_color\\\": \\\"#1f77b3\\\", \\\"line_width\\\": 2, \\\"x\\\": {\\\"field\\\": \\\"year\\\"}, \\\"y\\\": {\\\"field\\\": \\\"value\\\"}}, \\\"id\\\": \\\"2619\\\", \\\"type\\\": \\\"Line\\\"}, {\\\"attributes\\\": {}, \\\"id\\\": \\\"2633\\\", \\\"type\\\": \\\"Selection\\\"}]}\",\"header\":\"{\\\"msgid\\\": \\\"3801\\\", \\\"msgtype\\\": \\\"PATCH-DOC\\\"}\",\"metadata\":\"{}\"},\"Noe Valley\":{\"content\":\"{\\\"events\\\": [{\\\"attr\\\": \\\"factors\\\", \\\"kind\\\": \\\"ModelChanged\\\", \\\"model\\\": {\\\"id\\\": \\\"2577\\\"}, \\\"new\\\": [\\\"2010\\\", \\\"2011\\\", \\\"2012\\\", \\\"2013\\\", \\\"2014\\\", \\\"2015\\\", \\\"2016\\\"]}, {\\\"cols\\\": null, \\\"column_source\\\": {\\\"id\\\": \\\"2614\\\"}, \\\"kind\\\": \\\"ColumnDataChanged\\\", \\\"new\\\": {\\\"Variable\\\": [\\\"gross_rent\\\", \\\"gross_rent\\\", \\\"gross_rent\\\", \\\"gross_rent\\\", \\\"gross_rent\\\", \\\"gross_rent\\\", \\\"gross_rent\\\"], \\\"value\\\": [1239, 1530, 2324, 2971, 3528, 3739, 4390], \\\"year\\\": [\\\"2010\\\", \\\"2011\\\", \\\"2012\\\", \\\"2013\\\", \\\"2014\\\", \\\"2015\\\", \\\"2016\\\"]}}, {\\\"cols\\\": null, \\\"column_source\\\": {\\\"id\\\": \\\"2632\\\"}, \\\"kind\\\": \\\"ColumnDataChanged\\\", \\\"new\\\": {\\\"Variable\\\": [\\\"sale_price_sqr_foot\\\", \\\"sale_price_sqr_foot\\\", \\\"sale_price_sqr_foot\\\", \\\"sale_price_sqr_foot\\\", \\\"sale_price_sqr_foot\\\", \\\"sale_price_sqr_foot\\\", \\\"sale_price_sqr_foot\\\"], \\\"value\\\": {\\\"__ndarray__\\\": \\\"GS5CEjfSd0B9QsWzqF93QIDKIsFZwHpAI9iT7YI4g0DciMZ4aXaEQKBBKlfNBIFAOogEGPf7iEA=\\\", \\\"dtype\\\": \\\"float64\\\", \\\"order\\\": \\\"little\\\", \\\"shape\\\": [7]}, \\\"year\\\": [\\\"2010\\\", \\\"2011\\\", \\\"2012\\\", \\\"2013\\\", \\\"2014\\\", \\\"2015\\\", \\\"2016\\\"]}}, {\\\"attr\\\": \\\"text\\\", \\\"kind\\\": \\\"ModelChanged\\\", \\\"model\\\": {\\\"id\\\": \\\"2582\\\"}, \\\"new\\\": \\\"neighborhood: Noe Valley\\\"}, {\\\"attr\\\": \\\"right\\\", \\\"kind\\\": \\\"ModelChanged\\\", \\\"model\\\": {\\\"id\\\": \\\"2581\\\"}, \\\"new\\\": [{\\\"id\\\": \\\"2630\\\"}]}], \\\"references\\\": [{\\\"attributes\\\": {\\\"click_policy\\\": \\\"mute\\\", \\\"items\\\": [{\\\"id\\\": \\\"2631\\\"}, {\\\"id\\\": \\\"2650\\\"}], \\\"location\\\": [0, 0], \\\"title\\\": \\\"Variable\\\"}, \\\"id\\\": \\\"2630\\\", \\\"type\\\": \\\"Legend\\\"}, {\\\"attributes\\\": {\\\"line_alpha\\\": 0.1, \\\"line_color\\\": \\\"#1f77b3\\\", \\\"line_width\\\": 2, \\\"x\\\": {\\\"field\\\": \\\"year\\\"}, \\\"y\\\": {\\\"field\\\": \\\"value\\\"}}, \\\"id\\\": \\\"2618\\\", \\\"type\\\": \\\"Line\\\"}, {\\\"attributes\\\": {\\\"source\\\": {\\\"id\\\": \\\"2632\\\"}}, \\\"id\\\": \\\"2639\\\", \\\"type\\\": \\\"CDSView\\\"}, {\\\"attributes\\\": {\\\"label\\\": {\\\"value\\\": \\\"sale_price_sqr_foot\\\"}, \\\"renderers\\\": [{\\\"id\\\": \\\"2638\\\"}]}, \\\"id\\\": \\\"2650\\\", \\\"type\\\": \\\"LegendItem\\\"}, {\\\"attributes\\\": {\\\"data\\\": {\\\"Variable\\\": [\\\"gross_rent\\\", \\\"gross_rent\\\", \\\"gross_rent\\\", \\\"gross_rent\\\", \\\"gross_rent\\\", \\\"gross_rent\\\", \\\"gross_rent\\\"], \\\"value\\\": [1239, 1530, 2324, 2971, 3528, 3739, 4390], \\\"year\\\": [\\\"2010\\\", \\\"2011\\\", \\\"2012\\\", \\\"2013\\\", \\\"2014\\\", \\\"2015\\\", \\\"2016\\\"]}, \\\"selected\\\": {\\\"id\\\": \\\"2615\\\"}, \\\"selection_policy\\\": {\\\"id\\\": \\\"2628\\\"}}, \\\"id\\\": \\\"2614\\\", \\\"type\\\": \\\"ColumnDataSource\\\"}, {\\\"attributes\\\": {\\\"data_source\\\": {\\\"id\\\": \\\"2614\\\"}, \\\"glyph\\\": {\\\"id\\\": \\\"2617\\\"}, \\\"hover_glyph\\\": null, \\\"muted_glyph\\\": {\\\"id\\\": \\\"2619\\\"}, \\\"nonselection_glyph\\\": {\\\"id\\\": \\\"2618\\\"}, \\\"selection_glyph\\\": null, \\\"view\\\": {\\\"id\\\": \\\"2621\\\"}}, \\\"id\\\": \\\"2620\\\", \\\"type\\\": \\\"GlyphRenderer\\\"}, {\\\"attributes\\\": {\\\"line_color\\\": \\\"#ff7e0e\\\", \\\"line_width\\\": 2, \\\"x\\\": {\\\"field\\\": \\\"year\\\"}, \\\"y\\\": {\\\"field\\\": \\\"value\\\"}}, \\\"id\\\": \\\"2635\\\", \\\"type\\\": \\\"Line\\\"}, {\\\"attributes\\\": {\\\"line_alpha\\\": 0.2, \\\"line_color\\\": \\\"#ff7e0e\\\", \\\"line_width\\\": 2, \\\"x\\\": {\\\"field\\\": \\\"year\\\"}, \\\"y\\\": {\\\"field\\\": \\\"value\\\"}}, \\\"id\\\": \\\"2637\\\", \\\"type\\\": \\\"Line\\\"}, {\\\"attributes\\\": {\\\"data\\\": {\\\"Variable\\\": [\\\"sale_price_sqr_foot\\\", \\\"sale_price_sqr_foot\\\", \\\"sale_price_sqr_foot\\\", \\\"sale_price_sqr_foot\\\", \\\"sale_price_sqr_foot\\\", \\\"sale_price_sqr_foot\\\", \\\"sale_price_sqr_foot\\\"], \\\"value\\\": {\\\"__ndarray__\\\": \\\"GS5CEjfSd0B9QsWzqF93QIDKIsFZwHpAI9iT7YI4g0DciMZ4aXaEQKBBKlfNBIFAOogEGPf7iEA=\\\", \\\"dtype\\\": \\\"float64\\\", \\\"order\\\": \\\"little\\\", \\\"shape\\\": [7]}, \\\"year\\\": [\\\"2010\\\", \\\"2011\\\", \\\"2012\\\", \\\"2013\\\", \\\"2014\\\", \\\"2015\\\", \\\"2016\\\"]}, \\\"selected\\\": {\\\"id\\\": \\\"2633\\\"}, \\\"selection_policy\\\": {\\\"id\\\": \\\"2648\\\"}}, \\\"id\\\": \\\"2632\\\", \\\"type\\\": \\\"ColumnDataSource\\\"}, {\\\"attributes\\\": {\\\"source\\\": {\\\"id\\\": \\\"2614\\\"}}, \\\"id\\\": \\\"2621\\\", \\\"type\\\": \\\"CDSView\\\"}, {\\\"attributes\\\": {\\\"line_color\\\": \\\"#1f77b3\\\", \\\"line_width\\\": 2, \\\"x\\\": {\\\"field\\\": \\\"year\\\"}, \\\"y\\\": {\\\"field\\\": \\\"value\\\"}}, \\\"id\\\": \\\"2617\\\", \\\"type\\\": \\\"Line\\\"}, {\\\"attributes\\\": {\\\"line_alpha\\\": 0.1, \\\"line_color\\\": \\\"#ff7e0e\\\", \\\"line_width\\\": 2, \\\"x\\\": {\\\"field\\\": \\\"year\\\"}, \\\"y\\\": {\\\"field\\\": \\\"value\\\"}}, \\\"id\\\": \\\"2636\\\", \\\"type\\\": \\\"Line\\\"}, {\\\"attributes\\\": {}, \\\"id\\\": \\\"2648\\\", \\\"type\\\": \\\"UnionRenderers\\\"}, {\\\"attributes\\\": {\\\"data_source\\\": {\\\"id\\\": \\\"2632\\\"}, \\\"glyph\\\": {\\\"id\\\": \\\"2635\\\"}, \\\"hover_glyph\\\": null, \\\"muted_glyph\\\": {\\\"id\\\": \\\"2637\\\"}, \\\"nonselection_glyph\\\": {\\\"id\\\": \\\"2636\\\"}, \\\"selection_glyph\\\": null, \\\"view\\\": {\\\"id\\\": \\\"2639\\\"}}, \\\"id\\\": \\\"2638\\\", \\\"type\\\": \\\"GlyphRenderer\\\"}, {\\\"attributes\\\": {\\\"label\\\": {\\\"value\\\": \\\"gross_rent\\\"}, \\\"renderers\\\": [{\\\"id\\\": \\\"2620\\\"}]}, \\\"id\\\": \\\"2631\\\", \\\"type\\\": \\\"LegendItem\\\"}, {\\\"attributes\\\": {}, \\\"id\\\": \\\"2628\\\", \\\"type\\\": \\\"UnionRenderers\\\"}, {\\\"attributes\\\": {}, \\\"id\\\": \\\"2615\\\", \\\"type\\\": \\\"Selection\\\"}, {\\\"attributes\\\": {\\\"line_alpha\\\": 0.2, \\\"line_color\\\": \\\"#1f77b3\\\", \\\"line_width\\\": 2, \\\"x\\\": {\\\"field\\\": \\\"year\\\"}, \\\"y\\\": {\\\"field\\\": \\\"value\\\"}}, \\\"id\\\": \\\"2619\\\", \\\"type\\\": \\\"Line\\\"}, {\\\"attributes\\\": {}, \\\"id\\\": \\\"2633\\\", \\\"type\\\": \\\"Selection\\\"}]}\",\"header\":\"{\\\"msgid\\\": \\\"3768\\\", \\\"msgtype\\\": \\\"PATCH-DOC\\\"}\",\"metadata\":\"{}\"},\"North Beach\":{\"content\":\"{\\\"events\\\": [{\\\"attr\\\": \\\"factors\\\", \\\"kind\\\": \\\"ModelChanged\\\", \\\"model\\\": {\\\"id\\\": \\\"2577\\\"}, \\\"new\\\": [\\\"2011\\\", \\\"2012\\\", \\\"2013\\\", \\\"2015\\\", \\\"2016\\\"]}, {\\\"cols\\\": null, \\\"column_source\\\": {\\\"id\\\": \\\"2614\\\"}, \\\"kind\\\": \\\"ColumnDataChanged\\\", \\\"new\\\": {\\\"Variable\\\": [\\\"gross_rent\\\", \\\"gross_rent\\\", \\\"gross_rent\\\", \\\"gross_rent\\\", \\\"gross_rent\\\"], \\\"value\\\": [1530, 2324, 2971, 3739, 4390], \\\"year\\\": [\\\"2011\\\", \\\"2012\\\", \\\"2013\\\", \\\"2015\\\", \\\"2016\\\"]}}, {\\\"cols\\\": null, \\\"column_source\\\": {\\\"id\\\": \\\"2632\\\"}, \\\"kind\\\": \\\"ColumnDataChanged\\\", \\\"new\\\": {\\\"Variable\\\": [\\\"sale_price_sqr_foot\\\", \\\"sale_price_sqr_foot\\\", \\\"sale_price_sqr_foot\\\", \\\"sale_price_sqr_foot\\\", \\\"sale_price_sqr_foot\\\"], \\\"value\\\": {\\\"__ndarray__\\\": \\\"P33LjLwuckC+7VtQYymAQEOToDR6m3hA0knGOugNfEByKLVn2nh5QA==\\\", \\\"dtype\\\": \\\"float64\\\", \\\"order\\\": \\\"little\\\", \\\"shape\\\": [5]}, \\\"year\\\": [\\\"2011\\\", \\\"2012\\\", \\\"2013\\\", \\\"2015\\\", \\\"2016\\\"]}}, {\\\"attr\\\": \\\"text\\\", \\\"kind\\\": \\\"ModelChanged\\\", \\\"model\\\": {\\\"id\\\": \\\"2582\\\"}, \\\"new\\\": \\\"neighborhood: North Beach\\\"}, {\\\"attr\\\": \\\"right\\\", \\\"kind\\\": \\\"ModelChanged\\\", \\\"model\\\": {\\\"id\\\": \\\"2581\\\"}, \\\"new\\\": [{\\\"id\\\": \\\"2630\\\"}]}], \\\"references\\\": [{\\\"attributes\\\": {\\\"click_policy\\\": \\\"mute\\\", \\\"items\\\": [{\\\"id\\\": \\\"2631\\\"}, {\\\"id\\\": \\\"2650\\\"}], \\\"location\\\": [0, 0], \\\"title\\\": \\\"Variable\\\"}, \\\"id\\\": \\\"2630\\\", \\\"type\\\": \\\"Legend\\\"}, {\\\"attributes\\\": {\\\"line_alpha\\\": 0.1, \\\"line_color\\\": \\\"#1f77b3\\\", \\\"line_width\\\": 2, \\\"x\\\": {\\\"field\\\": \\\"year\\\"}, \\\"y\\\": {\\\"field\\\": \\\"value\\\"}}, \\\"id\\\": \\\"2618\\\", \\\"type\\\": \\\"Line\\\"}, {\\\"attributes\\\": {\\\"source\\\": {\\\"id\\\": \\\"2632\\\"}}, \\\"id\\\": \\\"2639\\\", \\\"type\\\": \\\"CDSView\\\"}, {\\\"attributes\\\": {\\\"label\\\": {\\\"value\\\": \\\"sale_price_sqr_foot\\\"}, \\\"renderers\\\": [{\\\"id\\\": \\\"2638\\\"}]}, \\\"id\\\": \\\"2650\\\", \\\"type\\\": \\\"LegendItem\\\"}, {\\\"attributes\\\": {\\\"data\\\": {\\\"Variable\\\": [\\\"gross_rent\\\", \\\"gross_rent\\\", \\\"gross_rent\\\", \\\"gross_rent\\\", \\\"gross_rent\\\"], \\\"value\\\": [1530, 2324, 2971, 3739, 4390], \\\"year\\\": [\\\"2011\\\", \\\"2012\\\", \\\"2013\\\", \\\"2015\\\", \\\"2016\\\"]}, \\\"selected\\\": {\\\"id\\\": \\\"2615\\\"}, \\\"selection_policy\\\": {\\\"id\\\": \\\"2628\\\"}}, \\\"id\\\": \\\"2614\\\", \\\"type\\\": \\\"ColumnDataSource\\\"}, {\\\"attributes\\\": {\\\"data_source\\\": {\\\"id\\\": \\\"2614\\\"}, \\\"glyph\\\": {\\\"id\\\": \\\"2617\\\"}, \\\"hover_glyph\\\": null, \\\"muted_glyph\\\": {\\\"id\\\": \\\"2619\\\"}, \\\"nonselection_glyph\\\": {\\\"id\\\": \\\"2618\\\"}, \\\"selection_glyph\\\": null, \\\"view\\\": {\\\"id\\\": \\\"2621\\\"}}, \\\"id\\\": \\\"2620\\\", \\\"type\\\": \\\"GlyphRenderer\\\"}, {\\\"attributes\\\": {\\\"line_color\\\": \\\"#ff7e0e\\\", \\\"line_width\\\": 2, \\\"x\\\": {\\\"field\\\": \\\"year\\\"}, \\\"y\\\": {\\\"field\\\": \\\"value\\\"}}, \\\"id\\\": \\\"2635\\\", \\\"type\\\": \\\"Line\\\"}, {\\\"attributes\\\": {\\\"line_alpha\\\": 0.2, \\\"line_color\\\": \\\"#ff7e0e\\\", \\\"line_width\\\": 2, \\\"x\\\": {\\\"field\\\": \\\"year\\\"}, \\\"y\\\": {\\\"field\\\": \\\"value\\\"}}, \\\"id\\\": \\\"2637\\\", \\\"type\\\": \\\"Line\\\"}, {\\\"attributes\\\": {\\\"data\\\": {\\\"Variable\\\": [\\\"sale_price_sqr_foot\\\", \\\"sale_price_sqr_foot\\\", \\\"sale_price_sqr_foot\\\", \\\"sale_price_sqr_foot\\\", \\\"sale_price_sqr_foot\\\"], \\\"value\\\": {\\\"__ndarray__\\\": \\\"P33LjLwuckC+7VtQYymAQEOToDR6m3hA0knGOugNfEByKLVn2nh5QA==\\\", \\\"dtype\\\": \\\"float64\\\", \\\"order\\\": \\\"little\\\", \\\"shape\\\": [5]}, \\\"year\\\": [\\\"2011\\\", \\\"2012\\\", \\\"2013\\\", \\\"2015\\\", \\\"2016\\\"]}, \\\"selected\\\": {\\\"id\\\": \\\"2633\\\"}, \\\"selection_policy\\\": {\\\"id\\\": \\\"2648\\\"}}, \\\"id\\\": \\\"2632\\\", \\\"type\\\": \\\"ColumnDataSource\\\"}, {\\\"attributes\\\": {\\\"source\\\": {\\\"id\\\": \\\"2614\\\"}}, \\\"id\\\": \\\"2621\\\", \\\"type\\\": \\\"CDSView\\\"}, {\\\"attributes\\\": {\\\"line_color\\\": \\\"#1f77b3\\\", \\\"line_width\\\": 2, \\\"x\\\": {\\\"field\\\": \\\"year\\\"}, \\\"y\\\": {\\\"field\\\": \\\"value\\\"}}, \\\"id\\\": \\\"2617\\\", \\\"type\\\": \\\"Line\\\"}, {\\\"attributes\\\": {\\\"line_alpha\\\": 0.1, \\\"line_color\\\": \\\"#ff7e0e\\\", \\\"line_width\\\": 2, \\\"x\\\": {\\\"field\\\": \\\"year\\\"}, \\\"y\\\": {\\\"field\\\": \\\"value\\\"}}, \\\"id\\\": \\\"2636\\\", \\\"type\\\": \\\"Line\\\"}, {\\\"attributes\\\": {}, \\\"id\\\": \\\"2648\\\", \\\"type\\\": \\\"UnionRenderers\\\"}, {\\\"attributes\\\": {\\\"data_source\\\": {\\\"id\\\": \\\"2632\\\"}, \\\"glyph\\\": {\\\"id\\\": \\\"2635\\\"}, \\\"hover_glyph\\\": null, \\\"muted_glyph\\\": {\\\"id\\\": \\\"2637\\\"}, \\\"nonselection_glyph\\\": {\\\"id\\\": \\\"2636\\\"}, \\\"selection_glyph\\\": null, \\\"view\\\": {\\\"id\\\": \\\"2639\\\"}}, \\\"id\\\": \\\"2638\\\", \\\"type\\\": \\\"GlyphRenderer\\\"}, {\\\"attributes\\\": {\\\"label\\\": {\\\"value\\\": \\\"gross_rent\\\"}, \\\"renderers\\\": [{\\\"id\\\": \\\"2620\\\"}]}, \\\"id\\\": \\\"2631\\\", \\\"type\\\": \\\"LegendItem\\\"}, {\\\"attributes\\\": {}, \\\"id\\\": \\\"2628\\\", \\\"type\\\": \\\"UnionRenderers\\\"}, {\\\"attributes\\\": {}, \\\"id\\\": \\\"2615\\\", \\\"type\\\": \\\"Selection\\\"}, {\\\"attributes\\\": {\\\"line_alpha\\\": 0.2, \\\"line_color\\\": \\\"#1f77b3\\\", \\\"line_width\\\": 2, \\\"x\\\": {\\\"field\\\": \\\"year\\\"}, \\\"y\\\": {\\\"field\\\": \\\"value\\\"}}, \\\"id\\\": \\\"2619\\\", \\\"type\\\": \\\"Line\\\"}, {\\\"attributes\\\": {}, \\\"id\\\": \\\"2633\\\", \\\"type\\\": \\\"Selection\\\"}]}\",\"header\":\"{\\\"msgid\\\": \\\"3735\\\", \\\"msgtype\\\": \\\"PATCH-DOC\\\"}\",\"metadata\":\"{}\"},\"North Waterfront\":{\"content\":\"{\\\"events\\\": [{\\\"attr\\\": \\\"factors\\\", \\\"kind\\\": \\\"ModelChanged\\\", \\\"model\\\": {\\\"id\\\": \\\"2577\\\"}, \\\"new\\\": [\\\"2011\\\", \\\"2012\\\", \\\"2013\\\", \\\"2014\\\", \\\"2015\\\"]}, {\\\"cols\\\": null, \\\"column_source\\\": {\\\"id\\\": \\\"2614\\\"}, \\\"kind\\\": \\\"ColumnDataChanged\\\", \\\"new\\\": {\\\"Variable\\\": [\\\"gross_rent\\\", \\\"gross_rent\\\", \\\"gross_rent\\\", \\\"gross_rent\\\", \\\"gross_rent\\\"], \\\"value\\\": [1530, 2324, 2971, 3528, 3739], \\\"year\\\": [\\\"2011\\\", \\\"2012\\\", \\\"2013\\\", \\\"2014\\\", \\\"2015\\\"]}}, {\\\"cols\\\": null, \\\"column_source\\\": {\\\"id\\\": \\\"2632\\\"}, \\\"kind\\\": \\\"ColumnDataChanged\\\", \\\"new\\\": {\\\"Variable\\\": [\\\"sale_price_sqr_foot\\\", \\\"sale_price_sqr_foot\\\", \\\"sale_price_sqr_foot\\\", \\\"sale_price_sqr_foot\\\", \\\"sale_price_sqr_foot\\\"], \\\"value\\\": {\\\"__ndarray__\\\": \\\"vxNT6WCvdUByVgFHJGZ4QBwxImuzMn5A+QsZSM6+d0DjisnYRteLQA==\\\", \\\"dtype\\\": \\\"float64\\\", \\\"order\\\": \\\"little\\\", \\\"shape\\\": [5]}, \\\"year\\\": [\\\"2011\\\", \\\"2012\\\", \\\"2013\\\", \\\"2014\\\", \\\"2015\\\"]}}, {\\\"attr\\\": \\\"text\\\", \\\"kind\\\": \\\"ModelChanged\\\", \\\"model\\\": {\\\"id\\\": \\\"2582\\\"}, \\\"new\\\": \\\"neighborhood: North Waterfront\\\"}, {\\\"attr\\\": \\\"right\\\", \\\"kind\\\": \\\"ModelChanged\\\", \\\"model\\\": {\\\"id\\\": \\\"2581\\\"}, \\\"new\\\": [{\\\"id\\\": \\\"2630\\\"}]}], \\\"references\\\": [{\\\"attributes\\\": {\\\"click_policy\\\": \\\"mute\\\", \\\"items\\\": [{\\\"id\\\": \\\"2631\\\"}, {\\\"id\\\": \\\"2650\\\"}], \\\"location\\\": [0, 0], \\\"title\\\": \\\"Variable\\\"}, \\\"id\\\": \\\"2630\\\", \\\"type\\\": \\\"Legend\\\"}, {\\\"attributes\\\": {\\\"line_alpha\\\": 0.1, \\\"line_color\\\": \\\"#1f77b3\\\", \\\"line_width\\\": 2, \\\"x\\\": {\\\"field\\\": \\\"year\\\"}, \\\"y\\\": {\\\"field\\\": \\\"value\\\"}}, \\\"id\\\": \\\"2618\\\", \\\"type\\\": \\\"Line\\\"}, {\\\"attributes\\\": {\\\"source\\\": {\\\"id\\\": \\\"2632\\\"}}, \\\"id\\\": \\\"2639\\\", \\\"type\\\": \\\"CDSView\\\"}, {\\\"attributes\\\": {\\\"label\\\": {\\\"value\\\": \\\"sale_price_sqr_foot\\\"}, \\\"renderers\\\": [{\\\"id\\\": \\\"2638\\\"}]}, \\\"id\\\": \\\"2650\\\", \\\"type\\\": \\\"LegendItem\\\"}, {\\\"attributes\\\": {\\\"data\\\": {\\\"Variable\\\": [\\\"gross_rent\\\", \\\"gross_rent\\\", \\\"gross_rent\\\", \\\"gross_rent\\\", \\\"gross_rent\\\"], \\\"value\\\": [1530, 2324, 2971, 3528, 3739], \\\"year\\\": [\\\"2011\\\", \\\"2012\\\", \\\"2013\\\", \\\"2014\\\", \\\"2015\\\"]}, \\\"selected\\\": {\\\"id\\\": \\\"2615\\\"}, \\\"selection_policy\\\": {\\\"id\\\": \\\"2628\\\"}}, \\\"id\\\": \\\"2614\\\", \\\"type\\\": \\\"ColumnDataSource\\\"}, {\\\"attributes\\\": {\\\"data_source\\\": {\\\"id\\\": \\\"2614\\\"}, \\\"glyph\\\": {\\\"id\\\": \\\"2617\\\"}, \\\"hover_glyph\\\": null, \\\"muted_glyph\\\": {\\\"id\\\": \\\"2619\\\"}, \\\"nonselection_glyph\\\": {\\\"id\\\": \\\"2618\\\"}, \\\"selection_glyph\\\": null, \\\"view\\\": {\\\"id\\\": \\\"2621\\\"}}, \\\"id\\\": \\\"2620\\\", \\\"type\\\": \\\"GlyphRenderer\\\"}, {\\\"attributes\\\": {\\\"line_color\\\": \\\"#ff7e0e\\\", \\\"line_width\\\": 2, \\\"x\\\": {\\\"field\\\": \\\"year\\\"}, \\\"y\\\": {\\\"field\\\": \\\"value\\\"}}, \\\"id\\\": \\\"2635\\\", \\\"type\\\": \\\"Line\\\"}, {\\\"attributes\\\": {\\\"line_alpha\\\": 0.2, \\\"line_color\\\": \\\"#ff7e0e\\\", \\\"line_width\\\": 2, \\\"x\\\": {\\\"field\\\": \\\"year\\\"}, \\\"y\\\": {\\\"field\\\": \\\"value\\\"}}, \\\"id\\\": \\\"2637\\\", \\\"type\\\": \\\"Line\\\"}, {\\\"attributes\\\": {\\\"data\\\": {\\\"Variable\\\": [\\\"sale_price_sqr_foot\\\", \\\"sale_price_sqr_foot\\\", \\\"sale_price_sqr_foot\\\", \\\"sale_price_sqr_foot\\\", \\\"sale_price_sqr_foot\\\"], \\\"value\\\": {\\\"__ndarray__\\\": \\\"vxNT6WCvdUByVgFHJGZ4QBwxImuzMn5A+QsZSM6+d0DjisnYRteLQA==\\\", \\\"dtype\\\": \\\"float64\\\", \\\"order\\\": \\\"little\\\", \\\"shape\\\": [5]}, \\\"year\\\": [\\\"2011\\\", \\\"2012\\\", \\\"2013\\\", \\\"2014\\\", \\\"2015\\\"]}, \\\"selected\\\": {\\\"id\\\": \\\"2633\\\"}, \\\"selection_policy\\\": {\\\"id\\\": \\\"2648\\\"}}, \\\"id\\\": \\\"2632\\\", \\\"type\\\": \\\"ColumnDataSource\\\"}, {\\\"attributes\\\": {\\\"source\\\": {\\\"id\\\": \\\"2614\\\"}}, \\\"id\\\": \\\"2621\\\", \\\"type\\\": \\\"CDSView\\\"}, {\\\"attributes\\\": {\\\"line_color\\\": \\\"#1f77b3\\\", \\\"line_width\\\": 2, \\\"x\\\": {\\\"field\\\": \\\"year\\\"}, \\\"y\\\": {\\\"field\\\": \\\"value\\\"}}, \\\"id\\\": \\\"2617\\\", \\\"type\\\": \\\"Line\\\"}, {\\\"attributes\\\": {\\\"line_alpha\\\": 0.1, \\\"line_color\\\": \\\"#ff7e0e\\\", \\\"line_width\\\": 2, \\\"x\\\": {\\\"field\\\": \\\"year\\\"}, \\\"y\\\": {\\\"field\\\": \\\"value\\\"}}, \\\"id\\\": \\\"2636\\\", \\\"type\\\": \\\"Line\\\"}, {\\\"attributes\\\": {}, \\\"id\\\": \\\"2648\\\", \\\"type\\\": \\\"UnionRenderers\\\"}, {\\\"attributes\\\": {\\\"data_source\\\": {\\\"id\\\": \\\"2632\\\"}, \\\"glyph\\\": {\\\"id\\\": \\\"2635\\\"}, \\\"hover_glyph\\\": null, \\\"muted_glyph\\\": {\\\"id\\\": \\\"2637\\\"}, \\\"nonselection_glyph\\\": {\\\"id\\\": \\\"2636\\\"}, \\\"selection_glyph\\\": null, \\\"view\\\": {\\\"id\\\": \\\"2639\\\"}}, \\\"id\\\": \\\"2638\\\", \\\"type\\\": \\\"GlyphRenderer\\\"}, {\\\"attributes\\\": {\\\"label\\\": {\\\"value\\\": \\\"gross_rent\\\"}, \\\"renderers\\\": [{\\\"id\\\": \\\"2620\\\"}]}, \\\"id\\\": \\\"2631\\\", \\\"type\\\": \\\"LegendItem\\\"}, {\\\"attributes\\\": {}, \\\"id\\\": \\\"2628\\\", \\\"type\\\": \\\"UnionRenderers\\\"}, {\\\"attributes\\\": {}, \\\"id\\\": \\\"2615\\\", \\\"type\\\": \\\"Selection\\\"}, {\\\"attributes\\\": {\\\"line_alpha\\\": 0.2, \\\"line_color\\\": \\\"#1f77b3\\\", \\\"line_width\\\": 2, \\\"x\\\": {\\\"field\\\": \\\"year\\\"}, \\\"y\\\": {\\\"field\\\": \\\"value\\\"}}, \\\"id\\\": \\\"2619\\\", \\\"type\\\": \\\"Line\\\"}, {\\\"attributes\\\": {}, \\\"id\\\": \\\"2633\\\", \\\"type\\\": \\\"Selection\\\"}]}\",\"header\":\"{\\\"msgid\\\": \\\"3702\\\", \\\"msgtype\\\": \\\"PATCH-DOC\\\"}\",\"metadata\":\"{}\"},\"Oceanview\":{\"content\":\"{\\\"events\\\": [{\\\"attr\\\": \\\"factors\\\", \\\"kind\\\": \\\"ModelChanged\\\", \\\"model\\\": {\\\"id\\\": \\\"2577\\\"}, \\\"new\\\": [\\\"2010\\\", \\\"2012\\\", \\\"2015\\\"]}, {\\\"cols\\\": null, \\\"column_source\\\": {\\\"id\\\": \\\"2614\\\"}, \\\"kind\\\": \\\"ColumnDataChanged\\\", \\\"new\\\": {\\\"Variable\\\": [\\\"gross_rent\\\", \\\"gross_rent\\\", \\\"gross_rent\\\"], \\\"value\\\": [1239, 2324, 3739], \\\"year\\\": [\\\"2010\\\", \\\"2012\\\", \\\"2015\\\"]}}, {\\\"cols\\\": null, \\\"column_source\\\": {\\\"id\\\": \\\"2632\\\"}, \\\"kind\\\": \\\"ColumnDataChanged\\\", \\\"new\\\": {\\\"Variable\\\": [\\\"sale_price_sqr_foot\\\", \\\"sale_price_sqr_foot\\\", \\\"sale_price_sqr_foot\\\"], \\\"value\\\": {\\\"__ndarray__\\\": \\\"jJidK+qhcUAVBUTs4aN7QP1nwZHgnnBA\\\", \\\"dtype\\\": \\\"float64\\\", \\\"order\\\": \\\"little\\\", \\\"shape\\\": [3]}, \\\"year\\\": [\\\"2010\\\", \\\"2012\\\", \\\"2015\\\"]}}, {\\\"attr\\\": \\\"text\\\", \\\"kind\\\": \\\"ModelChanged\\\", \\\"model\\\": {\\\"id\\\": \\\"2582\\\"}, \\\"new\\\": \\\"neighborhood: Oceanview\\\"}, {\\\"attr\\\": \\\"right\\\", \\\"kind\\\": \\\"ModelChanged\\\", \\\"model\\\": {\\\"id\\\": \\\"2581\\\"}, \\\"new\\\": [{\\\"id\\\": \\\"2630\\\"}]}], \\\"references\\\": [{\\\"attributes\\\": {\\\"click_policy\\\": \\\"mute\\\", \\\"items\\\": [{\\\"id\\\": \\\"2631\\\"}, {\\\"id\\\": \\\"2650\\\"}], \\\"location\\\": [0, 0], \\\"title\\\": \\\"Variable\\\"}, \\\"id\\\": \\\"2630\\\", \\\"type\\\": \\\"Legend\\\"}, {\\\"attributes\\\": {\\\"line_alpha\\\": 0.1, \\\"line_color\\\": \\\"#1f77b3\\\", \\\"line_width\\\": 2, \\\"x\\\": {\\\"field\\\": \\\"year\\\"}, \\\"y\\\": {\\\"field\\\": \\\"value\\\"}}, \\\"id\\\": \\\"2618\\\", \\\"type\\\": \\\"Line\\\"}, {\\\"attributes\\\": {\\\"source\\\": {\\\"id\\\": \\\"2632\\\"}}, \\\"id\\\": \\\"2639\\\", \\\"type\\\": \\\"CDSView\\\"}, {\\\"attributes\\\": {\\\"label\\\": {\\\"value\\\": \\\"sale_price_sqr_foot\\\"}, \\\"renderers\\\": [{\\\"id\\\": \\\"2638\\\"}]}, \\\"id\\\": \\\"2650\\\", \\\"type\\\": \\\"LegendItem\\\"}, {\\\"attributes\\\": {\\\"data\\\": {\\\"Variable\\\": [\\\"gross_rent\\\", \\\"gross_rent\\\", \\\"gross_rent\\\"], \\\"value\\\": [1239, 2324, 3739], \\\"year\\\": [\\\"2010\\\", \\\"2012\\\", \\\"2015\\\"]}, \\\"selected\\\": {\\\"id\\\": \\\"2615\\\"}, \\\"selection_policy\\\": {\\\"id\\\": \\\"2628\\\"}}, \\\"id\\\": \\\"2614\\\", \\\"type\\\": \\\"ColumnDataSource\\\"}, {\\\"attributes\\\": {\\\"data_source\\\": {\\\"id\\\": \\\"2614\\\"}, \\\"glyph\\\": {\\\"id\\\": \\\"2617\\\"}, \\\"hover_glyph\\\": null, \\\"muted_glyph\\\": {\\\"id\\\": \\\"2619\\\"}, \\\"nonselection_glyph\\\": {\\\"id\\\": \\\"2618\\\"}, \\\"selection_glyph\\\": null, \\\"view\\\": {\\\"id\\\": \\\"2621\\\"}}, \\\"id\\\": \\\"2620\\\", \\\"type\\\": \\\"GlyphRenderer\\\"}, {\\\"attributes\\\": {\\\"line_color\\\": \\\"#ff7e0e\\\", \\\"line_width\\\": 2, \\\"x\\\": {\\\"field\\\": \\\"year\\\"}, \\\"y\\\": {\\\"field\\\": \\\"value\\\"}}, \\\"id\\\": \\\"2635\\\", \\\"type\\\": \\\"Line\\\"}, {\\\"attributes\\\": {\\\"line_alpha\\\": 0.2, \\\"line_color\\\": \\\"#ff7e0e\\\", \\\"line_width\\\": 2, \\\"x\\\": {\\\"field\\\": \\\"year\\\"}, \\\"y\\\": {\\\"field\\\": \\\"value\\\"}}, \\\"id\\\": \\\"2637\\\", \\\"type\\\": \\\"Line\\\"}, {\\\"attributes\\\": {\\\"data\\\": {\\\"Variable\\\": [\\\"sale_price_sqr_foot\\\", \\\"sale_price_sqr_foot\\\", \\\"sale_price_sqr_foot\\\"], \\\"value\\\": {\\\"__ndarray__\\\": \\\"jJidK+qhcUAVBUTs4aN7QP1nwZHgnnBA\\\", \\\"dtype\\\": \\\"float64\\\", \\\"order\\\": \\\"little\\\", \\\"shape\\\": [3]}, \\\"year\\\": [\\\"2010\\\", \\\"2012\\\", \\\"2015\\\"]}, \\\"selected\\\": {\\\"id\\\": \\\"2633\\\"}, \\\"selection_policy\\\": {\\\"id\\\": \\\"2648\\\"}}, \\\"id\\\": \\\"2632\\\", \\\"type\\\": \\\"ColumnDataSource\\\"}, {\\\"attributes\\\": {\\\"source\\\": {\\\"id\\\": \\\"2614\\\"}}, \\\"id\\\": \\\"2621\\\", \\\"type\\\": \\\"CDSView\\\"}, {\\\"attributes\\\": {\\\"line_color\\\": \\\"#1f77b3\\\", \\\"line_width\\\": 2, \\\"x\\\": {\\\"field\\\": \\\"year\\\"}, \\\"y\\\": {\\\"field\\\": \\\"value\\\"}}, \\\"id\\\": \\\"2617\\\", \\\"type\\\": \\\"Line\\\"}, {\\\"attributes\\\": {\\\"line_alpha\\\": 0.1, \\\"line_color\\\": \\\"#ff7e0e\\\", \\\"line_width\\\": 2, \\\"x\\\": {\\\"field\\\": \\\"year\\\"}, \\\"y\\\": {\\\"field\\\": \\\"value\\\"}}, \\\"id\\\": \\\"2636\\\", \\\"type\\\": \\\"Line\\\"}, {\\\"attributes\\\": {}, \\\"id\\\": \\\"2648\\\", \\\"type\\\": \\\"UnionRenderers\\\"}, {\\\"attributes\\\": {\\\"data_source\\\": {\\\"id\\\": \\\"2632\\\"}, \\\"glyph\\\": {\\\"id\\\": \\\"2635\\\"}, \\\"hover_glyph\\\": null, \\\"muted_glyph\\\": {\\\"id\\\": \\\"2637\\\"}, \\\"nonselection_glyph\\\": {\\\"id\\\": \\\"2636\\\"}, \\\"selection_glyph\\\": null, \\\"view\\\": {\\\"id\\\": \\\"2639\\\"}}, \\\"id\\\": \\\"2638\\\", \\\"type\\\": \\\"GlyphRenderer\\\"}, {\\\"attributes\\\": {\\\"label\\\": {\\\"value\\\": \\\"gross_rent\\\"}, \\\"renderers\\\": [{\\\"id\\\": \\\"2620\\\"}]}, \\\"id\\\": \\\"2631\\\", \\\"type\\\": \\\"LegendItem\\\"}, {\\\"attributes\\\": {}, \\\"id\\\": \\\"2628\\\", \\\"type\\\": \\\"UnionRenderers\\\"}, {\\\"attributes\\\": {}, \\\"id\\\": \\\"2615\\\", \\\"type\\\": \\\"Selection\\\"}, {\\\"attributes\\\": {\\\"line_alpha\\\": 0.2, \\\"line_color\\\": \\\"#1f77b3\\\", \\\"line_width\\\": 2, \\\"x\\\": {\\\"field\\\": \\\"year\\\"}, \\\"y\\\": {\\\"field\\\": \\\"value\\\"}}, \\\"id\\\": \\\"2619\\\", \\\"type\\\": \\\"Line\\\"}, {\\\"attributes\\\": {}, \\\"id\\\": \\\"2633\\\", \\\"type\\\": \\\"Selection\\\"}]}\",\"header\":\"{\\\"msgid\\\": \\\"3669\\\", \\\"msgtype\\\": \\\"PATCH-DOC\\\"}\",\"metadata\":\"{}\"},\"Outer Mission\":{\"content\":\"{\\\"events\\\": [{\\\"attr\\\": \\\"factors\\\", \\\"kind\\\": \\\"ModelChanged\\\", \\\"model\\\": {\\\"id\\\": \\\"2577\\\"}, \\\"new\\\": [\\\"2011\\\", \\\"2012\\\", \\\"2015\\\", \\\"2016\\\"]}, {\\\"cols\\\": null, \\\"column_source\\\": {\\\"id\\\": \\\"2614\\\"}, \\\"kind\\\": \\\"ColumnDataChanged\\\", \\\"new\\\": {\\\"Variable\\\": [\\\"gross_rent\\\", \\\"gross_rent\\\", \\\"gross_rent\\\", \\\"gross_rent\\\"], \\\"value\\\": [1530, 2324, 3739, 4390], \\\"year\\\": [\\\"2011\\\", \\\"2012\\\", \\\"2015\\\", \\\"2016\\\"]}}, {\\\"cols\\\": null, \\\"column_source\\\": {\\\"id\\\": \\\"2632\\\"}, \\\"kind\\\": \\\"ColumnDataChanged\\\", \\\"new\\\": {\\\"Variable\\\": [\\\"sale_price_sqr_foot\\\", \\\"sale_price_sqr_foot\\\", \\\"sale_price_sqr_foot\\\", \\\"sale_price_sqr_foot\\\"], \\\"value\\\": {\\\"__ndarray__\\\": \\\"VAHB6Y/EYUDRheJJMrxrQMNZqfN/pYFAch01Y+ViREA=\\\", \\\"dtype\\\": \\\"float64\\\", \\\"order\\\": \\\"little\\\", \\\"shape\\\": [4]}, \\\"year\\\": [\\\"2011\\\", \\\"2012\\\", \\\"2015\\\", \\\"2016\\\"]}}, {\\\"attr\\\": \\\"text\\\", \\\"kind\\\": \\\"ModelChanged\\\", \\\"model\\\": {\\\"id\\\": \\\"2582\\\"}, \\\"new\\\": \\\"neighborhood: Outer Mission\\\"}, {\\\"attr\\\": \\\"right\\\", \\\"kind\\\": \\\"ModelChanged\\\", \\\"model\\\": {\\\"id\\\": \\\"2581\\\"}, \\\"new\\\": [{\\\"id\\\": \\\"2630\\\"}]}], \\\"references\\\": [{\\\"attributes\\\": {\\\"click_policy\\\": \\\"mute\\\", \\\"items\\\": [{\\\"id\\\": \\\"2631\\\"}, {\\\"id\\\": \\\"2650\\\"}], \\\"location\\\": [0, 0], \\\"title\\\": \\\"Variable\\\"}, \\\"id\\\": \\\"2630\\\", \\\"type\\\": \\\"Legend\\\"}, {\\\"attributes\\\": {\\\"line_alpha\\\": 0.1, \\\"line_color\\\": \\\"#1f77b3\\\", \\\"line_width\\\": 2, \\\"x\\\": {\\\"field\\\": \\\"year\\\"}, \\\"y\\\": {\\\"field\\\": \\\"value\\\"}}, \\\"id\\\": \\\"2618\\\", \\\"type\\\": \\\"Line\\\"}, {\\\"attributes\\\": {\\\"source\\\": {\\\"id\\\": \\\"2632\\\"}}, \\\"id\\\": \\\"2639\\\", \\\"type\\\": \\\"CDSView\\\"}, {\\\"attributes\\\": {\\\"label\\\": {\\\"value\\\": \\\"sale_price_sqr_foot\\\"}, \\\"renderers\\\": [{\\\"id\\\": \\\"2638\\\"}]}, \\\"id\\\": \\\"2650\\\", \\\"type\\\": \\\"LegendItem\\\"}, {\\\"attributes\\\": {\\\"data\\\": {\\\"Variable\\\": [\\\"gross_rent\\\", \\\"gross_rent\\\", \\\"gross_rent\\\", \\\"gross_rent\\\"], \\\"value\\\": [1530, 2324, 3739, 4390], \\\"year\\\": [\\\"2011\\\", \\\"2012\\\", \\\"2015\\\", \\\"2016\\\"]}, \\\"selected\\\": {\\\"id\\\": \\\"2615\\\"}, \\\"selection_policy\\\": {\\\"id\\\": \\\"2628\\\"}}, \\\"id\\\": \\\"2614\\\", \\\"type\\\": \\\"ColumnDataSource\\\"}, {\\\"attributes\\\": {\\\"data_source\\\": {\\\"id\\\": \\\"2614\\\"}, \\\"glyph\\\": {\\\"id\\\": \\\"2617\\\"}, \\\"hover_glyph\\\": null, \\\"muted_glyph\\\": {\\\"id\\\": \\\"2619\\\"}, \\\"nonselection_glyph\\\": {\\\"id\\\": \\\"2618\\\"}, \\\"selection_glyph\\\": null, \\\"view\\\": {\\\"id\\\": \\\"2621\\\"}}, \\\"id\\\": \\\"2620\\\", \\\"type\\\": \\\"GlyphRenderer\\\"}, {\\\"attributes\\\": {\\\"line_color\\\": \\\"#ff7e0e\\\", \\\"line_width\\\": 2, \\\"x\\\": {\\\"field\\\": \\\"year\\\"}, \\\"y\\\": {\\\"field\\\": \\\"value\\\"}}, \\\"id\\\": \\\"2635\\\", \\\"type\\\": \\\"Line\\\"}, {\\\"attributes\\\": {\\\"line_alpha\\\": 0.2, \\\"line_color\\\": \\\"#ff7e0e\\\", \\\"line_width\\\": 2, \\\"x\\\": {\\\"field\\\": \\\"year\\\"}, \\\"y\\\": {\\\"field\\\": \\\"value\\\"}}, \\\"id\\\": \\\"2637\\\", \\\"type\\\": \\\"Line\\\"}, {\\\"attributes\\\": {\\\"data\\\": {\\\"Variable\\\": [\\\"sale_price_sqr_foot\\\", \\\"sale_price_sqr_foot\\\", \\\"sale_price_sqr_foot\\\", \\\"sale_price_sqr_foot\\\"], \\\"value\\\": {\\\"__ndarray__\\\": \\\"VAHB6Y/EYUDRheJJMrxrQMNZqfN/pYFAch01Y+ViREA=\\\", \\\"dtype\\\": \\\"float64\\\", \\\"order\\\": \\\"little\\\", \\\"shape\\\": [4]}, \\\"year\\\": [\\\"2011\\\", \\\"2012\\\", \\\"2015\\\", \\\"2016\\\"]}, \\\"selected\\\": {\\\"id\\\": \\\"2633\\\"}, \\\"selection_policy\\\": {\\\"id\\\": \\\"2648\\\"}}, \\\"id\\\": \\\"2632\\\", \\\"type\\\": \\\"ColumnDataSource\\\"}, {\\\"attributes\\\": {\\\"source\\\": {\\\"id\\\": \\\"2614\\\"}}, \\\"id\\\": \\\"2621\\\", \\\"type\\\": \\\"CDSView\\\"}, {\\\"attributes\\\": {\\\"line_color\\\": \\\"#1f77b3\\\", \\\"line_width\\\": 2, \\\"x\\\": {\\\"field\\\": \\\"year\\\"}, \\\"y\\\": {\\\"field\\\": \\\"value\\\"}}, \\\"id\\\": \\\"2617\\\", \\\"type\\\": \\\"Line\\\"}, {\\\"attributes\\\": {\\\"line_alpha\\\": 0.1, \\\"line_color\\\": \\\"#ff7e0e\\\", \\\"line_width\\\": 2, \\\"x\\\": {\\\"field\\\": \\\"year\\\"}, \\\"y\\\": {\\\"field\\\": \\\"value\\\"}}, \\\"id\\\": \\\"2636\\\", \\\"type\\\": \\\"Line\\\"}, {\\\"attributes\\\": {}, \\\"id\\\": \\\"2648\\\", \\\"type\\\": \\\"UnionRenderers\\\"}, {\\\"attributes\\\": {\\\"data_source\\\": {\\\"id\\\": \\\"2632\\\"}, \\\"glyph\\\": {\\\"id\\\": \\\"2635\\\"}, \\\"hover_glyph\\\": null, \\\"muted_glyph\\\": {\\\"id\\\": \\\"2637\\\"}, \\\"nonselection_glyph\\\": {\\\"id\\\": \\\"2636\\\"}, \\\"selection_glyph\\\": null, \\\"view\\\": {\\\"id\\\": \\\"2639\\\"}}, \\\"id\\\": \\\"2638\\\", \\\"type\\\": \\\"GlyphRenderer\\\"}, {\\\"attributes\\\": {\\\"label\\\": {\\\"value\\\": \\\"gross_rent\\\"}, \\\"renderers\\\": [{\\\"id\\\": \\\"2620\\\"}]}, \\\"id\\\": \\\"2631\\\", \\\"type\\\": \\\"LegendItem\\\"}, {\\\"attributes\\\": {}, \\\"id\\\": \\\"2628\\\", \\\"type\\\": \\\"UnionRenderers\\\"}, {\\\"attributes\\\": {}, \\\"id\\\": \\\"2615\\\", \\\"type\\\": \\\"Selection\\\"}, {\\\"attributes\\\": {\\\"line_alpha\\\": 0.2, \\\"line_color\\\": \\\"#1f77b3\\\", \\\"line_width\\\": 2, \\\"x\\\": {\\\"field\\\": \\\"year\\\"}, \\\"y\\\": {\\\"field\\\": \\\"value\\\"}}, \\\"id\\\": \\\"2619\\\", \\\"type\\\": \\\"Line\\\"}, {\\\"attributes\\\": {}, \\\"id\\\": \\\"2633\\\", \\\"type\\\": \\\"Selection\\\"}]}\",\"header\":\"{\\\"msgid\\\": \\\"3636\\\", \\\"msgtype\\\": \\\"PATCH-DOC\\\"}\",\"metadata\":\"{}\"},\"Outer Parkside\":{\"content\":\"{\\\"events\\\": [{\\\"cols\\\": null, \\\"column_source\\\": {\\\"id\\\": \\\"2614\\\"}, \\\"kind\\\": \\\"ColumnDataChanged\\\", \\\"new\\\": {\\\"Variable\\\": [\\\"gross_rent\\\", \\\"gross_rent\\\", \\\"gross_rent\\\", \\\"gross_rent\\\", \\\"gross_rent\\\", \\\"gross_rent\\\", \\\"gross_rent\\\"], \\\"value\\\": [1239, 1530, 2324, 2971, 3528, 3739, 4390], \\\"year\\\": [\\\"2010\\\", \\\"2011\\\", \\\"2012\\\", \\\"2013\\\", \\\"2014\\\", \\\"2015\\\", \\\"2016\\\"]}}, {\\\"cols\\\": null, \\\"column_source\\\": {\\\"id\\\": \\\"2632\\\"}, \\\"kind\\\": \\\"ColumnDataChanged\\\", \\\"new\\\": {\\\"Variable\\\": [\\\"sale_price_sqr_foot\\\", \\\"sale_price_sqr_foot\\\", \\\"sale_price_sqr_foot\\\", \\\"sale_price_sqr_foot\\\", \\\"sale_price_sqr_foot\\\", \\\"sale_price_sqr_foot\\\", \\\"sale_price_sqr_foot\\\"], \\\"value\\\": {\\\"__ndarray__\\\": \\\"nUKf6h8De0AqM2fRQj5uQH6d/P9XjXNAQqfjLN9Dd0DfE9xHtVeEQIwwtcJNYoRAKzIM9sPlhkA=\\\", \\\"dtype\\\": \\\"float64\\\", \\\"order\\\": \\\"little\\\", \\\"shape\\\": [7]}, \\\"year\\\": [\\\"2010\\\", \\\"2011\\\", \\\"2012\\\", \\\"2013\\\", \\\"2014\\\", \\\"2015\\\", \\\"2016\\\"]}}, {\\\"attr\\\": \\\"text\\\", \\\"kind\\\": \\\"ModelChanged\\\", \\\"model\\\": {\\\"id\\\": \\\"2582\\\"}, \\\"new\\\": \\\"neighborhood: Outer Parkside\\\"}, {\\\"attr\\\": \\\"right\\\", \\\"kind\\\": \\\"ModelChanged\\\", \\\"model\\\": {\\\"id\\\": \\\"2581\\\"}, \\\"new\\\": [{\\\"id\\\": \\\"2630\\\"}]}], \\\"references\\\": [{\\\"attributes\\\": {\\\"click_policy\\\": \\\"mute\\\", \\\"items\\\": [{\\\"id\\\": \\\"2631\\\"}, {\\\"id\\\": \\\"2650\\\"}], \\\"location\\\": [0, 0], \\\"title\\\": \\\"Variable\\\"}, \\\"id\\\": \\\"2630\\\", \\\"type\\\": \\\"Legend\\\"}, {\\\"attributes\\\": {\\\"line_alpha\\\": 0.1, \\\"line_color\\\": \\\"#1f77b3\\\", \\\"line_width\\\": 2, \\\"x\\\": {\\\"field\\\": \\\"year\\\"}, \\\"y\\\": {\\\"field\\\": \\\"value\\\"}}, \\\"id\\\": \\\"2618\\\", \\\"type\\\": \\\"Line\\\"}, {\\\"attributes\\\": {\\\"source\\\": {\\\"id\\\": \\\"2632\\\"}}, \\\"id\\\": \\\"2639\\\", \\\"type\\\": \\\"CDSView\\\"}, {\\\"attributes\\\": {\\\"label\\\": {\\\"value\\\": \\\"sale_price_sqr_foot\\\"}, \\\"renderers\\\": [{\\\"id\\\": \\\"2638\\\"}]}, \\\"id\\\": \\\"2650\\\", \\\"type\\\": \\\"LegendItem\\\"}, {\\\"attributes\\\": {\\\"data\\\": {\\\"Variable\\\": [\\\"gross_rent\\\", \\\"gross_rent\\\", \\\"gross_rent\\\", \\\"gross_rent\\\", \\\"gross_rent\\\", \\\"gross_rent\\\", \\\"gross_rent\\\"], \\\"value\\\": [1239, 1530, 2324, 2971, 3528, 3739, 4390], \\\"year\\\": [\\\"2010\\\", \\\"2011\\\", \\\"2012\\\", \\\"2013\\\", \\\"2014\\\", \\\"2015\\\", \\\"2016\\\"]}, \\\"selected\\\": {\\\"id\\\": \\\"2615\\\"}, \\\"selection_policy\\\": {\\\"id\\\": \\\"2628\\\"}}, \\\"id\\\": \\\"2614\\\", \\\"type\\\": \\\"ColumnDataSource\\\"}, {\\\"attributes\\\": {\\\"data_source\\\": {\\\"id\\\": \\\"2614\\\"}, \\\"glyph\\\": {\\\"id\\\": \\\"2617\\\"}, \\\"hover_glyph\\\": null, \\\"muted_glyph\\\": {\\\"id\\\": \\\"2619\\\"}, \\\"nonselection_glyph\\\": {\\\"id\\\": \\\"2618\\\"}, \\\"selection_glyph\\\": null, \\\"view\\\": {\\\"id\\\": \\\"2621\\\"}}, \\\"id\\\": \\\"2620\\\", \\\"type\\\": \\\"GlyphRenderer\\\"}, {\\\"attributes\\\": {\\\"line_color\\\": \\\"#ff7e0e\\\", \\\"line_width\\\": 2, \\\"x\\\": {\\\"field\\\": \\\"year\\\"}, \\\"y\\\": {\\\"field\\\": \\\"value\\\"}}, \\\"id\\\": \\\"2635\\\", \\\"type\\\": \\\"Line\\\"}, {\\\"attributes\\\": {\\\"line_alpha\\\": 0.2, \\\"line_color\\\": \\\"#ff7e0e\\\", \\\"line_width\\\": 2, \\\"x\\\": {\\\"field\\\": \\\"year\\\"}, \\\"y\\\": {\\\"field\\\": \\\"value\\\"}}, \\\"id\\\": \\\"2637\\\", \\\"type\\\": \\\"Line\\\"}, {\\\"attributes\\\": {\\\"data\\\": {\\\"Variable\\\": [\\\"sale_price_sqr_foot\\\", \\\"sale_price_sqr_foot\\\", \\\"sale_price_sqr_foot\\\", \\\"sale_price_sqr_foot\\\", \\\"sale_price_sqr_foot\\\", \\\"sale_price_sqr_foot\\\", \\\"sale_price_sqr_foot\\\"], \\\"value\\\": {\\\"__ndarray__\\\": \\\"nUKf6h8De0AqM2fRQj5uQH6d/P9XjXNAQqfjLN9Dd0DfE9xHtVeEQIwwtcJNYoRAKzIM9sPlhkA=\\\", \\\"dtype\\\": \\\"float64\\\", \\\"order\\\": \\\"little\\\", \\\"shape\\\": [7]}, \\\"year\\\": [\\\"2010\\\", \\\"2011\\\", \\\"2012\\\", \\\"2013\\\", \\\"2014\\\", \\\"2015\\\", \\\"2016\\\"]}, \\\"selected\\\": {\\\"id\\\": \\\"2633\\\"}, \\\"selection_policy\\\": {\\\"id\\\": \\\"2648\\\"}}, \\\"id\\\": \\\"2632\\\", \\\"type\\\": \\\"ColumnDataSource\\\"}, {\\\"attributes\\\": {\\\"source\\\": {\\\"id\\\": \\\"2614\\\"}}, \\\"id\\\": \\\"2621\\\", \\\"type\\\": \\\"CDSView\\\"}, {\\\"attributes\\\": {\\\"line_color\\\": \\\"#1f77b3\\\", \\\"line_width\\\": 2, \\\"x\\\": {\\\"field\\\": \\\"year\\\"}, \\\"y\\\": {\\\"field\\\": \\\"value\\\"}}, \\\"id\\\": \\\"2617\\\", \\\"type\\\": \\\"Line\\\"}, {\\\"attributes\\\": {\\\"line_alpha\\\": 0.1, \\\"line_color\\\": \\\"#ff7e0e\\\", \\\"line_width\\\": 2, \\\"x\\\": {\\\"field\\\": \\\"year\\\"}, \\\"y\\\": {\\\"field\\\": \\\"value\\\"}}, \\\"id\\\": \\\"2636\\\", \\\"type\\\": \\\"Line\\\"}, {\\\"attributes\\\": {}, \\\"id\\\": \\\"2648\\\", \\\"type\\\": \\\"UnionRenderers\\\"}, {\\\"attributes\\\": {\\\"data_source\\\": {\\\"id\\\": \\\"2632\\\"}, \\\"glyph\\\": {\\\"id\\\": \\\"2635\\\"}, \\\"hover_glyph\\\": null, \\\"muted_glyph\\\": {\\\"id\\\": \\\"2637\\\"}, \\\"nonselection_glyph\\\": {\\\"id\\\": \\\"2636\\\"}, \\\"selection_glyph\\\": null, \\\"view\\\": {\\\"id\\\": \\\"2639\\\"}}, \\\"id\\\": \\\"2638\\\", \\\"type\\\": \\\"GlyphRenderer\\\"}, {\\\"attributes\\\": {\\\"label\\\": {\\\"value\\\": \\\"gross_rent\\\"}, \\\"renderers\\\": [{\\\"id\\\": \\\"2620\\\"}]}, \\\"id\\\": \\\"2631\\\", \\\"type\\\": \\\"LegendItem\\\"}, {\\\"attributes\\\": {}, \\\"id\\\": \\\"2628\\\", \\\"type\\\": \\\"UnionRenderers\\\"}, {\\\"attributes\\\": {}, \\\"id\\\": \\\"2615\\\", \\\"type\\\": \\\"Selection\\\"}, {\\\"attributes\\\": {\\\"line_alpha\\\": 0.2, \\\"line_color\\\": \\\"#1f77b3\\\", \\\"line_width\\\": 2, \\\"x\\\": {\\\"field\\\": \\\"year\\\"}, \\\"y\\\": {\\\"field\\\": \\\"value\\\"}}, \\\"id\\\": \\\"2619\\\", \\\"type\\\": \\\"Line\\\"}, {\\\"attributes\\\": {}, \\\"id\\\": \\\"2633\\\", \\\"type\\\": \\\"Selection\\\"}]}\",\"header\":\"{\\\"msgid\\\": \\\"3603\\\", \\\"msgtype\\\": \\\"PATCH-DOC\\\"}\",\"metadata\":\"{}\"},\"Outer Richmond \":{\"content\":\"{\\\"events\\\": [{\\\"cols\\\": null, \\\"column_source\\\": {\\\"id\\\": \\\"2614\\\"}, \\\"kind\\\": \\\"ColumnDataChanged\\\", \\\"new\\\": {\\\"Variable\\\": [\\\"gross_rent\\\", \\\"gross_rent\\\", \\\"gross_rent\\\", \\\"gross_rent\\\", \\\"gross_rent\\\", \\\"gross_rent\\\", \\\"gross_rent\\\"], \\\"value\\\": [1239, 1530, 2324, 2971, 3528, 3739, 4390], \\\"year\\\": [\\\"2010\\\", \\\"2011\\\", \\\"2012\\\", \\\"2013\\\", \\\"2014\\\", \\\"2015\\\", \\\"2016\\\"]}}, {\\\"cols\\\": null, \\\"column_source\\\": {\\\"id\\\": \\\"2632\\\"}, \\\"kind\\\": \\\"ColumnDataChanged\\\", \\\"new\\\": {\\\"Variable\\\": [\\\"sale_price_sqr_foot\\\", \\\"sale_price_sqr_foot\\\", \\\"sale_price_sqr_foot\\\", \\\"sale_price_sqr_foot\\\", \\\"sale_price_sqr_foot\\\", \\\"sale_price_sqr_foot\\\", \\\"sale_price_sqr_foot\\\"], \\\"value\\\": {\\\"__ndarray__\\\": \\\"B35J6gQidUBmZTA2cfFwQKF06NAgKnVARYFoaYbGdECvXdvZ9R55QL5PqQ58Z3tAoL9q7ZSykkA=\\\", \\\"dtype\\\": \\\"float64\\\", \\\"order\\\": \\\"little\\\", \\\"shape\\\": [7]}, \\\"year\\\": [\\\"2010\\\", \\\"2011\\\", \\\"2012\\\", \\\"2013\\\", \\\"2014\\\", \\\"2015\\\", \\\"2016\\\"]}}, {\\\"attr\\\": \\\"text\\\", \\\"kind\\\": \\\"ModelChanged\\\", \\\"model\\\": {\\\"id\\\": \\\"2582\\\"}, \\\"new\\\": \\\"neighborhood: Outer Richmond\\\"}, {\\\"attr\\\": \\\"right\\\", \\\"kind\\\": \\\"ModelChanged\\\", \\\"model\\\": {\\\"id\\\": \\\"2581\\\"}, \\\"new\\\": [{\\\"id\\\": \\\"2630\\\"}]}], \\\"references\\\": [{\\\"attributes\\\": {\\\"click_policy\\\": \\\"mute\\\", \\\"items\\\": [{\\\"id\\\": \\\"2631\\\"}, {\\\"id\\\": \\\"2650\\\"}], \\\"location\\\": [0, 0], \\\"title\\\": \\\"Variable\\\"}, \\\"id\\\": \\\"2630\\\", \\\"type\\\": \\\"Legend\\\"}, {\\\"attributes\\\": {\\\"line_alpha\\\": 0.1, \\\"line_color\\\": \\\"#1f77b3\\\", \\\"line_width\\\": 2, \\\"x\\\": {\\\"field\\\": \\\"year\\\"}, \\\"y\\\": {\\\"field\\\": \\\"value\\\"}}, \\\"id\\\": \\\"2618\\\", \\\"type\\\": \\\"Line\\\"}, {\\\"attributes\\\": {\\\"source\\\": {\\\"id\\\": \\\"2632\\\"}}, \\\"id\\\": \\\"2639\\\", \\\"type\\\": \\\"CDSView\\\"}, {\\\"attributes\\\": {\\\"label\\\": {\\\"value\\\": \\\"sale_price_sqr_foot\\\"}, \\\"renderers\\\": [{\\\"id\\\": \\\"2638\\\"}]}, \\\"id\\\": \\\"2650\\\", \\\"type\\\": \\\"LegendItem\\\"}, {\\\"attributes\\\": {\\\"data\\\": {\\\"Variable\\\": [\\\"gross_rent\\\", \\\"gross_rent\\\", \\\"gross_rent\\\", \\\"gross_rent\\\", \\\"gross_rent\\\", \\\"gross_rent\\\", \\\"gross_rent\\\"], \\\"value\\\": [1239, 1530, 2324, 2971, 3528, 3739, 4390], \\\"year\\\": [\\\"2010\\\", \\\"2011\\\", \\\"2012\\\", \\\"2013\\\", \\\"2014\\\", \\\"2015\\\", \\\"2016\\\"]}, \\\"selected\\\": {\\\"id\\\": \\\"2615\\\"}, \\\"selection_policy\\\": {\\\"id\\\": \\\"2628\\\"}}, \\\"id\\\": \\\"2614\\\", \\\"type\\\": \\\"ColumnDataSource\\\"}, {\\\"attributes\\\": {\\\"data_source\\\": {\\\"id\\\": \\\"2614\\\"}, \\\"glyph\\\": {\\\"id\\\": \\\"2617\\\"}, \\\"hover_glyph\\\": null, \\\"muted_glyph\\\": {\\\"id\\\": \\\"2619\\\"}, \\\"nonselection_glyph\\\": {\\\"id\\\": \\\"2618\\\"}, \\\"selection_glyph\\\": null, \\\"view\\\": {\\\"id\\\": \\\"2621\\\"}}, \\\"id\\\": \\\"2620\\\", \\\"type\\\": \\\"GlyphRenderer\\\"}, {\\\"attributes\\\": {\\\"line_color\\\": \\\"#ff7e0e\\\", \\\"line_width\\\": 2, \\\"x\\\": {\\\"field\\\": \\\"year\\\"}, \\\"y\\\": {\\\"field\\\": \\\"value\\\"}}, \\\"id\\\": \\\"2635\\\", \\\"type\\\": \\\"Line\\\"}, {\\\"attributes\\\": {\\\"line_alpha\\\": 0.2, \\\"line_color\\\": \\\"#ff7e0e\\\", \\\"line_width\\\": 2, \\\"x\\\": {\\\"field\\\": \\\"year\\\"}, \\\"y\\\": {\\\"field\\\": \\\"value\\\"}}, \\\"id\\\": \\\"2637\\\", \\\"type\\\": \\\"Line\\\"}, {\\\"attributes\\\": {\\\"data\\\": {\\\"Variable\\\": [\\\"sale_price_sqr_foot\\\", \\\"sale_price_sqr_foot\\\", \\\"sale_price_sqr_foot\\\", \\\"sale_price_sqr_foot\\\", \\\"sale_price_sqr_foot\\\", \\\"sale_price_sqr_foot\\\", \\\"sale_price_sqr_foot\\\"], \\\"value\\\": {\\\"__ndarray__\\\": \\\"B35J6gQidUBmZTA2cfFwQKF06NAgKnVARYFoaYbGdECvXdvZ9R55QL5PqQ58Z3tAoL9q7ZSykkA=\\\", \\\"dtype\\\": \\\"float64\\\", \\\"order\\\": \\\"little\\\", \\\"shape\\\": [7]}, \\\"year\\\": [\\\"2010\\\", \\\"2011\\\", \\\"2012\\\", \\\"2013\\\", \\\"2014\\\", \\\"2015\\\", \\\"2016\\\"]}, \\\"selected\\\": {\\\"id\\\": \\\"2633\\\"}, \\\"selection_policy\\\": {\\\"id\\\": \\\"2648\\\"}}, \\\"id\\\": \\\"2632\\\", \\\"type\\\": \\\"ColumnDataSource\\\"}, {\\\"attributes\\\": {\\\"source\\\": {\\\"id\\\": \\\"2614\\\"}}, \\\"id\\\": \\\"2621\\\", \\\"type\\\": \\\"CDSView\\\"}, {\\\"attributes\\\": {\\\"line_color\\\": \\\"#1f77b3\\\", \\\"line_width\\\": 2, \\\"x\\\": {\\\"field\\\": \\\"year\\\"}, \\\"y\\\": {\\\"field\\\": \\\"value\\\"}}, \\\"id\\\": \\\"2617\\\", \\\"type\\\": \\\"Line\\\"}, {\\\"attributes\\\": {\\\"line_alpha\\\": 0.1, \\\"line_color\\\": \\\"#ff7e0e\\\", \\\"line_width\\\": 2, \\\"x\\\": {\\\"field\\\": \\\"year\\\"}, \\\"y\\\": {\\\"field\\\": \\\"value\\\"}}, \\\"id\\\": \\\"2636\\\", \\\"type\\\": \\\"Line\\\"}, {\\\"attributes\\\": {}, \\\"id\\\": \\\"2648\\\", \\\"type\\\": \\\"UnionRenderers\\\"}, {\\\"attributes\\\": {\\\"data_source\\\": {\\\"id\\\": \\\"2632\\\"}, \\\"glyph\\\": {\\\"id\\\": \\\"2635\\\"}, \\\"hover_glyph\\\": null, \\\"muted_glyph\\\": {\\\"id\\\": \\\"2637\\\"}, \\\"nonselection_glyph\\\": {\\\"id\\\": \\\"2636\\\"}, \\\"selection_glyph\\\": null, \\\"view\\\": {\\\"id\\\": \\\"2639\\\"}}, \\\"id\\\": \\\"2638\\\", \\\"type\\\": \\\"GlyphRenderer\\\"}, {\\\"attributes\\\": {\\\"label\\\": {\\\"value\\\": \\\"gross_rent\\\"}, \\\"renderers\\\": [{\\\"id\\\": \\\"2620\\\"}]}, \\\"id\\\": \\\"2631\\\", \\\"type\\\": \\\"LegendItem\\\"}, {\\\"attributes\\\": {}, \\\"id\\\": \\\"2628\\\", \\\"type\\\": \\\"UnionRenderers\\\"}, {\\\"attributes\\\": {}, \\\"id\\\": \\\"2615\\\", \\\"type\\\": \\\"Selection\\\"}, {\\\"attributes\\\": {\\\"line_alpha\\\": 0.2, \\\"line_color\\\": \\\"#1f77b3\\\", \\\"line_width\\\": 2, \\\"x\\\": {\\\"field\\\": \\\"year\\\"}, \\\"y\\\": {\\\"field\\\": \\\"value\\\"}}, \\\"id\\\": \\\"2619\\\", \\\"type\\\": \\\"Line\\\"}, {\\\"attributes\\\": {}, \\\"id\\\": \\\"2633\\\", \\\"type\\\": \\\"Selection\\\"}]}\",\"header\":\"{\\\"msgid\\\": \\\"3570\\\", \\\"msgtype\\\": \\\"PATCH-DOC\\\"}\",\"metadata\":\"{}\"},\"Outer Sunset\":{\"content\":\"{\\\"events\\\": [{\\\"cols\\\": null, \\\"column_source\\\": {\\\"id\\\": \\\"2614\\\"}, \\\"kind\\\": \\\"ColumnDataChanged\\\", \\\"new\\\": {\\\"Variable\\\": [\\\"gross_rent\\\", \\\"gross_rent\\\", \\\"gross_rent\\\", \\\"gross_rent\\\", \\\"gross_rent\\\", \\\"gross_rent\\\", \\\"gross_rent\\\"], \\\"value\\\": [1239, 1530, 2324, 2971, 3528, 3739, 4390], \\\"year\\\": [\\\"2010\\\", \\\"2011\\\", \\\"2012\\\", \\\"2013\\\", \\\"2014\\\", \\\"2015\\\", \\\"2016\\\"]}}, {\\\"cols\\\": null, \\\"column_source\\\": {\\\"id\\\": \\\"2632\\\"}, \\\"kind\\\": \\\"ColumnDataChanged\\\", \\\"new\\\": {\\\"Variable\\\": [\\\"sale_price_sqr_foot\\\", \\\"sale_price_sqr_foot\\\", \\\"sale_price_sqr_foot\\\", \\\"sale_price_sqr_foot\\\", \\\"sale_price_sqr_foot\\\", \\\"sale_price_sqr_foot\\\", \\\"sale_price_sqr_foot\\\"], \\\"value\\\": {\\\"__ndarray__\\\": \\\"vsH9HfwEd0DfWRDO7ZNyQGMEtIPw0HlAduAUwFAhdECKxEQ80aV+QFgk0ahQXnZAWykPAzvpf0A=\\\", \\\"dtype\\\": \\\"float64\\\", \\\"order\\\": \\\"little\\\", \\\"shape\\\": [7]}, \\\"year\\\": [\\\"2010\\\", \\\"2011\\\", \\\"2012\\\", \\\"2013\\\", \\\"2014\\\", \\\"2015\\\", \\\"2016\\\"]}}, {\\\"attr\\\": \\\"text\\\", \\\"kind\\\": \\\"ModelChanged\\\", \\\"model\\\": {\\\"id\\\": \\\"2582\\\"}, \\\"new\\\": \\\"neighborhood: Outer Sunset\\\"}, {\\\"attr\\\": \\\"right\\\", \\\"kind\\\": \\\"ModelChanged\\\", \\\"model\\\": {\\\"id\\\": \\\"2581\\\"}, \\\"new\\\": [{\\\"id\\\": \\\"2630\\\"}]}], \\\"references\\\": [{\\\"attributes\\\": {\\\"click_policy\\\": \\\"mute\\\", \\\"items\\\": [{\\\"id\\\": \\\"2631\\\"}, {\\\"id\\\": \\\"2650\\\"}], \\\"location\\\": [0, 0], \\\"title\\\": \\\"Variable\\\"}, \\\"id\\\": \\\"2630\\\", \\\"type\\\": \\\"Legend\\\"}, {\\\"attributes\\\": {\\\"line_alpha\\\": 0.1, \\\"line_color\\\": \\\"#1f77b3\\\", \\\"line_width\\\": 2, \\\"x\\\": {\\\"field\\\": \\\"year\\\"}, \\\"y\\\": {\\\"field\\\": \\\"value\\\"}}, \\\"id\\\": \\\"2618\\\", \\\"type\\\": \\\"Line\\\"}, {\\\"attributes\\\": {\\\"source\\\": {\\\"id\\\": \\\"2632\\\"}}, \\\"id\\\": \\\"2639\\\", \\\"type\\\": \\\"CDSView\\\"}, {\\\"attributes\\\": {\\\"label\\\": {\\\"value\\\": \\\"sale_price_sqr_foot\\\"}, \\\"renderers\\\": [{\\\"id\\\": \\\"2638\\\"}]}, \\\"id\\\": \\\"2650\\\", \\\"type\\\": \\\"LegendItem\\\"}, {\\\"attributes\\\": {\\\"data\\\": {\\\"Variable\\\": [\\\"gross_rent\\\", \\\"gross_rent\\\", \\\"gross_rent\\\", \\\"gross_rent\\\", \\\"gross_rent\\\", \\\"gross_rent\\\", \\\"gross_rent\\\"], \\\"value\\\": [1239, 1530, 2324, 2971, 3528, 3739, 4390], \\\"year\\\": [\\\"2010\\\", \\\"2011\\\", \\\"2012\\\", \\\"2013\\\", \\\"2014\\\", \\\"2015\\\", \\\"2016\\\"]}, \\\"selected\\\": {\\\"id\\\": \\\"2615\\\"}, \\\"selection_policy\\\": {\\\"id\\\": \\\"2628\\\"}}, \\\"id\\\": \\\"2614\\\", \\\"type\\\": \\\"ColumnDataSource\\\"}, {\\\"attributes\\\": {\\\"data_source\\\": {\\\"id\\\": \\\"2614\\\"}, \\\"glyph\\\": {\\\"id\\\": \\\"2617\\\"}, \\\"hover_glyph\\\": null, \\\"muted_glyph\\\": {\\\"id\\\": \\\"2619\\\"}, \\\"nonselection_glyph\\\": {\\\"id\\\": \\\"2618\\\"}, \\\"selection_glyph\\\": null, \\\"view\\\": {\\\"id\\\": \\\"2621\\\"}}, \\\"id\\\": \\\"2620\\\", \\\"type\\\": \\\"GlyphRenderer\\\"}, {\\\"attributes\\\": {\\\"line_color\\\": \\\"#ff7e0e\\\", \\\"line_width\\\": 2, \\\"x\\\": {\\\"field\\\": \\\"year\\\"}, \\\"y\\\": {\\\"field\\\": \\\"value\\\"}}, \\\"id\\\": \\\"2635\\\", \\\"type\\\": \\\"Line\\\"}, {\\\"attributes\\\": {\\\"line_alpha\\\": 0.2, \\\"line_color\\\": \\\"#ff7e0e\\\", \\\"line_width\\\": 2, \\\"x\\\": {\\\"field\\\": \\\"year\\\"}, \\\"y\\\": {\\\"field\\\": \\\"value\\\"}}, \\\"id\\\": \\\"2637\\\", \\\"type\\\": \\\"Line\\\"}, {\\\"attributes\\\": {\\\"data\\\": {\\\"Variable\\\": [\\\"sale_price_sqr_foot\\\", \\\"sale_price_sqr_foot\\\", \\\"sale_price_sqr_foot\\\", \\\"sale_price_sqr_foot\\\", \\\"sale_price_sqr_foot\\\", \\\"sale_price_sqr_foot\\\", \\\"sale_price_sqr_foot\\\"], \\\"value\\\": {\\\"__ndarray__\\\": \\\"vsH9HfwEd0DfWRDO7ZNyQGMEtIPw0HlAduAUwFAhdECKxEQ80aV+QFgk0ahQXnZAWykPAzvpf0A=\\\", \\\"dtype\\\": \\\"float64\\\", \\\"order\\\": \\\"little\\\", \\\"shape\\\": [7]}, \\\"year\\\": [\\\"2010\\\", \\\"2011\\\", \\\"2012\\\", \\\"2013\\\", \\\"2014\\\", \\\"2015\\\", \\\"2016\\\"]}, \\\"selected\\\": {\\\"id\\\": \\\"2633\\\"}, \\\"selection_policy\\\": {\\\"id\\\": \\\"2648\\\"}}, \\\"id\\\": \\\"2632\\\", \\\"type\\\": \\\"ColumnDataSource\\\"}, {\\\"attributes\\\": {\\\"source\\\": {\\\"id\\\": \\\"2614\\\"}}, \\\"id\\\": \\\"2621\\\", \\\"type\\\": \\\"CDSView\\\"}, {\\\"attributes\\\": {\\\"line_color\\\": \\\"#1f77b3\\\", \\\"line_width\\\": 2, \\\"x\\\": {\\\"field\\\": \\\"year\\\"}, \\\"y\\\": {\\\"field\\\": \\\"value\\\"}}, \\\"id\\\": \\\"2617\\\", \\\"type\\\": \\\"Line\\\"}, {\\\"attributes\\\": {\\\"line_alpha\\\": 0.1, \\\"line_color\\\": \\\"#ff7e0e\\\", \\\"line_width\\\": 2, \\\"x\\\": {\\\"field\\\": \\\"year\\\"}, \\\"y\\\": {\\\"field\\\": \\\"value\\\"}}, \\\"id\\\": \\\"2636\\\", \\\"type\\\": \\\"Line\\\"}, {\\\"attributes\\\": {}, \\\"id\\\": \\\"2648\\\", \\\"type\\\": \\\"UnionRenderers\\\"}, {\\\"attributes\\\": {\\\"data_source\\\": {\\\"id\\\": \\\"2632\\\"}, \\\"glyph\\\": {\\\"id\\\": \\\"2635\\\"}, \\\"hover_glyph\\\": null, \\\"muted_glyph\\\": {\\\"id\\\": \\\"2637\\\"}, \\\"nonselection_glyph\\\": {\\\"id\\\": \\\"2636\\\"}, \\\"selection_glyph\\\": null, \\\"view\\\": {\\\"id\\\": \\\"2639\\\"}}, \\\"id\\\": \\\"2638\\\", \\\"type\\\": \\\"GlyphRenderer\\\"}, {\\\"attributes\\\": {\\\"label\\\": {\\\"value\\\": \\\"gross_rent\\\"}, \\\"renderers\\\": [{\\\"id\\\": \\\"2620\\\"}]}, \\\"id\\\": \\\"2631\\\", \\\"type\\\": \\\"LegendItem\\\"}, {\\\"attributes\\\": {}, \\\"id\\\": \\\"2628\\\", \\\"type\\\": \\\"UnionRenderers\\\"}, {\\\"attributes\\\": {}, \\\"id\\\": \\\"2615\\\", \\\"type\\\": \\\"Selection\\\"}, {\\\"attributes\\\": {\\\"line_alpha\\\": 0.2, \\\"line_color\\\": \\\"#1f77b3\\\", \\\"line_width\\\": 2, \\\"x\\\": {\\\"field\\\": \\\"year\\\"}, \\\"y\\\": {\\\"field\\\": \\\"value\\\"}}, \\\"id\\\": \\\"2619\\\", \\\"type\\\": \\\"Line\\\"}, {\\\"attributes\\\": {}, \\\"id\\\": \\\"2633\\\", \\\"type\\\": \\\"Selection\\\"}]}\",\"header\":\"{\\\"msgid\\\": \\\"3537\\\", \\\"msgtype\\\": \\\"PATCH-DOC\\\"}\",\"metadata\":\"{}\"},\"Pacific Heights\":{\"content\":\"{\\\"events\\\": [{\\\"cols\\\": null, \\\"column_source\\\": {\\\"id\\\": \\\"2614\\\"}, \\\"kind\\\": \\\"ColumnDataChanged\\\", \\\"new\\\": {\\\"Variable\\\": [\\\"gross_rent\\\", \\\"gross_rent\\\", \\\"gross_rent\\\", \\\"gross_rent\\\", \\\"gross_rent\\\", \\\"gross_rent\\\", \\\"gross_rent\\\"], \\\"value\\\": [1239, 1530, 2324, 2971, 3528, 3739, 4390], \\\"year\\\": [\\\"2010\\\", \\\"2011\\\", \\\"2012\\\", \\\"2013\\\", \\\"2014\\\", \\\"2015\\\", \\\"2016\\\"]}}, {\\\"cols\\\": null, \\\"column_source\\\": {\\\"id\\\": \\\"2632\\\"}, \\\"kind\\\": \\\"ColumnDataChanged\\\", \\\"new\\\": {\\\"Variable\\\": [\\\"sale_price_sqr_foot\\\", \\\"sale_price_sqr_foot\\\", \\\"sale_price_sqr_foot\\\", \\\"sale_price_sqr_foot\\\", \\\"sale_price_sqr_foot\\\", \\\"sale_price_sqr_foot\\\", \\\"sale_price_sqr_foot\\\"], \\\"value\\\": {\\\"__ndarray__\\\": \\\"xNYMmEEIf0BGT3H7V9B/QLX7Z+e+UYJANTLZX2N+f0DaISsBRcWJQFibs2OAcYxAktikah0jj0A=\\\", \\\"dtype\\\": \\\"float64\\\", \\\"order\\\": \\\"little\\\", \\\"shape\\\": [7]}, \\\"year\\\": [\\\"2010\\\", \\\"2011\\\", \\\"2012\\\", \\\"2013\\\", \\\"2014\\\", \\\"2015\\\", \\\"2016\\\"]}}, {\\\"attr\\\": \\\"text\\\", \\\"kind\\\": \\\"ModelChanged\\\", \\\"model\\\": {\\\"id\\\": \\\"2582\\\"}, \\\"new\\\": \\\"neighborhood: Pacific Heights\\\"}, {\\\"attr\\\": \\\"right\\\", \\\"kind\\\": \\\"ModelChanged\\\", \\\"model\\\": {\\\"id\\\": \\\"2581\\\"}, \\\"new\\\": [{\\\"id\\\": \\\"2630\\\"}]}], \\\"references\\\": [{\\\"attributes\\\": {\\\"click_policy\\\": \\\"mute\\\", \\\"items\\\": [{\\\"id\\\": \\\"2631\\\"}, {\\\"id\\\": \\\"2650\\\"}], \\\"location\\\": [0, 0], \\\"title\\\": \\\"Variable\\\"}, \\\"id\\\": \\\"2630\\\", \\\"type\\\": \\\"Legend\\\"}, {\\\"attributes\\\": {\\\"line_alpha\\\": 0.1, \\\"line_color\\\": \\\"#1f77b3\\\", \\\"line_width\\\": 2, \\\"x\\\": {\\\"field\\\": \\\"year\\\"}, \\\"y\\\": {\\\"field\\\": \\\"value\\\"}}, \\\"id\\\": \\\"2618\\\", \\\"type\\\": \\\"Line\\\"}, {\\\"attributes\\\": {\\\"source\\\": {\\\"id\\\": \\\"2632\\\"}}, \\\"id\\\": \\\"2639\\\", \\\"type\\\": \\\"CDSView\\\"}, {\\\"attributes\\\": {\\\"label\\\": {\\\"value\\\": \\\"sale_price_sqr_foot\\\"}, \\\"renderers\\\": [{\\\"id\\\": \\\"2638\\\"}]}, \\\"id\\\": \\\"2650\\\", \\\"type\\\": \\\"LegendItem\\\"}, {\\\"attributes\\\": {\\\"data\\\": {\\\"Variable\\\": [\\\"gross_rent\\\", \\\"gross_rent\\\", \\\"gross_rent\\\", \\\"gross_rent\\\", \\\"gross_rent\\\", \\\"gross_rent\\\", \\\"gross_rent\\\"], \\\"value\\\": [1239, 1530, 2324, 2971, 3528, 3739, 4390], \\\"year\\\": [\\\"2010\\\", \\\"2011\\\", \\\"2012\\\", \\\"2013\\\", \\\"2014\\\", \\\"2015\\\", \\\"2016\\\"]}, \\\"selected\\\": {\\\"id\\\": \\\"2615\\\"}, \\\"selection_policy\\\": {\\\"id\\\": \\\"2628\\\"}}, \\\"id\\\": \\\"2614\\\", \\\"type\\\": \\\"ColumnDataSource\\\"}, {\\\"attributes\\\": {\\\"data_source\\\": {\\\"id\\\": \\\"2614\\\"}, \\\"glyph\\\": {\\\"id\\\": \\\"2617\\\"}, \\\"hover_glyph\\\": null, \\\"muted_glyph\\\": {\\\"id\\\": \\\"2619\\\"}, \\\"nonselection_glyph\\\": {\\\"id\\\": \\\"2618\\\"}, \\\"selection_glyph\\\": null, \\\"view\\\": {\\\"id\\\": \\\"2621\\\"}}, \\\"id\\\": \\\"2620\\\", \\\"type\\\": \\\"GlyphRenderer\\\"}, {\\\"attributes\\\": {\\\"line_color\\\": \\\"#ff7e0e\\\", \\\"line_width\\\": 2, \\\"x\\\": {\\\"field\\\": \\\"year\\\"}, \\\"y\\\": {\\\"field\\\": \\\"value\\\"}}, \\\"id\\\": \\\"2635\\\", \\\"type\\\": \\\"Line\\\"}, {\\\"attributes\\\": {\\\"line_alpha\\\": 0.2, \\\"line_color\\\": \\\"#ff7e0e\\\", \\\"line_width\\\": 2, \\\"x\\\": {\\\"field\\\": \\\"year\\\"}, \\\"y\\\": {\\\"field\\\": \\\"value\\\"}}, \\\"id\\\": \\\"2637\\\", \\\"type\\\": \\\"Line\\\"}, {\\\"attributes\\\": {\\\"data\\\": {\\\"Variable\\\": [\\\"sale_price_sqr_foot\\\", \\\"sale_price_sqr_foot\\\", \\\"sale_price_sqr_foot\\\", \\\"sale_price_sqr_foot\\\", \\\"sale_price_sqr_foot\\\", \\\"sale_price_sqr_foot\\\", \\\"sale_price_sqr_foot\\\"], \\\"value\\\": {\\\"__ndarray__\\\": \\\"xNYMmEEIf0BGT3H7V9B/QLX7Z+e+UYJANTLZX2N+f0DaISsBRcWJQFibs2OAcYxAktikah0jj0A=\\\", \\\"dtype\\\": \\\"float64\\\", \\\"order\\\": \\\"little\\\", \\\"shape\\\": [7]}, \\\"year\\\": [\\\"2010\\\", \\\"2011\\\", \\\"2012\\\", \\\"2013\\\", \\\"2014\\\", \\\"2015\\\", \\\"2016\\\"]}, \\\"selected\\\": {\\\"id\\\": \\\"2633\\\"}, \\\"selection_policy\\\": {\\\"id\\\": \\\"2648\\\"}}, \\\"id\\\": \\\"2632\\\", \\\"type\\\": \\\"ColumnDataSource\\\"}, {\\\"attributes\\\": {\\\"source\\\": {\\\"id\\\": \\\"2614\\\"}}, \\\"id\\\": \\\"2621\\\", \\\"type\\\": \\\"CDSView\\\"}, {\\\"attributes\\\": {\\\"line_color\\\": \\\"#1f77b3\\\", \\\"line_width\\\": 2, \\\"x\\\": {\\\"field\\\": \\\"year\\\"}, \\\"y\\\": {\\\"field\\\": \\\"value\\\"}}, \\\"id\\\": \\\"2617\\\", \\\"type\\\": \\\"Line\\\"}, {\\\"attributes\\\": {\\\"line_alpha\\\": 0.1, \\\"line_color\\\": \\\"#ff7e0e\\\", \\\"line_width\\\": 2, \\\"x\\\": {\\\"field\\\": \\\"year\\\"}, \\\"y\\\": {\\\"field\\\": \\\"value\\\"}}, \\\"id\\\": \\\"2636\\\", \\\"type\\\": \\\"Line\\\"}, {\\\"attributes\\\": {}, \\\"id\\\": \\\"2648\\\", \\\"type\\\": \\\"UnionRenderers\\\"}, {\\\"attributes\\\": {\\\"data_source\\\": {\\\"id\\\": \\\"2632\\\"}, \\\"glyph\\\": {\\\"id\\\": \\\"2635\\\"}, \\\"hover_glyph\\\": null, \\\"muted_glyph\\\": {\\\"id\\\": \\\"2637\\\"}, \\\"nonselection_glyph\\\": {\\\"id\\\": \\\"2636\\\"}, \\\"selection_glyph\\\": null, \\\"view\\\": {\\\"id\\\": \\\"2639\\\"}}, \\\"id\\\": \\\"2638\\\", \\\"type\\\": \\\"GlyphRenderer\\\"}, {\\\"attributes\\\": {\\\"label\\\": {\\\"value\\\": \\\"gross_rent\\\"}, \\\"renderers\\\": [{\\\"id\\\": \\\"2620\\\"}]}, \\\"id\\\": \\\"2631\\\", \\\"type\\\": \\\"LegendItem\\\"}, {\\\"attributes\\\": {}, \\\"id\\\": \\\"2628\\\", \\\"type\\\": \\\"UnionRenderers\\\"}, {\\\"attributes\\\": {}, \\\"id\\\": \\\"2615\\\", \\\"type\\\": \\\"Selection\\\"}, {\\\"attributes\\\": {\\\"line_alpha\\\": 0.2, \\\"line_color\\\": \\\"#1f77b3\\\", \\\"line_width\\\": 2, \\\"x\\\": {\\\"field\\\": \\\"year\\\"}, \\\"y\\\": {\\\"field\\\": \\\"value\\\"}}, \\\"id\\\": \\\"2619\\\", \\\"type\\\": \\\"Line\\\"}, {\\\"attributes\\\": {}, \\\"id\\\": \\\"2633\\\", \\\"type\\\": \\\"Selection\\\"}]}\",\"header\":\"{\\\"msgid\\\": \\\"3504\\\", \\\"msgtype\\\": \\\"PATCH-DOC\\\"}\",\"metadata\":\"{}\"},\"Park North\":{\"content\":\"{\\\"events\\\": [{\\\"attr\\\": \\\"factors\\\", \\\"kind\\\": \\\"ModelChanged\\\", \\\"model\\\": {\\\"id\\\": \\\"2577\\\"}, \\\"new\\\": [\\\"2010\\\", \\\"2011\\\", \\\"2012\\\", \\\"2013\\\", \\\"2014\\\", \\\"2015\\\", \\\"2016\\\"]}, {\\\"cols\\\": null, \\\"column_source\\\": {\\\"id\\\": \\\"2614\\\"}, \\\"kind\\\": \\\"ColumnDataChanged\\\", \\\"new\\\": {\\\"Variable\\\": [\\\"gross_rent\\\", \\\"gross_rent\\\", \\\"gross_rent\\\", \\\"gross_rent\\\", \\\"gross_rent\\\", \\\"gross_rent\\\", \\\"gross_rent\\\"], \\\"value\\\": [1239, 1530, 2324, 2971, 3528, 3739, 4390], \\\"year\\\": [\\\"2010\\\", \\\"2011\\\", \\\"2012\\\", \\\"2013\\\", \\\"2014\\\", \\\"2015\\\", \\\"2016\\\"]}}, {\\\"cols\\\": null, \\\"column_source\\\": {\\\"id\\\": \\\"2632\\\"}, \\\"kind\\\": \\\"ColumnDataChanged\\\", \\\"new\\\": {\\\"Variable\\\": [\\\"sale_price_sqr_foot\\\", \\\"sale_price_sqr_foot\\\", \\\"sale_price_sqr_foot\\\", \\\"sale_price_sqr_foot\\\", \\\"sale_price_sqr_foot\\\", \\\"sale_price_sqr_foot\\\", \\\"sale_price_sqr_foot\\\"], \\\"value\\\": {\\\"__ndarray__\\\": \\\"PTKCP0ZgdECglLmJsBlyQAQj45xBAXJAHcH4twsFgEB6Pk21yT53QIxwU0CURINAbp9n0qRpakA=\\\", \\\"dtype\\\": \\\"float64\\\", \\\"order\\\": \\\"little\\\", \\\"shape\\\": [7]}, \\\"year\\\": [\\\"2010\\\", \\\"2011\\\", \\\"2012\\\", \\\"2013\\\", \\\"2014\\\", \\\"2015\\\", \\\"2016\\\"]}}, {\\\"attr\\\": \\\"text\\\", \\\"kind\\\": \\\"ModelChanged\\\", \\\"model\\\": {\\\"id\\\": \\\"2582\\\"}, \\\"new\\\": \\\"neighborhood: Park North\\\"}, {\\\"attr\\\": \\\"right\\\", \\\"kind\\\": \\\"ModelChanged\\\", \\\"model\\\": {\\\"id\\\": \\\"2581\\\"}, \\\"new\\\": [{\\\"id\\\": \\\"2630\\\"}]}], \\\"references\\\": [{\\\"attributes\\\": {\\\"click_policy\\\": \\\"mute\\\", \\\"items\\\": [{\\\"id\\\": \\\"2631\\\"}, {\\\"id\\\": \\\"2650\\\"}], \\\"location\\\": [0, 0], \\\"title\\\": \\\"Variable\\\"}, \\\"id\\\": \\\"2630\\\", \\\"type\\\": \\\"Legend\\\"}, {\\\"attributes\\\": {\\\"line_alpha\\\": 0.1, \\\"line_color\\\": \\\"#1f77b3\\\", \\\"line_width\\\": 2, \\\"x\\\": {\\\"field\\\": \\\"year\\\"}, \\\"y\\\": {\\\"field\\\": \\\"value\\\"}}, \\\"id\\\": \\\"2618\\\", \\\"type\\\": \\\"Line\\\"}, {\\\"attributes\\\": {\\\"source\\\": {\\\"id\\\": \\\"2632\\\"}}, \\\"id\\\": \\\"2639\\\", \\\"type\\\": \\\"CDSView\\\"}, {\\\"attributes\\\": {\\\"label\\\": {\\\"value\\\": \\\"sale_price_sqr_foot\\\"}, \\\"renderers\\\": [{\\\"id\\\": \\\"2638\\\"}]}, \\\"id\\\": \\\"2650\\\", \\\"type\\\": \\\"LegendItem\\\"}, {\\\"attributes\\\": {\\\"data\\\": {\\\"Variable\\\": [\\\"gross_rent\\\", \\\"gross_rent\\\", \\\"gross_rent\\\", \\\"gross_rent\\\", \\\"gross_rent\\\", \\\"gross_rent\\\", \\\"gross_rent\\\"], \\\"value\\\": [1239, 1530, 2324, 2971, 3528, 3739, 4390], \\\"year\\\": [\\\"2010\\\", \\\"2011\\\", \\\"2012\\\", \\\"2013\\\", \\\"2014\\\", \\\"2015\\\", \\\"2016\\\"]}, \\\"selected\\\": {\\\"id\\\": \\\"2615\\\"}, \\\"selection_policy\\\": {\\\"id\\\": \\\"2628\\\"}}, \\\"id\\\": \\\"2614\\\", \\\"type\\\": \\\"ColumnDataSource\\\"}, {\\\"attributes\\\": {\\\"data_source\\\": {\\\"id\\\": \\\"2614\\\"}, \\\"glyph\\\": {\\\"id\\\": \\\"2617\\\"}, \\\"hover_glyph\\\": null, \\\"muted_glyph\\\": {\\\"id\\\": \\\"2619\\\"}, \\\"nonselection_glyph\\\": {\\\"id\\\": \\\"2618\\\"}, \\\"selection_glyph\\\": null, \\\"view\\\": {\\\"id\\\": \\\"2621\\\"}}, \\\"id\\\": \\\"2620\\\", \\\"type\\\": \\\"GlyphRenderer\\\"}, {\\\"attributes\\\": {\\\"line_color\\\": \\\"#ff7e0e\\\", \\\"line_width\\\": 2, \\\"x\\\": {\\\"field\\\": \\\"year\\\"}, \\\"y\\\": {\\\"field\\\": \\\"value\\\"}}, \\\"id\\\": \\\"2635\\\", \\\"type\\\": \\\"Line\\\"}, {\\\"attributes\\\": {\\\"line_alpha\\\": 0.2, \\\"line_color\\\": \\\"#ff7e0e\\\", \\\"line_width\\\": 2, \\\"x\\\": {\\\"field\\\": \\\"year\\\"}, \\\"y\\\": {\\\"field\\\": \\\"value\\\"}}, \\\"id\\\": \\\"2637\\\", \\\"type\\\": \\\"Line\\\"}, {\\\"attributes\\\": {\\\"data\\\": {\\\"Variable\\\": [\\\"sale_price_sqr_foot\\\", \\\"sale_price_sqr_foot\\\", \\\"sale_price_sqr_foot\\\", \\\"sale_price_sqr_foot\\\", \\\"sale_price_sqr_foot\\\", \\\"sale_price_sqr_foot\\\", \\\"sale_price_sqr_foot\\\"], \\\"value\\\": {\\\"__ndarray__\\\": \\\"PTKCP0ZgdECglLmJsBlyQAQj45xBAXJAHcH4twsFgEB6Pk21yT53QIxwU0CURINAbp9n0qRpakA=\\\", \\\"dtype\\\": \\\"float64\\\", \\\"order\\\": \\\"little\\\", \\\"shape\\\": [7]}, \\\"year\\\": [\\\"2010\\\", \\\"2011\\\", \\\"2012\\\", \\\"2013\\\", \\\"2014\\\", \\\"2015\\\", \\\"2016\\\"]}, \\\"selected\\\": {\\\"id\\\": \\\"2633\\\"}, \\\"selection_policy\\\": {\\\"id\\\": \\\"2648\\\"}}, \\\"id\\\": \\\"2632\\\", \\\"type\\\": \\\"ColumnDataSource\\\"}, {\\\"attributes\\\": {\\\"source\\\": {\\\"id\\\": \\\"2614\\\"}}, \\\"id\\\": \\\"2621\\\", \\\"type\\\": \\\"CDSView\\\"}, {\\\"attributes\\\": {\\\"line_color\\\": \\\"#1f77b3\\\", \\\"line_width\\\": 2, \\\"x\\\": {\\\"field\\\": \\\"year\\\"}, \\\"y\\\": {\\\"field\\\": \\\"value\\\"}}, \\\"id\\\": \\\"2617\\\", \\\"type\\\": \\\"Line\\\"}, {\\\"attributes\\\": {\\\"line_alpha\\\": 0.1, \\\"line_color\\\": \\\"#ff7e0e\\\", \\\"line_width\\\": 2, \\\"x\\\": {\\\"field\\\": \\\"year\\\"}, \\\"y\\\": {\\\"field\\\": \\\"value\\\"}}, \\\"id\\\": \\\"2636\\\", \\\"type\\\": \\\"Line\\\"}, {\\\"attributes\\\": {}, \\\"id\\\": \\\"2648\\\", \\\"type\\\": \\\"UnionRenderers\\\"}, {\\\"attributes\\\": {\\\"data_source\\\": {\\\"id\\\": \\\"2632\\\"}, \\\"glyph\\\": {\\\"id\\\": \\\"2635\\\"}, \\\"hover_glyph\\\": null, \\\"muted_glyph\\\": {\\\"id\\\": \\\"2637\\\"}, \\\"nonselection_glyph\\\": {\\\"id\\\": \\\"2636\\\"}, \\\"selection_glyph\\\": null, \\\"view\\\": {\\\"id\\\": \\\"2639\\\"}}, \\\"id\\\": \\\"2638\\\", \\\"type\\\": \\\"GlyphRenderer\\\"}, {\\\"attributes\\\": {\\\"label\\\": {\\\"value\\\": \\\"gross_rent\\\"}, \\\"renderers\\\": [{\\\"id\\\": \\\"2620\\\"}]}, \\\"id\\\": \\\"2631\\\", \\\"type\\\": \\\"LegendItem\\\"}, {\\\"attributes\\\": {}, \\\"id\\\": \\\"2628\\\", \\\"type\\\": \\\"UnionRenderers\\\"}, {\\\"attributes\\\": {}, \\\"id\\\": \\\"2615\\\", \\\"type\\\": \\\"Selection\\\"}, {\\\"attributes\\\": {\\\"line_alpha\\\": 0.2, \\\"line_color\\\": \\\"#1f77b3\\\", \\\"line_width\\\": 2, \\\"x\\\": {\\\"field\\\": \\\"year\\\"}, \\\"y\\\": {\\\"field\\\": \\\"value\\\"}}, \\\"id\\\": \\\"2619\\\", \\\"type\\\": \\\"Line\\\"}, {\\\"attributes\\\": {}, \\\"id\\\": \\\"2633\\\", \\\"type\\\": \\\"Selection\\\"}]}\",\"header\":\"{\\\"msgid\\\": \\\"3471\\\", \\\"msgtype\\\": \\\"PATCH-DOC\\\"}\",\"metadata\":\"{}\"},\"Parkside\":{\"content\":\"{\\\"events\\\": [{\\\"attr\\\": \\\"factors\\\", \\\"kind\\\": \\\"ModelChanged\\\", \\\"model\\\": {\\\"id\\\": \\\"2577\\\"}, \\\"new\\\": [\\\"2010\\\", \\\"2011\\\", \\\"2012\\\", \\\"2013\\\", \\\"2014\\\", \\\"2015\\\"]}, {\\\"cols\\\": null, \\\"column_source\\\": {\\\"id\\\": \\\"2614\\\"}, \\\"kind\\\": \\\"ColumnDataChanged\\\", \\\"new\\\": {\\\"Variable\\\": [\\\"gross_rent\\\", \\\"gross_rent\\\", \\\"gross_rent\\\", \\\"gross_rent\\\", \\\"gross_rent\\\", \\\"gross_rent\\\"], \\\"value\\\": [1239, 1530, 2324, 2971, 3528, 3739], \\\"year\\\": [\\\"2010\\\", \\\"2011\\\", \\\"2012\\\", \\\"2013\\\", \\\"2014\\\", \\\"2015\\\"]}}, {\\\"cols\\\": null, \\\"column_source\\\": {\\\"id\\\": \\\"2632\\\"}, \\\"kind\\\": \\\"ColumnDataChanged\\\", \\\"new\\\": {\\\"Variable\\\": [\\\"sale_price_sqr_foot\\\", \\\"sale_price_sqr_foot\\\", \\\"sale_price_sqr_foot\\\", \\\"sale_price_sqr_foot\\\", \\\"sale_price_sqr_foot\\\", \\\"sale_price_sqr_foot\\\"], \\\"value\\\": {\\\"__ndarray__\\\": \\\"jNs5+aoicUATPfOU4TFrQAWYW85hpHdAiGIrlP7JdkC/o97y0+N7QAAAAAAAAPh/\\\", \\\"dtype\\\": \\\"float64\\\", \\\"order\\\": \\\"little\\\", \\\"shape\\\": [6]}, \\\"year\\\": [\\\"2010\\\", \\\"2011\\\", \\\"2012\\\", \\\"2013\\\", \\\"2014\\\", \\\"2015\\\"]}}, {\\\"attr\\\": \\\"text\\\", \\\"kind\\\": \\\"ModelChanged\\\", \\\"model\\\": {\\\"id\\\": \\\"2582\\\"}, \\\"new\\\": \\\"neighborhood: Parkside\\\"}, {\\\"attr\\\": \\\"right\\\", \\\"kind\\\": \\\"ModelChanged\\\", \\\"model\\\": {\\\"id\\\": \\\"2581\\\"}, \\\"new\\\": [{\\\"id\\\": \\\"2630\\\"}]}], \\\"references\\\": [{\\\"attributes\\\": {\\\"click_policy\\\": \\\"mute\\\", \\\"items\\\": [{\\\"id\\\": \\\"2631\\\"}, {\\\"id\\\": \\\"2650\\\"}], \\\"location\\\": [0, 0], \\\"title\\\": \\\"Variable\\\"}, \\\"id\\\": \\\"2630\\\", \\\"type\\\": \\\"Legend\\\"}, {\\\"attributes\\\": {\\\"line_alpha\\\": 0.1, \\\"line_color\\\": \\\"#1f77b3\\\", \\\"line_width\\\": 2, \\\"x\\\": {\\\"field\\\": \\\"year\\\"}, \\\"y\\\": {\\\"field\\\": \\\"value\\\"}}, \\\"id\\\": \\\"2618\\\", \\\"type\\\": \\\"Line\\\"}, {\\\"attributes\\\": {\\\"source\\\": {\\\"id\\\": \\\"2632\\\"}}, \\\"id\\\": \\\"2639\\\", \\\"type\\\": \\\"CDSView\\\"}, {\\\"attributes\\\": {\\\"label\\\": {\\\"value\\\": \\\"sale_price_sqr_foot\\\"}, \\\"renderers\\\": [{\\\"id\\\": \\\"2638\\\"}]}, \\\"id\\\": \\\"2650\\\", \\\"type\\\": \\\"LegendItem\\\"}, {\\\"attributes\\\": {\\\"data\\\": {\\\"Variable\\\": [\\\"gross_rent\\\", \\\"gross_rent\\\", \\\"gross_rent\\\", \\\"gross_rent\\\", \\\"gross_rent\\\", \\\"gross_rent\\\"], \\\"value\\\": [1239, 1530, 2324, 2971, 3528, 3739], \\\"year\\\": [\\\"2010\\\", \\\"2011\\\", \\\"2012\\\", \\\"2013\\\", \\\"2014\\\", \\\"2015\\\"]}, \\\"selected\\\": {\\\"id\\\": \\\"2615\\\"}, \\\"selection_policy\\\": {\\\"id\\\": \\\"2628\\\"}}, \\\"id\\\": \\\"2614\\\", \\\"type\\\": \\\"ColumnDataSource\\\"}, {\\\"attributes\\\": {\\\"data_source\\\": {\\\"id\\\": \\\"2614\\\"}, \\\"glyph\\\": {\\\"id\\\": \\\"2617\\\"}, \\\"hover_glyph\\\": null, \\\"muted_glyph\\\": {\\\"id\\\": \\\"2619\\\"}, \\\"nonselection_glyph\\\": {\\\"id\\\": \\\"2618\\\"}, \\\"selection_glyph\\\": null, \\\"view\\\": {\\\"id\\\": \\\"2621\\\"}}, \\\"id\\\": \\\"2620\\\", \\\"type\\\": \\\"GlyphRenderer\\\"}, {\\\"attributes\\\": {\\\"line_color\\\": \\\"#ff7e0e\\\", \\\"line_width\\\": 2, \\\"x\\\": {\\\"field\\\": \\\"year\\\"}, \\\"y\\\": {\\\"field\\\": \\\"value\\\"}}, \\\"id\\\": \\\"2635\\\", \\\"type\\\": \\\"Line\\\"}, {\\\"attributes\\\": {\\\"line_alpha\\\": 0.2, \\\"line_color\\\": \\\"#ff7e0e\\\", \\\"line_width\\\": 2, \\\"x\\\": {\\\"field\\\": \\\"year\\\"}, \\\"y\\\": {\\\"field\\\": \\\"value\\\"}}, \\\"id\\\": \\\"2637\\\", \\\"type\\\": \\\"Line\\\"}, {\\\"attributes\\\": {\\\"data\\\": {\\\"Variable\\\": [\\\"sale_price_sqr_foot\\\", \\\"sale_price_sqr_foot\\\", \\\"sale_price_sqr_foot\\\", \\\"sale_price_sqr_foot\\\", \\\"sale_price_sqr_foot\\\", \\\"sale_price_sqr_foot\\\"], \\\"value\\\": {\\\"__ndarray__\\\": \\\"jNs5+aoicUATPfOU4TFrQAWYW85hpHdAiGIrlP7JdkC/o97y0+N7QAAAAAAAAPh/\\\", \\\"dtype\\\": \\\"float64\\\", \\\"order\\\": \\\"little\\\", \\\"shape\\\": [6]}, \\\"year\\\": [\\\"2010\\\", \\\"2011\\\", \\\"2012\\\", \\\"2013\\\", \\\"2014\\\", \\\"2015\\\"]}, \\\"selected\\\": {\\\"id\\\": \\\"2633\\\"}, \\\"selection_policy\\\": {\\\"id\\\": \\\"2648\\\"}}, \\\"id\\\": \\\"2632\\\", \\\"type\\\": \\\"ColumnDataSource\\\"}, {\\\"attributes\\\": {\\\"source\\\": {\\\"id\\\": \\\"2614\\\"}}, \\\"id\\\": \\\"2621\\\", \\\"type\\\": \\\"CDSView\\\"}, {\\\"attributes\\\": {\\\"line_color\\\": \\\"#1f77b3\\\", \\\"line_width\\\": 2, \\\"x\\\": {\\\"field\\\": \\\"year\\\"}, \\\"y\\\": {\\\"field\\\": \\\"value\\\"}}, \\\"id\\\": \\\"2617\\\", \\\"type\\\": \\\"Line\\\"}, {\\\"attributes\\\": {\\\"line_alpha\\\": 0.1, \\\"line_color\\\": \\\"#ff7e0e\\\", \\\"line_width\\\": 2, \\\"x\\\": {\\\"field\\\": \\\"year\\\"}, \\\"y\\\": {\\\"field\\\": \\\"value\\\"}}, \\\"id\\\": \\\"2636\\\", \\\"type\\\": \\\"Line\\\"}, {\\\"attributes\\\": {}, \\\"id\\\": \\\"2648\\\", \\\"type\\\": \\\"UnionRenderers\\\"}, {\\\"attributes\\\": {\\\"data_source\\\": {\\\"id\\\": \\\"2632\\\"}, \\\"glyph\\\": {\\\"id\\\": \\\"2635\\\"}, \\\"hover_glyph\\\": null, \\\"muted_glyph\\\": {\\\"id\\\": \\\"2637\\\"}, \\\"nonselection_glyph\\\": {\\\"id\\\": \\\"2636\\\"}, \\\"selection_glyph\\\": null, \\\"view\\\": {\\\"id\\\": \\\"2639\\\"}}, \\\"id\\\": \\\"2638\\\", \\\"type\\\": \\\"GlyphRenderer\\\"}, {\\\"attributes\\\": {\\\"label\\\": {\\\"value\\\": \\\"gross_rent\\\"}, \\\"renderers\\\": [{\\\"id\\\": \\\"2620\\\"}]}, \\\"id\\\": \\\"2631\\\", \\\"type\\\": \\\"LegendItem\\\"}, {\\\"attributes\\\": {}, \\\"id\\\": \\\"2628\\\", \\\"type\\\": \\\"UnionRenderers\\\"}, {\\\"attributes\\\": {}, \\\"id\\\": \\\"2615\\\", \\\"type\\\": \\\"Selection\\\"}, {\\\"attributes\\\": {\\\"line_alpha\\\": 0.2, \\\"line_color\\\": \\\"#1f77b3\\\", \\\"line_width\\\": 2, \\\"x\\\": {\\\"field\\\": \\\"year\\\"}, \\\"y\\\": {\\\"field\\\": \\\"value\\\"}}, \\\"id\\\": \\\"2619\\\", \\\"type\\\": \\\"Line\\\"}, {\\\"attributes\\\": {}, \\\"id\\\": \\\"2633\\\", \\\"type\\\": \\\"Selection\\\"}]}\",\"header\":\"{\\\"msgid\\\": \\\"3438\\\", \\\"msgtype\\\": \\\"PATCH-DOC\\\"}\",\"metadata\":\"{}\"},\"Parnassus/Ashbury Heights\":{\"content\":\"{\\\"events\\\": [{\\\"attr\\\": \\\"factors\\\", \\\"kind\\\": \\\"ModelChanged\\\", \\\"model\\\": {\\\"id\\\": \\\"2577\\\"}, \\\"new\\\": [\\\"2010\\\", \\\"2011\\\", \\\"2012\\\", \\\"2013\\\", \\\"2014\\\", \\\"2015\\\", \\\"2016\\\"]}, {\\\"cols\\\": null, \\\"column_source\\\": {\\\"id\\\": \\\"2614\\\"}, \\\"kind\\\": \\\"ColumnDataChanged\\\", \\\"new\\\": {\\\"Variable\\\": [\\\"gross_rent\\\", \\\"gross_rent\\\", \\\"gross_rent\\\", \\\"gross_rent\\\", \\\"gross_rent\\\", \\\"gross_rent\\\", \\\"gross_rent\\\"], \\\"value\\\": [1239, 1530, 2324, 2971, 3528, 3739, 4390], \\\"year\\\": [\\\"2010\\\", \\\"2011\\\", \\\"2012\\\", \\\"2013\\\", \\\"2014\\\", \\\"2015\\\", \\\"2016\\\"]}}, {\\\"cols\\\": null, \\\"column_source\\\": {\\\"id\\\": \\\"2632\\\"}, \\\"kind\\\": \\\"ColumnDataChanged\\\", \\\"new\\\": {\\\"Variable\\\": [\\\"sale_price_sqr_foot\\\", \\\"sale_price_sqr_foot\\\", \\\"sale_price_sqr_foot\\\", \\\"sale_price_sqr_foot\\\", \\\"sale_price_sqr_foot\\\", \\\"sale_price_sqr_foot\\\", \\\"sale_price_sqr_foot\\\"], \\\"value\\\": {\\\"__ndarray__\\\": \\\"g4gEfxQke0DyEqbo4il9QIwLoVteH4BAIpiGrUaaekD6hZfDPyuIQI7cJCG/6oJAYp+hbP3fkkA=\\\", \\\"dtype\\\": \\\"float64\\\", \\\"order\\\": \\\"little\\\", \\\"shape\\\": [7]}, \\\"year\\\": [\\\"2010\\\", \\\"2011\\\", \\\"2012\\\", \\\"2013\\\", \\\"2014\\\", \\\"2015\\\", \\\"2016\\\"]}}, {\\\"attr\\\": \\\"text\\\", \\\"kind\\\": \\\"ModelChanged\\\", \\\"model\\\": {\\\"id\\\": \\\"2582\\\"}, \\\"new\\\": \\\"neighborhood: Parnassus/Ashbury Heights\\\"}, {\\\"attr\\\": \\\"right\\\", \\\"kind\\\": \\\"ModelChanged\\\", \\\"model\\\": {\\\"id\\\": \\\"2581\\\"}, \\\"new\\\": [{\\\"id\\\": \\\"2630\\\"}]}], \\\"references\\\": [{\\\"attributes\\\": {\\\"click_policy\\\": \\\"mute\\\", \\\"items\\\": [{\\\"id\\\": \\\"2631\\\"}, {\\\"id\\\": \\\"2650\\\"}], \\\"location\\\": [0, 0], \\\"title\\\": \\\"Variable\\\"}, \\\"id\\\": \\\"2630\\\", \\\"type\\\": \\\"Legend\\\"}, {\\\"attributes\\\": {\\\"line_alpha\\\": 0.1, \\\"line_color\\\": \\\"#1f77b3\\\", \\\"line_width\\\": 2, \\\"x\\\": {\\\"field\\\": \\\"year\\\"}, \\\"y\\\": {\\\"field\\\": \\\"value\\\"}}, \\\"id\\\": \\\"2618\\\", \\\"type\\\": \\\"Line\\\"}, {\\\"attributes\\\": {\\\"source\\\": {\\\"id\\\": \\\"2632\\\"}}, \\\"id\\\": \\\"2639\\\", \\\"type\\\": \\\"CDSView\\\"}, {\\\"attributes\\\": {\\\"label\\\": {\\\"value\\\": \\\"sale_price_sqr_foot\\\"}, \\\"renderers\\\": [{\\\"id\\\": \\\"2638\\\"}]}, \\\"id\\\": \\\"2650\\\", \\\"type\\\": \\\"LegendItem\\\"}, {\\\"attributes\\\": {\\\"data\\\": {\\\"Variable\\\": [\\\"gross_rent\\\", \\\"gross_rent\\\", \\\"gross_rent\\\", \\\"gross_rent\\\", \\\"gross_rent\\\", \\\"gross_rent\\\", \\\"gross_rent\\\"], \\\"value\\\": [1239, 1530, 2324, 2971, 3528, 3739, 4390], \\\"year\\\": [\\\"2010\\\", \\\"2011\\\", \\\"2012\\\", \\\"2013\\\", \\\"2014\\\", \\\"2015\\\", \\\"2016\\\"]}, \\\"selected\\\": {\\\"id\\\": \\\"2615\\\"}, \\\"selection_policy\\\": {\\\"id\\\": \\\"2628\\\"}}, \\\"id\\\": \\\"2614\\\", \\\"type\\\": \\\"ColumnDataSource\\\"}, {\\\"attributes\\\": {\\\"data_source\\\": {\\\"id\\\": \\\"2614\\\"}, \\\"glyph\\\": {\\\"id\\\": \\\"2617\\\"}, \\\"hover_glyph\\\": null, \\\"muted_glyph\\\": {\\\"id\\\": \\\"2619\\\"}, \\\"nonselection_glyph\\\": {\\\"id\\\": \\\"2618\\\"}, \\\"selection_glyph\\\": null, \\\"view\\\": {\\\"id\\\": \\\"2621\\\"}}, \\\"id\\\": \\\"2620\\\", \\\"type\\\": \\\"GlyphRenderer\\\"}, {\\\"attributes\\\": {\\\"line_color\\\": \\\"#ff7e0e\\\", \\\"line_width\\\": 2, \\\"x\\\": {\\\"field\\\": \\\"year\\\"}, \\\"y\\\": {\\\"field\\\": \\\"value\\\"}}, \\\"id\\\": \\\"2635\\\", \\\"type\\\": \\\"Line\\\"}, {\\\"attributes\\\": {\\\"line_alpha\\\": 0.2, \\\"line_color\\\": \\\"#ff7e0e\\\", \\\"line_width\\\": 2, \\\"x\\\": {\\\"field\\\": \\\"year\\\"}, \\\"y\\\": {\\\"field\\\": \\\"value\\\"}}, \\\"id\\\": \\\"2637\\\", \\\"type\\\": \\\"Line\\\"}, {\\\"attributes\\\": {\\\"data\\\": {\\\"Variable\\\": [\\\"sale_price_sqr_foot\\\", \\\"sale_price_sqr_foot\\\", \\\"sale_price_sqr_foot\\\", \\\"sale_price_sqr_foot\\\", \\\"sale_price_sqr_foot\\\", \\\"sale_price_sqr_foot\\\", \\\"sale_price_sqr_foot\\\"], \\\"value\\\": {\\\"__ndarray__\\\": \\\"g4gEfxQke0DyEqbo4il9QIwLoVteH4BAIpiGrUaaekD6hZfDPyuIQI7cJCG/6oJAYp+hbP3fkkA=\\\", \\\"dtype\\\": \\\"float64\\\", \\\"order\\\": \\\"little\\\", \\\"shape\\\": [7]}, \\\"year\\\": [\\\"2010\\\", \\\"2011\\\", \\\"2012\\\", \\\"2013\\\", \\\"2014\\\", \\\"2015\\\", \\\"2016\\\"]}, \\\"selected\\\": {\\\"id\\\": \\\"2633\\\"}, \\\"selection_policy\\\": {\\\"id\\\": \\\"2648\\\"}}, \\\"id\\\": \\\"2632\\\", \\\"type\\\": \\\"ColumnDataSource\\\"}, {\\\"attributes\\\": {\\\"source\\\": {\\\"id\\\": \\\"2614\\\"}}, \\\"id\\\": \\\"2621\\\", \\\"type\\\": \\\"CDSView\\\"}, {\\\"attributes\\\": {\\\"line_color\\\": \\\"#1f77b3\\\", \\\"line_width\\\": 2, \\\"x\\\": {\\\"field\\\": \\\"year\\\"}, \\\"y\\\": {\\\"field\\\": \\\"value\\\"}}, \\\"id\\\": \\\"2617\\\", \\\"type\\\": \\\"Line\\\"}, {\\\"attributes\\\": {\\\"line_alpha\\\": 0.1, \\\"line_color\\\": \\\"#ff7e0e\\\", \\\"line_width\\\": 2, \\\"x\\\": {\\\"field\\\": \\\"year\\\"}, \\\"y\\\": {\\\"field\\\": \\\"value\\\"}}, \\\"id\\\": \\\"2636\\\", \\\"type\\\": \\\"Line\\\"}, {\\\"attributes\\\": {}, \\\"id\\\": \\\"2648\\\", \\\"type\\\": \\\"UnionRenderers\\\"}, {\\\"attributes\\\": {\\\"data_source\\\": {\\\"id\\\": \\\"2632\\\"}, \\\"glyph\\\": {\\\"id\\\": \\\"2635\\\"}, \\\"hover_glyph\\\": null, \\\"muted_glyph\\\": {\\\"id\\\": \\\"2637\\\"}, \\\"nonselection_glyph\\\": {\\\"id\\\": \\\"2636\\\"}, \\\"selection_glyph\\\": null, \\\"view\\\": {\\\"id\\\": \\\"2639\\\"}}, \\\"id\\\": \\\"2638\\\", \\\"type\\\": \\\"GlyphRenderer\\\"}, {\\\"attributes\\\": {\\\"label\\\": {\\\"value\\\": \\\"gross_rent\\\"}, \\\"renderers\\\": [{\\\"id\\\": \\\"2620\\\"}]}, \\\"id\\\": \\\"2631\\\", \\\"type\\\": \\\"LegendItem\\\"}, {\\\"attributes\\\": {}, \\\"id\\\": \\\"2628\\\", \\\"type\\\": \\\"UnionRenderers\\\"}, {\\\"attributes\\\": {}, \\\"id\\\": \\\"2615\\\", \\\"type\\\": \\\"Selection\\\"}, {\\\"attributes\\\": {\\\"line_alpha\\\": 0.2, \\\"line_color\\\": \\\"#1f77b3\\\", \\\"line_width\\\": 2, \\\"x\\\": {\\\"field\\\": \\\"year\\\"}, \\\"y\\\": {\\\"field\\\": \\\"value\\\"}}, \\\"id\\\": \\\"2619\\\", \\\"type\\\": \\\"Line\\\"}, {\\\"attributes\\\": {}, \\\"id\\\": \\\"2633\\\", \\\"type\\\": \\\"Selection\\\"}]}\",\"header\":\"{\\\"msgid\\\": \\\"3405\\\", \\\"msgtype\\\": \\\"PATCH-DOC\\\"}\",\"metadata\":\"{}\"},\"Portola\":{\"content\":\"{\\\"events\\\": [{\\\"attr\\\": \\\"factors\\\", \\\"kind\\\": \\\"ModelChanged\\\", \\\"model\\\": {\\\"id\\\": \\\"2577\\\"}, \\\"new\\\": [\\\"2010\\\", \\\"2011\\\", \\\"2012\\\", \\\"2013\\\", \\\"2014\\\"]}, {\\\"cols\\\": null, \\\"column_source\\\": {\\\"id\\\": \\\"2614\\\"}, \\\"kind\\\": \\\"ColumnDataChanged\\\", \\\"new\\\": {\\\"Variable\\\": [\\\"gross_rent\\\", \\\"gross_rent\\\", \\\"gross_rent\\\", \\\"gross_rent\\\", \\\"gross_rent\\\"], \\\"value\\\": [1239, 1530, 2324, 2971, 3528], \\\"year\\\": [\\\"2010\\\", \\\"2011\\\", \\\"2012\\\", \\\"2013\\\", \\\"2014\\\"]}}, {\\\"cols\\\": null, \\\"column_source\\\": {\\\"id\\\": \\\"2632\\\"}, \\\"kind\\\": \\\"ColumnDataChanged\\\", \\\"new\\\": {\\\"Variable\\\": [\\\"sale_price_sqr_foot\\\", \\\"sale_price_sqr_foot\\\", \\\"sale_price_sqr_foot\\\", \\\"sale_price_sqr_foot\\\", \\\"sale_price_sqr_foot\\\"], \\\"value\\\": {\\\"__ndarray__\\\": \\\"SE2NcH/ickDYhLc6YAVqQMhgbA2x8HVArI0kR+x/bUDI9wE5o9GAQA==\\\", \\\"dtype\\\": \\\"float64\\\", \\\"order\\\": \\\"little\\\", \\\"shape\\\": [5]}, \\\"year\\\": [\\\"2010\\\", \\\"2011\\\", \\\"2012\\\", \\\"2013\\\", \\\"2014\\\"]}}, {\\\"attr\\\": \\\"text\\\", \\\"kind\\\": \\\"ModelChanged\\\", \\\"model\\\": {\\\"id\\\": \\\"2582\\\"}, \\\"new\\\": \\\"neighborhood: Portola\\\"}, {\\\"attr\\\": \\\"right\\\", \\\"kind\\\": \\\"ModelChanged\\\", \\\"model\\\": {\\\"id\\\": \\\"2581\\\"}, \\\"new\\\": [{\\\"id\\\": \\\"2630\\\"}]}], \\\"references\\\": [{\\\"attributes\\\": {\\\"click_policy\\\": \\\"mute\\\", \\\"items\\\": [{\\\"id\\\": \\\"2631\\\"}, {\\\"id\\\": \\\"2650\\\"}], \\\"location\\\": [0, 0], \\\"title\\\": \\\"Variable\\\"}, \\\"id\\\": \\\"2630\\\", \\\"type\\\": \\\"Legend\\\"}, {\\\"attributes\\\": {\\\"line_alpha\\\": 0.1, \\\"line_color\\\": \\\"#1f77b3\\\", \\\"line_width\\\": 2, \\\"x\\\": {\\\"field\\\": \\\"year\\\"}, \\\"y\\\": {\\\"field\\\": \\\"value\\\"}}, \\\"id\\\": \\\"2618\\\", \\\"type\\\": \\\"Line\\\"}, {\\\"attributes\\\": {\\\"source\\\": {\\\"id\\\": \\\"2632\\\"}}, \\\"id\\\": \\\"2639\\\", \\\"type\\\": \\\"CDSView\\\"}, {\\\"attributes\\\": {\\\"label\\\": {\\\"value\\\": \\\"sale_price_sqr_foot\\\"}, \\\"renderers\\\": [{\\\"id\\\": \\\"2638\\\"}]}, \\\"id\\\": \\\"2650\\\", \\\"type\\\": \\\"LegendItem\\\"}, {\\\"attributes\\\": {\\\"data\\\": {\\\"Variable\\\": [\\\"gross_rent\\\", \\\"gross_rent\\\", \\\"gross_rent\\\", \\\"gross_rent\\\", \\\"gross_rent\\\"], \\\"value\\\": [1239, 1530, 2324, 2971, 3528], \\\"year\\\": [\\\"2010\\\", \\\"2011\\\", \\\"2012\\\", \\\"2013\\\", \\\"2014\\\"]}, \\\"selected\\\": {\\\"id\\\": \\\"2615\\\"}, \\\"selection_policy\\\": {\\\"id\\\": \\\"2628\\\"}}, \\\"id\\\": \\\"2614\\\", \\\"type\\\": \\\"ColumnDataSource\\\"}, {\\\"attributes\\\": {\\\"data_source\\\": {\\\"id\\\": \\\"2614\\\"}, \\\"glyph\\\": {\\\"id\\\": \\\"2617\\\"}, \\\"hover_glyph\\\": null, \\\"muted_glyph\\\": {\\\"id\\\": \\\"2619\\\"}, \\\"nonselection_glyph\\\": {\\\"id\\\": \\\"2618\\\"}, \\\"selection_glyph\\\": null, \\\"view\\\": {\\\"id\\\": \\\"2621\\\"}}, \\\"id\\\": \\\"2620\\\", \\\"type\\\": \\\"GlyphRenderer\\\"}, {\\\"attributes\\\": {\\\"line_color\\\": \\\"#ff7e0e\\\", \\\"line_width\\\": 2, \\\"x\\\": {\\\"field\\\": \\\"year\\\"}, \\\"y\\\": {\\\"field\\\": \\\"value\\\"}}, \\\"id\\\": \\\"2635\\\", \\\"type\\\": \\\"Line\\\"}, {\\\"attributes\\\": {\\\"line_alpha\\\": 0.2, \\\"line_color\\\": \\\"#ff7e0e\\\", \\\"line_width\\\": 2, \\\"x\\\": {\\\"field\\\": \\\"year\\\"}, \\\"y\\\": {\\\"field\\\": \\\"value\\\"}}, \\\"id\\\": \\\"2637\\\", \\\"type\\\": \\\"Line\\\"}, {\\\"attributes\\\": {\\\"data\\\": {\\\"Variable\\\": [\\\"sale_price_sqr_foot\\\", \\\"sale_price_sqr_foot\\\", \\\"sale_price_sqr_foot\\\", \\\"sale_price_sqr_foot\\\", \\\"sale_price_sqr_foot\\\"], \\\"value\\\": {\\\"__ndarray__\\\": \\\"SE2NcH/ickDYhLc6YAVqQMhgbA2x8HVArI0kR+x/bUDI9wE5o9GAQA==\\\", \\\"dtype\\\": \\\"float64\\\", \\\"order\\\": \\\"little\\\", \\\"shape\\\": [5]}, \\\"year\\\": [\\\"2010\\\", \\\"2011\\\", \\\"2012\\\", \\\"2013\\\", \\\"2014\\\"]}, \\\"selected\\\": {\\\"id\\\": \\\"2633\\\"}, \\\"selection_policy\\\": {\\\"id\\\": \\\"2648\\\"}}, \\\"id\\\": \\\"2632\\\", \\\"type\\\": \\\"ColumnDataSource\\\"}, {\\\"attributes\\\": {\\\"source\\\": {\\\"id\\\": \\\"2614\\\"}}, \\\"id\\\": \\\"2621\\\", \\\"type\\\": \\\"CDSView\\\"}, {\\\"attributes\\\": {\\\"line_color\\\": \\\"#1f77b3\\\", \\\"line_width\\\": 2, \\\"x\\\": {\\\"field\\\": \\\"year\\\"}, \\\"y\\\": {\\\"field\\\": \\\"value\\\"}}, \\\"id\\\": \\\"2617\\\", \\\"type\\\": \\\"Line\\\"}, {\\\"attributes\\\": {\\\"line_alpha\\\": 0.1, \\\"line_color\\\": \\\"#ff7e0e\\\", \\\"line_width\\\": 2, \\\"x\\\": {\\\"field\\\": \\\"year\\\"}, \\\"y\\\": {\\\"field\\\": \\\"value\\\"}}, \\\"id\\\": \\\"2636\\\", \\\"type\\\": \\\"Line\\\"}, {\\\"attributes\\\": {}, \\\"id\\\": \\\"2648\\\", \\\"type\\\": \\\"UnionRenderers\\\"}, {\\\"attributes\\\": {\\\"data_source\\\": {\\\"id\\\": \\\"2632\\\"}, \\\"glyph\\\": {\\\"id\\\": \\\"2635\\\"}, \\\"hover_glyph\\\": null, \\\"muted_glyph\\\": {\\\"id\\\": \\\"2637\\\"}, \\\"nonselection_glyph\\\": {\\\"id\\\": \\\"2636\\\"}, \\\"selection_glyph\\\": null, \\\"view\\\": {\\\"id\\\": \\\"2639\\\"}}, \\\"id\\\": \\\"2638\\\", \\\"type\\\": \\\"GlyphRenderer\\\"}, {\\\"attributes\\\": {\\\"label\\\": {\\\"value\\\": \\\"gross_rent\\\"}, \\\"renderers\\\": [{\\\"id\\\": \\\"2620\\\"}]}, \\\"id\\\": \\\"2631\\\", \\\"type\\\": \\\"LegendItem\\\"}, {\\\"attributes\\\": {}, \\\"id\\\": \\\"2628\\\", \\\"type\\\": \\\"UnionRenderers\\\"}, {\\\"attributes\\\": {}, \\\"id\\\": \\\"2615\\\", \\\"type\\\": \\\"Selection\\\"}, {\\\"attributes\\\": {\\\"line_alpha\\\": 0.2, \\\"line_color\\\": \\\"#1f77b3\\\", \\\"line_width\\\": 2, \\\"x\\\": {\\\"field\\\": \\\"year\\\"}, \\\"y\\\": {\\\"field\\\": \\\"value\\\"}}, \\\"id\\\": \\\"2619\\\", \\\"type\\\": \\\"Line\\\"}, {\\\"attributes\\\": {}, \\\"id\\\": \\\"2633\\\", \\\"type\\\": \\\"Selection\\\"}]}\",\"header\":\"{\\\"msgid\\\": \\\"3372\\\", \\\"msgtype\\\": \\\"PATCH-DOC\\\"}\",\"metadata\":\"{}\"},\"Potrero Hill\":{\"content\":\"{\\\"events\\\": [{\\\"cols\\\": null, \\\"column_source\\\": {\\\"id\\\": \\\"2614\\\"}, \\\"kind\\\": \\\"ColumnDataChanged\\\", \\\"new\\\": {\\\"Variable\\\": [\\\"gross_rent\\\", \\\"gross_rent\\\", \\\"gross_rent\\\", \\\"gross_rent\\\", \\\"gross_rent\\\", \\\"gross_rent\\\", \\\"gross_rent\\\"], \\\"value\\\": [1239, 1530, 2324, 2971, 3528, 3739, 4390], \\\"year\\\": [\\\"2010\\\", \\\"2011\\\", \\\"2012\\\", \\\"2013\\\", \\\"2014\\\", \\\"2015\\\", \\\"2016\\\"]}}, {\\\"cols\\\": null, \\\"column_source\\\": {\\\"id\\\": \\\"2632\\\"}, \\\"kind\\\": \\\"ColumnDataChanged\\\", \\\"new\\\": {\\\"Variable\\\": [\\\"sale_price_sqr_foot\\\", \\\"sale_price_sqr_foot\\\", \\\"sale_price_sqr_foot\\\", \\\"sale_price_sqr_foot\\\", \\\"sale_price_sqr_foot\\\", \\\"sale_price_sqr_foot\\\", \\\"sale_price_sqr_foot\\\"], \\\"value\\\": {\\\"__ndarray__\\\": \\\"h38+NzO3fkC1zY5QN3J/QFj9s41dKn1AlMC7a6O1gkAa4w1izlSQQF3nsW1oqolAxoQBfzYdhkA=\\\", \\\"dtype\\\": \\\"float64\\\", \\\"order\\\": \\\"little\\\", \\\"shape\\\": [7]}, \\\"year\\\": [\\\"2010\\\", \\\"2011\\\", \\\"2012\\\", \\\"2013\\\", \\\"2014\\\", \\\"2015\\\", \\\"2016\\\"]}}, {\\\"attr\\\": \\\"text\\\", \\\"kind\\\": \\\"ModelChanged\\\", \\\"model\\\": {\\\"id\\\": \\\"2582\\\"}, \\\"new\\\": \\\"neighborhood: Potrero Hill\\\"}, {\\\"attr\\\": \\\"right\\\", \\\"kind\\\": \\\"ModelChanged\\\", \\\"model\\\": {\\\"id\\\": \\\"2581\\\"}, \\\"new\\\": [{\\\"id\\\": \\\"2630\\\"}]}], \\\"references\\\": [{\\\"attributes\\\": {\\\"click_policy\\\": \\\"mute\\\", \\\"items\\\": [{\\\"id\\\": \\\"2631\\\"}, {\\\"id\\\": \\\"2650\\\"}], \\\"location\\\": [0, 0], \\\"title\\\": \\\"Variable\\\"}, \\\"id\\\": \\\"2630\\\", \\\"type\\\": \\\"Legend\\\"}, {\\\"attributes\\\": {\\\"line_alpha\\\": 0.1, \\\"line_color\\\": \\\"#1f77b3\\\", \\\"line_width\\\": 2, \\\"x\\\": {\\\"field\\\": \\\"year\\\"}, \\\"y\\\": {\\\"field\\\": \\\"value\\\"}}, \\\"id\\\": \\\"2618\\\", \\\"type\\\": \\\"Line\\\"}, {\\\"attributes\\\": {\\\"source\\\": {\\\"id\\\": \\\"2632\\\"}}, \\\"id\\\": \\\"2639\\\", \\\"type\\\": \\\"CDSView\\\"}, {\\\"attributes\\\": {\\\"label\\\": {\\\"value\\\": \\\"sale_price_sqr_foot\\\"}, \\\"renderers\\\": [{\\\"id\\\": \\\"2638\\\"}]}, \\\"id\\\": \\\"2650\\\", \\\"type\\\": \\\"LegendItem\\\"}, {\\\"attributes\\\": {\\\"data\\\": {\\\"Variable\\\": [\\\"gross_rent\\\", \\\"gross_rent\\\", \\\"gross_rent\\\", \\\"gross_rent\\\", \\\"gross_rent\\\", \\\"gross_rent\\\", \\\"gross_rent\\\"], \\\"value\\\": [1239, 1530, 2324, 2971, 3528, 3739, 4390], \\\"year\\\": [\\\"2010\\\", \\\"2011\\\", \\\"2012\\\", \\\"2013\\\", \\\"2014\\\", \\\"2015\\\", \\\"2016\\\"]}, \\\"selected\\\": {\\\"id\\\": \\\"2615\\\"}, \\\"selection_policy\\\": {\\\"id\\\": \\\"2628\\\"}}, \\\"id\\\": \\\"2614\\\", \\\"type\\\": \\\"ColumnDataSource\\\"}, {\\\"attributes\\\": {\\\"data_source\\\": {\\\"id\\\": \\\"2614\\\"}, \\\"glyph\\\": {\\\"id\\\": \\\"2617\\\"}, \\\"hover_glyph\\\": null, \\\"muted_glyph\\\": {\\\"id\\\": \\\"2619\\\"}, \\\"nonselection_glyph\\\": {\\\"id\\\": \\\"2618\\\"}, \\\"selection_glyph\\\": null, \\\"view\\\": {\\\"id\\\": \\\"2621\\\"}}, \\\"id\\\": \\\"2620\\\", \\\"type\\\": \\\"GlyphRenderer\\\"}, {\\\"attributes\\\": {\\\"line_color\\\": \\\"#ff7e0e\\\", \\\"line_width\\\": 2, \\\"x\\\": {\\\"field\\\": \\\"year\\\"}, \\\"y\\\": {\\\"field\\\": \\\"value\\\"}}, \\\"id\\\": \\\"2635\\\", \\\"type\\\": \\\"Line\\\"}, {\\\"attributes\\\": {\\\"line_alpha\\\": 0.2, \\\"line_color\\\": \\\"#ff7e0e\\\", \\\"line_width\\\": 2, \\\"x\\\": {\\\"field\\\": \\\"year\\\"}, \\\"y\\\": {\\\"field\\\": \\\"value\\\"}}, \\\"id\\\": \\\"2637\\\", \\\"type\\\": \\\"Line\\\"}, {\\\"attributes\\\": {\\\"data\\\": {\\\"Variable\\\": [\\\"sale_price_sqr_foot\\\", \\\"sale_price_sqr_foot\\\", \\\"sale_price_sqr_foot\\\", \\\"sale_price_sqr_foot\\\", \\\"sale_price_sqr_foot\\\", \\\"sale_price_sqr_foot\\\", \\\"sale_price_sqr_foot\\\"], \\\"value\\\": {\\\"__ndarray__\\\": \\\"h38+NzO3fkC1zY5QN3J/QFj9s41dKn1AlMC7a6O1gkAa4w1izlSQQF3nsW1oqolAxoQBfzYdhkA=\\\", \\\"dtype\\\": \\\"float64\\\", \\\"order\\\": \\\"little\\\", \\\"shape\\\": [7]}, \\\"year\\\": [\\\"2010\\\", \\\"2011\\\", \\\"2012\\\", \\\"2013\\\", \\\"2014\\\", \\\"2015\\\", \\\"2016\\\"]}, \\\"selected\\\": {\\\"id\\\": \\\"2633\\\"}, \\\"selection_policy\\\": {\\\"id\\\": \\\"2648\\\"}}, \\\"id\\\": \\\"2632\\\", \\\"type\\\": \\\"ColumnDataSource\\\"}, {\\\"attributes\\\": {\\\"source\\\": {\\\"id\\\": \\\"2614\\\"}}, \\\"id\\\": \\\"2621\\\", \\\"type\\\": \\\"CDSView\\\"}, {\\\"attributes\\\": {\\\"line_color\\\": \\\"#1f77b3\\\", \\\"line_width\\\": 2, \\\"x\\\": {\\\"field\\\": \\\"year\\\"}, \\\"y\\\": {\\\"field\\\": \\\"value\\\"}}, \\\"id\\\": \\\"2617\\\", \\\"type\\\": \\\"Line\\\"}, {\\\"attributes\\\": {\\\"line_alpha\\\": 0.1, \\\"line_color\\\": \\\"#ff7e0e\\\", \\\"line_width\\\": 2, \\\"x\\\": {\\\"field\\\": \\\"year\\\"}, \\\"y\\\": {\\\"field\\\": \\\"value\\\"}}, \\\"id\\\": \\\"2636\\\", \\\"type\\\": \\\"Line\\\"}, {\\\"attributes\\\": {}, \\\"id\\\": \\\"2648\\\", \\\"type\\\": \\\"UnionRenderers\\\"}, {\\\"attributes\\\": {\\\"data_source\\\": {\\\"id\\\": \\\"2632\\\"}, \\\"glyph\\\": {\\\"id\\\": \\\"2635\\\"}, \\\"hover_glyph\\\": null, \\\"muted_glyph\\\": {\\\"id\\\": \\\"2637\\\"}, \\\"nonselection_glyph\\\": {\\\"id\\\": \\\"2636\\\"}, \\\"selection_glyph\\\": null, \\\"view\\\": {\\\"id\\\": \\\"2639\\\"}}, \\\"id\\\": \\\"2638\\\", \\\"type\\\": \\\"GlyphRenderer\\\"}, {\\\"attributes\\\": {\\\"label\\\": {\\\"value\\\": \\\"gross_rent\\\"}, \\\"renderers\\\": [{\\\"id\\\": \\\"2620\\\"}]}, \\\"id\\\": \\\"2631\\\", \\\"type\\\": \\\"LegendItem\\\"}, {\\\"attributes\\\": {}, \\\"id\\\": \\\"2628\\\", \\\"type\\\": \\\"UnionRenderers\\\"}, {\\\"attributes\\\": {}, \\\"id\\\": \\\"2615\\\", \\\"type\\\": \\\"Selection\\\"}, {\\\"attributes\\\": {\\\"line_alpha\\\": 0.2, \\\"line_color\\\": \\\"#1f77b3\\\", \\\"line_width\\\": 2, \\\"x\\\": {\\\"field\\\": \\\"year\\\"}, \\\"y\\\": {\\\"field\\\": \\\"value\\\"}}, \\\"id\\\": \\\"2619\\\", \\\"type\\\": \\\"Line\\\"}, {\\\"attributes\\\": {}, \\\"id\\\": \\\"2633\\\", \\\"type\\\": \\\"Selection\\\"}]}\",\"header\":\"{\\\"msgid\\\": \\\"3339\\\", \\\"msgtype\\\": \\\"PATCH-DOC\\\"}\",\"metadata\":\"{}\"},\"Presidio Heights\":{\"content\":\"{\\\"events\\\": [{\\\"cols\\\": null, \\\"column_source\\\": {\\\"id\\\": \\\"2614\\\"}, \\\"kind\\\": \\\"ColumnDataChanged\\\", \\\"new\\\": {\\\"Variable\\\": [\\\"gross_rent\\\", \\\"gross_rent\\\", \\\"gross_rent\\\", \\\"gross_rent\\\", \\\"gross_rent\\\", \\\"gross_rent\\\", \\\"gross_rent\\\"], \\\"value\\\": [1239, 1530, 2324, 2971, 3528, 3739, 4390], \\\"year\\\": [\\\"2010\\\", \\\"2011\\\", \\\"2012\\\", \\\"2013\\\", \\\"2014\\\", \\\"2015\\\", \\\"2016\\\"]}}, {\\\"cols\\\": null, \\\"column_source\\\": {\\\"id\\\": \\\"2632\\\"}, \\\"kind\\\": \\\"ColumnDataChanged\\\", \\\"new\\\": {\\\"Variable\\\": [\\\"sale_price_sqr_foot\\\", \\\"sale_price_sqr_foot\\\", \\\"sale_price_sqr_foot\\\", \\\"sale_price_sqr_foot\\\", \\\"sale_price_sqr_foot\\\", \\\"sale_price_sqr_foot\\\", \\\"sale_price_sqr_foot\\\"], \\\"value\\\": {\\\"__ndarray__\\\": \\\"1qRW7FcrgUCiXLTmCd1+QNBJCsu8qXpA+gIs1LgGgECnjECkm9uCQAAAAAAAAPh/hyUc1d/nlkA=\\\", \\\"dtype\\\": \\\"float64\\\", \\\"order\\\": \\\"little\\\", \\\"shape\\\": [7]}, \\\"year\\\": [\\\"2010\\\", \\\"2011\\\", \\\"2012\\\", \\\"2013\\\", \\\"2014\\\", \\\"2015\\\", \\\"2016\\\"]}}, {\\\"attr\\\": \\\"text\\\", \\\"kind\\\": \\\"ModelChanged\\\", \\\"model\\\": {\\\"id\\\": \\\"2582\\\"}, \\\"new\\\": \\\"neighborhood: Presidio Heights\\\"}, {\\\"attr\\\": \\\"right\\\", \\\"kind\\\": \\\"ModelChanged\\\", \\\"model\\\": {\\\"id\\\": \\\"2581\\\"}, \\\"new\\\": [{\\\"id\\\": \\\"2630\\\"}]}], \\\"references\\\": [{\\\"attributes\\\": {\\\"click_policy\\\": \\\"mute\\\", \\\"items\\\": [{\\\"id\\\": \\\"2631\\\"}, {\\\"id\\\": \\\"2650\\\"}], \\\"location\\\": [0, 0], \\\"title\\\": \\\"Variable\\\"}, \\\"id\\\": \\\"2630\\\", \\\"type\\\": \\\"Legend\\\"}, {\\\"attributes\\\": {\\\"line_alpha\\\": 0.1, \\\"line_color\\\": \\\"#1f77b3\\\", \\\"line_width\\\": 2, \\\"x\\\": {\\\"field\\\": \\\"year\\\"}, \\\"y\\\": {\\\"field\\\": \\\"value\\\"}}, \\\"id\\\": \\\"2618\\\", \\\"type\\\": \\\"Line\\\"}, {\\\"attributes\\\": {\\\"source\\\": {\\\"id\\\": \\\"2632\\\"}}, \\\"id\\\": \\\"2639\\\", \\\"type\\\": \\\"CDSView\\\"}, {\\\"attributes\\\": {\\\"label\\\": {\\\"value\\\": \\\"sale_price_sqr_foot\\\"}, \\\"renderers\\\": [{\\\"id\\\": \\\"2638\\\"}]}, \\\"id\\\": \\\"2650\\\", \\\"type\\\": \\\"LegendItem\\\"}, {\\\"attributes\\\": {\\\"data\\\": {\\\"Variable\\\": [\\\"gross_rent\\\", \\\"gross_rent\\\", \\\"gross_rent\\\", \\\"gross_rent\\\", \\\"gross_rent\\\", \\\"gross_rent\\\", \\\"gross_rent\\\"], \\\"value\\\": [1239, 1530, 2324, 2971, 3528, 3739, 4390], \\\"year\\\": [\\\"2010\\\", \\\"2011\\\", \\\"2012\\\", \\\"2013\\\", \\\"2014\\\", \\\"2015\\\", \\\"2016\\\"]}, \\\"selected\\\": {\\\"id\\\": \\\"2615\\\"}, \\\"selection_policy\\\": {\\\"id\\\": \\\"2628\\\"}}, \\\"id\\\": \\\"2614\\\", \\\"type\\\": \\\"ColumnDataSource\\\"}, {\\\"attributes\\\": {\\\"data_source\\\": {\\\"id\\\": \\\"2614\\\"}, \\\"glyph\\\": {\\\"id\\\": \\\"2617\\\"}, \\\"hover_glyph\\\": null, \\\"muted_glyph\\\": {\\\"id\\\": \\\"2619\\\"}, \\\"nonselection_glyph\\\": {\\\"id\\\": \\\"2618\\\"}, \\\"selection_glyph\\\": null, \\\"view\\\": {\\\"id\\\": \\\"2621\\\"}}, \\\"id\\\": \\\"2620\\\", \\\"type\\\": \\\"GlyphRenderer\\\"}, {\\\"attributes\\\": {\\\"line_color\\\": \\\"#ff7e0e\\\", \\\"line_width\\\": 2, \\\"x\\\": {\\\"field\\\": \\\"year\\\"}, \\\"y\\\": {\\\"field\\\": \\\"value\\\"}}, \\\"id\\\": \\\"2635\\\", \\\"type\\\": \\\"Line\\\"}, {\\\"attributes\\\": {\\\"line_alpha\\\": 0.2, \\\"line_color\\\": \\\"#ff7e0e\\\", \\\"line_width\\\": 2, \\\"x\\\": {\\\"field\\\": \\\"year\\\"}, \\\"y\\\": {\\\"field\\\": \\\"value\\\"}}, \\\"id\\\": \\\"2637\\\", \\\"type\\\": \\\"Line\\\"}, {\\\"attributes\\\": {\\\"data\\\": {\\\"Variable\\\": [\\\"sale_price_sqr_foot\\\", \\\"sale_price_sqr_foot\\\", \\\"sale_price_sqr_foot\\\", \\\"sale_price_sqr_foot\\\", \\\"sale_price_sqr_foot\\\", \\\"sale_price_sqr_foot\\\", \\\"sale_price_sqr_foot\\\"], \\\"value\\\": {\\\"__ndarray__\\\": \\\"1qRW7FcrgUCiXLTmCd1+QNBJCsu8qXpA+gIs1LgGgECnjECkm9uCQAAAAAAAAPh/hyUc1d/nlkA=\\\", \\\"dtype\\\": \\\"float64\\\", \\\"order\\\": \\\"little\\\", \\\"shape\\\": [7]}, \\\"year\\\": [\\\"2010\\\", \\\"2011\\\", \\\"2012\\\", \\\"2013\\\", \\\"2014\\\", \\\"2015\\\", \\\"2016\\\"]}, \\\"selected\\\": {\\\"id\\\": \\\"2633\\\"}, \\\"selection_policy\\\": {\\\"id\\\": \\\"2648\\\"}}, \\\"id\\\": \\\"2632\\\", \\\"type\\\": \\\"ColumnDataSource\\\"}, {\\\"attributes\\\": {\\\"source\\\": {\\\"id\\\": \\\"2614\\\"}}, \\\"id\\\": \\\"2621\\\", \\\"type\\\": \\\"CDSView\\\"}, {\\\"attributes\\\": {\\\"line_color\\\": \\\"#1f77b3\\\", \\\"line_width\\\": 2, \\\"x\\\": {\\\"field\\\": \\\"year\\\"}, \\\"y\\\": {\\\"field\\\": \\\"value\\\"}}, \\\"id\\\": \\\"2617\\\", \\\"type\\\": \\\"Line\\\"}, {\\\"attributes\\\": {\\\"line_alpha\\\": 0.1, \\\"line_color\\\": \\\"#ff7e0e\\\", \\\"line_width\\\": 2, \\\"x\\\": {\\\"field\\\": \\\"year\\\"}, \\\"y\\\": {\\\"field\\\": \\\"value\\\"}}, \\\"id\\\": \\\"2636\\\", \\\"type\\\": \\\"Line\\\"}, {\\\"attributes\\\": {}, \\\"id\\\": \\\"2648\\\", \\\"type\\\": \\\"UnionRenderers\\\"}, {\\\"attributes\\\": {\\\"data_source\\\": {\\\"id\\\": \\\"2632\\\"}, \\\"glyph\\\": {\\\"id\\\": \\\"2635\\\"}, \\\"hover_glyph\\\": null, \\\"muted_glyph\\\": {\\\"id\\\": \\\"2637\\\"}, \\\"nonselection_glyph\\\": {\\\"id\\\": \\\"2636\\\"}, \\\"selection_glyph\\\": null, \\\"view\\\": {\\\"id\\\": \\\"2639\\\"}}, \\\"id\\\": \\\"2638\\\", \\\"type\\\": \\\"GlyphRenderer\\\"}, {\\\"attributes\\\": {\\\"label\\\": {\\\"value\\\": \\\"gross_rent\\\"}, \\\"renderers\\\": [{\\\"id\\\": \\\"2620\\\"}]}, \\\"id\\\": \\\"2631\\\", \\\"type\\\": \\\"LegendItem\\\"}, {\\\"attributes\\\": {}, \\\"id\\\": \\\"2628\\\", \\\"type\\\": \\\"UnionRenderers\\\"}, {\\\"attributes\\\": {}, \\\"id\\\": \\\"2615\\\", \\\"type\\\": \\\"Selection\\\"}, {\\\"attributes\\\": {\\\"line_alpha\\\": 0.2, \\\"line_color\\\": \\\"#1f77b3\\\", \\\"line_width\\\": 2, \\\"x\\\": {\\\"field\\\": \\\"year\\\"}, \\\"y\\\": {\\\"field\\\": \\\"value\\\"}}, \\\"id\\\": \\\"2619\\\", \\\"type\\\": \\\"Line\\\"}, {\\\"attributes\\\": {}, \\\"id\\\": \\\"2633\\\", \\\"type\\\": \\\"Selection\\\"}]}\",\"header\":\"{\\\"msgid\\\": \\\"3306\\\", \\\"msgtype\\\": \\\"PATCH-DOC\\\"}\",\"metadata\":\"{}\"},\"Russian Hill\":{\"content\":\"{\\\"events\\\": [{\\\"attr\\\": \\\"factors\\\", \\\"kind\\\": \\\"ModelChanged\\\", \\\"model\\\": {\\\"id\\\": \\\"2577\\\"}, \\\"new\\\": [\\\"2010\\\", \\\"2011\\\", \\\"2012\\\", \\\"2013\\\", \\\"2014\\\", \\\"2015\\\", \\\"2016\\\"]}, {\\\"cols\\\": null, \\\"column_source\\\": {\\\"id\\\": \\\"2614\\\"}, \\\"kind\\\": \\\"ColumnDataChanged\\\", \\\"new\\\": {\\\"Variable\\\": [\\\"gross_rent\\\", \\\"gross_rent\\\", \\\"gross_rent\\\", \\\"gross_rent\\\", \\\"gross_rent\\\", \\\"gross_rent\\\", \\\"gross_rent\\\"], \\\"value\\\": [1239, 1530, 2324, 2971, 3528, 3739, 4390], \\\"year\\\": [\\\"2010\\\", \\\"2011\\\", \\\"2012\\\", \\\"2013\\\", \\\"2014\\\", \\\"2015\\\", \\\"2016\\\"]}}, {\\\"cols\\\": null, \\\"column_source\\\": {\\\"id\\\": \\\"2632\\\"}, \\\"kind\\\": \\\"ColumnDataChanged\\\", \\\"new\\\": {\\\"Variable\\\": [\\\"sale_price_sqr_foot\\\", \\\"sale_price_sqr_foot\\\", \\\"sale_price_sqr_foot\\\", \\\"sale_price_sqr_foot\\\", \\\"sale_price_sqr_foot\\\", \\\"sale_price_sqr_foot\\\", \\\"sale_price_sqr_foot\\\"], \\\"value\\\": {\\\"__ndarray__\\\": \\\"qeg8U5KldkCz55glHwV8QBozkYia4nlAYr9O7qOjf0BeOprOxlGGQE8CCI8YyohA+YfACFwBkEA=\\\", \\\"dtype\\\": \\\"float64\\\", \\\"order\\\": \\\"little\\\", \\\"shape\\\": [7]}, \\\"year\\\": [\\\"2010\\\", \\\"2011\\\", \\\"2012\\\", \\\"2013\\\", \\\"2014\\\", \\\"2015\\\", \\\"2016\\\"]}}, {\\\"attr\\\": \\\"text\\\", \\\"kind\\\": \\\"ModelChanged\\\", \\\"model\\\": {\\\"id\\\": \\\"2582\\\"}, \\\"new\\\": \\\"neighborhood: Russian Hill\\\"}, {\\\"attr\\\": \\\"right\\\", \\\"kind\\\": \\\"ModelChanged\\\", \\\"model\\\": {\\\"id\\\": \\\"2581\\\"}, \\\"new\\\": [{\\\"id\\\": \\\"2630\\\"}]}], \\\"references\\\": [{\\\"attributes\\\": {\\\"click_policy\\\": \\\"mute\\\", \\\"items\\\": [{\\\"id\\\": \\\"2631\\\"}, {\\\"id\\\": \\\"2650\\\"}], \\\"location\\\": [0, 0], \\\"title\\\": \\\"Variable\\\"}, \\\"id\\\": \\\"2630\\\", \\\"type\\\": \\\"Legend\\\"}, {\\\"attributes\\\": {\\\"line_alpha\\\": 0.1, \\\"line_color\\\": \\\"#1f77b3\\\", \\\"line_width\\\": 2, \\\"x\\\": {\\\"field\\\": \\\"year\\\"}, \\\"y\\\": {\\\"field\\\": \\\"value\\\"}}, \\\"id\\\": \\\"2618\\\", \\\"type\\\": \\\"Line\\\"}, {\\\"attributes\\\": {\\\"source\\\": {\\\"id\\\": \\\"2632\\\"}}, \\\"id\\\": \\\"2639\\\", \\\"type\\\": \\\"CDSView\\\"}, {\\\"attributes\\\": {\\\"label\\\": {\\\"value\\\": \\\"sale_price_sqr_foot\\\"}, \\\"renderers\\\": [{\\\"id\\\": \\\"2638\\\"}]}, \\\"id\\\": \\\"2650\\\", \\\"type\\\": \\\"LegendItem\\\"}, {\\\"attributes\\\": {\\\"data\\\": {\\\"Variable\\\": [\\\"gross_rent\\\", \\\"gross_rent\\\", \\\"gross_rent\\\", \\\"gross_rent\\\", \\\"gross_rent\\\", \\\"gross_rent\\\", \\\"gross_rent\\\"], \\\"value\\\": [1239, 1530, 2324, 2971, 3528, 3739, 4390], \\\"year\\\": [\\\"2010\\\", \\\"2011\\\", \\\"2012\\\", \\\"2013\\\", \\\"2014\\\", \\\"2015\\\", \\\"2016\\\"]}, \\\"selected\\\": {\\\"id\\\": \\\"2615\\\"}, \\\"selection_policy\\\": {\\\"id\\\": \\\"2628\\\"}}, \\\"id\\\": \\\"2614\\\", \\\"type\\\": \\\"ColumnDataSource\\\"}, {\\\"attributes\\\": {\\\"data_source\\\": {\\\"id\\\": \\\"2614\\\"}, \\\"glyph\\\": {\\\"id\\\": \\\"2617\\\"}, \\\"hover_glyph\\\": null, \\\"muted_glyph\\\": {\\\"id\\\": \\\"2619\\\"}, \\\"nonselection_glyph\\\": {\\\"id\\\": \\\"2618\\\"}, \\\"selection_glyph\\\": null, \\\"view\\\": {\\\"id\\\": \\\"2621\\\"}}, \\\"id\\\": \\\"2620\\\", \\\"type\\\": \\\"GlyphRenderer\\\"}, {\\\"attributes\\\": {\\\"line_color\\\": \\\"#ff7e0e\\\", \\\"line_width\\\": 2, \\\"x\\\": {\\\"field\\\": \\\"year\\\"}, \\\"y\\\": {\\\"field\\\": \\\"value\\\"}}, \\\"id\\\": \\\"2635\\\", \\\"type\\\": \\\"Line\\\"}, {\\\"attributes\\\": {\\\"line_alpha\\\": 0.2, \\\"line_color\\\": \\\"#ff7e0e\\\", \\\"line_width\\\": 2, \\\"x\\\": {\\\"field\\\": \\\"year\\\"}, \\\"y\\\": {\\\"field\\\": \\\"value\\\"}}, \\\"id\\\": \\\"2637\\\", \\\"type\\\": \\\"Line\\\"}, {\\\"attributes\\\": {\\\"data\\\": {\\\"Variable\\\": [\\\"sale_price_sqr_foot\\\", \\\"sale_price_sqr_foot\\\", \\\"sale_price_sqr_foot\\\", \\\"sale_price_sqr_foot\\\", \\\"sale_price_sqr_foot\\\", \\\"sale_price_sqr_foot\\\", \\\"sale_price_sqr_foot\\\"], \\\"value\\\": {\\\"__ndarray__\\\": \\\"qeg8U5KldkCz55glHwV8QBozkYia4nlAYr9O7qOjf0BeOprOxlGGQE8CCI8YyohA+YfACFwBkEA=\\\", \\\"dtype\\\": \\\"float64\\\", \\\"order\\\": \\\"little\\\", \\\"shape\\\": [7]}, \\\"year\\\": [\\\"2010\\\", \\\"2011\\\", \\\"2012\\\", \\\"2013\\\", \\\"2014\\\", \\\"2015\\\", \\\"2016\\\"]}, \\\"selected\\\": {\\\"id\\\": \\\"2633\\\"}, \\\"selection_policy\\\": {\\\"id\\\": \\\"2648\\\"}}, \\\"id\\\": \\\"2632\\\", \\\"type\\\": \\\"ColumnDataSource\\\"}, {\\\"attributes\\\": {\\\"source\\\": {\\\"id\\\": \\\"2614\\\"}}, \\\"id\\\": \\\"2621\\\", \\\"type\\\": \\\"CDSView\\\"}, {\\\"attributes\\\": {\\\"line_color\\\": \\\"#1f77b3\\\", \\\"line_width\\\": 2, \\\"x\\\": {\\\"field\\\": \\\"year\\\"}, \\\"y\\\": {\\\"field\\\": \\\"value\\\"}}, \\\"id\\\": \\\"2617\\\", \\\"type\\\": \\\"Line\\\"}, {\\\"attributes\\\": {\\\"line_alpha\\\": 0.1, \\\"line_color\\\": \\\"#ff7e0e\\\", \\\"line_width\\\": 2, \\\"x\\\": {\\\"field\\\": \\\"year\\\"}, \\\"y\\\": {\\\"field\\\": \\\"value\\\"}}, \\\"id\\\": \\\"2636\\\", \\\"type\\\": \\\"Line\\\"}, {\\\"attributes\\\": {}, \\\"id\\\": \\\"2648\\\", \\\"type\\\": \\\"UnionRenderers\\\"}, {\\\"attributes\\\": {\\\"data_source\\\": {\\\"id\\\": \\\"2632\\\"}, \\\"glyph\\\": {\\\"id\\\": \\\"2635\\\"}, \\\"hover_glyph\\\": null, \\\"muted_glyph\\\": {\\\"id\\\": \\\"2637\\\"}, \\\"nonselection_glyph\\\": {\\\"id\\\": \\\"2636\\\"}, \\\"selection_glyph\\\": null, \\\"view\\\": {\\\"id\\\": \\\"2639\\\"}}, \\\"id\\\": \\\"2638\\\", \\\"type\\\": \\\"GlyphRenderer\\\"}, {\\\"attributes\\\": {\\\"label\\\": {\\\"value\\\": \\\"gross_rent\\\"}, \\\"renderers\\\": [{\\\"id\\\": \\\"2620\\\"}]}, \\\"id\\\": \\\"2631\\\", \\\"type\\\": \\\"LegendItem\\\"}, {\\\"attributes\\\": {}, \\\"id\\\": \\\"2628\\\", \\\"type\\\": \\\"UnionRenderers\\\"}, {\\\"attributes\\\": {}, \\\"id\\\": \\\"2615\\\", \\\"type\\\": \\\"Selection\\\"}, {\\\"attributes\\\": {\\\"line_alpha\\\": 0.2, \\\"line_color\\\": \\\"#1f77b3\\\", \\\"line_width\\\": 2, \\\"x\\\": {\\\"field\\\": \\\"year\\\"}, \\\"y\\\": {\\\"field\\\": \\\"value\\\"}}, \\\"id\\\": \\\"2619\\\", \\\"type\\\": \\\"Line\\\"}, {\\\"attributes\\\": {}, \\\"id\\\": \\\"2633\\\", \\\"type\\\": \\\"Selection\\\"}]}\",\"header\":\"{\\\"msgid\\\": \\\"3273\\\", \\\"msgtype\\\": \\\"PATCH-DOC\\\"}\",\"metadata\":\"{}\"},\"Silver Terrace\":{\"content\":\"{\\\"events\\\": [{\\\"attr\\\": \\\"factors\\\", \\\"kind\\\": \\\"ModelChanged\\\", \\\"model\\\": {\\\"id\\\": \\\"2577\\\"}, \\\"new\\\": [\\\"2014\\\"]}, {\\\"cols\\\": null, \\\"column_source\\\": {\\\"id\\\": \\\"2614\\\"}, \\\"kind\\\": \\\"ColumnDataChanged\\\", \\\"new\\\": {\\\"Variable\\\": [\\\"gross_rent\\\"], \\\"value\\\": [3528], \\\"year\\\": [\\\"2014\\\"]}}, {\\\"cols\\\": null, \\\"column_source\\\": {\\\"id\\\": \\\"2632\\\"}, \\\"kind\\\": \\\"ColumnDataChanged\\\", \\\"new\\\": {\\\"Variable\\\": [\\\"sale_price_sqr_foot\\\"], \\\"value\\\": {\\\"__ndarray__\\\": \\\"0ym0jlxJZUA=\\\", \\\"dtype\\\": \\\"float64\\\", \\\"order\\\": \\\"little\\\", \\\"shape\\\": [1]}, \\\"year\\\": [\\\"2014\\\"]}}, {\\\"attr\\\": \\\"text\\\", \\\"kind\\\": \\\"ModelChanged\\\", \\\"model\\\": {\\\"id\\\": \\\"2582\\\"}, \\\"new\\\": \\\"neighborhood: Silver Terrace\\\"}, {\\\"attr\\\": \\\"right\\\", \\\"kind\\\": \\\"ModelChanged\\\", \\\"model\\\": {\\\"id\\\": \\\"2581\\\"}, \\\"new\\\": [{\\\"id\\\": \\\"2630\\\"}]}], \\\"references\\\": [{\\\"attributes\\\": {\\\"click_policy\\\": \\\"mute\\\", \\\"items\\\": [{\\\"id\\\": \\\"2631\\\"}, {\\\"id\\\": \\\"2650\\\"}], \\\"location\\\": [0, 0], \\\"title\\\": \\\"Variable\\\"}, \\\"id\\\": \\\"2630\\\", \\\"type\\\": \\\"Legend\\\"}, {\\\"attributes\\\": {\\\"line_alpha\\\": 0.1, \\\"line_color\\\": \\\"#1f77b3\\\", \\\"line_width\\\": 2, \\\"x\\\": {\\\"field\\\": \\\"year\\\"}, \\\"y\\\": {\\\"field\\\": \\\"value\\\"}}, \\\"id\\\": \\\"2618\\\", \\\"type\\\": \\\"Line\\\"}, {\\\"attributes\\\": {\\\"source\\\": {\\\"id\\\": \\\"2632\\\"}}, \\\"id\\\": \\\"2639\\\", \\\"type\\\": \\\"CDSView\\\"}, {\\\"attributes\\\": {\\\"label\\\": {\\\"value\\\": \\\"sale_price_sqr_foot\\\"}, \\\"renderers\\\": [{\\\"id\\\": \\\"2638\\\"}]}, \\\"id\\\": \\\"2650\\\", \\\"type\\\": \\\"LegendItem\\\"}, {\\\"attributes\\\": {\\\"data\\\": {\\\"Variable\\\": [\\\"gross_rent\\\"], \\\"value\\\": [3528], \\\"year\\\": [\\\"2014\\\"]}, \\\"selected\\\": {\\\"id\\\": \\\"2615\\\"}, \\\"selection_policy\\\": {\\\"id\\\": \\\"2628\\\"}}, \\\"id\\\": \\\"2614\\\", \\\"type\\\": \\\"ColumnDataSource\\\"}, {\\\"attributes\\\": {\\\"data_source\\\": {\\\"id\\\": \\\"2614\\\"}, \\\"glyph\\\": {\\\"id\\\": \\\"2617\\\"}, \\\"hover_glyph\\\": null, \\\"muted_glyph\\\": {\\\"id\\\": \\\"2619\\\"}, \\\"nonselection_glyph\\\": {\\\"id\\\": \\\"2618\\\"}, \\\"selection_glyph\\\": null, \\\"view\\\": {\\\"id\\\": \\\"2621\\\"}}, \\\"id\\\": \\\"2620\\\", \\\"type\\\": \\\"GlyphRenderer\\\"}, {\\\"attributes\\\": {\\\"line_color\\\": \\\"#ff7e0e\\\", \\\"line_width\\\": 2, \\\"x\\\": {\\\"field\\\": \\\"year\\\"}, \\\"y\\\": {\\\"field\\\": \\\"value\\\"}}, \\\"id\\\": \\\"2635\\\", \\\"type\\\": \\\"Line\\\"}, {\\\"attributes\\\": {\\\"line_alpha\\\": 0.2, \\\"line_color\\\": \\\"#ff7e0e\\\", \\\"line_width\\\": 2, \\\"x\\\": {\\\"field\\\": \\\"year\\\"}, \\\"y\\\": {\\\"field\\\": \\\"value\\\"}}, \\\"id\\\": \\\"2637\\\", \\\"type\\\": \\\"Line\\\"}, {\\\"attributes\\\": {\\\"data\\\": {\\\"Variable\\\": [\\\"sale_price_sqr_foot\\\"], \\\"value\\\": {\\\"__ndarray__\\\": \\\"0ym0jlxJZUA=\\\", \\\"dtype\\\": \\\"float64\\\", \\\"order\\\": \\\"little\\\", \\\"shape\\\": [1]}, \\\"year\\\": [\\\"2014\\\"]}, \\\"selected\\\": {\\\"id\\\": \\\"2633\\\"}, \\\"selection_policy\\\": {\\\"id\\\": \\\"2648\\\"}}, \\\"id\\\": \\\"2632\\\", \\\"type\\\": \\\"ColumnDataSource\\\"}, {\\\"attributes\\\": {\\\"source\\\": {\\\"id\\\": \\\"2614\\\"}}, \\\"id\\\": \\\"2621\\\", \\\"type\\\": \\\"CDSView\\\"}, {\\\"attributes\\\": {\\\"line_color\\\": \\\"#1f77b3\\\", \\\"line_width\\\": 2, \\\"x\\\": {\\\"field\\\": \\\"year\\\"}, \\\"y\\\": {\\\"field\\\": \\\"value\\\"}}, \\\"id\\\": \\\"2617\\\", \\\"type\\\": \\\"Line\\\"}, {\\\"attributes\\\": {\\\"line_alpha\\\": 0.1, \\\"line_color\\\": \\\"#ff7e0e\\\", \\\"line_width\\\": 2, \\\"x\\\": {\\\"field\\\": \\\"year\\\"}, \\\"y\\\": {\\\"field\\\": \\\"value\\\"}}, \\\"id\\\": \\\"2636\\\", \\\"type\\\": \\\"Line\\\"}, {\\\"attributes\\\": {}, \\\"id\\\": \\\"2648\\\", \\\"type\\\": \\\"UnionRenderers\\\"}, {\\\"attributes\\\": {\\\"data_source\\\": {\\\"id\\\": \\\"2632\\\"}, \\\"glyph\\\": {\\\"id\\\": \\\"2635\\\"}, \\\"hover_glyph\\\": null, \\\"muted_glyph\\\": {\\\"id\\\": \\\"2637\\\"}, \\\"nonselection_glyph\\\": {\\\"id\\\": \\\"2636\\\"}, \\\"selection_glyph\\\": null, \\\"view\\\": {\\\"id\\\": \\\"2639\\\"}}, \\\"id\\\": \\\"2638\\\", \\\"type\\\": \\\"GlyphRenderer\\\"}, {\\\"attributes\\\": {\\\"label\\\": {\\\"value\\\": \\\"gross_rent\\\"}, \\\"renderers\\\": [{\\\"id\\\": \\\"2620\\\"}]}, \\\"id\\\": \\\"2631\\\", \\\"type\\\": \\\"LegendItem\\\"}, {\\\"attributes\\\": {}, \\\"id\\\": \\\"2628\\\", \\\"type\\\": \\\"UnionRenderers\\\"}, {\\\"attributes\\\": {}, \\\"id\\\": \\\"2615\\\", \\\"type\\\": \\\"Selection\\\"}, {\\\"attributes\\\": {\\\"line_alpha\\\": 0.2, \\\"line_color\\\": \\\"#1f77b3\\\", \\\"line_width\\\": 2, \\\"x\\\": {\\\"field\\\": \\\"year\\\"}, \\\"y\\\": {\\\"field\\\": \\\"value\\\"}}, \\\"id\\\": \\\"2619\\\", \\\"type\\\": \\\"Line\\\"}, {\\\"attributes\\\": {}, \\\"id\\\": \\\"2633\\\", \\\"type\\\": \\\"Selection\\\"}]}\",\"header\":\"{\\\"msgid\\\": \\\"3240\\\", \\\"msgtype\\\": \\\"PATCH-DOC\\\"}\",\"metadata\":\"{}\"},\"South Beach\":{\"content\":\"{\\\"events\\\": [{\\\"attr\\\": \\\"factors\\\", \\\"kind\\\": \\\"ModelChanged\\\", \\\"model\\\": {\\\"id\\\": \\\"2577\\\"}, \\\"new\\\": [\\\"2010\\\", \\\"2011\\\", \\\"2014\\\"]}, {\\\"cols\\\": null, \\\"column_source\\\": {\\\"id\\\": \\\"2614\\\"}, \\\"kind\\\": \\\"ColumnDataChanged\\\", \\\"new\\\": {\\\"Variable\\\": [\\\"gross_rent\\\", \\\"gross_rent\\\", \\\"gross_rent\\\"], \\\"value\\\": [1239, 1530, 3528], \\\"year\\\": [\\\"2010\\\", \\\"2011\\\", \\\"2014\\\"]}}, {\\\"cols\\\": null, \\\"column_source\\\": {\\\"id\\\": \\\"2632\\\"}, \\\"kind\\\": \\\"ColumnDataChanged\\\", \\\"new\\\": {\\\"Variable\\\": [\\\"sale_price_sqr_foot\\\", \\\"sale_price_sqr_foot\\\", \\\"sale_price_sqr_foot\\\"], \\\"value\\\": {\\\"__ndarray__\\\": \\\"l7v/LmY0kEAWxRU0T0p4QKOvzdQIZYBA\\\", \\\"dtype\\\": \\\"float64\\\", \\\"order\\\": \\\"little\\\", \\\"shape\\\": [3]}, \\\"year\\\": [\\\"2010\\\", \\\"2011\\\", \\\"2014\\\"]}}, {\\\"attr\\\": \\\"text\\\", \\\"kind\\\": \\\"ModelChanged\\\", \\\"model\\\": {\\\"id\\\": \\\"2582\\\"}, \\\"new\\\": \\\"neighborhood: South Beach\\\"}, {\\\"attr\\\": \\\"right\\\", \\\"kind\\\": \\\"ModelChanged\\\", \\\"model\\\": {\\\"id\\\": \\\"2581\\\"}, \\\"new\\\": [{\\\"id\\\": \\\"2630\\\"}]}], \\\"references\\\": [{\\\"attributes\\\": {\\\"click_policy\\\": \\\"mute\\\", \\\"items\\\": [{\\\"id\\\": \\\"2631\\\"}, {\\\"id\\\": \\\"2650\\\"}], \\\"location\\\": [0, 0], \\\"title\\\": \\\"Variable\\\"}, \\\"id\\\": \\\"2630\\\", \\\"type\\\": \\\"Legend\\\"}, {\\\"attributes\\\": {\\\"line_alpha\\\": 0.1, \\\"line_color\\\": \\\"#1f77b3\\\", \\\"line_width\\\": 2, \\\"x\\\": {\\\"field\\\": \\\"year\\\"}, \\\"y\\\": {\\\"field\\\": \\\"value\\\"}}, \\\"id\\\": \\\"2618\\\", \\\"type\\\": \\\"Line\\\"}, {\\\"attributes\\\": {\\\"source\\\": {\\\"id\\\": \\\"2632\\\"}}, \\\"id\\\": \\\"2639\\\", \\\"type\\\": \\\"CDSView\\\"}, {\\\"attributes\\\": {\\\"label\\\": {\\\"value\\\": \\\"sale_price_sqr_foot\\\"}, \\\"renderers\\\": [{\\\"id\\\": \\\"2638\\\"}]}, \\\"id\\\": \\\"2650\\\", \\\"type\\\": \\\"LegendItem\\\"}, {\\\"attributes\\\": {\\\"data\\\": {\\\"Variable\\\": [\\\"gross_rent\\\", \\\"gross_rent\\\", \\\"gross_rent\\\"], \\\"value\\\": [1239, 1530, 3528], \\\"year\\\": [\\\"2010\\\", \\\"2011\\\", \\\"2014\\\"]}, \\\"selected\\\": {\\\"id\\\": \\\"2615\\\"}, \\\"selection_policy\\\": {\\\"id\\\": \\\"2628\\\"}}, \\\"id\\\": \\\"2614\\\", \\\"type\\\": \\\"ColumnDataSource\\\"}, {\\\"attributes\\\": {\\\"data_source\\\": {\\\"id\\\": \\\"2614\\\"}, \\\"glyph\\\": {\\\"id\\\": \\\"2617\\\"}, \\\"hover_glyph\\\": null, \\\"muted_glyph\\\": {\\\"id\\\": \\\"2619\\\"}, \\\"nonselection_glyph\\\": {\\\"id\\\": \\\"2618\\\"}, \\\"selection_glyph\\\": null, \\\"view\\\": {\\\"id\\\": \\\"2621\\\"}}, \\\"id\\\": \\\"2620\\\", \\\"type\\\": \\\"GlyphRenderer\\\"}, {\\\"attributes\\\": {\\\"line_color\\\": \\\"#ff7e0e\\\", \\\"line_width\\\": 2, \\\"x\\\": {\\\"field\\\": \\\"year\\\"}, \\\"y\\\": {\\\"field\\\": \\\"value\\\"}}, \\\"id\\\": \\\"2635\\\", \\\"type\\\": \\\"Line\\\"}, {\\\"attributes\\\": {\\\"line_alpha\\\": 0.2, \\\"line_color\\\": \\\"#ff7e0e\\\", \\\"line_width\\\": 2, \\\"x\\\": {\\\"field\\\": \\\"year\\\"}, \\\"y\\\": {\\\"field\\\": \\\"value\\\"}}, \\\"id\\\": \\\"2637\\\", \\\"type\\\": \\\"Line\\\"}, {\\\"attributes\\\": {\\\"data\\\": {\\\"Variable\\\": [\\\"sale_price_sqr_foot\\\", \\\"sale_price_sqr_foot\\\", \\\"sale_price_sqr_foot\\\"], \\\"value\\\": {\\\"__ndarray__\\\": \\\"l7v/LmY0kEAWxRU0T0p4QKOvzdQIZYBA\\\", \\\"dtype\\\": \\\"float64\\\", \\\"order\\\": \\\"little\\\", \\\"shape\\\": [3]}, \\\"year\\\": [\\\"2010\\\", \\\"2011\\\", \\\"2014\\\"]}, \\\"selected\\\": {\\\"id\\\": \\\"2633\\\"}, \\\"selection_policy\\\": {\\\"id\\\": \\\"2648\\\"}}, \\\"id\\\": \\\"2632\\\", \\\"type\\\": \\\"ColumnDataSource\\\"}, {\\\"attributes\\\": {\\\"source\\\": {\\\"id\\\": \\\"2614\\\"}}, \\\"id\\\": \\\"2621\\\", \\\"type\\\": \\\"CDSView\\\"}, {\\\"attributes\\\": {\\\"line_color\\\": \\\"#1f77b3\\\", \\\"line_width\\\": 2, \\\"x\\\": {\\\"field\\\": \\\"year\\\"}, \\\"y\\\": {\\\"field\\\": \\\"value\\\"}}, \\\"id\\\": \\\"2617\\\", \\\"type\\\": \\\"Line\\\"}, {\\\"attributes\\\": {\\\"line_alpha\\\": 0.1, \\\"line_color\\\": \\\"#ff7e0e\\\", \\\"line_width\\\": 2, \\\"x\\\": {\\\"field\\\": \\\"year\\\"}, \\\"y\\\": {\\\"field\\\": \\\"value\\\"}}, \\\"id\\\": \\\"2636\\\", \\\"type\\\": \\\"Line\\\"}, {\\\"attributes\\\": {}, \\\"id\\\": \\\"2648\\\", \\\"type\\\": \\\"UnionRenderers\\\"}, {\\\"attributes\\\": {\\\"data_source\\\": {\\\"id\\\": \\\"2632\\\"}, \\\"glyph\\\": {\\\"id\\\": \\\"2635\\\"}, \\\"hover_glyph\\\": null, \\\"muted_glyph\\\": {\\\"id\\\": \\\"2637\\\"}, \\\"nonselection_glyph\\\": {\\\"id\\\": \\\"2636\\\"}, \\\"selection_glyph\\\": null, \\\"view\\\": {\\\"id\\\": \\\"2639\\\"}}, \\\"id\\\": \\\"2638\\\", \\\"type\\\": \\\"GlyphRenderer\\\"}, {\\\"attributes\\\": {\\\"label\\\": {\\\"value\\\": \\\"gross_rent\\\"}, \\\"renderers\\\": [{\\\"id\\\": \\\"2620\\\"}]}, \\\"id\\\": \\\"2631\\\", \\\"type\\\": \\\"LegendItem\\\"}, {\\\"attributes\\\": {}, \\\"id\\\": \\\"2628\\\", \\\"type\\\": \\\"UnionRenderers\\\"}, {\\\"attributes\\\": {}, \\\"id\\\": \\\"2615\\\", \\\"type\\\": \\\"Selection\\\"}, {\\\"attributes\\\": {\\\"line_alpha\\\": 0.2, \\\"line_color\\\": \\\"#1f77b3\\\", \\\"line_width\\\": 2, \\\"x\\\": {\\\"field\\\": \\\"year\\\"}, \\\"y\\\": {\\\"field\\\": \\\"value\\\"}}, \\\"id\\\": \\\"2619\\\", \\\"type\\\": \\\"Line\\\"}, {\\\"attributes\\\": {}, \\\"id\\\": \\\"2633\\\", \\\"type\\\": \\\"Selection\\\"}]}\",\"header\":\"{\\\"msgid\\\": \\\"3207\\\", \\\"msgtype\\\": \\\"PATCH-DOC\\\"}\",\"metadata\":\"{}\"},\"South of Market\":{\"content\":\"{\\\"events\\\": [{\\\"attr\\\": \\\"factors\\\", \\\"kind\\\": \\\"ModelChanged\\\", \\\"model\\\": {\\\"id\\\": \\\"2577\\\"}, \\\"new\\\": [\\\"2010\\\", \\\"2011\\\", \\\"2012\\\", \\\"2013\\\", \\\"2014\\\", \\\"2015\\\", \\\"2016\\\"]}, {\\\"cols\\\": null, \\\"column_source\\\": {\\\"id\\\": \\\"2614\\\"}, \\\"kind\\\": \\\"ColumnDataChanged\\\", \\\"new\\\": {\\\"Variable\\\": [\\\"gross_rent\\\", \\\"gross_rent\\\", \\\"gross_rent\\\", \\\"gross_rent\\\", \\\"gross_rent\\\", \\\"gross_rent\\\", \\\"gross_rent\\\"], \\\"value\\\": [1239, 1530, 2324, 2971, 3528, 3739, 4390], \\\"year\\\": [\\\"2010\\\", \\\"2011\\\", \\\"2012\\\", \\\"2013\\\", \\\"2014\\\", \\\"2015\\\", \\\"2016\\\"]}}, {\\\"cols\\\": null, \\\"column_source\\\": {\\\"id\\\": \\\"2632\\\"}, \\\"kind\\\": \\\"ColumnDataChanged\\\", \\\"new\\\": {\\\"Variable\\\": [\\\"sale_price_sqr_foot\\\", \\\"sale_price_sqr_foot\\\", \\\"sale_price_sqr_foot\\\", \\\"sale_price_sqr_foot\\\", \\\"sale_price_sqr_foot\\\", \\\"sale_price_sqr_foot\\\", \\\"sale_price_sqr_foot\\\"], \\\"value\\\": {\\\"__ndarray__\\\": \\\"NvbXUbwUeUDj6aVLoB51QFu0jVj1/HxAwhgJqydNekC8oacCW3+RQCGjXgupaIZAeO0bSxeZgEA=\\\", \\\"dtype\\\": \\\"float64\\\", \\\"order\\\": \\\"little\\\", \\\"shape\\\": [7]}, \\\"year\\\": [\\\"2010\\\", \\\"2011\\\", \\\"2012\\\", \\\"2013\\\", \\\"2014\\\", \\\"2015\\\", \\\"2016\\\"]}}, {\\\"attr\\\": \\\"text\\\", \\\"kind\\\": \\\"ModelChanged\\\", \\\"model\\\": {\\\"id\\\": \\\"2582\\\"}, \\\"new\\\": \\\"neighborhood: South of Market\\\"}, {\\\"attr\\\": \\\"right\\\", \\\"kind\\\": \\\"ModelChanged\\\", \\\"model\\\": {\\\"id\\\": \\\"2581\\\"}, \\\"new\\\": [{\\\"id\\\": \\\"2630\\\"}]}], \\\"references\\\": [{\\\"attributes\\\": {\\\"click_policy\\\": \\\"mute\\\", \\\"items\\\": [{\\\"id\\\": \\\"2631\\\"}, {\\\"id\\\": \\\"2650\\\"}], \\\"location\\\": [0, 0], \\\"title\\\": \\\"Variable\\\"}, \\\"id\\\": \\\"2630\\\", \\\"type\\\": \\\"Legend\\\"}, {\\\"attributes\\\": {\\\"line_alpha\\\": 0.1, \\\"line_color\\\": \\\"#1f77b3\\\", \\\"line_width\\\": 2, \\\"x\\\": {\\\"field\\\": \\\"year\\\"}, \\\"y\\\": {\\\"field\\\": \\\"value\\\"}}, \\\"id\\\": \\\"2618\\\", \\\"type\\\": \\\"Line\\\"}, {\\\"attributes\\\": {\\\"source\\\": {\\\"id\\\": \\\"2632\\\"}}, \\\"id\\\": \\\"2639\\\", \\\"type\\\": \\\"CDSView\\\"}, {\\\"attributes\\\": {\\\"label\\\": {\\\"value\\\": \\\"sale_price_sqr_foot\\\"}, \\\"renderers\\\": [{\\\"id\\\": \\\"2638\\\"}]}, \\\"id\\\": \\\"2650\\\", \\\"type\\\": \\\"LegendItem\\\"}, {\\\"attributes\\\": {\\\"data\\\": {\\\"Variable\\\": [\\\"gross_rent\\\", \\\"gross_rent\\\", \\\"gross_rent\\\", \\\"gross_rent\\\", \\\"gross_rent\\\", \\\"gross_rent\\\", \\\"gross_rent\\\"], \\\"value\\\": [1239, 1530, 2324, 2971, 3528, 3739, 4390], \\\"year\\\": [\\\"2010\\\", \\\"2011\\\", \\\"2012\\\", \\\"2013\\\", \\\"2014\\\", \\\"2015\\\", \\\"2016\\\"]}, \\\"selected\\\": {\\\"id\\\": \\\"2615\\\"}, \\\"selection_policy\\\": {\\\"id\\\": \\\"2628\\\"}}, \\\"id\\\": \\\"2614\\\", \\\"type\\\": \\\"ColumnDataSource\\\"}, {\\\"attributes\\\": {\\\"data_source\\\": {\\\"id\\\": \\\"2614\\\"}, \\\"glyph\\\": {\\\"id\\\": \\\"2617\\\"}, \\\"hover_glyph\\\": null, \\\"muted_glyph\\\": {\\\"id\\\": \\\"2619\\\"}, \\\"nonselection_glyph\\\": {\\\"id\\\": \\\"2618\\\"}, \\\"selection_glyph\\\": null, \\\"view\\\": {\\\"id\\\": \\\"2621\\\"}}, \\\"id\\\": \\\"2620\\\", \\\"type\\\": \\\"GlyphRenderer\\\"}, {\\\"attributes\\\": {\\\"line_color\\\": \\\"#ff7e0e\\\", \\\"line_width\\\": 2, \\\"x\\\": {\\\"field\\\": \\\"year\\\"}, \\\"y\\\": {\\\"field\\\": \\\"value\\\"}}, \\\"id\\\": \\\"2635\\\", \\\"type\\\": \\\"Line\\\"}, {\\\"attributes\\\": {\\\"line_alpha\\\": 0.2, \\\"line_color\\\": \\\"#ff7e0e\\\", \\\"line_width\\\": 2, \\\"x\\\": {\\\"field\\\": \\\"year\\\"}, \\\"y\\\": {\\\"field\\\": \\\"value\\\"}}, \\\"id\\\": \\\"2637\\\", \\\"type\\\": \\\"Line\\\"}, {\\\"attributes\\\": {\\\"data\\\": {\\\"Variable\\\": [\\\"sale_price_sqr_foot\\\", \\\"sale_price_sqr_foot\\\", \\\"sale_price_sqr_foot\\\", \\\"sale_price_sqr_foot\\\", \\\"sale_price_sqr_foot\\\", \\\"sale_price_sqr_foot\\\", \\\"sale_price_sqr_foot\\\"], \\\"value\\\": {\\\"__ndarray__\\\": \\\"NvbXUbwUeUDj6aVLoB51QFu0jVj1/HxAwhgJqydNekC8oacCW3+RQCGjXgupaIZAeO0bSxeZgEA=\\\", \\\"dtype\\\": \\\"float64\\\", \\\"order\\\": \\\"little\\\", \\\"shape\\\": [7]}, \\\"year\\\": [\\\"2010\\\", \\\"2011\\\", \\\"2012\\\", \\\"2013\\\", \\\"2014\\\", \\\"2015\\\", \\\"2016\\\"]}, \\\"selected\\\": {\\\"id\\\": \\\"2633\\\"}, \\\"selection_policy\\\": {\\\"id\\\": \\\"2648\\\"}}, \\\"id\\\": \\\"2632\\\", \\\"type\\\": \\\"ColumnDataSource\\\"}, {\\\"attributes\\\": {\\\"source\\\": {\\\"id\\\": \\\"2614\\\"}}, \\\"id\\\": \\\"2621\\\", \\\"type\\\": \\\"CDSView\\\"}, {\\\"attributes\\\": {\\\"line_color\\\": \\\"#1f77b3\\\", \\\"line_width\\\": 2, \\\"x\\\": {\\\"field\\\": \\\"year\\\"}, \\\"y\\\": {\\\"field\\\": \\\"value\\\"}}, \\\"id\\\": \\\"2617\\\", \\\"type\\\": \\\"Line\\\"}, {\\\"attributes\\\": {\\\"line_alpha\\\": 0.1, \\\"line_color\\\": \\\"#ff7e0e\\\", \\\"line_width\\\": 2, \\\"x\\\": {\\\"field\\\": \\\"year\\\"}, \\\"y\\\": {\\\"field\\\": \\\"value\\\"}}, \\\"id\\\": \\\"2636\\\", \\\"type\\\": \\\"Line\\\"}, {\\\"attributes\\\": {}, \\\"id\\\": \\\"2648\\\", \\\"type\\\": \\\"UnionRenderers\\\"}, {\\\"attributes\\\": {\\\"data_source\\\": {\\\"id\\\": \\\"2632\\\"}, \\\"glyph\\\": {\\\"id\\\": \\\"2635\\\"}, \\\"hover_glyph\\\": null, \\\"muted_glyph\\\": {\\\"id\\\": \\\"2637\\\"}, \\\"nonselection_glyph\\\": {\\\"id\\\": \\\"2636\\\"}, \\\"selection_glyph\\\": null, \\\"view\\\": {\\\"id\\\": \\\"2639\\\"}}, \\\"id\\\": \\\"2638\\\", \\\"type\\\": \\\"GlyphRenderer\\\"}, {\\\"attributes\\\": {\\\"label\\\": {\\\"value\\\": \\\"gross_rent\\\"}, \\\"renderers\\\": [{\\\"id\\\": \\\"2620\\\"}]}, \\\"id\\\": \\\"2631\\\", \\\"type\\\": \\\"LegendItem\\\"}, {\\\"attributes\\\": {}, \\\"id\\\": \\\"2628\\\", \\\"type\\\": \\\"UnionRenderers\\\"}, {\\\"attributes\\\": {}, \\\"id\\\": \\\"2615\\\", \\\"type\\\": \\\"Selection\\\"}, {\\\"attributes\\\": {\\\"line_alpha\\\": 0.2, \\\"line_color\\\": \\\"#1f77b3\\\", \\\"line_width\\\": 2, \\\"x\\\": {\\\"field\\\": \\\"year\\\"}, \\\"y\\\": {\\\"field\\\": \\\"value\\\"}}, \\\"id\\\": \\\"2619\\\", \\\"type\\\": \\\"Line\\\"}, {\\\"attributes\\\": {}, \\\"id\\\": \\\"2633\\\", \\\"type\\\": \\\"Selection\\\"}]}\",\"header\":\"{\\\"msgid\\\": \\\"3174\\\", \\\"msgtype\\\": \\\"PATCH-DOC\\\"}\",\"metadata\":\"{}\"},\"Sunnyside\":{\"content\":\"{\\\"events\\\": [{\\\"attr\\\": \\\"factors\\\", \\\"kind\\\": \\\"ModelChanged\\\", \\\"model\\\": {\\\"id\\\": \\\"2577\\\"}, \\\"new\\\": [\\\"2010\\\", \\\"2011\\\", \\\"2013\\\", \\\"2014\\\", \\\"2015\\\", \\\"2016\\\"]}, {\\\"cols\\\": null, \\\"column_source\\\": {\\\"id\\\": \\\"2614\\\"}, \\\"kind\\\": \\\"ColumnDataChanged\\\", \\\"new\\\": {\\\"Variable\\\": [\\\"gross_rent\\\", \\\"gross_rent\\\", \\\"gross_rent\\\", \\\"gross_rent\\\", \\\"gross_rent\\\", \\\"gross_rent\\\"], \\\"value\\\": [1239, 1530, 2971, 3528, 3739, 4390], \\\"year\\\": [\\\"2010\\\", \\\"2011\\\", \\\"2013\\\", \\\"2014\\\", \\\"2015\\\", \\\"2016\\\"]}}, {\\\"cols\\\": null, \\\"column_source\\\": {\\\"id\\\": \\\"2632\\\"}, \\\"kind\\\": \\\"ColumnDataChanged\\\", \\\"new\\\": {\\\"Variable\\\": [\\\"sale_price_sqr_foot\\\", \\\"sale_price_sqr_foot\\\", \\\"sale_price_sqr_foot\\\", \\\"sale_price_sqr_foot\\\", \\\"sale_price_sqr_foot\\\", \\\"sale_price_sqr_foot\\\"], \\\"value\\\": {\\\"__ndarray__\\\": \\\"f6R84kD0gECgDIH4oFJ7QPXbPGNbnX9AnvFbKErXfkARQeSF/3t7QNaZgMFjeYdA\\\", \\\"dtype\\\": \\\"float64\\\", \\\"order\\\": \\\"little\\\", \\\"shape\\\": [6]}, \\\"year\\\": [\\\"2010\\\", \\\"2011\\\", \\\"2013\\\", \\\"2014\\\", \\\"2015\\\", \\\"2016\\\"]}}, {\\\"attr\\\": \\\"text\\\", \\\"kind\\\": \\\"ModelChanged\\\", \\\"model\\\": {\\\"id\\\": \\\"2582\\\"}, \\\"new\\\": \\\"neighborhood: Sunnyside\\\"}, {\\\"attr\\\": \\\"right\\\", \\\"kind\\\": \\\"ModelChanged\\\", \\\"model\\\": {\\\"id\\\": \\\"2581\\\"}, \\\"new\\\": [{\\\"id\\\": \\\"2630\\\"}]}], \\\"references\\\": [{\\\"attributes\\\": {\\\"click_policy\\\": \\\"mute\\\", \\\"items\\\": [{\\\"id\\\": \\\"2631\\\"}, {\\\"id\\\": \\\"2650\\\"}], \\\"location\\\": [0, 0], \\\"title\\\": \\\"Variable\\\"}, \\\"id\\\": \\\"2630\\\", \\\"type\\\": \\\"Legend\\\"}, {\\\"attributes\\\": {\\\"line_alpha\\\": 0.1, \\\"line_color\\\": \\\"#1f77b3\\\", \\\"line_width\\\": 2, \\\"x\\\": {\\\"field\\\": \\\"year\\\"}, \\\"y\\\": {\\\"field\\\": \\\"value\\\"}}, \\\"id\\\": \\\"2618\\\", \\\"type\\\": \\\"Line\\\"}, {\\\"attributes\\\": {\\\"source\\\": {\\\"id\\\": \\\"2632\\\"}}, \\\"id\\\": \\\"2639\\\", \\\"type\\\": \\\"CDSView\\\"}, {\\\"attributes\\\": {\\\"label\\\": {\\\"value\\\": \\\"sale_price_sqr_foot\\\"}, \\\"renderers\\\": [{\\\"id\\\": \\\"2638\\\"}]}, \\\"id\\\": \\\"2650\\\", \\\"type\\\": \\\"LegendItem\\\"}, {\\\"attributes\\\": {\\\"data\\\": {\\\"Variable\\\": [\\\"gross_rent\\\", \\\"gross_rent\\\", \\\"gross_rent\\\", \\\"gross_rent\\\", \\\"gross_rent\\\", \\\"gross_rent\\\"], \\\"value\\\": [1239, 1530, 2971, 3528, 3739, 4390], \\\"year\\\": [\\\"2010\\\", \\\"2011\\\", \\\"2013\\\", \\\"2014\\\", \\\"2015\\\", \\\"2016\\\"]}, \\\"selected\\\": {\\\"id\\\": \\\"2615\\\"}, \\\"selection_policy\\\": {\\\"id\\\": \\\"2628\\\"}}, \\\"id\\\": \\\"2614\\\", \\\"type\\\": \\\"ColumnDataSource\\\"}, {\\\"attributes\\\": {\\\"data_source\\\": {\\\"id\\\": \\\"2614\\\"}, \\\"glyph\\\": {\\\"id\\\": \\\"2617\\\"}, \\\"hover_glyph\\\": null, \\\"muted_glyph\\\": {\\\"id\\\": \\\"2619\\\"}, \\\"nonselection_glyph\\\": {\\\"id\\\": \\\"2618\\\"}, \\\"selection_glyph\\\": null, \\\"view\\\": {\\\"id\\\": \\\"2621\\\"}}, \\\"id\\\": \\\"2620\\\", \\\"type\\\": \\\"GlyphRenderer\\\"}, {\\\"attributes\\\": {\\\"line_color\\\": \\\"#ff7e0e\\\", \\\"line_width\\\": 2, \\\"x\\\": {\\\"field\\\": \\\"year\\\"}, \\\"y\\\": {\\\"field\\\": \\\"value\\\"}}, \\\"id\\\": \\\"2635\\\", \\\"type\\\": \\\"Line\\\"}, {\\\"attributes\\\": {\\\"line_alpha\\\": 0.2, \\\"line_color\\\": \\\"#ff7e0e\\\", \\\"line_width\\\": 2, \\\"x\\\": {\\\"field\\\": \\\"year\\\"}, \\\"y\\\": {\\\"field\\\": \\\"value\\\"}}, \\\"id\\\": \\\"2637\\\", \\\"type\\\": \\\"Line\\\"}, {\\\"attributes\\\": {\\\"data\\\": {\\\"Variable\\\": [\\\"sale_price_sqr_foot\\\", \\\"sale_price_sqr_foot\\\", \\\"sale_price_sqr_foot\\\", \\\"sale_price_sqr_foot\\\", \\\"sale_price_sqr_foot\\\", \\\"sale_price_sqr_foot\\\"], \\\"value\\\": {\\\"__ndarray__\\\": \\\"f6R84kD0gECgDIH4oFJ7QPXbPGNbnX9AnvFbKErXfkARQeSF/3t7QNaZgMFjeYdA\\\", \\\"dtype\\\": \\\"float64\\\", \\\"order\\\": \\\"little\\\", \\\"shape\\\": [6]}, \\\"year\\\": [\\\"2010\\\", \\\"2011\\\", \\\"2013\\\", \\\"2014\\\", \\\"2015\\\", \\\"2016\\\"]}, \\\"selected\\\": {\\\"id\\\": \\\"2633\\\"}, \\\"selection_policy\\\": {\\\"id\\\": \\\"2648\\\"}}, \\\"id\\\": \\\"2632\\\", \\\"type\\\": \\\"ColumnDataSource\\\"}, {\\\"attributes\\\": {\\\"source\\\": {\\\"id\\\": \\\"2614\\\"}}, \\\"id\\\": \\\"2621\\\", \\\"type\\\": \\\"CDSView\\\"}, {\\\"attributes\\\": {\\\"line_color\\\": \\\"#1f77b3\\\", \\\"line_width\\\": 2, \\\"x\\\": {\\\"field\\\": \\\"year\\\"}, \\\"y\\\": {\\\"field\\\": \\\"value\\\"}}, \\\"id\\\": \\\"2617\\\", \\\"type\\\": \\\"Line\\\"}, {\\\"attributes\\\": {\\\"line_alpha\\\": 0.1, \\\"line_color\\\": \\\"#ff7e0e\\\", \\\"line_width\\\": 2, \\\"x\\\": {\\\"field\\\": \\\"year\\\"}, \\\"y\\\": {\\\"field\\\": \\\"value\\\"}}, \\\"id\\\": \\\"2636\\\", \\\"type\\\": \\\"Line\\\"}, {\\\"attributes\\\": {}, \\\"id\\\": \\\"2648\\\", \\\"type\\\": \\\"UnionRenderers\\\"}, {\\\"attributes\\\": {\\\"data_source\\\": {\\\"id\\\": \\\"2632\\\"}, \\\"glyph\\\": {\\\"id\\\": \\\"2635\\\"}, \\\"hover_glyph\\\": null, \\\"muted_glyph\\\": {\\\"id\\\": \\\"2637\\\"}, \\\"nonselection_glyph\\\": {\\\"id\\\": \\\"2636\\\"}, \\\"selection_glyph\\\": null, \\\"view\\\": {\\\"id\\\": \\\"2639\\\"}}, \\\"id\\\": \\\"2638\\\", \\\"type\\\": \\\"GlyphRenderer\\\"}, {\\\"attributes\\\": {\\\"label\\\": {\\\"value\\\": \\\"gross_rent\\\"}, \\\"renderers\\\": [{\\\"id\\\": \\\"2620\\\"}]}, \\\"id\\\": \\\"2631\\\", \\\"type\\\": \\\"LegendItem\\\"}, {\\\"attributes\\\": {}, \\\"id\\\": \\\"2628\\\", \\\"type\\\": \\\"UnionRenderers\\\"}, {\\\"attributes\\\": {}, \\\"id\\\": \\\"2615\\\", \\\"type\\\": \\\"Selection\\\"}, {\\\"attributes\\\": {\\\"line_alpha\\\": 0.2, \\\"line_color\\\": \\\"#1f77b3\\\", \\\"line_width\\\": 2, \\\"x\\\": {\\\"field\\\": \\\"year\\\"}, \\\"y\\\": {\\\"field\\\": \\\"value\\\"}}, \\\"id\\\": \\\"2619\\\", \\\"type\\\": \\\"Line\\\"}, {\\\"attributes\\\": {}, \\\"id\\\": \\\"2633\\\", \\\"type\\\": \\\"Selection\\\"}]}\",\"header\":\"{\\\"msgid\\\": \\\"3141\\\", \\\"msgtype\\\": \\\"PATCH-DOC\\\"}\",\"metadata\":\"{}\"},\"Telegraph Hill\":{\"content\":\"{\\\"events\\\": [{\\\"cols\\\": null, \\\"column_source\\\": {\\\"id\\\": \\\"2614\\\"}, \\\"kind\\\": \\\"ColumnDataChanged\\\", \\\"new\\\": {\\\"Variable\\\": [\\\"gross_rent\\\", \\\"gross_rent\\\", \\\"gross_rent\\\", \\\"gross_rent\\\", \\\"gross_rent\\\", \\\"gross_rent\\\", \\\"gross_rent\\\"], \\\"value\\\": [1239, 1530, 2324, 2971, 3528, 3739, 4390], \\\"year\\\": [\\\"2010\\\", \\\"2011\\\", \\\"2012\\\", \\\"2013\\\", \\\"2014\\\", \\\"2015\\\", \\\"2016\\\"]}}, {\\\"cols\\\": null, \\\"column_source\\\": {\\\"id\\\": \\\"2632\\\"}, \\\"kind\\\": \\\"ColumnDataChanged\\\", \\\"new\\\": {\\\"Variable\\\": [\\\"sale_price_sqr_foot\\\", \\\"sale_price_sqr_foot\\\", \\\"sale_price_sqr_foot\\\", \\\"sale_price_sqr_foot\\\", \\\"sale_price_sqr_foot\\\", \\\"sale_price_sqr_foot\\\", \\\"sale_price_sqr_foot\\\"], \\\"value\\\": {\\\"__ndarray__\\\": \\\"COpLG1lmgEAS2VILfjZ+QB7+fX3VHH1AM0HkMH5qhECxLjJUiyGGQPfUt/jrJ49AqrAg7mU4jEA=\\\", \\\"dtype\\\": \\\"float64\\\", \\\"order\\\": \\\"little\\\", \\\"shape\\\": [7]}, \\\"year\\\": [\\\"2010\\\", \\\"2011\\\", \\\"2012\\\", \\\"2013\\\", \\\"2014\\\", \\\"2015\\\", \\\"2016\\\"]}}, {\\\"attr\\\": \\\"text\\\", \\\"kind\\\": \\\"ModelChanged\\\", \\\"model\\\": {\\\"id\\\": \\\"2582\\\"}, \\\"new\\\": \\\"neighborhood: Telegraph Hill\\\"}, {\\\"attr\\\": \\\"right\\\", \\\"kind\\\": \\\"ModelChanged\\\", \\\"model\\\": {\\\"id\\\": \\\"2581\\\"}, \\\"new\\\": [{\\\"id\\\": \\\"2630\\\"}]}], \\\"references\\\": [{\\\"attributes\\\": {\\\"click_policy\\\": \\\"mute\\\", \\\"items\\\": [{\\\"id\\\": \\\"2631\\\"}, {\\\"id\\\": \\\"2650\\\"}], \\\"location\\\": [0, 0], \\\"title\\\": \\\"Variable\\\"}, \\\"id\\\": \\\"2630\\\", \\\"type\\\": \\\"Legend\\\"}, {\\\"attributes\\\": {\\\"line_alpha\\\": 0.1, \\\"line_color\\\": \\\"#1f77b3\\\", \\\"line_width\\\": 2, \\\"x\\\": {\\\"field\\\": \\\"year\\\"}, \\\"y\\\": {\\\"field\\\": \\\"value\\\"}}, \\\"id\\\": \\\"2618\\\", \\\"type\\\": \\\"Line\\\"}, {\\\"attributes\\\": {\\\"source\\\": {\\\"id\\\": \\\"2632\\\"}}, \\\"id\\\": \\\"2639\\\", \\\"type\\\": \\\"CDSView\\\"}, {\\\"attributes\\\": {\\\"label\\\": {\\\"value\\\": \\\"sale_price_sqr_foot\\\"}, \\\"renderers\\\": [{\\\"id\\\": \\\"2638\\\"}]}, \\\"id\\\": \\\"2650\\\", \\\"type\\\": \\\"LegendItem\\\"}, {\\\"attributes\\\": {\\\"data\\\": {\\\"Variable\\\": [\\\"gross_rent\\\", \\\"gross_rent\\\", \\\"gross_rent\\\", \\\"gross_rent\\\", \\\"gross_rent\\\", \\\"gross_rent\\\", \\\"gross_rent\\\"], \\\"value\\\": [1239, 1530, 2324, 2971, 3528, 3739, 4390], \\\"year\\\": [\\\"2010\\\", \\\"2011\\\", \\\"2012\\\", \\\"2013\\\", \\\"2014\\\", \\\"2015\\\", \\\"2016\\\"]}, \\\"selected\\\": {\\\"id\\\": \\\"2615\\\"}, \\\"selection_policy\\\": {\\\"id\\\": \\\"2628\\\"}}, \\\"id\\\": \\\"2614\\\", \\\"type\\\": \\\"ColumnDataSource\\\"}, {\\\"attributes\\\": {\\\"data_source\\\": {\\\"id\\\": \\\"2614\\\"}, \\\"glyph\\\": {\\\"id\\\": \\\"2617\\\"}, \\\"hover_glyph\\\": null, \\\"muted_glyph\\\": {\\\"id\\\": \\\"2619\\\"}, \\\"nonselection_glyph\\\": {\\\"id\\\": \\\"2618\\\"}, \\\"selection_glyph\\\": null, \\\"view\\\": {\\\"id\\\": \\\"2621\\\"}}, \\\"id\\\": \\\"2620\\\", \\\"type\\\": \\\"GlyphRenderer\\\"}, {\\\"attributes\\\": {\\\"line_color\\\": \\\"#ff7e0e\\\", \\\"line_width\\\": 2, \\\"x\\\": {\\\"field\\\": \\\"year\\\"}, \\\"y\\\": {\\\"field\\\": \\\"value\\\"}}, \\\"id\\\": \\\"2635\\\", \\\"type\\\": \\\"Line\\\"}, {\\\"attributes\\\": {\\\"line_alpha\\\": 0.2, \\\"line_color\\\": \\\"#ff7e0e\\\", \\\"line_width\\\": 2, \\\"x\\\": {\\\"field\\\": \\\"year\\\"}, \\\"y\\\": {\\\"field\\\": \\\"value\\\"}}, \\\"id\\\": \\\"2637\\\", \\\"type\\\": \\\"Line\\\"}, {\\\"attributes\\\": {\\\"data\\\": {\\\"Variable\\\": [\\\"sale_price_sqr_foot\\\", \\\"sale_price_sqr_foot\\\", \\\"sale_price_sqr_foot\\\", \\\"sale_price_sqr_foot\\\", \\\"sale_price_sqr_foot\\\", \\\"sale_price_sqr_foot\\\", \\\"sale_price_sqr_foot\\\"], \\\"value\\\": {\\\"__ndarray__\\\": \\\"COpLG1lmgEAS2VILfjZ+QB7+fX3VHH1AM0HkMH5qhECxLjJUiyGGQPfUt/jrJ49AqrAg7mU4jEA=\\\", \\\"dtype\\\": \\\"float64\\\", \\\"order\\\": \\\"little\\\", \\\"shape\\\": [7]}, \\\"year\\\": [\\\"2010\\\", \\\"2011\\\", \\\"2012\\\", \\\"2013\\\", \\\"2014\\\", \\\"2015\\\", \\\"2016\\\"]}, \\\"selected\\\": {\\\"id\\\": \\\"2633\\\"}, \\\"selection_policy\\\": {\\\"id\\\": \\\"2648\\\"}}, \\\"id\\\": \\\"2632\\\", \\\"type\\\": \\\"ColumnDataSource\\\"}, {\\\"attributes\\\": {\\\"source\\\": {\\\"id\\\": \\\"2614\\\"}}, \\\"id\\\": \\\"2621\\\", \\\"type\\\": \\\"CDSView\\\"}, {\\\"attributes\\\": {\\\"line_color\\\": \\\"#1f77b3\\\", \\\"line_width\\\": 2, \\\"x\\\": {\\\"field\\\": \\\"year\\\"}, \\\"y\\\": {\\\"field\\\": \\\"value\\\"}}, \\\"id\\\": \\\"2617\\\", \\\"type\\\": \\\"Line\\\"}, {\\\"attributes\\\": {\\\"line_alpha\\\": 0.1, \\\"line_color\\\": \\\"#ff7e0e\\\", \\\"line_width\\\": 2, \\\"x\\\": {\\\"field\\\": \\\"year\\\"}, \\\"y\\\": {\\\"field\\\": \\\"value\\\"}}, \\\"id\\\": \\\"2636\\\", \\\"type\\\": \\\"Line\\\"}, {\\\"attributes\\\": {}, \\\"id\\\": \\\"2648\\\", \\\"type\\\": \\\"UnionRenderers\\\"}, {\\\"attributes\\\": {\\\"data_source\\\": {\\\"id\\\": \\\"2632\\\"}, \\\"glyph\\\": {\\\"id\\\": \\\"2635\\\"}, \\\"hover_glyph\\\": null, \\\"muted_glyph\\\": {\\\"id\\\": \\\"2637\\\"}, \\\"nonselection_glyph\\\": {\\\"id\\\": \\\"2636\\\"}, \\\"selection_glyph\\\": null, \\\"view\\\": {\\\"id\\\": \\\"2639\\\"}}, \\\"id\\\": \\\"2638\\\", \\\"type\\\": \\\"GlyphRenderer\\\"}, {\\\"attributes\\\": {\\\"label\\\": {\\\"value\\\": \\\"gross_rent\\\"}, \\\"renderers\\\": [{\\\"id\\\": \\\"2620\\\"}]}, \\\"id\\\": \\\"2631\\\", \\\"type\\\": \\\"LegendItem\\\"}, {\\\"attributes\\\": {}, \\\"id\\\": \\\"2628\\\", \\\"type\\\": \\\"UnionRenderers\\\"}, {\\\"attributes\\\": {}, \\\"id\\\": \\\"2615\\\", \\\"type\\\": \\\"Selection\\\"}, {\\\"attributes\\\": {\\\"line_alpha\\\": 0.2, \\\"line_color\\\": \\\"#1f77b3\\\", \\\"line_width\\\": 2, \\\"x\\\": {\\\"field\\\": \\\"year\\\"}, \\\"y\\\": {\\\"field\\\": \\\"value\\\"}}, \\\"id\\\": \\\"2619\\\", \\\"type\\\": \\\"Line\\\"}, {\\\"attributes\\\": {}, \\\"id\\\": \\\"2633\\\", \\\"type\\\": \\\"Selection\\\"}]}\",\"header\":\"{\\\"msgid\\\": \\\"3108\\\", \\\"msgtype\\\": \\\"PATCH-DOC\\\"}\",\"metadata\":\"{}\"},\"Twin Peaks\":{\"content\":\"{\\\"events\\\": [{\\\"attr\\\": \\\"factors\\\", \\\"kind\\\": \\\"ModelChanged\\\", \\\"model\\\": {\\\"id\\\": \\\"2577\\\"}, \\\"new\\\": [\\\"2010\\\", \\\"2011\\\", \\\"2012\\\", \\\"2013\\\", \\\"2014\\\", \\\"2015\\\", \\\"2016\\\"]}, {\\\"cols\\\": null, \\\"column_source\\\": {\\\"id\\\": \\\"2614\\\"}, \\\"kind\\\": \\\"ColumnDataChanged\\\", \\\"new\\\": {\\\"Variable\\\": [\\\"gross_rent\\\", \\\"gross_rent\\\", \\\"gross_rent\\\", \\\"gross_rent\\\", \\\"gross_rent\\\", \\\"gross_rent\\\", \\\"gross_rent\\\"], \\\"value\\\": [1239, 1530, 2324, 2971, 3528, 3739, 4390], \\\"year\\\": [\\\"2010\\\", \\\"2011\\\", \\\"2012\\\", \\\"2013\\\", \\\"2014\\\", \\\"2015\\\", \\\"2016\\\"]}}, {\\\"cols\\\": null, \\\"column_source\\\": {\\\"id\\\": \\\"2632\\\"}, \\\"kind\\\": \\\"ColumnDataChanged\\\", \\\"new\\\": {\\\"Variable\\\": [\\\"sale_price_sqr_foot\\\", \\\"sale_price_sqr_foot\\\", \\\"sale_price_sqr_foot\\\", \\\"sale_price_sqr_foot\\\", \\\"sale_price_sqr_foot\\\", \\\"sale_price_sqr_foot\\\", \\\"sale_price_sqr_foot\\\"], \\\"value\\\": {\\\"__ndarray__\\\": \\\"WOE2XOW4dEC1UWNLEslxQAmC4vRkDnNA+JW2mPjmeUDKE/I0SpeBQBwTSrZdFXpACq/wCq9QjkA=\\\", \\\"dtype\\\": \\\"float64\\\", \\\"order\\\": \\\"little\\\", \\\"shape\\\": [7]}, \\\"year\\\": [\\\"2010\\\", \\\"2011\\\", \\\"2012\\\", \\\"2013\\\", \\\"2014\\\", \\\"2015\\\", \\\"2016\\\"]}}, {\\\"attr\\\": \\\"text\\\", \\\"kind\\\": \\\"ModelChanged\\\", \\\"model\\\": {\\\"id\\\": \\\"2582\\\"}, \\\"new\\\": \\\"neighborhood: Twin Peaks\\\"}, {\\\"attr\\\": \\\"right\\\", \\\"kind\\\": \\\"ModelChanged\\\", \\\"model\\\": {\\\"id\\\": \\\"2581\\\"}, \\\"new\\\": [{\\\"id\\\": \\\"2630\\\"}]}], \\\"references\\\": [{\\\"attributes\\\": {\\\"click_policy\\\": \\\"mute\\\", \\\"items\\\": [{\\\"id\\\": \\\"2631\\\"}, {\\\"id\\\": \\\"2650\\\"}], \\\"location\\\": [0, 0], \\\"title\\\": \\\"Variable\\\"}, \\\"id\\\": \\\"2630\\\", \\\"type\\\": \\\"Legend\\\"}, {\\\"attributes\\\": {\\\"line_alpha\\\": 0.1, \\\"line_color\\\": \\\"#1f77b3\\\", \\\"line_width\\\": 2, \\\"x\\\": {\\\"field\\\": \\\"year\\\"}, \\\"y\\\": {\\\"field\\\": \\\"value\\\"}}, \\\"id\\\": \\\"2618\\\", \\\"type\\\": \\\"Line\\\"}, {\\\"attributes\\\": {\\\"source\\\": {\\\"id\\\": \\\"2632\\\"}}, \\\"id\\\": \\\"2639\\\", \\\"type\\\": \\\"CDSView\\\"}, {\\\"attributes\\\": {\\\"label\\\": {\\\"value\\\": \\\"sale_price_sqr_foot\\\"}, \\\"renderers\\\": [{\\\"id\\\": \\\"2638\\\"}]}, \\\"id\\\": \\\"2650\\\", \\\"type\\\": \\\"LegendItem\\\"}, {\\\"attributes\\\": {\\\"data\\\": {\\\"Variable\\\": [\\\"gross_rent\\\", \\\"gross_rent\\\", \\\"gross_rent\\\", \\\"gross_rent\\\", \\\"gross_rent\\\", \\\"gross_rent\\\", \\\"gross_rent\\\"], \\\"value\\\": [1239, 1530, 2324, 2971, 3528, 3739, 4390], \\\"year\\\": [\\\"2010\\\", \\\"2011\\\", \\\"2012\\\", \\\"2013\\\", \\\"2014\\\", \\\"2015\\\", \\\"2016\\\"]}, \\\"selected\\\": {\\\"id\\\": \\\"2615\\\"}, \\\"selection_policy\\\": {\\\"id\\\": \\\"2628\\\"}}, \\\"id\\\": \\\"2614\\\", \\\"type\\\": \\\"ColumnDataSource\\\"}, {\\\"attributes\\\": {\\\"data_source\\\": {\\\"id\\\": \\\"2614\\\"}, \\\"glyph\\\": {\\\"id\\\": \\\"2617\\\"}, \\\"hover_glyph\\\": null, \\\"muted_glyph\\\": {\\\"id\\\": \\\"2619\\\"}, \\\"nonselection_glyph\\\": {\\\"id\\\": \\\"2618\\\"}, \\\"selection_glyph\\\": null, \\\"view\\\": {\\\"id\\\": \\\"2621\\\"}}, \\\"id\\\": \\\"2620\\\", \\\"type\\\": \\\"GlyphRenderer\\\"}, {\\\"attributes\\\": {\\\"line_color\\\": \\\"#ff7e0e\\\", \\\"line_width\\\": 2, \\\"x\\\": {\\\"field\\\": \\\"year\\\"}, \\\"y\\\": {\\\"field\\\": \\\"value\\\"}}, \\\"id\\\": \\\"2635\\\", \\\"type\\\": \\\"Line\\\"}, {\\\"attributes\\\": {\\\"line_alpha\\\": 0.2, \\\"line_color\\\": \\\"#ff7e0e\\\", \\\"line_width\\\": 2, \\\"x\\\": {\\\"field\\\": \\\"year\\\"}, \\\"y\\\": {\\\"field\\\": \\\"value\\\"}}, \\\"id\\\": \\\"2637\\\", \\\"type\\\": \\\"Line\\\"}, {\\\"attributes\\\": {\\\"data\\\": {\\\"Variable\\\": [\\\"sale_price_sqr_foot\\\", \\\"sale_price_sqr_foot\\\", \\\"sale_price_sqr_foot\\\", \\\"sale_price_sqr_foot\\\", \\\"sale_price_sqr_foot\\\", \\\"sale_price_sqr_foot\\\", \\\"sale_price_sqr_foot\\\"], \\\"value\\\": {\\\"__ndarray__\\\": \\\"WOE2XOW4dEC1UWNLEslxQAmC4vRkDnNA+JW2mPjmeUDKE/I0SpeBQBwTSrZdFXpACq/wCq9QjkA=\\\", \\\"dtype\\\": \\\"float64\\\", \\\"order\\\": \\\"little\\\", \\\"shape\\\": [7]}, \\\"year\\\": [\\\"2010\\\", \\\"2011\\\", \\\"2012\\\", \\\"2013\\\", \\\"2014\\\", \\\"2015\\\", \\\"2016\\\"]}, \\\"selected\\\": {\\\"id\\\": \\\"2633\\\"}, \\\"selection_policy\\\": {\\\"id\\\": \\\"2648\\\"}}, \\\"id\\\": \\\"2632\\\", \\\"type\\\": \\\"ColumnDataSource\\\"}, {\\\"attributes\\\": {\\\"source\\\": {\\\"id\\\": \\\"2614\\\"}}, \\\"id\\\": \\\"2621\\\", \\\"type\\\": \\\"CDSView\\\"}, {\\\"attributes\\\": {\\\"line_color\\\": \\\"#1f77b3\\\", \\\"line_width\\\": 2, \\\"x\\\": {\\\"field\\\": \\\"year\\\"}, \\\"y\\\": {\\\"field\\\": \\\"value\\\"}}, \\\"id\\\": \\\"2617\\\", \\\"type\\\": \\\"Line\\\"}, {\\\"attributes\\\": {\\\"line_alpha\\\": 0.1, \\\"line_color\\\": \\\"#ff7e0e\\\", \\\"line_width\\\": 2, \\\"x\\\": {\\\"field\\\": \\\"year\\\"}, \\\"y\\\": {\\\"field\\\": \\\"value\\\"}}, \\\"id\\\": \\\"2636\\\", \\\"type\\\": \\\"Line\\\"}, {\\\"attributes\\\": {}, \\\"id\\\": \\\"2648\\\", \\\"type\\\": \\\"UnionRenderers\\\"}, {\\\"attributes\\\": {\\\"data_source\\\": {\\\"id\\\": \\\"2632\\\"}, \\\"glyph\\\": {\\\"id\\\": \\\"2635\\\"}, \\\"hover_glyph\\\": null, \\\"muted_glyph\\\": {\\\"id\\\": \\\"2637\\\"}, \\\"nonselection_glyph\\\": {\\\"id\\\": \\\"2636\\\"}, \\\"selection_glyph\\\": null, \\\"view\\\": {\\\"id\\\": \\\"2639\\\"}}, \\\"id\\\": \\\"2638\\\", \\\"type\\\": \\\"GlyphRenderer\\\"}, {\\\"attributes\\\": {\\\"label\\\": {\\\"value\\\": \\\"gross_rent\\\"}, \\\"renderers\\\": [{\\\"id\\\": \\\"2620\\\"}]}, \\\"id\\\": \\\"2631\\\", \\\"type\\\": \\\"LegendItem\\\"}, {\\\"attributes\\\": {}, \\\"id\\\": \\\"2628\\\", \\\"type\\\": \\\"UnionRenderers\\\"}, {\\\"attributes\\\": {}, \\\"id\\\": \\\"2615\\\", \\\"type\\\": \\\"Selection\\\"}, {\\\"attributes\\\": {\\\"line_alpha\\\": 0.2, \\\"line_color\\\": \\\"#1f77b3\\\", \\\"line_width\\\": 2, \\\"x\\\": {\\\"field\\\": \\\"year\\\"}, \\\"y\\\": {\\\"field\\\": \\\"value\\\"}}, \\\"id\\\": \\\"2619\\\", \\\"type\\\": \\\"Line\\\"}, {\\\"attributes\\\": {}, \\\"id\\\": \\\"2633\\\", \\\"type\\\": \\\"Selection\\\"}]}\",\"header\":\"{\\\"msgid\\\": \\\"3075\\\", \\\"msgtype\\\": \\\"PATCH-DOC\\\"}\",\"metadata\":\"{}\"},\"Union Square District\":{\"content\":\"{\\\"events\\\": [{\\\"attr\\\": \\\"factors\\\", \\\"kind\\\": \\\"ModelChanged\\\", \\\"model\\\": {\\\"id\\\": \\\"2577\\\"}, \\\"new\\\": [\\\"2010\\\", \\\"2011\\\", \\\"2012\\\", \\\"2013\\\", \\\"2014\\\", \\\"2015\\\"]}, {\\\"cols\\\": null, \\\"column_source\\\": {\\\"id\\\": \\\"2614\\\"}, \\\"kind\\\": \\\"ColumnDataChanged\\\", \\\"new\\\": {\\\"Variable\\\": [\\\"gross_rent\\\", \\\"gross_rent\\\", \\\"gross_rent\\\", \\\"gross_rent\\\", \\\"gross_rent\\\", \\\"gross_rent\\\"], \\\"value\\\": [1239, 1530, 2324, 2971, 3528, 3739], \\\"year\\\": [\\\"2010\\\", \\\"2011\\\", \\\"2012\\\", \\\"2013\\\", \\\"2014\\\", \\\"2015\\\"]}}, {\\\"cols\\\": null, \\\"column_source\\\": {\\\"id\\\": \\\"2632\\\"}, \\\"kind\\\": \\\"ColumnDataChanged\\\", \\\"new\\\": {\\\"Variable\\\": [\\\"sale_price_sqr_foot\\\", \\\"sale_price_sqr_foot\\\", \\\"sale_price_sqr_foot\\\", \\\"sale_price_sqr_foot\\\", \\\"sale_price_sqr_foot\\\", \\\"sale_price_sqr_foot\\\"], \\\"value\\\": {\\\"__ndarray__\\\": \\\"4Ic3LozJgUA7LPDX+OFyQDQwzQom03tAML7sb+MplEBCsqZAK3KBQAl/mNlnpaFA\\\", \\\"dtype\\\": \\\"float64\\\", \\\"order\\\": \\\"little\\\", \\\"shape\\\": [6]}, \\\"year\\\": [\\\"2010\\\", \\\"2011\\\", \\\"2012\\\", \\\"2013\\\", \\\"2014\\\", \\\"2015\\\"]}}, {\\\"attr\\\": \\\"text\\\", \\\"kind\\\": \\\"ModelChanged\\\", \\\"model\\\": {\\\"id\\\": \\\"2582\\\"}, \\\"new\\\": \\\"neighborhood: Union Square District\\\"}, {\\\"attr\\\": \\\"right\\\", \\\"kind\\\": \\\"ModelChanged\\\", \\\"model\\\": {\\\"id\\\": \\\"2581\\\"}, \\\"new\\\": [{\\\"id\\\": \\\"2630\\\"}]}], \\\"references\\\": [{\\\"attributes\\\": {\\\"click_policy\\\": \\\"mute\\\", \\\"items\\\": [{\\\"id\\\": \\\"2631\\\"}, {\\\"id\\\": \\\"2650\\\"}], \\\"location\\\": [0, 0], \\\"title\\\": \\\"Variable\\\"}, \\\"id\\\": \\\"2630\\\", \\\"type\\\": \\\"Legend\\\"}, {\\\"attributes\\\": {\\\"line_alpha\\\": 0.1, \\\"line_color\\\": \\\"#1f77b3\\\", \\\"line_width\\\": 2, \\\"x\\\": {\\\"field\\\": \\\"year\\\"}, \\\"y\\\": {\\\"field\\\": \\\"value\\\"}}, \\\"id\\\": \\\"2618\\\", \\\"type\\\": \\\"Line\\\"}, {\\\"attributes\\\": {\\\"source\\\": {\\\"id\\\": \\\"2632\\\"}}, \\\"id\\\": \\\"2639\\\", \\\"type\\\": \\\"CDSView\\\"}, {\\\"attributes\\\": {\\\"label\\\": {\\\"value\\\": \\\"sale_price_sqr_foot\\\"}, \\\"renderers\\\": [{\\\"id\\\": \\\"2638\\\"}]}, \\\"id\\\": \\\"2650\\\", \\\"type\\\": \\\"LegendItem\\\"}, {\\\"attributes\\\": {\\\"data\\\": {\\\"Variable\\\": [\\\"gross_rent\\\", \\\"gross_rent\\\", \\\"gross_rent\\\", \\\"gross_rent\\\", \\\"gross_rent\\\", \\\"gross_rent\\\"], \\\"value\\\": [1239, 1530, 2324, 2971, 3528, 3739], \\\"year\\\": [\\\"2010\\\", \\\"2011\\\", \\\"2012\\\", \\\"2013\\\", \\\"2014\\\", \\\"2015\\\"]}, \\\"selected\\\": {\\\"id\\\": \\\"2615\\\"}, \\\"selection_policy\\\": {\\\"id\\\": \\\"2628\\\"}}, \\\"id\\\": \\\"2614\\\", \\\"type\\\": \\\"ColumnDataSource\\\"}, {\\\"attributes\\\": {\\\"data_source\\\": {\\\"id\\\": \\\"2614\\\"}, \\\"glyph\\\": {\\\"id\\\": \\\"2617\\\"}, \\\"hover_glyph\\\": null, \\\"muted_glyph\\\": {\\\"id\\\": \\\"2619\\\"}, \\\"nonselection_glyph\\\": {\\\"id\\\": \\\"2618\\\"}, \\\"selection_glyph\\\": null, \\\"view\\\": {\\\"id\\\": \\\"2621\\\"}}, \\\"id\\\": \\\"2620\\\", \\\"type\\\": \\\"GlyphRenderer\\\"}, {\\\"attributes\\\": {\\\"line_color\\\": \\\"#ff7e0e\\\", \\\"line_width\\\": 2, \\\"x\\\": {\\\"field\\\": \\\"year\\\"}, \\\"y\\\": {\\\"field\\\": \\\"value\\\"}}, \\\"id\\\": \\\"2635\\\", \\\"type\\\": \\\"Line\\\"}, {\\\"attributes\\\": {\\\"line_alpha\\\": 0.2, \\\"line_color\\\": \\\"#ff7e0e\\\", \\\"line_width\\\": 2, \\\"x\\\": {\\\"field\\\": \\\"year\\\"}, \\\"y\\\": {\\\"field\\\": \\\"value\\\"}}, \\\"id\\\": \\\"2637\\\", \\\"type\\\": \\\"Line\\\"}, {\\\"attributes\\\": {\\\"data\\\": {\\\"Variable\\\": [\\\"sale_price_sqr_foot\\\", \\\"sale_price_sqr_foot\\\", \\\"sale_price_sqr_foot\\\", \\\"sale_price_sqr_foot\\\", \\\"sale_price_sqr_foot\\\", \\\"sale_price_sqr_foot\\\"], \\\"value\\\": {\\\"__ndarray__\\\": \\\"4Ic3LozJgUA7LPDX+OFyQDQwzQom03tAML7sb+MplEBCsqZAK3KBQAl/mNlnpaFA\\\", \\\"dtype\\\": \\\"float64\\\", \\\"order\\\": \\\"little\\\", \\\"shape\\\": [6]}, \\\"year\\\": [\\\"2010\\\", \\\"2011\\\", \\\"2012\\\", \\\"2013\\\", \\\"2014\\\", \\\"2015\\\"]}, \\\"selected\\\": {\\\"id\\\": \\\"2633\\\"}, \\\"selection_policy\\\": {\\\"id\\\": \\\"2648\\\"}}, \\\"id\\\": \\\"2632\\\", \\\"type\\\": \\\"ColumnDataSource\\\"}, {\\\"attributes\\\": {\\\"source\\\": {\\\"id\\\": \\\"2614\\\"}}, \\\"id\\\": \\\"2621\\\", \\\"type\\\": \\\"CDSView\\\"}, {\\\"attributes\\\": {\\\"line_color\\\": \\\"#1f77b3\\\", \\\"line_width\\\": 2, \\\"x\\\": {\\\"field\\\": \\\"year\\\"}, \\\"y\\\": {\\\"field\\\": \\\"value\\\"}}, \\\"id\\\": \\\"2617\\\", \\\"type\\\": \\\"Line\\\"}, {\\\"attributes\\\": {\\\"line_alpha\\\": 0.1, \\\"line_color\\\": \\\"#ff7e0e\\\", \\\"line_width\\\": 2, \\\"x\\\": {\\\"field\\\": \\\"year\\\"}, \\\"y\\\": {\\\"field\\\": \\\"value\\\"}}, \\\"id\\\": \\\"2636\\\", \\\"type\\\": \\\"Line\\\"}, {\\\"attributes\\\": {}, \\\"id\\\": \\\"2648\\\", \\\"type\\\": \\\"UnionRenderers\\\"}, {\\\"attributes\\\": {\\\"data_source\\\": {\\\"id\\\": \\\"2632\\\"}, \\\"glyph\\\": {\\\"id\\\": \\\"2635\\\"}, \\\"hover_glyph\\\": null, \\\"muted_glyph\\\": {\\\"id\\\": \\\"2637\\\"}, \\\"nonselection_glyph\\\": {\\\"id\\\": \\\"2636\\\"}, \\\"selection_glyph\\\": null, \\\"view\\\": {\\\"id\\\": \\\"2639\\\"}}, \\\"id\\\": \\\"2638\\\", \\\"type\\\": \\\"GlyphRenderer\\\"}, {\\\"attributes\\\": {\\\"label\\\": {\\\"value\\\": \\\"gross_rent\\\"}, \\\"renderers\\\": [{\\\"id\\\": \\\"2620\\\"}]}, \\\"id\\\": \\\"2631\\\", \\\"type\\\": \\\"LegendItem\\\"}, {\\\"attributes\\\": {}, \\\"id\\\": \\\"2628\\\", \\\"type\\\": \\\"UnionRenderers\\\"}, {\\\"attributes\\\": {}, \\\"id\\\": \\\"2615\\\", \\\"type\\\": \\\"Selection\\\"}, {\\\"attributes\\\": {\\\"line_alpha\\\": 0.2, \\\"line_color\\\": \\\"#1f77b3\\\", \\\"line_width\\\": 2, \\\"x\\\": {\\\"field\\\": \\\"year\\\"}, \\\"y\\\": {\\\"field\\\": \\\"value\\\"}}, \\\"id\\\": \\\"2619\\\", \\\"type\\\": \\\"Line\\\"}, {\\\"attributes\\\": {}, \\\"id\\\": \\\"2633\\\", \\\"type\\\": \\\"Selection\\\"}]}\",\"header\":\"{\\\"msgid\\\": \\\"3042\\\", \\\"msgtype\\\": \\\"PATCH-DOC\\\"}\",\"metadata\":\"{}\"},\"Van Ness/ Civic Center\":{\"content\":\"{\\\"events\\\": [{\\\"attr\\\": \\\"factors\\\", \\\"kind\\\": \\\"ModelChanged\\\", \\\"model\\\": {\\\"id\\\": \\\"2577\\\"}, \\\"new\\\": [\\\"2010\\\", \\\"2011\\\", \\\"2012\\\", \\\"2013\\\", \\\"2014\\\", \\\"2015\\\", \\\"2016\\\"]}, {\\\"cols\\\": null, \\\"column_source\\\": {\\\"id\\\": \\\"2614\\\"}, \\\"kind\\\": \\\"ColumnDataChanged\\\", \\\"new\\\": {\\\"Variable\\\": [\\\"gross_rent\\\", \\\"gross_rent\\\", \\\"gross_rent\\\", \\\"gross_rent\\\", \\\"gross_rent\\\", \\\"gross_rent\\\", \\\"gross_rent\\\"], \\\"value\\\": [1239, 1530, 2324, 2971, 3528, 3739, 4390], \\\"year\\\": [\\\"2010\\\", \\\"2011\\\", \\\"2012\\\", \\\"2013\\\", \\\"2014\\\", \\\"2015\\\", \\\"2016\\\"]}}, {\\\"cols\\\": null, \\\"column_source\\\": {\\\"id\\\": \\\"2632\\\"}, \\\"kind\\\": \\\"ColumnDataChanged\\\", \\\"new\\\": {\\\"Variable\\\": [\\\"sale_price_sqr_foot\\\", \\\"sale_price_sqr_foot\\\", \\\"sale_price_sqr_foot\\\", \\\"sale_price_sqr_foot\\\", \\\"sale_price_sqr_foot\\\", \\\"sale_price_sqr_foot\\\", \\\"sale_price_sqr_foot\\\"], \\\"value\\\": {\\\"__ndarray__\\\": \\\"9/Q/y9MAW0C4de7wyQN4QCWBKCJUn3VAuVvU7ybQcUD2TkF+SrZ9QPqD47K0LoVAmVO3DtJEgUA=\\\", \\\"dtype\\\": \\\"float64\\\", \\\"order\\\": \\\"little\\\", \\\"shape\\\": [7]}, \\\"year\\\": [\\\"2010\\\", \\\"2011\\\", \\\"2012\\\", \\\"2013\\\", \\\"2014\\\", \\\"2015\\\", \\\"2016\\\"]}}, {\\\"attr\\\": \\\"text\\\", \\\"kind\\\": \\\"ModelChanged\\\", \\\"model\\\": {\\\"id\\\": \\\"2582\\\"}, \\\"new\\\": \\\"neighborhood: Van Ness/ Civic Center\\\"}, {\\\"attr\\\": \\\"right\\\", \\\"kind\\\": \\\"ModelChanged\\\", \\\"model\\\": {\\\"id\\\": \\\"2581\\\"}, \\\"new\\\": [{\\\"id\\\": \\\"2630\\\"}]}], \\\"references\\\": [{\\\"attributes\\\": {\\\"click_policy\\\": \\\"mute\\\", \\\"items\\\": [{\\\"id\\\": \\\"2631\\\"}, {\\\"id\\\": \\\"2650\\\"}], \\\"location\\\": [0, 0], \\\"title\\\": \\\"Variable\\\"}, \\\"id\\\": \\\"2630\\\", \\\"type\\\": \\\"Legend\\\"}, {\\\"attributes\\\": {\\\"line_alpha\\\": 0.1, \\\"line_color\\\": \\\"#1f77b3\\\", \\\"line_width\\\": 2, \\\"x\\\": {\\\"field\\\": \\\"year\\\"}, \\\"y\\\": {\\\"field\\\": \\\"value\\\"}}, \\\"id\\\": \\\"2618\\\", \\\"type\\\": \\\"Line\\\"}, {\\\"attributes\\\": {\\\"source\\\": {\\\"id\\\": \\\"2632\\\"}}, \\\"id\\\": \\\"2639\\\", \\\"type\\\": \\\"CDSView\\\"}, {\\\"attributes\\\": {\\\"label\\\": {\\\"value\\\": \\\"sale_price_sqr_foot\\\"}, \\\"renderers\\\": [{\\\"id\\\": \\\"2638\\\"}]}, \\\"id\\\": \\\"2650\\\", \\\"type\\\": \\\"LegendItem\\\"}, {\\\"attributes\\\": {\\\"data\\\": {\\\"Variable\\\": [\\\"gross_rent\\\", \\\"gross_rent\\\", \\\"gross_rent\\\", \\\"gross_rent\\\", \\\"gross_rent\\\", \\\"gross_rent\\\", \\\"gross_rent\\\"], \\\"value\\\": [1239, 1530, 2324, 2971, 3528, 3739, 4390], \\\"year\\\": [\\\"2010\\\", \\\"2011\\\", \\\"2012\\\", \\\"2013\\\", \\\"2014\\\", \\\"2015\\\", \\\"2016\\\"]}, \\\"selected\\\": {\\\"id\\\": \\\"2615\\\"}, \\\"selection_policy\\\": {\\\"id\\\": \\\"2628\\\"}}, \\\"id\\\": \\\"2614\\\", \\\"type\\\": \\\"ColumnDataSource\\\"}, {\\\"attributes\\\": {\\\"data_source\\\": {\\\"id\\\": \\\"2614\\\"}, \\\"glyph\\\": {\\\"id\\\": \\\"2617\\\"}, \\\"hover_glyph\\\": null, \\\"muted_glyph\\\": {\\\"id\\\": \\\"2619\\\"}, \\\"nonselection_glyph\\\": {\\\"id\\\": \\\"2618\\\"}, \\\"selection_glyph\\\": null, \\\"view\\\": {\\\"id\\\": \\\"2621\\\"}}, \\\"id\\\": \\\"2620\\\", \\\"type\\\": \\\"GlyphRenderer\\\"}, {\\\"attributes\\\": {\\\"line_color\\\": \\\"#ff7e0e\\\", \\\"line_width\\\": 2, \\\"x\\\": {\\\"field\\\": \\\"year\\\"}, \\\"y\\\": {\\\"field\\\": \\\"value\\\"}}, \\\"id\\\": \\\"2635\\\", \\\"type\\\": \\\"Line\\\"}, {\\\"attributes\\\": {\\\"line_alpha\\\": 0.2, \\\"line_color\\\": \\\"#ff7e0e\\\", \\\"line_width\\\": 2, \\\"x\\\": {\\\"field\\\": \\\"year\\\"}, \\\"y\\\": {\\\"field\\\": \\\"value\\\"}}, \\\"id\\\": \\\"2637\\\", \\\"type\\\": \\\"Line\\\"}, {\\\"attributes\\\": {\\\"data\\\": {\\\"Variable\\\": [\\\"sale_price_sqr_foot\\\", \\\"sale_price_sqr_foot\\\", \\\"sale_price_sqr_foot\\\", \\\"sale_price_sqr_foot\\\", \\\"sale_price_sqr_foot\\\", \\\"sale_price_sqr_foot\\\", \\\"sale_price_sqr_foot\\\"], \\\"value\\\": {\\\"__ndarray__\\\": \\\"9/Q/y9MAW0C4de7wyQN4QCWBKCJUn3VAuVvU7ybQcUD2TkF+SrZ9QPqD47K0LoVAmVO3DtJEgUA=\\\", \\\"dtype\\\": \\\"float64\\\", \\\"order\\\": \\\"little\\\", \\\"shape\\\": [7]}, \\\"year\\\": [\\\"2010\\\", \\\"2011\\\", \\\"2012\\\", \\\"2013\\\", \\\"2014\\\", \\\"2015\\\", \\\"2016\\\"]}, \\\"selected\\\": {\\\"id\\\": \\\"2633\\\"}, \\\"selection_policy\\\": {\\\"id\\\": \\\"2648\\\"}}, \\\"id\\\": \\\"2632\\\", \\\"type\\\": \\\"ColumnDataSource\\\"}, {\\\"attributes\\\": {\\\"source\\\": {\\\"id\\\": \\\"2614\\\"}}, \\\"id\\\": \\\"2621\\\", \\\"type\\\": \\\"CDSView\\\"}, {\\\"attributes\\\": {\\\"line_color\\\": \\\"#1f77b3\\\", \\\"line_width\\\": 2, \\\"x\\\": {\\\"field\\\": \\\"year\\\"}, \\\"y\\\": {\\\"field\\\": \\\"value\\\"}}, \\\"id\\\": \\\"2617\\\", \\\"type\\\": \\\"Line\\\"}, {\\\"attributes\\\": {\\\"line_alpha\\\": 0.1, \\\"line_color\\\": \\\"#ff7e0e\\\", \\\"line_width\\\": 2, \\\"x\\\": {\\\"field\\\": \\\"year\\\"}, \\\"y\\\": {\\\"field\\\": \\\"value\\\"}}, \\\"id\\\": \\\"2636\\\", \\\"type\\\": \\\"Line\\\"}, {\\\"attributes\\\": {}, \\\"id\\\": \\\"2648\\\", \\\"type\\\": \\\"UnionRenderers\\\"}, {\\\"attributes\\\": {\\\"data_source\\\": {\\\"id\\\": \\\"2632\\\"}, \\\"glyph\\\": {\\\"id\\\": \\\"2635\\\"}, \\\"hover_glyph\\\": null, \\\"muted_glyph\\\": {\\\"id\\\": \\\"2637\\\"}, \\\"nonselection_glyph\\\": {\\\"id\\\": \\\"2636\\\"}, \\\"selection_glyph\\\": null, \\\"view\\\": {\\\"id\\\": \\\"2639\\\"}}, \\\"id\\\": \\\"2638\\\", \\\"type\\\": \\\"GlyphRenderer\\\"}, {\\\"attributes\\\": {\\\"label\\\": {\\\"value\\\": \\\"gross_rent\\\"}, \\\"renderers\\\": [{\\\"id\\\": \\\"2620\\\"}]}, \\\"id\\\": \\\"2631\\\", \\\"type\\\": \\\"LegendItem\\\"}, {\\\"attributes\\\": {}, \\\"id\\\": \\\"2628\\\", \\\"type\\\": \\\"UnionRenderers\\\"}, {\\\"attributes\\\": {}, \\\"id\\\": \\\"2615\\\", \\\"type\\\": \\\"Selection\\\"}, {\\\"attributes\\\": {\\\"line_alpha\\\": 0.2, \\\"line_color\\\": \\\"#1f77b3\\\", \\\"line_width\\\": 2, \\\"x\\\": {\\\"field\\\": \\\"year\\\"}, \\\"y\\\": {\\\"field\\\": \\\"value\\\"}}, \\\"id\\\": \\\"2619\\\", \\\"type\\\": \\\"Line\\\"}, {\\\"attributes\\\": {}, \\\"id\\\": \\\"2633\\\", \\\"type\\\": \\\"Selection\\\"}]}\",\"header\":\"{\\\"msgid\\\": \\\"3009\\\", \\\"msgtype\\\": \\\"PATCH-DOC\\\"}\",\"metadata\":\"{}\"},\"Visitacion Valley\":{\"content\":\"{\\\"events\\\": [{\\\"attr\\\": \\\"factors\\\", \\\"kind\\\": \\\"ModelChanged\\\", \\\"model\\\": {\\\"id\\\": \\\"2577\\\"}, \\\"new\\\": [\\\"2013\\\", \\\"2014\\\", \\\"2015\\\", \\\"2016\\\"]}, {\\\"cols\\\": null, \\\"column_source\\\": {\\\"id\\\": \\\"2614\\\"}, \\\"kind\\\": \\\"ColumnDataChanged\\\", \\\"new\\\": {\\\"Variable\\\": [\\\"gross_rent\\\", \\\"gross_rent\\\", \\\"gross_rent\\\", \\\"gross_rent\\\"], \\\"value\\\": [2971, 3528, 3739, 4390], \\\"year\\\": [\\\"2013\\\", \\\"2014\\\", \\\"2015\\\", \\\"2016\\\"]}}, {\\\"cols\\\": null, \\\"column_source\\\": {\\\"id\\\": \\\"2632\\\"}, \\\"kind\\\": \\\"ColumnDataChanged\\\", \\\"new\\\": {\\\"Variable\\\": [\\\"sale_price_sqr_foot\\\", \\\"sale_price_sqr_foot\\\", \\\"sale_price_sqr_foot\\\", \\\"sale_price_sqr_foot\\\"], \\\"value\\\": {\\\"__ndarray__\\\": \\\"bh3vIcZUckCxxHJRaKBxQA8XZcqM43JAUinBphqFdEA=\\\", \\\"dtype\\\": \\\"float64\\\", \\\"order\\\": \\\"little\\\", \\\"shape\\\": [4]}, \\\"year\\\": [\\\"2013\\\", \\\"2014\\\", \\\"2015\\\", \\\"2016\\\"]}}, {\\\"attr\\\": \\\"text\\\", \\\"kind\\\": \\\"ModelChanged\\\", \\\"model\\\": {\\\"id\\\": \\\"2582\\\"}, \\\"new\\\": \\\"neighborhood: Visitacion Valley\\\"}, {\\\"attr\\\": \\\"right\\\", \\\"kind\\\": \\\"ModelChanged\\\", \\\"model\\\": {\\\"id\\\": \\\"2581\\\"}, \\\"new\\\": [{\\\"id\\\": \\\"2630\\\"}]}], \\\"references\\\": [{\\\"attributes\\\": {\\\"click_policy\\\": \\\"mute\\\", \\\"items\\\": [{\\\"id\\\": \\\"2631\\\"}, {\\\"id\\\": \\\"2650\\\"}], \\\"location\\\": [0, 0], \\\"title\\\": \\\"Variable\\\"}, \\\"id\\\": \\\"2630\\\", \\\"type\\\": \\\"Legend\\\"}, {\\\"attributes\\\": {\\\"line_alpha\\\": 0.1, \\\"line_color\\\": \\\"#1f77b3\\\", \\\"line_width\\\": 2, \\\"x\\\": {\\\"field\\\": \\\"year\\\"}, \\\"y\\\": {\\\"field\\\": \\\"value\\\"}}, \\\"id\\\": \\\"2618\\\", \\\"type\\\": \\\"Line\\\"}, {\\\"attributes\\\": {\\\"source\\\": {\\\"id\\\": \\\"2632\\\"}}, \\\"id\\\": \\\"2639\\\", \\\"type\\\": \\\"CDSView\\\"}, {\\\"attributes\\\": {\\\"label\\\": {\\\"value\\\": \\\"sale_price_sqr_foot\\\"}, \\\"renderers\\\": [{\\\"id\\\": \\\"2638\\\"}]}, \\\"id\\\": \\\"2650\\\", \\\"type\\\": \\\"LegendItem\\\"}, {\\\"attributes\\\": {\\\"data\\\": {\\\"Variable\\\": [\\\"gross_rent\\\", \\\"gross_rent\\\", \\\"gross_rent\\\", \\\"gross_rent\\\"], \\\"value\\\": [2971, 3528, 3739, 4390], \\\"year\\\": [\\\"2013\\\", \\\"2014\\\", \\\"2015\\\", \\\"2016\\\"]}, \\\"selected\\\": {\\\"id\\\": \\\"2615\\\"}, \\\"selection_policy\\\": {\\\"id\\\": \\\"2628\\\"}}, \\\"id\\\": \\\"2614\\\", \\\"type\\\": \\\"ColumnDataSource\\\"}, {\\\"attributes\\\": {\\\"data_source\\\": {\\\"id\\\": \\\"2614\\\"}, \\\"glyph\\\": {\\\"id\\\": \\\"2617\\\"}, \\\"hover_glyph\\\": null, \\\"muted_glyph\\\": {\\\"id\\\": \\\"2619\\\"}, \\\"nonselection_glyph\\\": {\\\"id\\\": \\\"2618\\\"}, \\\"selection_glyph\\\": null, \\\"view\\\": {\\\"id\\\": \\\"2621\\\"}}, \\\"id\\\": \\\"2620\\\", \\\"type\\\": \\\"GlyphRenderer\\\"}, {\\\"attributes\\\": {\\\"line_color\\\": \\\"#ff7e0e\\\", \\\"line_width\\\": 2, \\\"x\\\": {\\\"field\\\": \\\"year\\\"}, \\\"y\\\": {\\\"field\\\": \\\"value\\\"}}, \\\"id\\\": \\\"2635\\\", \\\"type\\\": \\\"Line\\\"}, {\\\"attributes\\\": {\\\"line_alpha\\\": 0.2, \\\"line_color\\\": \\\"#ff7e0e\\\", \\\"line_width\\\": 2, \\\"x\\\": {\\\"field\\\": \\\"year\\\"}, \\\"y\\\": {\\\"field\\\": \\\"value\\\"}}, \\\"id\\\": \\\"2637\\\", \\\"type\\\": \\\"Line\\\"}, {\\\"attributes\\\": {\\\"data\\\": {\\\"Variable\\\": [\\\"sale_price_sqr_foot\\\", \\\"sale_price_sqr_foot\\\", \\\"sale_price_sqr_foot\\\", \\\"sale_price_sqr_foot\\\"], \\\"value\\\": {\\\"__ndarray__\\\": \\\"bh3vIcZUckCxxHJRaKBxQA8XZcqM43JAUinBphqFdEA=\\\", \\\"dtype\\\": \\\"float64\\\", \\\"order\\\": \\\"little\\\", \\\"shape\\\": [4]}, \\\"year\\\": [\\\"2013\\\", \\\"2014\\\", \\\"2015\\\", \\\"2016\\\"]}, \\\"selected\\\": {\\\"id\\\": \\\"2633\\\"}, \\\"selection_policy\\\": {\\\"id\\\": \\\"2648\\\"}}, \\\"id\\\": \\\"2632\\\", \\\"type\\\": \\\"ColumnDataSource\\\"}, {\\\"attributes\\\": {\\\"source\\\": {\\\"id\\\": \\\"2614\\\"}}, \\\"id\\\": \\\"2621\\\", \\\"type\\\": \\\"CDSView\\\"}, {\\\"attributes\\\": {\\\"line_color\\\": \\\"#1f77b3\\\", \\\"line_width\\\": 2, \\\"x\\\": {\\\"field\\\": \\\"year\\\"}, \\\"y\\\": {\\\"field\\\": \\\"value\\\"}}, \\\"id\\\": \\\"2617\\\", \\\"type\\\": \\\"Line\\\"}, {\\\"attributes\\\": {\\\"line_alpha\\\": 0.1, \\\"line_color\\\": \\\"#ff7e0e\\\", \\\"line_width\\\": 2, \\\"x\\\": {\\\"field\\\": \\\"year\\\"}, \\\"y\\\": {\\\"field\\\": \\\"value\\\"}}, \\\"id\\\": \\\"2636\\\", \\\"type\\\": \\\"Line\\\"}, {\\\"attributes\\\": {}, \\\"id\\\": \\\"2648\\\", \\\"type\\\": \\\"UnionRenderers\\\"}, {\\\"attributes\\\": {\\\"data_source\\\": {\\\"id\\\": \\\"2632\\\"}, \\\"glyph\\\": {\\\"id\\\": \\\"2635\\\"}, \\\"hover_glyph\\\": null, \\\"muted_glyph\\\": {\\\"id\\\": \\\"2637\\\"}, \\\"nonselection_glyph\\\": {\\\"id\\\": \\\"2636\\\"}, \\\"selection_glyph\\\": null, \\\"view\\\": {\\\"id\\\": \\\"2639\\\"}}, \\\"id\\\": \\\"2638\\\", \\\"type\\\": \\\"GlyphRenderer\\\"}, {\\\"attributes\\\": {\\\"label\\\": {\\\"value\\\": \\\"gross_rent\\\"}, \\\"renderers\\\": [{\\\"id\\\": \\\"2620\\\"}]}, \\\"id\\\": \\\"2631\\\", \\\"type\\\": \\\"LegendItem\\\"}, {\\\"attributes\\\": {}, \\\"id\\\": \\\"2628\\\", \\\"type\\\": \\\"UnionRenderers\\\"}, {\\\"attributes\\\": {}, \\\"id\\\": \\\"2615\\\", \\\"type\\\": \\\"Selection\\\"}, {\\\"attributes\\\": {\\\"line_alpha\\\": 0.2, \\\"line_color\\\": \\\"#1f77b3\\\", \\\"line_width\\\": 2, \\\"x\\\": {\\\"field\\\": \\\"year\\\"}, \\\"y\\\": {\\\"field\\\": \\\"value\\\"}}, \\\"id\\\": \\\"2619\\\", \\\"type\\\": \\\"Line\\\"}, {\\\"attributes\\\": {}, \\\"id\\\": \\\"2633\\\", \\\"type\\\": \\\"Selection\\\"}]}\",\"header\":\"{\\\"msgid\\\": \\\"2976\\\", \\\"msgtype\\\": \\\"PATCH-DOC\\\"}\",\"metadata\":\"{}\"},\"West Portal\":{\"content\":\"{\\\"events\\\": [{\\\"attr\\\": \\\"factors\\\", \\\"kind\\\": \\\"ModelChanged\\\", \\\"model\\\": {\\\"id\\\": \\\"2577\\\"}, \\\"new\\\": [\\\"2010\\\", \\\"2012\\\", \\\"2013\\\", \\\"2014\\\"]}, {\\\"cols\\\": null, \\\"column_source\\\": {\\\"id\\\": \\\"2614\\\"}, \\\"kind\\\": \\\"ColumnDataChanged\\\", \\\"new\\\": {\\\"Variable\\\": [\\\"gross_rent\\\", \\\"gross_rent\\\", \\\"gross_rent\\\", \\\"gross_rent\\\"], \\\"value\\\": [1239, 2324, 2971, 3528], \\\"year\\\": [\\\"2010\\\", \\\"2012\\\", \\\"2013\\\", \\\"2014\\\"]}}, {\\\"cols\\\": null, \\\"column_source\\\": {\\\"id\\\": \\\"2632\\\"}, \\\"kind\\\": \\\"ColumnDataChanged\\\", \\\"new\\\": {\\\"Variable\\\": [\\\"sale_price_sqr_foot\\\", \\\"sale_price_sqr_foot\\\", \\\"sale_price_sqr_foot\\\", \\\"sale_price_sqr_foot\\\"], \\\"value\\\": {\\\"__ndarray__\\\": \\\"X0cX7s+EeEAugSUFulx0QOs5Di+ZYIJAY0tDgkN+hUA=\\\", \\\"dtype\\\": \\\"float64\\\", \\\"order\\\": \\\"little\\\", \\\"shape\\\": [4]}, \\\"year\\\": [\\\"2010\\\", \\\"2012\\\", \\\"2013\\\", \\\"2014\\\"]}}, {\\\"attr\\\": \\\"text\\\", \\\"kind\\\": \\\"ModelChanged\\\", \\\"model\\\": {\\\"id\\\": \\\"2582\\\"}, \\\"new\\\": \\\"neighborhood: West Portal\\\"}, {\\\"attr\\\": \\\"right\\\", \\\"kind\\\": \\\"ModelChanged\\\", \\\"model\\\": {\\\"id\\\": \\\"2581\\\"}, \\\"new\\\": [{\\\"id\\\": \\\"2630\\\"}]}], \\\"references\\\": [{\\\"attributes\\\": {\\\"click_policy\\\": \\\"mute\\\", \\\"items\\\": [{\\\"id\\\": \\\"2631\\\"}, {\\\"id\\\": \\\"2650\\\"}], \\\"location\\\": [0, 0], \\\"title\\\": \\\"Variable\\\"}, \\\"id\\\": \\\"2630\\\", \\\"type\\\": \\\"Legend\\\"}, {\\\"attributes\\\": {\\\"line_alpha\\\": 0.1, \\\"line_color\\\": \\\"#1f77b3\\\", \\\"line_width\\\": 2, \\\"x\\\": {\\\"field\\\": \\\"year\\\"}, \\\"y\\\": {\\\"field\\\": \\\"value\\\"}}, \\\"id\\\": \\\"2618\\\", \\\"type\\\": \\\"Line\\\"}, {\\\"attributes\\\": {\\\"source\\\": {\\\"id\\\": \\\"2632\\\"}}, \\\"id\\\": \\\"2639\\\", \\\"type\\\": \\\"CDSView\\\"}, {\\\"attributes\\\": {\\\"label\\\": {\\\"value\\\": \\\"sale_price_sqr_foot\\\"}, \\\"renderers\\\": [{\\\"id\\\": \\\"2638\\\"}]}, \\\"id\\\": \\\"2650\\\", \\\"type\\\": \\\"LegendItem\\\"}, {\\\"attributes\\\": {\\\"data\\\": {\\\"Variable\\\": [\\\"gross_rent\\\", \\\"gross_rent\\\", \\\"gross_rent\\\", \\\"gross_rent\\\"], \\\"value\\\": [1239, 2324, 2971, 3528], \\\"year\\\": [\\\"2010\\\", \\\"2012\\\", \\\"2013\\\", \\\"2014\\\"]}, \\\"selected\\\": {\\\"id\\\": \\\"2615\\\"}, \\\"selection_policy\\\": {\\\"id\\\": \\\"2628\\\"}}, \\\"id\\\": \\\"2614\\\", \\\"type\\\": \\\"ColumnDataSource\\\"}, {\\\"attributes\\\": {\\\"data_source\\\": {\\\"id\\\": \\\"2614\\\"}, \\\"glyph\\\": {\\\"id\\\": \\\"2617\\\"}, \\\"hover_glyph\\\": null, \\\"muted_glyph\\\": {\\\"id\\\": \\\"2619\\\"}, \\\"nonselection_glyph\\\": {\\\"id\\\": \\\"2618\\\"}, \\\"selection_glyph\\\": null, \\\"view\\\": {\\\"id\\\": \\\"2621\\\"}}, \\\"id\\\": \\\"2620\\\", \\\"type\\\": \\\"GlyphRenderer\\\"}, {\\\"attributes\\\": {\\\"line_color\\\": \\\"#ff7e0e\\\", \\\"line_width\\\": 2, \\\"x\\\": {\\\"field\\\": \\\"year\\\"}, \\\"y\\\": {\\\"field\\\": \\\"value\\\"}}, \\\"id\\\": \\\"2635\\\", \\\"type\\\": \\\"Line\\\"}, {\\\"attributes\\\": {\\\"line_alpha\\\": 0.2, \\\"line_color\\\": \\\"#ff7e0e\\\", \\\"line_width\\\": 2, \\\"x\\\": {\\\"field\\\": \\\"year\\\"}, \\\"y\\\": {\\\"field\\\": \\\"value\\\"}}, \\\"id\\\": \\\"2637\\\", \\\"type\\\": \\\"Line\\\"}, {\\\"attributes\\\": {\\\"data\\\": {\\\"Variable\\\": [\\\"sale_price_sqr_foot\\\", \\\"sale_price_sqr_foot\\\", \\\"sale_price_sqr_foot\\\", \\\"sale_price_sqr_foot\\\"], \\\"value\\\": {\\\"__ndarray__\\\": \\\"X0cX7s+EeEAugSUFulx0QOs5Di+ZYIJAY0tDgkN+hUA=\\\", \\\"dtype\\\": \\\"float64\\\", \\\"order\\\": \\\"little\\\", \\\"shape\\\": [4]}, \\\"year\\\": [\\\"2010\\\", \\\"2012\\\", \\\"2013\\\", \\\"2014\\\"]}, \\\"selected\\\": {\\\"id\\\": \\\"2633\\\"}, \\\"selection_policy\\\": {\\\"id\\\": \\\"2648\\\"}}, \\\"id\\\": \\\"2632\\\", \\\"type\\\": \\\"ColumnDataSource\\\"}, {\\\"attributes\\\": {\\\"source\\\": {\\\"id\\\": \\\"2614\\\"}}, \\\"id\\\": \\\"2621\\\", \\\"type\\\": \\\"CDSView\\\"}, {\\\"attributes\\\": {\\\"line_color\\\": \\\"#1f77b3\\\", \\\"line_width\\\": 2, \\\"x\\\": {\\\"field\\\": \\\"year\\\"}, \\\"y\\\": {\\\"field\\\": \\\"value\\\"}}, \\\"id\\\": \\\"2617\\\", \\\"type\\\": \\\"Line\\\"}, {\\\"attributes\\\": {\\\"line_alpha\\\": 0.1, \\\"line_color\\\": \\\"#ff7e0e\\\", \\\"line_width\\\": 2, \\\"x\\\": {\\\"field\\\": \\\"year\\\"}, \\\"y\\\": {\\\"field\\\": \\\"value\\\"}}, \\\"id\\\": \\\"2636\\\", \\\"type\\\": \\\"Line\\\"}, {\\\"attributes\\\": {}, \\\"id\\\": \\\"2648\\\", \\\"type\\\": \\\"UnionRenderers\\\"}, {\\\"attributes\\\": {\\\"data_source\\\": {\\\"id\\\": \\\"2632\\\"}, \\\"glyph\\\": {\\\"id\\\": \\\"2635\\\"}, \\\"hover_glyph\\\": null, \\\"muted_glyph\\\": {\\\"id\\\": \\\"2637\\\"}, \\\"nonselection_glyph\\\": {\\\"id\\\": \\\"2636\\\"}, \\\"selection_glyph\\\": null, \\\"view\\\": {\\\"id\\\": \\\"2639\\\"}}, \\\"id\\\": \\\"2638\\\", \\\"type\\\": \\\"GlyphRenderer\\\"}, {\\\"attributes\\\": {\\\"label\\\": {\\\"value\\\": \\\"gross_rent\\\"}, \\\"renderers\\\": [{\\\"id\\\": \\\"2620\\\"}]}, \\\"id\\\": \\\"2631\\\", \\\"type\\\": \\\"LegendItem\\\"}, {\\\"attributes\\\": {}, \\\"id\\\": \\\"2628\\\", \\\"type\\\": \\\"UnionRenderers\\\"}, {\\\"attributes\\\": {}, \\\"id\\\": \\\"2615\\\", \\\"type\\\": \\\"Selection\\\"}, {\\\"attributes\\\": {\\\"line_alpha\\\": 0.2, \\\"line_color\\\": \\\"#1f77b3\\\", \\\"line_width\\\": 2, \\\"x\\\": {\\\"field\\\": \\\"year\\\"}, \\\"y\\\": {\\\"field\\\": \\\"value\\\"}}, \\\"id\\\": \\\"2619\\\", \\\"type\\\": \\\"Line\\\"}, {\\\"attributes\\\": {}, \\\"id\\\": \\\"2633\\\", \\\"type\\\": \\\"Selection\\\"}]}\",\"header\":\"{\\\"msgid\\\": \\\"2943\\\", \\\"msgtype\\\": \\\"PATCH-DOC\\\"}\",\"metadata\":\"{}\"},\"Western Addition\":{\"content\":\"{\\\"events\\\": [{\\\"attr\\\": \\\"factors\\\", \\\"kind\\\": \\\"ModelChanged\\\", \\\"model\\\": {\\\"id\\\": \\\"2577\\\"}, \\\"new\\\": [\\\"2010\\\", \\\"2011\\\", \\\"2012\\\", \\\"2013\\\", \\\"2014\\\", \\\"2015\\\"]}, {\\\"cols\\\": null, \\\"column_source\\\": {\\\"id\\\": \\\"2614\\\"}, \\\"kind\\\": \\\"ColumnDataChanged\\\", \\\"new\\\": {\\\"Variable\\\": [\\\"gross_rent\\\", \\\"gross_rent\\\", \\\"gross_rent\\\", \\\"gross_rent\\\", \\\"gross_rent\\\", \\\"gross_rent\\\"], \\\"value\\\": [1239, 1530, 2324, 2971, 3528, 3739], \\\"year\\\": [\\\"2010\\\", \\\"2011\\\", \\\"2012\\\", \\\"2013\\\", \\\"2014\\\", \\\"2015\\\"]}}, {\\\"cols\\\": null, \\\"column_source\\\": {\\\"id\\\": \\\"2632\\\"}, \\\"kind\\\": \\\"ColumnDataChanged\\\", \\\"new\\\": {\\\"Variable\\\": [\\\"sale_price_sqr_foot\\\", \\\"sale_price_sqr_foot\\\", \\\"sale_price_sqr_foot\\\", \\\"sale_price_sqr_foot\\\", \\\"sale_price_sqr_foot\\\", \\\"sale_price_sqr_foot\\\"], \\\"value\\\": {\\\"__ndarray__\\\": \\\"gK0qWTbyakDIEo9KaG1sQCp/FVVqJXFAdZUip9kia0B6M+4l0Nd6QK+mSAaCF35A\\\", \\\"dtype\\\": \\\"float64\\\", \\\"order\\\": \\\"little\\\", \\\"shape\\\": [6]}, \\\"year\\\": [\\\"2010\\\", \\\"2011\\\", \\\"2012\\\", \\\"2013\\\", \\\"2014\\\", \\\"2015\\\"]}}, {\\\"attr\\\": \\\"text\\\", \\\"kind\\\": \\\"ModelChanged\\\", \\\"model\\\": {\\\"id\\\": \\\"2582\\\"}, \\\"new\\\": \\\"neighborhood: Western Addition\\\"}, {\\\"attr\\\": \\\"right\\\", \\\"kind\\\": \\\"ModelChanged\\\", \\\"model\\\": {\\\"id\\\": \\\"2581\\\"}, \\\"new\\\": [{\\\"id\\\": \\\"2630\\\"}]}], \\\"references\\\": [{\\\"attributes\\\": {\\\"click_policy\\\": \\\"mute\\\", \\\"items\\\": [{\\\"id\\\": \\\"2631\\\"}, {\\\"id\\\": \\\"2650\\\"}], \\\"location\\\": [0, 0], \\\"title\\\": \\\"Variable\\\"}, \\\"id\\\": \\\"2630\\\", \\\"type\\\": \\\"Legend\\\"}, {\\\"attributes\\\": {\\\"line_alpha\\\": 0.1, \\\"line_color\\\": \\\"#1f77b3\\\", \\\"line_width\\\": 2, \\\"x\\\": {\\\"field\\\": \\\"year\\\"}, \\\"y\\\": {\\\"field\\\": \\\"value\\\"}}, \\\"id\\\": \\\"2618\\\", \\\"type\\\": \\\"Line\\\"}, {\\\"attributes\\\": {\\\"source\\\": {\\\"id\\\": \\\"2632\\\"}}, \\\"id\\\": \\\"2639\\\", \\\"type\\\": \\\"CDSView\\\"}, {\\\"attributes\\\": {\\\"label\\\": {\\\"value\\\": \\\"sale_price_sqr_foot\\\"}, \\\"renderers\\\": [{\\\"id\\\": \\\"2638\\\"}]}, \\\"id\\\": \\\"2650\\\", \\\"type\\\": \\\"LegendItem\\\"}, {\\\"attributes\\\": {\\\"data\\\": {\\\"Variable\\\": [\\\"gross_rent\\\", \\\"gross_rent\\\", \\\"gross_rent\\\", \\\"gross_rent\\\", \\\"gross_rent\\\", \\\"gross_rent\\\"], \\\"value\\\": [1239, 1530, 2324, 2971, 3528, 3739], \\\"year\\\": [\\\"2010\\\", \\\"2011\\\", \\\"2012\\\", \\\"2013\\\", \\\"2014\\\", \\\"2015\\\"]}, \\\"selected\\\": {\\\"id\\\": \\\"2615\\\"}, \\\"selection_policy\\\": {\\\"id\\\": \\\"2628\\\"}}, \\\"id\\\": \\\"2614\\\", \\\"type\\\": \\\"ColumnDataSource\\\"}, {\\\"attributes\\\": {\\\"data_source\\\": {\\\"id\\\": \\\"2614\\\"}, \\\"glyph\\\": {\\\"id\\\": \\\"2617\\\"}, \\\"hover_glyph\\\": null, \\\"muted_glyph\\\": {\\\"id\\\": \\\"2619\\\"}, \\\"nonselection_glyph\\\": {\\\"id\\\": \\\"2618\\\"}, \\\"selection_glyph\\\": null, \\\"view\\\": {\\\"id\\\": \\\"2621\\\"}}, \\\"id\\\": \\\"2620\\\", \\\"type\\\": \\\"GlyphRenderer\\\"}, {\\\"attributes\\\": {\\\"line_color\\\": \\\"#ff7e0e\\\", \\\"line_width\\\": 2, \\\"x\\\": {\\\"field\\\": \\\"year\\\"}, \\\"y\\\": {\\\"field\\\": \\\"value\\\"}}, \\\"id\\\": \\\"2635\\\", \\\"type\\\": \\\"Line\\\"}, {\\\"attributes\\\": {\\\"line_alpha\\\": 0.2, \\\"line_color\\\": \\\"#ff7e0e\\\", \\\"line_width\\\": 2, \\\"x\\\": {\\\"field\\\": \\\"year\\\"}, \\\"y\\\": {\\\"field\\\": \\\"value\\\"}}, \\\"id\\\": \\\"2637\\\", \\\"type\\\": \\\"Line\\\"}, {\\\"attributes\\\": {\\\"data\\\": {\\\"Variable\\\": [\\\"sale_price_sqr_foot\\\", \\\"sale_price_sqr_foot\\\", \\\"sale_price_sqr_foot\\\", \\\"sale_price_sqr_foot\\\", \\\"sale_price_sqr_foot\\\", \\\"sale_price_sqr_foot\\\"], \\\"value\\\": {\\\"__ndarray__\\\": \\\"gK0qWTbyakDIEo9KaG1sQCp/FVVqJXFAdZUip9kia0B6M+4l0Nd6QK+mSAaCF35A\\\", \\\"dtype\\\": \\\"float64\\\", \\\"order\\\": \\\"little\\\", \\\"shape\\\": [6]}, \\\"year\\\": [\\\"2010\\\", \\\"2011\\\", \\\"2012\\\", \\\"2013\\\", \\\"2014\\\", \\\"2015\\\"]}, \\\"selected\\\": {\\\"id\\\": \\\"2633\\\"}, \\\"selection_policy\\\": {\\\"id\\\": \\\"2648\\\"}}, \\\"id\\\": \\\"2632\\\", \\\"type\\\": \\\"ColumnDataSource\\\"}, {\\\"attributes\\\": {\\\"source\\\": {\\\"id\\\": \\\"2614\\\"}}, \\\"id\\\": \\\"2621\\\", \\\"type\\\": \\\"CDSView\\\"}, {\\\"attributes\\\": {\\\"line_color\\\": \\\"#1f77b3\\\", \\\"line_width\\\": 2, \\\"x\\\": {\\\"field\\\": \\\"year\\\"}, \\\"y\\\": {\\\"field\\\": \\\"value\\\"}}, \\\"id\\\": \\\"2617\\\", \\\"type\\\": \\\"Line\\\"}, {\\\"attributes\\\": {\\\"line_alpha\\\": 0.1, \\\"line_color\\\": \\\"#ff7e0e\\\", \\\"line_width\\\": 2, \\\"x\\\": {\\\"field\\\": \\\"year\\\"}, \\\"y\\\": {\\\"field\\\": \\\"value\\\"}}, \\\"id\\\": \\\"2636\\\", \\\"type\\\": \\\"Line\\\"}, {\\\"attributes\\\": {}, \\\"id\\\": \\\"2648\\\", \\\"type\\\": \\\"UnionRenderers\\\"}, {\\\"attributes\\\": {\\\"data_source\\\": {\\\"id\\\": \\\"2632\\\"}, \\\"glyph\\\": {\\\"id\\\": \\\"2635\\\"}, \\\"hover_glyph\\\": null, \\\"muted_glyph\\\": {\\\"id\\\": \\\"2637\\\"}, \\\"nonselection_glyph\\\": {\\\"id\\\": \\\"2636\\\"}, \\\"selection_glyph\\\": null, \\\"view\\\": {\\\"id\\\": \\\"2639\\\"}}, \\\"id\\\": \\\"2638\\\", \\\"type\\\": \\\"GlyphRenderer\\\"}, {\\\"attributes\\\": {\\\"label\\\": {\\\"value\\\": \\\"gross_rent\\\"}, \\\"renderers\\\": [{\\\"id\\\": \\\"2620\\\"}]}, \\\"id\\\": \\\"2631\\\", \\\"type\\\": \\\"LegendItem\\\"}, {\\\"attributes\\\": {}, \\\"id\\\": \\\"2628\\\", \\\"type\\\": \\\"UnionRenderers\\\"}, {\\\"attributes\\\": {}, \\\"id\\\": \\\"2615\\\", \\\"type\\\": \\\"Selection\\\"}, {\\\"attributes\\\": {\\\"line_alpha\\\": 0.2, \\\"line_color\\\": \\\"#1f77b3\\\", \\\"line_width\\\": 2, \\\"x\\\": {\\\"field\\\": \\\"year\\\"}, \\\"y\\\": {\\\"field\\\": \\\"value\\\"}}, \\\"id\\\": \\\"2619\\\", \\\"type\\\": \\\"Line\\\"}, {\\\"attributes\\\": {}, \\\"id\\\": \\\"2633\\\", \\\"type\\\": \\\"Selection\\\"}]}\",\"header\":\"{\\\"msgid\\\": \\\"2910\\\", \\\"msgtype\\\": \\\"PATCH-DOC\\\"}\",\"metadata\":\"{}\"},\"Westwood Highlands\":{\"content\":\"{\\\"events\\\": [{\\\"attr\\\": \\\"factors\\\", \\\"kind\\\": \\\"ModelChanged\\\", \\\"model\\\": {\\\"id\\\": \\\"2577\\\"}, \\\"new\\\": [\\\"2011\\\", \\\"2013\\\"]}, {\\\"cols\\\": null, \\\"column_source\\\": {\\\"id\\\": \\\"2614\\\"}, \\\"kind\\\": \\\"ColumnDataChanged\\\", \\\"new\\\": {\\\"Variable\\\": [\\\"gross_rent\\\", \\\"gross_rent\\\"], \\\"value\\\": [1530, 2971], \\\"year\\\": [\\\"2011\\\", \\\"2013\\\"]}}, {\\\"cols\\\": null, \\\"column_source\\\": {\\\"id\\\": \\\"2632\\\"}, \\\"kind\\\": \\\"ColumnDataChanged\\\", \\\"new\\\": {\\\"Variable\\\": [\\\"sale_price_sqr_foot\\\", \\\"sale_price_sqr_foot\\\"], \\\"value\\\": {\\\"__ndarray__\\\": \\\"MHLbdzABdEBpBeAVq1qHQA==\\\", \\\"dtype\\\": \\\"float64\\\", \\\"order\\\": \\\"little\\\", \\\"shape\\\": [2]}, \\\"year\\\": [\\\"2011\\\", \\\"2013\\\"]}}, {\\\"attr\\\": \\\"text\\\", \\\"kind\\\": \\\"ModelChanged\\\", \\\"model\\\": {\\\"id\\\": \\\"2582\\\"}, \\\"new\\\": \\\"neighborhood: Westwood Highlands\\\"}, {\\\"attr\\\": \\\"right\\\", \\\"kind\\\": \\\"ModelChanged\\\", \\\"model\\\": {\\\"id\\\": \\\"2581\\\"}, \\\"new\\\": [{\\\"id\\\": \\\"2630\\\"}]}], \\\"references\\\": [{\\\"attributes\\\": {\\\"click_policy\\\": \\\"mute\\\", \\\"items\\\": [{\\\"id\\\": \\\"2631\\\"}, {\\\"id\\\": \\\"2650\\\"}], \\\"location\\\": [0, 0], \\\"title\\\": \\\"Variable\\\"}, \\\"id\\\": \\\"2630\\\", \\\"type\\\": \\\"Legend\\\"}, {\\\"attributes\\\": {\\\"line_alpha\\\": 0.1, \\\"line_color\\\": \\\"#1f77b3\\\", \\\"line_width\\\": 2, \\\"x\\\": {\\\"field\\\": \\\"year\\\"}, \\\"y\\\": {\\\"field\\\": \\\"value\\\"}}, \\\"id\\\": \\\"2618\\\", \\\"type\\\": \\\"Line\\\"}, {\\\"attributes\\\": {\\\"source\\\": {\\\"id\\\": \\\"2632\\\"}}, \\\"id\\\": \\\"2639\\\", \\\"type\\\": \\\"CDSView\\\"}, {\\\"attributes\\\": {\\\"label\\\": {\\\"value\\\": \\\"sale_price_sqr_foot\\\"}, \\\"renderers\\\": [{\\\"id\\\": \\\"2638\\\"}]}, \\\"id\\\": \\\"2650\\\", \\\"type\\\": \\\"LegendItem\\\"}, {\\\"attributes\\\": {\\\"data\\\": {\\\"Variable\\\": [\\\"gross_rent\\\", \\\"gross_rent\\\"], \\\"value\\\": [1530, 2971], \\\"year\\\": [\\\"2011\\\", \\\"2013\\\"]}, \\\"selected\\\": {\\\"id\\\": \\\"2615\\\"}, \\\"selection_policy\\\": {\\\"id\\\": \\\"2628\\\"}}, \\\"id\\\": \\\"2614\\\", \\\"type\\\": \\\"ColumnDataSource\\\"}, {\\\"attributes\\\": {\\\"data_source\\\": {\\\"id\\\": \\\"2614\\\"}, \\\"glyph\\\": {\\\"id\\\": \\\"2617\\\"}, \\\"hover_glyph\\\": null, \\\"muted_glyph\\\": {\\\"id\\\": \\\"2619\\\"}, \\\"nonselection_glyph\\\": {\\\"id\\\": \\\"2618\\\"}, \\\"selection_glyph\\\": null, \\\"view\\\": {\\\"id\\\": \\\"2621\\\"}}, \\\"id\\\": \\\"2620\\\", \\\"type\\\": \\\"GlyphRenderer\\\"}, {\\\"attributes\\\": {\\\"line_color\\\": \\\"#ff7e0e\\\", \\\"line_width\\\": 2, \\\"x\\\": {\\\"field\\\": \\\"year\\\"}, \\\"y\\\": {\\\"field\\\": \\\"value\\\"}}, \\\"id\\\": \\\"2635\\\", \\\"type\\\": \\\"Line\\\"}, {\\\"attributes\\\": {\\\"line_alpha\\\": 0.2, \\\"line_color\\\": \\\"#ff7e0e\\\", \\\"line_width\\\": 2, \\\"x\\\": {\\\"field\\\": \\\"year\\\"}, \\\"y\\\": {\\\"field\\\": \\\"value\\\"}}, \\\"id\\\": \\\"2637\\\", \\\"type\\\": \\\"Line\\\"}, {\\\"attributes\\\": {\\\"data\\\": {\\\"Variable\\\": [\\\"sale_price_sqr_foot\\\", \\\"sale_price_sqr_foot\\\"], \\\"value\\\": {\\\"__ndarray__\\\": \\\"MHLbdzABdEBpBeAVq1qHQA==\\\", \\\"dtype\\\": \\\"float64\\\", \\\"order\\\": \\\"little\\\", \\\"shape\\\": [2]}, \\\"year\\\": [\\\"2011\\\", \\\"2013\\\"]}, \\\"selected\\\": {\\\"id\\\": \\\"2633\\\"}, \\\"selection_policy\\\": {\\\"id\\\": \\\"2648\\\"}}, \\\"id\\\": \\\"2632\\\", \\\"type\\\": \\\"ColumnDataSource\\\"}, {\\\"attributes\\\": {\\\"source\\\": {\\\"id\\\": \\\"2614\\\"}}, \\\"id\\\": \\\"2621\\\", \\\"type\\\": \\\"CDSView\\\"}, {\\\"attributes\\\": {\\\"line_color\\\": \\\"#1f77b3\\\", \\\"line_width\\\": 2, \\\"x\\\": {\\\"field\\\": \\\"year\\\"}, \\\"y\\\": {\\\"field\\\": \\\"value\\\"}}, \\\"id\\\": \\\"2617\\\", \\\"type\\\": \\\"Line\\\"}, {\\\"attributes\\\": {\\\"line_alpha\\\": 0.1, \\\"line_color\\\": \\\"#ff7e0e\\\", \\\"line_width\\\": 2, \\\"x\\\": {\\\"field\\\": \\\"year\\\"}, \\\"y\\\": {\\\"field\\\": \\\"value\\\"}}, \\\"id\\\": \\\"2636\\\", \\\"type\\\": \\\"Line\\\"}, {\\\"attributes\\\": {}, \\\"id\\\": \\\"2648\\\", \\\"type\\\": \\\"UnionRenderers\\\"}, {\\\"attributes\\\": {\\\"data_source\\\": {\\\"id\\\": \\\"2632\\\"}, \\\"glyph\\\": {\\\"id\\\": \\\"2635\\\"}, \\\"hover_glyph\\\": null, \\\"muted_glyph\\\": {\\\"id\\\": \\\"2637\\\"}, \\\"nonselection_glyph\\\": {\\\"id\\\": \\\"2636\\\"}, \\\"selection_glyph\\\": null, \\\"view\\\": {\\\"id\\\": \\\"2639\\\"}}, \\\"id\\\": \\\"2638\\\", \\\"type\\\": \\\"GlyphRenderer\\\"}, {\\\"attributes\\\": {\\\"label\\\": {\\\"value\\\": \\\"gross_rent\\\"}, \\\"renderers\\\": [{\\\"id\\\": \\\"2620\\\"}]}, \\\"id\\\": \\\"2631\\\", \\\"type\\\": \\\"LegendItem\\\"}, {\\\"attributes\\\": {}, \\\"id\\\": \\\"2628\\\", \\\"type\\\": \\\"UnionRenderers\\\"}, {\\\"attributes\\\": {}, \\\"id\\\": \\\"2615\\\", \\\"type\\\": \\\"Selection\\\"}, {\\\"attributes\\\": {\\\"line_alpha\\\": 0.2, \\\"line_color\\\": \\\"#1f77b3\\\", \\\"line_width\\\": 2, \\\"x\\\": {\\\"field\\\": \\\"year\\\"}, \\\"y\\\": {\\\"field\\\": \\\"value\\\"}}, \\\"id\\\": \\\"2619\\\", \\\"type\\\": \\\"Line\\\"}, {\\\"attributes\\\": {}, \\\"id\\\": \\\"2633\\\", \\\"type\\\": \\\"Selection\\\"}]}\",\"header\":\"{\\\"msgid\\\": \\\"2877\\\", \\\"msgtype\\\": \\\"PATCH-DOC\\\"}\",\"metadata\":\"{}\"},\"Westwood Park\":{\"content\":\"{\\\"events\\\": [{\\\"attr\\\": \\\"factors\\\", \\\"kind\\\": \\\"ModelChanged\\\", \\\"model\\\": {\\\"id\\\": \\\"2577\\\"}, \\\"new\\\": [\\\"2014\\\", \\\"2016\\\"]}, {\\\"cols\\\": null, \\\"column_source\\\": {\\\"id\\\": \\\"2614\\\"}, \\\"kind\\\": \\\"ColumnDataChanged\\\", \\\"new\\\": {\\\"Variable\\\": [\\\"gross_rent\\\", \\\"gross_rent\\\"], \\\"value\\\": [3528, 4390], \\\"year\\\": [\\\"2014\\\", \\\"2016\\\"]}}, {\\\"cols\\\": null, \\\"column_source\\\": {\\\"id\\\": \\\"2632\\\"}, \\\"kind\\\": \\\"ColumnDataChanged\\\", \\\"new\\\": {\\\"Variable\\\": [\\\"sale_price_sqr_foot\\\", \\\"sale_price_sqr_foot\\\"], \\\"value\\\": {\\\"__ndarray__\\\": \\\"hgoZedY3h0BRlnA7kLmDQA==\\\", \\\"dtype\\\": \\\"float64\\\", \\\"order\\\": \\\"little\\\", \\\"shape\\\": [2]}, \\\"year\\\": [\\\"2014\\\", \\\"2016\\\"]}}, {\\\"attr\\\": \\\"text\\\", \\\"kind\\\": \\\"ModelChanged\\\", \\\"model\\\": {\\\"id\\\": \\\"2582\\\"}, \\\"new\\\": \\\"neighborhood: Westwood Park\\\"}, {\\\"attr\\\": \\\"right\\\", \\\"kind\\\": \\\"ModelChanged\\\", \\\"model\\\": {\\\"id\\\": \\\"2581\\\"}, \\\"new\\\": [{\\\"id\\\": \\\"2630\\\"}]}], \\\"references\\\": [{\\\"attributes\\\": {\\\"click_policy\\\": \\\"mute\\\", \\\"items\\\": [{\\\"id\\\": \\\"2631\\\"}, {\\\"id\\\": \\\"2650\\\"}], \\\"location\\\": [0, 0], \\\"title\\\": \\\"Variable\\\"}, \\\"id\\\": \\\"2630\\\", \\\"type\\\": \\\"Legend\\\"}, {\\\"attributes\\\": {\\\"line_alpha\\\": 0.1, \\\"line_color\\\": \\\"#1f77b3\\\", \\\"line_width\\\": 2, \\\"x\\\": {\\\"field\\\": \\\"year\\\"}, \\\"y\\\": {\\\"field\\\": \\\"value\\\"}}, \\\"id\\\": \\\"2618\\\", \\\"type\\\": \\\"Line\\\"}, {\\\"attributes\\\": {\\\"source\\\": {\\\"id\\\": \\\"2632\\\"}}, \\\"id\\\": \\\"2639\\\", \\\"type\\\": \\\"CDSView\\\"}, {\\\"attributes\\\": {\\\"label\\\": {\\\"value\\\": \\\"sale_price_sqr_foot\\\"}, \\\"renderers\\\": [{\\\"id\\\": \\\"2638\\\"}]}, \\\"id\\\": \\\"2650\\\", \\\"type\\\": \\\"LegendItem\\\"}, {\\\"attributes\\\": {\\\"data\\\": {\\\"Variable\\\": [\\\"gross_rent\\\", \\\"gross_rent\\\"], \\\"value\\\": [3528, 4390], \\\"year\\\": [\\\"2014\\\", \\\"2016\\\"]}, \\\"selected\\\": {\\\"id\\\": \\\"2615\\\"}, \\\"selection_policy\\\": {\\\"id\\\": \\\"2628\\\"}}, \\\"id\\\": \\\"2614\\\", \\\"type\\\": \\\"ColumnDataSource\\\"}, {\\\"attributes\\\": {\\\"data_source\\\": {\\\"id\\\": \\\"2614\\\"}, \\\"glyph\\\": {\\\"id\\\": \\\"2617\\\"}, \\\"hover_glyph\\\": null, \\\"muted_glyph\\\": {\\\"id\\\": \\\"2619\\\"}, \\\"nonselection_glyph\\\": {\\\"id\\\": \\\"2618\\\"}, \\\"selection_glyph\\\": null, \\\"view\\\": {\\\"id\\\": \\\"2621\\\"}}, \\\"id\\\": \\\"2620\\\", \\\"type\\\": \\\"GlyphRenderer\\\"}, {\\\"attributes\\\": {\\\"line_color\\\": \\\"#ff7e0e\\\", \\\"line_width\\\": 2, \\\"x\\\": {\\\"field\\\": \\\"year\\\"}, \\\"y\\\": {\\\"field\\\": \\\"value\\\"}}, \\\"id\\\": \\\"2635\\\", \\\"type\\\": \\\"Line\\\"}, {\\\"attributes\\\": {\\\"line_alpha\\\": 0.2, \\\"line_color\\\": \\\"#ff7e0e\\\", \\\"line_width\\\": 2, \\\"x\\\": {\\\"field\\\": \\\"year\\\"}, \\\"y\\\": {\\\"field\\\": \\\"value\\\"}}, \\\"id\\\": \\\"2637\\\", \\\"type\\\": \\\"Line\\\"}, {\\\"attributes\\\": {\\\"data\\\": {\\\"Variable\\\": [\\\"sale_price_sqr_foot\\\", \\\"sale_price_sqr_foot\\\"], \\\"value\\\": {\\\"__ndarray__\\\": \\\"hgoZedY3h0BRlnA7kLmDQA==\\\", \\\"dtype\\\": \\\"float64\\\", \\\"order\\\": \\\"little\\\", \\\"shape\\\": [2]}, \\\"year\\\": [\\\"2014\\\", \\\"2016\\\"]}, \\\"selected\\\": {\\\"id\\\": \\\"2633\\\"}, \\\"selection_policy\\\": {\\\"id\\\": \\\"2648\\\"}}, \\\"id\\\": \\\"2632\\\", \\\"type\\\": \\\"ColumnDataSource\\\"}, {\\\"attributes\\\": {\\\"source\\\": {\\\"id\\\": \\\"2614\\\"}}, \\\"id\\\": \\\"2621\\\", \\\"type\\\": \\\"CDSView\\\"}, {\\\"attributes\\\": {\\\"line_color\\\": \\\"#1f77b3\\\", \\\"line_width\\\": 2, \\\"x\\\": {\\\"field\\\": \\\"year\\\"}, \\\"y\\\": {\\\"field\\\": \\\"value\\\"}}, \\\"id\\\": \\\"2617\\\", \\\"type\\\": \\\"Line\\\"}, {\\\"attributes\\\": {\\\"line_alpha\\\": 0.1, \\\"line_color\\\": \\\"#ff7e0e\\\", \\\"line_width\\\": 2, \\\"x\\\": {\\\"field\\\": \\\"year\\\"}, \\\"y\\\": {\\\"field\\\": \\\"value\\\"}}, \\\"id\\\": \\\"2636\\\", \\\"type\\\": \\\"Line\\\"}, {\\\"attributes\\\": {}, \\\"id\\\": \\\"2648\\\", \\\"type\\\": \\\"UnionRenderers\\\"}, {\\\"attributes\\\": {\\\"data_source\\\": {\\\"id\\\": \\\"2632\\\"}, \\\"glyph\\\": {\\\"id\\\": \\\"2635\\\"}, \\\"hover_glyph\\\": null, \\\"muted_glyph\\\": {\\\"id\\\": \\\"2637\\\"}, \\\"nonselection_glyph\\\": {\\\"id\\\": \\\"2636\\\"}, \\\"selection_glyph\\\": null, \\\"view\\\": {\\\"id\\\": \\\"2639\\\"}}, \\\"id\\\": \\\"2638\\\", \\\"type\\\": \\\"GlyphRenderer\\\"}, {\\\"attributes\\\": {\\\"label\\\": {\\\"value\\\": \\\"gross_rent\\\"}, \\\"renderers\\\": [{\\\"id\\\": \\\"2620\\\"}]}, \\\"id\\\": \\\"2631\\\", \\\"type\\\": \\\"LegendItem\\\"}, {\\\"attributes\\\": {}, \\\"id\\\": \\\"2628\\\", \\\"type\\\": \\\"UnionRenderers\\\"}, {\\\"attributes\\\": {}, \\\"id\\\": \\\"2615\\\", \\\"type\\\": \\\"Selection\\\"}, {\\\"attributes\\\": {\\\"line_alpha\\\": 0.2, \\\"line_color\\\": \\\"#1f77b3\\\", \\\"line_width\\\": 2, \\\"x\\\": {\\\"field\\\": \\\"year\\\"}, \\\"y\\\": {\\\"field\\\": \\\"value\\\"}}, \\\"id\\\": \\\"2619\\\", \\\"type\\\": \\\"Line\\\"}, {\\\"attributes\\\": {}, \\\"id\\\": \\\"2633\\\", \\\"type\\\": \\\"Selection\\\"}]}\",\"header\":\"{\\\"msgid\\\": \\\"2844\\\", \\\"msgtype\\\": \\\"PATCH-DOC\\\"}\",\"metadata\":\"{}\"},\"Yerba Buena\":{\"content\":\"{\\\"events\\\": [{\\\"attr\\\": \\\"factors\\\", \\\"kind\\\": \\\"ModelChanged\\\", \\\"model\\\": {\\\"id\\\": \\\"2577\\\"}, \\\"new\\\": [\\\"2010\\\", \\\"2011\\\", \\\"2012\\\", \\\"2013\\\", \\\"2014\\\", \\\"2015\\\"]}, {\\\"cols\\\": null, \\\"column_source\\\": {\\\"id\\\": \\\"2614\\\"}, \\\"kind\\\": \\\"ColumnDataChanged\\\", \\\"new\\\": {\\\"Variable\\\": [\\\"gross_rent\\\", \\\"gross_rent\\\", \\\"gross_rent\\\", \\\"gross_rent\\\", \\\"gross_rent\\\", \\\"gross_rent\\\"], \\\"value\\\": [1239, 1530, 2324, 2971, 3528, 3739], \\\"year\\\": [\\\"2010\\\", \\\"2011\\\", \\\"2012\\\", \\\"2013\\\", \\\"2014\\\", \\\"2015\\\"]}}, {\\\"cols\\\": null, \\\"column_source\\\": {\\\"id\\\": \\\"2632\\\"}, \\\"kind\\\": \\\"ColumnDataChanged\\\", \\\"new\\\": {\\\"Variable\\\": [\\\"sale_price_sqr_foot\\\", \\\"sale_price_sqr_foot\\\", \\\"sale_price_sqr_foot\\\", \\\"sale_price_sqr_foot\\\", \\\"sale_price_sqr_foot\\\", \\\"sale_price_sqr_foot\\\"], \\\"value\\\": {\\\"__ndarray__\\\": \\\"2hECRAfSdEB3bevKxG17QBDwDygGvX5AZqvdXxeIh0Ae7tWsx/59QOv8I0wuHI5A\\\", \\\"dtype\\\": \\\"float64\\\", \\\"order\\\": \\\"little\\\", \\\"shape\\\": [6]}, \\\"year\\\": [\\\"2010\\\", \\\"2011\\\", \\\"2012\\\", \\\"2013\\\", \\\"2014\\\", \\\"2015\\\"]}}, {\\\"attr\\\": \\\"text\\\", \\\"kind\\\": \\\"ModelChanged\\\", \\\"model\\\": {\\\"id\\\": \\\"2582\\\"}, \\\"new\\\": \\\"neighborhood: Yerba Buena\\\"}, {\\\"attr\\\": \\\"right\\\", \\\"kind\\\": \\\"ModelChanged\\\", \\\"model\\\": {\\\"id\\\": \\\"2581\\\"}, \\\"new\\\": [{\\\"id\\\": \\\"2630\\\"}]}], \\\"references\\\": [{\\\"attributes\\\": {\\\"click_policy\\\": \\\"mute\\\", \\\"items\\\": [{\\\"id\\\": \\\"2631\\\"}, {\\\"id\\\": \\\"2650\\\"}], \\\"location\\\": [0, 0], \\\"title\\\": \\\"Variable\\\"}, \\\"id\\\": \\\"2630\\\", \\\"type\\\": \\\"Legend\\\"}, {\\\"attributes\\\": {\\\"line_alpha\\\": 0.1, \\\"line_color\\\": \\\"#1f77b3\\\", \\\"line_width\\\": 2, \\\"x\\\": {\\\"field\\\": \\\"year\\\"}, \\\"y\\\": {\\\"field\\\": \\\"value\\\"}}, \\\"id\\\": \\\"2618\\\", \\\"type\\\": \\\"Line\\\"}, {\\\"attributes\\\": {\\\"source\\\": {\\\"id\\\": \\\"2632\\\"}}, \\\"id\\\": \\\"2639\\\", \\\"type\\\": \\\"CDSView\\\"}, {\\\"attributes\\\": {\\\"label\\\": {\\\"value\\\": \\\"sale_price_sqr_foot\\\"}, \\\"renderers\\\": [{\\\"id\\\": \\\"2638\\\"}]}, \\\"id\\\": \\\"2650\\\", \\\"type\\\": \\\"LegendItem\\\"}, {\\\"attributes\\\": {\\\"data\\\": {\\\"Variable\\\": [\\\"gross_rent\\\", \\\"gross_rent\\\", \\\"gross_rent\\\", \\\"gross_rent\\\", \\\"gross_rent\\\", \\\"gross_rent\\\"], \\\"value\\\": [1239, 1530, 2324, 2971, 3528, 3739], \\\"year\\\": [\\\"2010\\\", \\\"2011\\\", \\\"2012\\\", \\\"2013\\\", \\\"2014\\\", \\\"2015\\\"]}, \\\"selected\\\": {\\\"id\\\": \\\"2615\\\"}, \\\"selection_policy\\\": {\\\"id\\\": \\\"2628\\\"}}, \\\"id\\\": \\\"2614\\\", \\\"type\\\": \\\"ColumnDataSource\\\"}, {\\\"attributes\\\": {\\\"data_source\\\": {\\\"id\\\": \\\"2614\\\"}, \\\"glyph\\\": {\\\"id\\\": \\\"2617\\\"}, \\\"hover_glyph\\\": null, \\\"muted_glyph\\\": {\\\"id\\\": \\\"2619\\\"}, \\\"nonselection_glyph\\\": {\\\"id\\\": \\\"2618\\\"}, \\\"selection_glyph\\\": null, \\\"view\\\": {\\\"id\\\": \\\"2621\\\"}}, \\\"id\\\": \\\"2620\\\", \\\"type\\\": \\\"GlyphRenderer\\\"}, {\\\"attributes\\\": {\\\"line_color\\\": \\\"#ff7e0e\\\", \\\"line_width\\\": 2, \\\"x\\\": {\\\"field\\\": \\\"year\\\"}, \\\"y\\\": {\\\"field\\\": \\\"value\\\"}}, \\\"id\\\": \\\"2635\\\", \\\"type\\\": \\\"Line\\\"}, {\\\"attributes\\\": {\\\"line_alpha\\\": 0.2, \\\"line_color\\\": \\\"#ff7e0e\\\", \\\"line_width\\\": 2, \\\"x\\\": {\\\"field\\\": \\\"year\\\"}, \\\"y\\\": {\\\"field\\\": \\\"value\\\"}}, \\\"id\\\": \\\"2637\\\", \\\"type\\\": \\\"Line\\\"}, {\\\"attributes\\\": {\\\"data\\\": {\\\"Variable\\\": [\\\"sale_price_sqr_foot\\\", \\\"sale_price_sqr_foot\\\", \\\"sale_price_sqr_foot\\\", \\\"sale_price_sqr_foot\\\", \\\"sale_price_sqr_foot\\\", \\\"sale_price_sqr_foot\\\"], \\\"value\\\": {\\\"__ndarray__\\\": \\\"2hECRAfSdEB3bevKxG17QBDwDygGvX5AZqvdXxeIh0Ae7tWsx/59QOv8I0wuHI5A\\\", \\\"dtype\\\": \\\"float64\\\", \\\"order\\\": \\\"little\\\", \\\"shape\\\": [6]}, \\\"year\\\": [\\\"2010\\\", \\\"2011\\\", \\\"2012\\\", \\\"2013\\\", \\\"2014\\\", \\\"2015\\\"]}, \\\"selected\\\": {\\\"id\\\": \\\"2633\\\"}, \\\"selection_policy\\\": {\\\"id\\\": \\\"2648\\\"}}, \\\"id\\\": \\\"2632\\\", \\\"type\\\": \\\"ColumnDataSource\\\"}, {\\\"attributes\\\": {\\\"source\\\": {\\\"id\\\": \\\"2614\\\"}}, \\\"id\\\": \\\"2621\\\", \\\"type\\\": \\\"CDSView\\\"}, {\\\"attributes\\\": {\\\"line_color\\\": \\\"#1f77b3\\\", \\\"line_width\\\": 2, \\\"x\\\": {\\\"field\\\": \\\"year\\\"}, \\\"y\\\": {\\\"field\\\": \\\"value\\\"}}, \\\"id\\\": \\\"2617\\\", \\\"type\\\": \\\"Line\\\"}, {\\\"attributes\\\": {\\\"line_alpha\\\": 0.1, \\\"line_color\\\": \\\"#ff7e0e\\\", \\\"line_width\\\": 2, \\\"x\\\": {\\\"field\\\": \\\"year\\\"}, \\\"y\\\": {\\\"field\\\": \\\"value\\\"}}, \\\"id\\\": \\\"2636\\\", \\\"type\\\": \\\"Line\\\"}, {\\\"attributes\\\": {}, \\\"id\\\": \\\"2648\\\", \\\"type\\\": \\\"UnionRenderers\\\"}, {\\\"attributes\\\": {\\\"data_source\\\": {\\\"id\\\": \\\"2632\\\"}, \\\"glyph\\\": {\\\"id\\\": \\\"2635\\\"}, \\\"hover_glyph\\\": null, \\\"muted_glyph\\\": {\\\"id\\\": \\\"2637\\\"}, \\\"nonselection_glyph\\\": {\\\"id\\\": \\\"2636\\\"}, \\\"selection_glyph\\\": null, \\\"view\\\": {\\\"id\\\": \\\"2639\\\"}}, \\\"id\\\": \\\"2638\\\", \\\"type\\\": \\\"GlyphRenderer\\\"}, {\\\"attributes\\\": {\\\"label\\\": {\\\"value\\\": \\\"gross_rent\\\"}, \\\"renderers\\\": [{\\\"id\\\": \\\"2620\\\"}]}, \\\"id\\\": \\\"2631\\\", \\\"type\\\": \\\"LegendItem\\\"}, {\\\"attributes\\\": {}, \\\"id\\\": \\\"2628\\\", \\\"type\\\": \\\"UnionRenderers\\\"}, {\\\"attributes\\\": {}, \\\"id\\\": \\\"2615\\\", \\\"type\\\": \\\"Selection\\\"}, {\\\"attributes\\\": {\\\"line_alpha\\\": 0.2, \\\"line_color\\\": \\\"#1f77b3\\\", \\\"line_width\\\": 2, \\\"x\\\": {\\\"field\\\": \\\"year\\\"}, \\\"y\\\": {\\\"field\\\": \\\"value\\\"}}, \\\"id\\\": \\\"2619\\\", \\\"type\\\": \\\"Line\\\"}, {\\\"attributes\\\": {}, \\\"id\\\": \\\"2633\\\", \\\"type\\\": \\\"Selection\\\"}]}\",\"header\":\"{\\\"msgid\\\": \\\"2811\\\", \\\"msgtype\\\": \\\"PATCH-DOC\\\"}\",\"metadata\":\"{}\"}},\"values\":[\"Alamo Square\"],\"widgets\":{\"2753\":0}},\"id\":\"2765\",\"type\":\"panel.models.state.State\"},{\"attributes\":{\"overlay\":{\"id\":\"2602\"}},\"id\":\"2600\",\"type\":\"BoxZoomTool\"},{\"attributes\":{},\"id\":\"2628\",\"type\":\"UnionRenderers\"},{\"attributes\":{},\"id\":\"2597\",\"type\":\"SaveTool\"},{\"attributes\":{\"children\":[{\"id\":\"2576\"},{\"id\":\"2581\"},{\"id\":\"2749\"},{\"id\":\"2750\"}],\"margin\":[0,0,0,0],\"name\":\"Row29927\",\"tags\":[\"embedded\"]},\"id\":\"2575\",\"type\":\"Row\"},{\"attributes\":{\"axis\":{\"id\":\"2593\"},\"dimension\":1,\"grid_line_color\":null,\"ticker\":null},\"id\":\"2596\",\"type\":\"Grid\"},{\"attributes\":{\"js_property_callbacks\":{\"change:value\":[{\"id\":\"2766\"}]},\"margin\":[20,20,20,20],\"min_width\":250,\"options\":[\"Alamo Square\",\"Anza Vista\",\"Bayview\",\"Bayview Heights\",\"Bernal Heights \",\"Buena Vista Park\",\"Central Richmond\",\"Central Sunset\",\"Clarendon Heights\",\"Corona Heights\",\"Cow Hollow\",\"Croker Amazon\",\"Diamond Heights\",\"Downtown \",\"Duboce Triangle\",\"Eureka Valley/Dolores Heights\",\"Excelsior\",\"Financial District North\",\"Financial District South\",\"Forest Knolls\",\"Glen Park\",\"Golden Gate Heights\",\"Haight Ashbury\",\"Hayes Valley\",\"Hunters Point\",\"Ingleside \",\"Ingleside Heights\",\"Inner Mission\",\"Inner Parkside\",\"Inner Richmond\",\"Inner Sunset\",\"Jordan Park/Laurel Heights\",\"Lake --The Presidio\",\"Lone Mountain\",\"Lower Pacific Heights\",\"Marina\",\"Merced Heights\",\"Midtown Terrace\",\"Miraloma Park\",\"Mission Bay\",\"Mission Dolores\",\"Mission Terrace\",\"Nob Hill\",\"Noe Valley\",\"North Beach\",\"North Waterfront\",\"Oceanview\",\"Outer Mission\",\"Outer Parkside\",\"Outer Richmond \",\"Outer Sunset\",\"Pacific Heights\",\"Park North\",\"Parkside\",\"Parnassus/Ashbury Heights\",\"Portola\",\"Potrero Hill\",\"Presidio Heights\",\"Russian Hill\",\"Silver Terrace\",\"South Beach\",\"South of Market\",\"Sunnyside\",\"Telegraph Hill\",\"Twin Peaks\",\"Union Square District\",\"Van Ness/ Civic Center\",\"Visitacion Valley\",\"West Portal\",\"Western Addition\",\"Westwood Highlands\",\"Westwood Park\",\"Yerba Buena\"],\"title\":\"neighborhood\",\"value\":\"Alamo Square\",\"width\":250},\"id\":\"2753\",\"type\":\"Select\"},{\"attributes\":{\"text\":\"neighborhood: Alamo Square\",\"text_color\":{\"value\":\"black\"},\"text_font_size\":{\"value\":\"12pt\"}},\"id\":\"2582\",\"type\":\"Title\"},{\"attributes\":{\"active_drag\":\"auto\",\"active_inspect\":\"auto\",\"active_multi\":null,\"active_scroll\":\"auto\",\"active_tap\":\"auto\",\"tools\":[{\"id\":\"2579\"},{\"id\":\"2597\"},{\"id\":\"2598\"},{\"id\":\"2599\"},{\"id\":\"2600\"},{\"id\":\"2601\"}]},\"id\":\"2603\",\"type\":\"Toolbar\"},{\"attributes\":{},\"id\":\"2601\",\"type\":\"ResetTool\"},{\"attributes\":{},\"id\":\"2613\",\"type\":\"BasicTickFormatter\"},{\"attributes\":{},\"id\":\"2633\",\"type\":\"Selection\"},{\"attributes\":{},\"id\":\"2594\",\"type\":\"BasicTicker\"},{\"attributes\":{\"margin\":[5,5,5,5],\"name\":\"VSpacer29935\",\"sizing_mode\":\"stretch_height\"},\"id\":\"2751\",\"type\":\"Spacer\"}],\"root_ids\":[\"2575\",\"2765\"]},\"title\":\"Bokeh Application\",\"version\":\"2.2.3\"}};\n    var render_items = [{\"docid\":\"b7b3d24f-30c5-4c5b-abe0-e8cc713b0738\",\"root_ids\":[\"2575\"],\"roots\":{\"2575\":\"db80a763-9e72-46c4-a8eb-9aec7854aba1\"}}];\n    root.Bokeh.embed.embed_items_notebook(docs_json, render_items);\n  }\n  if (root.Bokeh !== undefined && root.Bokeh.Panel !== undefined && root['Plotly'] !== undefined ) {\n    embed_document(root);\n  } else {\n    var attempts = 0;\n    var timer = setInterval(function(root) {\n      if (root.Bokeh !== undefined && root.Bokeh.Panel !== undefined && root['Plotly'] !== undefined) {\n        clearInterval(timer);\n        embed_document(root);\n      } else if (document.readyState == \"complete\") {\n        attempts++;\n        if (attempts > 100) {\n          clearInterval(timer);\n          console.log(\"Bokeh: ERROR: Unable to run BokehJS code because BokehJS library is missing\");\n        }\n      }\n    }, 10, root)\n  }\n})(window);</script>",
      "application/vnd.holoviews_exec.v0+json": "",
      "text/plain": [
       ":HoloMap   [neighborhood]\n",
       "   :NdOverlay   [Variable]\n",
       "      :Curve   [year]   (value)"
      ]
     },
     "metadata": {
      "application/vnd.holoviews_exec.v0+json": {
       "id": "2575"
      }
     },
     "execution_count": 12
    }
   ],
   "source": [
    "average_price_by_neighborhood()"
   ]
  },
  {
   "cell_type": "code",
   "execution_count": 13,
   "metadata": {},
   "outputs": [
    {
     "output_type": "display_data",
     "data": {},
     "metadata": {}
    },
    {
     "output_type": "execute_result",
     "data": {
      "text/html": "<div id='5399'>\n\n\n\n\n\n  <div class=\"bk-root\" id=\"5c3e9377-bf1f-446b-a78e-ec92529e2fa1\" data-root-id=\"5399\"></div>\n</div>\n<script type=\"application/javascript\">(function(root) {\n  function embed_document(root) {\n    var docs_json = {\"e504e122-7302-45ac-a1ea-d2e9945b7cf9\":{\"roots\":{\"references\":[{\"attributes\":{\"axis\":{\"id\":\"5416\"},\"dimension\":1,\"grid_line_color\":null,\"ticker\":null},\"id\":\"5419\",\"type\":\"Grid\"},{\"attributes\":{},\"id\":\"5420\",\"type\":\"SaveTool\"},{\"attributes\":{\"data_source\":{\"id\":\"5433\"},\"glyph\":{\"id\":\"5436\"},\"hover_glyph\":null,\"muted_glyph\":{\"id\":\"5438\"},\"nonselection_glyph\":{\"id\":\"5437\"},\"selection_glyph\":null,\"view\":{\"id\":\"5440\"}},\"id\":\"5439\",\"type\":\"GlyphRenderer\"},{\"attributes\":{\"fill_color\":{\"value\":\"blue\"},\"top\":{\"field\":\"sale_price_sqr_foot\"},\"width\":{\"value\":0.8},\"x\":{\"field\":\"neighborhood\"}},\"id\":\"5436\",\"type\":\"VBar\"},{\"attributes\":{\"fill_alpha\":{\"value\":0.2},\"fill_color\":{\"value\":\"blue\"},\"line_alpha\":{\"value\":0.2},\"top\":{\"field\":\"sale_price_sqr_foot\"},\"width\":{\"value\":0.8},\"x\":{\"field\":\"neighborhood\"}},\"id\":\"5438\",\"type\":\"VBar\"},{\"attributes\":{\"below\":[{\"id\":\"5413\"}],\"center\":[{\"id\":\"5415\"},{\"id\":\"5419\"}],\"left\":[{\"id\":\"5416\"}],\"margin\":[5,5,5,5],\"min_border_bottom\":10,\"min_border_left\":10,\"min_border_right\":10,\"min_border_top\":10,\"plot_height\":300,\"plot_width\":700,\"renderers\":[{\"id\":\"5439\"}],\"sizing_mode\":\"fixed\",\"title\":{\"id\":\"5405\"},\"toolbar\":{\"id\":\"5426\"},\"x_range\":{\"id\":\"5401\"},\"x_scale\":{\"id\":\"5409\"},\"y_range\":{\"id\":\"5402\"},\"y_scale\":{\"id\":\"5411\"}},\"id\":\"5404\",\"subtype\":\"Figure\",\"type\":\"Plot\"},{\"attributes\":{},\"id\":\"5422\",\"type\":\"WheelZoomTool\"},{\"attributes\":{\"fill_alpha\":{\"value\":0.1},\"fill_color\":{\"value\":\"blue\"},\"line_alpha\":{\"value\":0.1},\"top\":{\"field\":\"sale_price_sqr_foot\"},\"width\":{\"value\":0.8},\"x\":{\"field\":\"neighborhood\"}},\"id\":\"5437\",\"type\":\"VBar\"},{\"attributes\":{\"overlay\":{\"id\":\"5425\"}},\"id\":\"5423\",\"type\":\"BoxZoomTool\"},{\"attributes\":{\"axis_label\":\"Avg. Sale Price Per Sqft\",\"bounds\":\"auto\",\"formatter\":{\"id\":\"5444\"},\"major_label_orientation\":\"horizontal\",\"ticker\":{\"id\":\"5417\"}},\"id\":\"5416\",\"type\":\"LinearAxis\"},{\"attributes\":{\"callback\":null,\"renderers\":[{\"id\":\"5439\"}],\"tags\":[\"hv_created\"],\"tooltips\":[[\"neighborhood\",\"@{neighborhood}\"],[\"sale_price_sqr_foot\",\"@{sale_price_sqr_foot}\"]]},\"id\":\"5403\",\"type\":\"HoverTool\"},{\"attributes\":{},\"id\":\"5417\",\"type\":\"BasicTicker\"},{\"attributes\":{\"bottom_units\":\"screen\",\"fill_alpha\":0.5,\"fill_color\":\"lightgrey\",\"left_units\":\"screen\",\"level\":\"overlay\",\"line_alpha\":1.0,\"line_color\":\"black\",\"line_dash\":[4,4],\"line_width\":2,\"right_units\":\"screen\",\"top_units\":\"screen\"},\"id\":\"5425\",\"type\":\"BoxAnnotation\"},{\"attributes\":{},\"id\":\"5434\",\"type\":\"Selection\"},{\"attributes\":{\"source\":{\"id\":\"5433\"}},\"id\":\"5440\",\"type\":\"CDSView\"},{\"attributes\":{\"factors\":[\"Union Square District\",\"Merced Heights\",\"Miraloma Park\",\"Pacific Heights\",\"Westwood Park\",\"Telegraph Hill\",\"Presidio Heights\",\"Cow Hollow\",\"Potrero Hill\",\"South Beach\"],\"tags\":[[[\"neighborhood\",\"neighborhood\",null]]]},\"id\":\"5401\",\"type\":\"FactorRange\"},{\"attributes\":{},\"id\":\"5414\",\"type\":\"CategoricalTicker\"},{\"attributes\":{},\"id\":\"5441\",\"type\":\"CategoricalTickFormatter\"},{\"attributes\":{},\"id\":\"5444\",\"type\":\"BasicTickFormatter\"},{\"attributes\":{\"axis\":{\"id\":\"5413\"},\"grid_line_color\":null,\"ticker\":null},\"id\":\"5415\",\"type\":\"Grid\"},{\"attributes\":{\"axis_label\":\"neighborhood\",\"bounds\":\"auto\",\"formatter\":{\"id\":\"5441\"},\"major_label_orientation\":1.5707963267948966,\"ticker\":{\"id\":\"5414\"}},\"id\":\"5413\",\"type\":\"CategoricalAxis\"},{\"attributes\":{},\"id\":\"5421\",\"type\":\"PanTool\"},{\"attributes\":{},\"id\":\"5451\",\"type\":\"UnionRenderers\"},{\"attributes\":{},\"id\":\"5411\",\"type\":\"LinearScale\"},{\"attributes\":{\"children\":[{\"id\":\"5400\"},{\"id\":\"5404\"},{\"id\":\"5461\"}],\"margin\":[0,0,0,0],\"name\":\"Row45616\",\"tags\":[\"embedded\"]},\"id\":\"5399\",\"type\":\"Row\"},{\"attributes\":{\"margin\":[5,5,5,5],\"name\":\"HSpacer45620\",\"sizing_mode\":\"stretch_width\"},\"id\":\"5400\",\"type\":\"Spacer\"},{\"attributes\":{\"margin\":[5,5,5,5],\"name\":\"HSpacer45621\",\"sizing_mode\":\"stretch_width\"},\"id\":\"5461\",\"type\":\"Spacer\"},{\"attributes\":{},\"id\":\"5409\",\"type\":\"CategoricalScale\"},{\"attributes\":{\"text\":\"Top 10 Expensive Neighborhoods in SFO\",\"text_color\":{\"value\":\"black\"},\"text_font_size\":{\"value\":\"12pt\"}},\"id\":\"5405\",\"type\":\"Title\"},{\"attributes\":{},\"id\":\"5424\",\"type\":\"ResetTool\"},{\"attributes\":{\"end\":900,\"reset_end\":900,\"reset_start\":600,\"start\":600,\"tags\":[[[\"sale_price_sqr_foot\",\"sale_price_sqr_foot\",null]]]},\"id\":\"5402\",\"type\":\"Range1d\"},{\"attributes\":{\"active_drag\":\"auto\",\"active_inspect\":\"auto\",\"active_multi\":null,\"active_scroll\":\"auto\",\"active_tap\":\"auto\",\"tools\":[{\"id\":\"5403\"},{\"id\":\"5420\"},{\"id\":\"5421\"},{\"id\":\"5422\"},{\"id\":\"5423\"},{\"id\":\"5424\"}]},\"id\":\"5426\",\"type\":\"Toolbar\"},{\"attributes\":{\"data\":{\"neighborhood\":[\"Union Square District\",\"Merced Heights\",\"Miraloma Park\",\"Pacific Heights\",\"Westwood Park\",\"Telegraph Hill\",\"Presidio Heights\",\"Cow Hollow\",\"Potrero Hill\",\"South Beach\"],\"sale_price_sqr_foot\":{\"__ndarray__\":\"JRAUMfI/jEB9IrkvwqaIQFx/3pp8XohAFpsVUHKMhUBs0ERas3iFQL0KhXgNJIVAy835O80ahUANV25bts+EQJrMCuEbsIRAya3y7v5QhEA=\",\"dtype\":\"float64\",\"order\":\"little\",\"shape\":[10]}},\"selected\":{\"id\":\"5434\"},\"selection_policy\":{\"id\":\"5451\"}},\"id\":\"5433\",\"type\":\"ColumnDataSource\"}],\"root_ids\":[\"5399\"]},\"title\":\"Bokeh Application\",\"version\":\"2.2.3\"}};\n    var render_items = [{\"docid\":\"e504e122-7302-45ac-a1ea-d2e9945b7cf9\",\"root_ids\":[\"5399\"],\"roots\":{\"5399\":\"5c3e9377-bf1f-446b-a78e-ec92529e2fa1\"}}];\n    root.Bokeh.embed.embed_items_notebook(docs_json, render_items);\n  }\n  if (root.Bokeh !== undefined && root.Bokeh.Panel !== undefined && root['Plotly'] !== undefined ) {\n    embed_document(root);\n  } else {\n    var attempts = 0;\n    var timer = setInterval(function(root) {\n      if (root.Bokeh !== undefined && root.Bokeh.Panel !== undefined && root['Plotly'] !== undefined) {\n        clearInterval(timer);\n        embed_document(root);\n      } else if (document.readyState == \"complete\") {\n        attempts++;\n        if (attempts > 100) {\n          clearInterval(timer);\n          console.log(\"Bokeh: ERROR: Unable to run BokehJS code because BokehJS library is missing\");\n        }\n      }\n    }, 10, root)\n  }\n})(window);</script>",
      "application/vnd.holoviews_exec.v0+json": "",
      "text/plain": [
       ":Bars   [neighborhood]   (sale_price_sqr_foot)"
      ]
     },
     "metadata": {
      "application/vnd.holoviews_exec.v0+json": {
       "id": "5399"
      }
     },
     "execution_count": 13
    }
   ],
   "source": [
    " top_most_expensive_neighborhoods()"
   ]
  },
  {
   "cell_type": "code",
   "execution_count": 14,
   "metadata": {},
   "outputs": [
    {
     "output_type": "display_data",
     "data": {},
     "metadata": {}
    },
    {
     "output_type": "execute_result",
     "data": {
      "text/html": "<div id='5503'>\n\n\n\n\n\n  <div class=\"bk-root\" id=\"b58c0a23-85d9-4ad9-bcd1-2d8af494350c\" data-root-id=\"5503\"></div>\n</div>\n<script type=\"application/javascript\">(function(root) {\n  function embed_document(root) {\n    var docs_json = {\"d95d4519-a4fe-4250-9aaa-0b478aa91587\":{\"roots\":{\"references\":[{\"attributes\":{},\"id\":\"5528\",\"type\":\"ResetTool\"},{\"attributes\":{\"source\":{\"id\":\"5538\"}},\"id\":\"5545\",\"type\":\"CDSView\"},{\"attributes\":{\"text\":\"Top 10 Expensive Neighborhoods in SFO\",\"text_color\":{\"value\":\"black\"},\"text_font_size\":{\"value\":\"12pt\"}},\"id\":\"5509\",\"type\":\"Title\"},{\"attributes\":{\"factors\":[\"sale_price_sqr_foot\",\"gross_rent\"],\"palette\":[\"blue\",\"blue\"]},\"id\":\"5537\",\"type\":\"CategoricalColorMapper\"},{\"attributes\":{\"state\":{\"Cow Hollow\":{\"content\":\"{\\\"events\\\": [{\\\"attr\\\": \\\"factors\\\", \\\"kind\\\": \\\"ModelChanged\\\", \\\"model\\\": {\\\"id\\\": \\\"5505\\\"}, \\\"new\\\": [[\\\"2010\\\", \\\"gross_rent\\\"], [\\\"2010\\\", \\\"sale_price_sqr_foot\\\"], [\\\"2011\\\", \\\"gross_rent\\\"], [\\\"2011\\\", \\\"sale_price_sqr_foot\\\"], [\\\"2012\\\", \\\"gross_rent\\\"], [\\\"2012\\\", \\\"sale_price_sqr_foot\\\"], [\\\"2013\\\", \\\"gross_rent\\\"], [\\\"2013\\\", \\\"sale_price_sqr_foot\\\"], [\\\"2014\\\", \\\"gross_rent\\\"], [\\\"2014\\\", \\\"sale_price_sqr_foot\\\"], [\\\"2015\\\", \\\"gross_rent\\\"], [\\\"2015\\\", \\\"sale_price_sqr_foot\\\"], [\\\"2016\\\", \\\"gross_rent\\\"], [\\\"2016\\\", \\\"sale_price_sqr_foot\\\"]]}, {\\\"attr\\\": \\\"end\\\", \\\"kind\\\": \\\"ModelChanged\\\", \\\"model\\\": {\\\"id\\\": \\\"5506\\\"}, \\\"new\\\": 4789.940434697159}, {\\\"attr\\\": \\\"reset_end\\\", \\\"kind\\\": \\\"ModelChanged\\\", \\\"model\\\": {\\\"id\\\": \\\"5506\\\"}, \\\"new\\\": 4789.940434697159}, {\\\"cols\\\": null, \\\"column_source\\\": {\\\"id\\\": \\\"5538\\\"}, \\\"kind\\\": \\\"ColumnDataChanged\\\", \\\"new\\\": {\\\"Variable\\\": [\\\"sale_price_sqr_foot\\\", \\\"sale_price_sqr_foot\\\", \\\"sale_price_sqr_foot\\\", \\\"sale_price_sqr_foot\\\", \\\"sale_price_sqr_foot\\\", \\\"sale_price_sqr_foot\\\", \\\"sale_price_sqr_foot\\\", \\\"gross_rent\\\", \\\"gross_rent\\\", \\\"gross_rent\\\", \\\"gross_rent\\\", \\\"gross_rent\\\", \\\"gross_rent\\\", \\\"gross_rent\\\"], \\\"value\\\": {\\\"__ndarray__\\\": \\\"LMKfLArLgUAbTXjLh2l4QAnYXuSLJoRAMODd8zgbhkCYJdtc7J6FQJ+1dd72tIJAlnINLUOMkEAAAAAAAFyTQAAAAAAA6JdAAAAAAAAookAAAAAAADanQAAAAAAAkKtAAAAAAAA2rUAAAAAAACaxQA==\\\", \\\"dtype\\\": \\\"float64\\\", \\\"order\\\": \\\"little\\\", \\\"shape\\\": [14]}, \\\"xoffsets\\\": [[\\\"2010\\\", \\\"sale_price_sqr_foot\\\"], [\\\"2011\\\", \\\"sale_price_sqr_foot\\\"], [\\\"2012\\\", \\\"sale_price_sqr_foot\\\"], [\\\"2013\\\", \\\"sale_price_sqr_foot\\\"], [\\\"2014\\\", \\\"sale_price_sqr_foot\\\"], [\\\"2015\\\", \\\"sale_price_sqr_foot\\\"], [\\\"2016\\\", \\\"sale_price_sqr_foot\\\"], [\\\"2010\\\", \\\"gross_rent\\\"], [\\\"2011\\\", \\\"gross_rent\\\"], [\\\"2012\\\", \\\"gross_rent\\\"], [\\\"2013\\\", \\\"gross_rent\\\"], [\\\"2014\\\", \\\"gross_rent\\\"], [\\\"2015\\\", \\\"gross_rent\\\"], [\\\"2016\\\", \\\"gross_rent\\\"]], \\\"year\\\": [\\\"2010\\\", \\\"2011\\\", \\\"2012\\\", \\\"2013\\\", \\\"2014\\\", \\\"2015\\\", \\\"2016\\\", \\\"2010\\\", \\\"2011\\\", \\\"2012\\\", \\\"2013\\\", \\\"2014\\\", \\\"2015\\\", \\\"2016\\\"]}}], \\\"references\\\": []}\",\"header\":\"{\\\"msgid\\\": \\\"5655\\\", \\\"msgtype\\\": \\\"PATCH-DOC\\\"}\",\"metadata\":\"{}\"},\"Merced Heights\":{\"content\":\"{\\\"events\\\": [{\\\"attr\\\": \\\"factors\\\", \\\"kind\\\": \\\"ModelChanged\\\", \\\"model\\\": {\\\"id\\\": \\\"5505\\\"}, \\\"new\\\": [[\\\"2012\\\", \\\"gross_rent\\\"], [\\\"2012\\\", \\\"sale_price_sqr_foot\\\"], [\\\"2014\\\", \\\"gross_rent\\\"], [\\\"2014\\\", \\\"sale_price_sqr_foot\\\"], [\\\"2016\\\", \\\"gross_rent\\\"], [\\\"2016\\\", \\\"sale_price_sqr_foot\\\"]]}, {\\\"attr\\\": \\\"end\\\", \\\"kind\\\": \\\"ModelChanged\\\", \\\"model\\\": {\\\"id\\\": \\\"5506\\\"}, \\\"new\\\": 4786.88587552938}, {\\\"attr\\\": \\\"reset_end\\\", \\\"kind\\\": \\\"ModelChanged\\\", \\\"model\\\": {\\\"id\\\": \\\"5506\\\"}, \\\"new\\\": 4786.88587552938}, {\\\"cols\\\": null, \\\"column_source\\\": {\\\"id\\\": \\\"5538\\\"}, \\\"kind\\\": \\\"ColumnDataChanged\\\", \\\"new\\\": {\\\"Variable\\\": [\\\"sale_price_sqr_foot\\\", \\\"sale_price_sqr_foot\\\", \\\"sale_price_sqr_foot\\\", \\\"gross_rent\\\", \\\"gross_rent\\\", \\\"gross_rent\\\"], \\\"value\\\": {\\\"__ndarray__\\\": \\\"MB3PiUJSekCKg+70z4WAQKyqqqqqIpZAAAAAAAAookAAAAAAAJCrQAAAAAAAJrFA\\\", \\\"dtype\\\": \\\"float64\\\", \\\"order\\\": \\\"little\\\", \\\"shape\\\": [6]}, \\\"xoffsets\\\": [[\\\"2012\\\", \\\"sale_price_sqr_foot\\\"], [\\\"2014\\\", \\\"sale_price_sqr_foot\\\"], [\\\"2016\\\", \\\"sale_price_sqr_foot\\\"], [\\\"2012\\\", \\\"gross_rent\\\"], [\\\"2014\\\", \\\"gross_rent\\\"], [\\\"2016\\\", \\\"gross_rent\\\"]], \\\"year\\\": [\\\"2012\\\", \\\"2014\\\", \\\"2016\\\", \\\"2012\\\", \\\"2014\\\", \\\"2016\\\"]}}], \\\"references\\\": []}\",\"header\":\"{\\\"msgid\\\": \\\"5650\\\", \\\"msgtype\\\": \\\"PATCH-DOC\\\"}\",\"metadata\":\"{}\"},\"Miraloma Park\":{\"content\":\"{\\\"events\\\": [{\\\"attr\\\": \\\"factors\\\", \\\"kind\\\": \\\"ModelChanged\\\", \\\"model\\\": {\\\"id\\\": \\\"5505\\\"}, \\\"new\\\": [[\\\"2010\\\", \\\"gross_rent\\\"], [\\\"2010\\\", \\\"sale_price_sqr_foot\\\"], [\\\"2011\\\", \\\"gross_rent\\\"], [\\\"2011\\\", \\\"sale_price_sqr_foot\\\"], [\\\"2012\\\", \\\"gross_rent\\\"], [\\\"2012\\\", \\\"sale_price_sqr_foot\\\"], [\\\"2014\\\", \\\"gross_rent\\\"], [\\\"2014\\\", \\\"sale_price_sqr_foot\\\"]]}, {\\\"attr\\\": \\\"end\\\", \\\"kind\\\": \\\"ModelChanged\\\", \\\"model\\\": {\\\"id\\\": \\\"5506\\\"}, \\\"new\\\": 3839.332393522396}, {\\\"attr\\\": \\\"reset_end\\\", \\\"kind\\\": \\\"ModelChanged\\\", \\\"model\\\": {\\\"id\\\": \\\"5506\\\"}, \\\"new\\\": 3839.332393522396}, {\\\"cols\\\": null, \\\"column_source\\\": {\\\"id\\\": \\\"5538\\\"}, \\\"kind\\\": \\\"ColumnDataChanged\\\", \\\"new\\\": {\\\"Variable\\\": [\\\"sale_price_sqr_foot\\\", \\\"sale_price_sqr_foot\\\", \\\"sale_price_sqr_foot\\\", \\\"sale_price_sqr_foot\\\", \\\"gross_rent\\\", \\\"gross_rent\\\", \\\"gross_rent\\\", \\\"gross_rent\\\"], \\\"value\\\": {\\\"__ndarray__\\\": \\\"nv5hrd5EhUDxcEwp0ep5QKIzmfqJoYdAXElslxDPk0AAAAAAAFyTQAAAAAAA6JdAAAAAAAAookAAAAAAAJCrQA==\\\", \\\"dtype\\\": \\\"float64\\\", \\\"order\\\": \\\"little\\\", \\\"shape\\\": [8]}, \\\"xoffsets\\\": [[\\\"2010\\\", \\\"sale_price_sqr_foot\\\"], [\\\"2011\\\", \\\"sale_price_sqr_foot\\\"], [\\\"2012\\\", \\\"sale_price_sqr_foot\\\"], [\\\"2014\\\", \\\"sale_price_sqr_foot\\\"], [\\\"2010\\\", \\\"gross_rent\\\"], [\\\"2011\\\", \\\"gross_rent\\\"], [\\\"2012\\\", \\\"gross_rent\\\"], [\\\"2014\\\", \\\"gross_rent\\\"]], \\\"year\\\": [\\\"2010\\\", \\\"2011\\\", \\\"2012\\\", \\\"2014\\\", \\\"2010\\\", \\\"2011\\\", \\\"2012\\\", \\\"2014\\\"]}}], \\\"references\\\": []}\",\"header\":\"{\\\"msgid\\\": \\\"5645\\\", \\\"msgtype\\\": \\\"PATCH-DOC\\\"}\",\"metadata\":\"{}\"},\"Pacific Heights\":{\"content\":\"{\\\"events\\\": [{\\\"attr\\\": \\\"end\\\", \\\"kind\\\": \\\"ModelChanged\\\", \\\"model\\\": {\\\"id\\\": \\\"5506\\\"}, \\\"new\\\": 4779.348398585305}, {\\\"attr\\\": \\\"reset_end\\\", \\\"kind\\\": \\\"ModelChanged\\\", \\\"model\\\": {\\\"id\\\": \\\"5506\\\"}, \\\"new\\\": 4779.348398585305}, {\\\"cols\\\": null, \\\"column_source\\\": {\\\"id\\\": \\\"5538\\\"}, \\\"kind\\\": \\\"ColumnDataChanged\\\", \\\"new\\\": {\\\"Variable\\\": [\\\"sale_price_sqr_foot\\\", \\\"sale_price_sqr_foot\\\", \\\"sale_price_sqr_foot\\\", \\\"sale_price_sqr_foot\\\", \\\"sale_price_sqr_foot\\\", \\\"sale_price_sqr_foot\\\", \\\"sale_price_sqr_foot\\\", \\\"gross_rent\\\", \\\"gross_rent\\\", \\\"gross_rent\\\", \\\"gross_rent\\\", \\\"gross_rent\\\", \\\"gross_rent\\\", \\\"gross_rent\\\"], \\\"value\\\": {\\\"__ndarray__\\\": \\\"xNYMmEEIf0BGT3H7V9B/QLX7Z+e+UYJANTLZX2N+f0DaISsBRcWJQFibs2OAcYxAktikah0jj0AAAAAAAFyTQAAAAAAA6JdAAAAAAAAookAAAAAAADanQAAAAAAAkKtAAAAAAAA2rUAAAAAAACaxQA==\\\", \\\"dtype\\\": \\\"float64\\\", \\\"order\\\": \\\"little\\\", \\\"shape\\\": [14]}, \\\"xoffsets\\\": [[\\\"2010\\\", \\\"sale_price_sqr_foot\\\"], [\\\"2011\\\", \\\"sale_price_sqr_foot\\\"], [\\\"2012\\\", \\\"sale_price_sqr_foot\\\"], [\\\"2013\\\", \\\"sale_price_sqr_foot\\\"], [\\\"2014\\\", \\\"sale_price_sqr_foot\\\"], [\\\"2015\\\", \\\"sale_price_sqr_foot\\\"], [\\\"2016\\\", \\\"sale_price_sqr_foot\\\"], [\\\"2010\\\", \\\"gross_rent\\\"], [\\\"2011\\\", \\\"gross_rent\\\"], [\\\"2012\\\", \\\"gross_rent\\\"], [\\\"2013\\\", \\\"gross_rent\\\"], [\\\"2014\\\", \\\"gross_rent\\\"], [\\\"2015\\\", \\\"gross_rent\\\"], [\\\"2016\\\", \\\"gross_rent\\\"]], \\\"year\\\": [\\\"2010\\\", \\\"2011\\\", \\\"2012\\\", \\\"2013\\\", \\\"2014\\\", \\\"2015\\\", \\\"2016\\\", \\\"2010\\\", \\\"2011\\\", \\\"2012\\\", \\\"2013\\\", \\\"2014\\\", \\\"2015\\\", \\\"2016\\\"]}}], \\\"references\\\": []}\",\"header\":\"{\\\"msgid\\\": \\\"5640\\\", \\\"msgtype\\\": \\\"PATCH-DOC\\\"}\",\"metadata\":\"{}\"},\"Potrero Hill\":{\"content\":\"{\\\"events\\\": [{\\\"attr\\\": \\\"end\\\", \\\"kind\\\": \\\"ModelChanged\\\", \\\"model\\\": {\\\"id\\\": \\\"5506\\\"}, \\\"new\\\": 4782.335215978328}, {\\\"attr\\\": \\\"reset_end\\\", \\\"kind\\\": \\\"ModelChanged\\\", \\\"model\\\": {\\\"id\\\": \\\"5506\\\"}, \\\"new\\\": 4782.335215978328}, {\\\"cols\\\": null, \\\"column_source\\\": {\\\"id\\\": \\\"5538\\\"}, \\\"kind\\\": \\\"ColumnDataChanged\\\", \\\"new\\\": {\\\"Variable\\\": [\\\"sale_price_sqr_foot\\\", \\\"sale_price_sqr_foot\\\", \\\"sale_price_sqr_foot\\\", \\\"sale_price_sqr_foot\\\", \\\"sale_price_sqr_foot\\\", \\\"sale_price_sqr_foot\\\", \\\"sale_price_sqr_foot\\\", \\\"gross_rent\\\", \\\"gross_rent\\\", \\\"gross_rent\\\", \\\"gross_rent\\\", \\\"gross_rent\\\", \\\"gross_rent\\\", \\\"gross_rent\\\"], \\\"value\\\": {\\\"__ndarray__\\\": \\\"h38+NzO3fkC1zY5QN3J/QFj9s41dKn1AlMC7a6O1gkAa4w1izlSQQF3nsW1oqolAxoQBfzYdhkAAAAAAAFyTQAAAAAAA6JdAAAAAAAAookAAAAAAADanQAAAAAAAkKtAAAAAAAA2rUAAAAAAACaxQA==\\\", \\\"dtype\\\": \\\"float64\\\", \\\"order\\\": \\\"little\\\", \\\"shape\\\": [14]}, \\\"xoffsets\\\": [[\\\"2010\\\", \\\"sale_price_sqr_foot\\\"], [\\\"2011\\\", \\\"sale_price_sqr_foot\\\"], [\\\"2012\\\", \\\"sale_price_sqr_foot\\\"], [\\\"2013\\\", \\\"sale_price_sqr_foot\\\"], [\\\"2014\\\", \\\"sale_price_sqr_foot\\\"], [\\\"2015\\\", \\\"sale_price_sqr_foot\\\"], [\\\"2016\\\", \\\"sale_price_sqr_foot\\\"], [\\\"2010\\\", \\\"gross_rent\\\"], [\\\"2011\\\", \\\"gross_rent\\\"], [\\\"2012\\\", \\\"gross_rent\\\"], [\\\"2013\\\", \\\"gross_rent\\\"], [\\\"2014\\\", \\\"gross_rent\\\"], [\\\"2015\\\", \\\"gross_rent\\\"], [\\\"2016\\\", \\\"gross_rent\\\"]], \\\"year\\\": [\\\"2010\\\", \\\"2011\\\", \\\"2012\\\", \\\"2013\\\", \\\"2014\\\", \\\"2015\\\", \\\"2016\\\", \\\"2010\\\", \\\"2011\\\", \\\"2012\\\", \\\"2013\\\", \\\"2014\\\", \\\"2015\\\", \\\"2016\\\"]}}], \\\"references\\\": []}\",\"header\":\"{\\\"msgid\\\": \\\"5635\\\", \\\"msgtype\\\": \\\"PATCH-DOC\\\"}\",\"metadata\":\"{}\"},\"Presidio Heights\":{\"content\":\"{\\\"events\\\": [{\\\"attr\\\": \\\"factors\\\", \\\"kind\\\": \\\"ModelChanged\\\", \\\"model\\\": {\\\"id\\\": \\\"5505\\\"}, \\\"new\\\": [[\\\"2010\\\", \\\"gross_rent\\\"], [\\\"2010\\\", \\\"sale_price_sqr_foot\\\"], [\\\"2011\\\", \\\"gross_rent\\\"], [\\\"2011\\\", \\\"sale_price_sqr_foot\\\"], [\\\"2012\\\", \\\"gross_rent\\\"], [\\\"2012\\\", \\\"sale_price_sqr_foot\\\"], [\\\"2013\\\", \\\"gross_rent\\\"], [\\\"2013\\\", \\\"sale_price_sqr_foot\\\"], [\\\"2014\\\", \\\"gross_rent\\\"], [\\\"2014\\\", \\\"sale_price_sqr_foot\\\"], [\\\"2015\\\", \\\"gross_rent\\\"], [\\\"2015\\\", \\\"sale_price_sqr_foot\\\"], [\\\"2016\\\", \\\"gross_rent\\\"], [\\\"2016\\\", \\\"sale_price_sqr_foot\\\"]]}, {\\\"attr\\\": \\\"end\\\", \\\"kind\\\": \\\"ModelChanged\\\", \\\"model\\\": {\\\"id\\\": \\\"5506\\\"}, \\\"new\\\": 4786.339140792828}, {\\\"attr\\\": \\\"reset_end\\\", \\\"kind\\\": \\\"ModelChanged\\\", \\\"model\\\": {\\\"id\\\": \\\"5506\\\"}, \\\"new\\\": 4786.339140792828}, {\\\"cols\\\": null, \\\"column_source\\\": {\\\"id\\\": \\\"5538\\\"}, \\\"kind\\\": \\\"ColumnDataChanged\\\", \\\"new\\\": {\\\"Variable\\\": [\\\"sale_price_sqr_foot\\\", \\\"sale_price_sqr_foot\\\", \\\"sale_price_sqr_foot\\\", \\\"sale_price_sqr_foot\\\", \\\"sale_price_sqr_foot\\\", \\\"sale_price_sqr_foot\\\", \\\"sale_price_sqr_foot\\\", \\\"gross_rent\\\", \\\"gross_rent\\\", \\\"gross_rent\\\", \\\"gross_rent\\\", \\\"gross_rent\\\", \\\"gross_rent\\\", \\\"gross_rent\\\"], \\\"value\\\": {\\\"__ndarray__\\\": \\\"1qRW7FcrgUCiXLTmCd1+QNBJCsu8qXpA+gIs1LgGgECnjECkm9uCQAAAAAAAAPh/hyUc1d/nlkAAAAAAAFyTQAAAAAAA6JdAAAAAAAAookAAAAAAADanQAAAAAAAkKtAAAAAAAA2rUAAAAAAACaxQA==\\\", \\\"dtype\\\": \\\"float64\\\", \\\"order\\\": \\\"little\\\", \\\"shape\\\": [14]}, \\\"xoffsets\\\": [[\\\"2010\\\", \\\"sale_price_sqr_foot\\\"], [\\\"2011\\\", \\\"sale_price_sqr_foot\\\"], [\\\"2012\\\", \\\"sale_price_sqr_foot\\\"], [\\\"2013\\\", \\\"sale_price_sqr_foot\\\"], [\\\"2014\\\", \\\"sale_price_sqr_foot\\\"], [\\\"2015\\\", \\\"sale_price_sqr_foot\\\"], [\\\"2016\\\", \\\"sale_price_sqr_foot\\\"], [\\\"2010\\\", \\\"gross_rent\\\"], [\\\"2011\\\", \\\"gross_rent\\\"], [\\\"2012\\\", \\\"gross_rent\\\"], [\\\"2013\\\", \\\"gross_rent\\\"], [\\\"2014\\\", \\\"gross_rent\\\"], [\\\"2015\\\", \\\"gross_rent\\\"], [\\\"2016\\\", \\\"gross_rent\\\"]], \\\"year\\\": [\\\"2010\\\", \\\"2011\\\", \\\"2012\\\", \\\"2013\\\", \\\"2014\\\", \\\"2015\\\", \\\"2016\\\", \\\"2010\\\", \\\"2011\\\", \\\"2012\\\", \\\"2013\\\", \\\"2014\\\", \\\"2015\\\", \\\"2016\\\"]}}], \\\"references\\\": []}\",\"header\":\"{\\\"msgid\\\": \\\"5630\\\", \\\"msgtype\\\": \\\"PATCH-DOC\\\"}\",\"metadata\":\"{}\"},\"South Beach\":{\"content\":\"{\\\"events\\\": [{\\\"attr\\\": \\\"factors\\\", \\\"kind\\\": \\\"ModelChanged\\\", \\\"model\\\": {\\\"id\\\": \\\"5505\\\"}, \\\"new\\\": [[\\\"2010\\\", \\\"gross_rent\\\"], [\\\"2010\\\", \\\"sale_price_sqr_foot\\\"], [\\\"2011\\\", \\\"gross_rent\\\"], [\\\"2011\\\", \\\"sale_price_sqr_foot\\\"], [\\\"2014\\\", \\\"gross_rent\\\"], [\\\"2014\\\", \\\"sale_price_sqr_foot\\\"]]}, {\\\"attr\\\": \\\"end\\\", \\\"kind\\\": \\\"ModelChanged\\\", \\\"model\\\": {\\\"id\\\": \\\"5506\\\"}, \\\"new\\\": 3841.935566321846}, {\\\"attr\\\": \\\"reset_end\\\", \\\"kind\\\": \\\"ModelChanged\\\", \\\"model\\\": {\\\"id\\\": \\\"5506\\\"}, \\\"new\\\": 3841.935566321846}, {\\\"cols\\\": null, \\\"column_source\\\": {\\\"id\\\": \\\"5538\\\"}, \\\"kind\\\": \\\"ColumnDataChanged\\\", \\\"new\\\": {\\\"Variable\\\": [\\\"sale_price_sqr_foot\\\", \\\"sale_price_sqr_foot\\\", \\\"sale_price_sqr_foot\\\", \\\"gross_rent\\\", \\\"gross_rent\\\", \\\"gross_rent\\\"], \\\"value\\\": {\\\"__ndarray__\\\": \\\"l7v/LmY0kEAWxRU0T0p4QKOvzdQIZYBAAAAAAABck0AAAAAAAOiXQAAAAAAAkKtA\\\", \\\"dtype\\\": \\\"float64\\\", \\\"order\\\": \\\"little\\\", \\\"shape\\\": [6]}, \\\"xoffsets\\\": [[\\\"2010\\\", \\\"sale_price_sqr_foot\\\"], [\\\"2011\\\", \\\"sale_price_sqr_foot\\\"], [\\\"2014\\\", \\\"sale_price_sqr_foot\\\"], [\\\"2010\\\", \\\"gross_rent\\\"], [\\\"2011\\\", \\\"gross_rent\\\"], [\\\"2014\\\", \\\"gross_rent\\\"]], \\\"year\\\": [\\\"2010\\\", \\\"2011\\\", \\\"2014\\\", \\\"2010\\\", \\\"2011\\\", \\\"2014\\\"]}}], \\\"references\\\": []}\",\"header\":\"{\\\"msgid\\\": \\\"5625\\\", \\\"msgtype\\\": \\\"PATCH-DOC\\\"}\",\"metadata\":\"{}\"},\"Telegraph Hill\":{\"content\":\"{\\\"events\\\": [{\\\"attr\\\": \\\"factors\\\", \\\"kind\\\": \\\"ModelChanged\\\", \\\"model\\\": {\\\"id\\\": \\\"5505\\\"}, \\\"new\\\": [[\\\"2010\\\", \\\"gross_rent\\\"], [\\\"2010\\\", \\\"sale_price_sqr_foot\\\"], [\\\"2011\\\", \\\"gross_rent\\\"], [\\\"2011\\\", \\\"sale_price_sqr_foot\\\"], [\\\"2012\\\", \\\"gross_rent\\\"], [\\\"2012\\\", \\\"sale_price_sqr_foot\\\"], [\\\"2013\\\", \\\"gross_rent\\\"], [\\\"2013\\\", \\\"sale_price_sqr_foot\\\"], [\\\"2014\\\", \\\"gross_rent\\\"], [\\\"2014\\\", \\\"sale_price_sqr_foot\\\"], [\\\"2015\\\", \\\"gross_rent\\\"], [\\\"2015\\\", \\\"sale_price_sqr_foot\\\"], [\\\"2016\\\", \\\"gross_rent\\\"], [\\\"2016\\\", \\\"sale_price_sqr_foot\\\"]]}, {\\\"attr\\\": \\\"end\\\", \\\"kind\\\": \\\"ModelChanged\\\", \\\"model\\\": {\\\"id\\\": \\\"5506\\\"}, \\\"new\\\": 4782.419787836822}, {\\\"attr\\\": \\\"reset_end\\\", \\\"kind\\\": \\\"ModelChanged\\\", \\\"model\\\": {\\\"id\\\": \\\"5506\\\"}, \\\"new\\\": 4782.419787836822}, {\\\"cols\\\": null, \\\"column_source\\\": {\\\"id\\\": \\\"5538\\\"}, \\\"kind\\\": \\\"ColumnDataChanged\\\", \\\"new\\\": {\\\"Variable\\\": [\\\"sale_price_sqr_foot\\\", \\\"sale_price_sqr_foot\\\", \\\"sale_price_sqr_foot\\\", \\\"sale_price_sqr_foot\\\", \\\"sale_price_sqr_foot\\\", \\\"sale_price_sqr_foot\\\", \\\"sale_price_sqr_foot\\\", \\\"gross_rent\\\", \\\"gross_rent\\\", \\\"gross_rent\\\", \\\"gross_rent\\\", \\\"gross_rent\\\", \\\"gross_rent\\\", \\\"gross_rent\\\"], \\\"value\\\": {\\\"__ndarray__\\\": \\\"COpLG1lmgEAS2VILfjZ+QB7+fX3VHH1AM0HkMH5qhECxLjJUiyGGQPfUt/jrJ49AqrAg7mU4jEAAAAAAAFyTQAAAAAAA6JdAAAAAAAAookAAAAAAADanQAAAAAAAkKtAAAAAAAA2rUAAAAAAACaxQA==\\\", \\\"dtype\\\": \\\"float64\\\", \\\"order\\\": \\\"little\\\", \\\"shape\\\": [14]}, \\\"xoffsets\\\": [[\\\"2010\\\", \\\"sale_price_sqr_foot\\\"], [\\\"2011\\\", \\\"sale_price_sqr_foot\\\"], [\\\"2012\\\", \\\"sale_price_sqr_foot\\\"], [\\\"2013\\\", \\\"sale_price_sqr_foot\\\"], [\\\"2014\\\", \\\"sale_price_sqr_foot\\\"], [\\\"2015\\\", \\\"sale_price_sqr_foot\\\"], [\\\"2016\\\", \\\"sale_price_sqr_foot\\\"], [\\\"2010\\\", \\\"gross_rent\\\"], [\\\"2011\\\", \\\"gross_rent\\\"], [\\\"2012\\\", \\\"gross_rent\\\"], [\\\"2013\\\", \\\"gross_rent\\\"], [\\\"2014\\\", \\\"gross_rent\\\"], [\\\"2015\\\", \\\"gross_rent\\\"], [\\\"2016\\\", \\\"gross_rent\\\"]], \\\"year\\\": [\\\"2010\\\", \\\"2011\\\", \\\"2012\\\", \\\"2013\\\", \\\"2014\\\", \\\"2015\\\", \\\"2016\\\", \\\"2010\\\", \\\"2011\\\", \\\"2012\\\", \\\"2013\\\", \\\"2014\\\", \\\"2015\\\", \\\"2016\\\"]}}], \\\"references\\\": []}\",\"header\":\"{\\\"msgid\\\": \\\"5620\\\", \\\"msgtype\\\": \\\"PATCH-DOC\\\"}\",\"metadata\":\"{}\"},\"Union Square District\":{\"content\":\"{\\\"events\\\": [{\\\"attr\\\": \\\"factors\\\", \\\"kind\\\": \\\"ModelChanged\\\", \\\"model\\\": {\\\"id\\\": \\\"5505\\\"}, \\\"new\\\": [[\\\"2010\\\", \\\"gross_rent\\\"], [\\\"2010\\\", \\\"sale_price_sqr_foot\\\"], [\\\"2011\\\", \\\"gross_rent\\\"], [\\\"2011\\\", \\\"sale_price_sqr_foot\\\"], [\\\"2012\\\", \\\"gross_rent\\\"], [\\\"2012\\\", \\\"sale_price_sqr_foot\\\"], [\\\"2013\\\", \\\"gross_rent\\\"], [\\\"2013\\\", \\\"sale_price_sqr_foot\\\"], [\\\"2014\\\", \\\"gross_rent\\\"], [\\\"2014\\\", \\\"sale_price_sqr_foot\\\"], [\\\"2015\\\", \\\"gross_rent\\\"], [\\\"2015\\\", \\\"sale_price_sqr_foot\\\"]]}, {\\\"attr\\\": \\\"end\\\", \\\"kind\\\": \\\"ModelChanged\\\", \\\"model\\\": {\\\"id\\\": \\\"5506\\\"}, \\\"new\\\": 4082.687674719031}, {\\\"attr\\\": \\\"reset_end\\\", \\\"kind\\\": \\\"ModelChanged\\\", \\\"model\\\": {\\\"id\\\": \\\"5506\\\"}, \\\"new\\\": 4082.687674719031}, {\\\"cols\\\": null, \\\"column_source\\\": {\\\"id\\\": \\\"5538\\\"}, \\\"kind\\\": \\\"ColumnDataChanged\\\", \\\"new\\\": {\\\"Variable\\\": [\\\"sale_price_sqr_foot\\\", \\\"sale_price_sqr_foot\\\", \\\"sale_price_sqr_foot\\\", \\\"sale_price_sqr_foot\\\", \\\"sale_price_sqr_foot\\\", \\\"sale_price_sqr_foot\\\", \\\"gross_rent\\\", \\\"gross_rent\\\", \\\"gross_rent\\\", \\\"gross_rent\\\", \\\"gross_rent\\\", \\\"gross_rent\\\"], \\\"value\\\": {\\\"__ndarray__\\\": \\\"4Ic3LozJgUA7LPDX+OFyQDQwzQom03tAML7sb+MplEBCsqZAK3KBQAl/mNlnpaFAAAAAAABck0AAAAAAAOiXQAAAAAAAKKJAAAAAAAA2p0AAAAAAAJCrQAAAAAAANq1A\\\", \\\"dtype\\\": \\\"float64\\\", \\\"order\\\": \\\"little\\\", \\\"shape\\\": [12]}, \\\"xoffsets\\\": [[\\\"2010\\\", \\\"sale_price_sqr_foot\\\"], [\\\"2011\\\", \\\"sale_price_sqr_foot\\\"], [\\\"2012\\\", \\\"sale_price_sqr_foot\\\"], [\\\"2013\\\", \\\"sale_price_sqr_foot\\\"], [\\\"2014\\\", \\\"sale_price_sqr_foot\\\"], [\\\"2015\\\", \\\"sale_price_sqr_foot\\\"], [\\\"2010\\\", \\\"gross_rent\\\"], [\\\"2011\\\", \\\"gross_rent\\\"], [\\\"2012\\\", \\\"gross_rent\\\"], [\\\"2013\\\", \\\"gross_rent\\\"], [\\\"2014\\\", \\\"gross_rent\\\"], [\\\"2015\\\", \\\"gross_rent\\\"]], \\\"year\\\": [\\\"2010\\\", \\\"2011\\\", \\\"2012\\\", \\\"2013\\\", \\\"2014\\\", \\\"2015\\\", \\\"2010\\\", \\\"2011\\\", \\\"2012\\\", \\\"2013\\\", \\\"2014\\\", \\\"2015\\\"]}}], \\\"references\\\": []}\",\"header\":\"{\\\"msgid\\\": \\\"5615\\\", \\\"msgtype\\\": \\\"PATCH-DOC\\\"}\",\"metadata\":\"{}\"},\"Westwood Park\":{\"content\":\"{\\\"events\\\": [{\\\"attr\\\": \\\"factors\\\", \\\"kind\\\": \\\"ModelChanged\\\", \\\"model\\\": {\\\"id\\\": \\\"5505\\\"}, \\\"new\\\": [[\\\"2014\\\", \\\"gross_rent\\\"], [\\\"2014\\\", \\\"sale_price_sqr_foot\\\"], [\\\"2016\\\", \\\"gross_rent\\\"], [\\\"2016\\\", \\\"sale_price_sqr_foot\\\"]]}, {\\\"attr\\\": \\\"end\\\", \\\"kind\\\": \\\"ModelChanged\\\", \\\"model\\\": {\\\"id\\\": \\\"5506\\\"}, \\\"new\\\": 4765.880457412759}, {\\\"attr\\\": \\\"reset_end\\\", \\\"kind\\\": \\\"ModelChanged\\\", \\\"model\\\": {\\\"id\\\": \\\"5506\\\"}, \\\"new\\\": 4765.880457412759}, {\\\"cols\\\": null, \\\"column_source\\\": {\\\"id\\\": \\\"5538\\\"}, \\\"kind\\\": \\\"ColumnDataChanged\\\", \\\"new\\\": {\\\"Variable\\\": [\\\"sale_price_sqr_foot\\\", \\\"sale_price_sqr_foot\\\", \\\"gross_rent\\\", \\\"gross_rent\\\"], \\\"value\\\": {\\\"__ndarray__\\\": \\\"hgoZedY3h0BRlnA7kLmDQAAAAAAAkKtAAAAAAAAmsUA=\\\", \\\"dtype\\\": \\\"float64\\\", \\\"order\\\": \\\"little\\\", \\\"shape\\\": [4]}, \\\"xoffsets\\\": [[\\\"2014\\\", \\\"sale_price_sqr_foot\\\"], [\\\"2016\\\", \\\"sale_price_sqr_foot\\\"], [\\\"2014\\\", \\\"gross_rent\\\"], [\\\"2016\\\", \\\"gross_rent\\\"]], \\\"year\\\": [\\\"2014\\\", \\\"2016\\\", \\\"2014\\\", \\\"2016\\\"]}}], \\\"references\\\": []}\",\"header\":\"{\\\"msgid\\\": \\\"5610\\\", \\\"msgtype\\\": \\\"PATCH-DOC\\\"}\",\"metadata\":\"{}\"}},\"values\":[\"Cow Hollow\"],\"widgets\":{\"5578\":0}},\"id\":\"5588\",\"type\":\"panel.models.state.State\"},{\"attributes\":{},\"id\":\"5521\",\"type\":\"BasicTicker\"},{\"attributes\":{\"bottom_units\":\"screen\",\"fill_alpha\":0.5,\"fill_color\":\"lightgrey\",\"left_units\":\"screen\",\"level\":\"overlay\",\"line_alpha\":1.0,\"line_color\":\"black\",\"line_dash\":[4,4],\"line_width\":2,\"right_units\":\"screen\",\"top_units\":\"screen\"},\"id\":\"5529\",\"type\":\"BoxAnnotation\"},{\"attributes\":{\"fill_color\":{\"field\":\"Variable\",\"transform\":{\"id\":\"5537\"}},\"top\":{\"field\":\"value\"},\"width\":{\"value\":0.8},\"x\":{\"field\":\"xoffsets\"}},\"id\":\"5541\",\"type\":\"VBar\"},{\"attributes\":{\"js_property_callbacks\":{\"change:value\":[{\"id\":\"5589\"}]},\"margin\":[20,20,20,20],\"min_width\":250,\"options\":[\"Cow Hollow\",\"Merced Heights\",\"Miraloma Park\",\"Pacific Heights\",\"Potrero Hill\",\"Presidio Heights\",\"South Beach\",\"Telegraph Hill\",\"Union Square District\",\"Westwood Park\"],\"title\":\"neighborhood\",\"value\":\"Cow Hollow\",\"width\":250},\"id\":\"5578\",\"type\":\"Select\"},{\"attributes\":{\"axis\":{\"id\":\"5520\"},\"dimension\":1,\"grid_line_color\":null,\"ticker\":null},\"id\":\"5523\",\"type\":\"Grid\"},{\"attributes\":{\"margin\":[5,5,5,5],\"name\":\"HSpacer46281\",\"sizing_mode\":\"stretch_width\"},\"id\":\"5574\",\"type\":\"Spacer\"},{\"attributes\":{},\"id\":\"5524\",\"type\":\"SaveTool\"},{\"attributes\":{\"children\":[{\"id\":\"5504\"},{\"id\":\"5508\"},{\"id\":\"5574\"},{\"id\":\"5575\"}],\"margin\":[0,0,0,0],\"name\":\"Row46269\",\"tags\":[\"embedded\"]},\"id\":\"5503\",\"type\":\"Row\"},{\"attributes\":{},\"id\":\"5539\",\"type\":\"Selection\"},{\"attributes\":{\"data\":{\"Variable\":[\"sale_price_sqr_foot\",\"sale_price_sqr_foot\",\"sale_price_sqr_foot\",\"sale_price_sqr_foot\",\"sale_price_sqr_foot\",\"sale_price_sqr_foot\",\"sale_price_sqr_foot\",\"gross_rent\",\"gross_rent\",\"gross_rent\",\"gross_rent\",\"gross_rent\",\"gross_rent\",\"gross_rent\"],\"value\":{\"__ndarray__\":\"LMKfLArLgUAbTXjLh2l4QAnYXuSLJoRAMODd8zgbhkCYJdtc7J6FQJ+1dd72tIJAlnINLUOMkEAAAAAAAFyTQAAAAAAA6JdAAAAAAAAookAAAAAAADanQAAAAAAAkKtAAAAAAAA2rUAAAAAAACaxQA==\",\"dtype\":\"float64\",\"order\":\"little\",\"shape\":[14]},\"xoffsets\":[[\"2010\",\"sale_price_sqr_foot\"],[\"2011\",\"sale_price_sqr_foot\"],[\"2012\",\"sale_price_sqr_foot\"],[\"2013\",\"sale_price_sqr_foot\"],[\"2014\",\"sale_price_sqr_foot\"],[\"2015\",\"sale_price_sqr_foot\"],[\"2016\",\"sale_price_sqr_foot\"],[\"2010\",\"gross_rent\"],[\"2011\",\"gross_rent\"],[\"2012\",\"gross_rent\"],[\"2013\",\"gross_rent\"],[\"2014\",\"gross_rent\"],[\"2015\",\"gross_rent\"],[\"2016\",\"gross_rent\"]],\"year\":[\"2010\",\"2011\",\"2012\",\"2013\",\"2014\",\"2015\",\"2016\",\"2010\",\"2011\",\"2012\",\"2013\",\"2014\",\"2015\",\"2016\"]},\"selected\":{\"id\":\"5539\"},\"selection_policy\":{\"id\":\"5564\"}},\"id\":\"5538\",\"type\":\"ColumnDataSource\"},{\"attributes\":{},\"id\":\"5513\",\"type\":\"CategoricalScale\"},{\"attributes\":{\"end\":4789.940434697159,\"reset_end\":4789.940434697159,\"reset_start\":0.0,\"tags\":[[[\"value\",\"value\",null]]]},\"id\":\"5506\",\"type\":\"Range1d\"},{\"attributes\":{\"children\":[{\"id\":\"5576\"},{\"id\":\"5577\"},{\"id\":\"5579\"}],\"margin\":[0,0,0,0],\"name\":\"Column46279\"},\"id\":\"5575\",\"type\":\"Column\"},{\"attributes\":{\"children\":[{\"id\":\"5578\"}],\"css_classes\":[\"panel-widget-box\"],\"margin\":[5,5,5,5],\"name\":\"WidgetBox46270\"},\"id\":\"5577\",\"type\":\"Column\"},{\"attributes\":{},\"id\":\"5546\",\"type\":\"CategoricalTickFormatter\"},{\"attributes\":{},\"id\":\"5549\",\"type\":\"BasicTickFormatter\"},{\"attributes\":{},\"id\":\"5525\",\"type\":\"PanTool\"},{\"attributes\":{\"margin\":[5,5,5,5],\"name\":\"VSpacer46278\",\"sizing_mode\":\"stretch_height\"},\"id\":\"5579\",\"type\":\"Spacer\"},{\"attributes\":{},\"id\":\"5515\",\"type\":\"LinearScale\"},{\"attributes\":{\"callback\":null,\"renderers\":[{\"id\":\"5544\"}],\"tags\":[\"hv_created\"],\"tooltips\":[[\"year\",\"@{year}\"],[\"Variable\",\"@{Variable}\"],[\"value\",\"@{value}\"]]},\"id\":\"5507\",\"type\":\"HoverTool\"},{\"attributes\":{\"overlay\":{\"id\":\"5529\"}},\"id\":\"5527\",\"type\":\"BoxZoomTool\"},{\"attributes\":{},\"id\":\"5564\",\"type\":\"UnionRenderers\"},{\"attributes\":{\"margin\":[5,5,5,5],\"name\":\"HSpacer46280\",\"sizing_mode\":\"stretch_width\"},\"id\":\"5504\",\"type\":\"Spacer\"},{\"attributes\":{},\"id\":\"5518\",\"type\":\"CategoricalTicker\"},{\"attributes\":{\"below\":[{\"id\":\"5517\"}],\"center\":[{\"id\":\"5519\"},{\"id\":\"5523\"}],\"left\":[{\"id\":\"5520\"}],\"margin\":[5,5,5,5],\"min_border_bottom\":10,\"min_border_left\":10,\"min_border_right\":10,\"min_border_top\":10,\"plot_height\":300,\"plot_width\":700,\"renderers\":[{\"id\":\"5544\"}],\"sizing_mode\":\"fixed\",\"title\":{\"id\":\"5509\"},\"toolbar\":{\"id\":\"5530\"},\"x_range\":{\"id\":\"5505\"},\"x_scale\":{\"id\":\"5513\"},\"y_range\":{\"id\":\"5506\"},\"y_scale\":{\"id\":\"5515\"}},\"id\":\"5508\",\"subtype\":\"Figure\",\"type\":\"Plot\"},{\"attributes\":{\"axis_label\":\"year, Variable\",\"bounds\":\"auto\",\"formatter\":{\"id\":\"5546\"},\"major_label_orientation\":1.5707963267948966,\"ticker\":{\"id\":\"5518\"}},\"id\":\"5517\",\"type\":\"CategoricalAxis\"},{\"attributes\":{\"active_drag\":\"auto\",\"active_inspect\":\"auto\",\"active_multi\":null,\"active_scroll\":\"auto\",\"active_tap\":\"auto\",\"tools\":[{\"id\":\"5507\"},{\"id\":\"5524\"},{\"id\":\"5525\"},{\"id\":\"5526\"},{\"id\":\"5527\"},{\"id\":\"5528\"}]},\"id\":\"5530\",\"type\":\"Toolbar\"},{\"attributes\":{\"axis_label\":\"Avg Price SQFT/ Monthly Rent\",\"bounds\":\"auto\",\"formatter\":{\"id\":\"5549\"},\"major_label_orientation\":\"horizontal\",\"ticker\":{\"id\":\"5521\"}},\"id\":\"5520\",\"type\":\"LinearAxis\"},{\"attributes\":{\"margin\":[5,5,5,5],\"name\":\"VSpacer46277\",\"sizing_mode\":\"stretch_height\"},\"id\":\"5576\",\"type\":\"Spacer\"},{\"attributes\":{\"fill_alpha\":{\"value\":0.1},\"fill_color\":{\"field\":\"Variable\",\"transform\":{\"id\":\"5537\"}},\"line_alpha\":{\"value\":0.1},\"top\":{\"field\":\"value\"},\"width\":{\"value\":0.8},\"x\":{\"field\":\"xoffsets\"}},\"id\":\"5542\",\"type\":\"VBar\"},{\"attributes\":{\"code\":\"\\nvar state = null\\nfor (var root of cb_obj.document.roots()) {\\n  if (root.id == '5588') {\\n    state = root;\\n    break;\\n  }\\n}\\nif (!state) { return; }\\nstate.set_state(cb_obj, cb_obj.value)\\n\"},\"id\":\"5589\",\"type\":\"CustomJS\"},{\"attributes\":{\"data_source\":{\"id\":\"5538\"},\"glyph\":{\"id\":\"5541\"},\"hover_glyph\":null,\"muted_glyph\":{\"id\":\"5543\"},\"nonselection_glyph\":{\"id\":\"5542\"},\"selection_glyph\":null,\"view\":{\"id\":\"5545\"}},\"id\":\"5544\",\"type\":\"GlyphRenderer\"},{\"attributes\":{\"axis\":{\"id\":\"5517\"},\"grid_line_color\":null,\"ticker\":null},\"id\":\"5519\",\"type\":\"Grid\"},{\"attributes\":{\"fill_alpha\":{\"value\":0.2},\"fill_color\":{\"field\":\"Variable\",\"transform\":{\"id\":\"5537\"}},\"line_alpha\":{\"value\":0.2},\"top\":{\"field\":\"value\"},\"width\":{\"value\":0.8},\"x\":{\"field\":\"xoffsets\"}},\"id\":\"5543\",\"type\":\"VBar\"},{\"attributes\":{\"factors\":[[\"2010\",\"gross_rent\"],[\"2010\",\"sale_price_sqr_foot\"],[\"2011\",\"gross_rent\"],[\"2011\",\"sale_price_sqr_foot\"],[\"2012\",\"gross_rent\"],[\"2012\",\"sale_price_sqr_foot\"],[\"2013\",\"gross_rent\"],[\"2013\",\"sale_price_sqr_foot\"],[\"2014\",\"gross_rent\"],[\"2014\",\"sale_price_sqr_foot\"],[\"2015\",\"gross_rent\"],[\"2015\",\"sale_price_sqr_foot\"],[\"2016\",\"gross_rent\"],[\"2016\",\"sale_price_sqr_foot\"]],\"tags\":[[[\"year\",\"year\",null],[\"Variable\",\"Variable\",null]]]},\"id\":\"5505\",\"type\":\"FactorRange\"},{\"attributes\":{},\"id\":\"5526\",\"type\":\"WheelZoomTool\"}],\"root_ids\":[\"5503\",\"5588\"]},\"title\":\"Bokeh Application\",\"version\":\"2.2.3\"}};\n    var render_items = [{\"docid\":\"d95d4519-a4fe-4250-9aaa-0b478aa91587\",\"root_ids\":[\"5503\"],\"roots\":{\"5503\":\"b58c0a23-85d9-4ad9-bcd1-2d8af494350c\"}}];\n    root.Bokeh.embed.embed_items_notebook(docs_json, render_items);\n  }\n  if (root.Bokeh !== undefined && root.Bokeh.Panel !== undefined && root['Plotly'] !== undefined ) {\n    embed_document(root);\n  } else {\n    var attempts = 0;\n    var timer = setInterval(function(root) {\n      if (root.Bokeh !== undefined && root.Bokeh.Panel !== undefined && root['Plotly'] !== undefined) {\n        clearInterval(timer);\n        embed_document(root);\n      } else if (document.readyState == \"complete\") {\n        attempts++;\n        if (attempts > 100) {\n          clearInterval(timer);\n          console.log(\"Bokeh: ERROR: Unable to run BokehJS code because BokehJS library is missing\");\n        }\n      }\n    }, 10, root)\n  }\n})(window);</script>",
      "application/vnd.holoviews_exec.v0+json": "",
      "text/plain": [
       ":HoloMap   [neighborhood]\n",
       "   :Bars   [year,Variable]   (value)"
      ]
     },
     "metadata": {
      "application/vnd.holoviews_exec.v0+json": {
       "id": "5503"
      }
     },
     "execution_count": 14
    }
   ],
   "source": [
    " most_expensive_neighborhoods_rent_sales()"
   ]
  },
  {
   "cell_type": "code",
   "execution_count": 15,
   "metadata": {},
   "outputs": [
    {
     "output_type": "display_data",
     "data": {
      "application/vnd.plotly.v1+json": {
       "config": {
        "plotlyServerURL": "https://plot.ly"
       },
       "data": [
        {
         "hovertemplate": "index=Alamo Square<br>gross_rent=%{marker.size}<br>Lat=%{lat}<br>Lon=%{lon}<extra></extra>",
         "lat": [
          37.791012
         ],
         "legendgroup": "Alamo Square",
         "lon": [
          -122.4021
         ],
         "marker": {
          "color": "#636efa",
          "size": [
           2817.285714285714
          ],
          "sizemode": "area",
          "sizeref": 9.8975
         },
         "mode": "markers",
         "name": "Alamo Square",
         "showlegend": true,
         "subplot": "mapbox",
         "type": "scattermapbox"
        },
        {
         "hovertemplate": "index=Anza Vista<br>gross_rent=%{marker.size}<br>Lat=%{lat}<br>Lon=%{lon}<extra></extra>",
         "lat": [
          37.779598
         ],
         "legendgroup": "Anza Vista",
         "lon": [
          -122.443451
         ],
         "marker": {
          "color": "#EF553B",
          "size": [
           3031.8333333333335
          ],
          "sizemode": "area",
          "sizeref": 9.8975
         },
         "mode": "markers",
         "name": "Anza Vista",
         "showlegend": true,
         "subplot": "mapbox",
         "type": "scattermapbox"
        },
        {
         "hovertemplate": "index=Bayview<br>gross_rent=%{marker.size}<br>Lat=%{lat}<br>Lon=%{lon}<extra></extra>",
         "lat": [
          37.73467
         ],
         "legendgroup": "Bayview",
         "lon": [
          -122.40106000000002
         ],
         "marker": {
          "color": "#00cc96",
          "size": [
           2318.4
          ],
          "sizemode": "area",
          "sizeref": 9.8975
         },
         "mode": "markers",
         "name": "Bayview",
         "showlegend": true,
         "subplot": "mapbox",
         "type": "scattermapbox"
        },
        {
         "hovertemplate": "index=Bayview Heights<br>gross_rent=%{marker.size}<br>Lat=%{lat}<br>Lon=%{lon}<extra></extra>",
         "lat": [
          37.72874
         ],
         "legendgroup": "Bayview Heights",
         "lon": [
          -122.41098000000001
         ],
         "marker": {
          "color": "#ab63fa",
          "size": [
           3739
          ],
          "sizemode": "area",
          "sizeref": 9.8975
         },
         "mode": "markers",
         "name": "Bayview Heights",
         "showlegend": true,
         "subplot": "mapbox",
         "type": "scattermapbox"
        },
        {
         "hovertemplate": "index=Buena Vista Park<br>gross_rent=%{marker.size}<br>Lat=%{lat}<br>Lon=%{lon}<extra></extra>",
         "lat": [
          37.768159999999995
         ],
         "legendgroup": "Buena Vista Park",
         "lon": [
          -122.43933
         ],
         "marker": {
          "color": "#FFA15A",
          "size": [
           2698.8333333333335
          ],
          "sizemode": "area",
          "sizeref": 9.8975
         },
         "mode": "markers",
         "name": "Buena Vista Park",
         "showlegend": true,
         "subplot": "mapbox",
         "type": "scattermapbox"
        },
        {
         "hovertemplate": "index=Central Richmond<br>gross_rent=%{marker.size}<br>Lat=%{lat}<br>Lon=%{lon}<extra></extra>",
         "lat": [
          37.77789
         ],
         "legendgroup": "Central Richmond",
         "lon": [
          -122.44516999999999
         ],
         "marker": {
          "color": "#19d3f3",
          "size": [
           2817.285714285714
          ],
          "sizemode": "area",
          "sizeref": 9.8975
         },
         "mode": "markers",
         "name": "Central Richmond",
         "showlegend": true,
         "subplot": "mapbox",
         "type": "scattermapbox"
        },
        {
         "hovertemplate": "index=Central Sunset<br>gross_rent=%{marker.size}<br>Lat=%{lat}<br>Lon=%{lon}<extra></extra>",
         "lat": [
          37.74961
         ],
         "legendgroup": "Central Sunset",
         "lon": [
          -122.48998999999999
         ],
         "marker": {
          "color": "#FF6692",
          "size": [
           2817.285714285714
          ],
          "sizemode": "area",
          "sizeref": 9.8975
         },
         "mode": "markers",
         "name": "Central Sunset",
         "showlegend": true,
         "subplot": "mapbox",
         "type": "scattermapbox"
        },
        {
         "hovertemplate": "index=Clarendon Heights<br>gross_rent=%{marker.size}<br>Lat=%{lat}<br>Lon=%{lon}<extra></extra>",
         "lat": [
          37.75331
         ],
         "legendgroup": "Clarendon Heights",
         "lon": [
          -122.44703
         ],
         "marker": {
          "color": "#B6E880",
          "size": [
           2250.5
          ],
          "sizemode": "area",
          "sizeref": 9.8975
         },
         "mode": "markers",
         "name": "Clarendon Heights",
         "showlegend": true,
         "subplot": "mapbox",
         "type": "scattermapbox"
        },
        {
         "hovertemplate": "index=Corona Heights<br>gross_rent=%{marker.size}<br>Lat=%{lat}<br>Lon=%{lon}<extra></extra>",
         "lat": [
          37.78553
         ],
         "legendgroup": "Corona Heights",
         "lon": [
          -122.456
         ],
         "marker": {
          "color": "#FF97FF",
          "size": [
           2472
          ],
          "sizemode": "area",
          "sizeref": 9.8975
         },
         "mode": "markers",
         "name": "Corona Heights",
         "showlegend": true,
         "subplot": "mapbox",
         "type": "scattermapbox"
        },
        {
         "hovertemplate": "index=Cow Hollow<br>gross_rent=%{marker.size}<br>Lat=%{lat}<br>Lon=%{lon}<extra></extra>",
         "lat": [
          37.79298
         ],
         "legendgroup": "Cow Hollow",
         "lon": [
          -122.43579
         ],
         "marker": {
          "color": "#FECB52",
          "size": [
           2817.285714285714
          ],
          "sizemode": "area",
          "sizeref": 9.8975
         },
         "mode": "markers",
         "name": "Cow Hollow",
         "showlegend": true,
         "subplot": "mapbox",
         "type": "scattermapbox"
        },
        {
         "hovertemplate": "index=Croker Amazon<br>gross_rent=%{marker.size}<br>Lat=%{lat}<br>Lon=%{lon}<extra></extra>",
         "lat": [
          37.7228
         ],
         "legendgroup": "Croker Amazon",
         "lon": [
          -122.43869
         ],
         "marker": {
          "color": "#636efa",
          "size": [
           2698.8333333333335
          ],
          "sizemode": "area",
          "sizeref": 9.8975
         },
         "mode": "markers",
         "name": "Croker Amazon",
         "showlegend": true,
         "subplot": "mapbox",
         "type": "scattermapbox"
        },
        {
         "hovertemplate": "index=Diamond Heights<br>gross_rent=%{marker.size}<br>Lat=%{lat}<br>Lon=%{lon}<extra></extra>",
         "lat": [
          37.728629999999995
         ],
         "legendgroup": "Diamond Heights",
         "lon": [
          -122.44305
         ],
         "marker": {
          "color": "#EF553B",
          "size": [
           2016
          ],
          "sizemode": "area",
          "sizeref": 9.8975
         },
         "mode": "markers",
         "name": "Diamond Heights",
         "showlegend": true,
         "subplot": "mapbox",
         "type": "scattermapbox"
        },
        {
         "hovertemplate": "index=Duboce Triangle<br>gross_rent=%{marker.size}<br>Lat=%{lat}<br>Lon=%{lon}<extra></extra>",
         "lat": [
          37.76964
         ],
         "legendgroup": "Duboce Triangle",
         "lon": [
          -122.42611000000001
         ],
         "marker": {
          "color": "#00cc96",
          "size": [
           2780.25
          ],
          "sizemode": "area",
          "sizeref": 9.8975
         },
         "mode": "markers",
         "name": "Duboce Triangle",
         "showlegend": true,
         "subplot": "mapbox",
         "type": "scattermapbox"
        },
        {
         "hovertemplate": "index=Eureka Valley/Dolores Heights<br>gross_rent=%{marker.size}<br>Lat=%{lat}<br>Lon=%{lon}<extra></extra>",
         "lat": [
          37.75554
         ],
         "legendgroup": "Eureka Valley/Dolores Heights",
         "lon": [
          -122.43778999999999
         ],
         "marker": {
          "color": "#ab63fa",
          "size": [
           2817.285714285714
          ],
          "sizemode": "area",
          "sizeref": 9.8975
         },
         "mode": "markers",
         "name": "Eureka Valley/Dolores Heights",
         "showlegend": true,
         "subplot": "mapbox",
         "type": "scattermapbox"
        },
        {
         "hovertemplate": "index=Excelsior<br>gross_rent=%{marker.size}<br>Lat=%{lat}<br>Lon=%{lon}<extra></extra>",
         "lat": [
          37.72874
         ],
         "legendgroup": "Excelsior",
         "lon": [
          -122.41098000000001
         ],
         "marker": {
          "color": "#FFA15A",
          "size": [
           3031.8333333333335
          ],
          "sizemode": "area",
          "sizeref": 9.8975
         },
         "mode": "markers",
         "name": "Excelsior",
         "showlegend": true,
         "subplot": "mapbox",
         "type": "scattermapbox"
        },
        {
         "hovertemplate": "index=Financial District North<br>gross_rent=%{marker.size}<br>Lat=%{lat}<br>Lon=%{lon}<extra></extra>",
         "lat": [
          37.79101
         ],
         "legendgroup": "Financial District North",
         "lon": [
          -122.4021
         ],
         "marker": {
          "color": "#19d3f3",
          "size": [
           2817.285714285714
          ],
          "sizemode": "area",
          "sizeref": 9.8975
         },
         "mode": "markers",
         "name": "Financial District North",
         "showlegend": true,
         "subplot": "mapbox",
         "type": "scattermapbox"
        },
        {
         "hovertemplate": "index=Financial District South<br>gross_rent=%{marker.size}<br>Lat=%{lat}<br>Lon=%{lon}<extra></extra>",
         "lat": [
          37.79101
         ],
         "legendgroup": "Financial District South",
         "lon": [
          -122.4021
         ],
         "marker": {
          "color": "#FF6692",
          "size": [
           2472
          ],
          "sizemode": "area",
          "sizeref": 9.8975
         },
         "mode": "markers",
         "name": "Financial District South",
         "showlegend": true,
         "subplot": "mapbox",
         "type": "scattermapbox"
        },
        {
         "hovertemplate": "index=Forest Knolls<br>gross_rent=%{marker.size}<br>Lat=%{lat}<br>Lon=%{lon}<extra></extra>",
         "lat": [
          37.757059999999996
         ],
         "legendgroup": "Forest Knolls",
         "lon": [
          -122.45508999999998
         ],
         "marker": {
          "color": "#B6E880",
          "size": [
           1781.5
          ],
          "sizemode": "area",
          "sizeref": 9.8975
         },
         "mode": "markers",
         "name": "Forest Knolls",
         "showlegend": true,
         "subplot": "mapbox",
         "type": "scattermapbox"
        },
        {
         "hovertemplate": "index=Glen Park<br>gross_rent=%{marker.size}<br>Lat=%{lat}<br>Lon=%{lon}<extra></extra>",
         "lat": [
          37.728629999999995
         ],
         "legendgroup": "Glen Park",
         "lon": [
          -122.44305
         ],
         "marker": {
          "color": "#FF97FF",
          "size": [
           2899.5
          ],
          "sizemode": "area",
          "sizeref": 9.8975
         },
         "mode": "markers",
         "name": "Glen Park",
         "showlegend": true,
         "subplot": "mapbox",
         "type": "scattermapbox"
        },
        {
         "hovertemplate": "index=Golden Gate Heights<br>gross_rent=%{marker.size}<br>Lat=%{lat}<br>Lon=%{lon}<extra></extra>",
         "lat": [
          37.757912
         ],
         "legendgroup": "Golden Gate Heights",
         "lon": [
          -122.46401999999999
         ],
         "marker": {
          "color": "#FECB52",
          "size": [
           2601.4
          ],
          "sizemode": "area",
          "sizeref": 9.8975
         },
         "mode": "markers",
         "name": "Golden Gate Heights",
         "showlegend": true,
         "subplot": "mapbox",
         "type": "scattermapbox"
        },
        {
         "hovertemplate": "index=Haight Ashbury<br>gross_rent=%{marker.size}<br>Lat=%{lat}<br>Lon=%{lon}<extra></extra>",
         "lat": [
          37.76525
         ],
         "legendgroup": "Haight Ashbury",
         "lon": [
          -122.43596000000001
         ],
         "marker": {
          "color": "#636efa",
          "size": [
           2817.285714285714
          ],
          "sizemode": "area",
          "sizeref": 9.8975
         },
         "mode": "markers",
         "name": "Haight Ashbury",
         "showlegend": true,
         "subplot": "mapbox",
         "type": "scattermapbox"
        },
        {
         "hovertemplate": "index=Hayes Valley<br>gross_rent=%{marker.size}<br>Lat=%{lat}<br>Lon=%{lon}<extra></extra>",
         "lat": [
          37.76525
         ],
         "legendgroup": "Hayes Valley",
         "lon": [
          -122.43596000000001
         ],
         "marker": {
          "color": "#EF553B",
          "size": [
           2817.285714285714
          ],
          "sizemode": "area",
          "sizeref": 9.8975
         },
         "mode": "markers",
         "name": "Hayes Valley",
         "showlegend": true,
         "subplot": "mapbox",
         "type": "scattermapbox"
        },
        {
         "hovertemplate": "index=Hunters Point<br>gross_rent=%{marker.size}<br>Lat=%{lat}<br>Lon=%{lon}<extra></extra>",
         "lat": [
          37.72551
         ],
         "legendgroup": "Hunters Point",
         "lon": [
          -122.37178
         ],
         "marker": {
          "color": "#00cc96",
          "size": [
           2489
          ],
          "sizemode": "area",
          "sizeref": 9.8975
         },
         "mode": "markers",
         "name": "Hunters Point",
         "showlegend": true,
         "subplot": "mapbox",
         "type": "scattermapbox"
        },
        {
         "hovertemplate": "index=Ingleside Heights<br>gross_rent=%{marker.size}<br>Lat=%{lat}<br>Lon=%{lon}<extra></extra>",
         "lat": [
          37.72116
         ],
         "legendgroup": "Ingleside Heights",
         "lon": [
          -122.48706999999999
         ],
         "marker": {
          "color": "#ab63fa",
          "size": [
           2960
          ],
          "sizemode": "area",
          "sizeref": 9.8975
         },
         "mode": "markers",
         "name": "Ingleside Heights",
         "showlegend": true,
         "subplot": "mapbox",
         "type": "scattermapbox"
        },
        {
         "hovertemplate": "index=Inner Mission<br>gross_rent=%{marker.size}<br>Lat=%{lat}<br>Lon=%{lon}<extra></extra>",
         "lat": [
          37.75416
         ],
         "legendgroup": "Inner Mission",
         "lon": [
          -122.41946999999999
         ],
         "marker": {
          "color": "#FFA15A",
          "size": [
           2817.285714285714
          ],
          "sizemode": "area",
          "sizeref": 9.8975
         },
         "mode": "markers",
         "name": "Inner Mission",
         "showlegend": true,
         "subplot": "mapbox",
         "type": "scattermapbox"
        },
        {
         "hovertemplate": "index=Inner Parkside<br>gross_rent=%{marker.size}<br>Lat=%{lat}<br>Lon=%{lon}<extra></extra>",
         "lat": [
          37.74961
         ],
         "legendgroup": "Inner Parkside",
         "lon": [
          -122.48998999999999
         ],
         "marker": {
          "color": "#19d3f3",
          "size": [
           3224
          ],
          "sizemode": "area",
          "sizeref": 9.8975
         },
         "mode": "markers",
         "name": "Inner Parkside",
         "showlegend": true,
         "subplot": "mapbox",
         "type": "scattermapbox"
        },
        {
         "hovertemplate": "index=Inner Richmond<br>gross_rent=%{marker.size}<br>Lat=%{lat}<br>Lon=%{lon}<extra></extra>",
         "lat": [
          37.769112
         ],
         "legendgroup": "Inner Richmond",
         "lon": [
          -122.483566
         ],
         "marker": {
          "color": "#FF6692",
          "size": [
           2817.285714285714
          ],
          "sizemode": "area",
          "sizeref": 9.8975
         },
         "mode": "markers",
         "name": "Inner Richmond",
         "showlegend": true,
         "subplot": "mapbox",
         "type": "scattermapbox"
        },
        {
         "hovertemplate": "index=Inner Sunset<br>gross_rent=%{marker.size}<br>Lat=%{lat}<br>Lon=%{lon}<extra></extra>",
         "lat": [
          37.74961
         ],
         "legendgroup": "Inner Sunset",
         "lon": [
          -122.48997
         ],
         "marker": {
          "color": "#B6E880",
          "size": [
           2817.285714285714
          ],
          "sizemode": "area",
          "sizeref": 9.8975
         },
         "mode": "markers",
         "name": "Inner Sunset",
         "showlegend": true,
         "subplot": "mapbox",
         "type": "scattermapbox"
        },
        {
         "hovertemplate": "index=Jordan Park/Laurel Heights<br>gross_rent=%{marker.size}<br>Lat=%{lat}<br>Lon=%{lon}<extra></extra>",
         "lat": [
          37.78553
         ],
         "legendgroup": "Jordan Park/Laurel Heights",
         "lon": [
          -122.456
         ],
         "marker": {
          "color": "#FF97FF",
          "size": [
           2817.285714285714
          ],
          "sizemode": "area",
          "sizeref": 9.8975
         },
         "mode": "markers",
         "name": "Jordan Park/Laurel Heights",
         "showlegend": true,
         "subplot": "mapbox",
         "type": "scattermapbox"
        },
        {
         "hovertemplate": "index=Lake --The Presidio<br>gross_rent=%{marker.size}<br>Lat=%{lat}<br>Lon=%{lon}<extra></extra>",
         "lat": [
          37.801520000000004
         ],
         "legendgroup": "Lake --The Presidio",
         "lon": [
          -122.45456999999999
         ],
         "marker": {
          "color": "#FECB52",
          "size": [
           2555.1666666666665
          ],
          "sizemode": "area",
          "sizeref": 9.8975
         },
         "mode": "markers",
         "name": "Lake --The Presidio",
         "showlegend": true,
         "subplot": "mapbox",
         "type": "scattermapbox"
        },
        {
         "hovertemplate": "index=Lone Mountain<br>gross_rent=%{marker.size}<br>Lat=%{lat}<br>Lon=%{lon}<extra></extra>",
         "lat": [
          37.7789
         ],
         "legendgroup": "Lone Mountain",
         "lon": [
          -122.45496000000001
         ],
         "marker": {
          "color": "#636efa",
          "size": [
           2555.1666666666665
          ],
          "sizemode": "area",
          "sizeref": 9.8975
         },
         "mode": "markers",
         "name": "Lone Mountain",
         "showlegend": true,
         "subplot": "mapbox",
         "type": "scattermapbox"
        },
        {
         "hovertemplate": "index=Lower Pacific Heights<br>gross_rent=%{marker.size}<br>Lat=%{lat}<br>Lon=%{lon}<extra></extra>",
         "lat": [
          37.79298
         ],
         "legendgroup": "Lower Pacific Heights",
         "lon": [
          -122.43579
         ],
         "marker": {
          "color": "#EF553B",
          "size": [
           2817.285714285714
          ],
          "sizemode": "area",
          "sizeref": 9.8975
         },
         "mode": "markers",
         "name": "Lower Pacific Heights",
         "showlegend": true,
         "subplot": "mapbox",
         "type": "scattermapbox"
        },
        {
         "hovertemplate": "index=Marina<br>gross_rent=%{marker.size}<br>Lat=%{lat}<br>Lon=%{lon}<extra></extra>",
         "lat": [
          37.79972
         ],
         "legendgroup": "Marina",
         "lon": [
          -122.46688999999999
         ],
         "marker": {
          "color": "#00cc96",
          "size": [
           2817.285714285714
          ],
          "sizemode": "area",
          "sizeref": 9.8975
         },
         "mode": "markers",
         "name": "Marina",
         "showlegend": true,
         "subplot": "mapbox",
         "type": "scattermapbox"
        },
        {
         "hovertemplate": "index=Merced Heights<br>gross_rent=%{marker.size}<br>Lat=%{lat}<br>Lon=%{lon}<extra></extra>",
         "lat": [
          37.71993
         ],
         "legendgroup": "Merced Heights",
         "lon": [
          -122.46595
         ],
         "marker": {
          "color": "#ab63fa",
          "size": [
           3414
          ],
          "sizemode": "area",
          "sizeref": 9.8975
         },
         "mode": "markers",
         "name": "Merced Heights",
         "showlegend": true,
         "subplot": "mapbox",
         "type": "scattermapbox"
        },
        {
         "hovertemplate": "index=Midtown Terrace<br>gross_rent=%{marker.size}<br>Lat=%{lat}<br>Lon=%{lon}<extra></extra>",
         "lat": [
          37.75331
         ],
         "legendgroup": "Midtown Terrace",
         "lon": [
          -122.44703
         ],
         "marker": {
          "color": "#FFA15A",
          "size": [
           2647.5
          ],
          "sizemode": "area",
          "sizeref": 9.8975
         },
         "mode": "markers",
         "name": "Midtown Terrace",
         "showlegend": true,
         "subplot": "mapbox",
         "type": "scattermapbox"
        },
        {
         "hovertemplate": "index=Miraloma Park<br>gross_rent=%{marker.size}<br>Lat=%{lat}<br>Lon=%{lon}<extra></extra>",
         "lat": [
          37.73415
         ],
         "legendgroup": "Miraloma Park",
         "lon": [
          -122.45700000000001
         ],
         "marker": {
          "color": "#19d3f3",
          "size": [
           2155.25
          ],
          "sizemode": "area",
          "sizeref": 9.8975
         },
         "mode": "markers",
         "name": "Miraloma Park",
         "showlegend": true,
         "subplot": "mapbox",
         "type": "scattermapbox"
        },
        {
         "hovertemplate": "index=Mission Bay<br>gross_rent=%{marker.size}<br>Lat=%{lat}<br>Lon=%{lon}<extra></extra>",
         "lat": [
          37.783229999999996
         ],
         "legendgroup": "Mission Bay",
         "lon": [
          -122.40065
         ],
         "marker": {
          "color": "#FF6692",
          "size": [
           2663.6666666666665
          ],
          "sizemode": "area",
          "sizeref": 9.8975
         },
         "mode": "markers",
         "name": "Mission Bay",
         "showlegend": true,
         "subplot": "mapbox",
         "type": "scattermapbox"
        },
        {
         "hovertemplate": "index=Mission Dolores<br>gross_rent=%{marker.size}<br>Lat=%{lat}<br>Lon=%{lon}<extra></extra>",
         "lat": [
          37.75184
         ],
         "legendgroup": "Mission Dolores",
         "lon": [
          -122.42522
         ],
         "marker": {
          "color": "#B6E880",
          "size": [
           2555.1666666666665
          ],
          "sizemode": "area",
          "sizeref": 9.8975
         },
         "mode": "markers",
         "name": "Mission Dolores",
         "showlegend": true,
         "subplot": "mapbox",
         "type": "scattermapbox"
        },
        {
         "hovertemplate": "index=Mission Terrace<br>gross_rent=%{marker.size}<br>Lat=%{lat}<br>Lon=%{lon}<extra></extra>",
         "lat": [
          37.728629999999995
         ],
         "legendgroup": "Mission Terrace",
         "lon": [
          -122.44305
         ],
         "marker": {
          "color": "#FF97FF",
          "size": [
           3173.4
          ],
          "sizemode": "area",
          "sizeref": 9.8975
         },
         "mode": "markers",
         "name": "Mission Terrace",
         "showlegend": true,
         "subplot": "mapbox",
         "type": "scattermapbox"
        },
        {
         "hovertemplate": "index=Nob Hill<br>gross_rent=%{marker.size}<br>Lat=%{lat}<br>Lon=%{lon}<extra></extra>",
         "lat": [
          37.79298
         ],
         "legendgroup": "Nob Hill",
         "lon": [
          -122.43579
         ],
         "marker": {
          "color": "#FECB52",
          "size": [
           2817.285714285714
          ],
          "sizemode": "area",
          "sizeref": 9.8975
         },
         "mode": "markers",
         "name": "Nob Hill",
         "showlegend": true,
         "subplot": "mapbox",
         "type": "scattermapbox"
        },
        {
         "hovertemplate": "index=Noe Valley<br>gross_rent=%{marker.size}<br>Lat=%{lat}<br>Lon=%{lon}<extra></extra>",
         "lat": [
          37.75331
         ],
         "legendgroup": "Noe Valley",
         "lon": [
          -122.44703
         ],
         "marker": {
          "color": "#636efa",
          "size": [
           2817.285714285714
          ],
          "sizemode": "area",
          "sizeref": 9.8975
         },
         "mode": "markers",
         "name": "Noe Valley",
         "showlegend": true,
         "subplot": "mapbox",
         "type": "scattermapbox"
        },
        {
         "hovertemplate": "index=North Beach<br>gross_rent=%{marker.size}<br>Lat=%{lat}<br>Lon=%{lon}<extra></extra>",
         "lat": [
          37.80055
         ],
         "legendgroup": "North Beach",
         "lon": [
          -122.40433
         ],
         "marker": {
          "color": "#EF553B",
          "size": [
           2990.8
          ],
          "sizemode": "area",
          "sizeref": 9.8975
         },
         "mode": "markers",
         "name": "North Beach",
         "showlegend": true,
         "subplot": "mapbox",
         "type": "scattermapbox"
        },
        {
         "hovertemplate": "index=North Waterfront<br>gross_rent=%{marker.size}<br>Lat=%{lat}<br>Lon=%{lon}<extra></extra>",
         "lat": [
          37.80055
         ],
         "legendgroup": "North Waterfront",
         "lon": [
          -122.40433
         ],
         "marker": {
          "color": "#00cc96",
          "size": [
           2818.4
          ],
          "sizemode": "area",
          "sizeref": 9.8975
         },
         "mode": "markers",
         "name": "North Waterfront",
         "showlegend": true,
         "subplot": "mapbox",
         "type": "scattermapbox"
        },
        {
         "hovertemplate": "index=Oceanview<br>gross_rent=%{marker.size}<br>Lat=%{lat}<br>Lon=%{lon}<extra></extra>",
         "lat": [
          37.71993
         ],
         "legendgroup": "Oceanview",
         "lon": [
          -122.46595
         ],
         "marker": {
          "color": "#ab63fa",
          "size": [
           2434
          ],
          "sizemode": "area",
          "sizeref": 9.8975
         },
         "mode": "markers",
         "name": "Oceanview",
         "showlegend": true,
         "subplot": "mapbox",
         "type": "scattermapbox"
        },
        {
         "hovertemplate": "index=Outer Mission<br>gross_rent=%{marker.size}<br>Lat=%{lat}<br>Lon=%{lon}<extra></extra>",
         "lat": [
          37.7228
         ],
         "legendgroup": "Outer Mission",
         "lon": [
          -122.43869
         ],
         "marker": {
          "color": "#FFA15A",
          "size": [
           2995.75
          ],
          "sizemode": "area",
          "sizeref": 9.8975
         },
         "mode": "markers",
         "name": "Outer Mission",
         "showlegend": true,
         "subplot": "mapbox",
         "type": "scattermapbox"
        },
        {
         "hovertemplate": "index=Outer Parkside<br>gross_rent=%{marker.size}<br>Lat=%{lat}<br>Lon=%{lon}<extra></extra>",
         "lat": [
          37.7517
         ],
         "legendgroup": "Outer Parkside",
         "lon": [
          -122.446
         ],
         "marker": {
          "color": "#19d3f3",
          "size": [
           2817.285714285714
          ],
          "sizemode": "area",
          "sizeref": 9.8975
         },
         "mode": "markers",
         "name": "Outer Parkside",
         "showlegend": true,
         "subplot": "mapbox",
         "type": "scattermapbox"
        },
        {
         "hovertemplate": "index=Outer Sunset<br>gross_rent=%{marker.size}<br>Lat=%{lat}<br>Lon=%{lon}<extra></extra>",
         "lat": [
          37.74961
         ],
         "legendgroup": "Outer Sunset",
         "lon": [
          -122.48998999999999
         ],
         "marker": {
          "color": "#FF6692",
          "size": [
           2817.285714285714
          ],
          "sizemode": "area",
          "sizeref": 9.8975
         },
         "mode": "markers",
         "name": "Outer Sunset",
         "showlegend": true,
         "subplot": "mapbox",
         "type": "scattermapbox"
        },
        {
         "hovertemplate": "index=Pacific Heights<br>gross_rent=%{marker.size}<br>Lat=%{lat}<br>Lon=%{lon}<extra></extra>",
         "lat": [
          37.79298
         ],
         "legendgroup": "Pacific Heights",
         "lon": [
          -122.43579
         ],
         "marker": {
          "color": "#B6E880",
          "size": [
           2817.285714285714
          ],
          "sizemode": "area",
          "sizeref": 9.8975
         },
         "mode": "markers",
         "name": "Pacific Heights",
         "showlegend": true,
         "subplot": "mapbox",
         "type": "scattermapbox"
        },
        {
         "hovertemplate": "index=Park North<br>gross_rent=%{marker.size}<br>Lat=%{lat}<br>Lon=%{lon}<extra></extra>",
         "lat": [
          37.72838
         ],
         "legendgroup": "Park North",
         "lon": [
          -122.47851000000001
         ],
         "marker": {
          "color": "#FF97FF",
          "size": [
           2817.285714285714
          ],
          "sizemode": "area",
          "sizeref": 9.8975
         },
         "mode": "markers",
         "name": "Park North",
         "showlegend": true,
         "subplot": "mapbox",
         "type": "scattermapbox"
        },
        {
         "hovertemplate": "index=Parkside<br>gross_rent=%{marker.size}<br>Lat=%{lat}<br>Lon=%{lon}<extra></extra>",
         "lat": [
          37.74961
         ],
         "legendgroup": "Parkside",
         "lon": [
          -122.48998999999999
         ],
         "marker": {
          "color": "#FECB52",
          "size": [
           2555.1666666666665
          ],
          "sizemode": "area",
          "sizeref": 9.8975
         },
         "mode": "markers",
         "name": "Parkside",
         "showlegend": true,
         "subplot": "mapbox",
         "type": "scattermapbox"
        },
        {
         "hovertemplate": "index=Parnassus/Ashbury Heights<br>gross_rent=%{marker.size}<br>Lat=%{lat}<br>Lon=%{lon}<extra></extra>",
         "lat": [
          37.76355
         ],
         "legendgroup": "Parnassus/Ashbury Heights",
         "lon": [
          -122.45765
         ],
         "marker": {
          "color": "#636efa",
          "size": [
           2817.285714285714
          ],
          "sizemode": "area",
          "sizeref": 9.8975
         },
         "mode": "markers",
         "name": "Parnassus/Ashbury Heights",
         "showlegend": true,
         "subplot": "mapbox",
         "type": "scattermapbox"
        },
        {
         "hovertemplate": "index=Portola<br>gross_rent=%{marker.size}<br>Lat=%{lat}<br>Lon=%{lon}<extra></extra>",
         "lat": [
          37.73467
         ],
         "legendgroup": "Portola",
         "lon": [
          -122.40106000000002
         ],
         "marker": {
          "color": "#EF553B",
          "size": [
           2318.4
          ],
          "sizemode": "area",
          "sizeref": 9.8975
         },
         "mode": "markers",
         "name": "Portola",
         "showlegend": true,
         "subplot": "mapbox",
         "type": "scattermapbox"
        },
        {
         "hovertemplate": "index=Potrero Hill<br>gross_rent=%{marker.size}<br>Lat=%{lat}<br>Lon=%{lon}<extra></extra>",
         "lat": [
          37.73196
         ],
         "legendgroup": "Potrero Hill",
         "lon": [
          -122.38323999999999
         ],
         "marker": {
          "color": "#00cc96",
          "size": [
           2817.285714285714
          ],
          "sizemode": "area",
          "sizeref": 9.8975
         },
         "mode": "markers",
         "name": "Potrero Hill",
         "showlegend": true,
         "subplot": "mapbox",
         "type": "scattermapbox"
        },
        {
         "hovertemplate": "index=Presidio Heights<br>gross_rent=%{marker.size}<br>Lat=%{lat}<br>Lon=%{lon}<extra></extra>",
         "lat": [
          37.78553
         ],
         "legendgroup": "Presidio Heights",
         "lon": [
          -122.456
         ],
         "marker": {
          "color": "#ab63fa",
          "size": [
           2817.285714285714
          ],
          "sizemode": "area",
          "sizeref": 9.8975
         },
         "mode": "markers",
         "name": "Presidio Heights",
         "showlegend": true,
         "subplot": "mapbox",
         "type": "scattermapbox"
        },
        {
         "hovertemplate": "index=Russian Hill<br>gross_rent=%{marker.size}<br>Lat=%{lat}<br>Lon=%{lon}<extra></extra>",
         "lat": [
          37.79298
         ],
         "legendgroup": "Russian Hill",
         "lon": [
          -122.43579
         ],
         "marker": {
          "color": "#FFA15A",
          "size": [
           2817.285714285714
          ],
          "sizemode": "area",
          "sizeref": 9.8975
         },
         "mode": "markers",
         "name": "Russian Hill",
         "showlegend": true,
         "subplot": "mapbox",
         "type": "scattermapbox"
        },
        {
         "hovertemplate": "index=Silver Terrace<br>gross_rent=%{marker.size}<br>Lat=%{lat}<br>Lon=%{lon}<extra></extra>",
         "lat": [
          37.73467
         ],
         "legendgroup": "Silver Terrace",
         "lon": [
          -122.40106000000002
         ],
         "marker": {
          "color": "#19d3f3",
          "size": [
           3528
          ],
          "sizemode": "area",
          "sizeref": 9.8975
         },
         "mode": "markers",
         "name": "Silver Terrace",
         "showlegend": true,
         "subplot": "mapbox",
         "type": "scattermapbox"
        },
        {
         "hovertemplate": "index=South Beach<br>gross_rent=%{marker.size}<br>Lat=%{lat}<br>Lon=%{lon}<extra></extra>",
         "lat": [
          37.783229999999996
         ],
         "legendgroup": "South Beach",
         "lon": [
          -122.40065
         ],
         "marker": {
          "color": "#FF6692",
          "size": [
           2099
          ],
          "sizemode": "area",
          "sizeref": 9.8975
         },
         "mode": "markers",
         "name": "South Beach",
         "showlegend": true,
         "subplot": "mapbox",
         "type": "scattermapbox"
        },
        {
         "hovertemplate": "index=South of Market<br>gross_rent=%{marker.size}<br>Lat=%{lat}<br>Lon=%{lon}<extra></extra>",
         "lat": [
          37.79101
         ],
         "legendgroup": "South of Market",
         "lon": [
          -122.4021
         ],
         "marker": {
          "color": "#B6E880",
          "size": [
           2817.285714285714
          ],
          "sizemode": "area",
          "sizeref": 9.8975
         },
         "mode": "markers",
         "name": "South of Market",
         "showlegend": true,
         "subplot": "mapbox",
         "type": "scattermapbox"
        },
        {
         "hovertemplate": "index=Sunnyside<br>gross_rent=%{marker.size}<br>Lat=%{lat}<br>Lon=%{lon}<extra></extra>",
         "lat": [
          37.73415
         ],
         "legendgroup": "Sunnyside",
         "lon": [
          -122.45700000000001
         ],
         "marker": {
          "color": "#FF97FF",
          "size": [
           2899.5
          ],
          "sizemode": "area",
          "sizeref": 9.8975
         },
         "mode": "markers",
         "name": "Sunnyside",
         "showlegend": true,
         "subplot": "mapbox",
         "type": "scattermapbox"
        },
        {
         "hovertemplate": "index=Telegraph Hill<br>gross_rent=%{marker.size}<br>Lat=%{lat}<br>Lon=%{lon}<extra></extra>",
         "lat": [
          37.80055
         ],
         "legendgroup": "Telegraph Hill",
         "lon": [
          -122.40433
         ],
         "marker": {
          "color": "#FECB52",
          "size": [
           2817.285714285714
          ],
          "sizemode": "area",
          "sizeref": 9.8975
         },
         "mode": "markers",
         "name": "Telegraph Hill",
         "showlegend": true,
         "subplot": "mapbox",
         "type": "scattermapbox"
        },
        {
         "hovertemplate": "index=Twin Peaks<br>gross_rent=%{marker.size}<br>Lat=%{lat}<br>Lon=%{lon}<extra></extra>",
         "lat": [
          37.753311
         ],
         "legendgroup": "Twin Peaks",
         "lon": [
          -122.447029
         ],
         "marker": {
          "color": "#636efa",
          "size": [
           2817.285714285714
          ],
          "sizemode": "area",
          "sizeref": 9.8975
         },
         "mode": "markers",
         "name": "Twin Peaks",
         "showlegend": true,
         "subplot": "mapbox",
         "type": "scattermapbox"
        },
        {
         "hovertemplate": "index=Union Square District<br>gross_rent=%{marker.size}<br>Lat=%{lat}<br>Lon=%{lon}<extra></extra>",
         "lat": [
          37.79101
         ],
         "legendgroup": "Union Square District",
         "lon": [
          -122.4021
         ],
         "marker": {
          "color": "#EF553B",
          "size": [
           2555.1666666666665
          ],
          "sizemode": "area",
          "sizeref": 9.8975
         },
         "mode": "markers",
         "name": "Union Square District",
         "showlegend": true,
         "subplot": "mapbox",
         "type": "scattermapbox"
        },
        {
         "hovertemplate": "index=Van Ness/ Civic Center<br>gross_rent=%{marker.size}<br>Lat=%{lat}<br>Lon=%{lon}<extra></extra>",
         "lat": [
          37.779509999999995
         ],
         "legendgroup": "Van Ness/ Civic Center",
         "lon": [
          -122.42022
         ],
         "marker": {
          "color": "#00cc96",
          "size": [
           2817.285714285714
          ],
          "sizemode": "area",
          "sizeref": 9.8975
         },
         "mode": "markers",
         "name": "Van Ness/ Civic Center",
         "showlegend": true,
         "subplot": "mapbox",
         "type": "scattermapbox"
        },
        {
         "hovertemplate": "index=Visitacion Valley<br>gross_rent=%{marker.size}<br>Lat=%{lat}<br>Lon=%{lon}<extra></extra>",
         "lat": [
          37.72874
         ],
         "legendgroup": "Visitacion Valley",
         "lon": [
          -122.41098000000001
         ],
         "marker": {
          "color": "#ab63fa",
          "size": [
           3657
          ],
          "sizemode": "area",
          "sizeref": 9.8975
         },
         "mode": "markers",
         "name": "Visitacion Valley",
         "showlegend": true,
         "subplot": "mapbox",
         "type": "scattermapbox"
        },
        {
         "hovertemplate": "index=West Portal<br>gross_rent=%{marker.size}<br>Lat=%{lat}<br>Lon=%{lon}<extra></extra>",
         "lat": [
          37.74026
         ],
         "legendgroup": "West Portal",
         "lon": [
          -122.46388
         ],
         "marker": {
          "color": "#FFA15A",
          "size": [
           2515.5
          ],
          "sizemode": "area",
          "sizeref": 9.8975
         },
         "mode": "markers",
         "name": "West Portal",
         "showlegend": true,
         "subplot": "mapbox",
         "type": "scattermapbox"
        },
        {
         "hovertemplate": "index=Western Addition<br>gross_rent=%{marker.size}<br>Lat=%{lat}<br>Lon=%{lon}<extra></extra>",
         "lat": [
          37.79298
         ],
         "legendgroup": "Western Addition",
         "lon": [
          -122.43579
         ],
         "marker": {
          "color": "#19d3f3",
          "size": [
           2555.1666666666665
          ],
          "sizemode": "area",
          "sizeref": 9.8975
         },
         "mode": "markers",
         "name": "Western Addition",
         "showlegend": true,
         "subplot": "mapbox",
         "type": "scattermapbox"
        },
        {
         "hovertemplate": "index=Westwood Highlands<br>gross_rent=%{marker.size}<br>Lat=%{lat}<br>Lon=%{lon}<extra></extra>",
         "lat": [
          37.7347
         ],
         "legendgroup": "Westwood Highlands",
         "lon": [
          -122.456854
         ],
         "marker": {
          "color": "#FF6692",
          "size": [
           2250.5
          ],
          "sizemode": "area",
          "sizeref": 9.8975
         },
         "mode": "markers",
         "name": "Westwood Highlands",
         "showlegend": true,
         "subplot": "mapbox",
         "type": "scattermapbox"
        },
        {
         "hovertemplate": "index=Westwood Park<br>gross_rent=%{marker.size}<br>Lat=%{lat}<br>Lon=%{lon}<extra></extra>",
         "lat": [
          37.73415
         ],
         "legendgroup": "Westwood Park",
         "lon": [
          -122.45700000000001
         ],
         "marker": {
          "color": "#B6E880",
          "size": [
           3959
          ],
          "sizemode": "area",
          "sizeref": 9.8975
         },
         "mode": "markers",
         "name": "Westwood Park",
         "showlegend": true,
         "subplot": "mapbox",
         "type": "scattermapbox"
        },
        {
         "hovertemplate": "index=Yerba Buena<br>gross_rent=%{marker.size}<br>Lat=%{lat}<br>Lon=%{lon}<extra></extra>",
         "lat": [
          37.79298
         ],
         "legendgroup": "Yerba Buena",
         "lon": [
          -122.39636000000002
         ],
         "marker": {
          "color": "#FF97FF",
          "size": [
           2555.1666666666665
          ],
          "sizemode": "area",
          "sizeref": 9.8975
         },
         "mode": "markers",
         "name": "Yerba Buena",
         "showlegend": true,
         "subplot": "mapbox",
         "type": "scattermapbox"
        }
       ],
       "layout": {
        "legend": {
         "itemsizing": "constant",
         "title": {
          "text": "index"
         },
         "tracegroupgap": 0
        },
        "mapbox": {
         "accesstoken": "pk.eyJ1IjoiZmFyZWVkOTkxIiwiYSI6ImNrZ2pyN3I4ODAwdWwycG52dnFna2FmdGwifQ.A4uvDjHryL9BKX0AAN8I1A",
         "center": {
          "lat": 37.76064079710145,
          "lon": -122.43826449275363
         },
         "domain": {
          "x": [
           0,
           1
          ],
          "y": [
           0,
           1
          ]
         },
         "style": "streets",
         "zoom": 10
        },
        "margin": {
         "t": 60
        },
        "template": {
         "data": {
          "bar": [
           {
            "error_x": {
             "color": "#2a3f5f"
            },
            "error_y": {
             "color": "#2a3f5f"
            },
            "marker": {
             "line": {
              "color": "#E5ECF6",
              "width": 0.5
             }
            },
            "type": "bar"
           }
          ],
          "barpolar": [
           {
            "marker": {
             "line": {
              "color": "#E5ECF6",
              "width": 0.5
             }
            },
            "type": "barpolar"
           }
          ],
          "carpet": [
           {
            "aaxis": {
             "endlinecolor": "#2a3f5f",
             "gridcolor": "white",
             "linecolor": "white",
             "minorgridcolor": "white",
             "startlinecolor": "#2a3f5f"
            },
            "baxis": {
             "endlinecolor": "#2a3f5f",
             "gridcolor": "white",
             "linecolor": "white",
             "minorgridcolor": "white",
             "startlinecolor": "#2a3f5f"
            },
            "type": "carpet"
           }
          ],
          "choropleth": [
           {
            "colorbar": {
             "outlinewidth": 0,
             "ticks": ""
            },
            "type": "choropleth"
           }
          ],
          "contour": [
           {
            "colorbar": {
             "outlinewidth": 0,
             "ticks": ""
            },
            "colorscale": [
             [
              0,
              "#0d0887"
             ],
             [
              0.1111111111111111,
              "#46039f"
             ],
             [
              0.2222222222222222,
              "#7201a8"
             ],
             [
              0.3333333333333333,
              "#9c179e"
             ],
             [
              0.4444444444444444,
              "#bd3786"
             ],
             [
              0.5555555555555556,
              "#d8576b"
             ],
             [
              0.6666666666666666,
              "#ed7953"
             ],
             [
              0.7777777777777778,
              "#fb9f3a"
             ],
             [
              0.8888888888888888,
              "#fdca26"
             ],
             [
              1,
              "#f0f921"
             ]
            ],
            "type": "contour"
           }
          ],
          "contourcarpet": [
           {
            "colorbar": {
             "outlinewidth": 0,
             "ticks": ""
            },
            "type": "contourcarpet"
           }
          ],
          "heatmap": [
           {
            "colorbar": {
             "outlinewidth": 0,
             "ticks": ""
            },
            "colorscale": [
             [
              0,
              "#0d0887"
             ],
             [
              0.1111111111111111,
              "#46039f"
             ],
             [
              0.2222222222222222,
              "#7201a8"
             ],
             [
              0.3333333333333333,
              "#9c179e"
             ],
             [
              0.4444444444444444,
              "#bd3786"
             ],
             [
              0.5555555555555556,
              "#d8576b"
             ],
             [
              0.6666666666666666,
              "#ed7953"
             ],
             [
              0.7777777777777778,
              "#fb9f3a"
             ],
             [
              0.8888888888888888,
              "#fdca26"
             ],
             [
              1,
              "#f0f921"
             ]
            ],
            "type": "heatmap"
           }
          ],
          "heatmapgl": [
           {
            "colorbar": {
             "outlinewidth": 0,
             "ticks": ""
            },
            "colorscale": [
             [
              0,
              "#0d0887"
             ],
             [
              0.1111111111111111,
              "#46039f"
             ],
             [
              0.2222222222222222,
              "#7201a8"
             ],
             [
              0.3333333333333333,
              "#9c179e"
             ],
             [
              0.4444444444444444,
              "#bd3786"
             ],
             [
              0.5555555555555556,
              "#d8576b"
             ],
             [
              0.6666666666666666,
              "#ed7953"
             ],
             [
              0.7777777777777778,
              "#fb9f3a"
             ],
             [
              0.8888888888888888,
              "#fdca26"
             ],
             [
              1,
              "#f0f921"
             ]
            ],
            "type": "heatmapgl"
           }
          ],
          "histogram": [
           {
            "marker": {
             "colorbar": {
              "outlinewidth": 0,
              "ticks": ""
             }
            },
            "type": "histogram"
           }
          ],
          "histogram2d": [
           {
            "colorbar": {
             "outlinewidth": 0,
             "ticks": ""
            },
            "colorscale": [
             [
              0,
              "#0d0887"
             ],
             [
              0.1111111111111111,
              "#46039f"
             ],
             [
              0.2222222222222222,
              "#7201a8"
             ],
             [
              0.3333333333333333,
              "#9c179e"
             ],
             [
              0.4444444444444444,
              "#bd3786"
             ],
             [
              0.5555555555555556,
              "#d8576b"
             ],
             [
              0.6666666666666666,
              "#ed7953"
             ],
             [
              0.7777777777777778,
              "#fb9f3a"
             ],
             [
              0.8888888888888888,
              "#fdca26"
             ],
             [
              1,
              "#f0f921"
             ]
            ],
            "type": "histogram2d"
           }
          ],
          "histogram2dcontour": [
           {
            "colorbar": {
             "outlinewidth": 0,
             "ticks": ""
            },
            "colorscale": [
             [
              0,
              "#0d0887"
             ],
             [
              0.1111111111111111,
              "#46039f"
             ],
             [
              0.2222222222222222,
              "#7201a8"
             ],
             [
              0.3333333333333333,
              "#9c179e"
             ],
             [
              0.4444444444444444,
              "#bd3786"
             ],
             [
              0.5555555555555556,
              "#d8576b"
             ],
             [
              0.6666666666666666,
              "#ed7953"
             ],
             [
              0.7777777777777778,
              "#fb9f3a"
             ],
             [
              0.8888888888888888,
              "#fdca26"
             ],
             [
              1,
              "#f0f921"
             ]
            ],
            "type": "histogram2dcontour"
           }
          ],
          "mesh3d": [
           {
            "colorbar": {
             "outlinewidth": 0,
             "ticks": ""
            },
            "type": "mesh3d"
           }
          ],
          "parcoords": [
           {
            "line": {
             "colorbar": {
              "outlinewidth": 0,
              "ticks": ""
             }
            },
            "type": "parcoords"
           }
          ],
          "pie": [
           {
            "automargin": true,
            "type": "pie"
           }
          ],
          "scatter": [
           {
            "marker": {
             "colorbar": {
              "outlinewidth": 0,
              "ticks": ""
             }
            },
            "type": "scatter"
           }
          ],
          "scatter3d": [
           {
            "line": {
             "colorbar": {
              "outlinewidth": 0,
              "ticks": ""
             }
            },
            "marker": {
             "colorbar": {
              "outlinewidth": 0,
              "ticks": ""
             }
            },
            "type": "scatter3d"
           }
          ],
          "scattercarpet": [
           {
            "marker": {
             "colorbar": {
              "outlinewidth": 0,
              "ticks": ""
             }
            },
            "type": "scattercarpet"
           }
          ],
          "scattergeo": [
           {
            "marker": {
             "colorbar": {
              "outlinewidth": 0,
              "ticks": ""
             }
            },
            "type": "scattergeo"
           }
          ],
          "scattergl": [
           {
            "marker": {
             "colorbar": {
              "outlinewidth": 0,
              "ticks": ""
             }
            },
            "type": "scattergl"
           }
          ],
          "scattermapbox": [
           {
            "marker": {
             "colorbar": {
              "outlinewidth": 0,
              "ticks": ""
             }
            },
            "type": "scattermapbox"
           }
          ],
          "scatterpolar": [
           {
            "marker": {
             "colorbar": {
              "outlinewidth": 0,
              "ticks": ""
             }
            },
            "type": "scatterpolar"
           }
          ],
          "scatterpolargl": [
           {
            "marker": {
             "colorbar": {
              "outlinewidth": 0,
              "ticks": ""
             }
            },
            "type": "scatterpolargl"
           }
          ],
          "scatterternary": [
           {
            "marker": {
             "colorbar": {
              "outlinewidth": 0,
              "ticks": ""
             }
            },
            "type": "scatterternary"
           }
          ],
          "surface": [
           {
            "colorbar": {
             "outlinewidth": 0,
             "ticks": ""
            },
            "colorscale": [
             [
              0,
              "#0d0887"
             ],
             [
              0.1111111111111111,
              "#46039f"
             ],
             [
              0.2222222222222222,
              "#7201a8"
             ],
             [
              0.3333333333333333,
              "#9c179e"
             ],
             [
              0.4444444444444444,
              "#bd3786"
             ],
             [
              0.5555555555555556,
              "#d8576b"
             ],
             [
              0.6666666666666666,
              "#ed7953"
             ],
             [
              0.7777777777777778,
              "#fb9f3a"
             ],
             [
              0.8888888888888888,
              "#fdca26"
             ],
             [
              1,
              "#f0f921"
             ]
            ],
            "type": "surface"
           }
          ],
          "table": [
           {
            "cells": {
             "fill": {
              "color": "#EBF0F8"
             },
             "line": {
              "color": "white"
             }
            },
            "header": {
             "fill": {
              "color": "#C8D4E3"
             },
             "line": {
              "color": "white"
             }
            },
            "type": "table"
           }
          ]
         },
         "layout": {
          "annotationdefaults": {
           "arrowcolor": "#2a3f5f",
           "arrowhead": 0,
           "arrowwidth": 1
          },
          "autotypenumbers": "strict",
          "coloraxis": {
           "colorbar": {
            "outlinewidth": 0,
            "ticks": ""
           }
          },
          "colorscale": {
           "diverging": [
            [
             0,
             "#8e0152"
            ],
            [
             0.1,
             "#c51b7d"
            ],
            [
             0.2,
             "#de77ae"
            ],
            [
             0.3,
             "#f1b6da"
            ],
            [
             0.4,
             "#fde0ef"
            ],
            [
             0.5,
             "#f7f7f7"
            ],
            [
             0.6,
             "#e6f5d0"
            ],
            [
             0.7,
             "#b8e186"
            ],
            [
             0.8,
             "#7fbc41"
            ],
            [
             0.9,
             "#4d9221"
            ],
            [
             1,
             "#276419"
            ]
           ],
           "sequential": [
            [
             0,
             "#0d0887"
            ],
            [
             0.1111111111111111,
             "#46039f"
            ],
            [
             0.2222222222222222,
             "#7201a8"
            ],
            [
             0.3333333333333333,
             "#9c179e"
            ],
            [
             0.4444444444444444,
             "#bd3786"
            ],
            [
             0.5555555555555556,
             "#d8576b"
            ],
            [
             0.6666666666666666,
             "#ed7953"
            ],
            [
             0.7777777777777778,
             "#fb9f3a"
            ],
            [
             0.8888888888888888,
             "#fdca26"
            ],
            [
             1,
             "#f0f921"
            ]
           ],
           "sequentialminus": [
            [
             0,
             "#0d0887"
            ],
            [
             0.1111111111111111,
             "#46039f"
            ],
            [
             0.2222222222222222,
             "#7201a8"
            ],
            [
             0.3333333333333333,
             "#9c179e"
            ],
            [
             0.4444444444444444,
             "#bd3786"
            ],
            [
             0.5555555555555556,
             "#d8576b"
            ],
            [
             0.6666666666666666,
             "#ed7953"
            ],
            [
             0.7777777777777778,
             "#fb9f3a"
            ],
            [
             0.8888888888888888,
             "#fdca26"
            ],
            [
             1,
             "#f0f921"
            ]
           ]
          },
          "colorway": [
           "#636efa",
           "#EF553B",
           "#00cc96",
           "#ab63fa",
           "#FFA15A",
           "#19d3f3",
           "#FF6692",
           "#B6E880",
           "#FF97FF",
           "#FECB52"
          ],
          "font": {
           "color": "#2a3f5f"
          },
          "geo": {
           "bgcolor": "white",
           "lakecolor": "white",
           "landcolor": "#E5ECF6",
           "showlakes": true,
           "showland": true,
           "subunitcolor": "white"
          },
          "hoverlabel": {
           "align": "left"
          },
          "hovermode": "closest",
          "mapbox": {
           "style": "light"
          },
          "paper_bgcolor": "white",
          "plot_bgcolor": "#E5ECF6",
          "polar": {
           "angularaxis": {
            "gridcolor": "white",
            "linecolor": "white",
            "ticks": ""
           },
           "bgcolor": "#E5ECF6",
           "radialaxis": {
            "gridcolor": "white",
            "linecolor": "white",
            "ticks": ""
           }
          },
          "scene": {
           "xaxis": {
            "backgroundcolor": "#E5ECF6",
            "gridcolor": "white",
            "gridwidth": 2,
            "linecolor": "white",
            "showbackground": true,
            "ticks": "",
            "zerolinecolor": "white"
           },
           "yaxis": {
            "backgroundcolor": "#E5ECF6",
            "gridcolor": "white",
            "gridwidth": 2,
            "linecolor": "white",
            "showbackground": true,
            "ticks": "",
            "zerolinecolor": "white"
           },
           "zaxis": {
            "backgroundcolor": "#E5ECF6",
            "gridcolor": "white",
            "gridwidth": 2,
            "linecolor": "white",
            "showbackground": true,
            "ticks": "",
            "zerolinecolor": "white"
           }
          },
          "shapedefaults": {
           "line": {
            "color": "#2a3f5f"
           }
          },
          "ternary": {
           "aaxis": {
            "gridcolor": "white",
            "linecolor": "white",
            "ticks": ""
           },
           "baxis": {
            "gridcolor": "white",
            "linecolor": "white",
            "ticks": ""
           },
           "bgcolor": "#E5ECF6",
           "caxis": {
            "gridcolor": "white",
            "linecolor": "white",
            "ticks": ""
           }
          },
          "title": {
           "x": 0.05
          },
          "xaxis": {
           "automargin": true,
           "gridcolor": "white",
           "linecolor": "white",
           "ticks": "",
           "title": {
            "standoff": 15
           },
           "zerolinecolor": "white",
           "zerolinewidth": 2
          },
          "yaxis": {
           "automargin": true,
           "gridcolor": "white",
           "linecolor": "white",
           "ticks": "",
           "title": {
            "standoff": 15
           },
           "zerolinecolor": "white",
           "zerolinewidth": 2
          }
         }
        }
       }
      }
     },
     "metadata": {}
    }
   ],
   "source": [
    "neighborhood_map().show()"
   ]
  },
  {
   "cell_type": "code",
   "execution_count": 16,
   "metadata": {},
   "outputs": [
    {
     "output_type": "display_data",
     "data": {
      "application/vnd.plotly.v1+json": {
       "config": {
        "plotlyServerURL": "https://plot.ly"
       },
       "data": [
        {
         "dimensions": [
          {
           "label": "neighborhood",
           "values": [
            "Cow Hollow",
            "Merced Heights",
            "Miraloma Park",
            "Pacific Heights",
            "Potrero Hill",
            "Presidio Heights",
            "South Beach",
            "Telegraph Hill",
            "Union Square District",
            "Westwood Park"
           ]
          },
          {
           "label": "sale_price_sqr_foot",
           "values": [
            665.964041578323,
            788.8448175872469,
            779.810842264425,
            689.5558168113664,
            662.0136128276529,
            675.3502120510033,
            650.1244791945729,
            676.5065775293257,
            903.9932576720645,
            687.0875745178323
           ]
          },
          {
           "label": "housing_units",
           "values": [
            378401,
            380348,
            375967.25,
            378401,
            378401,
            378401,
            375805,
            378401,
            377427.5,
            382295
           ]
          },
          {
           "label": "gross_rent",
           "values": [
            2817.285714285714,
            3414,
            2155.25,
            2817.285714285714,
            2817.285714285714,
            2817.285714285714,
            2099,
            2817.285714285714,
            2555.1666666666665,
            3959
           ]
          }
         ],
         "domain": {
          "x": [
           0,
           1
          ],
          "y": [
           0,
           1
          ]
         },
         "line": {
          "color": [
           665.964041578323,
           788.8448175872469,
           779.810842264425,
           689.5558168113664,
           662.0136128276529,
           675.3502120510033,
           650.1244791945729,
           676.5065775293257,
           903.9932576720645,
           687.0875745178323
          ],
          "coloraxis": "coloraxis"
         },
         "name": "",
         "type": "parcats"
        }
       ],
       "layout": {
        "coloraxis": {
         "colorbar": {
          "title": {
           "text": "sale_price_sqr_foot"
          }
         },
         "colorscale": [
          [
           0,
           "#0d0887"
          ],
          [
           0.1111111111111111,
           "#46039f"
          ],
          [
           0.2222222222222222,
           "#7201a8"
          ],
          [
           0.3333333333333333,
           "#9c179e"
          ],
          [
           0.4444444444444444,
           "#bd3786"
          ],
          [
           0.5555555555555556,
           "#d8576b"
          ],
          [
           0.6666666666666666,
           "#ed7953"
          ],
          [
           0.7777777777777778,
           "#fb9f3a"
          ],
          [
           0.8888888888888888,
           "#fdca26"
          ],
          [
           1,
           "#f0f921"
          ]
         ]
        },
        "legend": {
         "tracegroupgap": 0
        },
        "margin": {
         "t": 60
        },
        "template": {
         "data": {
          "bar": [
           {
            "error_x": {
             "color": "#2a3f5f"
            },
            "error_y": {
             "color": "#2a3f5f"
            },
            "marker": {
             "line": {
              "color": "#E5ECF6",
              "width": 0.5
             }
            },
            "type": "bar"
           }
          ],
          "barpolar": [
           {
            "marker": {
             "line": {
              "color": "#E5ECF6",
              "width": 0.5
             }
            },
            "type": "barpolar"
           }
          ],
          "carpet": [
           {
            "aaxis": {
             "endlinecolor": "#2a3f5f",
             "gridcolor": "white",
             "linecolor": "white",
             "minorgridcolor": "white",
             "startlinecolor": "#2a3f5f"
            },
            "baxis": {
             "endlinecolor": "#2a3f5f",
             "gridcolor": "white",
             "linecolor": "white",
             "minorgridcolor": "white",
             "startlinecolor": "#2a3f5f"
            },
            "type": "carpet"
           }
          ],
          "choropleth": [
           {
            "colorbar": {
             "outlinewidth": 0,
             "ticks": ""
            },
            "type": "choropleth"
           }
          ],
          "contour": [
           {
            "colorbar": {
             "outlinewidth": 0,
             "ticks": ""
            },
            "colorscale": [
             [
              0,
              "#0d0887"
             ],
             [
              0.1111111111111111,
              "#46039f"
             ],
             [
              0.2222222222222222,
              "#7201a8"
             ],
             [
              0.3333333333333333,
              "#9c179e"
             ],
             [
              0.4444444444444444,
              "#bd3786"
             ],
             [
              0.5555555555555556,
              "#d8576b"
             ],
             [
              0.6666666666666666,
              "#ed7953"
             ],
             [
              0.7777777777777778,
              "#fb9f3a"
             ],
             [
              0.8888888888888888,
              "#fdca26"
             ],
             [
              1,
              "#f0f921"
             ]
            ],
            "type": "contour"
           }
          ],
          "contourcarpet": [
           {
            "colorbar": {
             "outlinewidth": 0,
             "ticks": ""
            },
            "type": "contourcarpet"
           }
          ],
          "heatmap": [
           {
            "colorbar": {
             "outlinewidth": 0,
             "ticks": ""
            },
            "colorscale": [
             [
              0,
              "#0d0887"
             ],
             [
              0.1111111111111111,
              "#46039f"
             ],
             [
              0.2222222222222222,
              "#7201a8"
             ],
             [
              0.3333333333333333,
              "#9c179e"
             ],
             [
              0.4444444444444444,
              "#bd3786"
             ],
             [
              0.5555555555555556,
              "#d8576b"
             ],
             [
              0.6666666666666666,
              "#ed7953"
             ],
             [
              0.7777777777777778,
              "#fb9f3a"
             ],
             [
              0.8888888888888888,
              "#fdca26"
             ],
             [
              1,
              "#f0f921"
             ]
            ],
            "type": "heatmap"
           }
          ],
          "heatmapgl": [
           {
            "colorbar": {
             "outlinewidth": 0,
             "ticks": ""
            },
            "colorscale": [
             [
              0,
              "#0d0887"
             ],
             [
              0.1111111111111111,
              "#46039f"
             ],
             [
              0.2222222222222222,
              "#7201a8"
             ],
             [
              0.3333333333333333,
              "#9c179e"
             ],
             [
              0.4444444444444444,
              "#bd3786"
             ],
             [
              0.5555555555555556,
              "#d8576b"
             ],
             [
              0.6666666666666666,
              "#ed7953"
             ],
             [
              0.7777777777777778,
              "#fb9f3a"
             ],
             [
              0.8888888888888888,
              "#fdca26"
             ],
             [
              1,
              "#f0f921"
             ]
            ],
            "type": "heatmapgl"
           }
          ],
          "histogram": [
           {
            "marker": {
             "colorbar": {
              "outlinewidth": 0,
              "ticks": ""
             }
            },
            "type": "histogram"
           }
          ],
          "histogram2d": [
           {
            "colorbar": {
             "outlinewidth": 0,
             "ticks": ""
            },
            "colorscale": [
             [
              0,
              "#0d0887"
             ],
             [
              0.1111111111111111,
              "#46039f"
             ],
             [
              0.2222222222222222,
              "#7201a8"
             ],
             [
              0.3333333333333333,
              "#9c179e"
             ],
             [
              0.4444444444444444,
              "#bd3786"
             ],
             [
              0.5555555555555556,
              "#d8576b"
             ],
             [
              0.6666666666666666,
              "#ed7953"
             ],
             [
              0.7777777777777778,
              "#fb9f3a"
             ],
             [
              0.8888888888888888,
              "#fdca26"
             ],
             [
              1,
              "#f0f921"
             ]
            ],
            "type": "histogram2d"
           }
          ],
          "histogram2dcontour": [
           {
            "colorbar": {
             "outlinewidth": 0,
             "ticks": ""
            },
            "colorscale": [
             [
              0,
              "#0d0887"
             ],
             [
              0.1111111111111111,
              "#46039f"
             ],
             [
              0.2222222222222222,
              "#7201a8"
             ],
             [
              0.3333333333333333,
              "#9c179e"
             ],
             [
              0.4444444444444444,
              "#bd3786"
             ],
             [
              0.5555555555555556,
              "#d8576b"
             ],
             [
              0.6666666666666666,
              "#ed7953"
             ],
             [
              0.7777777777777778,
              "#fb9f3a"
             ],
             [
              0.8888888888888888,
              "#fdca26"
             ],
             [
              1,
              "#f0f921"
             ]
            ],
            "type": "histogram2dcontour"
           }
          ],
          "mesh3d": [
           {
            "colorbar": {
             "outlinewidth": 0,
             "ticks": ""
            },
            "type": "mesh3d"
           }
          ],
          "parcoords": [
           {
            "line": {
             "colorbar": {
              "outlinewidth": 0,
              "ticks": ""
             }
            },
            "type": "parcoords"
           }
          ],
          "pie": [
           {
            "automargin": true,
            "type": "pie"
           }
          ],
          "scatter": [
           {
            "marker": {
             "colorbar": {
              "outlinewidth": 0,
              "ticks": ""
             }
            },
            "type": "scatter"
           }
          ],
          "scatter3d": [
           {
            "line": {
             "colorbar": {
              "outlinewidth": 0,
              "ticks": ""
             }
            },
            "marker": {
             "colorbar": {
              "outlinewidth": 0,
              "ticks": ""
             }
            },
            "type": "scatter3d"
           }
          ],
          "scattercarpet": [
           {
            "marker": {
             "colorbar": {
              "outlinewidth": 0,
              "ticks": ""
             }
            },
            "type": "scattercarpet"
           }
          ],
          "scattergeo": [
           {
            "marker": {
             "colorbar": {
              "outlinewidth": 0,
              "ticks": ""
             }
            },
            "type": "scattergeo"
           }
          ],
          "scattergl": [
           {
            "marker": {
             "colorbar": {
              "outlinewidth": 0,
              "ticks": ""
             }
            },
            "type": "scattergl"
           }
          ],
          "scattermapbox": [
           {
            "marker": {
             "colorbar": {
              "outlinewidth": 0,
              "ticks": ""
             }
            },
            "type": "scattermapbox"
           }
          ],
          "scatterpolar": [
           {
            "marker": {
             "colorbar": {
              "outlinewidth": 0,
              "ticks": ""
             }
            },
            "type": "scatterpolar"
           }
          ],
          "scatterpolargl": [
           {
            "marker": {
             "colorbar": {
              "outlinewidth": 0,
              "ticks": ""
             }
            },
            "type": "scatterpolargl"
           }
          ],
          "scatterternary": [
           {
            "marker": {
             "colorbar": {
              "outlinewidth": 0,
              "ticks": ""
             }
            },
            "type": "scatterternary"
           }
          ],
          "surface": [
           {
            "colorbar": {
             "outlinewidth": 0,
             "ticks": ""
            },
            "colorscale": [
             [
              0,
              "#0d0887"
             ],
             [
              0.1111111111111111,
              "#46039f"
             ],
             [
              0.2222222222222222,
              "#7201a8"
             ],
             [
              0.3333333333333333,
              "#9c179e"
             ],
             [
              0.4444444444444444,
              "#bd3786"
             ],
             [
              0.5555555555555556,
              "#d8576b"
             ],
             [
              0.6666666666666666,
              "#ed7953"
             ],
             [
              0.7777777777777778,
              "#fb9f3a"
             ],
             [
              0.8888888888888888,
              "#fdca26"
             ],
             [
              1,
              "#f0f921"
             ]
            ],
            "type": "surface"
           }
          ],
          "table": [
           {
            "cells": {
             "fill": {
              "color": "#EBF0F8"
             },
             "line": {
              "color": "white"
             }
            },
            "header": {
             "fill": {
              "color": "#C8D4E3"
             },
             "line": {
              "color": "white"
             }
            },
            "type": "table"
           }
          ]
         },
         "layout": {
          "annotationdefaults": {
           "arrowcolor": "#2a3f5f",
           "arrowhead": 0,
           "arrowwidth": 1
          },
          "autotypenumbers": "strict",
          "coloraxis": {
           "colorbar": {
            "outlinewidth": 0,
            "ticks": ""
           }
          },
          "colorscale": {
           "diverging": [
            [
             0,
             "#8e0152"
            ],
            [
             0.1,
             "#c51b7d"
            ],
            [
             0.2,
             "#de77ae"
            ],
            [
             0.3,
             "#f1b6da"
            ],
            [
             0.4,
             "#fde0ef"
            ],
            [
             0.5,
             "#f7f7f7"
            ],
            [
             0.6,
             "#e6f5d0"
            ],
            [
             0.7,
             "#b8e186"
            ],
            [
             0.8,
             "#7fbc41"
            ],
            [
             0.9,
             "#4d9221"
            ],
            [
             1,
             "#276419"
            ]
           ],
           "sequential": [
            [
             0,
             "#0d0887"
            ],
            [
             0.1111111111111111,
             "#46039f"
            ],
            [
             0.2222222222222222,
             "#7201a8"
            ],
            [
             0.3333333333333333,
             "#9c179e"
            ],
            [
             0.4444444444444444,
             "#bd3786"
            ],
            [
             0.5555555555555556,
             "#d8576b"
            ],
            [
             0.6666666666666666,
             "#ed7953"
            ],
            [
             0.7777777777777778,
             "#fb9f3a"
            ],
            [
             0.8888888888888888,
             "#fdca26"
            ],
            [
             1,
             "#f0f921"
            ]
           ],
           "sequentialminus": [
            [
             0,
             "#0d0887"
            ],
            [
             0.1111111111111111,
             "#46039f"
            ],
            [
             0.2222222222222222,
             "#7201a8"
            ],
            [
             0.3333333333333333,
             "#9c179e"
            ],
            [
             0.4444444444444444,
             "#bd3786"
            ],
            [
             0.5555555555555556,
             "#d8576b"
            ],
            [
             0.6666666666666666,
             "#ed7953"
            ],
            [
             0.7777777777777778,
             "#fb9f3a"
            ],
            [
             0.8888888888888888,
             "#fdca26"
            ],
            [
             1,
             "#f0f921"
            ]
           ]
          },
          "colorway": [
           "#636efa",
           "#EF553B",
           "#00cc96",
           "#ab63fa",
           "#FFA15A",
           "#19d3f3",
           "#FF6692",
           "#B6E880",
           "#FF97FF",
           "#FECB52"
          ],
          "font": {
           "color": "#2a3f5f"
          },
          "geo": {
           "bgcolor": "white",
           "lakecolor": "white",
           "landcolor": "#E5ECF6",
           "showlakes": true,
           "showland": true,
           "subunitcolor": "white"
          },
          "hoverlabel": {
           "align": "left"
          },
          "hovermode": "closest",
          "mapbox": {
           "style": "light"
          },
          "paper_bgcolor": "white",
          "plot_bgcolor": "#E5ECF6",
          "polar": {
           "angularaxis": {
            "gridcolor": "white",
            "linecolor": "white",
            "ticks": ""
           },
           "bgcolor": "#E5ECF6",
           "radialaxis": {
            "gridcolor": "white",
            "linecolor": "white",
            "ticks": ""
           }
          },
          "scene": {
           "xaxis": {
            "backgroundcolor": "#E5ECF6",
            "gridcolor": "white",
            "gridwidth": 2,
            "linecolor": "white",
            "showbackground": true,
            "ticks": "",
            "zerolinecolor": "white"
           },
           "yaxis": {
            "backgroundcolor": "#E5ECF6",
            "gridcolor": "white",
            "gridwidth": 2,
            "linecolor": "white",
            "showbackground": true,
            "ticks": "",
            "zerolinecolor": "white"
           },
           "zaxis": {
            "backgroundcolor": "#E5ECF6",
            "gridcolor": "white",
            "gridwidth": 2,
            "linecolor": "white",
            "showbackground": true,
            "ticks": "",
            "zerolinecolor": "white"
           }
          },
          "shapedefaults": {
           "line": {
            "color": "#2a3f5f"
           }
          },
          "ternary": {
           "aaxis": {
            "gridcolor": "white",
            "linecolor": "white",
            "ticks": ""
           },
           "baxis": {
            "gridcolor": "white",
            "linecolor": "white",
            "ticks": ""
           },
           "bgcolor": "#E5ECF6",
           "caxis": {
            "gridcolor": "white",
            "linecolor": "white",
            "ticks": ""
           }
          },
          "title": {
           "x": 0.05
          },
          "xaxis": {
           "automargin": true,
           "gridcolor": "white",
           "linecolor": "white",
           "ticks": "",
           "title": {
            "standoff": 15
           },
           "zerolinecolor": "white",
           "zerolinewidth": 2
          },
          "yaxis": {
           "automargin": true,
           "gridcolor": "white",
           "linecolor": "white",
           "ticks": "",
           "title": {
            "standoff": 15
           },
           "zerolinecolor": "white",
           "zerolinewidth": 2
          }
         }
        }
       }
      }
     },
     "metadata": {}
    }
   ],
   "source": [
    " parallel_categories()"
   ]
  },
  {
   "cell_type": "code",
   "execution_count": 17,
   "metadata": {},
   "outputs": [
    {
     "output_type": "display_data",
     "data": {
      "application/vnd.plotly.v1+json": {
       "config": {
        "plotlyServerURL": "https://plot.ly"
       },
       "data": [
        {
         "dimensions": [
          {
           "label": "sale_price_sqr_foot",
           "values": [
            665.964041578323,
            788.8448175872469,
            779.810842264425,
            689.5558168113664,
            662.0136128276529,
            675.3502120510033,
            650.1244791945729,
            676.5065775293257,
            903.9932576720645,
            687.0875745178323
           ]
          },
          {
           "label": "housing_units",
           "values": [
            378401,
            380348,
            375967.25,
            378401,
            378401,
            378401,
            375805,
            378401,
            377427.5,
            382295
           ]
          },
          {
           "label": "gross_rent",
           "values": [
            2817.285714285714,
            3414,
            2155.25,
            2817.285714285714,
            2817.285714285714,
            2817.285714285714,
            2099,
            2817.285714285714,
            2555.1666666666665,
            3959
           ]
          },
          {
           "label": "index",
           "values": [
            0,
            1,
            2,
            3,
            4,
            5,
            6,
            7,
            8,
            9
           ]
          }
         ],
         "domain": {
          "x": [
           0,
           1
          ],
          "y": [
           0,
           1
          ]
         },
         "line": {
          "color": [
           0,
           1,
           2,
           3,
           4,
           5,
           6,
           7,
           8,
           9
          ],
          "coloraxis": "coloraxis"
         },
         "name": "",
         "type": "parcoords"
        }
       ],
       "layout": {
        "coloraxis": {
         "colorbar": {
          "title": {
           "text": "index"
          }
         },
         "colorscale": [
          [
           0,
           "#0d0887"
          ],
          [
           0.1111111111111111,
           "#46039f"
          ],
          [
           0.2222222222222222,
           "#7201a8"
          ],
          [
           0.3333333333333333,
           "#9c179e"
          ],
          [
           0.4444444444444444,
           "#bd3786"
          ],
          [
           0.5555555555555556,
           "#d8576b"
          ],
          [
           0.6666666666666666,
           "#ed7953"
          ],
          [
           0.7777777777777778,
           "#fb9f3a"
          ],
          [
           0.8888888888888888,
           "#fdca26"
          ],
          [
           1,
           "#f0f921"
          ]
         ]
        },
        "height": 500,
        "legend": {
         "tracegroupgap": 0
        },
        "margin": {
         "t": 60
        },
        "template": {
         "data": {
          "bar": [
           {
            "error_x": {
             "color": "#2a3f5f"
            },
            "error_y": {
             "color": "#2a3f5f"
            },
            "marker": {
             "line": {
              "color": "#E5ECF6",
              "width": 0.5
             }
            },
            "type": "bar"
           }
          ],
          "barpolar": [
           {
            "marker": {
             "line": {
              "color": "#E5ECF6",
              "width": 0.5
             }
            },
            "type": "barpolar"
           }
          ],
          "carpet": [
           {
            "aaxis": {
             "endlinecolor": "#2a3f5f",
             "gridcolor": "white",
             "linecolor": "white",
             "minorgridcolor": "white",
             "startlinecolor": "#2a3f5f"
            },
            "baxis": {
             "endlinecolor": "#2a3f5f",
             "gridcolor": "white",
             "linecolor": "white",
             "minorgridcolor": "white",
             "startlinecolor": "#2a3f5f"
            },
            "type": "carpet"
           }
          ],
          "choropleth": [
           {
            "colorbar": {
             "outlinewidth": 0,
             "ticks": ""
            },
            "type": "choropleth"
           }
          ],
          "contour": [
           {
            "colorbar": {
             "outlinewidth": 0,
             "ticks": ""
            },
            "colorscale": [
             [
              0,
              "#0d0887"
             ],
             [
              0.1111111111111111,
              "#46039f"
             ],
             [
              0.2222222222222222,
              "#7201a8"
             ],
             [
              0.3333333333333333,
              "#9c179e"
             ],
             [
              0.4444444444444444,
              "#bd3786"
             ],
             [
              0.5555555555555556,
              "#d8576b"
             ],
             [
              0.6666666666666666,
              "#ed7953"
             ],
             [
              0.7777777777777778,
              "#fb9f3a"
             ],
             [
              0.8888888888888888,
              "#fdca26"
             ],
             [
              1,
              "#f0f921"
             ]
            ],
            "type": "contour"
           }
          ],
          "contourcarpet": [
           {
            "colorbar": {
             "outlinewidth": 0,
             "ticks": ""
            },
            "type": "contourcarpet"
           }
          ],
          "heatmap": [
           {
            "colorbar": {
             "outlinewidth": 0,
             "ticks": ""
            },
            "colorscale": [
             [
              0,
              "#0d0887"
             ],
             [
              0.1111111111111111,
              "#46039f"
             ],
             [
              0.2222222222222222,
              "#7201a8"
             ],
             [
              0.3333333333333333,
              "#9c179e"
             ],
             [
              0.4444444444444444,
              "#bd3786"
             ],
             [
              0.5555555555555556,
              "#d8576b"
             ],
             [
              0.6666666666666666,
              "#ed7953"
             ],
             [
              0.7777777777777778,
              "#fb9f3a"
             ],
             [
              0.8888888888888888,
              "#fdca26"
             ],
             [
              1,
              "#f0f921"
             ]
            ],
            "type": "heatmap"
           }
          ],
          "heatmapgl": [
           {
            "colorbar": {
             "outlinewidth": 0,
             "ticks": ""
            },
            "colorscale": [
             [
              0,
              "#0d0887"
             ],
             [
              0.1111111111111111,
              "#46039f"
             ],
             [
              0.2222222222222222,
              "#7201a8"
             ],
             [
              0.3333333333333333,
              "#9c179e"
             ],
             [
              0.4444444444444444,
              "#bd3786"
             ],
             [
              0.5555555555555556,
              "#d8576b"
             ],
             [
              0.6666666666666666,
              "#ed7953"
             ],
             [
              0.7777777777777778,
              "#fb9f3a"
             ],
             [
              0.8888888888888888,
              "#fdca26"
             ],
             [
              1,
              "#f0f921"
             ]
            ],
            "type": "heatmapgl"
           }
          ],
          "histogram": [
           {
            "marker": {
             "colorbar": {
              "outlinewidth": 0,
              "ticks": ""
             }
            },
            "type": "histogram"
           }
          ],
          "histogram2d": [
           {
            "colorbar": {
             "outlinewidth": 0,
             "ticks": ""
            },
            "colorscale": [
             [
              0,
              "#0d0887"
             ],
             [
              0.1111111111111111,
              "#46039f"
             ],
             [
              0.2222222222222222,
              "#7201a8"
             ],
             [
              0.3333333333333333,
              "#9c179e"
             ],
             [
              0.4444444444444444,
              "#bd3786"
             ],
             [
              0.5555555555555556,
              "#d8576b"
             ],
             [
              0.6666666666666666,
              "#ed7953"
             ],
             [
              0.7777777777777778,
              "#fb9f3a"
             ],
             [
              0.8888888888888888,
              "#fdca26"
             ],
             [
              1,
              "#f0f921"
             ]
            ],
            "type": "histogram2d"
           }
          ],
          "histogram2dcontour": [
           {
            "colorbar": {
             "outlinewidth": 0,
             "ticks": ""
            },
            "colorscale": [
             [
              0,
              "#0d0887"
             ],
             [
              0.1111111111111111,
              "#46039f"
             ],
             [
              0.2222222222222222,
              "#7201a8"
             ],
             [
              0.3333333333333333,
              "#9c179e"
             ],
             [
              0.4444444444444444,
              "#bd3786"
             ],
             [
              0.5555555555555556,
              "#d8576b"
             ],
             [
              0.6666666666666666,
              "#ed7953"
             ],
             [
              0.7777777777777778,
              "#fb9f3a"
             ],
             [
              0.8888888888888888,
              "#fdca26"
             ],
             [
              1,
              "#f0f921"
             ]
            ],
            "type": "histogram2dcontour"
           }
          ],
          "mesh3d": [
           {
            "colorbar": {
             "outlinewidth": 0,
             "ticks": ""
            },
            "type": "mesh3d"
           }
          ],
          "parcoords": [
           {
            "line": {
             "colorbar": {
              "outlinewidth": 0,
              "ticks": ""
             }
            },
            "type": "parcoords"
           }
          ],
          "pie": [
           {
            "automargin": true,
            "type": "pie"
           }
          ],
          "scatter": [
           {
            "marker": {
             "colorbar": {
              "outlinewidth": 0,
              "ticks": ""
             }
            },
            "type": "scatter"
           }
          ],
          "scatter3d": [
           {
            "line": {
             "colorbar": {
              "outlinewidth": 0,
              "ticks": ""
             }
            },
            "marker": {
             "colorbar": {
              "outlinewidth": 0,
              "ticks": ""
             }
            },
            "type": "scatter3d"
           }
          ],
          "scattercarpet": [
           {
            "marker": {
             "colorbar": {
              "outlinewidth": 0,
              "ticks": ""
             }
            },
            "type": "scattercarpet"
           }
          ],
          "scattergeo": [
           {
            "marker": {
             "colorbar": {
              "outlinewidth": 0,
              "ticks": ""
             }
            },
            "type": "scattergeo"
           }
          ],
          "scattergl": [
           {
            "marker": {
             "colorbar": {
              "outlinewidth": 0,
              "ticks": ""
             }
            },
            "type": "scattergl"
           }
          ],
          "scattermapbox": [
           {
            "marker": {
             "colorbar": {
              "outlinewidth": 0,
              "ticks": ""
             }
            },
            "type": "scattermapbox"
           }
          ],
          "scatterpolar": [
           {
            "marker": {
             "colorbar": {
              "outlinewidth": 0,
              "ticks": ""
             }
            },
            "type": "scatterpolar"
           }
          ],
          "scatterpolargl": [
           {
            "marker": {
             "colorbar": {
              "outlinewidth": 0,
              "ticks": ""
             }
            },
            "type": "scatterpolargl"
           }
          ],
          "scatterternary": [
           {
            "marker": {
             "colorbar": {
              "outlinewidth": 0,
              "ticks": ""
             }
            },
            "type": "scatterternary"
           }
          ],
          "surface": [
           {
            "colorbar": {
             "outlinewidth": 0,
             "ticks": ""
            },
            "colorscale": [
             [
              0,
              "#0d0887"
             ],
             [
              0.1111111111111111,
              "#46039f"
             ],
             [
              0.2222222222222222,
              "#7201a8"
             ],
             [
              0.3333333333333333,
              "#9c179e"
             ],
             [
              0.4444444444444444,
              "#bd3786"
             ],
             [
              0.5555555555555556,
              "#d8576b"
             ],
             [
              0.6666666666666666,
              "#ed7953"
             ],
             [
              0.7777777777777778,
              "#fb9f3a"
             ],
             [
              0.8888888888888888,
              "#fdca26"
             ],
             [
              1,
              "#f0f921"
             ]
            ],
            "type": "surface"
           }
          ],
          "table": [
           {
            "cells": {
             "fill": {
              "color": "#EBF0F8"
             },
             "line": {
              "color": "white"
             }
            },
            "header": {
             "fill": {
              "color": "#C8D4E3"
             },
             "line": {
              "color": "white"
             }
            },
            "type": "table"
           }
          ]
         },
         "layout": {
          "annotationdefaults": {
           "arrowcolor": "#2a3f5f",
           "arrowhead": 0,
           "arrowwidth": 1
          },
          "autotypenumbers": "strict",
          "coloraxis": {
           "colorbar": {
            "outlinewidth": 0,
            "ticks": ""
           }
          },
          "colorscale": {
           "diverging": [
            [
             0,
             "#8e0152"
            ],
            [
             0.1,
             "#c51b7d"
            ],
            [
             0.2,
             "#de77ae"
            ],
            [
             0.3,
             "#f1b6da"
            ],
            [
             0.4,
             "#fde0ef"
            ],
            [
             0.5,
             "#f7f7f7"
            ],
            [
             0.6,
             "#e6f5d0"
            ],
            [
             0.7,
             "#b8e186"
            ],
            [
             0.8,
             "#7fbc41"
            ],
            [
             0.9,
             "#4d9221"
            ],
            [
             1,
             "#276419"
            ]
           ],
           "sequential": [
            [
             0,
             "#0d0887"
            ],
            [
             0.1111111111111111,
             "#46039f"
            ],
            [
             0.2222222222222222,
             "#7201a8"
            ],
            [
             0.3333333333333333,
             "#9c179e"
            ],
            [
             0.4444444444444444,
             "#bd3786"
            ],
            [
             0.5555555555555556,
             "#d8576b"
            ],
            [
             0.6666666666666666,
             "#ed7953"
            ],
            [
             0.7777777777777778,
             "#fb9f3a"
            ],
            [
             0.8888888888888888,
             "#fdca26"
            ],
            [
             1,
             "#f0f921"
            ]
           ],
           "sequentialminus": [
            [
             0,
             "#0d0887"
            ],
            [
             0.1111111111111111,
             "#46039f"
            ],
            [
             0.2222222222222222,
             "#7201a8"
            ],
            [
             0.3333333333333333,
             "#9c179e"
            ],
            [
             0.4444444444444444,
             "#bd3786"
            ],
            [
             0.5555555555555556,
             "#d8576b"
            ],
            [
             0.6666666666666666,
             "#ed7953"
            ],
            [
             0.7777777777777778,
             "#fb9f3a"
            ],
            [
             0.8888888888888888,
             "#fdca26"
            ],
            [
             1,
             "#f0f921"
            ]
           ]
          },
          "colorway": [
           "#636efa",
           "#EF553B",
           "#00cc96",
           "#ab63fa",
           "#FFA15A",
           "#19d3f3",
           "#FF6692",
           "#B6E880",
           "#FF97FF",
           "#FECB52"
          ],
          "font": {
           "color": "#2a3f5f"
          },
          "geo": {
           "bgcolor": "white",
           "lakecolor": "white",
           "landcolor": "#E5ECF6",
           "showlakes": true,
           "showland": true,
           "subunitcolor": "white"
          },
          "hoverlabel": {
           "align": "left"
          },
          "hovermode": "closest",
          "mapbox": {
           "style": "light"
          },
          "paper_bgcolor": "white",
          "plot_bgcolor": "#E5ECF6",
          "polar": {
           "angularaxis": {
            "gridcolor": "white",
            "linecolor": "white",
            "ticks": ""
           },
           "bgcolor": "#E5ECF6",
           "radialaxis": {
            "gridcolor": "white",
            "linecolor": "white",
            "ticks": ""
           }
          },
          "scene": {
           "xaxis": {
            "backgroundcolor": "#E5ECF6",
            "gridcolor": "white",
            "gridwidth": 2,
            "linecolor": "white",
            "showbackground": true,
            "ticks": "",
            "zerolinecolor": "white"
           },
           "yaxis": {
            "backgroundcolor": "#E5ECF6",
            "gridcolor": "white",
            "gridwidth": 2,
            "linecolor": "white",
            "showbackground": true,
            "ticks": "",
            "zerolinecolor": "white"
           },
           "zaxis": {
            "backgroundcolor": "#E5ECF6",
            "gridcolor": "white",
            "gridwidth": 2,
            "linecolor": "white",
            "showbackground": true,
            "ticks": "",
            "zerolinecolor": "white"
           }
          },
          "shapedefaults": {
           "line": {
            "color": "#2a3f5f"
           }
          },
          "ternary": {
           "aaxis": {
            "gridcolor": "white",
            "linecolor": "white",
            "ticks": ""
           },
           "baxis": {
            "gridcolor": "white",
            "linecolor": "white",
            "ticks": ""
           },
           "bgcolor": "#E5ECF6",
           "caxis": {
            "gridcolor": "white",
            "linecolor": "white",
            "ticks": ""
           }
          },
          "title": {
           "x": 0.05
          },
          "xaxis": {
           "automargin": true,
           "gridcolor": "white",
           "linecolor": "white",
           "ticks": "",
           "title": {
            "standoff": 15
           },
           "zerolinecolor": "white",
           "zerolinewidth": 2
          },
          "yaxis": {
           "automargin": true,
           "gridcolor": "white",
           "linecolor": "white",
           "ticks": "",
           "title": {
            "standoff": 15
           },
           "zerolinecolor": "white",
           "zerolinewidth": 2
          }
         }
        },
        "width": 1000
       }
      }
     },
     "metadata": {}
    }
   ],
   "source": [
    " parallel_coordinates()"
   ]
  },
  {
   "cell_type": "code",
   "execution_count": 18,
   "metadata": {},
   "outputs": [
    {
     "output_type": "display_data",
     "data": {
      "application/vnd.plotly.v1+json": {
       "config": {
        "plotlyServerURL": "https://plot.ly"
       },
       "data": [
        {
         "branchvalues": "total",
         "customdata": [
          [
           1239
          ],
          [
           1529.9999999999998
          ],
          [
           2324
          ],
          [
           2971
          ],
          [
           3527.9999999999995
          ],
          [
           3739.0000000000005
          ],
          [
           4390
          ],
          [
           2324
          ],
          [
           3528
          ],
          [
           4390
          ],
          [
           1239
          ],
          [
           1530
          ],
          [
           2324
          ],
          [
           3528
          ],
          [
           1239
          ],
          [
           1530
          ],
          [
           2324
          ],
          [
           2971
          ],
          [
           3528
          ],
          [
           3739
          ],
          [
           4390
          ],
          [
           1239
          ],
          [
           1530
          ],
          [
           2324
          ],
          [
           2971
          ],
          [
           3528
          ],
          [
           3739
          ],
          [
           4390
          ],
          [
           1239
          ],
          [
           1530
          ],
          [
           2324
          ],
          [
           2971
          ],
          [
           3528
          ],
          [
           null
          ],
          [
           4390
          ],
          [
           1239
          ],
          [
           1530
          ],
          [
           3528
          ],
          [
           1239
          ],
          [
           1530
          ],
          [
           2324.0000000000005
          ],
          [
           2971
          ],
          [
           3527.9999999999995
          ],
          [
           3739
          ],
          [
           4390
          ],
          [
           1239
          ],
          [
           1530
          ],
          [
           2324
          ],
          [
           2971
          ],
          [
           3528
          ],
          [
           3739.0000000000005
          ],
          [
           3527.9999999999995
          ],
          [
           4390
          ],
          [
           1238.9999999999998
          ],
          [
           1530
          ],
          [
           2324.0000000000005
          ],
          [
           2970.9999999999995
          ],
          [
           3528.0000000000005
          ],
          [
           null
          ],
          [
           4390
          ]
         ],
         "domain": {
          "x": [
           0,
           1
          ],
          "y": [
           0,
           1
          ]
         },
         "hovertemplate": "labels=%{label}<br>sale_price_sqr_foot=%{value}<br>parent=%{parent}<br>id=%{id}<br>gross_rent=%{color}<extra></extra>",
         "ids": [
          "2010/Cow Hollow",
          "2011/Cow Hollow",
          "2012/Cow Hollow",
          "2013/Cow Hollow",
          "2014/Cow Hollow",
          "2015/Cow Hollow",
          "2016/Cow Hollow",
          "2012/Merced Heights",
          "2014/Merced Heights",
          "2016/Merced Heights",
          "2010/Miraloma Park",
          "2011/Miraloma Park",
          "2012/Miraloma Park",
          "2014/Miraloma Park",
          "2010/Pacific Heights",
          "2011/Pacific Heights",
          "2012/Pacific Heights",
          "2013/Pacific Heights",
          "2014/Pacific Heights",
          "2015/Pacific Heights",
          "2016/Pacific Heights",
          "2010/Potrero Hill",
          "2011/Potrero Hill",
          "2012/Potrero Hill",
          "2013/Potrero Hill",
          "2014/Potrero Hill",
          "2015/Potrero Hill",
          "2016/Potrero Hill",
          "2010/Presidio Heights",
          "2011/Presidio Heights",
          "2012/Presidio Heights",
          "2013/Presidio Heights",
          "2014/Presidio Heights",
          "2015/Presidio Heights",
          "2016/Presidio Heights",
          "2010/South Beach",
          "2011/South Beach",
          "2014/South Beach",
          "2010/Telegraph Hill",
          "2011/Telegraph Hill",
          "2012/Telegraph Hill",
          "2013/Telegraph Hill",
          "2014/Telegraph Hill",
          "2015/Telegraph Hill",
          "2016/Telegraph Hill",
          "2010/Union Square District",
          "2011/Union Square District",
          "2012/Union Square District",
          "2013/Union Square District",
          "2014/Union Square District",
          "2015/Union Square District",
          "2014/Westwood Park",
          "2016/Westwood Park",
          "2010",
          "2011",
          "2012",
          "2013",
          "2014",
          "2015",
          "2016"
         ],
         "labels": [
          "Cow Hollow",
          "Cow Hollow",
          "Cow Hollow",
          "Cow Hollow",
          "Cow Hollow",
          "Cow Hollow",
          "Cow Hollow",
          "Merced Heights",
          "Merced Heights",
          "Merced Heights",
          "Miraloma Park",
          "Miraloma Park",
          "Miraloma Park",
          "Miraloma Park",
          "Pacific Heights",
          "Pacific Heights",
          "Pacific Heights",
          "Pacific Heights",
          "Pacific Heights",
          "Pacific Heights",
          "Pacific Heights",
          "Potrero Hill",
          "Potrero Hill",
          "Potrero Hill",
          "Potrero Hill",
          "Potrero Hill",
          "Potrero Hill",
          "Potrero Hill",
          "Presidio Heights",
          "Presidio Heights",
          "Presidio Heights",
          "Presidio Heights",
          "Presidio Heights",
          "Presidio Heights",
          "Presidio Heights",
          "South Beach",
          "South Beach",
          "South Beach",
          "Telegraph Hill",
          "Telegraph Hill",
          "Telegraph Hill",
          "Telegraph Hill",
          "Telegraph Hill",
          "Telegraph Hill",
          "Telegraph Hill",
          "Union Square District",
          "Union Square District",
          "Union Square District",
          "Union Square District",
          "Union Square District",
          "Union Square District",
          "Westwood Park",
          "Westwood Park",
          "2010",
          "2011",
          "2012",
          "2013",
          "2014",
          "2015",
          "2016"
         ],
         "marker": {
          "coloraxis": "coloraxis",
          "colors": [
           1239,
           1529.9999999999998,
           2324,
           2971,
           3527.9999999999995,
           3739.0000000000005,
           4390,
           2324,
           3528,
           4390,
           1239,
           1530,
           2324,
           3528,
           1239,
           1530,
           2324,
           2971,
           3528,
           3739,
           4390,
           1239,
           1530,
           2324,
           2971,
           3528,
           3739,
           4390,
           1239,
           1530,
           2324,
           2971,
           3528,
           null,
           4390,
           1239,
           1530,
           3528,
           1239,
           1530,
           2324.0000000000005,
           2971,
           3527.9999999999995,
           3739,
           4390,
           1239,
           1530,
           2324,
           2971,
           3528,
           3739.0000000000005,
           3527.9999999999995,
           4390,
           1238.9999999999998,
           1530,
           2324.0000000000005,
           2970.9999999999995,
           3528.0000000000005,
           null,
           4390
          ]
         },
         "name": "",
         "parents": [
          "2010",
          "2011",
          "2012",
          "2013",
          "2014",
          "2015",
          "2016",
          "2012",
          "2014",
          "2016",
          "2010",
          "2011",
          "2012",
          "2014",
          "2010",
          "2011",
          "2012",
          "2013",
          "2014",
          "2015",
          "2016",
          "2010",
          "2011",
          "2012",
          "2013",
          "2014",
          "2015",
          "2016",
          "2010",
          "2011",
          "2012",
          "2013",
          "2014",
          "2015",
          "2016",
          "2010",
          "2011",
          "2014",
          "2010",
          "2011",
          "2012",
          "2013",
          "2014",
          "2015",
          "2016",
          "2010",
          "2011",
          "2012",
          "2013",
          "2014",
          "2015",
          "2014",
          "2016",
          "",
          "",
          "",
          "",
          "",
          "",
          ""
         ],
         "type": "sunburst",
         "values": [
          569.3799679261333,
          390.5956530284181,
          644.8183066758803,
          707.4028088888208,
          691.8654114838455,
          598.6205414959003,
          1059.0656015492618,
          421.1412447061912,
          528.7265413888829,
          1416.666666666667,
          680.6087291389301,
          414.67606477603755,
          756.1923725098497,
          1267.7662026328826,
          496.51601414694983,
          509.0214800287398,
          586.2182148097696,
          503.89926133005366,
          824.6586936349588,
          910.1876901656897,
          996.3893635634033,
          491.45000385678617,
          503.13850456030497,
          466.6478402167172,
          598.704795328917,
          1045.2015459222662,
          821.3009904764873,
          707.6516094320912,
          549.4179312485746,
          493.814917282618,
          426.60859207171325,
          512.8402484358223,
          603.4509968798565,
          0,
          1465.9685863874345,
          1037.0997886617895,
          388.6443367815385,
          524.6293121403909,
          524.7935090952678,
          483.4057725178001,
          465.80212163177373,
          653.3116166908643,
          708.1930316849231,
          996.9902204858653,
          903.0497705987848,
          569.1934475267735,
          302.12325280969134,
          445.1967876448791,
          1290.472106646641,
          558.2711194060469,
          2258.702831998355,
          742.9797231632554,
          631.1954258724091,
          4918.459391601205,
          3485.419981785148,
          4212.6254802667745,
          4266.6308373211195,
          7495.742578337307,
          5585.802274622298,
          7179.987024070052
         ]
        }
       ],
       "layout": {
        "coloraxis": {
         "colorbar": {
          "title": {
           "text": "gross_rent"
          }
         },
         "colorscale": [
          [
           0,
           "rgb(103,0,31)"
          ],
          [
           0.1,
           "rgb(178,24,43)"
          ],
          [
           0.2,
           "rgb(214,96,77)"
          ],
          [
           0.3,
           "rgb(244,165,130)"
          ],
          [
           0.4,
           "rgb(253,219,199)"
          ],
          [
           0.5,
           "rgb(247,247,247)"
          ],
          [
           0.6,
           "rgb(209,229,240)"
          ],
          [
           0.7,
           "rgb(146,197,222)"
          ],
          [
           0.8,
           "rgb(67,147,195)"
          ],
          [
           0.9,
           "rgb(33,102,172)"
          ],
          [
           1,
           "rgb(5,48,97)"
          ]
         ]
        },
        "legend": {
         "tracegroupgap": 0
        },
        "margin": {
         "t": 60
        },
        "template": {
         "data": {
          "bar": [
           {
            "error_x": {
             "color": "#2a3f5f"
            },
            "error_y": {
             "color": "#2a3f5f"
            },
            "marker": {
             "line": {
              "color": "#E5ECF6",
              "width": 0.5
             }
            },
            "type": "bar"
           }
          ],
          "barpolar": [
           {
            "marker": {
             "line": {
              "color": "#E5ECF6",
              "width": 0.5
             }
            },
            "type": "barpolar"
           }
          ],
          "carpet": [
           {
            "aaxis": {
             "endlinecolor": "#2a3f5f",
             "gridcolor": "white",
             "linecolor": "white",
             "minorgridcolor": "white",
             "startlinecolor": "#2a3f5f"
            },
            "baxis": {
             "endlinecolor": "#2a3f5f",
             "gridcolor": "white",
             "linecolor": "white",
             "minorgridcolor": "white",
             "startlinecolor": "#2a3f5f"
            },
            "type": "carpet"
           }
          ],
          "choropleth": [
           {
            "colorbar": {
             "outlinewidth": 0,
             "ticks": ""
            },
            "type": "choropleth"
           }
          ],
          "contour": [
           {
            "colorbar": {
             "outlinewidth": 0,
             "ticks": ""
            },
            "colorscale": [
             [
              0,
              "#0d0887"
             ],
             [
              0.1111111111111111,
              "#46039f"
             ],
             [
              0.2222222222222222,
              "#7201a8"
             ],
             [
              0.3333333333333333,
              "#9c179e"
             ],
             [
              0.4444444444444444,
              "#bd3786"
             ],
             [
              0.5555555555555556,
              "#d8576b"
             ],
             [
              0.6666666666666666,
              "#ed7953"
             ],
             [
              0.7777777777777778,
              "#fb9f3a"
             ],
             [
              0.8888888888888888,
              "#fdca26"
             ],
             [
              1,
              "#f0f921"
             ]
            ],
            "type": "contour"
           }
          ],
          "contourcarpet": [
           {
            "colorbar": {
             "outlinewidth": 0,
             "ticks": ""
            },
            "type": "contourcarpet"
           }
          ],
          "heatmap": [
           {
            "colorbar": {
             "outlinewidth": 0,
             "ticks": ""
            },
            "colorscale": [
             [
              0,
              "#0d0887"
             ],
             [
              0.1111111111111111,
              "#46039f"
             ],
             [
              0.2222222222222222,
              "#7201a8"
             ],
             [
              0.3333333333333333,
              "#9c179e"
             ],
             [
              0.4444444444444444,
              "#bd3786"
             ],
             [
              0.5555555555555556,
              "#d8576b"
             ],
             [
              0.6666666666666666,
              "#ed7953"
             ],
             [
              0.7777777777777778,
              "#fb9f3a"
             ],
             [
              0.8888888888888888,
              "#fdca26"
             ],
             [
              1,
              "#f0f921"
             ]
            ],
            "type": "heatmap"
           }
          ],
          "heatmapgl": [
           {
            "colorbar": {
             "outlinewidth": 0,
             "ticks": ""
            },
            "colorscale": [
             [
              0,
              "#0d0887"
             ],
             [
              0.1111111111111111,
              "#46039f"
             ],
             [
              0.2222222222222222,
              "#7201a8"
             ],
             [
              0.3333333333333333,
              "#9c179e"
             ],
             [
              0.4444444444444444,
              "#bd3786"
             ],
             [
              0.5555555555555556,
              "#d8576b"
             ],
             [
              0.6666666666666666,
              "#ed7953"
             ],
             [
              0.7777777777777778,
              "#fb9f3a"
             ],
             [
              0.8888888888888888,
              "#fdca26"
             ],
             [
              1,
              "#f0f921"
             ]
            ],
            "type": "heatmapgl"
           }
          ],
          "histogram": [
           {
            "marker": {
             "colorbar": {
              "outlinewidth": 0,
              "ticks": ""
             }
            },
            "type": "histogram"
           }
          ],
          "histogram2d": [
           {
            "colorbar": {
             "outlinewidth": 0,
             "ticks": ""
            },
            "colorscale": [
             [
              0,
              "#0d0887"
             ],
             [
              0.1111111111111111,
              "#46039f"
             ],
             [
              0.2222222222222222,
              "#7201a8"
             ],
             [
              0.3333333333333333,
              "#9c179e"
             ],
             [
              0.4444444444444444,
              "#bd3786"
             ],
             [
              0.5555555555555556,
              "#d8576b"
             ],
             [
              0.6666666666666666,
              "#ed7953"
             ],
             [
              0.7777777777777778,
              "#fb9f3a"
             ],
             [
              0.8888888888888888,
              "#fdca26"
             ],
             [
              1,
              "#f0f921"
             ]
            ],
            "type": "histogram2d"
           }
          ],
          "histogram2dcontour": [
           {
            "colorbar": {
             "outlinewidth": 0,
             "ticks": ""
            },
            "colorscale": [
             [
              0,
              "#0d0887"
             ],
             [
              0.1111111111111111,
              "#46039f"
             ],
             [
              0.2222222222222222,
              "#7201a8"
             ],
             [
              0.3333333333333333,
              "#9c179e"
             ],
             [
              0.4444444444444444,
              "#bd3786"
             ],
             [
              0.5555555555555556,
              "#d8576b"
             ],
             [
              0.6666666666666666,
              "#ed7953"
             ],
             [
              0.7777777777777778,
              "#fb9f3a"
             ],
             [
              0.8888888888888888,
              "#fdca26"
             ],
             [
              1,
              "#f0f921"
             ]
            ],
            "type": "histogram2dcontour"
           }
          ],
          "mesh3d": [
           {
            "colorbar": {
             "outlinewidth": 0,
             "ticks": ""
            },
            "type": "mesh3d"
           }
          ],
          "parcoords": [
           {
            "line": {
             "colorbar": {
              "outlinewidth": 0,
              "ticks": ""
             }
            },
            "type": "parcoords"
           }
          ],
          "pie": [
           {
            "automargin": true,
            "type": "pie"
           }
          ],
          "scatter": [
           {
            "marker": {
             "colorbar": {
              "outlinewidth": 0,
              "ticks": ""
             }
            },
            "type": "scatter"
           }
          ],
          "scatter3d": [
           {
            "line": {
             "colorbar": {
              "outlinewidth": 0,
              "ticks": ""
             }
            },
            "marker": {
             "colorbar": {
              "outlinewidth": 0,
              "ticks": ""
             }
            },
            "type": "scatter3d"
           }
          ],
          "scattercarpet": [
           {
            "marker": {
             "colorbar": {
              "outlinewidth": 0,
              "ticks": ""
             }
            },
            "type": "scattercarpet"
           }
          ],
          "scattergeo": [
           {
            "marker": {
             "colorbar": {
              "outlinewidth": 0,
              "ticks": ""
             }
            },
            "type": "scattergeo"
           }
          ],
          "scattergl": [
           {
            "marker": {
             "colorbar": {
              "outlinewidth": 0,
              "ticks": ""
             }
            },
            "type": "scattergl"
           }
          ],
          "scattermapbox": [
           {
            "marker": {
             "colorbar": {
              "outlinewidth": 0,
              "ticks": ""
             }
            },
            "type": "scattermapbox"
           }
          ],
          "scatterpolar": [
           {
            "marker": {
             "colorbar": {
              "outlinewidth": 0,
              "ticks": ""
             }
            },
            "type": "scatterpolar"
           }
          ],
          "scatterpolargl": [
           {
            "marker": {
             "colorbar": {
              "outlinewidth": 0,
              "ticks": ""
             }
            },
            "type": "scatterpolargl"
           }
          ],
          "scatterternary": [
           {
            "marker": {
             "colorbar": {
              "outlinewidth": 0,
              "ticks": ""
             }
            },
            "type": "scatterternary"
           }
          ],
          "surface": [
           {
            "colorbar": {
             "outlinewidth": 0,
             "ticks": ""
            },
            "colorscale": [
             [
              0,
              "#0d0887"
             ],
             [
              0.1111111111111111,
              "#46039f"
             ],
             [
              0.2222222222222222,
              "#7201a8"
             ],
             [
              0.3333333333333333,
              "#9c179e"
             ],
             [
              0.4444444444444444,
              "#bd3786"
             ],
             [
              0.5555555555555556,
              "#d8576b"
             ],
             [
              0.6666666666666666,
              "#ed7953"
             ],
             [
              0.7777777777777778,
              "#fb9f3a"
             ],
             [
              0.8888888888888888,
              "#fdca26"
             ],
             [
              1,
              "#f0f921"
             ]
            ],
            "type": "surface"
           }
          ],
          "table": [
           {
            "cells": {
             "fill": {
              "color": "#EBF0F8"
             },
             "line": {
              "color": "white"
             }
            },
            "header": {
             "fill": {
              "color": "#C8D4E3"
             },
             "line": {
              "color": "white"
             }
            },
            "type": "table"
           }
          ]
         },
         "layout": {
          "annotationdefaults": {
           "arrowcolor": "#2a3f5f",
           "arrowhead": 0,
           "arrowwidth": 1
          },
          "autotypenumbers": "strict",
          "coloraxis": {
           "colorbar": {
            "outlinewidth": 0,
            "ticks": ""
           }
          },
          "colorscale": {
           "diverging": [
            [
             0,
             "#8e0152"
            ],
            [
             0.1,
             "#c51b7d"
            ],
            [
             0.2,
             "#de77ae"
            ],
            [
             0.3,
             "#f1b6da"
            ],
            [
             0.4,
             "#fde0ef"
            ],
            [
             0.5,
             "#f7f7f7"
            ],
            [
             0.6,
             "#e6f5d0"
            ],
            [
             0.7,
             "#b8e186"
            ],
            [
             0.8,
             "#7fbc41"
            ],
            [
             0.9,
             "#4d9221"
            ],
            [
             1,
             "#276419"
            ]
           ],
           "sequential": [
            [
             0,
             "#0d0887"
            ],
            [
             0.1111111111111111,
             "#46039f"
            ],
            [
             0.2222222222222222,
             "#7201a8"
            ],
            [
             0.3333333333333333,
             "#9c179e"
            ],
            [
             0.4444444444444444,
             "#bd3786"
            ],
            [
             0.5555555555555556,
             "#d8576b"
            ],
            [
             0.6666666666666666,
             "#ed7953"
            ],
            [
             0.7777777777777778,
             "#fb9f3a"
            ],
            [
             0.8888888888888888,
             "#fdca26"
            ],
            [
             1,
             "#f0f921"
            ]
           ],
           "sequentialminus": [
            [
             0,
             "#0d0887"
            ],
            [
             0.1111111111111111,
             "#46039f"
            ],
            [
             0.2222222222222222,
             "#7201a8"
            ],
            [
             0.3333333333333333,
             "#9c179e"
            ],
            [
             0.4444444444444444,
             "#bd3786"
            ],
            [
             0.5555555555555556,
             "#d8576b"
            ],
            [
             0.6666666666666666,
             "#ed7953"
            ],
            [
             0.7777777777777778,
             "#fb9f3a"
            ],
            [
             0.8888888888888888,
             "#fdca26"
            ],
            [
             1,
             "#f0f921"
            ]
           ]
          },
          "colorway": [
           "#636efa",
           "#EF553B",
           "#00cc96",
           "#ab63fa",
           "#FFA15A",
           "#19d3f3",
           "#FF6692",
           "#B6E880",
           "#FF97FF",
           "#FECB52"
          ],
          "font": {
           "color": "#2a3f5f"
          },
          "geo": {
           "bgcolor": "white",
           "lakecolor": "white",
           "landcolor": "#E5ECF6",
           "showlakes": true,
           "showland": true,
           "subunitcolor": "white"
          },
          "hoverlabel": {
           "align": "left"
          },
          "hovermode": "closest",
          "mapbox": {
           "style": "light"
          },
          "paper_bgcolor": "white",
          "plot_bgcolor": "#E5ECF6",
          "polar": {
           "angularaxis": {
            "gridcolor": "white",
            "linecolor": "white",
            "ticks": ""
           },
           "bgcolor": "#E5ECF6",
           "radialaxis": {
            "gridcolor": "white",
            "linecolor": "white",
            "ticks": ""
           }
          },
          "scene": {
           "xaxis": {
            "backgroundcolor": "#E5ECF6",
            "gridcolor": "white",
            "gridwidth": 2,
            "linecolor": "white",
            "showbackground": true,
            "ticks": "",
            "zerolinecolor": "white"
           },
           "yaxis": {
            "backgroundcolor": "#E5ECF6",
            "gridcolor": "white",
            "gridwidth": 2,
            "linecolor": "white",
            "showbackground": true,
            "ticks": "",
            "zerolinecolor": "white"
           },
           "zaxis": {
            "backgroundcolor": "#E5ECF6",
            "gridcolor": "white",
            "gridwidth": 2,
            "linecolor": "white",
            "showbackground": true,
            "ticks": "",
            "zerolinecolor": "white"
           }
          },
          "shapedefaults": {
           "line": {
            "color": "#2a3f5f"
           }
          },
          "ternary": {
           "aaxis": {
            "gridcolor": "white",
            "linecolor": "white",
            "ticks": ""
           },
           "baxis": {
            "gridcolor": "white",
            "linecolor": "white",
            "ticks": ""
           },
           "bgcolor": "#E5ECF6",
           "caxis": {
            "gridcolor": "white",
            "linecolor": "white",
            "ticks": ""
           }
          },
          "title": {
           "x": 0.05
          },
          "xaxis": {
           "automargin": true,
           "gridcolor": "white",
           "linecolor": "white",
           "ticks": "",
           "title": {
            "standoff": 15
           },
           "zerolinecolor": "white",
           "zerolinewidth": 2
          },
          "yaxis": {
           "automargin": true,
           "gridcolor": "white",
           "linecolor": "white",
           "ticks": "",
           "title": {
            "standoff": 15
           },
           "zerolinecolor": "white",
           "zerolinewidth": 2
          }
         }
        }
       }
      }
     },
     "metadata": {}
    }
   ],
   "source": [
    " sunburst()"
   ]
  },
  {
   "cell_type": "code",
   "execution_count": null,
   "metadata": {},
   "outputs": [],
   "source": []
  }
 ],
 "metadata": {
  "file_extension": ".py",
  "kernelspec": {
   "name": "python3",
   "display_name": "Python 3.7.9 64-bit ('dev': conda)",
   "metadata": {
    "interpreter": {
     "hash": "14e700c8c65771060546078a9c81242580c9c3fa3f1f0cc384591156767d8e1b"
    }
   }
  },
  "language_info": {
   "codemirror_mode": {
    "name": "ipython",
    "version": 3
   },
   "file_extension": ".py",
   "mimetype": "text/x-python",
   "name": "python",
   "nbconvert_exporter": "python",
   "pygments_lexer": "ipython3",
   "version": "3.7.9-final"
  },
  "mimetype": "text/x-python",
  "name": "python",
  "npconvert_exporter": "python",
  "pygments_lexer": "ipython3",
  "version": 3
 },
 "nbformat": 4,
 "nbformat_minor": 4
}