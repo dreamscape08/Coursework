{
 "cells": [
  {
   "cell_type": "markdown",
   "metadata": {},
   "source": [
    "# San Francisco Housing Cost Analysis\n",
    "\n",
    "In this assignment, you will perform fundamental analysis for the San Francisco housing market to allow potential real estate investors to choose rental investment properties."
   ]
  },
  {
   "cell_type": "code",
   "execution_count": null,
   "metadata": {},
   "outputs": [],
   "source": [
    "# imports\n",
    "import panel as pn\n",
    "pn.extension('plotly')\n",
    "import plotly.express as px\n",
    "import pandas as pd\n",
    "import hvplot.pandas\n",
    "import matplotlib.pyplot as plt\n",
    "import numpy as np\n",
    "import os\n",
    "from pathlib import Path\n",
    "from dotenv import load_dotenv\n",
    "import warnings\n",
    "warnings.filterwarnings('ignore')"
   ]
  },
  {
   "cell_type": "code",
   "execution_count": null,
   "metadata": {},
   "outputs": [],
   "source": [
    "# Read the Mapbox API key\n",
    "load_dotenv()\n",
    "map_box_api = os.getenv(\"mapbox\")"
   ]
  },
  {
   "cell_type": "markdown",
   "metadata": {},
   "source": [
    "## Load Data"
   ]
  },
  {
   "cell_type": "code",
   "execution_count": null,
   "metadata": {},
   "outputs": [],
   "source": [
    "# Read the census data into a Pandas DataFrame\n",
    "file_path = Path(\"Data/sfo_neighborhoods_census_data.csv\")\n",
    "sfo_data = pd.read_csv(file_path, index_col=\"year\")\n",
    "sfo_data.info()"
   ]
  },
  {
   "cell_type": "markdown",
   "metadata": {},
   "source": [
    "- - - "
   ]
  },
  {
   "cell_type": "markdown",
   "metadata": {},
   "source": [
    "## Housing Units Per Year\n",
    "\n",
    "In this section, you will calculate the number of housing units per year and visualize the results as a bar chart using the Pandas plot function.\n",
    "\n",
    "**Hint:** Use the Pandas `groupby` function.\n",
    "\n",
    "**Optional challenge:** Use the min, max, and std to scale the y limits of the chart.\n",
    "\n"
   ]
  },
  {
   "cell_type": "code",
   "execution_count": null,
   "metadata": {},
   "outputs": [],
   "source": [
    "# Calculate the mean number of housing units per year (hint: use groupby)\n",
    "# Refresh on Pandas.Series Attributes(https://pandas.pydata.org/pandas-docs/stable/reference/api/pandas.Series.html) \n",
    "units_per_year=sfo_data.groupby(sfo_data.index).mean()\n",
    "peryearsold=units_per_year['housing_units']\n",
    "units_per_year"
   ]
  },
  {
   "cell_type": "code",
   "execution_count": null,
   "metadata": {},
   "outputs": [],
   "source": [
    "# Save the dataframe as a csv file\n",
    "peryearsold.to_csv('peryearsold.csv',header=True)"
   ]
  },
  {
   "cell_type": "code",
   "execution_count": null,
   "metadata": {},
   "outputs": [],
   "source": [
    "# Use the Pandas plot function to plot the average housing units per year.\n",
    "peryearsold.plot.bar(ylim=(370000,385000)\n",
    "                    , title='Housing Units in San Fransisco from 10\\'-16\\''\n",
    "                    , ylabel= \"Units Sold\"\n",
    "                    , xlabel='Year'\n",
    "                    , rot=0\n",
    "                    , grid=False\n",
    "                    , figsize=(5,5)\n",
    "                    )\n",
    "# Optional Challenge: Use the min, max, and std to scale the y limits of the chart"
   ]
  },
  {
   "cell_type": "markdown",
   "metadata": {},
   "source": [
    "- - - "
   ]
  },
  {
   "source": [
    "## Average Housing Costs in San Francisco Per Year\n",
    "\n",
    "In this section, you will calculate the average monthly rent and the average price per square foot for each year. An investor may wish to better understand the sales price of the rental property over time. For example, a customer will want to know if they should expect an increase or decrease in the property value over time so they can determine how long to hold the rental property.  Plot the results as two line charts.\n",
    "\n",
    "**Optional challenge:** Plot each line chart in a different color."
   ],
   "cell_type": "markdown",
   "metadata": {}
  },
  {
   "cell_type": "code",
   "execution_count": null,
   "metadata": {},
   "outputs": [],
   "source": [
    "# Calculate the average sale price per square foot and average gross rent\n",
    "avghousingdf=units_per_year.drop(columns='housing_units')\n",
    "avghousingdf"
   ]
  },
  {
   "cell_type": "code",
   "execution_count": null,
   "metadata": {},
   "outputs": [],
   "source": [
    "# Create two line charts, one to plot the average sale price per square foot and another for average montly rent\n",
    "saleplot=avghousingdf['sale_price_sqr_foot'].plot.line(\n",
    "                     title='Yearly Price per Sqft Average'\n",
    "                    , ylabel='Price per SqFt'\n",
    "                    , xlabel='Year'\n",
    "                    , rot=0\n",
    "                    , lw=2\n",
    "                    , grid=True\n",
    "                    , figsize=(5,5)\n",
    "                    , xlim=(2010,2016)\n",
    "                                        )\n",
    "# Line chart for average sale price per square foot\n",
    "# YOUR CODE HERE!\n",
    "\n",
    "\n",
    "# Line chart for average montly rent\n",
    "\n",
    "             "
   ]
  },
  {
   "cell_type": "code",
   "execution_count": null,
   "metadata": {},
   "outputs": [],
   "source": [
    "rentplot=avghousingdf['gross_rent'].plot.line(title='Monthly Gross Rent Average'\n",
    "                    , ylabel='Price per Month'\n",
    "                    , xlabel='Year'\n",
    "                    , rot=0\n",
    "                    , grid=True\n",
    "                    , lw=2\n",
    "                    , figsize=(5,5)\n",
    "                    , color='r'\n",
    "                    , xlim=(2010,2016))"
   ]
  },
  {
   "cell_type": "markdown",
   "metadata": {},
   "source": [
    "- - - "
   ]
  },
  {
   "cell_type": "markdown",
   "metadata": {},
   "source": [
    "## Average Prices by Neighborhood\n",
    "\n",
    "In this section, you will use hvplot to create two interactive visulizations of average prices with a dropdown selector for the neighborhood. The first visualization will be a line plot showing the trend of average price per square foot over time for each neighborhood.  The second will be a line plot showing the trend of average montly rent over time for each neighborhood.\n",
    "\n",
    "**Hint:** It will be easier to create a new DataFrame from grouping the data and calculating the mean prices for each year and neighborhood"
   ]
  },
  {
   "cell_type": "code",
   "execution_count": null,
   "metadata": {},
   "outputs": [],
   "source": [
    "# Group by year and neighborhood and then create a new dataframe of the mean values\n",
    "year_neighborhood=sfo_data.groupby(['year','neighborhood']).mean()\n",
    "yearly_neighborhood=year_neighborhood.drop(columns='housing_units')\n",
    "yearly_neighborhood.dropna().head(10)"
   ]
  },
  {
   "cell_type": "code",
   "execution_count": null,
   "metadata": {},
   "outputs": [],
   "source": [
    "# Use hvplot to create an interactive line chart of the average price per sqft.\n",
    "# The plot should have a dropdown selector for the neighborhood\n",
    "# YOUR CODE HERE!\n",
    "yearly_neighborhood.hvplot.line(\n",
    "      y='sale_price_sqr_foot'\n",
    "    , x='year'\n",
    "    , subplots=False\n",
    "    # by='year'\n",
    "    , groupby=['neighborhood']\n",
    "    , ylim=(0,2500)\n",
    "    , dynamic=False\n",
    "    , height=500\n",
    "    , hover_cols='one')\n"
   ]
  },
  {
   "source": [
    "# Use hvplot to create an interactive line chart of the average monthly rent.\n",
    "# The plot should have a dropdown selector for the neighborhood\n",
    "yearly_neighborhood.hvplot.line(\n",
    "      y='gross_rent'\n",
    "    , x='year'\n",
    "    , subplots=False\n",
    "    # by='year'\n",
    "    , groupby=['neighborhood']\n",
    "    , ylim=(0,5000)\n",
    "    , xlim=('2010','2017')\n",
    "    , dynamic=False\n",
    "    , height=500\n",
    "    , hover_cols='one')"
   ],
   "cell_type": "code",
   "metadata": {},
   "execution_count": null,
   "outputs": []
  },
  {
   "cell_type": "markdown",
   "metadata": {},
   "source": [
    "## The Top 10 Most Expensive Neighborhoods\n",
    "\n",
    "In this section, you will need to calculate the mean sale price per square foot for each neighborhood and then sort the values to obtain the top 10 most expensive neighborhoods on average. Plot the results as a bar chart."
   ]
  },
  {
   "cell_type": "code",
   "execution_count": null,
   "metadata": {},
   "outputs": [],
   "source": [
    "# Getting the data from the top 10 expensive neighborhoods to own\n",
    "top10owned=yearly_neighborhood.groupby('neighborhood').mean().sort_values('sale_price_sqr_foot',ascending=False).head(10).drop(columns='gross_rent')\n",
    "top10owned\n",
    "\n"
   ]
  },
  {
   "cell_type": "code",
   "execution_count": null,
   "metadata": {},
   "outputs": [],
   "source": [
    "# Plotting the data from the top 10 expensive neighborhoods\n",
    "top10owned.hvplot(kind='bar',color='blue',rot=90,title='Top 10 Expensive Neighborhoods in SFO',ylabel='Avg. Sale Price Per Sqft',x='neighborhood',ylim=(600,900))\n"
   ]
  },
  {
   "cell_type": "markdown",
   "metadata": {},
   "source": [
    "- - - "
   ]
  },
  {
   "cell_type": "markdown",
   "metadata": {},
   "source": [
    "## Comparing cost to purchase versus rental income\n",
    "\n",
    "In this section, you will use `hvplot` to create an interactive visualization with a dropdown selector for the neighborhood. This visualization will feature a side-by-side comparison of average price per square foot versus average montly rent by year.  \n",
    "\n",
    "**Hint:** Use the `hvplot` parameter, `groupby`, to create a dropdown selector for the neighborhood."
   ]
  },
  {
   "cell_type": "code",
   "execution_count": null,
   "metadata": {},
   "outputs": [],
   "source": [
    "# Group by year and neighborhood and then create a new dataframe of the mean values\n",
    "#year_neighborhood=sfo_data.groupby(['neighborhood','year']).mean()\n",
    "#yearly_neighborhood=year_neighborhood.drop(columns='housing_units')\n",
    "#yearly_neighborhood.dropna().head(10)\n",
    "#year_neighborhood.head()\n",
    "##_______\n",
    "#df_expensive_n##_____\n",
    "\n",
    "#lis3=top10owned.index.to_list()\n",
    "#df_expensive_neighborhoods_per_year = year_neighborhood[year_neighborhood['neighborhood'].isin(top10owned.index)]\n",
    "#df_expensive_neighborhoods_per_year.head()\n",
    "#year_neighborhood.hvplot(groupby='neighborhood',y=('gross_rent','sale_price_sqr_foot'),dynamic=False)"
   ]
  },
  {
   "cell_type": "code",
   "execution_count": null,
   "metadata": {},
   "outputs": [],
   "source": [
    "# Fetch the previously generated DataFrame that was grouped by year and neighborhood\n",
    "# Plotting the data from the top 10 expensive neighborhoodsin\n",
    "top10yearly = sfo_data[sfo_data[\"neighborhood\"].isin(top10owned.index)].drop(columns='housing_units')\n",
    "top10yearly.hvplot(kind='bar',color='blue',rot=90,title='Top 10 Expensive Neighborhoods in SFO',ylabel='Avg Price SQFT/ Monthly Rent',x='year',y=(['sale_price_sqr_foot','gross_rent']),groupby='neighborhood',dynamic=False)\n"
   ]
  },
  {
   "cell_type": "code",
   "execution_count": null,
   "metadata": {},
   "outputs": [],
   "source": [
    "# Fetch the previously generated DataFrame that was grouped by year and neighborhood\n",
    "# Plotting the data from the top 10 expensive neighborhoodsin\n"
   ]
  },
  {
   "cell_type": "code",
   "execution_count": null,
   "metadata": {},
   "outputs": [],
   "source": [
    "# Plotting the data from the top 10 expensive neighborhoodsin\n",
    "\n",
    "\n"
   ]
  },
  {
   "cell_type": "markdown",
   "metadata": {},
   "source": [
    "- - - "
   ]
  },
  {
   "cell_type": "markdown",
   "metadata": {},
   "source": [
    "## Neighborhood Map\n",
    "\n",
    "In this section, you will read in neighborhoods location data and build an interactive map with the average house value per neighborhood. Use a `scatter_mapbox` from Plotly express to create the visualization. Remember, you will need your Mapbox API key for this."
   ]
  },
  {
   "cell_type": "markdown",
   "metadata": {},
   "source": [
    "### Load Location Data"
   ]
  },
  {
   "cell_type": "code",
   "execution_count": null,
   "metadata": {},
   "outputs": [],
   "source": [
    "# Load neighborhoods coordinates data\n",
    "filepath=Path('Data/neighborhoods_coordinates.csv')\n",
    "data=pd.read_csv(filepath,index_col='Neighborhood')"
   ]
  },
  {
   "cell_type": "markdown",
   "metadata": {},
   "source": [
    "### Data Preparation\n",
    "\n",
    "You will need to join the location data with the mean values per neighborhood.\n",
    "\n",
    "1. Calculate the mean values for each neighborhood.\n",
    "\n",
    "2. Join the average values with the neighborhood locations."
   ]
  },
  {
   "cell_type": "code",
   "execution_count": null,
   "metadata": {},
   "outputs": [],
   "source": [
    "# Calculate the mean values for each neighborhood\n",
    "plotdata=sfo_data.groupby(['neighborhood']).mean()"
   ]
  },
  {
   "cell_type": "code",
   "execution_count": null,
   "metadata": {},
   "outputs": [],
   "source": [
    "# Join the average values with the neighborhood locations\n",
    "plotdata=pd.concat([plotdata,data],axis='columns',join='outer')\n",
    "plotdata.reset_index(inplace=True)\n",
    "\n",
    "\n",
    "\n",
    " \n"
   ]
  },
  {
   "source": [
    "### Mapbox Visualization\n",
    "\n",
    "Plot the average values per neighborhood using a Plotly express `scatter_mapbox` visualization."
   ],
   "cell_type": "markdown",
   "metadata": {}
  },
  {
   "cell_type": "code",
   "execution_count": null,
   "metadata": {},
   "outputs": [],
   "source": [
    "plotdata=plotdata.dropna()\n"
   ]
  },
  {
   "cell_type": "code",
   "execution_count": null,
   "metadata": {},
   "outputs": [],
   "source": [
    "\n",
    "# Set the Mapbox API\n",
    "px.set_mapbox_access_token(map_box_api)\n",
    "\n",
    "# Create a scatter mapbox to analyze neighborhood info\n",
    "map_box = px.scatter_mapbox(\n",
    "    plotdata,\n",
    "    lat=\"Lat\",\n",
    "    lon=\"Lon\",\n",
    "    size=\"gross_rent\",\n",
    "    color=\"index\",\n",
    "    zoom=10\n",
    ")\n",
    "map_box.update_layout(\n",
    "    mapbox_style=\"streets\")\n",
    "map_box.show()"
   ]
  },
  {
   "cell_type": "markdown",
   "metadata": {},
   "source": [
    "- - -"
   ]
  },
  {
   "cell_type": "markdown",
   "metadata": {},
   "source": [
    "## Cost Analysis - Optional Challenge\n",
    "\n",
    "In this section, you will use Plotly express to create visualizations that investors can use to interactively filter and explore various factors related to the house value of the San Francisco's neighborhoods. \n",
    "\n",
    "### Create a DataFrame showing the most expensive neighborhoods in San Francisco by year"
   ]
  },
  {
   "cell_type": "code",
   "execution_count": null,
   "metadata": {},
   "outputs": [],
   "source": [
    "# Fetch the data from all expensive neighborhoods per year.\n",
    "top10yearlyfull = sfo_data[sfo_data[\"neighborhood\"].isin(top10owned.index)]\n",
    "top=top10yearlyfull.groupby('neighborhood').mean().reset_index()\n"
   ]
  },
  {
   "cell_type": "markdown",
   "metadata": {},
   "source": [
    "### Create a parallel coordinates plot and parallel categories plot of most expensive neighborhoods in San Francisco per year\n"
   ]
  },
  {
   "cell_type": "code",
   "execution_count": null,
   "metadata": {},
   "outputs": [],
   "source": [
    "# Parallel Categories Plot\n",
    "px.parallel_coordinates(top,color=top.index, width = 1000, height = 500)"
   ]
  },
  {
   "cell_type": "code",
   "execution_count": null,
   "metadata": {},
   "outputs": [],
   "source": [
    "# Parallel Coordinates Plot\n",
    "px.parallel_categories(top,color='sale_price_sqr_foot',)"
   ]
  },
  {
   "cell_type": "markdown",
   "metadata": {},
   "source": [
    "### Create a sunburst chart to conduct a costs analysis of most expensive neighborhoods in San Francisco per year"
   ]
  },
  {
   "cell_type": "code",
   "execution_count": null,
   "metadata": {},
   "outputs": [],
   "source": [
    "# Sunburst Plot\n",
    "sunburstdata=top10yearly.reset_index()\n",
    "#pxpx.sunburst(sunburstdata,names='index',parents='neighborhood',values='sale_price_sqr_foot')\n",
    "px.sunburst(sunburstdata,path=['year','neighborhood'],values='sale_price_sqr_foot',color='gross_rent',color_continuous_scale='RdBu'\n",
    ")"
   ]
  },
  {
   "cell_type": "code",
   "execution_count": null,
   "metadata": {},
   "outputs": [],
   "source": []
  }
 ],
 "metadata": {
  "file_extension": ".py",
  "kernelspec": {
   "name": "python3",
   "display_name": "Python 3",
   "language": "python"
  },
  "language_info": {
   "codemirror_mode": {
    "name": "ipython",
    "version": 3
   },
   "file_extension": ".py",
   "mimetype": "text/x-python",
   "name": "python",
   "nbconvert_exporter": "python",
   "pygments_lexer": "ipython3",
   "version": "3.8.5-final"
  },
  "mimetype": "text/x-python",
  "name": "python",
  "npconvert_exporter": "python",
  "pygments_lexer": "ipython3",
  "version": 3
 },
 "nbformat": 4,
 "nbformat_minor": 4
}