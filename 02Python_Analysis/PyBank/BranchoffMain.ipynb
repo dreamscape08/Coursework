{
 "metadata": {
  "language_info": {
   "codemirror_mode": {
    "name": "ipython",
    "version": 3
   },
   "file_extension": ".py",
   "mimetype": "text/x-python",
   "name": "python",
   "nbconvert_exporter": "python",
   "pygments_lexer": "ipython3",
   "version": "3.8.5-final"
  },
  "orig_nbformat": 2,
  "kernelspec": {
   "name": "python3",
   "display_name": "Python 3",
   "language": "python"
  }
 },
 "nbformat": 4,
 "nbformat_minor": 2,
 "cells": [
  {
   "cell_type": "code",
   "execution_count": 1,
   "metadata": {},
   "outputs": [],
   "source": [
    "#Import libaries\n",
    "from pathlib import Path\n",
    "import csv"
   ]
  },
  {
   "cell_type": "code",
   "execution_count": null,
   "metadata": {},
   "outputs": [],
   "source": [
    "#Set the file path\n",
    "csvpath = Path('budget_data.csv')"
   ]
  },
  {
   "cell_type": "code",
   "execution_count": null,
   "metadata": {},
   "outputs": [],
   "source": [
    "#Start a Dictionary to hold our data\n",
    "bank_logs = {}"
   ]
  },
  {
   "cell_type": "code",
   "execution_count": 10,
   "metadata": {},
   "outputs": [
    {
     "output_type": "stream",
     "name": "stdout",
     "text": [
      "['Date', 'Profit/Losses']\n['Jan-2010', '867884']\n['Feb-2010', '984655']\n['Mar-2010', '322013']\n['Apr-2010', '-69417']\n['May-2010', '310503']\n['Jun-2010', '522857']\n['Jul-2010', '1033096']\n['Aug-2010', '604885']\n['Sep-2010', '-216386']\n['Oct-2010', '477532']\n['Nov-2010', '893810']\n['Dec-2010', '-80353']\n['Jan-2011', '779806']\n['Feb-2011', '-335203']\n['Mar-2011', '697845']\n['Apr-2011', '793163']\n['May-2011', '485070']\n['Jun-2011', '584122']\n['Jul-2011', '62729']\n['Aug-2011', '668179']\n['Sep-2011', '899906']\n['Oct-2011', '834719']\n['Nov-2011', '132003']\n['Dec-2011', '309978']\n['Jan-2012', '-755566']\n['Feb-2012', '1170593']\n['Mar-2012', '252788']\n['Apr-2012', '1151518']\n['May-2012', '817256']\n['Jun-2012', '570757']\n['Jul-2012', '506702']\n['Aug-2012', '-1022534']\n['Sep-2012', '475062']\n['Oct-2012', '779976']\n['Nov-2012', '144175']\n['Dec-2012', '542494']\n['Jan-2013', '359333']\n['Feb-2013', '321469']\n['Mar-2013', '67780']\n['Apr-2013', '471435']\n['May-2013', '565603']\n['Jun-2013', '872480']\n['Jul-2013', '789480']\n['Aug-2013', '999942']\n['Sep-2013', '-1196225']\n['Oct-2013', '268997']\n['Nov-2013', '-687986']\n['Dec-2013', '1150461']\n['Jan-2014', '682458']\n['Feb-2014', '617856']\n['Mar-2014', '824098']\n['Apr-2014', '581943']\n['May-2014', '132864']\n['Jun-2014', '448062']\n['Jul-2014', '689161']\n['Aug-2014', '800701']\n['Sep-2014', '1166643']\n['Oct-2014', '947333']\n['Nov-2014', '578668']\n['Dec-2014', '988505']\n['Jan-2015', '1139715']\n['Feb-2015', '1029471']\n['Mar-2015', '687533']\n['Apr-2015', '-524626']\n['May-2015', '158620']\n['Jun-2015', '87795']\n['Jul-2015', '423389']\n['Aug-2015', '840723']\n['Sep-2015', '568529']\n['Oct-2015', '332067']\n['Nov-2015', '989499']\n['Dec-2015', '778237']\n['Jan-2016', '650000']\n['Feb-2016', '-1100387']\n['Mar-2016', '-174946']\n['Apr-2016', '757143']\n['May-2016', '445709']\n['Jun-2016', '712961']\n['Jul-2016', '-1163797']\n['Aug-2016', '569899']\n['Sep-2016', '768450']\n['Oct-2016', '102685']\n['Nov-2016', '795914']\n['Dec-2016', '60988']\n['Jan-2017', '138230']\n['Feb-2017', '671099']\n"
     ]
    }
   ],
   "source": [
    "#Open the csv file as a read only object\n",
    "with open(csvpath, \"r\") as csvfile:\n",
    "    #pass the csv file into the csv.reader () function \n",
    "    # with ',' as a seperator, and return the csvreader object\n",
    "    csvreader = csv.reader(csvfile, delimiter=',')\n",
    "    csv_header = next(csvreader)\n",
    "    #print the headers\n",
    "    print(csv_header)\n",
    "    # read each row after the header\n",
    "    for row in csvreader:\n",
    "        #print the row\n",
    "        print(row)\n",
    "        #set the date and profit/losses\n",
    "        date = row[0]\n",
    "        revenue = int(row[1])\n"
   ]
  },
  {
   "cell_type": "code",
   "execution_count": 29,
   "metadata": {
    "tags": []
   },
   "outputs": [
    {
     "output_type": "stream",
     "name": "stdout",
     "text": [
      "Feb-2012\nSep-2013\nFinancial Analysis\n-------------------------------------\nTotal number of invested months: 86 months\nTotal number of invested years: 7.17 years\nTotal number of profitable months: 74 months\nTotal number of losing months: 12 months\nTotal sum of loses: $ -7327426\nTotal sum of profits: $ 45710004\nTotal revenue: $ 38382578\nMonthly Avg: $ 446309.05\nWeekly Avg: $ 111577.26\nDaily Avg: $ 14876.97\nGreatest Increase in Profits: Feb-2012 $ 1170593\nGreatest Decrease in Profits: Sep-2013 $ -1196225\n"
     ]
    }
   ],
   "source": [
    "\n",
    "import csv\n",
    "csvpath = 'budget_data.csv'\n",
    "with open(csvpath, 'r') as revenue_data:\n",
    "    csvreader = csv.reader(revenue_data, delimiter = \",\")\n",
    "    csv_header = next(csvreader)\n",
    "    \n",
    "   \n",
    "    months = []\n",
    "    profit = []\n",
    "    profittotals = 0\n",
    "    losstotals = 0 \n",
    "    loss = []\n",
    "    profits_loses = []\n",
    "    \n",
    "    for row in csv.reader(revenue_data):\n",
    "        months.append(row[0])\n",
    "        profits_loses.append(row[1])\n",
    "    number_of_months=len(months)           \n",
    "    \n",
    "    for values in profits_loses:        \n",
    "        if int(values) > 0:\n",
    "            profit.append(values)\n",
    "            profittotals= profittotals + int(values)\n",
    "        elif int(values) < 0:\n",
    "            loss.append(values)\n",
    "            losstotals=losstotals+int(float(values))\n",
    "\n",
    "    biggest_loss = 0 \n",
    "    biggest_gain = 0\n",
    "    for gain in profits_loses:\n",
    "        if int(gain) > biggest_gain:\n",
    "            biggest_gain = int(gain)\n",
    "        elif int(gain) < biggest_loss:\n",
    "            biggest_loss = int(gain)\n",
    "    index_date_gain= profits_loses.index(str(biggest_gain))\n",
    "    index_date_loss= profits_loses.index(str(biggest_loss))       \n",
    "    revenue=(profittotals + losstotals)\n",
    "    avg = revenue/number_of_months     \n",
    "    print(f'Financial Analysis')\n",
    "    print(f\"-------------------------------------\")    \n",
    "    print(f'Total number of invested months:',   (number_of_months),'months')\n",
    "    print(f'Total number of invested years:',    (round(number_of_months/12,2)),\"years\")\n",
    "    print(f'Total number of profitable months:', len(profit),'months')\n",
    "    print(f'Total number of losing months:',     len(loss),\"months\")\n",
    "    print(f'Total sum of loses: $',   (losstotals))\n",
    "    print(f'Total sum of profits: $', (profittotals))\n",
    "    print(f'Total revenue: $',   (revenue))\n",
    "    print(f'Monthly Avg: $',     round(avg,2))\n",
    "    print(f'Weekly Avg: $',      round(avg/4,2))\n",
    "    print(f'Daily Avg: $',       round(avg/30,2))\n",
    "    print(f\"Greatest Increase in Profits:\" , months[index_date_gain], \"$\", biggest_gain)\n",
    "    print(f\"Greatest Decrease in Profits:\" , months[index_date_loss], \"$\", biggest_loss)"
   ]
  },
  {
   "cell_type": "code",
   "execution_count": null,
   "metadata": {},
   "outputs": [],
   "source": [
    "with open(csvpath, 'r') as revenue_data:\n",
    "    reader = csv.DictReader(revenue_data)\n",
    "    for row in reader:\n",
    "        #print(row[0])\n",
    "FUCK YEAH I GOT THIS WITHOUT USING ONE SINGLE WAY YOU DID\n",
    "#track the totals\n",
    "        total_months=total_months+1\n",
    "      \n",
    "        total_revenue = total_revenue + int(row[\"Profit/Losses\"])  \n",
    "# track the revenue change\n",
    "        revenue_change = int(row[\"Profit/Losses\"]) - prev_revenue\n",
    "        prev_revenue = int(row[\"Profit/Losses\"])\n",
    "        revenue_change_list = revenue_change_list + [revenue_change]\n",
    "        month_of_change = month_of_change + [row[\"Date\"]]\n",
    "# Calculate the greatest increase\n",
    "        if (revenue_change > greatest_increase[1]):\n",
    "            greatest_increase[0] = row[\"Date\"]\n",
    "            greatest_increase[1] = revenue_change\n",
    "\n",
    "# Calculate the greatest decrease\n",
    "        if (revenue_change < greatest_decrease[1]):\n",
    "            greatest_decrease[0] = row[\"Date\"]\n",
    "            greatest_decrease[1] = revenue_change\n",
    "\n",
    "# Calculate the Average Revenue Change\n",
    "revenue_avg = sum(revenue_change_list) / len(revenue_change_list)\n",
    "print(sum(revenue_change_list))\n",
    "print (len(revenue_change_list))\n",
    "# Generate Output Summary\n",
    "output = (f\"\\nFinancial Analysis\\n\"\n",
    "f\"----------------------------\\n\"\n",
    "f\"Total Months: {total_months}\\n\"\n",
    "f\"Total Revenue: ${total_revenue}\\n\"\n",
    "f\"Average Revenue Change: ${revenue_avg}\\n\"\n",
    "f\"Greatest Increase in Revenue: {greatest_increase[0]} (${greatest_increase[1]})\\n\"\n",
    "f\"Greatest Decrease in Revenue: {greatest_decrease[0]} (${greatest_decrease[1]})\\n\")\n",
    "\n",
    "print(output)\n",
    "\n",
    "with open(output_data, \"w\") as txt_file:\n",
    "    txt_file.write(output)\n"
   ]
  },
  {
   "cell_type": "code",
   "execution_count": null,
   "metadata": {},
   "outputs": [],
   "source": [
    "\n"
   ]
  },
  {
   "cell_type": "code",
   "execution_count": null,
   "metadata": {},
   "outputs": [],
   "source": []
  },
  {
   "cell_type": "code",
   "execution_count": null,
   "metadata": {},
   "outputs": [],
   "source": []
  },
  {
   "cell_type": "code",
   "execution_count": null,
   "metadata": {},
   "outputs": [],
   "source": [
    "# Generate Output Summary\n",
    "output = (f\"\\nFinancial Analysis\\n\"\n",
    "f\"----------------------------\\n\"\n",
    "f\"Total Months: {total_months}\\n\"\n",
    "f\"Total Revenue: ${total_revenue}\\n\"\n",
    "f\"Average Revenue Change: ${revenue_avg}\\n\"\n",
    "f\"Greatest Increase in Revenue: {greatest_increase[0]} (${greatest_increase[1]})\\n\"\n",
    "f\"Greatest Decrease in Revenue: {greatest_decrease[0]} (${greatest_decrease[1]})\\n\")\n",
    "\n",
    "print(output)\n",
    "\n",
    "with open(output_data, \"w\") as txt_file:\n",
    "    txt_file.write(output)"
   ]
  }
 ]
}