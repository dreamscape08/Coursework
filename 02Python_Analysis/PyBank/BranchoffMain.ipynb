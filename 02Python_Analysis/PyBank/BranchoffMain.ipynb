{
 "metadata": {
  "language_info": {
   "codemirror_mode": {
    "name": "ipython",
    "version": 3
   },
   "file_extension": ".py",
   "mimetype": "text/x-python",
   "name": "python",
   "nbconvert_exporter": "python",
   "pygments_lexer": "ipython3",
   "version": "3.8.5-final"
  },
  "orig_nbformat": 2,
  "kernelspec": {
   "name": "python3",
   "display_name": "Python 3",
   "language": "python"
  }
 },
 "nbformat": 4,
 "nbformat_minor": 2,
 "cells": [
  {
   "cell_type": "code",
   "execution_count": null,
   "metadata": {},
   "outputs": [],
   "source": [
    "#importing main class Path from pathlib library:\n",
    "# from pathlib import Path\n",
    "# import pandas as pd\n",
    "#Set file path\n",
    "# Pyank_data = Path(\"budget_data.csv\")\n",
    "#Read the CSV into a DataFrame and set the 'date' column as a datetime index\n",
    "# PyBank_df = pd.read_csv(Pybank_data, index_col=\"Date\", infer_datetime_format=True, parse_dates=True)\n",
    "# Pybank_df.sort_index(inplace=True)\n",
    "#Display a few records\n",
    "# Pybank_df.head()\n",
    "#Assiging input and output paths to a variable to call on \n",
    "#input_data = 'budget_data.csv'\n",
    "#output_data = \"budget-analysis-text.txt\"\n",
    "#importing libararies to work with"
   ]
  },
  {
   "cell_type": "code",
   "execution_count": 1,
   "metadata": {
    "tags": []
   },
   "outputs": [
    {
     "output_type": "stream",
     "name": "stdout",
     "text": [
      "Financial Analysis\n-------------------------------------\nTotal number of invested months: 86 months\nTotal number of invested years: 7.17 years\nTotal number of profitable months: 74 months\nTotal number of losing months: 12 months\nTotal sum of loses: $ -7327426\nTotal sum of profits: $ 45710004\nTotal revenue: $ 38382578\nMonthly Avg: $ 446309.05\nWeekly Avg: $ 111577.26\nDaily Avg: $ 14876.97\n"
     ]
    }
   ],
   "source": [
    "\n",
    "import csv\n",
    "csvpath = 'budget_data.csv'\n",
    "with open(csvpath, 'r') as revenue_data:\n",
    "    csvreader = csv.reader(revenue_data, delimiter = \",\")\n",
    "    csv_header = next(csvreader)\n",
    "    \n",
    "   \n",
    "    months = []\n",
    "    profit = []\n",
    "    profittotals = 0\n",
    "    losstotals = 0 \n",
    "    loss = []\n",
    "    Profits_Loses = []\n",
    "    Rtd = 0\n",
    "    mv=[]\n",
    "\n",
    "    for row in csv.reader(revenue_data):\n",
    "        months.append(row[0])\n",
    "        Profits_Loses.append(row[1])\n",
    "        Number_of_months=len(months)           \n",
    "    \n",
    "\n",
    "\n",
    "    #print(Number_of_months)\n",
    "    #print(Profits_Loses)\n",
    "    \n",
    "    for values in Profits_Loses:        \n",
    "        if int(values) > 0:\n",
    "            profit.append(values)\n",
    "            profittotals= profittotals + int(values)\n",
    "        elif int(values) < 0:\n",
    "            loss.append(values)\n",
    "            losstotals=losstotals+int(float(values))\n",
    "            \n",
    "    #print(Rtd)    \n",
    "    revenue=(profittotals + losstotals)\n",
    "    #print(revenue)\n",
    "    avg = revenue/Number_of_months \n",
    "    #min(loss)= loss_amount    round(avg),.2\n",
    "    print(f'Financial Analysis')\n",
    "    print(f\"-------------------------------------\")    \n",
    "    print(f'Total number of invested months:',(Number_of_months),'months')\n",
    "    print(f'Total number of invested years:',(round(Number_of_months/12,2)),\"years\")\n",
    "    print(f'Total number of profitable months:',len(profit),'months')\n",
    "    print(f'Total number of losing months:', len(loss),\"months\")\n",
    "    print(f'Total sum of loses: $', (losstotals))\n",
    "    print(f'Total sum of profits: $', (profittotals))\n",
    "    print(f'Total revenue: $',(revenue))\n",
    "    print(f'Monthly Avg: $', round(avg,2))\n",
    "    print(f'Weekly Avg: $', round(avg/4,2))\n",
    "    print(f'Daily Avg: $', round(avg/30,2))\n",
    "\n",
    "#i remeber you showing someone that -1 numbers were first plus i found a few lines online that make sense and i will use more so\n",
    "\n"
   ]
  },
  {
   "source": [
    "    list=(profit)\n",
    "    biggest_gain = \"\"\n",
    "    for gain in list:\n",
    "        if int(gain) > int(biggest_gain):\n",
    "            biggest_gain = gain  \n",
    "    print(biggest_gain)\n",
    "    for totals in Profits_Loses:\n",
    "        [Profits_Loses].index(biggest_gain)\n",
    "          list=(Profits_Loses)\n",
    "    biggest_gain = 0\n",
    "    for gain in list:\n",
    "        if int(float(gain)) > int(biggest_gain):\n",
    "            biggest_gain = int(float(gain))  \n",
    "    print(biggest_gain)\n",
    "    for int(float(totals))in Profits_Loses:\n",
    "        [Profits_Loses].index(int(biggest_gain))"
   ],
   "cell_type": "code",
   "metadata": {},
   "execution_count": null,
   "outputs": []
  },
  {
   "cell_type": "code",
   "execution_count": null,
   "metadata": {},
   "outputs": [],
   "source": [
    "print"
   ]
  },
  {
   "cell_type": "code",
   "execution_count": null,
   "metadata": {},
   "outputs": [],
   "source": []
  },
  {
   "cell_type": "code",
   "execution_count": null,
   "metadata": {},
   "outputs": [],
   "source": [
    "with open(csvpath, 'r') as revenue_data:\n",
    "    reader = csv.DictReader(revenue_data)\n",
    "    for row in reader:\n",
    "        #print(row[0])\n",
    "\n",
    "#track the totals\n",
    "        total_months=total_months+1\n",
    "      \n",
    "        total_revenue = total_revenue + int(row[\"Profit/Losses\"])  \n",
    "# track the revenue change\n",
    "        revenue_change = int(row[\"Profit/Losses\"]) - prev_revenue\n",
    "        prev_revenue = int(row[\"Profit/Losses\"])\n",
    "        revenue_change_list = revenue_change_list + [revenue_change]\n",
    "        month_of_change = month_of_change + [row[\"Date\"]]\n",
    "# Calculate the greatest increase\n",
    "        if (revenue_change > greatest_increase[1]):\n",
    "            greatest_increase[0] = row[\"Date\"]\n",
    "            greatest_increase[1] = revenue_change\n",
    "\n",
    "# Calculate the greatest decrease\n",
    "        if (revenue_change < greatest_decrease[1]):\n",
    "            greatest_decrease[0] = row[\"Date\"]\n",
    "            greatest_decrease[1] = revenue_change\n",
    "\n",
    "# Calculate the Average Revenue Change\n",
    "revenue_avg = sum(revenue_change_list) / len(revenue_change_list)\n",
    "print(sum(revenue_change_list))\n",
    "print (len(revenue_change_list))\n",
    "# Generate Output Summary\n",
    "output = (f\"\\nFinancial Analysis\\n\"\n",
    "f\"----------------------------\\n\"\n",
    "f\"Total Months: {total_months}\\n\"\n",
    "f\"Total Revenue: ${total_revenue}\\n\"\n",
    "f\"Average Revenue Change: ${revenue_avg}\\n\"\n",
    "f\"Greatest Increase in Revenue: {greatest_increase[0]} (${greatest_increase[1]})\\n\"\n",
    "f\"Greatest Decrease in Revenue: {greatest_decrease[0]} (${greatest_decrease[1]})\\n\")\n",
    "\n",
    "print(output)\n",
    "\n",
    "with open(output_data, \"w\") as txt_file:\n",
    "    txt_file.write(output)\n"
   ]
  },
  {
   "source": [
    "#**The total number of months included in the dataset.**Total_months is first variable\n",
    "#**The net total amount of Profit/Losses over the entire period.**\n",
    "#**The average of the changes in Profit/Losses over the entire period.**\n",
    "#**The greatest increase in profits (date and amount) over the entire period.**\n",
    "#**The greatest decrease in losses (date and amount) over the entire period.**\n",
    "#Your resulting analysis should look similar to the following:\n",
    "print(\"Financial Analysis\")\n",
    "print(\"----------------------------\")\n",
    "print(\"Total Months: 86\")\n",
    "print(\"Total: $38382578\")\n",
    "print(\"Average Change: $-2315.12\")\n",
    "print(\"Greatest Increase in Profits: Feb-2012 ($1926159)\")\n",
    "print(\"Greatest Decrease in Profits: Sep-2013 ($-2196167)\")"
   ],
   "cell_type": "code",
   "metadata": {},
   "execution_count": null,
   "outputs": []
  },
  {
   "cell_type": "code",
   "execution_count": null,
   "metadata": {},
   "outputs": [],
   "source": [
    "\n"
   ]
  },
  {
   "cell_type": "code",
   "execution_count": null,
   "metadata": {},
   "outputs": [],
   "source": []
  },
  {
   "cell_type": "code",
   "execution_count": null,
   "metadata": {},
   "outputs": [],
   "source": []
  },
  {
   "cell_type": "code",
   "execution_count": null,
   "metadata": {},
   "outputs": [],
   "source": []
  }
 ]
}