{
 "metadata": {
  "language_info": {
   "codemirror_mode": {
    "name": "ipython",
    "version": 3
   },
   "file_extension": ".py",
   "mimetype": "text/x-python",
   "name": "python",
   "nbconvert_exporter": "python",
   "pygments_lexer": "ipython3",
   "version": "3.8.5-final"
  },
  "orig_nbformat": 2,
  "kernelspec": {
   "name": "python3",
   "display_name": "Python 3",
   "language": "python"
  }
 },
 "nbformat": 4,
 "nbformat_minor": 2,
 "cells": [
  {
   "cell_type": "code",
   "execution_count": 33,
   "metadata": {
    "tags": []
   },
   "outputs": [
    {
     "output_type": "stream",
     "name": "stdout",
     "text": [
      "Financial Analysis\n-------------------------------------\nTotal number of invested months: 86 months\nTotal number of invested years: 7.17 years\nTotal number of profitable months: 74 months\nTotal number of losing months: 12 months\nTotal sum of loses: $ -7327426\nTotal sum of profits: $ 45710004\nTotal revenue: $ 38382578\nMonthly Avg: $ 446309.05\nWeekly Avg: $ 111577.26\nDaily Avg: $ 14876.97\nGreatest Increase in Profits: Feb-2012 ($ 1170593 )\nGreatest Decrease in Profits: Sep-2013 ($ -1196225 )\n"
     ]
    }
   ],
   "source": [
    "\n",
    "import csv\n",
    "csvpath = 'budget_data.csv'\n",
    "with open(csvpath, 'r') as revenue_data:\n",
    "    csvreader = csv.reader(revenue_data, delimiter = \",\")\n",
    "    csv_header = next(csvreader)    \n",
    "   \n",
    "    months = []\n",
    "    profit = []\n",
    "    profittotals = 0\n",
    "    losstotals = 0 \n",
    "    loss = []\n",
    "    profits_loses = []\n",
    "    \n",
    "    for row in csv.reader(revenue_data):\n",
    "        months.append(row[0])\n",
    "        profits_loses.append(row[1])\n",
    "    number_of_months=len(months)           \n",
    "    \n",
    "    for values in profits_loses:        \n",
    "        if int(values) > 0:\n",
    "            profit.append(values)\n",
    "            profittotals= profittotals + int(values)\n",
    "        elif int(values) < 0:\n",
    "            loss.append(values)\n",
    "            losstotals=losstotals+int(float(values))\n",
    "\n",
    "    biggest_loss = 0 \n",
    "    biggest_gain = 0\n",
    "    for gain in profits_loses:\n",
    "        if int(gain) > biggest_gain:\n",
    "            biggest_gain = int(gain)\n",
    "        elif int(gain) < biggest_loss:\n",
    "            biggest_loss = int(gain)\n",
    "    index_date_gain= profits_loses.index(str(biggest_gain))\n",
    "    index_date_loss= profits_loses.index(str(biggest_loss))       \n",
    "    revenue=(profittotals + losstotals)\n",
    "    avg = revenue/number_of_months     \n",
    "    print(f'Financial Analysis')\n",
    "    print(f\"-------------------------------------\")    \n",
    "    print(f'Total number of invested months:',   (number_of_months),'months')\n",
    "    print(f'Total number of invested years:',    (round(number_of_months/12,2)),\"years\")\n",
    "    print(f'Total number of profitable months:', len(profit),'months')\n",
    "    print(f'Total number of losing months:',     len(loss),\"months\")\n",
    "    print(f'Total sum of loses: $',   (losstotals))\n",
    "    print(f'Total sum of profits: $', (profittotals))\n",
    "    print(f'Total revenue: $',   (revenue))\n",
    "    print(f'Monthly Avg: $',     round(avg,2))\n",
    "    print(f'Weekly Avg: $',      round(avg/4,2))\n",
    "    print(f'Daily Avg: $',       round(avg/30,2))\n",
    "    print(f\"Greatest Increase in Profits:\" , months[index_date_gain], \"($\", biggest_gain,\")\")\n",
    "    print(f\"Greatest Decrease in Profits:\" , months[index_date_loss], \"($\", biggest_loss,\")\")"
   ]
  },
  {
   "cell_type": "code",
   "execution_count": null,
   "metadata": {},
   "outputs": [],
   "source": [
    "\n"
   ]
  },
  {
   "cell_type": "code",
   "execution_count": null,
   "metadata": {},
   "outputs": [],
   "source": []
  },
  {
   "cell_type": "code",
   "execution_count": null,
   "metadata": {},
   "outputs": [],
   "source": []
  },
  {
   "cell_type": "code",
   "execution_count": null,
   "metadata": {},
   "outputs": [],
   "source": [
    "# Generate Output Summary\n",
    "output = (f\"\\nFinancial Analysis\\n\"\n",
    "f\"----------------------------\\n\"\n",
    "f\"Total Months: {total_months}\\n\"\n",
    "f\"Total Revenue: ${total_revenue}\\n\"\n",
    "f\"Average Revenue Change: ${revenue_avg}\\n\"\n",
    "f\"Greatest Increase in Revenue: {greatest_increase[0]} (${greatest_increase[1]})\\n\"\n",
    "f\"Greatest Decrease in Revenue: {greatest_decrease[0]} (${greatest_decrease[1]})\\n\")\n",
    "\n",
    "print(output)\n",
    "\n",
    "with open(output_data, \"w\") as txt_file:\n",
    "    txt_file.write(output)"
   ]
  }
 ]
}