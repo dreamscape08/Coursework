{
 "metadata": {
  "language_info": {
   "codemirror_mode": {
    "name": "ipython",
    "version": 3
   },
   "file_extension": ".py",
   "mimetype": "text/x-python",
   "name": "python",
   "nbconvert_exporter": "python",
   "pygments_lexer": "ipython3",
   "version": "3.8.5-final"
  },
  "orig_nbformat": 2,
  "kernelspec": {
   "name": "python3",
   "display_name": "Python 3",
   "language": "python"
  }
 },
 "nbformat": 4,
 "nbformat_minor": 2,
 "cells": [
  {
   "cell_type": "code",
   "execution_count": 64,
   "metadata": {},
   "outputs": [],
   "source": [
    "#importing main class Path from pathlib library:\n",
    "# from pathlib import Path\n",
    "# import pandas as pd\n",
    "#Set file path\n",
    "# Pyank_data = Path(\"budget_data.csv\")\n",
    "#Read the CSV into a DataFrame and set the 'date' column as a datetime index\n",
    "# PyBank_df = pd.read_csv(Pybank_data, index_col=\"Date\", infer_datetime_format=True, parse_dates=True)\n",
    "# Pybank_df.sort_index(inplace=True)\n",
    "#Display a few records\n",
    "# Pybank_df.head()\n",
    "\n",
    "#importing libararies to work with\n",
    "import csv\n",
    "#Assiging input and output paths to a variable to call on \n",
    "input_data = 'budget_data.csv'\n",
    "output_data = \"budget-analysis-text.txt\"\n"
   ]
  },
  {
   "cell_type": "code",
   "execution_count": 65,
   "metadata": {},
   "outputs": [],
   "source": [
    "#crafting metrics\n",
    "# assinging the variable a starting value\n",
    "# creating and assigning names to lists to hold variables in \n",
    "total_months=0\n",
    "prev_revenue=0\n",
    "month_of_change=[]\n",
    "revenue_change_list=[]\n",
    "greatest_increase = [\"\", 0]\n",
    "greatest_decrease = [\"\", 9999999999999999999]\n",
    "total_revenue = 0\n",
    "# Avereage Change = (greatest_increase - greatest_decreast) / total_months [rounded to 2 decimal places]"
   ]
  },
  {
   "cell_type": "code",
   "execution_count": 66,
   "metadata": {},
   "outputs": [
    {
     "output_type": "stream",
     "name": "stdout",
     "text": [
      "671099\n86\n\nFinancial Analysis\n----------------------------\nTotal Months: 86\nTotal Revenue: $38382578\nAverage Revenue Change: $7803.476744186047\nGreatest Increase in Revenue: Feb-2012 ($1926159)\nGreatest Decrease in Revenue:Sep-2013 ($-2196167)\n\n"
     ]
    }
   ],
   "source": [
    "with open(input_data) as revenue_data:\n",
    "    reader = csv.DictReader(revenue_data)\n",
    "\n",
    "    for row in reader:\n",
    "\n",
    "#track the totals\n",
    "        total_months=total_months+1\n",
    "      \n",
    "        total_revenue = total_revenue + int(row[\"Profit/Losses\"])  \n",
    "# track the revenue change\n",
    "        revenue_change = int(row[\"Profit/Losses\"]) - prev_revenue\n",
    "        prev_revenue = int(row[\"Profit/Losses\"])\n",
    "        revenue_change_list = revenue_change_list + [revenue_change]\n",
    "        month_of_change = month_of_change + [row[\"Date\"]]\n",
    "# Calculate the greatest increase\n",
    "        if (revenue_change > greatest_increase[1]):\n",
    "            greatest_increase[0] = row[\"Date\"]\n",
    "            greatest_increase[1] = revenue_change\n",
    "\n",
    "# Calculate the greatest decrease\n",
    "        if (revenue_change < greatest_decrease[1]):\n",
    "            greatest_decrease[0] = row[\"Date\"]\n",
    "            greatest_decrease[1] = revenue_change\n",
    "\n",
    "# Calculate the Average Revenue Change\n",
    "revenue_avg = sum(revenue_change_list) / len(revenue_change_list)\n",
    "print(sum(revenue_change_list))\n",
    "print (len(revenue_change_list))\n",
    "# Generate Output Summary\n",
    "output = (f\"\\nFinancial Analysis\\n\"\n",
    "f\"----------------------------\\n\"\n",
    "f\"Total Months: {total_months}\\n\"\n",
    "f\"Total Revenue: ${total_revenue}\\n\"\n",
    "f\"Average Revenue Change: ${revenue_avg}\\n\"\n",
    "f\"Greatest Increase in Revenue: {greatest_increase[0]} (${greatest_increase[1]})\\n\"\n",
    "f\"Greatest Decrease in Revenue: {greatest_decrease[0]} (${greatest_decrease[1]})\\n\")\n",
    "\n",
    "print(output)\n",
    "\n",
    "with open(output_data, \"w\") as txt_file:\n",
    "    txt_file.write(output)\n"
   ]
  },
  {
   "source": [
    "#**The total number of months included in the dataset.**Total_months is first variable\n",
    "#**The net total amount of Profit/Losses over the entire period.**\n",
    "#**The average of the changes in Profit/Losses over the entire period.**\n",
    "#**The greatest increase in profits (date and amount) over the entire period.**\n",
    "#**The greatest decrease in losses (date and amount) over the entire period.**\n",
    "#Your resulting analysis should look similar to the following:\n",
    "print(\"Financial Analysis\")\n",
    "print(\"----------------------------\")\n",
    "print(\"Total Months: 86\")\n",
    "print(\"Total: $38382578\")\n",
    "print(\"Average Change: $-2315.12\")\n",
    "print(\"Greatest Increase in Profits: Feb-2012 ($1926159)\")\n",
    "print(\"Greatest Decrease in Profits: Sep-2013 ($-2196167)\")"
   ],
   "cell_type": "code",
   "metadata": {},
   "execution_count": 67,
   "outputs": [
    {
     "output_type": "stream",
     "name": "stdout",
     "text": [
      "Financial Analysis\n----------------------------\nTotal Months: 86\nTotal: $38382578\nAverage Change: $-2315.12\nGreatest Increase in Profits: Feb-2012 ($1926159)\nGreatest Decrease in Profits: Sep-2013 ($-2196167)\n"
     ]
    }
   ]
  },
  {
   "cell_type": "code",
   "execution_count": null,
   "metadata": {},
   "outputs": [],
   "source": [
    "# open file in read mode and storing contents as variable \"X\"\n",
    "with open(csvpath, 'r') as csvfile:\n",
    "    csvreader = csv.reader(csvfile, delimiter=',')\n",
    "    csv_header = next(csvreader)\n",
    "    print(csv_header)\n",
    "    for row in csvreader:\n",
    "       months = row[0]\n",
    "       profit_losses = int(row[1])\n",
    "  \n",
    "\n"
   ]
  },
  {
   "cell_type": "code",
   "execution_count": null,
   "metadata": {},
   "outputs": [],
   "source": []
  },
  {
   "cell_type": "code",
   "execution_count": null,
   "metadata": {},
   "outputs": [],
   "source": []
  },
  {
   "cell_type": "code",
   "execution_count": null,
   "metadata": {},
   "outputs": [],
   "source": []
  }
 ]
}